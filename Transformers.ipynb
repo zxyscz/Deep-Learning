{
  "nbformat": 4,
  "nbformat_minor": 0,
  "metadata": {
    "colab": {
      "name": "Transformers.ipynb",
      "provenance": [],
      "machine_shape": "hm",
      "authorship_tag": "ABX9TyPfp5is3fg5T+Qp0E6KCNKE",
      "include_colab_link": true
    },
    "kernelspec": {
      "name": "python3",
      "display_name": "Python 3"
    },
    "accelerator": "GPU",
    "widgets": {
      "application/vnd.jupyter.widget-state+json": {
        "ac922636d36a407f9f235811c91943f9": {
          "model_module": "@jupyter-widgets/controls",
          "model_name": "HBoxModel",
          "state": {
            "_view_name": "HBoxView",
            "_dom_classes": [],
            "_model_name": "HBoxModel",
            "_view_module": "@jupyter-widgets/controls",
            "_model_module_version": "1.5.0",
            "_view_count": null,
            "_view_module_version": "1.5.0",
            "box_style": "",
            "layout": "IPY_MODEL_bed329d2c57243149e071b0a90abe2a0",
            "_model_module": "@jupyter-widgets/controls",
            "children": [
              "IPY_MODEL_c3322936259048e5b6e8fc2204a1860b",
              "IPY_MODEL_defecbfdafa640f79daf0272a40dbf89"
            ]
          }
        },
        "bed329d2c57243149e071b0a90abe2a0": {
          "model_module": "@jupyter-widgets/base",
          "model_name": "LayoutModel",
          "state": {
            "_view_name": "LayoutView",
            "grid_template_rows": null,
            "right": null,
            "justify_content": null,
            "_view_module": "@jupyter-widgets/base",
            "overflow": null,
            "_model_module_version": "1.2.0",
            "_view_count": null,
            "flex_flow": null,
            "width": null,
            "min_width": null,
            "border": null,
            "align_items": null,
            "bottom": null,
            "_model_module": "@jupyter-widgets/base",
            "top": null,
            "grid_column": null,
            "overflow_y": null,
            "overflow_x": null,
            "grid_auto_flow": null,
            "grid_area": null,
            "grid_template_columns": null,
            "flex": null,
            "_model_name": "LayoutModel",
            "justify_items": null,
            "grid_row": null,
            "max_height": null,
            "align_content": null,
            "visibility": null,
            "align_self": null,
            "height": null,
            "min_height": null,
            "padding": null,
            "grid_auto_rows": null,
            "grid_gap": null,
            "max_width": null,
            "order": null,
            "_view_module_version": "1.2.0",
            "grid_template_areas": null,
            "object_position": null,
            "object_fit": null,
            "grid_auto_columns": null,
            "margin": null,
            "display": null,
            "left": null
          }
        },
        "c3322936259048e5b6e8fc2204a1860b": {
          "model_module": "@jupyter-widgets/controls",
          "model_name": "FloatProgressModel",
          "state": {
            "_view_name": "ProgressView",
            "style": "IPY_MODEL_981fb4500192482baa91094b01a0f86f",
            "_dom_classes": [],
            "description": "Downloading: 100%",
            "_model_name": "FloatProgressModel",
            "bar_style": "success",
            "max": 629,
            "_view_module": "@jupyter-widgets/controls",
            "_model_module_version": "1.5.0",
            "value": 629,
            "_view_count": null,
            "_view_module_version": "1.5.0",
            "orientation": "horizontal",
            "min": 0,
            "description_tooltip": null,
            "_model_module": "@jupyter-widgets/controls",
            "layout": "IPY_MODEL_a9383d20368442ea91cbb0f9ec42342f"
          }
        },
        "defecbfdafa640f79daf0272a40dbf89": {
          "model_module": "@jupyter-widgets/controls",
          "model_name": "HTMLModel",
          "state": {
            "_view_name": "HTMLView",
            "style": "IPY_MODEL_8b0e2ef0a1504557908280315fb395e0",
            "_dom_classes": [],
            "description": "",
            "_model_name": "HTMLModel",
            "placeholder": "​",
            "_view_module": "@jupyter-widgets/controls",
            "_model_module_version": "1.5.0",
            "value": " 629/629 [00:07&lt;00:00, 87.3B/s]",
            "_view_count": null,
            "_view_module_version": "1.5.0",
            "description_tooltip": null,
            "_model_module": "@jupyter-widgets/controls",
            "layout": "IPY_MODEL_3963a02acfa949dfb6d61d46d972fa33"
          }
        },
        "981fb4500192482baa91094b01a0f86f": {
          "model_module": "@jupyter-widgets/controls",
          "model_name": "ProgressStyleModel",
          "state": {
            "_view_name": "StyleView",
            "_model_name": "ProgressStyleModel",
            "description_width": "initial",
            "_view_module": "@jupyter-widgets/base",
            "_model_module_version": "1.5.0",
            "_view_count": null,
            "_view_module_version": "1.2.0",
            "bar_color": null,
            "_model_module": "@jupyter-widgets/controls"
          }
        },
        "a9383d20368442ea91cbb0f9ec42342f": {
          "model_module": "@jupyter-widgets/base",
          "model_name": "LayoutModel",
          "state": {
            "_view_name": "LayoutView",
            "grid_template_rows": null,
            "right": null,
            "justify_content": null,
            "_view_module": "@jupyter-widgets/base",
            "overflow": null,
            "_model_module_version": "1.2.0",
            "_view_count": null,
            "flex_flow": null,
            "width": null,
            "min_width": null,
            "border": null,
            "align_items": null,
            "bottom": null,
            "_model_module": "@jupyter-widgets/base",
            "top": null,
            "grid_column": null,
            "overflow_y": null,
            "overflow_x": null,
            "grid_auto_flow": null,
            "grid_area": null,
            "grid_template_columns": null,
            "flex": null,
            "_model_name": "LayoutModel",
            "justify_items": null,
            "grid_row": null,
            "max_height": null,
            "align_content": null,
            "visibility": null,
            "align_self": null,
            "height": null,
            "min_height": null,
            "padding": null,
            "grid_auto_rows": null,
            "grid_gap": null,
            "max_width": null,
            "order": null,
            "_view_module_version": "1.2.0",
            "grid_template_areas": null,
            "object_position": null,
            "object_fit": null,
            "grid_auto_columns": null,
            "margin": null,
            "display": null,
            "left": null
          }
        },
        "8b0e2ef0a1504557908280315fb395e0": {
          "model_module": "@jupyter-widgets/controls",
          "model_name": "DescriptionStyleModel",
          "state": {
            "_view_name": "StyleView",
            "_model_name": "DescriptionStyleModel",
            "description_width": "",
            "_view_module": "@jupyter-widgets/base",
            "_model_module_version": "1.5.0",
            "_view_count": null,
            "_view_module_version": "1.2.0",
            "_model_module": "@jupyter-widgets/controls"
          }
        },
        "3963a02acfa949dfb6d61d46d972fa33": {
          "model_module": "@jupyter-widgets/base",
          "model_name": "LayoutModel",
          "state": {
            "_view_name": "LayoutView",
            "grid_template_rows": null,
            "right": null,
            "justify_content": null,
            "_view_module": "@jupyter-widgets/base",
            "overflow": null,
            "_model_module_version": "1.2.0",
            "_view_count": null,
            "flex_flow": null,
            "width": null,
            "min_width": null,
            "border": null,
            "align_items": null,
            "bottom": null,
            "_model_module": "@jupyter-widgets/base",
            "top": null,
            "grid_column": null,
            "overflow_y": null,
            "overflow_x": null,
            "grid_auto_flow": null,
            "grid_area": null,
            "grid_template_columns": null,
            "flex": null,
            "_model_name": "LayoutModel",
            "justify_items": null,
            "grid_row": null,
            "max_height": null,
            "align_content": null,
            "visibility": null,
            "align_self": null,
            "height": null,
            "min_height": null,
            "padding": null,
            "grid_auto_rows": null,
            "grid_gap": null,
            "max_width": null,
            "order": null,
            "_view_module_version": "1.2.0",
            "grid_template_areas": null,
            "object_position": null,
            "object_fit": null,
            "grid_auto_columns": null,
            "margin": null,
            "display": null,
            "left": null
          }
        },
        "f4e1d3b8dc5f4a58aeeb26c02f0fe4c0": {
          "model_module": "@jupyter-widgets/controls",
          "model_name": "HBoxModel",
          "state": {
            "_view_name": "HBoxView",
            "_dom_classes": [],
            "_model_name": "HBoxModel",
            "_view_module": "@jupyter-widgets/controls",
            "_model_module_version": "1.5.0",
            "_view_count": null,
            "_view_module_version": "1.5.0",
            "box_style": "",
            "layout": "IPY_MODEL_51c3815993534cc0a11d3c2092b283a8",
            "_model_module": "@jupyter-widgets/controls",
            "children": [
              "IPY_MODEL_a1ecb053e1ce473e9671266eb7496cc8",
              "IPY_MODEL_fda7a8a54e0e4ec996f17ce878612d8c"
            ]
          }
        },
        "51c3815993534cc0a11d3c2092b283a8": {
          "model_module": "@jupyter-widgets/base",
          "model_name": "LayoutModel",
          "state": {
            "_view_name": "LayoutView",
            "grid_template_rows": null,
            "right": null,
            "justify_content": null,
            "_view_module": "@jupyter-widgets/base",
            "overflow": null,
            "_model_module_version": "1.2.0",
            "_view_count": null,
            "flex_flow": null,
            "width": null,
            "min_width": null,
            "border": null,
            "align_items": null,
            "bottom": null,
            "_model_module": "@jupyter-widgets/base",
            "top": null,
            "grid_column": null,
            "overflow_y": null,
            "overflow_x": null,
            "grid_auto_flow": null,
            "grid_area": null,
            "grid_template_columns": null,
            "flex": null,
            "_model_name": "LayoutModel",
            "justify_items": null,
            "grid_row": null,
            "max_height": null,
            "align_content": null,
            "visibility": null,
            "align_self": null,
            "height": null,
            "min_height": null,
            "padding": null,
            "grid_auto_rows": null,
            "grid_gap": null,
            "max_width": null,
            "order": null,
            "_view_module_version": "1.2.0",
            "grid_template_areas": null,
            "object_position": null,
            "object_fit": null,
            "grid_auto_columns": null,
            "margin": null,
            "display": null,
            "left": null
          }
        },
        "a1ecb053e1ce473e9671266eb7496cc8": {
          "model_module": "@jupyter-widgets/controls",
          "model_name": "FloatProgressModel",
          "state": {
            "_view_name": "ProgressView",
            "style": "IPY_MODEL_143255095fc142ae995e75ed77c239c2",
            "_dom_classes": [],
            "description": "Downloading: 100%",
            "_model_name": "FloatProgressModel",
            "bar_style": "success",
            "max": 267844284,
            "_view_module": "@jupyter-widgets/controls",
            "_model_module_version": "1.5.0",
            "value": 267844284,
            "_view_count": null,
            "_view_module_version": "1.5.0",
            "orientation": "horizontal",
            "min": 0,
            "description_tooltip": null,
            "_model_module": "@jupyter-widgets/controls",
            "layout": "IPY_MODEL_254e0648e3d547e7a14de11ed07c4b24"
          }
        },
        "fda7a8a54e0e4ec996f17ce878612d8c": {
          "model_module": "@jupyter-widgets/controls",
          "model_name": "HTMLModel",
          "state": {
            "_view_name": "HTMLView",
            "style": "IPY_MODEL_f561b5279b1a4ce2989534698676e20f",
            "_dom_classes": [],
            "description": "",
            "_model_name": "HTMLModel",
            "placeholder": "​",
            "_view_module": "@jupyter-widgets/controls",
            "_model_module_version": "1.5.0",
            "value": " 268M/268M [00:06&lt;00:00, 39.2MB/s]",
            "_view_count": null,
            "_view_module_version": "1.5.0",
            "description_tooltip": null,
            "_model_module": "@jupyter-widgets/controls",
            "layout": "IPY_MODEL_987555eba83a4569b281b8dbd48d610f"
          }
        },
        "143255095fc142ae995e75ed77c239c2": {
          "model_module": "@jupyter-widgets/controls",
          "model_name": "ProgressStyleModel",
          "state": {
            "_view_name": "StyleView",
            "_model_name": "ProgressStyleModel",
            "description_width": "initial",
            "_view_module": "@jupyter-widgets/base",
            "_model_module_version": "1.5.0",
            "_view_count": null,
            "_view_module_version": "1.2.0",
            "bar_color": null,
            "_model_module": "@jupyter-widgets/controls"
          }
        },
        "254e0648e3d547e7a14de11ed07c4b24": {
          "model_module": "@jupyter-widgets/base",
          "model_name": "LayoutModel",
          "state": {
            "_view_name": "LayoutView",
            "grid_template_rows": null,
            "right": null,
            "justify_content": null,
            "_view_module": "@jupyter-widgets/base",
            "overflow": null,
            "_model_module_version": "1.2.0",
            "_view_count": null,
            "flex_flow": null,
            "width": null,
            "min_width": null,
            "border": null,
            "align_items": null,
            "bottom": null,
            "_model_module": "@jupyter-widgets/base",
            "top": null,
            "grid_column": null,
            "overflow_y": null,
            "overflow_x": null,
            "grid_auto_flow": null,
            "grid_area": null,
            "grid_template_columns": null,
            "flex": null,
            "_model_name": "LayoutModel",
            "justify_items": null,
            "grid_row": null,
            "max_height": null,
            "align_content": null,
            "visibility": null,
            "align_self": null,
            "height": null,
            "min_height": null,
            "padding": null,
            "grid_auto_rows": null,
            "grid_gap": null,
            "max_width": null,
            "order": null,
            "_view_module_version": "1.2.0",
            "grid_template_areas": null,
            "object_position": null,
            "object_fit": null,
            "grid_auto_columns": null,
            "margin": null,
            "display": null,
            "left": null
          }
        },
        "f561b5279b1a4ce2989534698676e20f": {
          "model_module": "@jupyter-widgets/controls",
          "model_name": "DescriptionStyleModel",
          "state": {
            "_view_name": "StyleView",
            "_model_name": "DescriptionStyleModel",
            "description_width": "",
            "_view_module": "@jupyter-widgets/base",
            "_model_module_version": "1.5.0",
            "_view_count": null,
            "_view_module_version": "1.2.0",
            "_model_module": "@jupyter-widgets/controls"
          }
        },
        "987555eba83a4569b281b8dbd48d610f": {
          "model_module": "@jupyter-widgets/base",
          "model_name": "LayoutModel",
          "state": {
            "_view_name": "LayoutView",
            "grid_template_rows": null,
            "right": null,
            "justify_content": null,
            "_view_module": "@jupyter-widgets/base",
            "overflow": null,
            "_model_module_version": "1.2.0",
            "_view_count": null,
            "flex_flow": null,
            "width": null,
            "min_width": null,
            "border": null,
            "align_items": null,
            "bottom": null,
            "_model_module": "@jupyter-widgets/base",
            "top": null,
            "grid_column": null,
            "overflow_y": null,
            "overflow_x": null,
            "grid_auto_flow": null,
            "grid_area": null,
            "grid_template_columns": null,
            "flex": null,
            "_model_name": "LayoutModel",
            "justify_items": null,
            "grid_row": null,
            "max_height": null,
            "align_content": null,
            "visibility": null,
            "align_self": null,
            "height": null,
            "min_height": null,
            "padding": null,
            "grid_auto_rows": null,
            "grid_gap": null,
            "max_width": null,
            "order": null,
            "_view_module_version": "1.2.0",
            "grid_template_areas": null,
            "object_position": null,
            "object_fit": null,
            "grid_auto_columns": null,
            "margin": null,
            "display": null,
            "left": null
          }
        },
        "11cd53724e4d4c6586b2e2c65af75fb8": {
          "model_module": "@jupyter-widgets/controls",
          "model_name": "HBoxModel",
          "state": {
            "_view_name": "HBoxView",
            "_dom_classes": [],
            "_model_name": "HBoxModel",
            "_view_module": "@jupyter-widgets/controls",
            "_model_module_version": "1.5.0",
            "_view_count": null,
            "_view_module_version": "1.5.0",
            "box_style": "",
            "layout": "IPY_MODEL_ba7b03669e554c5286a245fb5b0fcffa",
            "_model_module": "@jupyter-widgets/controls",
            "children": [
              "IPY_MODEL_c1f9438993e84991a4a478bbfa90849b",
              "IPY_MODEL_00975e2bde524230be290556f8b8e6fe"
            ]
          }
        },
        "ba7b03669e554c5286a245fb5b0fcffa": {
          "model_module": "@jupyter-widgets/base",
          "model_name": "LayoutModel",
          "state": {
            "_view_name": "LayoutView",
            "grid_template_rows": null,
            "right": null,
            "justify_content": null,
            "_view_module": "@jupyter-widgets/base",
            "overflow": null,
            "_model_module_version": "1.2.0",
            "_view_count": null,
            "flex_flow": null,
            "width": null,
            "min_width": null,
            "border": null,
            "align_items": null,
            "bottom": null,
            "_model_module": "@jupyter-widgets/base",
            "top": null,
            "grid_column": null,
            "overflow_y": null,
            "overflow_x": null,
            "grid_auto_flow": null,
            "grid_area": null,
            "grid_template_columns": null,
            "flex": null,
            "_model_name": "LayoutModel",
            "justify_items": null,
            "grid_row": null,
            "max_height": null,
            "align_content": null,
            "visibility": null,
            "align_self": null,
            "height": null,
            "min_height": null,
            "padding": null,
            "grid_auto_rows": null,
            "grid_gap": null,
            "max_width": null,
            "order": null,
            "_view_module_version": "1.2.0",
            "grid_template_areas": null,
            "object_position": null,
            "object_fit": null,
            "grid_auto_columns": null,
            "margin": null,
            "display": null,
            "left": null
          }
        },
        "c1f9438993e84991a4a478bbfa90849b": {
          "model_module": "@jupyter-widgets/controls",
          "model_name": "FloatProgressModel",
          "state": {
            "_view_name": "ProgressView",
            "style": "IPY_MODEL_5f17873f6b7749ad9ceeb8d45a63fa75",
            "_dom_classes": [],
            "description": "Downloading: 100%",
            "_model_name": "FloatProgressModel",
            "bar_style": "success",
            "max": 231508,
            "_view_module": "@jupyter-widgets/controls",
            "_model_module_version": "1.5.0",
            "value": 231508,
            "_view_count": null,
            "_view_module_version": "1.5.0",
            "orientation": "horizontal",
            "min": 0,
            "description_tooltip": null,
            "_model_module": "@jupyter-widgets/controls",
            "layout": "IPY_MODEL_53a0dca5afaf4baba602a1da4991074d"
          }
        },
        "00975e2bde524230be290556f8b8e6fe": {
          "model_module": "@jupyter-widgets/controls",
          "model_name": "HTMLModel",
          "state": {
            "_view_name": "HTMLView",
            "style": "IPY_MODEL_d5f6a29ababe40379dc91201f6004b69",
            "_dom_classes": [],
            "description": "",
            "_model_name": "HTMLModel",
            "placeholder": "​",
            "_view_module": "@jupyter-widgets/controls",
            "_model_module_version": "1.5.0",
            "value": " 232k/232k [00:01&lt;00:00, 162kB/s]",
            "_view_count": null,
            "_view_module_version": "1.5.0",
            "description_tooltip": null,
            "_model_module": "@jupyter-widgets/controls",
            "layout": "IPY_MODEL_84bb9bf631454762ad6acc2939ddd88d"
          }
        },
        "5f17873f6b7749ad9ceeb8d45a63fa75": {
          "model_module": "@jupyter-widgets/controls",
          "model_name": "ProgressStyleModel",
          "state": {
            "_view_name": "StyleView",
            "_model_name": "ProgressStyleModel",
            "description_width": "initial",
            "_view_module": "@jupyter-widgets/base",
            "_model_module_version": "1.5.0",
            "_view_count": null,
            "_view_module_version": "1.2.0",
            "bar_color": null,
            "_model_module": "@jupyter-widgets/controls"
          }
        },
        "53a0dca5afaf4baba602a1da4991074d": {
          "model_module": "@jupyter-widgets/base",
          "model_name": "LayoutModel",
          "state": {
            "_view_name": "LayoutView",
            "grid_template_rows": null,
            "right": null,
            "justify_content": null,
            "_view_module": "@jupyter-widgets/base",
            "overflow": null,
            "_model_module_version": "1.2.0",
            "_view_count": null,
            "flex_flow": null,
            "width": null,
            "min_width": null,
            "border": null,
            "align_items": null,
            "bottom": null,
            "_model_module": "@jupyter-widgets/base",
            "top": null,
            "grid_column": null,
            "overflow_y": null,
            "overflow_x": null,
            "grid_auto_flow": null,
            "grid_area": null,
            "grid_template_columns": null,
            "flex": null,
            "_model_name": "LayoutModel",
            "justify_items": null,
            "grid_row": null,
            "max_height": null,
            "align_content": null,
            "visibility": null,
            "align_self": null,
            "height": null,
            "min_height": null,
            "padding": null,
            "grid_auto_rows": null,
            "grid_gap": null,
            "max_width": null,
            "order": null,
            "_view_module_version": "1.2.0",
            "grid_template_areas": null,
            "object_position": null,
            "object_fit": null,
            "grid_auto_columns": null,
            "margin": null,
            "display": null,
            "left": null
          }
        },
        "d5f6a29ababe40379dc91201f6004b69": {
          "model_module": "@jupyter-widgets/controls",
          "model_name": "DescriptionStyleModel",
          "state": {
            "_view_name": "StyleView",
            "_model_name": "DescriptionStyleModel",
            "description_width": "",
            "_view_module": "@jupyter-widgets/base",
            "_model_module_version": "1.5.0",
            "_view_count": null,
            "_view_module_version": "1.2.0",
            "_model_module": "@jupyter-widgets/controls"
          }
        },
        "84bb9bf631454762ad6acc2939ddd88d": {
          "model_module": "@jupyter-widgets/base",
          "model_name": "LayoutModel",
          "state": {
            "_view_name": "LayoutView",
            "grid_template_rows": null,
            "right": null,
            "justify_content": null,
            "_view_module": "@jupyter-widgets/base",
            "overflow": null,
            "_model_module_version": "1.2.0",
            "_view_count": null,
            "flex_flow": null,
            "width": null,
            "min_width": null,
            "border": null,
            "align_items": null,
            "bottom": null,
            "_model_module": "@jupyter-widgets/base",
            "top": null,
            "grid_column": null,
            "overflow_y": null,
            "overflow_x": null,
            "grid_auto_flow": null,
            "grid_area": null,
            "grid_template_columns": null,
            "flex": null,
            "_model_name": "LayoutModel",
            "justify_items": null,
            "grid_row": null,
            "max_height": null,
            "align_content": null,
            "visibility": null,
            "align_self": null,
            "height": null,
            "min_height": null,
            "padding": null,
            "grid_auto_rows": null,
            "grid_gap": null,
            "max_width": null,
            "order": null,
            "_view_module_version": "1.2.0",
            "grid_template_areas": null,
            "object_position": null,
            "object_fit": null,
            "grid_auto_columns": null,
            "margin": null,
            "display": null,
            "left": null
          }
        },
        "b995ed451c74484f9c13ef1a219f1c37": {
          "model_module": "@jupyter-widgets/controls",
          "model_name": "HBoxModel",
          "state": {
            "_view_name": "HBoxView",
            "_dom_classes": [],
            "_model_name": "HBoxModel",
            "_view_module": "@jupyter-widgets/controls",
            "_model_module_version": "1.5.0",
            "_view_count": null,
            "_view_module_version": "1.5.0",
            "box_style": "",
            "layout": "IPY_MODEL_576789f2b1eb4b01b86da23865b6f8b6",
            "_model_module": "@jupyter-widgets/controls",
            "children": [
              "IPY_MODEL_c4a0551c5d204403b1c0a7764179634b",
              "IPY_MODEL_db262fe5f55440bb8311e94aed3116e9"
            ]
          }
        },
        "576789f2b1eb4b01b86da23865b6f8b6": {
          "model_module": "@jupyter-widgets/base",
          "model_name": "LayoutModel",
          "state": {
            "_view_name": "LayoutView",
            "grid_template_rows": null,
            "right": null,
            "justify_content": null,
            "_view_module": "@jupyter-widgets/base",
            "overflow": null,
            "_model_module_version": "1.2.0",
            "_view_count": null,
            "flex_flow": null,
            "width": null,
            "min_width": null,
            "border": null,
            "align_items": null,
            "bottom": null,
            "_model_module": "@jupyter-widgets/base",
            "top": null,
            "grid_column": null,
            "overflow_y": null,
            "overflow_x": null,
            "grid_auto_flow": null,
            "grid_area": null,
            "grid_template_columns": null,
            "flex": null,
            "_model_name": "LayoutModel",
            "justify_items": null,
            "grid_row": null,
            "max_height": null,
            "align_content": null,
            "visibility": null,
            "align_self": null,
            "height": null,
            "min_height": null,
            "padding": null,
            "grid_auto_rows": null,
            "grid_gap": null,
            "max_width": null,
            "order": null,
            "_view_module_version": "1.2.0",
            "grid_template_areas": null,
            "object_position": null,
            "object_fit": null,
            "grid_auto_columns": null,
            "margin": null,
            "display": null,
            "left": null
          }
        },
        "c4a0551c5d204403b1c0a7764179634b": {
          "model_module": "@jupyter-widgets/controls",
          "model_name": "FloatProgressModel",
          "state": {
            "_view_name": "ProgressView",
            "style": "IPY_MODEL_e428d444ce5b44258a482584fa101ef9",
            "_dom_classes": [],
            "description": "Downloading: 100%",
            "_model_name": "FloatProgressModel",
            "bar_style": "success",
            "max": 473,
            "_view_module": "@jupyter-widgets/controls",
            "_model_module_version": "1.5.0",
            "value": 473,
            "_view_count": null,
            "_view_module_version": "1.5.0",
            "orientation": "horizontal",
            "min": 0,
            "description_tooltip": null,
            "_model_module": "@jupyter-widgets/controls",
            "layout": "IPY_MODEL_82c03d16a8734a7ab46661a921d9bb29"
          }
        },
        "db262fe5f55440bb8311e94aed3116e9": {
          "model_module": "@jupyter-widgets/controls",
          "model_name": "HTMLModel",
          "state": {
            "_view_name": "HTMLView",
            "style": "IPY_MODEL_1fb33a2df2cd421699ab04a5b60b0dd2",
            "_dom_classes": [],
            "description": "",
            "_model_name": "HTMLModel",
            "placeholder": "​",
            "_view_module": "@jupyter-widgets/controls",
            "_model_module_version": "1.5.0",
            "value": " 473/473 [01:12&lt;00:00, 6.55B/s]",
            "_view_count": null,
            "_view_module_version": "1.5.0",
            "description_tooltip": null,
            "_model_module": "@jupyter-widgets/controls",
            "layout": "IPY_MODEL_19d64cc2bee2409d8c14a20ce2d050a4"
          }
        },
        "e428d444ce5b44258a482584fa101ef9": {
          "model_module": "@jupyter-widgets/controls",
          "model_name": "ProgressStyleModel",
          "state": {
            "_view_name": "StyleView",
            "_model_name": "ProgressStyleModel",
            "description_width": "initial",
            "_view_module": "@jupyter-widgets/base",
            "_model_module_version": "1.5.0",
            "_view_count": null,
            "_view_module_version": "1.2.0",
            "bar_color": null,
            "_model_module": "@jupyter-widgets/controls"
          }
        },
        "82c03d16a8734a7ab46661a921d9bb29": {
          "model_module": "@jupyter-widgets/base",
          "model_name": "LayoutModel",
          "state": {
            "_view_name": "LayoutView",
            "grid_template_rows": null,
            "right": null,
            "justify_content": null,
            "_view_module": "@jupyter-widgets/base",
            "overflow": null,
            "_model_module_version": "1.2.0",
            "_view_count": null,
            "flex_flow": null,
            "width": null,
            "min_width": null,
            "border": null,
            "align_items": null,
            "bottom": null,
            "_model_module": "@jupyter-widgets/base",
            "top": null,
            "grid_column": null,
            "overflow_y": null,
            "overflow_x": null,
            "grid_auto_flow": null,
            "grid_area": null,
            "grid_template_columns": null,
            "flex": null,
            "_model_name": "LayoutModel",
            "justify_items": null,
            "grid_row": null,
            "max_height": null,
            "align_content": null,
            "visibility": null,
            "align_self": null,
            "height": null,
            "min_height": null,
            "padding": null,
            "grid_auto_rows": null,
            "grid_gap": null,
            "max_width": null,
            "order": null,
            "_view_module_version": "1.2.0",
            "grid_template_areas": null,
            "object_position": null,
            "object_fit": null,
            "grid_auto_columns": null,
            "margin": null,
            "display": null,
            "left": null
          }
        },
        "1fb33a2df2cd421699ab04a5b60b0dd2": {
          "model_module": "@jupyter-widgets/controls",
          "model_name": "DescriptionStyleModel",
          "state": {
            "_view_name": "StyleView",
            "_model_name": "DescriptionStyleModel",
            "description_width": "",
            "_view_module": "@jupyter-widgets/base",
            "_model_module_version": "1.5.0",
            "_view_count": null,
            "_view_module_version": "1.2.0",
            "_model_module": "@jupyter-widgets/controls"
          }
        },
        "19d64cc2bee2409d8c14a20ce2d050a4": {
          "model_module": "@jupyter-widgets/base",
          "model_name": "LayoutModel",
          "state": {
            "_view_name": "LayoutView",
            "grid_template_rows": null,
            "right": null,
            "justify_content": null,
            "_view_module": "@jupyter-widgets/base",
            "overflow": null,
            "_model_module_version": "1.2.0",
            "_view_count": null,
            "flex_flow": null,
            "width": null,
            "min_width": null,
            "border": null,
            "align_items": null,
            "bottom": null,
            "_model_module": "@jupyter-widgets/base",
            "top": null,
            "grid_column": null,
            "overflow_y": null,
            "overflow_x": null,
            "grid_auto_flow": null,
            "grid_area": null,
            "grid_template_columns": null,
            "flex": null,
            "_model_name": "LayoutModel",
            "justify_items": null,
            "grid_row": null,
            "max_height": null,
            "align_content": null,
            "visibility": null,
            "align_self": null,
            "height": null,
            "min_height": null,
            "padding": null,
            "grid_auto_rows": null,
            "grid_gap": null,
            "max_width": null,
            "order": null,
            "_view_module_version": "1.2.0",
            "grid_template_areas": null,
            "object_position": null,
            "object_fit": null,
            "grid_auto_columns": null,
            "margin": null,
            "display": null,
            "left": null
          }
        },
        "3c9d7e40e6014cd9a714541aa6dcbfa7": {
          "model_module": "@jupyter-widgets/controls",
          "model_name": "HBoxModel",
          "state": {
            "_view_name": "HBoxView",
            "_dom_classes": [],
            "_model_name": "HBoxModel",
            "_view_module": "@jupyter-widgets/controls",
            "_model_module_version": "1.5.0",
            "_view_count": null,
            "_view_module_version": "1.5.0",
            "box_style": "",
            "layout": "IPY_MODEL_8fc39fbeb7eb4096aa9081382a995e84",
            "_model_module": "@jupyter-widgets/controls",
            "children": [
              "IPY_MODEL_473409bb1aa04ac29163434d820b36c4",
              "IPY_MODEL_77d27bc05b2f4c25aa2926d8c3a248d6"
            ]
          }
        },
        "8fc39fbeb7eb4096aa9081382a995e84": {
          "model_module": "@jupyter-widgets/base",
          "model_name": "LayoutModel",
          "state": {
            "_view_name": "LayoutView",
            "grid_template_rows": null,
            "right": null,
            "justify_content": null,
            "_view_module": "@jupyter-widgets/base",
            "overflow": null,
            "_model_module_version": "1.2.0",
            "_view_count": null,
            "flex_flow": null,
            "width": null,
            "min_width": null,
            "border": null,
            "align_items": null,
            "bottom": null,
            "_model_module": "@jupyter-widgets/base",
            "top": null,
            "grid_column": null,
            "overflow_y": null,
            "overflow_x": null,
            "grid_auto_flow": null,
            "grid_area": null,
            "grid_template_columns": null,
            "flex": null,
            "_model_name": "LayoutModel",
            "justify_items": null,
            "grid_row": null,
            "max_height": null,
            "align_content": null,
            "visibility": null,
            "align_self": null,
            "height": null,
            "min_height": null,
            "padding": null,
            "grid_auto_rows": null,
            "grid_gap": null,
            "max_width": null,
            "order": null,
            "_view_module_version": "1.2.0",
            "grid_template_areas": null,
            "object_position": null,
            "object_fit": null,
            "grid_auto_columns": null,
            "margin": null,
            "display": null,
            "left": null
          }
        },
        "473409bb1aa04ac29163434d820b36c4": {
          "model_module": "@jupyter-widgets/controls",
          "model_name": "FloatProgressModel",
          "state": {
            "_view_name": "ProgressView",
            "style": "IPY_MODEL_5fbefefe10474bacad56c5913700a965",
            "_dom_classes": [],
            "description": "Downloading: 100%",
            "_model_name": "FloatProgressModel",
            "bar_style": "success",
            "max": 260793700,
            "_view_module": "@jupyter-widgets/controls",
            "_model_module_version": "1.5.0",
            "value": 260793700,
            "_view_count": null,
            "_view_module_version": "1.5.0",
            "orientation": "horizontal",
            "min": 0,
            "description_tooltip": null,
            "_model_module": "@jupyter-widgets/controls",
            "layout": "IPY_MODEL_002baf37f9ea4e33a013f7cfe5f5dbd4"
          }
        },
        "77d27bc05b2f4c25aa2926d8c3a248d6": {
          "model_module": "@jupyter-widgets/controls",
          "model_name": "HTMLModel",
          "state": {
            "_view_name": "HTMLView",
            "style": "IPY_MODEL_0f57133e4c7d4387b2c69a6e62be0f74",
            "_dom_classes": [],
            "description": "",
            "_model_name": "HTMLModel",
            "placeholder": "​",
            "_view_module": "@jupyter-widgets/controls",
            "_model_module_version": "1.5.0",
            "value": " 261M/261M [00:04&lt;00:00, 65.1MB/s]",
            "_view_count": null,
            "_view_module_version": "1.5.0",
            "description_tooltip": null,
            "_model_module": "@jupyter-widgets/controls",
            "layout": "IPY_MODEL_4fea5a05aa5d4e349f13c1e09c098a1b"
          }
        },
        "5fbefefe10474bacad56c5913700a965": {
          "model_module": "@jupyter-widgets/controls",
          "model_name": "ProgressStyleModel",
          "state": {
            "_view_name": "StyleView",
            "_model_name": "ProgressStyleModel",
            "description_width": "initial",
            "_view_module": "@jupyter-widgets/base",
            "_model_module_version": "1.5.0",
            "_view_count": null,
            "_view_module_version": "1.2.0",
            "bar_color": null,
            "_model_module": "@jupyter-widgets/controls"
          }
        },
        "002baf37f9ea4e33a013f7cfe5f5dbd4": {
          "model_module": "@jupyter-widgets/base",
          "model_name": "LayoutModel",
          "state": {
            "_view_name": "LayoutView",
            "grid_template_rows": null,
            "right": null,
            "justify_content": null,
            "_view_module": "@jupyter-widgets/base",
            "overflow": null,
            "_model_module_version": "1.2.0",
            "_view_count": null,
            "flex_flow": null,
            "width": null,
            "min_width": null,
            "border": null,
            "align_items": null,
            "bottom": null,
            "_model_module": "@jupyter-widgets/base",
            "top": null,
            "grid_column": null,
            "overflow_y": null,
            "overflow_x": null,
            "grid_auto_flow": null,
            "grid_area": null,
            "grid_template_columns": null,
            "flex": null,
            "_model_name": "LayoutModel",
            "justify_items": null,
            "grid_row": null,
            "max_height": null,
            "align_content": null,
            "visibility": null,
            "align_self": null,
            "height": null,
            "min_height": null,
            "padding": null,
            "grid_auto_rows": null,
            "grid_gap": null,
            "max_width": null,
            "order": null,
            "_view_module_version": "1.2.0",
            "grid_template_areas": null,
            "object_position": null,
            "object_fit": null,
            "grid_auto_columns": null,
            "margin": null,
            "display": null,
            "left": null
          }
        },
        "0f57133e4c7d4387b2c69a6e62be0f74": {
          "model_module": "@jupyter-widgets/controls",
          "model_name": "DescriptionStyleModel",
          "state": {
            "_view_name": "StyleView",
            "_model_name": "DescriptionStyleModel",
            "description_width": "",
            "_view_module": "@jupyter-widgets/base",
            "_model_module_version": "1.5.0",
            "_view_count": null,
            "_view_module_version": "1.2.0",
            "_model_module": "@jupyter-widgets/controls"
          }
        },
        "4fea5a05aa5d4e349f13c1e09c098a1b": {
          "model_module": "@jupyter-widgets/base",
          "model_name": "LayoutModel",
          "state": {
            "_view_name": "LayoutView",
            "grid_template_rows": null,
            "right": null,
            "justify_content": null,
            "_view_module": "@jupyter-widgets/base",
            "overflow": null,
            "_model_module_version": "1.2.0",
            "_view_count": null,
            "flex_flow": null,
            "width": null,
            "min_width": null,
            "border": null,
            "align_items": null,
            "bottom": null,
            "_model_module": "@jupyter-widgets/base",
            "top": null,
            "grid_column": null,
            "overflow_y": null,
            "overflow_x": null,
            "grid_auto_flow": null,
            "grid_area": null,
            "grid_template_columns": null,
            "flex": null,
            "_model_name": "LayoutModel",
            "justify_items": null,
            "grid_row": null,
            "max_height": null,
            "align_content": null,
            "visibility": null,
            "align_self": null,
            "height": null,
            "min_height": null,
            "padding": null,
            "grid_auto_rows": null,
            "grid_gap": null,
            "max_width": null,
            "order": null,
            "_view_module_version": "1.2.0",
            "grid_template_areas": null,
            "object_position": null,
            "object_fit": null,
            "grid_auto_columns": null,
            "margin": null,
            "display": null,
            "left": null
          }
        },
        "ca40ba674ded4662884dd637924ec1cb": {
          "model_module": "@jupyter-widgets/controls",
          "model_name": "HBoxModel",
          "state": {
            "_view_name": "HBoxView",
            "_dom_classes": [],
            "_model_name": "HBoxModel",
            "_view_module": "@jupyter-widgets/controls",
            "_model_module_version": "1.5.0",
            "_view_count": null,
            "_view_module_version": "1.5.0",
            "box_style": "",
            "layout": "IPY_MODEL_a9584ea47ce24048810c98789a3c1f58",
            "_model_module": "@jupyter-widgets/controls",
            "children": [
              "IPY_MODEL_c38483cc42f346b0b84cb6ddfa6bcf4e",
              "IPY_MODEL_3e2f7db0e72447239261fbddd43e201d"
            ]
          }
        },
        "a9584ea47ce24048810c98789a3c1f58": {
          "model_module": "@jupyter-widgets/base",
          "model_name": "LayoutModel",
          "state": {
            "_view_name": "LayoutView",
            "grid_template_rows": null,
            "right": null,
            "justify_content": null,
            "_view_module": "@jupyter-widgets/base",
            "overflow": null,
            "_model_module_version": "1.2.0",
            "_view_count": null,
            "flex_flow": null,
            "width": null,
            "min_width": null,
            "border": null,
            "align_items": null,
            "bottom": null,
            "_model_module": "@jupyter-widgets/base",
            "top": null,
            "grid_column": null,
            "overflow_y": null,
            "overflow_x": null,
            "grid_auto_flow": null,
            "grid_area": null,
            "grid_template_columns": null,
            "flex": null,
            "_model_name": "LayoutModel",
            "justify_items": null,
            "grid_row": null,
            "max_height": null,
            "align_content": null,
            "visibility": null,
            "align_self": null,
            "height": null,
            "min_height": null,
            "padding": null,
            "grid_auto_rows": null,
            "grid_gap": null,
            "max_width": null,
            "order": null,
            "_view_module_version": "1.2.0",
            "grid_template_areas": null,
            "object_position": null,
            "object_fit": null,
            "grid_auto_columns": null,
            "margin": null,
            "display": null,
            "left": null
          }
        },
        "c38483cc42f346b0b84cb6ddfa6bcf4e": {
          "model_module": "@jupyter-widgets/controls",
          "model_name": "FloatProgressModel",
          "state": {
            "_view_name": "ProgressView",
            "style": "IPY_MODEL_d83ed7762e0147a8a060abab39fe479a",
            "_dom_classes": [],
            "description": "Downloading: 100%",
            "_model_name": "FloatProgressModel",
            "bar_style": "success",
            "max": 213450,
            "_view_module": "@jupyter-widgets/controls",
            "_model_module_version": "1.5.0",
            "value": 213450,
            "_view_count": null,
            "_view_module_version": "1.5.0",
            "orientation": "horizontal",
            "min": 0,
            "description_tooltip": null,
            "_model_module": "@jupyter-widgets/controls",
            "layout": "IPY_MODEL_6fa9146d658a4269966d43ed7a31da02"
          }
        },
        "3e2f7db0e72447239261fbddd43e201d": {
          "model_module": "@jupyter-widgets/controls",
          "model_name": "HTMLModel",
          "state": {
            "_view_name": "HTMLView",
            "style": "IPY_MODEL_9027ccc9aae54df2bc2af07a90bb3070",
            "_dom_classes": [],
            "description": "",
            "_model_name": "HTMLModel",
            "placeholder": "​",
            "_view_module": "@jupyter-widgets/controls",
            "_model_module_version": "1.5.0",
            "value": " 213k/213k [00:02&lt;00:00, 79.5kB/s]",
            "_view_count": null,
            "_view_module_version": "1.5.0",
            "description_tooltip": null,
            "_model_module": "@jupyter-widgets/controls",
            "layout": "IPY_MODEL_1493d8da315b43feb4122de6f234348b"
          }
        },
        "d83ed7762e0147a8a060abab39fe479a": {
          "model_module": "@jupyter-widgets/controls",
          "model_name": "ProgressStyleModel",
          "state": {
            "_view_name": "StyleView",
            "_model_name": "ProgressStyleModel",
            "description_width": "initial",
            "_view_module": "@jupyter-widgets/base",
            "_model_module_version": "1.5.0",
            "_view_count": null,
            "_view_module_version": "1.2.0",
            "bar_color": null,
            "_model_module": "@jupyter-widgets/controls"
          }
        },
        "6fa9146d658a4269966d43ed7a31da02": {
          "model_module": "@jupyter-widgets/base",
          "model_name": "LayoutModel",
          "state": {
            "_view_name": "LayoutView",
            "grid_template_rows": null,
            "right": null,
            "justify_content": null,
            "_view_module": "@jupyter-widgets/base",
            "overflow": null,
            "_model_module_version": "1.2.0",
            "_view_count": null,
            "flex_flow": null,
            "width": null,
            "min_width": null,
            "border": null,
            "align_items": null,
            "bottom": null,
            "_model_module": "@jupyter-widgets/base",
            "top": null,
            "grid_column": null,
            "overflow_y": null,
            "overflow_x": null,
            "grid_auto_flow": null,
            "grid_area": null,
            "grid_template_columns": null,
            "flex": null,
            "_model_name": "LayoutModel",
            "justify_items": null,
            "grid_row": null,
            "max_height": null,
            "align_content": null,
            "visibility": null,
            "align_self": null,
            "height": null,
            "min_height": null,
            "padding": null,
            "grid_auto_rows": null,
            "grid_gap": null,
            "max_width": null,
            "order": null,
            "_view_module_version": "1.2.0",
            "grid_template_areas": null,
            "object_position": null,
            "object_fit": null,
            "grid_auto_columns": null,
            "margin": null,
            "display": null,
            "left": null
          }
        },
        "9027ccc9aae54df2bc2af07a90bb3070": {
          "model_module": "@jupyter-widgets/controls",
          "model_name": "DescriptionStyleModel",
          "state": {
            "_view_name": "StyleView",
            "_model_name": "DescriptionStyleModel",
            "description_width": "",
            "_view_module": "@jupyter-widgets/base",
            "_model_module_version": "1.5.0",
            "_view_count": null,
            "_view_module_version": "1.2.0",
            "_model_module": "@jupyter-widgets/controls"
          }
        },
        "1493d8da315b43feb4122de6f234348b": {
          "model_module": "@jupyter-widgets/base",
          "model_name": "LayoutModel",
          "state": {
            "_view_name": "LayoutView",
            "grid_template_rows": null,
            "right": null,
            "justify_content": null,
            "_view_module": "@jupyter-widgets/base",
            "overflow": null,
            "_model_module_version": "1.2.0",
            "_view_count": null,
            "flex_flow": null,
            "width": null,
            "min_width": null,
            "border": null,
            "align_items": null,
            "bottom": null,
            "_model_module": "@jupyter-widgets/base",
            "top": null,
            "grid_column": null,
            "overflow_y": null,
            "overflow_x": null,
            "grid_auto_flow": null,
            "grid_area": null,
            "grid_template_columns": null,
            "flex": null,
            "_model_name": "LayoutModel",
            "justify_items": null,
            "grid_row": null,
            "max_height": null,
            "align_content": null,
            "visibility": null,
            "align_self": null,
            "height": null,
            "min_height": null,
            "padding": null,
            "grid_auto_rows": null,
            "grid_gap": null,
            "max_width": null,
            "order": null,
            "_view_module_version": "1.2.0",
            "grid_template_areas": null,
            "object_position": null,
            "object_fit": null,
            "grid_auto_columns": null,
            "margin": null,
            "display": null,
            "left": null
          }
        },
        "e94042bd38194166b6ba18ee49656cca": {
          "model_module": "@jupyter-widgets/controls",
          "model_name": "HBoxModel",
          "state": {
            "_view_name": "HBoxView",
            "_dom_classes": [],
            "_model_name": "HBoxModel",
            "_view_module": "@jupyter-widgets/controls",
            "_model_module_version": "1.5.0",
            "_view_count": null,
            "_view_module_version": "1.5.0",
            "box_style": "",
            "layout": "IPY_MODEL_26920537642042929591b4f510116ed7",
            "_model_module": "@jupyter-widgets/controls",
            "children": [
              "IPY_MODEL_baf39f4759644aec830ec75977631e30",
              "IPY_MODEL_fd86b93bcfbc4b959289c8f9d579c91f"
            ]
          }
        },
        "26920537642042929591b4f510116ed7": {
          "model_module": "@jupyter-widgets/base",
          "model_name": "LayoutModel",
          "state": {
            "_view_name": "LayoutView",
            "grid_template_rows": null,
            "right": null,
            "justify_content": null,
            "_view_module": "@jupyter-widgets/base",
            "overflow": null,
            "_model_module_version": "1.2.0",
            "_view_count": null,
            "flex_flow": null,
            "width": null,
            "min_width": null,
            "border": null,
            "align_items": null,
            "bottom": null,
            "_model_module": "@jupyter-widgets/base",
            "top": null,
            "grid_column": null,
            "overflow_y": null,
            "overflow_x": null,
            "grid_auto_flow": null,
            "grid_area": null,
            "grid_template_columns": null,
            "flex": null,
            "_model_name": "LayoutModel",
            "justify_items": null,
            "grid_row": null,
            "max_height": null,
            "align_content": null,
            "visibility": null,
            "align_self": null,
            "height": null,
            "min_height": null,
            "padding": null,
            "grid_auto_rows": null,
            "grid_gap": null,
            "max_width": null,
            "order": null,
            "_view_module_version": "1.2.0",
            "grid_template_areas": null,
            "object_position": null,
            "object_fit": null,
            "grid_auto_columns": null,
            "margin": null,
            "display": null,
            "left": null
          }
        },
        "baf39f4759644aec830ec75977631e30": {
          "model_module": "@jupyter-widgets/controls",
          "model_name": "FloatProgressModel",
          "state": {
            "_view_name": "ProgressView",
            "style": "IPY_MODEL_9c356563b6c048f6bd628ab0074ef4b6",
            "_dom_classes": [],
            "description": "Downloading: 100%",
            "_model_name": "FloatProgressModel",
            "bar_style": "success",
            "max": 435797,
            "_view_module": "@jupyter-widgets/controls",
            "_model_module_version": "1.5.0",
            "value": 435797,
            "_view_count": null,
            "_view_module_version": "1.5.0",
            "orientation": "horizontal",
            "min": 0,
            "description_tooltip": null,
            "_model_module": "@jupyter-widgets/controls",
            "layout": "IPY_MODEL_a7d0f4fa46454757b90fd7b312472387"
          }
        },
        "fd86b93bcfbc4b959289c8f9d579c91f": {
          "model_module": "@jupyter-widgets/controls",
          "model_name": "HTMLModel",
          "state": {
            "_view_name": "HTMLView",
            "style": "IPY_MODEL_1b6e29fefea04098977439e82fd23c01",
            "_dom_classes": [],
            "description": "",
            "_model_name": "HTMLModel",
            "placeholder": "​",
            "_view_module": "@jupyter-widgets/controls",
            "_model_module_version": "1.5.0",
            "value": " 436k/436k [00:01&lt;00:00, 243kB/s]",
            "_view_count": null,
            "_view_module_version": "1.5.0",
            "description_tooltip": null,
            "_model_module": "@jupyter-widgets/controls",
            "layout": "IPY_MODEL_63f9a3989c764eb6893fbe1a7262c3bb"
          }
        },
        "9c356563b6c048f6bd628ab0074ef4b6": {
          "model_module": "@jupyter-widgets/controls",
          "model_name": "ProgressStyleModel",
          "state": {
            "_view_name": "StyleView",
            "_model_name": "ProgressStyleModel",
            "description_width": "initial",
            "_view_module": "@jupyter-widgets/base",
            "_model_module_version": "1.5.0",
            "_view_count": null,
            "_view_module_version": "1.2.0",
            "bar_color": null,
            "_model_module": "@jupyter-widgets/controls"
          }
        },
        "a7d0f4fa46454757b90fd7b312472387": {
          "model_module": "@jupyter-widgets/base",
          "model_name": "LayoutModel",
          "state": {
            "_view_name": "LayoutView",
            "grid_template_rows": null,
            "right": null,
            "justify_content": null,
            "_view_module": "@jupyter-widgets/base",
            "overflow": null,
            "_model_module_version": "1.2.0",
            "_view_count": null,
            "flex_flow": null,
            "width": null,
            "min_width": null,
            "border": null,
            "align_items": null,
            "bottom": null,
            "_model_module": "@jupyter-widgets/base",
            "top": null,
            "grid_column": null,
            "overflow_y": null,
            "overflow_x": null,
            "grid_auto_flow": null,
            "grid_area": null,
            "grid_template_columns": null,
            "flex": null,
            "_model_name": "LayoutModel",
            "justify_items": null,
            "grid_row": null,
            "max_height": null,
            "align_content": null,
            "visibility": null,
            "align_self": null,
            "height": null,
            "min_height": null,
            "padding": null,
            "grid_auto_rows": null,
            "grid_gap": null,
            "max_width": null,
            "order": null,
            "_view_module_version": "1.2.0",
            "grid_template_areas": null,
            "object_position": null,
            "object_fit": null,
            "grid_auto_columns": null,
            "margin": null,
            "display": null,
            "left": null
          }
        },
        "1b6e29fefea04098977439e82fd23c01": {
          "model_module": "@jupyter-widgets/controls",
          "model_name": "DescriptionStyleModel",
          "state": {
            "_view_name": "StyleView",
            "_model_name": "DescriptionStyleModel",
            "description_width": "",
            "_view_module": "@jupyter-widgets/base",
            "_model_module_version": "1.5.0",
            "_view_count": null,
            "_view_module_version": "1.2.0",
            "_model_module": "@jupyter-widgets/controls"
          }
        },
        "63f9a3989c764eb6893fbe1a7262c3bb": {
          "model_module": "@jupyter-widgets/base",
          "model_name": "LayoutModel",
          "state": {
            "_view_name": "LayoutView",
            "grid_template_rows": null,
            "right": null,
            "justify_content": null,
            "_view_module": "@jupyter-widgets/base",
            "overflow": null,
            "_model_module_version": "1.2.0",
            "_view_count": null,
            "flex_flow": null,
            "width": null,
            "min_width": null,
            "border": null,
            "align_items": null,
            "bottom": null,
            "_model_module": "@jupyter-widgets/base",
            "top": null,
            "grid_column": null,
            "overflow_y": null,
            "overflow_x": null,
            "grid_auto_flow": null,
            "grid_area": null,
            "grid_template_columns": null,
            "flex": null,
            "_model_name": "LayoutModel",
            "justify_items": null,
            "grid_row": null,
            "max_height": null,
            "align_content": null,
            "visibility": null,
            "align_self": null,
            "height": null,
            "min_height": null,
            "padding": null,
            "grid_auto_rows": null,
            "grid_gap": null,
            "max_width": null,
            "order": null,
            "_view_module_version": "1.2.0",
            "grid_template_areas": null,
            "object_position": null,
            "object_fit": null,
            "grid_auto_columns": null,
            "margin": null,
            "display": null,
            "left": null
          }
        },
        "27eb4081ce4b4cec812232edb8bd0e43": {
          "model_module": "@jupyter-widgets/controls",
          "model_name": "HBoxModel",
          "state": {
            "_view_name": "HBoxView",
            "_dom_classes": [],
            "_model_name": "HBoxModel",
            "_view_module": "@jupyter-widgets/controls",
            "_model_module_version": "1.5.0",
            "_view_count": null,
            "_view_module_version": "1.5.0",
            "box_style": "",
            "layout": "IPY_MODEL_6f980f1aa3874d989dfb077c9da0dc1a",
            "_model_module": "@jupyter-widgets/controls",
            "children": [
              "IPY_MODEL_fc371e185a4f45a4b625ff83dccdf2ad",
              "IPY_MODEL_bfe9c5c3c3a64b0c88de92011f4246ae"
            ]
          }
        },
        "6f980f1aa3874d989dfb077c9da0dc1a": {
          "model_module": "@jupyter-widgets/base",
          "model_name": "LayoutModel",
          "state": {
            "_view_name": "LayoutView",
            "grid_template_rows": null,
            "right": null,
            "justify_content": null,
            "_view_module": "@jupyter-widgets/base",
            "overflow": null,
            "_model_module_version": "1.2.0",
            "_view_count": null,
            "flex_flow": null,
            "width": null,
            "min_width": null,
            "border": null,
            "align_items": null,
            "bottom": null,
            "_model_module": "@jupyter-widgets/base",
            "top": null,
            "grid_column": null,
            "overflow_y": null,
            "overflow_x": null,
            "grid_auto_flow": null,
            "grid_area": null,
            "grid_template_columns": null,
            "flex": null,
            "_model_name": "LayoutModel",
            "justify_items": null,
            "grid_row": null,
            "max_height": null,
            "align_content": null,
            "visibility": null,
            "align_self": null,
            "height": null,
            "min_height": null,
            "padding": null,
            "grid_auto_rows": null,
            "grid_gap": null,
            "max_width": null,
            "order": null,
            "_view_module_version": "1.2.0",
            "grid_template_areas": null,
            "object_position": null,
            "object_fit": null,
            "grid_auto_columns": null,
            "margin": null,
            "display": null,
            "left": null
          }
        },
        "fc371e185a4f45a4b625ff83dccdf2ad": {
          "model_module": "@jupyter-widgets/controls",
          "model_name": "FloatProgressModel",
          "state": {
            "_view_name": "ProgressView",
            "style": "IPY_MODEL_623ae041c76f4e2dbcbd0a061c5a199b",
            "_dom_classes": [],
            "description": "Downloading: 100%",
            "_model_name": "FloatProgressModel",
            "bar_style": "success",
            "max": 433,
            "_view_module": "@jupyter-widgets/controls",
            "_model_module_version": "1.5.0",
            "value": 433,
            "_view_count": null,
            "_view_module_version": "1.5.0",
            "orientation": "horizontal",
            "min": 0,
            "description_tooltip": null,
            "_model_module": "@jupyter-widgets/controls",
            "layout": "IPY_MODEL_87defd775754440980ce6c0a203c146a"
          }
        },
        "bfe9c5c3c3a64b0c88de92011f4246ae": {
          "model_module": "@jupyter-widgets/controls",
          "model_name": "HTMLModel",
          "state": {
            "_view_name": "HTMLView",
            "style": "IPY_MODEL_b3b969764a144174bad055682c254644",
            "_dom_classes": [],
            "description": "",
            "_model_name": "HTMLModel",
            "placeholder": "​",
            "_view_module": "@jupyter-widgets/controls",
            "_model_module_version": "1.5.0",
            "value": " 433/433 [00:00&lt;00:00, 747B/s]",
            "_view_count": null,
            "_view_module_version": "1.5.0",
            "description_tooltip": null,
            "_model_module": "@jupyter-widgets/controls",
            "layout": "IPY_MODEL_82685d88bb294280aee420014b6ee729"
          }
        },
        "623ae041c76f4e2dbcbd0a061c5a199b": {
          "model_module": "@jupyter-widgets/controls",
          "model_name": "ProgressStyleModel",
          "state": {
            "_view_name": "StyleView",
            "_model_name": "ProgressStyleModel",
            "description_width": "initial",
            "_view_module": "@jupyter-widgets/base",
            "_model_module_version": "1.5.0",
            "_view_count": null,
            "_view_module_version": "1.2.0",
            "bar_color": null,
            "_model_module": "@jupyter-widgets/controls"
          }
        },
        "87defd775754440980ce6c0a203c146a": {
          "model_module": "@jupyter-widgets/base",
          "model_name": "LayoutModel",
          "state": {
            "_view_name": "LayoutView",
            "grid_template_rows": null,
            "right": null,
            "justify_content": null,
            "_view_module": "@jupyter-widgets/base",
            "overflow": null,
            "_model_module_version": "1.2.0",
            "_view_count": null,
            "flex_flow": null,
            "width": null,
            "min_width": null,
            "border": null,
            "align_items": null,
            "bottom": null,
            "_model_module": "@jupyter-widgets/base",
            "top": null,
            "grid_column": null,
            "overflow_y": null,
            "overflow_x": null,
            "grid_auto_flow": null,
            "grid_area": null,
            "grid_template_columns": null,
            "flex": null,
            "_model_name": "LayoutModel",
            "justify_items": null,
            "grid_row": null,
            "max_height": null,
            "align_content": null,
            "visibility": null,
            "align_self": null,
            "height": null,
            "min_height": null,
            "padding": null,
            "grid_auto_rows": null,
            "grid_gap": null,
            "max_width": null,
            "order": null,
            "_view_module_version": "1.2.0",
            "grid_template_areas": null,
            "object_position": null,
            "object_fit": null,
            "grid_auto_columns": null,
            "margin": null,
            "display": null,
            "left": null
          }
        },
        "b3b969764a144174bad055682c254644": {
          "model_module": "@jupyter-widgets/controls",
          "model_name": "DescriptionStyleModel",
          "state": {
            "_view_name": "StyleView",
            "_model_name": "DescriptionStyleModel",
            "description_width": "",
            "_view_module": "@jupyter-widgets/base",
            "_model_module_version": "1.5.0",
            "_view_count": null,
            "_view_module_version": "1.2.0",
            "_model_module": "@jupyter-widgets/controls"
          }
        },
        "82685d88bb294280aee420014b6ee729": {
          "model_module": "@jupyter-widgets/base",
          "model_name": "LayoutModel",
          "state": {
            "_view_name": "LayoutView",
            "grid_template_rows": null,
            "right": null,
            "justify_content": null,
            "_view_module": "@jupyter-widgets/base",
            "overflow": null,
            "_model_module_version": "1.2.0",
            "_view_count": null,
            "flex_flow": null,
            "width": null,
            "min_width": null,
            "border": null,
            "align_items": null,
            "bottom": null,
            "_model_module": "@jupyter-widgets/base",
            "top": null,
            "grid_column": null,
            "overflow_y": null,
            "overflow_x": null,
            "grid_auto_flow": null,
            "grid_area": null,
            "grid_template_columns": null,
            "flex": null,
            "_model_name": "LayoutModel",
            "justify_items": null,
            "grid_row": null,
            "max_height": null,
            "align_content": null,
            "visibility": null,
            "align_self": null,
            "height": null,
            "min_height": null,
            "padding": null,
            "grid_auto_rows": null,
            "grid_gap": null,
            "max_width": null,
            "order": null,
            "_view_module_version": "1.2.0",
            "grid_template_areas": null,
            "object_position": null,
            "object_fit": null,
            "grid_auto_columns": null,
            "margin": null,
            "display": null,
            "left": null
          }
        },
        "3e089298e32c4d439748211fa20a6270": {
          "model_module": "@jupyter-widgets/controls",
          "model_name": "HBoxModel",
          "state": {
            "_view_name": "HBoxView",
            "_dom_classes": [],
            "_model_name": "HBoxModel",
            "_view_module": "@jupyter-widgets/controls",
            "_model_module_version": "1.5.0",
            "_view_count": null,
            "_view_module_version": "1.5.0",
            "box_style": "",
            "layout": "IPY_MODEL_5bc18dc3f5eb46af9cc422e23c48ccfd",
            "_model_module": "@jupyter-widgets/controls",
            "children": [
              "IPY_MODEL_d6a35d6f2acc458f848c121071e64f36",
              "IPY_MODEL_368c32002b644385983116d73e810fd7"
            ]
          }
        },
        "5bc18dc3f5eb46af9cc422e23c48ccfd": {
          "model_module": "@jupyter-widgets/base",
          "model_name": "LayoutModel",
          "state": {
            "_view_name": "LayoutView",
            "grid_template_rows": null,
            "right": null,
            "justify_content": null,
            "_view_module": "@jupyter-widgets/base",
            "overflow": null,
            "_model_module_version": "1.2.0",
            "_view_count": null,
            "flex_flow": null,
            "width": null,
            "min_width": null,
            "border": null,
            "align_items": null,
            "bottom": null,
            "_model_module": "@jupyter-widgets/base",
            "top": null,
            "grid_column": null,
            "overflow_y": null,
            "overflow_x": null,
            "grid_auto_flow": null,
            "grid_area": null,
            "grid_template_columns": null,
            "flex": null,
            "_model_name": "LayoutModel",
            "justify_items": null,
            "grid_row": null,
            "max_height": null,
            "align_content": null,
            "visibility": null,
            "align_self": null,
            "height": null,
            "min_height": null,
            "padding": null,
            "grid_auto_rows": null,
            "grid_gap": null,
            "max_width": null,
            "order": null,
            "_view_module_version": "1.2.0",
            "grid_template_areas": null,
            "object_position": null,
            "object_fit": null,
            "grid_auto_columns": null,
            "margin": null,
            "display": null,
            "left": null
          }
        },
        "d6a35d6f2acc458f848c121071e64f36": {
          "model_module": "@jupyter-widgets/controls",
          "model_name": "FloatProgressModel",
          "state": {
            "_view_name": "ProgressView",
            "style": "IPY_MODEL_45b9df236b4b4a2285ada0f5922009f5",
            "_dom_classes": [],
            "description": "Downloading: 100%",
            "_model_name": "FloatProgressModel",
            "bar_style": "success",
            "max": 231508,
            "_view_module": "@jupyter-widgets/controls",
            "_model_module_version": "1.5.0",
            "value": 231508,
            "_view_count": null,
            "_view_module_version": "1.5.0",
            "orientation": "horizontal",
            "min": 0,
            "description_tooltip": null,
            "_model_module": "@jupyter-widgets/controls",
            "layout": "IPY_MODEL_d895597368e64068a296c9246c20cfef"
          }
        },
        "368c32002b644385983116d73e810fd7": {
          "model_module": "@jupyter-widgets/controls",
          "model_name": "HTMLModel",
          "state": {
            "_view_name": "HTMLView",
            "style": "IPY_MODEL_1a7e6e7c1de144d8bd1d74f2672f8b6a",
            "_dom_classes": [],
            "description": "",
            "_model_name": "HTMLModel",
            "placeholder": "​",
            "_view_module": "@jupyter-widgets/controls",
            "_model_module_version": "1.5.0",
            "value": " 232k/232k [00:14&lt;00:00, 16.2kB/s]",
            "_view_count": null,
            "_view_module_version": "1.5.0",
            "description_tooltip": null,
            "_model_module": "@jupyter-widgets/controls",
            "layout": "IPY_MODEL_9950e48a5853458d9daaf9649de273b8"
          }
        },
        "45b9df236b4b4a2285ada0f5922009f5": {
          "model_module": "@jupyter-widgets/controls",
          "model_name": "ProgressStyleModel",
          "state": {
            "_view_name": "StyleView",
            "_model_name": "ProgressStyleModel",
            "description_width": "initial",
            "_view_module": "@jupyter-widgets/base",
            "_model_module_version": "1.5.0",
            "_view_count": null,
            "_view_module_version": "1.2.0",
            "bar_color": null,
            "_model_module": "@jupyter-widgets/controls"
          }
        },
        "d895597368e64068a296c9246c20cfef": {
          "model_module": "@jupyter-widgets/base",
          "model_name": "LayoutModel",
          "state": {
            "_view_name": "LayoutView",
            "grid_template_rows": null,
            "right": null,
            "justify_content": null,
            "_view_module": "@jupyter-widgets/base",
            "overflow": null,
            "_model_module_version": "1.2.0",
            "_view_count": null,
            "flex_flow": null,
            "width": null,
            "min_width": null,
            "border": null,
            "align_items": null,
            "bottom": null,
            "_model_module": "@jupyter-widgets/base",
            "top": null,
            "grid_column": null,
            "overflow_y": null,
            "overflow_x": null,
            "grid_auto_flow": null,
            "grid_area": null,
            "grid_template_columns": null,
            "flex": null,
            "_model_name": "LayoutModel",
            "justify_items": null,
            "grid_row": null,
            "max_height": null,
            "align_content": null,
            "visibility": null,
            "align_self": null,
            "height": null,
            "min_height": null,
            "padding": null,
            "grid_auto_rows": null,
            "grid_gap": null,
            "max_width": null,
            "order": null,
            "_view_module_version": "1.2.0",
            "grid_template_areas": null,
            "object_position": null,
            "object_fit": null,
            "grid_auto_columns": null,
            "margin": null,
            "display": null,
            "left": null
          }
        },
        "1a7e6e7c1de144d8bd1d74f2672f8b6a": {
          "model_module": "@jupyter-widgets/controls",
          "model_name": "DescriptionStyleModel",
          "state": {
            "_view_name": "StyleView",
            "_model_name": "DescriptionStyleModel",
            "description_width": "",
            "_view_module": "@jupyter-widgets/base",
            "_model_module_version": "1.5.0",
            "_view_count": null,
            "_view_module_version": "1.2.0",
            "_model_module": "@jupyter-widgets/controls"
          }
        },
        "9950e48a5853458d9daaf9649de273b8": {
          "model_module": "@jupyter-widgets/base",
          "model_name": "LayoutModel",
          "state": {
            "_view_name": "LayoutView",
            "grid_template_rows": null,
            "right": null,
            "justify_content": null,
            "_view_module": "@jupyter-widgets/base",
            "overflow": null,
            "_model_module_version": "1.2.0",
            "_view_count": null,
            "flex_flow": null,
            "width": null,
            "min_width": null,
            "border": null,
            "align_items": null,
            "bottom": null,
            "_model_module": "@jupyter-widgets/base",
            "top": null,
            "grid_column": null,
            "overflow_y": null,
            "overflow_x": null,
            "grid_auto_flow": null,
            "grid_area": null,
            "grid_template_columns": null,
            "flex": null,
            "_model_name": "LayoutModel",
            "justify_items": null,
            "grid_row": null,
            "max_height": null,
            "align_content": null,
            "visibility": null,
            "align_self": null,
            "height": null,
            "min_height": null,
            "padding": null,
            "grid_auto_rows": null,
            "grid_gap": null,
            "max_width": null,
            "order": null,
            "_view_module_version": "1.2.0",
            "grid_template_areas": null,
            "object_position": null,
            "object_fit": null,
            "grid_auto_columns": null,
            "margin": null,
            "display": null,
            "left": null
          }
        },
        "9dfc681e0f4b430bafde6e8e7329dee3": {
          "model_module": "@jupyter-widgets/controls",
          "model_name": "HBoxModel",
          "state": {
            "_view_name": "HBoxView",
            "_dom_classes": [],
            "_model_name": "HBoxModel",
            "_view_module": "@jupyter-widgets/controls",
            "_model_module_version": "1.5.0",
            "_view_count": null,
            "_view_module_version": "1.5.0",
            "box_style": "",
            "layout": "IPY_MODEL_fa0a6549f79a48ac90b78460b545ecb5",
            "_model_module": "@jupyter-widgets/controls",
            "children": [
              "IPY_MODEL_63c3e8cba24d4410929a4c108fc84f8f",
              "IPY_MODEL_a893e4986d994a4c814422ea618f9468"
            ]
          }
        },
        "fa0a6549f79a48ac90b78460b545ecb5": {
          "model_module": "@jupyter-widgets/base",
          "model_name": "LayoutModel",
          "state": {
            "_view_name": "LayoutView",
            "grid_template_rows": null,
            "right": null,
            "justify_content": null,
            "_view_module": "@jupyter-widgets/base",
            "overflow": null,
            "_model_module_version": "1.2.0",
            "_view_count": null,
            "flex_flow": null,
            "width": null,
            "min_width": null,
            "border": null,
            "align_items": null,
            "bottom": null,
            "_model_module": "@jupyter-widgets/base",
            "top": null,
            "grid_column": null,
            "overflow_y": null,
            "overflow_x": null,
            "grid_auto_flow": null,
            "grid_area": null,
            "grid_template_columns": null,
            "flex": null,
            "_model_name": "LayoutModel",
            "justify_items": null,
            "grid_row": null,
            "max_height": null,
            "align_content": null,
            "visibility": null,
            "align_self": null,
            "height": null,
            "min_height": null,
            "padding": null,
            "grid_auto_rows": null,
            "grid_gap": null,
            "max_width": null,
            "order": null,
            "_view_module_version": "1.2.0",
            "grid_template_areas": null,
            "object_position": null,
            "object_fit": null,
            "grid_auto_columns": null,
            "margin": null,
            "display": null,
            "left": null
          }
        },
        "63c3e8cba24d4410929a4c108fc84f8f": {
          "model_module": "@jupyter-widgets/controls",
          "model_name": "FloatProgressModel",
          "state": {
            "_view_name": "ProgressView",
            "style": "IPY_MODEL_de2775f233f14b8292b36c166fa67eb3",
            "_dom_classes": [],
            "description": "Downloading: 100%",
            "_model_name": "FloatProgressModel",
            "bar_style": "success",
            "max": 466062,
            "_view_module": "@jupyter-widgets/controls",
            "_model_module_version": "1.5.0",
            "value": 466062,
            "_view_count": null,
            "_view_module_version": "1.5.0",
            "orientation": "horizontal",
            "min": 0,
            "description_tooltip": null,
            "_model_module": "@jupyter-widgets/controls",
            "layout": "IPY_MODEL_83a2cfe64e6a4702949900fe0c477950"
          }
        },
        "a893e4986d994a4c814422ea618f9468": {
          "model_module": "@jupyter-widgets/controls",
          "model_name": "HTMLModel",
          "state": {
            "_view_name": "HTMLView",
            "style": "IPY_MODEL_6c04fc045c5d4e76add3b2e4176137d4",
            "_dom_classes": [],
            "description": "",
            "_model_name": "HTMLModel",
            "placeholder": "​",
            "_view_module": "@jupyter-widgets/controls",
            "_model_module_version": "1.5.0",
            "value": " 466k/466k [00:13&lt;00:00, 35.3kB/s]",
            "_view_count": null,
            "_view_module_version": "1.5.0",
            "description_tooltip": null,
            "_model_module": "@jupyter-widgets/controls",
            "layout": "IPY_MODEL_e497b1a284b841aa86c54c1b038bad0a"
          }
        },
        "de2775f233f14b8292b36c166fa67eb3": {
          "model_module": "@jupyter-widgets/controls",
          "model_name": "ProgressStyleModel",
          "state": {
            "_view_name": "StyleView",
            "_model_name": "ProgressStyleModel",
            "description_width": "initial",
            "_view_module": "@jupyter-widgets/base",
            "_model_module_version": "1.5.0",
            "_view_count": null,
            "_view_module_version": "1.2.0",
            "bar_color": null,
            "_model_module": "@jupyter-widgets/controls"
          }
        },
        "83a2cfe64e6a4702949900fe0c477950": {
          "model_module": "@jupyter-widgets/base",
          "model_name": "LayoutModel",
          "state": {
            "_view_name": "LayoutView",
            "grid_template_rows": null,
            "right": null,
            "justify_content": null,
            "_view_module": "@jupyter-widgets/base",
            "overflow": null,
            "_model_module_version": "1.2.0",
            "_view_count": null,
            "flex_flow": null,
            "width": null,
            "min_width": null,
            "border": null,
            "align_items": null,
            "bottom": null,
            "_model_module": "@jupyter-widgets/base",
            "top": null,
            "grid_column": null,
            "overflow_y": null,
            "overflow_x": null,
            "grid_auto_flow": null,
            "grid_area": null,
            "grid_template_columns": null,
            "flex": null,
            "_model_name": "LayoutModel",
            "justify_items": null,
            "grid_row": null,
            "max_height": null,
            "align_content": null,
            "visibility": null,
            "align_self": null,
            "height": null,
            "min_height": null,
            "padding": null,
            "grid_auto_rows": null,
            "grid_gap": null,
            "max_width": null,
            "order": null,
            "_view_module_version": "1.2.0",
            "grid_template_areas": null,
            "object_position": null,
            "object_fit": null,
            "grid_auto_columns": null,
            "margin": null,
            "display": null,
            "left": null
          }
        },
        "6c04fc045c5d4e76add3b2e4176137d4": {
          "model_module": "@jupyter-widgets/controls",
          "model_name": "DescriptionStyleModel",
          "state": {
            "_view_name": "StyleView",
            "_model_name": "DescriptionStyleModel",
            "description_width": "",
            "_view_module": "@jupyter-widgets/base",
            "_model_module_version": "1.5.0",
            "_view_count": null,
            "_view_module_version": "1.2.0",
            "_model_module": "@jupyter-widgets/controls"
          }
        },
        "e497b1a284b841aa86c54c1b038bad0a": {
          "model_module": "@jupyter-widgets/base",
          "model_name": "LayoutModel",
          "state": {
            "_view_name": "LayoutView",
            "grid_template_rows": null,
            "right": null,
            "justify_content": null,
            "_view_module": "@jupyter-widgets/base",
            "overflow": null,
            "_model_module_version": "1.2.0",
            "_view_count": null,
            "flex_flow": null,
            "width": null,
            "min_width": null,
            "border": null,
            "align_items": null,
            "bottom": null,
            "_model_module": "@jupyter-widgets/base",
            "top": null,
            "grid_column": null,
            "overflow_y": null,
            "overflow_x": null,
            "grid_auto_flow": null,
            "grid_area": null,
            "grid_template_columns": null,
            "flex": null,
            "_model_name": "LayoutModel",
            "justify_items": null,
            "grid_row": null,
            "max_height": null,
            "align_content": null,
            "visibility": null,
            "align_self": null,
            "height": null,
            "min_height": null,
            "padding": null,
            "grid_auto_rows": null,
            "grid_gap": null,
            "max_width": null,
            "order": null,
            "_view_module_version": "1.2.0",
            "grid_template_areas": null,
            "object_position": null,
            "object_fit": null,
            "grid_auto_columns": null,
            "margin": null,
            "display": null,
            "left": null
          }
        },
        "84ef27fcba6d4c99ab4dc37fc957a696": {
          "model_module": "@jupyter-widgets/controls",
          "model_name": "HBoxModel",
          "state": {
            "_view_name": "HBoxView",
            "_dom_classes": [],
            "_model_name": "HBoxModel",
            "_view_module": "@jupyter-widgets/controls",
            "_model_module_version": "1.5.0",
            "_view_count": null,
            "_view_module_version": "1.5.0",
            "box_style": "",
            "layout": "IPY_MODEL_b8b67f67dfc5442c93371d93ddb2f51f",
            "_model_module": "@jupyter-widgets/controls",
            "children": [
              "IPY_MODEL_f99c6987ce2e45d18b2540ed23d7242a",
              "IPY_MODEL_ac3bbbd7fb49490f8cd8fec27266a8e3"
            ]
          }
        },
        "b8b67f67dfc5442c93371d93ddb2f51f": {
          "model_module": "@jupyter-widgets/base",
          "model_name": "LayoutModel",
          "state": {
            "_view_name": "LayoutView",
            "grid_template_rows": null,
            "right": null,
            "justify_content": null,
            "_view_module": "@jupyter-widgets/base",
            "overflow": null,
            "_model_module_version": "1.2.0",
            "_view_count": null,
            "flex_flow": null,
            "width": null,
            "min_width": null,
            "border": null,
            "align_items": null,
            "bottom": null,
            "_model_module": "@jupyter-widgets/base",
            "top": null,
            "grid_column": null,
            "overflow_y": null,
            "overflow_x": null,
            "grid_auto_flow": null,
            "grid_area": null,
            "grid_template_columns": null,
            "flex": null,
            "_model_name": "LayoutModel",
            "justify_items": null,
            "grid_row": null,
            "max_height": null,
            "align_content": null,
            "visibility": null,
            "align_self": null,
            "height": null,
            "min_height": null,
            "padding": null,
            "grid_auto_rows": null,
            "grid_gap": null,
            "max_width": null,
            "order": null,
            "_view_module_version": "1.2.0",
            "grid_template_areas": null,
            "object_position": null,
            "object_fit": null,
            "grid_auto_columns": null,
            "margin": null,
            "display": null,
            "left": null
          }
        },
        "f99c6987ce2e45d18b2540ed23d7242a": {
          "model_module": "@jupyter-widgets/controls",
          "model_name": "FloatProgressModel",
          "state": {
            "_view_name": "ProgressView",
            "style": "IPY_MODEL_23ab12c1cab7445d8a1cd7823b271284",
            "_dom_classes": [],
            "description": "Downloading: 100%",
            "_model_name": "FloatProgressModel",
            "bar_style": "success",
            "max": 440473133,
            "_view_module": "@jupyter-widgets/controls",
            "_model_module_version": "1.5.0",
            "value": 440473133,
            "_view_count": null,
            "_view_module_version": "1.5.0",
            "orientation": "horizontal",
            "min": 0,
            "description_tooltip": null,
            "_model_module": "@jupyter-widgets/controls",
            "layout": "IPY_MODEL_c8c56c0361a34235b190a0f86d5bc564"
          }
        },
        "ac3bbbd7fb49490f8cd8fec27266a8e3": {
          "model_module": "@jupyter-widgets/controls",
          "model_name": "HTMLModel",
          "state": {
            "_view_name": "HTMLView",
            "style": "IPY_MODEL_5bd71e526ccf45df998cd2712394228d",
            "_dom_classes": [],
            "description": "",
            "_model_name": "HTMLModel",
            "placeholder": "​",
            "_view_module": "@jupyter-widgets/controls",
            "_model_module_version": "1.5.0",
            "value": " 440M/440M [00:05&lt;00:00, 79.6MB/s]",
            "_view_count": null,
            "_view_module_version": "1.5.0",
            "description_tooltip": null,
            "_model_module": "@jupyter-widgets/controls",
            "layout": "IPY_MODEL_e920265d2f1142a4921b3935a6076d49"
          }
        },
        "23ab12c1cab7445d8a1cd7823b271284": {
          "model_module": "@jupyter-widgets/controls",
          "model_name": "ProgressStyleModel",
          "state": {
            "_view_name": "StyleView",
            "_model_name": "ProgressStyleModel",
            "description_width": "initial",
            "_view_module": "@jupyter-widgets/base",
            "_model_module_version": "1.5.0",
            "_view_count": null,
            "_view_module_version": "1.2.0",
            "bar_color": null,
            "_model_module": "@jupyter-widgets/controls"
          }
        },
        "c8c56c0361a34235b190a0f86d5bc564": {
          "model_module": "@jupyter-widgets/base",
          "model_name": "LayoutModel",
          "state": {
            "_view_name": "LayoutView",
            "grid_template_rows": null,
            "right": null,
            "justify_content": null,
            "_view_module": "@jupyter-widgets/base",
            "overflow": null,
            "_model_module_version": "1.2.0",
            "_view_count": null,
            "flex_flow": null,
            "width": null,
            "min_width": null,
            "border": null,
            "align_items": null,
            "bottom": null,
            "_model_module": "@jupyter-widgets/base",
            "top": null,
            "grid_column": null,
            "overflow_y": null,
            "overflow_x": null,
            "grid_auto_flow": null,
            "grid_area": null,
            "grid_template_columns": null,
            "flex": null,
            "_model_name": "LayoutModel",
            "justify_items": null,
            "grid_row": null,
            "max_height": null,
            "align_content": null,
            "visibility": null,
            "align_self": null,
            "height": null,
            "min_height": null,
            "padding": null,
            "grid_auto_rows": null,
            "grid_gap": null,
            "max_width": null,
            "order": null,
            "_view_module_version": "1.2.0",
            "grid_template_areas": null,
            "object_position": null,
            "object_fit": null,
            "grid_auto_columns": null,
            "margin": null,
            "display": null,
            "left": null
          }
        },
        "5bd71e526ccf45df998cd2712394228d": {
          "model_module": "@jupyter-widgets/controls",
          "model_name": "DescriptionStyleModel",
          "state": {
            "_view_name": "StyleView",
            "_model_name": "DescriptionStyleModel",
            "description_width": "",
            "_view_module": "@jupyter-widgets/base",
            "_model_module_version": "1.5.0",
            "_view_count": null,
            "_view_module_version": "1.2.0",
            "_model_module": "@jupyter-widgets/controls"
          }
        },
        "e920265d2f1142a4921b3935a6076d49": {
          "model_module": "@jupyter-widgets/base",
          "model_name": "LayoutModel",
          "state": {
            "_view_name": "LayoutView",
            "grid_template_rows": null,
            "right": null,
            "justify_content": null,
            "_view_module": "@jupyter-widgets/base",
            "overflow": null,
            "_model_module_version": "1.2.0",
            "_view_count": null,
            "flex_flow": null,
            "width": null,
            "min_width": null,
            "border": null,
            "align_items": null,
            "bottom": null,
            "_model_module": "@jupyter-widgets/base",
            "top": null,
            "grid_column": null,
            "overflow_y": null,
            "overflow_x": null,
            "grid_auto_flow": null,
            "grid_area": null,
            "grid_template_columns": null,
            "flex": null,
            "_model_name": "LayoutModel",
            "justify_items": null,
            "grid_row": null,
            "max_height": null,
            "align_content": null,
            "visibility": null,
            "align_self": null,
            "height": null,
            "min_height": null,
            "padding": null,
            "grid_auto_rows": null,
            "grid_gap": null,
            "max_width": null,
            "order": null,
            "_view_module_version": "1.2.0",
            "grid_template_areas": null,
            "object_position": null,
            "object_fit": null,
            "grid_auto_columns": null,
            "margin": null,
            "display": null,
            "left": null
          }
        }
      }
    }
  },
  "cells": [
    {
      "cell_type": "markdown",
      "metadata": {
        "id": "view-in-github",
        "colab_type": "text"
      },
      "source": [
        "<a href=\"https://colab.research.google.com/github/linghduoduo/Deep-Learning/blob/master/Transformers.ipynb\" target=\"_parent\"><img src=\"https://colab.research.google.com/assets/colab-badge.svg\" alt=\"Open In Colab\"/></a>"
      ]
    },
    {
      "cell_type": "code",
      "metadata": {
        "colab": {
          "base_uri": "https://localhost:8080/"
        },
        "id": "-KuZL8AV0mVc",
        "outputId": "6fa29d39-3403-44b5-89a7-c8383cb85c92"
      },
      "source": [
        "pip install transformers"
      ],
      "execution_count": 1,
      "outputs": [
        {
          "output_type": "stream",
          "text": [
            "Collecting transformers\n",
            "\u001b[?25l  Downloading https://files.pythonhosted.org/packages/88/b1/41130a228dd656a1a31ba281598a968320283f48d42782845f6ba567f00b/transformers-4.2.2-py3-none-any.whl (1.8MB)\n",
            "\r\u001b[K     |▏                               | 10kB 19.3MB/s eta 0:00:01\r\u001b[K     |▍                               | 20kB 27.3MB/s eta 0:00:01\r\u001b[K     |▋                               | 30kB 28.6MB/s eta 0:00:01\r\u001b[K     |▊                               | 40kB 19.8MB/s eta 0:00:01\r\u001b[K     |█                               | 51kB 15.8MB/s eta 0:00:01\r\u001b[K     |█▏                              | 61kB 17.5MB/s eta 0:00:01\r\u001b[K     |█▎                              | 71kB 14.6MB/s eta 0:00:01\r\u001b[K     |█▌                              | 81kB 15.3MB/s eta 0:00:01\r\u001b[K     |█▊                              | 92kB 13.4MB/s eta 0:00:01\r\u001b[K     |█▉                              | 102kB 12.7MB/s eta 0:00:01\r\u001b[K     |██                              | 112kB 12.7MB/s eta 0:00:01\r\u001b[K     |██▎                             | 122kB 12.7MB/s eta 0:00:01\r\u001b[K     |██▍                             | 133kB 12.7MB/s eta 0:00:01\r\u001b[K     |██▋                             | 143kB 12.7MB/s eta 0:00:01\r\u001b[K     |██▉                             | 153kB 12.7MB/s eta 0:00:01\r\u001b[K     |███                             | 163kB 12.7MB/s eta 0:00:01\r\u001b[K     |███▏                            | 174kB 12.7MB/s eta 0:00:01\r\u001b[K     |███▍                            | 184kB 12.7MB/s eta 0:00:01\r\u001b[K     |███▌                            | 194kB 12.7MB/s eta 0:00:01\r\u001b[K     |███▊                            | 204kB 12.7MB/s eta 0:00:01\r\u001b[K     |████                            | 215kB 12.7MB/s eta 0:00:01\r\u001b[K     |████                            | 225kB 12.7MB/s eta 0:00:01\r\u001b[K     |████▎                           | 235kB 12.7MB/s eta 0:00:01\r\u001b[K     |████▌                           | 245kB 12.7MB/s eta 0:00:01\r\u001b[K     |████▋                           | 256kB 12.7MB/s eta 0:00:01\r\u001b[K     |████▉                           | 266kB 12.7MB/s eta 0:00:01\r\u001b[K     |█████                           | 276kB 12.7MB/s eta 0:00:01\r\u001b[K     |█████▏                          | 286kB 12.7MB/s eta 0:00:01\r\u001b[K     |█████▍                          | 296kB 12.7MB/s eta 0:00:01\r\u001b[K     |█████▋                          | 307kB 12.7MB/s eta 0:00:01\r\u001b[K     |█████▊                          | 317kB 12.7MB/s eta 0:00:01\r\u001b[K     |██████                          | 327kB 12.7MB/s eta 0:00:01\r\u001b[K     |██████▏                         | 337kB 12.7MB/s eta 0:00:01\r\u001b[K     |██████▎                         | 348kB 12.7MB/s eta 0:00:01\r\u001b[K     |██████▌                         | 358kB 12.7MB/s eta 0:00:01\r\u001b[K     |██████▊                         | 368kB 12.7MB/s eta 0:00:01\r\u001b[K     |██████▉                         | 378kB 12.7MB/s eta 0:00:01\r\u001b[K     |███████                         | 389kB 12.7MB/s eta 0:00:01\r\u001b[K     |███████▎                        | 399kB 12.7MB/s eta 0:00:01\r\u001b[K     |███████▍                        | 409kB 12.7MB/s eta 0:00:01\r\u001b[K     |███████▋                        | 419kB 12.7MB/s eta 0:00:01\r\u001b[K     |███████▉                        | 430kB 12.7MB/s eta 0:00:01\r\u001b[K     |████████                        | 440kB 12.7MB/s eta 0:00:01\r\u001b[K     |████████▏                       | 450kB 12.7MB/s eta 0:00:01\r\u001b[K     |████████▍                       | 460kB 12.7MB/s eta 0:00:01\r\u001b[K     |████████▌                       | 471kB 12.7MB/s eta 0:00:01\r\u001b[K     |████████▊                       | 481kB 12.7MB/s eta 0:00:01\r\u001b[K     |█████████                       | 491kB 12.7MB/s eta 0:00:01\r\u001b[K     |█████████                       | 501kB 12.7MB/s eta 0:00:01\r\u001b[K     |█████████▎                      | 512kB 12.7MB/s eta 0:00:01\r\u001b[K     |█████████▌                      | 522kB 12.7MB/s eta 0:00:01\r\u001b[K     |█████████▋                      | 532kB 12.7MB/s eta 0:00:01\r\u001b[K     |█████████▉                      | 542kB 12.7MB/s eta 0:00:01\r\u001b[K     |██████████                      | 552kB 12.7MB/s eta 0:00:01\r\u001b[K     |██████████▏                     | 563kB 12.7MB/s eta 0:00:01\r\u001b[K     |██████████▍                     | 573kB 12.7MB/s eta 0:00:01\r\u001b[K     |██████████▋                     | 583kB 12.7MB/s eta 0:00:01\r\u001b[K     |██████████▊                     | 593kB 12.7MB/s eta 0:00:01\r\u001b[K     |███████████                     | 604kB 12.7MB/s eta 0:00:01\r\u001b[K     |███████████▏                    | 614kB 12.7MB/s eta 0:00:01\r\u001b[K     |███████████▎                    | 624kB 12.7MB/s eta 0:00:01\r\u001b[K     |███████████▌                    | 634kB 12.7MB/s eta 0:00:01\r\u001b[K     |███████████▊                    | 645kB 12.7MB/s eta 0:00:01\r\u001b[K     |███████████▉                    | 655kB 12.7MB/s eta 0:00:01\r\u001b[K     |████████████                    | 665kB 12.7MB/s eta 0:00:01\r\u001b[K     |████████████▎                   | 675kB 12.7MB/s eta 0:00:01\r\u001b[K     |████████████▍                   | 686kB 12.7MB/s eta 0:00:01\r\u001b[K     |████████████▋                   | 696kB 12.7MB/s eta 0:00:01\r\u001b[K     |████████████▉                   | 706kB 12.7MB/s eta 0:00:01\r\u001b[K     |█████████████                   | 716kB 12.7MB/s eta 0:00:01\r\u001b[K     |█████████████▏                  | 727kB 12.7MB/s eta 0:00:01\r\u001b[K     |█████████████▍                  | 737kB 12.7MB/s eta 0:00:01\r\u001b[K     |█████████████▌                  | 747kB 12.7MB/s eta 0:00:01\r\u001b[K     |█████████████▊                  | 757kB 12.7MB/s eta 0:00:01\r\u001b[K     |██████████████                  | 768kB 12.7MB/s eta 0:00:01\r\u001b[K     |██████████████                  | 778kB 12.7MB/s eta 0:00:01\r\u001b[K     |██████████████▎                 | 788kB 12.7MB/s eta 0:00:01\r\u001b[K     |██████████████▌                 | 798kB 12.7MB/s eta 0:00:01\r\u001b[K     |██████████████▋                 | 808kB 12.7MB/s eta 0:00:01\r\u001b[K     |██████████████▉                 | 819kB 12.7MB/s eta 0:00:01\r\u001b[K     |███████████████                 | 829kB 12.7MB/s eta 0:00:01\r\u001b[K     |███████████████▏                | 839kB 12.7MB/s eta 0:00:01\r\u001b[K     |███████████████▍                | 849kB 12.7MB/s eta 0:00:01\r\u001b[K     |███████████████▋                | 860kB 12.7MB/s eta 0:00:01\r\u001b[K     |███████████████▊                | 870kB 12.7MB/s eta 0:00:01\r\u001b[K     |████████████████                | 880kB 12.7MB/s eta 0:00:01\r\u001b[K     |████████████████▏               | 890kB 12.7MB/s eta 0:00:01\r\u001b[K     |████████████████▎               | 901kB 12.7MB/s eta 0:00:01\r\u001b[K     |████████████████▌               | 911kB 12.7MB/s eta 0:00:01\r\u001b[K     |████████████████▊               | 921kB 12.7MB/s eta 0:00:01\r\u001b[K     |████████████████▉               | 931kB 12.7MB/s eta 0:00:01\r\u001b[K     |█████████████████               | 942kB 12.7MB/s eta 0:00:01\r\u001b[K     |█████████████████▎              | 952kB 12.7MB/s eta 0:00:01\r\u001b[K     |█████████████████▍              | 962kB 12.7MB/s eta 0:00:01\r\u001b[K     |█████████████████▋              | 972kB 12.7MB/s eta 0:00:01\r\u001b[K     |█████████████████▉              | 983kB 12.7MB/s eta 0:00:01\r\u001b[K     |██████████████████              | 993kB 12.7MB/s eta 0:00:01\r\u001b[K     |██████████████████▏             | 1.0MB 12.7MB/s eta 0:00:01\r\u001b[K     |██████████████████▍             | 1.0MB 12.7MB/s eta 0:00:01\r\u001b[K     |██████████████████▌             | 1.0MB 12.7MB/s eta 0:00:01\r\u001b[K     |██████████████████▊             | 1.0MB 12.7MB/s eta 0:00:01\r\u001b[K     |███████████████████             | 1.0MB 12.7MB/s eta 0:00:01\r\u001b[K     |███████████████████             | 1.1MB 12.7MB/s eta 0:00:01\r\u001b[K     |███████████████████▎            | 1.1MB 12.7MB/s eta 0:00:01\r\u001b[K     |███████████████████▌            | 1.1MB 12.7MB/s eta 0:00:01\r\u001b[K     |███████████████████▋            | 1.1MB 12.7MB/s eta 0:00:01\r\u001b[K     |███████████████████▉            | 1.1MB 12.7MB/s eta 0:00:01\r\u001b[K     |████████████████████            | 1.1MB 12.7MB/s eta 0:00:01\r\u001b[K     |████████████████████▏           | 1.1MB 12.7MB/s eta 0:00:01\r\u001b[K     |████████████████████▍           | 1.1MB 12.7MB/s eta 0:00:01\r\u001b[K     |████████████████████▋           | 1.1MB 12.7MB/s eta 0:00:01\r\u001b[K     |████████████████████▊           | 1.1MB 12.7MB/s eta 0:00:01\r\u001b[K     |█████████████████████           | 1.2MB 12.7MB/s eta 0:00:01\r\u001b[K     |█████████████████████▏          | 1.2MB 12.7MB/s eta 0:00:01\r\u001b[K     |█████████████████████▎          | 1.2MB 12.7MB/s eta 0:00:01\r\u001b[K     |█████████████████████▌          | 1.2MB 12.7MB/s eta 0:00:01\r\u001b[K     |█████████████████████▊          | 1.2MB 12.7MB/s eta 0:00:01\r\u001b[K     |█████████████████████▉          | 1.2MB 12.7MB/s eta 0:00:01\r\u001b[K     |██████████████████████          | 1.2MB 12.7MB/s eta 0:00:01\r\u001b[K     |██████████████████████▎         | 1.2MB 12.7MB/s eta 0:00:01\r\u001b[K     |██████████████████████▍         | 1.2MB 12.7MB/s eta 0:00:01\r\u001b[K     |██████████████████████▋         | 1.2MB 12.7MB/s eta 0:00:01\r\u001b[K     |██████████████████████▉         | 1.3MB 12.7MB/s eta 0:00:01\r\u001b[K     |███████████████████████         | 1.3MB 12.7MB/s eta 0:00:01\r\u001b[K     |███████████████████████▏        | 1.3MB 12.7MB/s eta 0:00:01\r\u001b[K     |███████████████████████▍        | 1.3MB 12.7MB/s eta 0:00:01\r\u001b[K     |███████████████████████▌        | 1.3MB 12.7MB/s eta 0:00:01\r\u001b[K     |███████████████████████▊        | 1.3MB 12.7MB/s eta 0:00:01\r\u001b[K     |████████████████████████        | 1.3MB 12.7MB/s eta 0:00:01\r\u001b[K     |████████████████████████        | 1.3MB 12.7MB/s eta 0:00:01\r\u001b[K     |████████████████████████▎       | 1.3MB 12.7MB/s eta 0:00:01\r\u001b[K     |████████████████████████▌       | 1.4MB 12.7MB/s eta 0:00:01\r\u001b[K     |████████████████████████▊       | 1.4MB 12.7MB/s eta 0:00:01\r\u001b[K     |████████████████████████▉       | 1.4MB 12.7MB/s eta 0:00:01\r\u001b[K     |█████████████████████████       | 1.4MB 12.7MB/s eta 0:00:01\r\u001b[K     |█████████████████████████▎      | 1.4MB 12.7MB/s eta 0:00:01\r\u001b[K     |█████████████████████████▍      | 1.4MB 12.7MB/s eta 0:00:01\r\u001b[K     |█████████████████████████▋      | 1.4MB 12.7MB/s eta 0:00:01\r\u001b[K     |█████████████████████████▉      | 1.4MB 12.7MB/s eta 0:00:01\r\u001b[K     |██████████████████████████      | 1.4MB 12.7MB/s eta 0:00:01\r\u001b[K     |██████████████████████████▏     | 1.4MB 12.7MB/s eta 0:00:01\r\u001b[K     |██████████████████████████▍     | 1.5MB 12.7MB/s eta 0:00:01\r\u001b[K     |██████████████████████████▌     | 1.5MB 12.7MB/s eta 0:00:01\r\u001b[K     |██████████████████████████▊     | 1.5MB 12.7MB/s eta 0:00:01\r\u001b[K     |███████████████████████████     | 1.5MB 12.7MB/s eta 0:00:01\r\u001b[K     |███████████████████████████     | 1.5MB 12.7MB/s eta 0:00:01\r\u001b[K     |███████████████████████████▎    | 1.5MB 12.7MB/s eta 0:00:01\r\u001b[K     |███████████████████████████▌    | 1.5MB 12.7MB/s eta 0:00:01\r\u001b[K     |███████████████████████████▋    | 1.5MB 12.7MB/s eta 0:00:01\r\u001b[K     |███████████████████████████▉    | 1.5MB 12.7MB/s eta 0:00:01\r\u001b[K     |████████████████████████████    | 1.5MB 12.7MB/s eta 0:00:01\r\u001b[K     |████████████████████████████▏   | 1.6MB 12.7MB/s eta 0:00:01\r\u001b[K     |████████████████████████████▍   | 1.6MB 12.7MB/s eta 0:00:01\r\u001b[K     |████████████████████████████▋   | 1.6MB 12.7MB/s eta 0:00:01\r\u001b[K     |████████████████████████████▊   | 1.6MB 12.7MB/s eta 0:00:01\r\u001b[K     |█████████████████████████████   | 1.6MB 12.7MB/s eta 0:00:01\r\u001b[K     |█████████████████████████████▏  | 1.6MB 12.7MB/s eta 0:00:01\r\u001b[K     |█████████████████████████████▎  | 1.6MB 12.7MB/s eta 0:00:01\r\u001b[K     |█████████████████████████████▌  | 1.6MB 12.7MB/s eta 0:00:01\r\u001b[K     |█████████████████████████████▊  | 1.6MB 12.7MB/s eta 0:00:01\r\u001b[K     |█████████████████████████████▉  | 1.6MB 12.7MB/s eta 0:00:01\r\u001b[K     |██████████████████████████████  | 1.7MB 12.7MB/s eta 0:00:01\r\u001b[K     |██████████████████████████████▎ | 1.7MB 12.7MB/s eta 0:00:01\r\u001b[K     |██████████████████████████████▍ | 1.7MB 12.7MB/s eta 0:00:01\r\u001b[K     |██████████████████████████████▋ | 1.7MB 12.7MB/s eta 0:00:01\r\u001b[K     |██████████████████████████████▉ | 1.7MB 12.7MB/s eta 0:00:01\r\u001b[K     |███████████████████████████████ | 1.7MB 12.7MB/s eta 0:00:01\r\u001b[K     |███████████████████████████████▏| 1.7MB 12.7MB/s eta 0:00:01\r\u001b[K     |███████████████████████████████▍| 1.7MB 12.7MB/s eta 0:00:01\r\u001b[K     |███████████████████████████████▌| 1.7MB 12.7MB/s eta 0:00:01\r\u001b[K     |███████████████████████████████▊| 1.8MB 12.7MB/s eta 0:00:01\r\u001b[K     |████████████████████████████████| 1.8MB 12.7MB/s eta 0:00:01\r\u001b[K     |████████████████████████████████| 1.8MB 12.7MB/s \n",
            "\u001b[?25hRequirement already satisfied: filelock in /usr/local/lib/python3.6/dist-packages (from transformers) (3.0.12)\n",
            "Collecting tokenizers==0.9.4\n",
            "\u001b[?25l  Downloading https://files.pythonhosted.org/packages/0f/1c/e789a8b12e28be5bc1ce2156cf87cb522b379be9cadc7ad8091a4cc107c4/tokenizers-0.9.4-cp36-cp36m-manylinux2010_x86_64.whl (2.9MB)\n",
            "\u001b[K     |████████████████████████████████| 2.9MB 50.3MB/s \n",
            "\u001b[?25hRequirement already satisfied: importlib-metadata; python_version < \"3.8\" in /usr/local/lib/python3.6/dist-packages (from transformers) (3.3.0)\n",
            "Requirement already satisfied: dataclasses; python_version < \"3.7\" in /usr/local/lib/python3.6/dist-packages (from transformers) (0.8)\n",
            "Collecting sacremoses\n",
            "\u001b[?25l  Downloading https://files.pythonhosted.org/packages/7d/34/09d19aff26edcc8eb2a01bed8e98f13a1537005d31e95233fd48216eed10/sacremoses-0.0.43.tar.gz (883kB)\n",
            "\u001b[K     |████████████████████████████████| 890kB 56.0MB/s \n",
            "\u001b[?25hRequirement already satisfied: requests in /usr/local/lib/python3.6/dist-packages (from transformers) (2.23.0)\n",
            "Requirement already satisfied: numpy in /usr/local/lib/python3.6/dist-packages (from transformers) (1.19.5)\n",
            "Requirement already satisfied: tqdm>=4.27 in /usr/local/lib/python3.6/dist-packages (from transformers) (4.41.1)\n",
            "Requirement already satisfied: regex!=2019.12.17 in /usr/local/lib/python3.6/dist-packages (from transformers) (2019.12.20)\n",
            "Requirement already satisfied: packaging in /usr/local/lib/python3.6/dist-packages (from transformers) (20.8)\n",
            "Requirement already satisfied: zipp>=0.5 in /usr/local/lib/python3.6/dist-packages (from importlib-metadata; python_version < \"3.8\"->transformers) (3.4.0)\n",
            "Requirement already satisfied: typing-extensions>=3.6.4; python_version < \"3.8\" in /usr/local/lib/python3.6/dist-packages (from importlib-metadata; python_version < \"3.8\"->transformers) (3.7.4.3)\n",
            "Requirement already satisfied: six in /usr/local/lib/python3.6/dist-packages (from sacremoses->transformers) (1.15.0)\n",
            "Requirement already satisfied: click in /usr/local/lib/python3.6/dist-packages (from sacremoses->transformers) (7.1.2)\n",
            "Requirement already satisfied: joblib in /usr/local/lib/python3.6/dist-packages (from sacremoses->transformers) (1.0.0)\n",
            "Requirement already satisfied: idna<3,>=2.5 in /usr/local/lib/python3.6/dist-packages (from requests->transformers) (2.10)\n",
            "Requirement already satisfied: certifi>=2017.4.17 in /usr/local/lib/python3.6/dist-packages (from requests->transformers) (2020.12.5)\n",
            "Requirement already satisfied: urllib3!=1.25.0,!=1.25.1,<1.26,>=1.21.1 in /usr/local/lib/python3.6/dist-packages (from requests->transformers) (1.24.3)\n",
            "Requirement already satisfied: chardet<4,>=3.0.2 in /usr/local/lib/python3.6/dist-packages (from requests->transformers) (3.0.4)\n",
            "Requirement already satisfied: pyparsing>=2.0.2 in /usr/local/lib/python3.6/dist-packages (from packaging->transformers) (2.4.7)\n",
            "Building wheels for collected packages: sacremoses\n",
            "  Building wheel for sacremoses (setup.py) ... \u001b[?25l\u001b[?25hdone\n",
            "  Created wheel for sacremoses: filename=sacremoses-0.0.43-cp36-none-any.whl size=893261 sha256=1daca8e4da5c11e1d9c7a1da44694da89ab4253a8c79da641c0bebf557d5c5f1\n",
            "  Stored in directory: /root/.cache/pip/wheels/29/3c/fd/7ce5c3f0666dab31a50123635e6fb5e19ceb42ce38d4e58f45\n",
            "Successfully built sacremoses\n",
            "Installing collected packages: tokenizers, sacremoses, transformers\n",
            "Successfully installed sacremoses-0.0.43 tokenizers-0.9.4 transformers-4.2.2\n"
          ],
          "name": "stdout"
        }
      ]
    },
    {
      "cell_type": "code",
      "metadata": {
        "id": "HEx6FNV80oG6"
      },
      "source": [
        "from transformers import pipeline"
      ],
      "execution_count": 2,
      "outputs": []
    },
    {
      "cell_type": "code",
      "metadata": {
        "colab": {
          "base_uri": "https://localhost:8080/",
          "height": 164,
          "referenced_widgets": [
            "ac922636d36a407f9f235811c91943f9",
            "bed329d2c57243149e071b0a90abe2a0",
            "c3322936259048e5b6e8fc2204a1860b",
            "defecbfdafa640f79daf0272a40dbf89",
            "981fb4500192482baa91094b01a0f86f",
            "a9383d20368442ea91cbb0f9ec42342f",
            "8b0e2ef0a1504557908280315fb395e0",
            "3963a02acfa949dfb6d61d46d972fa33",
            "f4e1d3b8dc5f4a58aeeb26c02f0fe4c0",
            "51c3815993534cc0a11d3c2092b283a8",
            "a1ecb053e1ce473e9671266eb7496cc8",
            "fda7a8a54e0e4ec996f17ce878612d8c",
            "143255095fc142ae995e75ed77c239c2",
            "254e0648e3d547e7a14de11ed07c4b24",
            "f561b5279b1a4ce2989534698676e20f",
            "987555eba83a4569b281b8dbd48d610f",
            "11cd53724e4d4c6586b2e2c65af75fb8",
            "ba7b03669e554c5286a245fb5b0fcffa",
            "c1f9438993e84991a4a478bbfa90849b",
            "00975e2bde524230be290556f8b8e6fe",
            "5f17873f6b7749ad9ceeb8d45a63fa75",
            "53a0dca5afaf4baba602a1da4991074d",
            "d5f6a29ababe40379dc91201f6004b69",
            "84bb9bf631454762ad6acc2939ddd88d"
          ]
        },
        "id": "JzEtf8zY03WI",
        "outputId": "be427312-320e-417f-ee31-ec363ed46314"
      },
      "source": [
        "classifier = pipeline('sentiment-analysis')"
      ],
      "execution_count": 3,
      "outputs": [
        {
          "output_type": "display_data",
          "data": {
            "application/vnd.jupyter.widget-view+json": {
              "model_id": "ac922636d36a407f9f235811c91943f9",
              "version_minor": 0,
              "version_major": 2
            },
            "text/plain": [
              "HBox(children=(FloatProgress(value=0.0, description='Downloading', max=629.0, style=ProgressStyle(description_…"
            ]
          },
          "metadata": {
            "tags": []
          }
        },
        {
          "output_type": "stream",
          "text": [
            "\n"
          ],
          "name": "stdout"
        },
        {
          "output_type": "display_data",
          "data": {
            "application/vnd.jupyter.widget-view+json": {
              "model_id": "f4e1d3b8dc5f4a58aeeb26c02f0fe4c0",
              "version_minor": 0,
              "version_major": 2
            },
            "text/plain": [
              "HBox(children=(FloatProgress(value=0.0, description='Downloading', max=267844284.0, style=ProgressStyle(descri…"
            ]
          },
          "metadata": {
            "tags": []
          }
        },
        {
          "output_type": "stream",
          "text": [
            "\n"
          ],
          "name": "stdout"
        },
        {
          "output_type": "display_data",
          "data": {
            "application/vnd.jupyter.widget-view+json": {
              "model_id": "11cd53724e4d4c6586b2e2c65af75fb8",
              "version_minor": 0,
              "version_major": 2
            },
            "text/plain": [
              "HBox(children=(FloatProgress(value=0.0, description='Downloading', max=231508.0, style=ProgressStyle(descripti…"
            ]
          },
          "metadata": {
            "tags": []
          }
        },
        {
          "output_type": "stream",
          "text": [
            "\n"
          ],
          "name": "stdout"
        }
      ]
    },
    {
      "cell_type": "code",
      "metadata": {
        "colab": {
          "base_uri": "https://localhost:8080/"
        },
        "id": "o2RItprp1D9r",
        "outputId": "370d20ca-3d5b-4e59-de1f-bc1f97a52045"
      },
      "source": [
        "classifier('We are very happy to include pipeline into the transformers repository.')"
      ],
      "execution_count": 4,
      "outputs": [
        {
          "output_type": "execute_result",
          "data": {
            "text/plain": [
              "[{'label': 'POSITIVE', 'score': 0.9978193640708923}]"
            ]
          },
          "metadata": {
            "tags": []
          },
          "execution_count": 4
        }
      ]
    },
    {
      "cell_type": "code",
      "metadata": {
        "colab": {
          "base_uri": "https://localhost:8080/",
          "height": 213,
          "referenced_widgets": [
            "b995ed451c74484f9c13ef1a219f1c37",
            "576789f2b1eb4b01b86da23865b6f8b6",
            "c4a0551c5d204403b1c0a7764179634b",
            "db262fe5f55440bb8311e94aed3116e9",
            "e428d444ce5b44258a482584fa101ef9",
            "82c03d16a8734a7ab46661a921d9bb29",
            "1fb33a2df2cd421699ab04a5b60b0dd2",
            "19d64cc2bee2409d8c14a20ce2d050a4",
            "3c9d7e40e6014cd9a714541aa6dcbfa7",
            "8fc39fbeb7eb4096aa9081382a995e84",
            "473409bb1aa04ac29163434d820b36c4",
            "77d27bc05b2f4c25aa2926d8c3a248d6",
            "5fbefefe10474bacad56c5913700a965",
            "002baf37f9ea4e33a013f7cfe5f5dbd4",
            "0f57133e4c7d4387b2c69a6e62be0f74",
            "4fea5a05aa5d4e349f13c1e09c098a1b",
            "ca40ba674ded4662884dd637924ec1cb",
            "a9584ea47ce24048810c98789a3c1f58",
            "c38483cc42f346b0b84cb6ddfa6bcf4e",
            "3e2f7db0e72447239261fbddd43e201d",
            "d83ed7762e0147a8a060abab39fe479a",
            "6fa9146d658a4269966d43ed7a31da02",
            "9027ccc9aae54df2bc2af07a90bb3070",
            "1493d8da315b43feb4122de6f234348b",
            "e94042bd38194166b6ba18ee49656cca",
            "26920537642042929591b4f510116ed7",
            "baf39f4759644aec830ec75977631e30",
            "fd86b93bcfbc4b959289c8f9d579c91f",
            "9c356563b6c048f6bd628ab0074ef4b6",
            "a7d0f4fa46454757b90fd7b312472387",
            "1b6e29fefea04098977439e82fd23c01",
            "63f9a3989c764eb6893fbe1a7262c3bb"
          ]
        },
        "id": "n_slSFld1H-w",
        "outputId": "ce4194d2-3020-48ab-8dc4-dfbd49ff32ff"
      },
      "source": [
        "question_answerer = pipeline('question-answering')"
      ],
      "execution_count": 5,
      "outputs": [
        {
          "output_type": "display_data",
          "data": {
            "application/vnd.jupyter.widget-view+json": {
              "model_id": "b995ed451c74484f9c13ef1a219f1c37",
              "version_minor": 0,
              "version_major": 2
            },
            "text/plain": [
              "HBox(children=(FloatProgress(value=0.0, description='Downloading', max=473.0, style=ProgressStyle(description_…"
            ]
          },
          "metadata": {
            "tags": []
          }
        },
        {
          "output_type": "stream",
          "text": [
            "\n"
          ],
          "name": "stdout"
        },
        {
          "output_type": "display_data",
          "data": {
            "application/vnd.jupyter.widget-view+json": {
              "model_id": "3c9d7e40e6014cd9a714541aa6dcbfa7",
              "version_minor": 0,
              "version_major": 2
            },
            "text/plain": [
              "HBox(children=(FloatProgress(value=0.0, description='Downloading', max=260793700.0, style=ProgressStyle(descri…"
            ]
          },
          "metadata": {
            "tags": []
          }
        },
        {
          "output_type": "stream",
          "text": [
            "\n"
          ],
          "name": "stdout"
        },
        {
          "output_type": "display_data",
          "data": {
            "application/vnd.jupyter.widget-view+json": {
              "model_id": "ca40ba674ded4662884dd637924ec1cb",
              "version_minor": 0,
              "version_major": 2
            },
            "text/plain": [
              "HBox(children=(FloatProgress(value=0.0, description='Downloading', max=213450.0, style=ProgressStyle(descripti…"
            ]
          },
          "metadata": {
            "tags": []
          }
        },
        {
          "output_type": "stream",
          "text": [
            "\n"
          ],
          "name": "stdout"
        },
        {
          "output_type": "display_data",
          "data": {
            "application/vnd.jupyter.widget-view+json": {
              "model_id": "e94042bd38194166b6ba18ee49656cca",
              "version_minor": 0,
              "version_major": 2
            },
            "text/plain": [
              "HBox(children=(FloatProgress(value=0.0, description='Downloading', max=435797.0, style=ProgressStyle(descripti…"
            ]
          },
          "metadata": {
            "tags": []
          }
        },
        {
          "output_type": "stream",
          "text": [
            "\n"
          ],
          "name": "stdout"
        }
      ]
    },
    {
      "cell_type": "code",
      "metadata": {
        "colab": {
          "base_uri": "https://localhost:8080/"
        },
        "id": "sDrPVIea1LoX",
        "outputId": "014755f2-4d08-4842-981b-7f489d4b95d9"
      },
      "source": [
        "question_answerer({\n",
        "...     'question': 'What is the name of the repository ?',\n",
        "...     'context': 'Pipeline have been included in the huggingface/transformers repository'\n",
        "... })"
      ],
      "execution_count": 6,
      "outputs": [
        {
          "output_type": "execute_result",
          "data": {
            "text/plain": [
              "{'answer': 'huggingface/transformers',\n",
              " 'end': 59,\n",
              " 'score': 0.5135958790779114,\n",
              " 'start': 35}"
            ]
          },
          "metadata": {
            "tags": []
          },
          "execution_count": 6
        }
      ]
    },
    {
      "cell_type": "code",
      "metadata": {
        "id": "VshwyvN91Ql-"
      },
      "source": [
        "from transformers import AutoTokenizer, AutoModel"
      ],
      "execution_count": 7,
      "outputs": []
    },
    {
      "cell_type": "code",
      "metadata": {
        "colab": {
          "base_uri": "https://localhost:8080/",
          "height": 164,
          "referenced_widgets": [
            "27eb4081ce4b4cec812232edb8bd0e43",
            "6f980f1aa3874d989dfb077c9da0dc1a",
            "fc371e185a4f45a4b625ff83dccdf2ad",
            "bfe9c5c3c3a64b0c88de92011f4246ae",
            "623ae041c76f4e2dbcbd0a061c5a199b",
            "87defd775754440980ce6c0a203c146a",
            "b3b969764a144174bad055682c254644",
            "82685d88bb294280aee420014b6ee729",
            "3e089298e32c4d439748211fa20a6270",
            "5bc18dc3f5eb46af9cc422e23c48ccfd",
            "d6a35d6f2acc458f848c121071e64f36",
            "368c32002b644385983116d73e810fd7",
            "45b9df236b4b4a2285ada0f5922009f5",
            "d895597368e64068a296c9246c20cfef",
            "1a7e6e7c1de144d8bd1d74f2672f8b6a",
            "9950e48a5853458d9daaf9649de273b8",
            "9dfc681e0f4b430bafde6e8e7329dee3",
            "fa0a6549f79a48ac90b78460b545ecb5",
            "63c3e8cba24d4410929a4c108fc84f8f",
            "a893e4986d994a4c814422ea618f9468",
            "de2775f233f14b8292b36c166fa67eb3",
            "83a2cfe64e6a4702949900fe0c477950",
            "6c04fc045c5d4e76add3b2e4176137d4",
            "e497b1a284b841aa86c54c1b038bad0a"
          ]
        },
        "id": "EhCMQ5Jo1X2S",
        "outputId": "e1a7f14e-4ffd-4172-f38d-b268d9e01e55"
      },
      "source": [
        "tokenizer = AutoTokenizer.from_pretrained(\"bert-base-uncased\")"
      ],
      "execution_count": 8,
      "outputs": [
        {
          "output_type": "display_data",
          "data": {
            "application/vnd.jupyter.widget-view+json": {
              "model_id": "27eb4081ce4b4cec812232edb8bd0e43",
              "version_minor": 0,
              "version_major": 2
            },
            "text/plain": [
              "HBox(children=(FloatProgress(value=0.0, description='Downloading', max=433.0, style=ProgressStyle(description_…"
            ]
          },
          "metadata": {
            "tags": []
          }
        },
        {
          "output_type": "stream",
          "text": [
            "\n"
          ],
          "name": "stdout"
        },
        {
          "output_type": "display_data",
          "data": {
            "application/vnd.jupyter.widget-view+json": {
              "model_id": "3e089298e32c4d439748211fa20a6270",
              "version_minor": 0,
              "version_major": 2
            },
            "text/plain": [
              "HBox(children=(FloatProgress(value=0.0, description='Downloading', max=231508.0, style=ProgressStyle(descripti…"
            ]
          },
          "metadata": {
            "tags": []
          }
        },
        {
          "output_type": "stream",
          "text": [
            "\n"
          ],
          "name": "stdout"
        },
        {
          "output_type": "display_data",
          "data": {
            "application/vnd.jupyter.widget-view+json": {
              "model_id": "9dfc681e0f4b430bafde6e8e7329dee3",
              "version_minor": 0,
              "version_major": 2
            },
            "text/plain": [
              "HBox(children=(FloatProgress(value=0.0, description='Downloading', max=466062.0, style=ProgressStyle(descripti…"
            ]
          },
          "metadata": {
            "tags": []
          }
        },
        {
          "output_type": "stream",
          "text": [
            "\n"
          ],
          "name": "stdout"
        }
      ]
    },
    {
      "cell_type": "code",
      "metadata": {
        "colab": {
          "base_uri": "https://localhost:8080/",
          "height": 66,
          "referenced_widgets": [
            "84ef27fcba6d4c99ab4dc37fc957a696",
            "b8b67f67dfc5442c93371d93ddb2f51f",
            "f99c6987ce2e45d18b2540ed23d7242a",
            "ac3bbbd7fb49490f8cd8fec27266a8e3",
            "23ab12c1cab7445d8a1cd7823b271284",
            "c8c56c0361a34235b190a0f86d5bc564",
            "5bd71e526ccf45df998cd2712394228d",
            "e920265d2f1142a4921b3935a6076d49"
          ]
        },
        "id": "GIrDvu8X1Zoc",
        "outputId": "da3db84c-0be6-43a1-dfe2-4454f8cdca11"
      },
      "source": [
        "model = AutoModel.from_pretrained(\"bert-base-uncased\")"
      ],
      "execution_count": 9,
      "outputs": [
        {
          "output_type": "display_data",
          "data": {
            "application/vnd.jupyter.widget-view+json": {
              "model_id": "84ef27fcba6d4c99ab4dc37fc957a696",
              "version_minor": 0,
              "version_major": 2
            },
            "text/plain": [
              "HBox(children=(FloatProgress(value=0.0, description='Downloading', max=440473133.0, style=ProgressStyle(descri…"
            ]
          },
          "metadata": {
            "tags": []
          }
        },
        {
          "output_type": "stream",
          "text": [
            "\n"
          ],
          "name": "stdout"
        }
      ]
    },
    {
      "cell_type": "code",
      "metadata": {
        "id": "1rPJb_qE1b1m"
      },
      "source": [
        "inputs = tokenizer(\"Hello world!\", return_tensors=\"pt\")"
      ],
      "execution_count": 10,
      "outputs": []
    },
    {
      "cell_type": "code",
      "metadata": {
        "id": "eEyQKLX-1d5z"
      },
      "source": [
        "outputs = model(**inputs)"
      ],
      "execution_count": 11,
      "outputs": []
    },
    {
      "cell_type": "code",
      "metadata": {
        "colab": {
          "base_uri": "https://localhost:8080/"
        },
        "id": "ACnxHiES1gd5",
        "outputId": "c53b386d-5b30-477e-93aa-8eb62d4f6480"
      },
      "source": [
        "inputs"
      ],
      "execution_count": 12,
      "outputs": [
        {
          "output_type": "execute_result",
          "data": {
            "text/plain": [
              "{'input_ids': tensor([[ 101, 7592, 2088,  999,  102]]), 'token_type_ids': tensor([[0, 0, 0, 0, 0]]), 'attention_mask': tensor([[1, 1, 1, 1, 1]])}"
            ]
          },
          "metadata": {
            "tags": []
          },
          "execution_count": 12
        }
      ]
    },
    {
      "cell_type": "code",
      "metadata": {
        "colab": {
          "base_uri": "https://localhost:8080/"
        },
        "id": "SQ1yQeB_1hzb",
        "outputId": "0cc7349f-e3e5-4850-b6f2-16f9b1c0a0a3"
      },
      "source": [
        "outputs"
      ],
      "execution_count": 13,
      "outputs": [
        {
          "output_type": "execute_result",
          "data": {
            "text/plain": [
              "BaseModelOutputWithPoolingAndCrossAttentions([('last_hidden_state',\n",
              "                                               tensor([[[-0.1424,  0.1335, -0.1291,  ..., -0.3597, -0.0562,  0.3605],\n",
              "                                                        [-0.3506,  0.1042,  0.6244,  ..., -0.1761,  0.4834,  0.0644],\n",
              "                                                        [-0.2451, -0.1573,  0.6945,  ..., -0.5654, -0.0894, -0.1856],\n",
              "                                                        [-0.8248, -0.9119, -0.6561,  ...,  0.5074, -0.1939, -0.1659],\n",
              "                                                        [ 0.8767,  0.0352, -0.1233,  ...,  0.2720, -0.6369, -0.1585]]],\n",
              "                                                      grad_fn=<NativeLayerNormBackward>)),\n",
              "                                              ('pooler_output',\n",
              "                                               tensor([[-8.9756e-01, -3.3040e-01, -7.6942e-01,  7.5799e-01,  4.6678e-01,\n",
              "                                                        -1.2035e-01,  9.1835e-01,  1.8087e-01, -7.2716e-01, -9.9991e-01,\n",
              "                                                        -4.4723e-01,  8.9104e-01,  9.6621e-01,  5.4915e-01,  9.4344e-01,\n",
              "                                                        -7.6605e-01, -6.0469e-01, -6.1654e-01,  4.0572e-01, -7.4644e-01,\n",
              "                                                         6.1739e-01,  9.9974e-01,  3.2991e-02,  2.5414e-01,  4.3106e-01,\n",
              "                                                         9.7732e-01, -8.4328e-01,  9.2297e-01,  9.4871e-01,  6.3994e-01,\n",
              "                                                        -7.3620e-01,  9.0956e-02, -9.7607e-01, -1.9114e-01, -8.1717e-01,\n",
              "                                                        -9.7907e-01,  3.1635e-01, -7.2013e-01,  1.6124e-01,  5.1999e-02,\n",
              "                                                        -8.9102e-01,  2.3002e-01,  9.9967e-01,  1.1503e-02,  1.1176e-01,\n",
              "                                                        -3.5556e-01, -1.0000e+00,  2.8487e-01, -8.3339e-01,  8.0987e-01,\n",
              "                                                         7.4664e-01,  6.2762e-01,  1.9847e-01,  4.5185e-01,  4.7242e-01,\n",
              "                                                        -3.9162e-03, -1.0570e-01,  9.3340e-02, -1.8906e-01, -5.1946e-01,\n",
              "                                                        -5.7823e-01,  2.8046e-01, -8.2281e-01, -8.9764e-01,  9.1890e-01,\n",
              "                                                         7.4117e-01, -5.9993e-02, -3.1655e-01,  2.8230e-03, -1.4652e-01,\n",
              "                                                         9.0953e-01,  2.5587e-01,  5.4493e-02, -8.4187e-01,  5.7771e-01,\n",
              "                                                         2.4804e-01, -6.1732e-01,  1.0000e+00, -6.4891e-01, -9.5425e-01,\n",
              "                                                         5.5482e-01,  6.8866e-01,  5.5711e-01, -3.3463e-01,  4.7904e-01,\n",
              "                                                        -1.0000e+00,  3.4197e-01, -1.1332e-01, -9.7818e-01,  2.2887e-01,\n",
              "                                                         4.5161e-01, -1.5720e-01,  1.6195e-01,  5.1240e-01, -5.7138e-01,\n",
              "                                                        -3.7296e-01, -2.8502e-01, -8.0263e-01, -2.1937e-01, -2.2406e-01,\n",
              "                                                        -5.1871e-03, -2.6417e-01, -2.2839e-01, -3.7414e-01,  2.6933e-01,\n",
              "                                                        -4.5077e-01, -5.5173e-01,  4.8430e-01,  4.7178e-02,  6.6727e-01,\n",
              "                                                         3.3201e-01, -2.9447e-01,  5.0653e-01, -9.4933e-01,  6.1857e-01,\n",
              "                                                        -2.4586e-01, -9.7565e-01, -5.3396e-01, -9.7924e-01,  5.8934e-01,\n",
              "                                                        -2.3402e-01, -2.7536e-01,  9.4687e-01,  1.5282e-01,  3.0223e-01,\n",
              "                                                         1.1186e-02, -7.3234e-01, -1.0000e+00, -6.9951e-01, -5.0531e-01,\n",
              "                                                        -2.7527e-01, -2.0676e-01, -9.5607e-01, -9.1109e-01,  5.1232e-01,\n",
              "                                                         9.3519e-01,  1.3547e-01,  9.9877e-01, -2.0620e-01,  9.2237e-01,\n",
              "                                                        -4.9195e-01, -7.0814e-01,  6.5991e-01, -4.0702e-01,  7.4080e-01,\n",
              "                                                         4.4237e-01, -6.9697e-01,  1.7959e-01, -2.0311e-01,  2.8031e-01,\n",
              "                                                        -6.5004e-01, -2.2036e-01, -6.8982e-01, -9.2266e-01, -3.2942e-01,\n",
              "                                                         9.3754e-01, -4.7618e-01, -8.9325e-01, -1.4759e-01, -1.4892e-01,\n",
              "                                                        -5.3520e-01,  8.4738e-01,  7.0655e-01,  3.8488e-01, -4.0430e-01,\n",
              "                                                         3.9195e-01,  2.2351e-01,  5.5196e-01, -8.1159e-01, -1.8874e-01,\n",
              "                                                         3.3696e-01, -3.6883e-01, -6.5580e-01, -9.7058e-01, -3.4790e-01,\n",
              "                                                         4.8675e-01,  9.8414e-01,  7.1667e-01,  2.3032e-01,  7.0561e-01,\n",
              "                                                        -8.2327e-02,  7.3910e-01, -9.2162e-01,  9.5893e-01, -3.3638e-01,\n",
              "                                                         2.3401e-01,  6.1110e-02,  4.1919e-01, -8.5576e-01,  1.5276e-01,\n",
              "                                                         8.8090e-01, -6.3311e-01, -8.3712e-01,  6.5171e-02, -4.3054e-01,\n",
              "                                                        -3.4557e-01, -5.9076e-01,  5.1503e-01, -2.6207e-01, -2.4693e-01,\n",
              "                                                         6.1307e-02,  8.7691e-01,  9.8752e-01,  8.0232e-01,  1.4752e-01,\n",
              "                                                         6.8812e-01, -8.9320e-01, -5.4703e-01,  4.8356e-02,  2.1540e-01,\n",
              "                                                         2.3904e-01,  9.9014e-01, -4.9880e-01, -1.3789e-01, -9.2269e-01,\n",
              "                                                        -9.7721e-01, -9.4688e-02, -9.0299e-01, -1.3468e-01, -7.0078e-01,\n",
              "                                                         5.1663e-01,  2.4403e-01,  6.1268e-01,  3.6200e-01, -9.9236e-01,\n",
              "                                                        -7.4132e-01,  3.4922e-01, -2.3057e-01,  3.8191e-01, -1.6780e-01,\n",
              "                                                         3.9557e-02,  8.9809e-01, -5.3350e-01,  8.3722e-01,  8.8839e-01,\n",
              "                                                        -7.2514e-01, -7.3965e-01,  8.9407e-01, -2.3408e-01,  8.7030e-01,\n",
              "                                                        -5.6373e-01,  9.7425e-01,  8.4706e-01,  8.3270e-01, -8.9631e-01,\n",
              "                                                        -5.6269e-01, -9.0159e-01, -6.9972e-01,  6.1690e-02,  9.8558e-02,\n",
              "                                                         8.7749e-01,  5.6404e-01,  3.4049e-01,  3.7582e-01, -6.7834e-01,\n",
              "                                                         9.9827e-01, -3.3602e-02, -9.2002e-01,  2.7571e-01, -3.0865e-01,\n",
              "                                                        -9.6896e-01,  7.2166e-01,  3.3953e-01, -4.0739e-03, -4.1497e-01,\n",
              "                                                        -6.4642e-01, -9.2770e-01,  9.3160e-01,  6.0920e-02,  9.9071e-01,\n",
              "                                                         4.6196e-02, -9.3994e-01, -6.6822e-01, -8.9785e-01, -3.0716e-01,\n",
              "                                                        -2.0500e-01, -3.8714e-01, -8.1208e-02, -9.4563e-01,  4.3475e-01,\n",
              "                                                         4.1566e-01,  4.9148e-01, -6.9445e-01,  9.9830e-01,  1.0000e+00,\n",
              "                                                         9.3747e-01,  8.9366e-01,  9.2651e-01, -9.9799e-01, -2.9389e-01,\n",
              "                                                         9.9995e-01, -9.7730e-01, -1.0000e+00, -9.1234e-01, -6.9568e-01,\n",
              "                                                         3.7277e-01, -1.0000e+00, -2.0609e-01,  1.7125e-01, -8.7448e-01,\n",
              "                                                         5.9412e-01,  9.6720e-01,  9.9095e-01, -1.0000e+00,  6.5990e-01,\n",
              "                                                         9.2647e-01, -6.0201e-01,  9.5347e-01, -3.2178e-01,  9.5794e-01,\n",
              "                                                         6.5932e-01,  1.1768e-01, -2.4565e-01,  3.2490e-01, -8.8230e-01,\n",
              "                                                        -8.7855e-01, -4.5894e-01, -6.2306e-01,  9.8882e-01,  1.1127e-01,\n",
              "                                                        -8.1504e-01, -8.9768e-01, -2.5663e-02, -2.0069e-01, -3.3576e-01,\n",
              "                                                        -9.4615e-01, -1.0597e-01,  5.6197e-01,  7.7034e-01,  9.0875e-02,\n",
              "                                                         3.0440e-01, -6.8938e-01,  2.5243e-01, -1.7008e-01,  3.3678e-01,\n",
              "                                                         6.2607e-01, -9.2541e-01, -6.4668e-01, -4.1812e-01, -1.5776e-01,\n",
              "                                                        -5.8090e-01, -9.3592e-01,  9.5067e-01, -4.7707e-01,  7.9794e-01,\n",
              "                                                         1.0000e+00,  1.2838e-01, -8.6789e-01,  6.2421e-01,  2.0468e-01,\n",
              "                                                         4.3401e-03,  1.0000e+00,  7.7308e-01, -9.5914e-01, -4.9383e-01,\n",
              "                                                         5.1447e-01, -5.0643e-01, -4.6023e-01,  9.9656e-01, -2.7889e-01,\n",
              "                                                        -6.0374e-01, -3.1379e-01,  9.4870e-01, -9.7579e-01,  9.8235e-01,\n",
              "                                                        -8.9237e-01, -9.4238e-01,  9.3981e-01,  9.0497e-01, -6.8348e-01,\n",
              "                                                        -4.2984e-01,  1.2406e-01, -6.3880e-01,  3.0334e-01, -9.6749e-01,\n",
              "                                                         7.3108e-01,  5.1503e-01,  4.4069e-02,  8.4879e-01, -9.0855e-01,\n",
              "                                                        -4.6638e-01,  2.9909e-01, -7.3568e-01, -2.1431e-01,  7.7439e-01,\n",
              "                                                         5.1014e-01, -3.0549e-01,  9.3042e-02, -3.4041e-01,  2.4432e-01,\n",
              "                                                        -9.6357e-01,  3.4927e-01,  1.0000e+00, -2.4683e-01,  4.8418e-01,\n",
              "                                                        -5.1474e-01,  5.1816e-02, -1.7388e-01,  4.7761e-01,  5.5868e-01,\n",
              "                                                        -2.4163e-01, -8.0916e-01,  7.3723e-01, -9.7524e-01, -9.7020e-01,\n",
              "                                                         8.5261e-01,  1.8727e-01, -2.7090e-01,  9.9998e-01,  4.6983e-01,\n",
              "                                                         9.6978e-02,  3.6851e-01,  9.7414e-01, -8.3784e-04,  6.4376e-01,\n",
              "                                                         8.7053e-01,  9.6059e-01, -1.8756e-01,  5.1957e-01,  8.7386e-01,\n",
              "                                                        -8.3668e-01, -2.7663e-01, -5.9559e-01, -1.2339e-02, -8.8570e-01,\n",
              "                                                         8.2444e-02, -9.3376e-01,  9.5201e-01,  8.6130e-01,  3.3720e-01,\n",
              "                                                         2.3967e-01,  5.4095e-01,  1.0000e+00,  1.3089e-01,  7.5866e-01,\n",
              "                                                        -6.5313e-01,  9.1302e-01, -9.9812e-01, -8.6791e-01, -3.1752e-01,\n",
              "                                                        -9.1605e-03, -7.3271e-01, -3.1350e-01,  2.6582e-01, -9.5944e-01,\n",
              "                                                         7.4126e-01,  4.9215e-01, -9.9320e-01, -9.8625e-01, -2.1465e-01,\n",
              "                                                         9.0425e-01, -4.9062e-02, -9.3739e-01, -7.3878e-01, -5.6868e-01,\n",
              "                                                         5.5593e-01, -2.0358e-01, -9.3490e-01, -1.9005e-01, -2.3025e-01,\n",
              "                                                         4.5899e-01, -7.0443e-02,  5.4063e-01,  7.6846e-01,  5.9393e-01,\n",
              "                                                        -1.9536e-01, -1.4414e-01, -2.6515e-02, -8.3050e-01,  8.8996e-01,\n",
              "                                                        -8.3560e-01, -8.2514e-01, -1.7632e-01,  1.0000e+00, -5.3209e-01,\n",
              "                                                         7.4747e-01,  7.9880e-01,  8.0815e-01, -1.0571e-01,  9.6487e-02,\n",
              "                                                         8.7753e-01,  2.1673e-01, -7.5100e-01, -8.1242e-01, -9.0104e-01,\n",
              "                                                        -3.2831e-01,  6.3693e-01,  8.2347e-03,  5.5376e-01,  7.1281e-01,\n",
              "                                                         6.4975e-01,  1.4424e-01,  3.0209e-02, -1.5367e-01,  9.9958e-01,\n",
              "                                                        -2.4823e-01, -4.5267e-02, -4.9861e-01,  8.4453e-03, -3.3764e-01,\n",
              "                                                        -7.4455e-01,  1.0000e+00,  2.2909e-01,  3.0400e-01, -9.8225e-01,\n",
              "                                                        -7.7581e-01, -9.3825e-01,  9.9999e-01,  8.0493e-01, -6.9461e-01,\n",
              "                                                         6.7583e-01,  7.1560e-01, -7.5955e-02,  8.8280e-01, -8.8796e-02,\n",
              "                                                        -3.6776e-01,  3.0358e-01,  9.0578e-02,  9.3570e-01, -5.4713e-01,\n",
              "                                                        -9.4064e-01, -5.1854e-01,  3.6407e-01, -9.4587e-01,  9.9884e-01,\n",
              "                                                        -4.6634e-01, -2.2036e-01, -4.2909e-01,  1.9812e-01,  8.0296e-01,\n",
              "                                                        -1.1237e-01, -9.7593e-01,  3.2546e-03,  2.2387e-01,  9.4407e-01,\n",
              "                                                         2.3152e-01, -5.3741e-01, -9.0152e-01,  7.2972e-01,  6.4678e-01,\n",
              "                                                        -8.5261e-01, -9.2280e-01,  9.4217e-01, -9.8578e-01,  6.6755e-01,\n",
              "                                                         1.0000e+00,  3.4225e-01, -1.6761e-01,  7.7093e-02, -3.9836e-01,\n",
              "                                                         2.2625e-01, -2.2041e-01,  7.3612e-01, -9.2743e-01, -3.6491e-01,\n",
              "                                                        -1.7540e-01,  2.9468e-01, -1.1303e-01,  2.6401e-01,  6.9200e-01,\n",
              "                                                         1.5430e-01, -4.0083e-01, -5.2640e-01,  2.4087e-02,  4.3949e-01,\n",
              "                                                         8.6077e-01, -2.6866e-01, -1.0388e-01,  7.5585e-03, -1.2241e-01,\n",
              "                                                        -9.1376e-01, -2.1348e-01, -2.9673e-01, -9.9988e-01,  6.9455e-01,\n",
              "                                                        -1.0000e+00,  2.8368e-01,  8.6733e-02, -1.2220e-01,  7.9206e-01,\n",
              "                                                         1.5489e-02,  4.9311e-01, -7.3105e-01, -8.1444e-01,  5.0827e-01,\n",
              "                                                         7.2358e-01, -2.9349e-01, -5.1790e-01, -6.9773e-01,  2.4637e-01,\n",
              "                                                        -1.5526e-02,  2.1339e-01, -5.1806e-01,  7.8137e-01, -1.7301e-01,\n",
              "                                                         1.0000e+00,  1.9527e-01, -7.5410e-01, -9.8262e-01,  1.5416e-01,\n",
              "                                                        -2.1457e-01,  1.0000e+00, -9.3285e-01, -9.1573e-01,  2.9430e-01,\n",
              "                                                        -6.9617e-01, -8.3260e-01,  2.6820e-01, -3.4682e-02, -7.8862e-01,\n",
              "                                                        -8.5820e-01,  9.5101e-01,  9.4690e-01, -5.5200e-01,  4.5879e-01,\n",
              "                                                        -3.4441e-01, -5.6057e-01, -4.5147e-02,  7.0248e-01,  9.7133e-01,\n",
              "                                                         2.6254e-01,  8.9137e-01,  4.2302e-01, -7.3707e-02,  9.4970e-01,\n",
              "                                                         1.6445e-01,  6.1381e-01,  1.0270e-01,  1.0000e+00,  2.7983e-01,\n",
              "                                                        -8.8676e-01,  1.4404e-01, -9.7244e-01, -1.6864e-01, -9.5221e-01,\n",
              "                                                         2.6231e-01,  2.7997e-01,  8.9316e-01, -2.3383e-01,  9.4295e-01,\n",
              "                                                        -5.3833e-01,  4.3593e-02, -7.9243e-01, -3.1933e-01,  3.5616e-01,\n",
              "                                                        -9.0270e-01, -9.7206e-01, -9.7301e-01,  6.8435e-01, -4.2106e-01,\n",
              "                                                         4.4724e-02,  1.2440e-01,  7.1742e-03,  3.5916e-01,  4.4393e-01,\n",
              "                                                        -1.0000e+00,  9.2962e-01,  3.8557e-01,  8.5492e-01,  9.2992e-01,\n",
              "                                                         7.0625e-01,  4.8370e-01,  2.3270e-01, -9.7541e-01, -9.8218e-01,\n",
              "                                                        -3.2932e-01, -2.1163e-01,  7.5084e-01,  6.3202e-01,  8.8856e-01,\n",
              "                                                         4.3251e-01, -5.0404e-01, -6.7029e-02, -2.9505e-01, -3.2807e-01,\n",
              "                                                        -9.8568e-01,  4.3446e-01, -5.8658e-01, -9.7724e-01,  9.3651e-01,\n",
              "                                                        -1.3708e-01, -1.3665e-01, -9.2903e-02, -6.6635e-01,  9.7278e-01,\n",
              "                                                         7.0707e-01,  4.3203e-01,  8.7915e-02,  4.7217e-01,  8.3990e-01,\n",
              "                                                         9.4993e-01,  9.7219e-01, -6.7202e-01,  8.3279e-01, -5.4167e-01,\n",
              "                                                         4.1125e-01,  3.4719e-01, -9.0791e-01,  9.1832e-02,  2.0505e-01,\n",
              "                                                        -2.8610e-01,  1.5352e-01, -1.1304e-01, -9.8395e-01,  1.8631e-01,\n",
              "                                                        -2.0863e-01,  6.1166e-01, -2.9382e-01,  5.8579e-02, -3.7076e-01,\n",
              "                                                        -3.7402e-02, -6.2659e-01, -7.5935e-01,  5.6508e-01,  5.0258e-01,\n",
              "                                                         8.7703e-01,  8.0735e-01, -6.9027e-02, -6.4556e-01, -2.2308e-01,\n",
              "                                                        -7.0203e-01, -8.9239e-01,  9.4453e-01, -2.7452e-02, -3.4130e-01,\n",
              "                                                         5.0977e-01, -1.5005e-01,  5.0155e-01,  9.2491e-02, -3.1371e-01,\n",
              "                                                        -3.9861e-01, -6.5197e-01,  8.3609e-01,  4.2015e-02, -5.3505e-01,\n",
              "                                                        -7.0400e-01,  5.6731e-01,  3.1090e-01,  9.9974e-01, -6.7131e-01,\n",
              "                                                        -8.3116e-01, -1.6593e-01, -3.9197e-01,  2.8166e-01, -4.2960e-01,\n",
              "                                                        -1.0000e+00,  3.9846e-01, -3.7210e-01,  6.3236e-01, -6.8413e-01,\n",
              "                                                         4.8827e-01, -7.2434e-01, -9.8220e-01, -1.6252e-01,  4.2167e-02,\n",
              "                                                         6.8658e-01, -4.7085e-01, -7.6191e-01,  4.8094e-01, -1.6689e-01,\n",
              "                                                         9.5317e-01,  8.1554e-01, -3.6865e-01,  1.1302e-01,  6.0376e-01,\n",
              "                                                        -6.5595e-01, -6.1998e-01,  9.0952e-01]], grad_fn=<TanhBackward>))])"
            ]
          },
          "metadata": {
            "tags": []
          },
          "execution_count": 13
        }
      ]
    },
    {
      "cell_type": "code",
      "metadata": {
        "id": "7Uarvyqm1i8n"
      },
      "source": [
        ""
      ],
      "execution_count": null,
      "outputs": []
    }
  ]
}