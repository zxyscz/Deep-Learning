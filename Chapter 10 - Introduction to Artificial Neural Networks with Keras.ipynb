{
 "cells": [
  {
   "cell_type": "code",
   "execution_count": 1,
   "metadata": {},
   "outputs": [],
   "source": [
    "import numpy as np\n",
    "from sklearn.datasets import load_iris\n",
    "from sklearn.linear_model import Perceptron\n",
    "\n",
    "iris = load_iris()\n",
    "X = iris.data[:, (2, 3)]  # petal length, petal width\n",
    "y = (iris.target == 0).astype(np.int)  # Iris Setosa?\n",
    "\n",
    "per_clf = Perceptron()\n",
    "per_clf.fit(X, y)\n",
    "\n",
    "y_pred = per_clf.predict([[2, 0.5]])"
   ]
  },
  {
   "cell_type": "markdown",
   "metadata": {},
   "source": [
    "## Implementing MLPs with Keras"
   ]
  },
  {
   "cell_type": "code",
   "execution_count": 2,
   "metadata": {},
   "outputs": [],
   "source": [
    "import tensorflow as tf"
   ]
  },
  {
   "cell_type": "code",
   "execution_count": 3,
   "metadata": {},
   "outputs": [],
   "source": [
    "from tensorflow import keras"
   ]
  },
  {
   "cell_type": "code",
   "execution_count": 4,
   "metadata": {},
   "outputs": [
    {
     "data": {
      "text/plain": [
       "'1.14.0'"
      ]
     },
     "execution_count": 4,
     "metadata": {},
     "output_type": "execute_result"
    }
   ],
   "source": [
    "tf.__version__"
   ]
  },
  {
   "cell_type": "code",
   "execution_count": 5,
   "metadata": {},
   "outputs": [
    {
     "data": {
      "text/plain": [
       "'2.2.4-tf'"
      ]
     },
     "execution_count": 5,
     "metadata": {},
     "output_type": "execute_result"
    }
   ],
   "source": [
    "keras.__version__"
   ]
  },
  {
   "cell_type": "code",
   "execution_count": 6,
   "metadata": {
    "scrolled": true
   },
   "outputs": [
    {
     "name": "stdout",
     "output_type": "stream",
     "text": [
      "Downloading data from https://storage.googleapis.com/tensorflow/tf-keras-datasets/train-labels-idx1-ubyte.gz\n",
      "32768/29515 [=================================] - 0s 1us/step\n",
      "Downloading data from https://storage.googleapis.com/tensorflow/tf-keras-datasets/train-images-idx3-ubyte.gz\n",
      "26427392/26421880 [==============================] - 9s 0us/step\n",
      "Downloading data from https://storage.googleapis.com/tensorflow/tf-keras-datasets/t10k-labels-idx1-ubyte.gz\n",
      "8192/5148 [===============================================] - 0s 1us/step\n",
      "Downloading data from https://storage.googleapis.com/tensorflow/tf-keras-datasets/t10k-images-idx3-ubyte.gz\n",
      "4423680/4422102 [==============================] - 1s 0us/step\n"
     ]
    }
   ],
   "source": [
    "fashion_mnist = keras.datasets.fashion_mnist\n",
    "(X_train_full, y_train_full), (X_test, y_test) = fashion_mnist.load_data()"
   ]
  },
  {
   "cell_type": "code",
   "execution_count": 7,
   "metadata": {},
   "outputs": [
    {
     "data": {
      "text/plain": [
       "(60000, 28, 28)"
      ]
     },
     "execution_count": 7,
     "metadata": {},
     "output_type": "execute_result"
    }
   ],
   "source": [
    "X_train_full.shape"
   ]
  },
  {
   "cell_type": "code",
   "execution_count": 8,
   "metadata": {},
   "outputs": [
    {
     "data": {
      "text/plain": [
       "dtype('uint8')"
      ]
     },
     "execution_count": 8,
     "metadata": {},
     "output_type": "execute_result"
    }
   ],
   "source": [
    "X_train_full.dtype"
   ]
  },
  {
   "cell_type": "code",
   "execution_count": 9,
   "metadata": {},
   "outputs": [],
   "source": [
    "X_valid, X_train = X_train_full[:5000] / 255.0, X_train_full[5000:] / 255.0\n",
    "y_valid, y_train = y_train_full[:5000], y_train_full[5000:]"
   ]
  },
  {
   "cell_type": "code",
   "execution_count": 10,
   "metadata": {},
   "outputs": [],
   "source": [
    "class_names = [\"T-shirt/top\", \"Trouser\", \"Pullover\", \"Dress\", \"Coat\",\n",
    "               \"Sandal\", \"Shirt\", \"Sneaker\", \"Bag\", \"Ankle boot\"]"
   ]
  },
  {
   "cell_type": "code",
   "execution_count": 11,
   "metadata": {},
   "outputs": [
    {
     "data": {
      "text/plain": [
       "'Coat'"
      ]
     },
     "execution_count": 11,
     "metadata": {},
     "output_type": "execute_result"
    }
   ],
   "source": [
    "class_names[y_train[0]]"
   ]
  },
  {
   "cell_type": "code",
   "execution_count": 12,
   "metadata": {},
   "outputs": [
    {
     "name": "stderr",
     "output_type": "stream",
     "text": [
      "WARNING: Logging before flag parsing goes to stderr.\n",
      "W0713 11:50:44.582304 4622828992 deprecation.py:506] From /Users/ling/Desktop/Git/Deep-Learning/lib/python3.7/site-packages/tensorflow/python/ops/init_ops.py:1251: calling VarianceScaling.__init__ (from tensorflow.python.ops.init_ops) with dtype is deprecated and will be removed in a future version.\n",
      "Instructions for updating:\n",
      "Call initializer instance with the dtype argument instead of passing it to the constructor\n"
     ]
    }
   ],
   "source": [
    "model = keras.models.Sequential()\n",
    "model.add(keras.layers.Flatten(input_shape=[28, 28]))\n",
    "model.add(keras.layers.Dense(300, activation=\"relu\"))\n",
    "model.add(keras.layers.Dense(100, activation=\"relu\"))\n",
    "model.add(keras.layers.Dense(10, activation=\"softmax\"))"
   ]
  },
  {
   "cell_type": "code",
   "execution_count": 13,
   "metadata": {},
   "outputs": [
    {
     "data": {
      "text/plain": [
       "<tensorflow.python.keras.engine.sequential.Sequential at 0x13b427950>"
      ]
     },
     "execution_count": 13,
     "metadata": {},
     "output_type": "execute_result"
    }
   ],
   "source": [
    "model"
   ]
  },
  {
   "cell_type": "code",
   "execution_count": 14,
   "metadata": {},
   "outputs": [],
   "source": [
    "model = keras.models.Sequential([\n",
    "    keras.layers.Flatten(input_shape=[28, 28]),\n",
    "    keras.layers.Dense(300, activation=\"relu\"),\n",
    "    keras.layers.Dense(100, activation=\"relu\"),\n",
    "    keras.layers.Dense(10, activation=\"softmax\")\n",
    "])"
   ]
  },
  {
   "cell_type": "code",
   "execution_count": 16,
   "metadata": {},
   "outputs": [],
   "source": [
    "from tensorflow import keras\n",
    "output_layer = keras.layers.Dense(10)"
   ]
  },
  {
   "cell_type": "code",
   "execution_count": 17,
   "metadata": {},
   "outputs": [
    {
     "name": "stdout",
     "output_type": "stream",
     "text": [
      "Model: \"sequential_1\"\n",
      "_________________________________________________________________\n",
      "Layer (type)                 Output Shape              Param #   \n",
      "=================================================================\n",
      "flatten_1 (Flatten)          (None, 784)               0         \n",
      "_________________________________________________________________\n",
      "dense_3 (Dense)              (None, 300)               235500    \n",
      "_________________________________________________________________\n",
      "dense_4 (Dense)              (None, 100)               30100     \n",
      "_________________________________________________________________\n",
      "dense_5 (Dense)              (None, 10)                1010      \n",
      "=================================================================\n",
      "Total params: 266,610\n",
      "Trainable params: 266,610\n",
      "Non-trainable params: 0\n",
      "_________________________________________________________________\n"
     ]
    }
   ],
   "source": [
    "model.summary()"
   ]
  },
  {
   "cell_type": "code",
   "execution_count": 18,
   "metadata": {},
   "outputs": [
    {
     "data": {
      "text/plain": [
       "[<tensorflow.python.keras.layers.core.Flatten at 0x155073210>,\n",
       " <tensorflow.python.keras.layers.core.Dense at 0x1550733d0>,\n",
       " <tensorflow.python.keras.layers.core.Dense at 0x155073790>,\n",
       " <tensorflow.python.keras.layers.core.Dense at 0x155073ad0>]"
      ]
     },
     "execution_count": 18,
     "metadata": {},
     "output_type": "execute_result"
    }
   ],
   "source": [
    "model.layers"
   ]
  },
  {
   "cell_type": "code",
   "execution_count": 19,
   "metadata": {},
   "outputs": [
    {
     "data": {
      "text/plain": [
       "'dense_3'"
      ]
     },
     "execution_count": 19,
     "metadata": {},
     "output_type": "execute_result"
    }
   ],
   "source": [
    "hidden1 = model.layers[1]\n",
    "hidden1.name"
   ]
  },
  {
   "cell_type": "code",
   "execution_count": 21,
   "metadata": {},
   "outputs": [
    {
     "data": {
      "text/plain": [
       "True"
      ]
     },
     "execution_count": 21,
     "metadata": {},
     "output_type": "execute_result"
    }
   ],
   "source": [
    "model.get_layer('dense_3') is hidden1"
   ]
  },
  {
   "cell_type": "code",
   "execution_count": 23,
   "metadata": {},
   "outputs": [
    {
     "data": {
      "text/plain": [
       "array([[-0.06368683, -0.06023826,  0.00579847, ..., -0.0271091 ,\n",
       "         0.0414222 ,  0.02580703],\n",
       "       [ 0.00666054, -0.0405164 ,  0.02916791, ..., -0.03790723,\n",
       "        -0.0239784 , -0.03302778],\n",
       "       [-0.01255856,  0.07093698,  0.06986639, ...,  0.03685874,\n",
       "         0.06890388, -0.02748631],\n",
       "       ...,\n",
       "       [ 0.01694223, -0.0486328 , -0.02052811, ...,  0.01873945,\n",
       "         0.06543872,  0.00711918],\n",
       "       [ 0.05986337,  0.03657372, -0.00516159, ...,  0.0035566 ,\n",
       "        -0.02069529,  0.01130807],\n",
       "       [ 0.02780375, -0.05135249, -0.0356522 , ...,  0.04958908,\n",
       "         0.00082305,  0.02485554]], dtype=float32)"
      ]
     },
     "execution_count": 23,
     "metadata": {},
     "output_type": "execute_result"
    }
   ],
   "source": [
    "weights, biases = hidden1.get_weights()\n",
    "weights"
   ]
  },
  {
   "cell_type": "code",
   "execution_count": 24,
   "metadata": {},
   "outputs": [],
   "source": [
    "model.compile(loss=\"sparse_categorical_crossentropy\",\n",
    "              optimizer=\"sgd\",\n",
    "              metrics=[\"accuracy\"])"
   ]
  },
  {
   "cell_type": "code",
   "execution_count": 25,
   "metadata": {},
   "outputs": [
    {
     "name": "stdout",
     "output_type": "stream",
     "text": [
      "Train on 55000 samples, validate on 5000 samples\n",
      "Epoch 1/30\n",
      "55000/55000 [==============================] - 3s 49us/sample - loss: 0.7183 - acc: 0.7635 - val_loss: 0.5415 - val_acc: 0.8064\n",
      "Epoch 2/30\n",
      "55000/55000 [==============================] - 3s 50us/sample - loss: 0.4872 - acc: 0.8309 - val_loss: 0.4554 - val_acc: 0.8462\n",
      "Epoch 3/30\n",
      "55000/55000 [==============================] - 3s 48us/sample - loss: 0.4395 - acc: 0.8462 - val_loss: 0.4230 - val_acc: 0.8496\n",
      "Epoch 4/30\n",
      "55000/55000 [==============================] - 2s 45us/sample - loss: 0.4148 - acc: 0.8538 - val_loss: 0.3898 - val_acc: 0.8678\n",
      "Epoch 5/30\n",
      "55000/55000 [==============================] - 3s 46us/sample - loss: 0.3948 - acc: 0.8608 - val_loss: 0.3869 - val_acc: 0.8688\n",
      "Epoch 6/30\n",
      "55000/55000 [==============================] - 3s 46us/sample - loss: 0.3793 - acc: 0.8656 - val_loss: 0.3709 - val_acc: 0.8708\n",
      "Epoch 7/30\n",
      "55000/55000 [==============================] - 2s 45us/sample - loss: 0.3647 - acc: 0.8722 - val_loss: 0.3713 - val_acc: 0.8708\n",
      "Epoch 8/30\n",
      "55000/55000 [==============================] - 3s 50us/sample - loss: 0.3524 - acc: 0.8753 - val_loss: 0.3578 - val_acc: 0.8774\n",
      "Epoch 9/30\n",
      "55000/55000 [==============================] - 3s 50us/sample - loss: 0.3437 - acc: 0.8784 - val_loss: 0.3540 - val_acc: 0.8780\n",
      "Epoch 10/30\n",
      "55000/55000 [==============================] - 2s 43us/sample - loss: 0.3345 - acc: 0.8808 - val_loss: 0.3535 - val_acc: 0.8740\n",
      "Epoch 11/30\n",
      "55000/55000 [==============================] - 3s 46us/sample - loss: 0.3252 - acc: 0.8836 - val_loss: 0.3394 - val_acc: 0.8818\n",
      "Epoch 12/30\n",
      "55000/55000 [==============================] - 3s 46us/sample - loss: 0.3178 - acc: 0.8858 - val_loss: 0.3380 - val_acc: 0.8804\n",
      "Epoch 13/30\n",
      "55000/55000 [==============================] - 3s 48us/sample - loss: 0.3110 - acc: 0.8881 - val_loss: 0.3443 - val_acc: 0.8800\n",
      "Epoch 14/30\n",
      "55000/55000 [==============================] - 3s 47us/sample - loss: 0.3041 - acc: 0.8914 - val_loss: 0.3408 - val_acc: 0.8768\n",
      "Epoch 15/30\n",
      "55000/55000 [==============================] - 3s 49us/sample - loss: 0.2966 - acc: 0.8941 - val_loss: 0.3200 - val_acc: 0.8876\n",
      "Epoch 16/30\n",
      "55000/55000 [==============================] - 3s 47us/sample - loss: 0.2913 - acc: 0.8951 - val_loss: 0.3240 - val_acc: 0.8820\n",
      "Epoch 17/30\n",
      "55000/55000 [==============================] - 3s 47us/sample - loss: 0.2854 - acc: 0.8971 - val_loss: 0.3144 - val_acc: 0.8918\n",
      "Epoch 18/30\n",
      "55000/55000 [==============================] - 2s 44us/sample - loss: 0.2803 - acc: 0.9003 - val_loss: 0.3192 - val_acc: 0.8822\n",
      "Epoch 19/30\n",
      "55000/55000 [==============================] - 3s 52us/sample - loss: 0.2757 - acc: 0.9012 - val_loss: 0.3171 - val_acc: 0.8892\n",
      "Epoch 20/30\n",
      "55000/55000 [==============================] - 3s 52us/sample - loss: 0.2706 - acc: 0.9026 - val_loss: 0.3151 - val_acc: 0.8834\n",
      "Epoch 21/30\n",
      "55000/55000 [==============================] - 3s 53us/sample - loss: 0.2657 - acc: 0.9036 - val_loss: 0.3067 - val_acc: 0.8926\n",
      "Epoch 22/30\n",
      "55000/55000 [==============================] - 3s 47us/sample - loss: 0.2608 - acc: 0.9061 - val_loss: 0.3025 - val_acc: 0.8902\n",
      "Epoch 23/30\n",
      "55000/55000 [==============================] - 2s 43us/sample - loss: 0.2565 - acc: 0.9083 - val_loss: 0.3074 - val_acc: 0.8844\n",
      "Epoch 24/30\n",
      "55000/55000 [==============================] - 2s 44us/sample - loss: 0.2520 - acc: 0.9096 - val_loss: 0.3032 - val_acc: 0.8930\n",
      "Epoch 25/30\n",
      "55000/55000 [==============================] - 2s 45us/sample - loss: 0.2474 - acc: 0.9115 - val_loss: 0.3206 - val_acc: 0.8852\n",
      "Epoch 26/30\n",
      "55000/55000 [==============================] - 3s 56us/sample - loss: 0.2448 - acc: 0.9120 - val_loss: 0.3027 - val_acc: 0.8914\n",
      "Epoch 27/30\n",
      "55000/55000 [==============================] - 3s 55us/sample - loss: 0.2398 - acc: 0.9140 - val_loss: 0.3017 - val_acc: 0.8904\n",
      "Epoch 28/30\n",
      "55000/55000 [==============================] - 3s 52us/sample - loss: 0.2374 - acc: 0.9151 - val_loss: 0.2893 - val_acc: 0.8922\n",
      "Epoch 29/30\n",
      "55000/55000 [==============================] - 3s 50us/sample - loss: 0.2331 - acc: 0.9161 - val_loss: 0.3019 - val_acc: 0.8918\n",
      "Epoch 30/30\n",
      "55000/55000 [==============================] - 3s 48us/sample - loss: 0.2285 - acc: 0.9180 - val_loss: 0.3105 - val_acc: 0.8892\n"
     ]
    }
   ],
   "source": [
    "history = model.fit(X_train, y_train, epochs=30,validation_data=(X_valid, y_valid))"
   ]
  },
  {
   "cell_type": "code",
   "execution_count": 31,
   "metadata": {},
   "outputs": [
    {
     "data": {
      "image/png": "[encoded data removed]",
      "text/plain": [
       "<Figure size 576x360 with 1 Axes>"
      ]
     },
     "metadata": {
      "needs_background": "light"
     },
     "output_type": "display_data"
    }
   ],
   "source": [
    "import pandas as pd\n",
    "import matplotlib as plt\n",
    "\n",
    "pd.DataFrame(history.history).plot(figsize=(8, 5))\n",
    "plt.pyplot.grid(True)\n",
    "plt.pyplot.gca().set_ylim(0, 1) # set the vertical range to [0-1]\n",
    "plt.pyplot.show()"
   ]
  },
  {
   "cell_type": "code",
   "execution_count": 32,
   "metadata": {},
   "outputs": [
    {
     "name": "stdout",
     "output_type": "stream",
     "text": [
      "10000/10000 [==============================] - 0s 23us/sample - loss: 69.2324 - acc: 0.8239\n"
     ]
    },
    {
     "data": {
      "text/plain": [
       "[69.23238597564698, 0.8239]"
      ]
     },
     "execution_count": 32,
     "metadata": {},
     "output_type": "execute_result"
    }
   ],
   "source": [
    "model.evaluate(X_test, y_test)"
   ]
  },
  {
   "cell_type": "code",
   "execution_count": 33,
   "metadata": {},
   "outputs": [
    {
     "data": {
      "text/plain": [
       "array([[0., 0., 0., 0., 0., 0., 0., 0., 0., 1.],\n",
       "       [0., 0., 1., 0., 0., 0., 0., 0., 0., 0.],\n",
       "       [0., 1., 0., 0., 0., 0., 0., 0., 0., 0.]], dtype=float32)"
      ]
     },
     "execution_count": 33,
     "metadata": {},
     "output_type": "execute_result"
    }
   ],
   "source": [
    "X_new = X_test[:3]\n",
    "y_proba = model.predict(X_new)\n",
    "y_proba.round(2)"
   ]
  },
  {
   "cell_type": "code",
   "execution_count": 34,
   "metadata": {},
   "outputs": [
    {
     "data": {
      "text/plain": [
       "array(['Ankle boot', 'Pullover', 'Trouser'], dtype='<U11')"
      ]
     },
     "execution_count": 34,
     "metadata": {},
     "output_type": "execute_result"
    }
   ],
   "source": [
    "y_pred = model.predict_classes(X_new)\n",
    "y_pred\n",
    "np.array(class_names)[y_pred]"
   ]
  },
  {
   "cell_type": "code",
   "execution_count": 35,
   "metadata": {},
   "outputs": [],
   "source": [
    "y_new = y_test[:3]"
   ]
  },
  {
   "cell_type": "code",
   "execution_count": 36,
   "metadata": {},
   "outputs": [
    {
     "data": {
      "text/plain": [
       "array([9, 2, 1], dtype=uint8)"
      ]
     },
     "execution_count": 36,
     "metadata": {},
     "output_type": "execute_result"
    }
   ],
   "source": [
    "y_new"
   ]
  },
  {
   "cell_type": "code",
   "execution_count": null,
   "metadata": {},
   "outputs": [],
   "source": []
  }
 ],
 "metadata": {
  "kernelspec": {
   "display_name": "Python 3",
   "language": "python",
   "name": "python3"
  },
  "language_info": {
   "codemirror_mode": {
    "name": "ipython",
    "version": 3
   },
   "file_extension": ".py",
   "mimetype": "text/x-python",
   "name": "python",
   "nbconvert_exporter": "python",
   "pygments_lexer": "ipython3",
   "version": "3.7.4"
  }
 },
 "nbformat": 4,
 "nbformat_minor": 2
}
