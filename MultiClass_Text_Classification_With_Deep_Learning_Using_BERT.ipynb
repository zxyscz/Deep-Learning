{
  "nbformat": 4,
  "nbformat_minor": 0,
  "metadata": {
    "colab": {
      "name": "MultiClass-Text-Classification-With-Deep-Learning-Using-BERT.ipynb",
      "provenance": [],
      "machine_shape": "hm",
      "authorship_tag": "ABX9TyPH1+3zUtEWoTp30+LK24T7",
      "include_colab_link": true
    },
    "kernelspec": {
      "name": "python3",
      "display_name": "Python 3"
    },
    "accelerator": "GPU"
  },
  "cells": [
    {
      "cell_type": "markdown",
      "metadata": {
        "id": "view-in-github",
        "colab_type": "text"
      },
      "source": [
        "<a href=\"https://colab.research.google.com/github/linghduoduo/Deep-Learning/blob/master/MultiClass_Text_Classification_With_Deep_Learning_Using_BERT.ipynb\" target=\"_parent\"><img src=\"https://colab.research.google.com/assets/colab-badge.svg\" alt=\"Open In Colab\"/></a>"
      ]
    },
    {
      "cell_type": "code",
      "metadata": {
        "colab": {
          "base_uri": "https://localhost:8080/"
        },
        "id": "rFGTyEUOK8yy",
        "outputId": "ea42b53d-959e-4828-8283-4d510eec9aa0"
      },
      "source": [
        "!pip3 install transformers"
      ],
      "execution_count": 1,
      "outputs": [
        {
          "output_type": "stream",
          "text": [
            "Collecting transformers\n",
            "\u001b[?25l  Downloading https://files.pythonhosted.org/packages/98/87/ef312eef26f5cecd8b17ae9654cdd8d1fae1eb6dbd87257d6d73c128a4d0/transformers-4.3.2-py3-none-any.whl (1.8MB)\n",
            "\r\u001b[K     |▏                               | 10kB 25.3MB/s eta 0:00:01\r\u001b[K     |▍                               | 20kB 32.3MB/s eta 0:00:01\r\u001b[K     |▌                               | 30kB 23.5MB/s eta 0:00:01\r\u001b[K     |▊                               | 40kB 19.3MB/s eta 0:00:01\r\u001b[K     |█                               | 51kB 15.3MB/s eta 0:00:01\r\u001b[K     |█                               | 61kB 14.3MB/s eta 0:00:01\r\u001b[K     |█▎                              | 71kB 14.1MB/s eta 0:00:01\r\u001b[K     |█▌                              | 81kB 13.8MB/s eta 0:00:01\r\u001b[K     |█▋                              | 92kB 15.0MB/s eta 0:00:01\r\u001b[K     |█▉                              | 102kB 12.7MB/s eta 0:00:01\r\u001b[K     |██                              | 112kB 12.7MB/s eta 0:00:01\r\u001b[K     |██▏                             | 122kB 12.7MB/s eta 0:00:01\r\u001b[K     |██▍                             | 133kB 12.7MB/s eta 0:00:01\r\u001b[K     |██▌                             | 143kB 12.7MB/s eta 0:00:01\r\u001b[K     |██▊                             | 153kB 12.7MB/s eta 0:00:01\r\u001b[K     |███                             | 163kB 12.7MB/s eta 0:00:01\r\u001b[K     |███                             | 174kB 12.7MB/s eta 0:00:01\r\u001b[K     |███▎                            | 184kB 12.7MB/s eta 0:00:01\r\u001b[K     |███▍                            | 194kB 12.7MB/s eta 0:00:01\r\u001b[K     |███▋                            | 204kB 12.7MB/s eta 0:00:01\r\u001b[K     |███▉                            | 215kB 12.7MB/s eta 0:00:01\r\u001b[K     |████                            | 225kB 12.7MB/s eta 0:00:01\r\u001b[K     |████▏                           | 235kB 12.7MB/s eta 0:00:01\r\u001b[K     |████▍                           | 245kB 12.7MB/s eta 0:00:01\r\u001b[K     |████▌                           | 256kB 12.7MB/s eta 0:00:01\r\u001b[K     |████▊                           | 266kB 12.7MB/s eta 0:00:01\r\u001b[K     |████▉                           | 276kB 12.7MB/s eta 0:00:01\r\u001b[K     |█████                           | 286kB 12.7MB/s eta 0:00:01\r\u001b[K     |█████▎                          | 296kB 12.7MB/s eta 0:00:01\r\u001b[K     |█████▍                          | 307kB 12.7MB/s eta 0:00:01\r\u001b[K     |█████▋                          | 317kB 12.7MB/s eta 0:00:01\r\u001b[K     |█████▉                          | 327kB 12.7MB/s eta 0:00:01\r\u001b[K     |██████                          | 337kB 12.7MB/s eta 0:00:01\r\u001b[K     |██████▏                         | 348kB 12.7MB/s eta 0:00:01\r\u001b[K     |██████▎                         | 358kB 12.7MB/s eta 0:00:01\r\u001b[K     |██████▌                         | 368kB 12.7MB/s eta 0:00:01\r\u001b[K     |██████▊                         | 378kB 12.7MB/s eta 0:00:01\r\u001b[K     |██████▉                         | 389kB 12.7MB/s eta 0:00:01\r\u001b[K     |███████                         | 399kB 12.7MB/s eta 0:00:01\r\u001b[K     |███████▎                        | 409kB 12.7MB/s eta 0:00:01\r\u001b[K     |███████▍                        | 419kB 12.7MB/s eta 0:00:01\r\u001b[K     |███████▋                        | 430kB 12.7MB/s eta 0:00:01\r\u001b[K     |███████▉                        | 440kB 12.7MB/s eta 0:00:01\r\u001b[K     |████████                        | 450kB 12.7MB/s eta 0:00:01\r\u001b[K     |████████▏                       | 460kB 12.7MB/s eta 0:00:01\r\u001b[K     |████████▎                       | 471kB 12.7MB/s eta 0:00:01\r\u001b[K     |████████▌                       | 481kB 12.7MB/s eta 0:00:01\r\u001b[K     |████████▊                       | 491kB 12.7MB/s eta 0:00:01\r\u001b[K     |████████▉                       | 501kB 12.7MB/s eta 0:00:01\r\u001b[K     |█████████                       | 512kB 12.7MB/s eta 0:00:01\r\u001b[K     |█████████▎                      | 522kB 12.7MB/s eta 0:00:01\r\u001b[K     |█████████▍                      | 532kB 12.7MB/s eta 0:00:01\r\u001b[K     |█████████▋                      | 542kB 12.7MB/s eta 0:00:01\r\u001b[K     |█████████▊                      | 552kB 12.7MB/s eta 0:00:01\r\u001b[K     |██████████                      | 563kB 12.7MB/s eta 0:00:01\r\u001b[K     |██████████▏                     | 573kB 12.7MB/s eta 0:00:01\r\u001b[K     |██████████▎                     | 583kB 12.7MB/s eta 0:00:01\r\u001b[K     |██████████▌                     | 593kB 12.7MB/s eta 0:00:01\r\u001b[K     |██████████▊                     | 604kB 12.7MB/s eta 0:00:01\r\u001b[K     |██████████▉                     | 614kB 12.7MB/s eta 0:00:01\r\u001b[K     |███████████                     | 624kB 12.7MB/s eta 0:00:01\r\u001b[K     |███████████▏                    | 634kB 12.7MB/s eta 0:00:01\r\u001b[K     |███████████▍                    | 645kB 12.7MB/s eta 0:00:01\r\u001b[K     |███████████▋                    | 655kB 12.7MB/s eta 0:00:01\r\u001b[K     |███████████▊                    | 665kB 12.7MB/s eta 0:00:01\r\u001b[K     |████████████                    | 675kB 12.7MB/s eta 0:00:01\r\u001b[K     |████████████▏                   | 686kB 12.7MB/s eta 0:00:01\r\u001b[K     |████████████▎                   | 696kB 12.7MB/s eta 0:00:01\r\u001b[K     |████████████▌                   | 706kB 12.7MB/s eta 0:00:01\r\u001b[K     |████████████▋                   | 716kB 12.7MB/s eta 0:00:01\r\u001b[K     |████████████▉                   | 727kB 12.7MB/s eta 0:00:01\r\u001b[K     |█████████████                   | 737kB 12.7MB/s eta 0:00:01\r\u001b[K     |█████████████▏                  | 747kB 12.7MB/s eta 0:00:01\r\u001b[K     |█████████████▍                  | 757kB 12.7MB/s eta 0:00:01\r\u001b[K     |█████████████▋                  | 768kB 12.7MB/s eta 0:00:01\r\u001b[K     |█████████████▊                  | 778kB 12.7MB/s eta 0:00:01\r\u001b[K     |██████████████                  | 788kB 12.7MB/s eta 0:00:01\r\u001b[K     |██████████████▏                 | 798kB 12.7MB/s eta 0:00:01\r\u001b[K     |██████████████▎                 | 808kB 12.7MB/s eta 0:00:01\r\u001b[K     |██████████████▌                 | 819kB 12.7MB/s eta 0:00:01\r\u001b[K     |██████████████▋                 | 829kB 12.7MB/s eta 0:00:01\r\u001b[K     |██████████████▉                 | 839kB 12.7MB/s eta 0:00:01\r\u001b[K     |███████████████                 | 849kB 12.7MB/s eta 0:00:01\r\u001b[K     |███████████████▏                | 860kB 12.7MB/s eta 0:00:01\r\u001b[K     |███████████████▍                | 870kB 12.7MB/s eta 0:00:01\r\u001b[K     |███████████████▋                | 880kB 12.7MB/s eta 0:00:01\r\u001b[K     |███████████████▊                | 890kB 12.7MB/s eta 0:00:01\r\u001b[K     |████████████████                | 901kB 12.7MB/s eta 0:00:01\r\u001b[K     |████████████████                | 911kB 12.7MB/s eta 0:00:01\r\u001b[K     |████████████████▎               | 921kB 12.7MB/s eta 0:00:01\r\u001b[K     |████████████████▌               | 931kB 12.7MB/s eta 0:00:01\r\u001b[K     |████████████████▋               | 942kB 12.7MB/s eta 0:00:01\r\u001b[K     |████████████████▉               | 952kB 12.7MB/s eta 0:00:01\r\u001b[K     |█████████████████               | 962kB 12.7MB/s eta 0:00:01\r\u001b[K     |█████████████████▏              | 972kB 12.7MB/s eta 0:00:01\r\u001b[K     |█████████████████▍              | 983kB 12.7MB/s eta 0:00:01\r\u001b[K     |█████████████████▌              | 993kB 12.7MB/s eta 0:00:01\r\u001b[K     |█████████████████▊              | 1.0MB 12.7MB/s eta 0:00:01\r\u001b[K     |██████████████████              | 1.0MB 12.7MB/s eta 0:00:01\r\u001b[K     |██████████████████              | 1.0MB 12.7MB/s eta 0:00:01\r\u001b[K     |██████████████████▎             | 1.0MB 12.7MB/s eta 0:00:01\r\u001b[K     |██████████████████▌             | 1.0MB 12.7MB/s eta 0:00:01\r\u001b[K     |██████████████████▋             | 1.1MB 12.7MB/s eta 0:00:01\r\u001b[K     |██████████████████▉             | 1.1MB 12.7MB/s eta 0:00:01\r\u001b[K     |███████████████████             | 1.1MB 12.7MB/s eta 0:00:01\r\u001b[K     |███████████████████▏            | 1.1MB 12.7MB/s eta 0:00:01\r\u001b[K     |███████████████████▍            | 1.1MB 12.7MB/s eta 0:00:01\r\u001b[K     |███████████████████▌            | 1.1MB 12.7MB/s eta 0:00:01\r\u001b[K     |███████████████████▊            | 1.1MB 12.7MB/s eta 0:00:01\r\u001b[K     |████████████████████            | 1.1MB 12.7MB/s eta 0:00:01\r\u001b[K     |████████████████████            | 1.1MB 12.7MB/s eta 0:00:01\r\u001b[K     |████████████████████▎           | 1.1MB 12.7MB/s eta 0:00:01\r\u001b[K     |████████████████████▌           | 1.2MB 12.7MB/s eta 0:00:01\r\u001b[K     |████████████████████▋           | 1.2MB 12.7MB/s eta 0:00:01\r\u001b[K     |████████████████████▉           | 1.2MB 12.7MB/s eta 0:00:01\r\u001b[K     |█████████████████████           | 1.2MB 12.7MB/s eta 0:00:01\r\u001b[K     |█████████████████████▏          | 1.2MB 12.7MB/s eta 0:00:01\r\u001b[K     |█████████████████████▍          | 1.2MB 12.7MB/s eta 0:00:01\r\u001b[K     |█████████████████████▌          | 1.2MB 12.7MB/s eta 0:00:01\r\u001b[K     |█████████████████████▊          | 1.2MB 12.7MB/s eta 0:00:01\r\u001b[K     |██████████████████████          | 1.2MB 12.7MB/s eta 0:00:01\r\u001b[K     |██████████████████████          | 1.2MB 12.7MB/s eta 0:00:01\r\u001b[K     |██████████████████████▎         | 1.3MB 12.7MB/s eta 0:00:01\r\u001b[K     |██████████████████████▍         | 1.3MB 12.7MB/s eta 0:00:01\r\u001b[K     |██████████████████████▋         | 1.3MB 12.7MB/s eta 0:00:01\r\u001b[K     |██████████████████████▉         | 1.3MB 12.7MB/s eta 0:00:01\r\u001b[K     |███████████████████████         | 1.3MB 12.7MB/s eta 0:00:01\r\u001b[K     |███████████████████████▏        | 1.3MB 12.7MB/s eta 0:00:01\r\u001b[K     |███████████████████████▍        | 1.3MB 12.7MB/s eta 0:00:01\r\u001b[K     |███████████████████████▌        | 1.3MB 12.7MB/s eta 0:00:01\r\u001b[K     |███████████████████████▊        | 1.3MB 12.7MB/s eta 0:00:01\r\u001b[K     |███████████████████████▉        | 1.4MB 12.7MB/s eta 0:00:01\r\u001b[K     |████████████████████████        | 1.4MB 12.7MB/s eta 0:00:01\r\u001b[K     |████████████████████████▎       | 1.4MB 12.7MB/s eta 0:00:01\r\u001b[K     |████████████████████████▍       | 1.4MB 12.7MB/s eta 0:00:01\r\u001b[K     |████████████████████████▋       | 1.4MB 12.7MB/s eta 0:00:01\r\u001b[K     |████████████████████████▉       | 1.4MB 12.7MB/s eta 0:00:01\r\u001b[K     |█████████████████████████       | 1.4MB 12.7MB/s eta 0:00:01\r\u001b[K     |█████████████████████████▏      | 1.4MB 12.7MB/s eta 0:00:01\r\u001b[K     |█████████████████████████▎      | 1.4MB 12.7MB/s eta 0:00:01\r\u001b[K     |█████████████████████████▌      | 1.4MB 12.7MB/s eta 0:00:01\r\u001b[K     |█████████████████████████▊      | 1.5MB 12.7MB/s eta 0:00:01\r\u001b[K     |█████████████████████████▉      | 1.5MB 12.7MB/s eta 0:00:01\r\u001b[K     |██████████████████████████      | 1.5MB 12.7MB/s eta 0:00:01\r\u001b[K     |██████████████████████████▎     | 1.5MB 12.7MB/s eta 0:00:01\r\u001b[K     |██████████████████████████▍     | 1.5MB 12.7MB/s eta 0:00:01\r\u001b[K     |██████████████████████████▋     | 1.5MB 12.7MB/s eta 0:00:01\r\u001b[K     |██████████████████████████▉     | 1.5MB 12.7MB/s eta 0:00:01\r\u001b[K     |███████████████████████████     | 1.5MB 12.7MB/s eta 0:00:01\r\u001b[K     |███████████████████████████▏    | 1.5MB 12.7MB/s eta 0:00:01\r\u001b[K     |███████████████████████████▎    | 1.5MB 12.7MB/s eta 0:00:01\r\u001b[K     |███████████████████████████▌    | 1.6MB 12.7MB/s eta 0:00:01\r\u001b[K     |███████████████████████████▊    | 1.6MB 12.7MB/s eta 0:00:01\r\u001b[K     |███████████████████████████▉    | 1.6MB 12.7MB/s eta 0:00:01\r\u001b[K     |████████████████████████████    | 1.6MB 12.7MB/s eta 0:00:01\r\u001b[K     |████████████████████████████▎   | 1.6MB 12.7MB/s eta 0:00:01\r\u001b[K     |████████████████████████████▍   | 1.6MB 12.7MB/s eta 0:00:01\r\u001b[K     |████████████████████████████▋   | 1.6MB 12.7MB/s eta 0:00:01\r\u001b[K     |████████████████████████████▊   | 1.6MB 12.7MB/s eta 0:00:01\r\u001b[K     |█████████████████████████████   | 1.6MB 12.7MB/s eta 0:00:01\r\u001b[K     |█████████████████████████████▏  | 1.6MB 12.7MB/s eta 0:00:01\r\u001b[K     |█████████████████████████████▎  | 1.7MB 12.7MB/s eta 0:00:01\r\u001b[K     |█████████████████████████████▌  | 1.7MB 12.7MB/s eta 0:00:01\r\u001b[K     |█████████████████████████████▊  | 1.7MB 12.7MB/s eta 0:00:01\r\u001b[K     |█████████████████████████████▉  | 1.7MB 12.7MB/s eta 0:00:01\r\u001b[K     |██████████████████████████████  | 1.7MB 12.7MB/s eta 0:00:01\r\u001b[K     |██████████████████████████████▏ | 1.7MB 12.7MB/s eta 0:00:01\r\u001b[K     |██████████████████████████████▍ | 1.7MB 12.7MB/s eta 0:00:01\r\u001b[K     |██████████████████████████████▋ | 1.7MB 12.7MB/s eta 0:00:01\r\u001b[K     |██████████████████████████████▊ | 1.7MB 12.7MB/s eta 0:00:01\r\u001b[K     |███████████████████████████████ | 1.8MB 12.7MB/s eta 0:00:01\r\u001b[K     |███████████████████████████████▏| 1.8MB 12.7MB/s eta 0:00:01\r\u001b[K     |███████████████████████████████▎| 1.8MB 12.7MB/s eta 0:00:01\r\u001b[K     |███████████████████████████████▌| 1.8MB 12.7MB/s eta 0:00:01\r\u001b[K     |███████████████████████████████▋| 1.8MB 12.7MB/s eta 0:00:01\r\u001b[K     |███████████████████████████████▉| 1.8MB 12.7MB/s eta 0:00:01\r\u001b[K     |████████████████████████████████| 1.8MB 12.7MB/s \n",
            "\u001b[?25hRequirement already satisfied: requests in /usr/local/lib/python3.6/dist-packages (from transformers) (2.23.0)\n",
            "Requirement already satisfied: numpy>=1.17 in /usr/local/lib/python3.6/dist-packages (from transformers) (1.19.5)\n",
            "Collecting tokenizers<0.11,>=0.10.1\n",
            "\u001b[?25l  Downloading https://files.pythonhosted.org/packages/fd/5b/44baae602e0a30bcc53fbdbc60bd940c15e143d252d658dfdefce736ece5/tokenizers-0.10.1-cp36-cp36m-manylinux2010_x86_64.whl (3.2MB)\n",
            "\u001b[K     |████████████████████████████████| 3.2MB 65.1MB/s \n",
            "\u001b[?25hRequirement already satisfied: dataclasses; python_version < \"3.7\" in /usr/local/lib/python3.6/dist-packages (from transformers) (0.8)\n",
            "Requirement already satisfied: filelock in /usr/local/lib/python3.6/dist-packages (from transformers) (3.0.12)\n",
            "Requirement already satisfied: regex!=2019.12.17 in /usr/local/lib/python3.6/dist-packages (from transformers) (2019.12.20)\n",
            "Collecting sacremoses\n",
            "\u001b[?25l  Downloading https://files.pythonhosted.org/packages/7d/34/09d19aff26edcc8eb2a01bed8e98f13a1537005d31e95233fd48216eed10/sacremoses-0.0.43.tar.gz (883kB)\n",
            "\u001b[K     |████████████████████████████████| 890kB 53.4MB/s \n",
            "\u001b[?25hRequirement already satisfied: packaging in /usr/local/lib/python3.6/dist-packages (from transformers) (20.9)\n",
            "Requirement already satisfied: tqdm>=4.27 in /usr/local/lib/python3.6/dist-packages (from transformers) (4.41.1)\n",
            "Requirement already satisfied: importlib-metadata; python_version < \"3.8\" in /usr/local/lib/python3.6/dist-packages (from transformers) (3.4.0)\n",
            "Requirement already satisfied: urllib3!=1.25.0,!=1.25.1,<1.26,>=1.21.1 in /usr/local/lib/python3.6/dist-packages (from requests->transformers) (1.24.3)\n",
            "Requirement already satisfied: certifi>=2017.4.17 in /usr/local/lib/python3.6/dist-packages (from requests->transformers) (2020.12.5)\n",
            "Requirement already satisfied: idna<3,>=2.5 in /usr/local/lib/python3.6/dist-packages (from requests->transformers) (2.10)\n",
            "Requirement already satisfied: chardet<4,>=3.0.2 in /usr/local/lib/python3.6/dist-packages (from requests->transformers) (3.0.4)\n",
            "Requirement already satisfied: six in /usr/local/lib/python3.6/dist-packages (from sacremoses->transformers) (1.15.0)\n",
            "Requirement already satisfied: click in /usr/local/lib/python3.6/dist-packages (from sacremoses->transformers) (7.1.2)\n",
            "Requirement already satisfied: joblib in /usr/local/lib/python3.6/dist-packages (from sacremoses->transformers) (1.0.0)\n",
            "Requirement already satisfied: pyparsing>=2.0.2 in /usr/local/lib/python3.6/dist-packages (from packaging->transformers) (2.4.7)\n",
            "Requirement already satisfied: typing-extensions>=3.6.4; python_version < \"3.8\" in /usr/local/lib/python3.6/dist-packages (from importlib-metadata; python_version < \"3.8\"->transformers) (3.7.4.3)\n",
            "Requirement already satisfied: zipp>=0.5 in /usr/local/lib/python3.6/dist-packages (from importlib-metadata; python_version < \"3.8\"->transformers) (3.4.0)\n",
            "Building wheels for collected packages: sacremoses\n",
            "  Building wheel for sacremoses (setup.py) ... \u001b[?25l\u001b[?25hdone\n",
            "  Created wheel for sacremoses: filename=sacremoses-0.0.43-cp36-none-any.whl size=893261 sha256=521e5ee81ab7b3727ee9bf6f1a29bc76a83a79033ba07125a966665bfd4cf5a4\n",
            "  Stored in directory: /root/.cache/pip/wheels/29/3c/fd/7ce5c3f0666dab31a50123635e6fb5e19ceb42ce38d4e58f45\n",
            "Successfully built sacremoses\n",
            "Installing collected packages: tokenizers, sacremoses, transformers\n",
            "Successfully installed sacremoses-0.0.43 tokenizers-0.10.1 transformers-4.3.2\n"
          ],
          "name": "stdout"
        }
      ]
    },
    {
      "cell_type": "code",
      "metadata": {
        "colab": {
          "base_uri": "https://localhost:8080/",
          "height": 221
        },
        "id": "J7HCZvj1IhH_",
        "outputId": "72c25e5f-de3f-4a4d-a113-725cc6c9528a"
      },
      "source": [
        "import torch\n",
        "from tqdm.notebook import tqdm\n",
        "\n",
        "from transformers import BertTokenizer\n",
        "from torch.utils.data import TensorDataset\n",
        "\n",
        "from transformers import BertForSequenceClassification\n",
        "\n",
        "from google.colab import drive\n",
        "drive.mount('/content/drive')\n",
        "workspace_dir = './drive/My Drive/Colab Notebooks/'\n",
        "\n",
        "import pandas as pd\n",
        "\n",
        "df = pd.read_csv(workspace_dir+'data/title_conference.csv')\n",
        "df.head()"
      ],
      "execution_count": 3,
      "outputs": [
        {
          "output_type": "stream",
          "text": [
            "Drive already mounted at /content/drive; to attempt to forcibly remount, call drive.mount(\"/content/drive\", force_remount=True).\n"
          ],
          "name": "stdout"
        },
        {
          "output_type": "execute_result",
          "data": {
            "text/html": [
              "<div>\n",
              "<style scoped>\n",
              "    .dataframe tbody tr th:only-of-type {\n",
              "        vertical-align: middle;\n",
              "    }\n",
              "\n",
              "    .dataframe tbody tr th {\n",
              "        vertical-align: top;\n",
              "    }\n",
              "\n",
              "    .dataframe thead th {\n",
              "        text-align: right;\n",
              "    }\n",
              "</style>\n",
              "<table border=\"1\" class=\"dataframe\">\n",
              "  <thead>\n",
              "    <tr style=\"text-align: right;\">\n",
              "      <th></th>\n",
              "      <th>Title</th>\n",
              "      <th>Conference</th>\n",
              "    </tr>\n",
              "  </thead>\n",
              "  <tbody>\n",
              "    <tr>\n",
              "      <th>0</th>\n",
              "      <td>Innovation in Database Management: Computer Sc...</td>\n",
              "      <td>VLDB</td>\n",
              "    </tr>\n",
              "    <tr>\n",
              "      <th>1</th>\n",
              "      <td>High performance prime field multiplication fo...</td>\n",
              "      <td>ISCAS</td>\n",
              "    </tr>\n",
              "    <tr>\n",
              "      <th>2</th>\n",
              "      <td>enchanted scissors: a scissor interface for su...</td>\n",
              "      <td>SIGGRAPH</td>\n",
              "    </tr>\n",
              "    <tr>\n",
              "      <th>3</th>\n",
              "      <td>Detection of channel degradation attack by Int...</td>\n",
              "      <td>INFOCOM</td>\n",
              "    </tr>\n",
              "    <tr>\n",
              "      <th>4</th>\n",
              "      <td>Pinning a Complex Network through the Betweenn...</td>\n",
              "      <td>ISCAS</td>\n",
              "    </tr>\n",
              "  </tbody>\n",
              "</table>\n",
              "</div>"
            ],
            "text/plain": [
              "                                               Title Conference\n",
              "0  Innovation in Database Management: Computer Sc...       VLDB\n",
              "1  High performance prime field multiplication fo...      ISCAS\n",
              "2  enchanted scissors: a scissor interface for su...   SIGGRAPH\n",
              "3  Detection of channel degradation attack by Int...    INFOCOM\n",
              "4  Pinning a Complex Network through the Betweenn...      ISCAS"
            ]
          },
          "metadata": {
            "tags": []
          },
          "execution_count": 3
        }
      ]
    },
    {
      "cell_type": "code",
      "metadata": {
        "colab": {
          "base_uri": "https://localhost:8080/"
        },
        "id": "LUc7UggUMA8K",
        "outputId": "a91e1f55-4ba3-4411-c4dc-fde66302531f"
      },
      "source": [
        "df['Conference'].value_counts()"
      ],
      "execution_count": 4,
      "outputs": [
        {
          "output_type": "execute_result",
          "data": {
            "text/plain": [
              "ISCAS       864\n",
              "INFOCOM     515\n",
              "VLDB        423\n",
              "WWW         379\n",
              "SIGGRAPH    326\n",
              "Name: Conference, dtype: int64"
            ]
          },
          "metadata": {
            "tags": []
          },
          "execution_count": 4
        }
      ]
    },
    {
      "cell_type": "markdown",
      "metadata": {
        "id": "fc0Rv6pSMGx1"
      },
      "source": [
        "### Encoding the Labels"
      ]
    },
    {
      "cell_type": "code",
      "metadata": {
        "colab": {
          "base_uri": "https://localhost:8080/"
        },
        "id": "6iibETPQMEU5",
        "outputId": "8d3b2874-a0eb-4591-db66-b6bc82227f6f"
      },
      "source": [
        "possible_labels = df.Conference.unique()\n",
        "\n",
        "label_dict = {}\n",
        "for index, possible_label in enumerate(possible_labels):\n",
        "    label_dict[possible_label] = index\n",
        "label_dict"
      ],
      "execution_count": 5,
      "outputs": [
        {
          "output_type": "execute_result",
          "data": {
            "text/plain": [
              "{'INFOCOM': 3, 'ISCAS': 1, 'SIGGRAPH': 2, 'VLDB': 0, 'WWW': 4}"
            ]
          },
          "metadata": {
            "tags": []
          },
          "execution_count": 5
        }
      ]
    },
    {
      "cell_type": "code",
      "metadata": {
        "id": "IKcVJdlIMNFN"
      },
      "source": [
        "df['label'] = df.Conference.replace(label_dict)"
      ],
      "execution_count": 6,
      "outputs": []
    },
    {
      "cell_type": "markdown",
      "metadata": {
        "id": "So3aGZJjMcGk"
      },
      "source": [
        "### Train and Validation Split"
      ]
    },
    {
      "cell_type": "code",
      "metadata": {
        "colab": {
          "base_uri": "https://localhost:8080/",
          "height": 390
        },
        "id": "13rihfbEMR7N",
        "outputId": "3742815e-64bb-449d-fc61-12ec79d193aa"
      },
      "source": [
        "from sklearn.model_selection import train_test_split\n",
        "\n",
        "X_train, X_val, y_train, y_val = train_test_split(df.index.values, \n",
        "                                                  df.label.values, \n",
        "                                                  test_size=0.15, \n",
        "                                                  random_state=42, \n",
        "                                                  stratify=df.label.values)\n",
        "\n",
        "df['data_type'] = ['not_set']*df.shape[0]\n",
        "\n",
        "df.loc[X_train, 'data_type'] = 'train'\n",
        "df.loc[X_val, 'data_type'] = 'val'\n",
        "\n",
        "df.groupby(['Conference', 'label', 'data_type']).count()"
      ],
      "execution_count": 7,
      "outputs": [
        {
          "output_type": "execute_result",
          "data": {
            "text/html": [
              "<div>\n",
              "<style scoped>\n",
              "    .dataframe tbody tr th:only-of-type {\n",
              "        vertical-align: middle;\n",
              "    }\n",
              "\n",
              "    .dataframe tbody tr th {\n",
              "        vertical-align: top;\n",
              "    }\n",
              "\n",
              "    .dataframe thead th {\n",
              "        text-align: right;\n",
              "    }\n",
              "</style>\n",
              "<table border=\"1\" class=\"dataframe\">\n",
              "  <thead>\n",
              "    <tr style=\"text-align: right;\">\n",
              "      <th></th>\n",
              "      <th></th>\n",
              "      <th></th>\n",
              "      <th>Title</th>\n",
              "    </tr>\n",
              "    <tr>\n",
              "      <th>Conference</th>\n",
              "      <th>label</th>\n",
              "      <th>data_type</th>\n",
              "      <th></th>\n",
              "    </tr>\n",
              "  </thead>\n",
              "  <tbody>\n",
              "    <tr>\n",
              "      <th rowspan=\"2\" valign=\"top\">INFOCOM</th>\n",
              "      <th rowspan=\"2\" valign=\"top\">3</th>\n",
              "      <th>train</th>\n",
              "      <td>438</td>\n",
              "    </tr>\n",
              "    <tr>\n",
              "      <th>val</th>\n",
              "      <td>77</td>\n",
              "    </tr>\n",
              "    <tr>\n",
              "      <th rowspan=\"2\" valign=\"top\">ISCAS</th>\n",
              "      <th rowspan=\"2\" valign=\"top\">1</th>\n",
              "      <th>train</th>\n",
              "      <td>734</td>\n",
              "    </tr>\n",
              "    <tr>\n",
              "      <th>val</th>\n",
              "      <td>130</td>\n",
              "    </tr>\n",
              "    <tr>\n",
              "      <th rowspan=\"2\" valign=\"top\">SIGGRAPH</th>\n",
              "      <th rowspan=\"2\" valign=\"top\">2</th>\n",
              "      <th>train</th>\n",
              "      <td>277</td>\n",
              "    </tr>\n",
              "    <tr>\n",
              "      <th>val</th>\n",
              "      <td>49</td>\n",
              "    </tr>\n",
              "    <tr>\n",
              "      <th rowspan=\"2\" valign=\"top\">VLDB</th>\n",
              "      <th rowspan=\"2\" valign=\"top\">0</th>\n",
              "      <th>train</th>\n",
              "      <td>359</td>\n",
              "    </tr>\n",
              "    <tr>\n",
              "      <th>val</th>\n",
              "      <td>64</td>\n",
              "    </tr>\n",
              "    <tr>\n",
              "      <th rowspan=\"2\" valign=\"top\">WWW</th>\n",
              "      <th rowspan=\"2\" valign=\"top\">4</th>\n",
              "      <th>train</th>\n",
              "      <td>322</td>\n",
              "    </tr>\n",
              "    <tr>\n",
              "      <th>val</th>\n",
              "      <td>57</td>\n",
              "    </tr>\n",
              "  </tbody>\n",
              "</table>\n",
              "</div>"
            ],
            "text/plain": [
              "                            Title\n",
              "Conference label data_type       \n",
              "INFOCOM    3     train        438\n",
              "                 val           77\n",
              "ISCAS      1     train        734\n",
              "                 val          130\n",
              "SIGGRAPH   2     train        277\n",
              "                 val           49\n",
              "VLDB       0     train        359\n",
              "                 val           64\n",
              "WWW        4     train        322\n",
              "                 val           57"
            ]
          },
          "metadata": {
            "tags": []
          },
          "execution_count": 7
        }
      ]
    },
    {
      "cell_type": "markdown",
      "metadata": {
        "id": "ovLMYMEgMmut"
      },
      "source": [
        "### BertTokenizer and Encoding the Data"
      ]
    },
    {
      "cell_type": "markdown",
      "metadata": {
        "id": "tqTYGsTjM0T0"
      },
      "source": [
        "Constructs a BERT tokenizer. Based on WordPiece.\n",
        "\n",
        "*  Instantiate a pre-trained BERT model configuration to encode our data.\n",
        "To convert all the titles from text into encoded form, we use a function called batch_encode_plus , and we will proceed train and validation data separately.\n",
        "*  \n",
        "\n",
        "\n",
        "\n",
        "The 1st parameter inside the above function is the title text.\n",
        "add_special_tokens=True means the sequences will be encoded with the special tokens relative to their model.\n",
        "When batching sequences together, we set return_attention_mask=True, so it will return the attention mask according to the specific tokenizer defined by the max_length attribute.\n",
        "We also want to pad all the titles to certain maximum length.\n",
        "We actually do not need to set max_length=256, but just to play it safe.\n",
        "return_tensors='pt' to return PyTorch.\n",
        "And then we need to split the data into input_ids, attention_masks and labels.\n",
        "Finally, after we get encoded data set, we can create training data and validation data."
      ]
    },
    {
      "cell_type": "code",
      "metadata": {
        "id": "--kiwYxeMjC6"
      },
      "source": [
        ""
      ],
      "execution_count": null,
      "outputs": []
    }
  ]
}