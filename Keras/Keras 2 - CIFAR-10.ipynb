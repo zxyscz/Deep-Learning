{
 "cells": [
  {
   "cell_type": "code",
   "execution_count": 1,
   "metadata": {},
   "outputs": [
    {
     "name": "stderr",
     "output_type": "stream",
     "text": [
      "Using TensorFlow backend.\n"
     ]
    }
   ],
   "source": [
    "# import the necessary packages\n",
    "from keras.datasets import cifar10\n",
    "from keras.utils import np_utils\n",
    "from keras.models import Sequential\n",
    "from keras.layers.core import Dense, Dropout, Activation, Flatten\n",
    "from keras.layers.convolutional import Conv2D, MaxPooling2D\n",
    "from keras.optimizers import SGD, Adam, RMSprop\n",
    "import matplotlib.pyplot as plt\n",
    "\n",
    "import matplotlib.pyplot as plt"
   ]
  },
  {
   "cell_type": "code",
   "execution_count": 2,
   "metadata": {},
   "outputs": [
    {
     "name": "stdout",
     "output_type": "stream",
     "text": [
      "X_train shape: (50000, 32, 32, 3)\n",
      "50000 train samples\n",
      "10000 test samples\n"
     ]
    }
   ],
   "source": [
    "# CIFAR_10 is a set of 60K images 32x32 pixels on 3 channels\n",
    "IMG_CHANNELS = 3\n",
    "IMG_ROWS = 32\n",
    "IMG_COLS = 32\n",
    "\n",
    "#constant\n",
    "BATCH_SIZE = 128\n",
    "NB_EPOCH = 20\n",
    "NB_CLASSES = 10\n",
    "VERBOSE = 1\n",
    "VALIDATION_SPLIT = 0.2\n",
    "OPTIM = RMSprop()\n",
    "\n",
    "#load dataset\n",
    "(X_train, y_train), (X_test, y_test) = cifar10.load_data()\n",
    "print('X_train shape:', X_train.shape)\n",
    "print(X_train.shape[0], 'train samples')\n",
    "print(X_test.shape[0], 'test samples')"
   ]
  },
  {
   "cell_type": "code",
   "execution_count": 3,
   "metadata": {
    "collapsed": true
   },
   "outputs": [],
   "source": [
    "# convert to categorical\n",
    "Y_train = np_utils.to_categorical(y_train, NB_CLASSES)\n",
    "Y_test = np_utils.to_categorical(y_test, NB_CLASSES)\n",
    "\n",
    "# float and normalization\n",
    "X_train = X_train.astype('float32')\n",
    "X_test = X_test.astype('float32')\n",
    "X_train /= 255\n",
    "X_test /= 255"
   ]
  },
  {
   "cell_type": "code",
   "execution_count": 4,
   "metadata": {
    "collapsed": true
   },
   "outputs": [],
   "source": [
    "# network - Conv -> RELU -> POOL\n",
    "model = Sequential()\n",
    "model.add(Conv2D(32, (3, 3), padding='same',\n",
    "input_shape=(IMG_ROWS, IMG_COLS, IMG_CHANNELS)))\n",
    "model.add(Activation('relu'))\n",
    "model.add(MaxPooling2D(pool_size=(2, 2)))\n",
    "model.add(Dropout(0.25))"
   ]
  },
  {
   "cell_type": "code",
   "execution_count": 5,
   "metadata": {},
   "outputs": [
    {
     "name": "stdout",
     "output_type": "stream",
     "text": [
      "_________________________________________________________________\n",
      "Layer (type)                 Output Shape              Param #   \n",
      "=================================================================\n",
      "conv2d_1 (Conv2D)            (None, 32, 32, 32)        896       \n",
      "_________________________________________________________________\n",
      "activation_1 (Activation)    (None, 32, 32, 32)        0         \n",
      "_________________________________________________________________\n",
      "max_pooling2d_1 (MaxPooling2 (None, 16, 16, 32)        0         \n",
      "_________________________________________________________________\n",
      "dropout_1 (Dropout)          (None, 16, 16, 32)        0         \n",
      "_________________________________________________________________\n",
      "flatten_1 (Flatten)          (None, 8192)              0         \n",
      "_________________________________________________________________\n",
      "dense_1 (Dense)              (None, 512)               4194816   \n",
      "_________________________________________________________________\n",
      "activation_2 (Activation)    (None, 512)               0         \n",
      "_________________________________________________________________\n",
      "dropout_2 (Dropout)          (None, 512)               0         \n",
      "_________________________________________________________________\n",
      "dense_2 (Dense)              (None, 10)                5130      \n",
      "_________________________________________________________________\n",
      "activation_3 (Activation)    (None, 10)                0         \n",
      "=================================================================\n",
      "Total params: 4,200,842\n",
      "Trainable params: 4,200,842\n",
      "Non-trainable params: 0\n",
      "_________________________________________________________________\n"
     ]
    }
   ],
   "source": [
    "model.add(Flatten())\n",
    "model.add(Dense(512))\n",
    "model.add(Activation('relu'))\n",
    "model.add(Dropout(0.5))\n",
    "model.add(Dense(NB_CLASSES))\n",
    "model.add(Activation('softmax'))\n",
    "model.summary()"
   ]
  },
  {
   "cell_type": "code",
   "execution_count": 6,
   "metadata": {},
   "outputs": [
    {
     "name": "stdout",
     "output_type": "stream",
     "text": [
      "Train on 40000 samples, validate on 10000 samples\n",
      "Epoch 1/20\n",
      "40000/40000 [==============================] - 74s - loss: 1.7389 - acc: 0.3841 - val_loss: 1.4990 - val_acc: 0.4781\n",
      "Epoch 2/20\n",
      "40000/40000 [==============================] - 75s - loss: 1.3816 - acc: 0.5091 - val_loss: 1.4542 - val_acc: 0.4966\n",
      "Epoch 3/20\n",
      "40000/40000 [==============================] - 75s - loss: 1.2483 - acc: 0.5575 - val_loss: 1.2043 - val_acc: 0.5827\n",
      "Epoch 4/20\n",
      "40000/40000 [==============================] - 74s - loss: 1.1601 - acc: 0.5879 - val_loss: 1.1172 - val_acc: 0.6104\n",
      "Epoch 5/20\n",
      "40000/40000 [==============================] - 73s - loss: 1.0832 - acc: 0.6202 - val_loss: 1.0914 - val_acc: 0.6201\n",
      "Epoch 6/20\n",
      "40000/40000 [==============================] - 73s - loss: 1.0249 - acc: 0.6379 - val_loss: 1.0673 - val_acc: 0.6371\n",
      "Epoch 7/20\n",
      "40000/40000 [==============================] - 71s - loss: 0.9704 - acc: 0.6617 - val_loss: 1.0358 - val_acc: 0.6440\n",
      "Epoch 8/20\n",
      "40000/40000 [==============================] - 68s - loss: 0.9271 - acc: 0.6765 - val_loss: 1.0524 - val_acc: 0.6394\n",
      "Epoch 9/20\n",
      "40000/40000 [==============================] - 69s - loss: 0.8799 - acc: 0.6957 - val_loss: 1.0208 - val_acc: 0.6549\n",
      "Epoch 10/20\n",
      "40000/40000 [==============================] - 68s - loss: 0.8410 - acc: 0.7057 - val_loss: 1.0474 - val_acc: 0.6433\n",
      "Epoch 11/20\n",
      "40000/40000 [==============================] - 70s - loss: 0.8044 - acc: 0.7225 - val_loss: 1.1232 - val_acc: 0.6339\n",
      "Epoch 12/20\n",
      "40000/40000 [==============================] - 68s - loss: 0.7667 - acc: 0.7359 - val_loss: 1.0381 - val_acc: 0.6671\n",
      "Epoch 13/20\n",
      "40000/40000 [==============================] - 67s - loss: 0.7361 - acc: 0.7455 - val_loss: 0.9991 - val_acc: 0.6769\n",
      "Epoch 14/20\n",
      "40000/40000 [==============================] - 67s - loss: 0.7096 - acc: 0.7560 - val_loss: 1.0546 - val_acc: 0.6660\n",
      "Epoch 15/20\n",
      "40000/40000 [==============================] - 73s - loss: 0.6864 - acc: 0.7651 - val_loss: 1.0056 - val_acc: 0.6752\n",
      "Epoch 16/20\n",
      "40000/40000 [==============================] - 77s - loss: 0.6600 - acc: 0.7726 - val_loss: 1.0530 - val_acc: 0.6646\n",
      "Epoch 17/20\n",
      "40000/40000 [==============================] - 72s - loss: 0.6379 - acc: 0.7823 - val_loss: 1.0686 - val_acc: 0.6773\n",
      "Epoch 18/20\n",
      "40000/40000 [==============================] - 79s - loss: 0.6126 - acc: 0.7880 - val_loss: 1.0788 - val_acc: 0.6627\n",
      "Epoch 19/20\n",
      "40000/40000 [==============================] - 75s - loss: 0.5937 - acc: 0.7956 - val_loss: 1.0051 - val_acc: 0.6841\n",
      "Epoch 20/20\n",
      "40000/40000 [==============================] - 71s - loss: 0.5771 - acc: 0.8009 - val_loss: 1.0335 - val_acc: 0.6874\n",
      " 9984/10000 [============================>.] - ETA: 0sTest score: 1.03289387932\n",
      "Test accuracy: 0.6709\n"
     ]
    }
   ],
   "source": [
    "# train\n",
    "model.compile(loss='categorical_crossentropy', optimizer=OPTIM,\n",
    "metrics=['accuracy'])\n",
    "model.fit(X_train, Y_train, \n",
    "          batch_size=BATCH_SIZE,\n",
    "          epochs=NB_EPOCH, \n",
    "          validation_split=VALIDATION_SPLIT,\n",
    "          verbose=VERBOSE)\n",
    "score = model.evaluate(X_test, Y_test,\n",
    "batch_size=BATCH_SIZE, verbose=VERBOSE)\n",
    "print(\"Test score:\", score[0])\n",
    "print('Test accuracy:', score[1])"
   ]
  },
  {
   "cell_type": "code",
   "execution_count": 10,
   "metadata": {},
   "outputs": [],
   "source": [
    "#save model\n",
    "model_json = model.to_json()\n",
    "open('cifar10_architecture.json', 'w').write(model_json)\n",
    "model.save('cifar10_weights.h5', overwrite=True)"
   ]
  },
  {
   "cell_type": "code",
   "execution_count": null,
   "metadata": {
    "collapsed": true
   },
   "outputs": [],
   "source": []
  }
 ],
 "metadata": {
  "kernelspec": {
   "display_name": "Python 3",
   "language": "python",
   "name": "python3"
  },
  "language_info": {
   "codemirror_mode": {
    "name": "ipython",
    "version": 3
   },
   "file_extension": ".py",
   "mimetype": "text/x-python",
   "name": "python",
   "nbconvert_exporter": "python",
   "pygments_lexer": "ipython3",
   "version": "3.6.1"
  }
 },
 "nbformat": 4,
 "nbformat_minor": 2
}
