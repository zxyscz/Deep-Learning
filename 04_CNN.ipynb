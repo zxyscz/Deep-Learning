{
  "nbformat": 4,
  "nbformat_minor": 0,
  "metadata": {
    "colab": {
      "name": "hw3_CNN.ipynb",
      "provenance": [],
      "collapsed_sections": [],
      "include_colab_link": true
    },
    "kernelspec": {
      "name": "python3",
      "display_name": "Python 3"
    },
    "accelerator": "GPU"
  },
  "cells": [
    {
      "cell_type": "markdown",
      "metadata": {
        "id": "view-in-github",
        "colab_type": "text"
      },
      "source": [
        "<a href=\"https://colab.research.google.com/github/linghduoduo/Deep-Learning/blob/master/3_CNN.ipynb\" target=\"_parent\"><img src=\"https://colab.research.google.com/assets/colab-badge.svg\" alt=\"Open In Colab\"/></a>"
      ]
    },
    {
      "cell_type": "markdown",
      "metadata": {
        "id": "D_a2USyd4giE"
      },
      "source": [
        "# **Convolutional Neural Network**"
      ]
    },
    {
      "cell_type": "code",
      "metadata": {
        "id": "zhzdomRTOKoJ"
      },
      "source": [
        "!gdown --id '19CzXudqN58R3D-1G8KeFWk8UDQwlb8is' --output food-11.zip # 下載資料集\n",
        "!unzip food-11.zip # 解壓縮"
      ],
      "execution_count": null,
      "outputs": []
    },
    {
      "cell_type": "code",
      "metadata": {
        "id": "9sVrKci4PUFW"
      },
      "source": [
        "# Import需要的套件\n",
        "import os\n",
        "import numpy as np\n",
        "import cv2\n",
        "import torch\n",
        "import torch.nn as nn\n",
        "import torchvision.transforms as transforms\n",
        "import pandas as pd\n",
        "from torch.utils.data import DataLoader, Dataset\n",
        "import time"
      ],
      "execution_count": 2,
      "outputs": []
    },
    {
      "cell_type": "markdown",
      "metadata": {
        "id": "F0i9ZCPrOVN_"
      },
      "source": [
        "#Read image\n",
        "利用 OpenCV (cv2) 讀入照片並存放在 numpy array 中"
      ]
    },
    {
      "cell_type": "code",
      "metadata": {
        "id": "Zf7QPifJQNUK"
      },
      "source": [
        "def readfile(path, label):\n",
        "    # label 是一個 boolean variable，代表需不需要回傳 y 值\n",
        "    image_dir = sorted(os.listdir(path))\n",
        "    x = np.zeros((len(image_dir), 128, 128, 3), dtype=np.uint8)\n",
        "    y = np.zeros((len(image_dir)), dtype=np.uint8)\n",
        "    for i, file in enumerate(image_dir):\n",
        "        img = cv2.imread(os.path.join(path, file))\n",
        "        x[i, :, :] = cv2.resize(img,(128, 128))\n",
        "        if label:\n",
        "          y[i] = int(file.split(\"_\")[0])\n",
        "    if label:\n",
        "      return x, y\n",
        "    else:\n",
        "      return x"
      ],
      "execution_count": 3,
      "outputs": []
    },
    {
      "cell_type": "code",
      "metadata": {
        "id": "5ebVIY5HQQH7",
        "outputId": "ee05f1f6-ebb7-4ccf-e50a-2c6f1fc0e8eb",
        "colab": {
          "base_uri": "https://localhost:8080/",
          "height": 85
        }
      },
      "source": [
        "# 分別將 training set、validation set、testing set 用 readfile 函式讀進來\n",
        "workspace_dir = './food-11'\n",
        "print(\"Reading data\")\n",
        "train_x, train_y = readfile(os.path.join(workspace_dir, \"training\"), True)\n",
        "print(\"Size of training data = {}\".format(len(train_x)))\n",
        "val_x, val_y = readfile(os.path.join(workspace_dir, \"validation\"), True)\n",
        "print(\"Size of validation data = {}\".format(len(val_x)))\n",
        "test_x = readfile(os.path.join(workspace_dir, \"testing\"), False)\n",
        "print(\"Size of Testing data = {}\".format(len(test_x)))"
      ],
      "execution_count": 4,
      "outputs": [
        {
          "output_type": "stream",
          "text": [
            "Reading data\n",
            "Size of training data = 9866\n",
            "Size of validation data = 3430\n",
            "Size of Testing data = 3347\n"
          ],
          "name": "stdout"
        }
      ]
    },
    {
      "cell_type": "markdown",
      "metadata": {
        "id": "gq5KVMM3OHY6"
      },
      "source": [
        "# Dataset\n",
        "在 PyTorch 中，我們可以利用 torch.utils.data 的 Dataset 及 DataLoader 來\"包裝\" data，使後續的 training 及 testing 更為方便。\n",
        "\n",
        "Dataset 需要 overload 兩個函數：\\_\\_len\\_\\_ 及 \\_\\_getitem\\_\\_\n",
        "\n",
        "\\_\\_len\\_\\_ 必須要回傳 dataset 的大小，而 \\_\\_getitem\\_\\_ 則定義了當程式利用 [ ] 取值時，dataset 應該要怎麼回傳資料。\n",
        "\n",
        "實際上我們並不會直接使用到這兩個函數，但是使用 DataLoader 在 enumerate Dataset 時會使用到，沒有實做的話會在程式運行階段出現 error。\n"
      ]
    },
    {
      "cell_type": "code",
      "metadata": {
        "id": "gKd2abixQghI"
      },
      "source": [
        "# training 時做 data augmentation\n",
        "train_transform = transforms.Compose([\n",
        "    transforms.ToPILImage(),\n",
        "    transforms.RandomHorizontalFlip(), # 隨機將圖片水平翻轉\n",
        "    transforms.RandomRotation(15), # 隨機旋轉圖片\n",
        "    transforms.ToTensor(), # 將圖片轉成 Tensor，並把數值 normalize 到 [0,1] (data normalization)\n",
        "])\n",
        "# testing 時不需做 data augmentation\n",
        "test_transform = transforms.Compose([\n",
        "    transforms.ToPILImage(),                                    \n",
        "    transforms.ToTensor(),\n",
        "])\n",
        "class ImgDataset(Dataset):\n",
        "    def __init__(self, x, y=None, transform=None):\n",
        "        self.x = x\n",
        "        # label is required to be a LongTensor\n",
        "        self.y = y\n",
        "        if y is not None:\n",
        "            self.y = torch.LongTensor(y)\n",
        "        self.transform = transform\n",
        "    def __len__(self):\n",
        "        return len(self.x)\n",
        "    def __getitem__(self, index):\n",
        "        X = self.x[index]\n",
        "        if self.transform is not None:\n",
        "            X = self.transform(X)\n",
        "        if self.y is not None:\n",
        "            Y = self.y[index]\n",
        "            return X, Y\n",
        "        else:\n",
        "            return X"
      ],
      "execution_count": 5,
      "outputs": []
    },
    {
      "cell_type": "code",
      "metadata": {
        "id": "qz6jeMnkQl0_"
      },
      "source": [
        "batch_size = 128\n",
        "train_set = ImgDataset(train_x, train_y, train_transform)\n",
        "val_set = ImgDataset(val_x, val_y, test_transform)\n",
        "train_loader = DataLoader(train_set, batch_size=batch_size, shuffle=True)\n",
        "val_loader = DataLoader(val_set, batch_size=batch_size, shuffle=False)"
      ],
      "execution_count": 6,
      "outputs": []
    },
    {
      "cell_type": "markdown",
      "metadata": {
        "id": "j9YhZo7POPYG"
      },
      "source": [
        "# Model"
      ]
    },
    {
      "cell_type": "code",
      "metadata": {
        "id": "Y1c-GwrMQqMl"
      },
      "source": [
        "class Classifier(nn.Module):\n",
        "    def __init__(self):\n",
        "        super(Classifier, self).__init__()\n",
        "        # torch.nn.Conv2d(in_channels, out_channels, kernel_size, stride, padding)\n",
        "        # torch.nn.MaxPool2d(kernel_size, stride, padding)\n",
        "        # input 維度 [3, 128, 128]\n",
        "        self.cnn = nn.Sequential(\n",
        "            nn.Conv2d(3, 64, 3, 1, 1),  # [64, 128, 128]\n",
        "            nn.BatchNorm2d(64),\n",
        "            nn.ReLU(),\n",
        "            nn.MaxPool2d(2, 2, 0),      # [64, 64, 64]\n",
        "\n",
        "            nn.Conv2d(64, 128, 3, 1, 1), # [128, 64, 64]\n",
        "            nn.BatchNorm2d(128),\n",
        "            nn.ReLU(),\n",
        "            nn.MaxPool2d(2, 2, 0),      # [128, 32, 32]\n",
        "\n",
        "            nn.Conv2d(128, 256, 3, 1, 1), # [256, 32, 32]\n",
        "            nn.BatchNorm2d(256),\n",
        "            nn.ReLU(),\n",
        "            nn.MaxPool2d(2, 2, 0),      # [256, 16, 16]\n",
        "\n",
        "            nn.Conv2d(256, 512, 3, 1, 1), # [512, 16, 16]\n",
        "            nn.BatchNorm2d(512),\n",
        "            nn.ReLU(),\n",
        "            nn.MaxPool2d(2, 2, 0),       # [512, 8, 8]\n",
        "            \n",
        "            nn.Conv2d(512, 512, 3, 1, 1), # [512, 8, 8]\n",
        "            nn.BatchNorm2d(512),\n",
        "            nn.ReLU(),\n",
        "            nn.MaxPool2d(2, 2, 0),       # [512, 4, 4]\n",
        "        )\n",
        "        self.fc = nn.Sequential(\n",
        "            nn.Linear(512*4*4, 1024),\n",
        "            nn.ReLU(),\n",
        "            nn.Linear(1024, 512),\n",
        "            nn.ReLU(),\n",
        "            nn.Linear(512, 11)\n",
        "        )\n",
        "\n",
        "    def forward(self, x):\n",
        "        out = self.cnn(x)\n",
        "        out = out.view(out.size()[0], -1)\n",
        "        return self.fc(out)"
      ],
      "execution_count": 7,
      "outputs": []
    },
    {
      "cell_type": "markdown",
      "metadata": {
        "id": "aEnGbriXORN3"
      },
      "source": [
        "# Training"
      ]
    },
    {
      "cell_type": "markdown",
      "metadata": {
        "id": "_5x-FH2Kr_jh"
      },
      "source": [
        "使用 training set 訓練，並使用 validation set 尋找好的參數"
      ]
    },
    {
      "cell_type": "code",
      "metadata": {
        "id": "PHaFE-8oQtkC",
        "outputId": "c6c92ea3-5ffe-415d-9d92-19563806a952",
        "colab": {
          "base_uri": "https://localhost:8080/",
          "height": 527
        }
      },
      "source": [
        "model = Classifier().cuda()\n",
        "loss = nn.CrossEntropyLoss() # 因為是 classification task，所以 loss 使用 CrossEntropyLoss\n",
        "optimizer = torch.optim.Adam(model.parameters(), lr=0.001) # optimizer 使用 Adam\n",
        "num_epoch = 30\n",
        "\n",
        "for epoch in range(num_epoch):\n",
        "    epoch_start_time = time.time()\n",
        "    train_acc = 0.0\n",
        "    train_loss = 0.0\n",
        "    val_acc = 0.0\n",
        "    val_loss = 0.0\n",
        "\n",
        "    model.train() # 確保 model 是在 train model (開啟 Dropout 等...)\n",
        "    for i, data in enumerate(train_loader):\n",
        "        optimizer.zero_grad() # 用 optimizer 將 model 參數的 gradient 歸零\n",
        "        train_pred = model(data[0].cuda()) # 利用 model 得到預測的機率分佈 這邊實際上就是去呼叫 model 的 forward 函數\n",
        "        batch_loss = loss(train_pred, data[1].cuda()) # 計算 loss （注意 prediction 跟 label 必須同時在 CPU 或是 GPU 上）\n",
        "        batch_loss.backward() # 利用 back propagation 算出每個參數的 gradient\n",
        "        optimizer.step() # 以 optimizer 用 gradient 更新參數值\n",
        "\n",
        "        train_acc += np.sum(np.argmax(train_pred.cpu().data.numpy(), axis=1) == data[1].numpy())\n",
        "        train_loss += batch_loss.item()\n",
        "    \n",
        "    model.eval()\n",
        "    with torch.no_grad():\n",
        "        for i, data in enumerate(val_loader):\n",
        "            val_pred = model(data[0].cuda())\n",
        "            batch_loss = loss(val_pred, data[1].cuda())\n",
        "\n",
        "            val_acc += np.sum(np.argmax(val_pred.cpu().data.numpy(), axis=1) == data[1].numpy())\n",
        "            val_loss += batch_loss.item()\n",
        "\n",
        "        #將結果 print 出來\n",
        "        print('[%03d/%03d] %2.2f sec(s) Train Acc: %3.6f Loss: %3.6f | Val Acc: %3.6f loss: %3.6f' % \\\n",
        "            (epoch + 1, num_epoch, time.time()-epoch_start_time, \\\n",
        "             train_acc/train_set.__len__(), train_loss/train_set.__len__(), val_acc/val_set.__len__(), val_loss/val_set.__len__()))"
      ],
      "execution_count": 8,
      "outputs": [
        {
          "output_type": "stream",
          "text": [
            "[001/030] 23.13 sec(s) Train Acc: 0.225421 Loss: 0.018257 | Val Acc: 0.240816 loss: 0.016448\n",
            "[002/030] 23.01 sec(s) Train Acc: 0.349382 Loss: 0.014556 | Val Acc: 0.309038 loss: 0.016809\n",
            "[003/030] 23.17 sec(s) Train Acc: 0.402797 Loss: 0.013473 | Val Acc: 0.388630 loss: 0.014045\n",
            "[004/030] 23.21 sec(s) Train Acc: 0.446179 Loss: 0.012543 | Val Acc: 0.377843 loss: 0.014568\n",
            "[005/030] 23.29 sec(s) Train Acc: 0.478512 Loss: 0.011766 | Val Acc: 0.452478 loss: 0.012309\n",
            "[006/030] 23.44 sec(s) Train Acc: 0.504764 Loss: 0.011283 | Val Acc: 0.435277 loss: 0.013578\n",
            "[007/030] 23.49 sec(s) Train Acc: 0.535678 Loss: 0.010587 | Val Acc: 0.386880 loss: 0.017584\n",
            "[008/030] 23.55 sec(s) Train Acc: 0.543077 Loss: 0.010257 | Val Acc: 0.406706 loss: 0.015074\n",
            "[009/030] 23.60 sec(s) Train Acc: 0.571052 Loss: 0.009645 | Val Acc: 0.526822 loss: 0.011685\n",
            "[010/030] 23.61 sec(s) Train Acc: 0.598622 Loss: 0.009036 | Val Acc: 0.367055 loss: 0.018074\n",
            "[011/030] 23.64 sec(s) Train Acc: 0.611494 Loss: 0.008910 | Val Acc: 0.540816 loss: 0.010676\n",
            "[012/030] 23.70 sec(s) Train Acc: 0.629130 Loss: 0.008352 | Val Acc: 0.556851 loss: 0.011017\n",
            "[013/030] 23.71 sec(s) Train Acc: 0.646159 Loss: 0.008002 | Val Acc: 0.559184 loss: 0.010592\n",
            "[014/030] 23.76 sec(s) Train Acc: 0.685283 Loss: 0.007246 | Val Acc: 0.629446 loss: 0.008934\n",
            "[015/030] 23.82 sec(s) Train Acc: 0.690857 Loss: 0.007037 | Val Acc: 0.603499 loss: 0.009754\n",
            "[016/030] 23.80 sec(s) Train Acc: 0.700892 Loss: 0.006844 | Val Acc: 0.493586 loss: 0.014495\n",
            "[017/030] 23.81 sec(s) Train Acc: 0.715893 Loss: 0.006380 | Val Acc: 0.626239 loss: 0.009710\n",
            "[018/030] 23.80 sec(s) Train Acc: 0.730083 Loss: 0.006072 | Val Acc: 0.606122 loss: 0.010490\n",
            "[019/030] 23.90 sec(s) Train Acc: 0.739509 Loss: 0.005846 | Val Acc: 0.609329 loss: 0.009967\n",
            "[020/030] 23.86 sec(s) Train Acc: 0.760288 Loss: 0.005440 | Val Acc: 0.647522 loss: 0.009406\n",
            "[021/030] 23.83 sec(s) Train Acc: 0.767484 Loss: 0.005208 | Val Acc: 0.585131 loss: 0.011660\n",
            "[022/030] 23.83 sec(s) Train Acc: 0.780965 Loss: 0.004914 | Val Acc: 0.645481 loss: 0.009713\n",
            "[023/030] 23.84 sec(s) Train Acc: 0.796878 Loss: 0.004712 | Val Acc: 0.502332 loss: 0.015806\n",
            "[024/030] 23.87 sec(s) Train Acc: 0.782891 Loss: 0.004901 | Val Acc: 0.629155 loss: 0.010278\n",
            "[025/030] 23.79 sec(s) Train Acc: 0.810562 Loss: 0.004286 | Val Acc: 0.667930 loss: 0.009372\n",
            "[026/030] 23.83 sec(s) Train Acc: 0.823535 Loss: 0.003929 | Val Acc: 0.628863 loss: 0.010854\n",
            "[027/030] 24.05 sec(s) Train Acc: 0.834381 Loss: 0.003667 | Val Acc: 0.608746 loss: 0.011470\n",
            "[028/030] 23.95 sec(s) Train Acc: 0.829414 Loss: 0.003862 | Val Acc: 0.682216 loss: 0.008938\n",
            "[029/030] 23.96 sec(s) Train Acc: 0.855463 Loss: 0.003290 | Val Acc: 0.686297 loss: 0.009879\n",
            "[030/030] 24.00 sec(s) Train Acc: 0.847861 Loss: 0.003516 | Val Acc: 0.653353 loss: 0.011111\n"
          ],
          "name": "stdout"
        }
      ]
    },
    {
      "cell_type": "markdown",
      "metadata": {
        "id": "2-ssSxXlsI_T"
      },
      "source": [
        "得到好的參數後，我們使用 training set 和 validation set 共同訓練（資料量變多，模型效果較好）"
      ]
    },
    {
      "cell_type": "code",
      "metadata": {
        "id": "RKoUxLun8lFG"
      },
      "source": [
        "train_val_x = np.concatenate((train_x, val_x), axis=0)\n",
        "train_val_y = np.concatenate((train_y, val_y), axis=0)\n",
        "train_val_set = ImgDataset(train_val_x, train_val_y, train_transform)\n",
        "train_val_loader = DataLoader(train_val_set, batch_size=batch_size, shuffle=True)"
      ],
      "execution_count": 9,
      "outputs": []
    },
    {
      "cell_type": "code",
      "metadata": {
        "id": "OoAS5TtRsfOo",
        "outputId": "1d80e8a1-e0a4-41d1-885b-69ecf70b8bff",
        "colab": {
          "base_uri": "https://localhost:8080/",
          "height": 527
        }
      },
      "source": [
        "model_best = Classifier().cuda()\n",
        "loss = nn.CrossEntropyLoss() # 因為是 classification task，所以 loss 使用 CrossEntropyLoss\n",
        "optimizer = torch.optim.Adam(model_best.parameters(), lr=0.001) # optimizer 使用 Adam\n",
        "num_epoch = 30\n",
        "\n",
        "for epoch in range(num_epoch):\n",
        "    epoch_start_time = time.time()\n",
        "    train_acc = 0.0\n",
        "    train_loss = 0.0\n",
        "\n",
        "    model_best.train()\n",
        "    for i, data in enumerate(train_val_loader):\n",
        "        optimizer.zero_grad()\n",
        "        train_pred = model_best(data[0].cuda())\n",
        "        batch_loss = loss(train_pred, data[1].cuda())\n",
        "        batch_loss.backward()\n",
        "        optimizer.step()\n",
        "\n",
        "        train_acc += np.sum(np.argmax(train_pred.cpu().data.numpy(), axis=1) == data[1].numpy())\n",
        "        train_loss += batch_loss.item()\n",
        "\n",
        "        #將結果 print 出來\n",
        "    print('[%03d/%03d] %2.2f sec(s) Train Acc: %3.6f Loss: %3.6f' % \\\n",
        "      (epoch + 1, num_epoch, time.time()-epoch_start_time, \\\n",
        "      train_acc/train_val_set.__len__(), train_loss/train_val_set.__len__()))"
      ],
      "execution_count": 10,
      "outputs": [
        {
          "output_type": "stream",
          "text": [
            "[001/030] 28.83 sec(s) Train Acc: 0.224504 Loss: 0.017823\n",
            "[002/030] 28.83 sec(s) Train Acc: 0.345066 Loss: 0.014520\n",
            "[003/030] 28.70 sec(s) Train Acc: 0.421104 Loss: 0.012954\n",
            "[004/030] 28.87 sec(s) Train Acc: 0.483002 Loss: 0.011671\n",
            "[005/030] 28.78 sec(s) Train Acc: 0.525045 Loss: 0.010688\n",
            "[006/030] 28.73 sec(s) Train Acc: 0.562425 Loss: 0.009767\n",
            "[007/030] 28.70 sec(s) Train Acc: 0.594239 Loss: 0.009179\n",
            "[008/030] 28.69 sec(s) Train Acc: 0.622819 Loss: 0.008439\n",
            "[009/030] 28.71 sec(s) Train Acc: 0.653129 Loss: 0.007920\n",
            "[010/030] 28.73 sec(s) Train Acc: 0.672608 Loss: 0.007457\n",
            "[011/030] 28.71 sec(s) Train Acc: 0.690659 Loss: 0.006987\n",
            "[012/030] 28.70 sec(s) Train Acc: 0.710665 Loss: 0.006506\n",
            "[013/030] 28.70 sec(s) Train Acc: 0.726384 Loss: 0.006108\n",
            "[014/030] 28.70 sec(s) Train Acc: 0.742253 Loss: 0.005842\n",
            "[015/030] 28.67 sec(s) Train Acc: 0.753159 Loss: 0.005525\n",
            "[016/030] 28.67 sec(s) Train Acc: 0.766095 Loss: 0.005224\n",
            "[017/030] 28.58 sec(s) Train Acc: 0.782942 Loss: 0.004918\n",
            "[018/030] 28.65 sec(s) Train Acc: 0.799338 Loss: 0.004485\n",
            "[019/030] 28.68 sec(s) Train Acc: 0.806258 Loss: 0.004397\n",
            "[020/030] 28.70 sec(s) Train Acc: 0.820999 Loss: 0.003978\n",
            "[021/030] 28.67 sec(s) Train Acc: 0.827993 Loss: 0.003778\n",
            "[022/030] 28.73 sec(s) Train Acc: 0.836492 Loss: 0.003672\n",
            "[023/030] 28.63 sec(s) Train Acc: 0.855520 Loss: 0.003220\n",
            "[024/030] 28.64 sec(s) Train Acc: 0.865072 Loss: 0.003035\n",
            "[025/030] 28.64 sec(s) Train Acc: 0.873721 Loss: 0.002789\n",
            "[026/030] 28.61 sec(s) Train Acc: 0.877632 Loss: 0.002693\n",
            "[027/030] 28.65 sec(s) Train Acc: 0.884025 Loss: 0.002521\n",
            "[028/030] 28.61 sec(s) Train Acc: 0.895984 Loss: 0.002304\n",
            "[029/030] 28.62 sec(s) Train Acc: 0.904332 Loss: 0.002121\n",
            "[030/030] 28.61 sec(s) Train Acc: 0.904859 Loss: 0.002067\n"
          ],
          "name": "stdout"
        }
      ]
    },
    {
      "cell_type": "markdown",
      "metadata": {
        "id": "2o1oCMXy61_3"
      },
      "source": [
        "# Testing\n",
        "利用剛剛 train 好的 model 進行 prediction"
      ]
    },
    {
      "cell_type": "code",
      "metadata": {
        "id": "iAR6sn8U661G"
      },
      "source": [
        "test_set = ImgDataset(test_x, transform=test_transform)\n",
        "test_loader = DataLoader(test_set, batch_size=batch_size, shuffle=False)"
      ],
      "execution_count": 11,
      "outputs": []
    },
    {
      "cell_type": "code",
      "metadata": {
        "id": "4HznI9_-ocrq"
      },
      "source": [
        "model_best.eval()\n",
        "prediction = []\n",
        "with torch.no_grad():\n",
        "    for i, data in enumerate(test_loader):\n",
        "        test_pred = model_best(data.cuda())\n",
        "        test_label = np.argmax(test_pred.cpu().data.numpy(), axis=1)\n",
        "        for y in test_label:\n",
        "            prediction.append(y)"
      ],
      "execution_count": 12,
      "outputs": []
    },
    {
      "cell_type": "code",
      "metadata": {
        "id": "3t2q2Th85ZUE"
      },
      "source": [
        "#將結果寫入 csv 檔\n",
        "with open(\"predict.csv\", 'w') as f:\n",
        "    f.write('Id,Category\\n')\n",
        "    for i, y in  enumerate(prediction):\n",
        "        f.write('{},{}\\n'.format(i, y))"
      ],
      "execution_count": 13,
      "outputs": []
    },
    {
      "cell_type": "code",
      "metadata": {
        "id": "LN5isHzKKs2I",
        "outputId": "6e400044-e0be-476b-ad5e-9c39b9406adf",
        "colab": {
          "base_uri": "https://localhost:8080/",
          "height": 34
        }
      },
      "source": [
        "prediction[:10]"
      ],
      "execution_count": 16,
      "outputs": [
        {
          "output_type": "execute_result",
          "data": {
            "text/plain": [
              "[2, 10, 8, 9, 5, 3, 5, 10, 2, 2]"
            ]
          },
          "metadata": {
            "tags": []
          },
          "execution_count": 16
        }
      ]
    },
    {
      "cell_type": "code",
      "metadata": {
        "id": "8nY6hFBSKx2c"
      },
      "source": [
        ""
      ],
      "execution_count": null,
      "outputs": []
    }
  ]
}
