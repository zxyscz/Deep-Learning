{
  "nbformat": 4,
  "nbformat_minor": 0,
  "metadata": {
    "colab": {
      "name": "PyTorchCookBook.ipynb",
      "provenance": [],
      "machine_shape": "hm",
      "authorship_tag": "ABX9TyOKQQBzeS92cbvQqgjbPf/x",
      "include_colab_link": true
    },
    "kernelspec": {
      "name": "python3",
      "display_name": "Python 3"
    },
    "accelerator": "GPU"
  },
  "cells": [
    {
      "cell_type": "markdown",
      "metadata": {
        "id": "view-in-github",
        "colab_type": "text"
      },
      "source": [
        "<a href=\"https://colab.research.google.com/github/linghduoduo/Deep-Learning/blob/master/PyTorchCookBook.ipynb\" target=\"_parent\"><img src=\"https://colab.research.google.com/assets/colab-badge.svg\" alt=\"Open In Colab\"/></a>"
      ]
    },
    {
      "cell_type": "code",
      "metadata": {
        "id": "Bvp3_28dNAtZ"
      },
      "source": [
        "import collections\n",
        "import os\n",
        "import shutil\n",
        "import tqdm"
      ],
      "execution_count": 1,
      "outputs": []
    },
    {
      "cell_type": "code",
      "metadata": {
        "id": "qUbOR6muNKxr"
      },
      "source": [
        "import numpy as np\n",
        "import PIL.Image\n",
        "import torch\n",
        "import torchvision"
      ],
      "execution_count": 2,
      "outputs": []
    },
    {
      "cell_type": "code",
      "metadata": {
        "colab": {
          "base_uri": "https://localhost:8080/",
          "height": 35
        },
        "id": "OLGPJXRTNVKw",
        "outputId": "f8e95489-781f-480e-f513-8c615a5733fa"
      },
      "source": [
        "torch.__version__\n",
        "torch.version.cuda\n",
        "torch.backends.cudnn.version()\n",
        "torch.cuda.get_device_name(0)"
      ],
      "execution_count": 3,
      "outputs": [
        {
          "output_type": "execute_result",
          "data": {
            "application/vnd.google.colaboratory.intrinsic+json": {
              "type": "string"
            },
            "text/plain": [
              "'Tesla P100-PCIE-16GB'"
            ]
          },
          "metadata": {
            "tags": []
          },
          "execution_count": 3
        }
      ]
    },
    {
      "cell_type": "markdown",
      "metadata": {
        "id": "laFCG4XKN5pO"
      },
      "source": [
        "固定随机种子"
      ]
    },
    {
      "cell_type": "code",
      "metadata": {
        "id": "SGtkaWXBNg7b"
      },
      "source": [
        "torch.manual_seed(0)\n",
        "torch.cuda.manual_seed_all(0)"
      ],
      "execution_count": 5,
      "outputs": []
    },
    {
      "cell_type": "markdown",
      "metadata": {
        "id": "iTFckrh2OFTP"
      },
      "source": [
        "指定程序运行在特定 GPU 卡上 在命令行指定环境变量"
      ]
    },
    {
      "cell_type": "markdown",
      "metadata": {
        "id": "gNygdyL7N3h7"
      },
      "source": [
        "CUDA_VISIBLE_DEVICES=0,1 python train.py"
      ]
    },
    {
      "cell_type": "markdown",
      "metadata": {
        "id": "0UxNSclvOfnX"
      },
      "source": [
        "指定程序运行在特定  在代码中指定"
      ]
    },
    {
      "cell_type": "markdown",
      "metadata": {
        "id": "Olefp2WIOXWv"
      },
      "source": [
        "os.environ['CUDA_VISIBLE_DEVICES'] = '0,1'"
      ]
    },
    {
      "cell_type": "markdown",
      "metadata": {
        "id": "CiTVWpSJOdO6"
      },
      "source": [
        ""
      ]
    }
  ]
}