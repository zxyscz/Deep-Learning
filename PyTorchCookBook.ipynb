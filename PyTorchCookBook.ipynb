{
  "nbformat": 4,
  "nbformat_minor": 0,
  "metadata": {
    "colab": {
      "name": "PyTorchCookBook.ipynb",
      "provenance": [],
      "machine_shape": "hm",
      "authorship_tag": "ABX9TyPMsB8wwSzvqUx9+yOXcHgS",
      "include_colab_link": true
    },
    "kernelspec": {
      "name": "python3",
      "display_name": "Python 3"
    },
    "accelerator": "GPU"
  },
  "cells": [
    {
      "cell_type": "markdown",
      "metadata": {
        "id": "view-in-github",
        "colab_type": "text"
      },
      "source": [
        "<a href=\"https://colab.research.google.com/github/linghduoduo/Deep-Learning/blob/master/PyTorchCookBook.ipynb\" target=\"_parent\"><img src=\"https://colab.research.google.com/assets/colab-badge.svg\" alt=\"Open In Colab\"/></a>"
      ]
    },
    {
      "cell_type": "code",
      "metadata": {
        "id": "Bvp3_28dNAtZ"
      },
      "source": [
        "import collections\n",
        "import os\n",
        "import shutil\n",
        "import tqdm"
      ],
      "execution_count": 1,
      "outputs": []
    },
    {
      "cell_type": "code",
      "metadata": {
        "id": "qUbOR6muNKxr"
      },
      "source": [
        "import numpy as np\n",
        "import PIL.Image\n",
        "import torch\n",
        "import torchvision"
      ],
      "execution_count": 2,
      "outputs": []
    },
    {
      "cell_type": "code",
      "metadata": {
        "colab": {
          "base_uri": "https://localhost:8080/",
          "height": 35
        },
        "id": "OLGPJXRTNVKw",
        "outputId": "f8e95489-781f-480e-f513-8c615a5733fa"
      },
      "source": [
        "torch.__version__\n",
        "torch.version.cuda\n",
        "torch.backends.cudnn.version()\n",
        "torch.cuda.get_device_name(0)"
      ],
      "execution_count": 3,
      "outputs": [
        {
          "output_type": "execute_result",
          "data": {
            "application/vnd.google.colaboratory.intrinsic+json": {
              "type": "string"
            },
            "text/plain": [
              "'Tesla P100-PCIE-16GB'"
            ]
          },
          "metadata": {
            "tags": []
          },
          "execution_count": 3
        }
      ]
    },
    {
      "cell_type": "markdown",
      "metadata": {
        "id": "laFCG4XKN5pO"
      },
      "source": [
        "固定随机种子"
      ]
    },
    {
      "cell_type": "code",
      "metadata": {
        "id": "SGtkaWXBNg7b"
      },
      "source": [
        "torch.manual_seed(0)\n",
        "torch.cuda.manual_seed_all(0)"
      ],
      "execution_count": 5,
      "outputs": []
    },
    {
      "cell_type": "markdown",
      "metadata": {
        "id": "iTFckrh2OFTP"
      },
      "source": [
        "指定程序运行在特定 GPU 卡上 在命令行指定环境变量"
      ]
    },
    {
      "cell_type": "markdown",
      "metadata": {
        "id": "gNygdyL7N3h7"
      },
      "source": [
        "CUDA_VISIBLE_DEVICES=0,1 python train.py"
      ]
    },
    {
      "cell_type": "markdown",
      "metadata": {
        "id": "0UxNSclvOfnX"
      },
      "source": [
        "指定程序运行在特定  在代码中指定"
      ]
    },
    {
      "cell_type": "markdown",
      "metadata": {
        "id": "Olefp2WIOXWv"
      },
      "source": [
        "os.environ['CUDA_VISIBLE_DEVICES'] = '0,1'"
      ]
    },
    {
      "cell_type": "markdown",
      "metadata": {
        "id": "CiTVWpSJOdO6"
      },
      "source": [
        "判断是否有 CUDA 支持"
      ]
    },
    {
      "cell_type": "code",
      "metadata": {
        "colab": {
          "base_uri": "https://localhost:8080/"
        },
        "id": "RW8behUfO3o-",
        "outputId": "757e7b8c-0d98-46f2-c02d-9650be701ed6"
      },
      "source": [
        "torch.cuda.is_available()"
      ],
      "execution_count": 6,
      "outputs": [
        {
          "output_type": "execute_result",
          "data": {
            "text/plain": [
              "True"
            ]
          },
          "metadata": {
            "tags": []
          },
          "execution_count": 6
        }
      ]
    },
    {
      "cell_type": "markdown",
      "metadata": {
        "id": "mz8N7DxXO9fe"
      },
      "source": [
        "设置为 cuDNN benchmark 模式.  Benchmark 模式会提升计算速度，但是由于计算中有随机性，每次网络前馈结果略有差异。"
      ]
    },
    {
      "cell_type": "code",
      "metadata": {
        "id": "b8X3EU78PEOo"
      },
      "source": [
        "torch.backends.cudnn.benchmark = True"
      ],
      "execution_count": 8,
      "outputs": []
    },
    {
      "cell_type": "markdown",
      "metadata": {
        "id": "mgw5AUJDPMtW"
      },
      "source": [
        "如果想要避免这种结果波动，设置"
      ]
    },
    {
      "cell_type": "code",
      "metadata": {
        "id": "_Xa4kvtsPO_w"
      },
      "source": [
        "torch.backends.cudnn.deterministic = True"
      ],
      "execution_count": 11,
      "outputs": []
    },
    {
      "cell_type": "markdown",
      "metadata": {
        "id": "OD6H6T0sPI0I"
      },
      "source": [
        "清除 GPU 存储 - 有时 Control-C 中止运行后 GPU 存储没有及时释放，需要手动清空。在 PyTorch 内部可以"
      ]
    },
    {
      "cell_type": "code",
      "metadata": {
        "id": "3D6SH-kqPkeP"
      },
      "source": [
        "torch.cuda.empty_cache()"
      ],
      "execution_count": 12,
      "outputs": []
    },
    {
      "cell_type": "markdown",
      "metadata": {
        "id": "M685I0McPs5i"
      },
      "source": [
        "或在命令行可以先使用 ps 找到程序的 PID，再使用 kill 结束该进程\n",
        "\n",
        "ps aux | grep pythonkill -9 [pid]\n",
        "\n",
        "或者直接重置没有被清空的 GPU\n",
        "\n",
        "nvidia-smi --gpu-reset -i [gpu_id]"
      ]
    },
    {
      "cell_type": "markdown",
      "metadata": {
        "id": "dXtj4So-RXD7"
      },
      "source": [
        "张量基本信息"
      ]
    },
    {
      "cell_type": "code",
      "metadata": {
        "colab": {
          "base_uri": "https://localhost:8080/",
          "height": 35
        },
        "id": "Uv-0LIUlPgUd",
        "outputId": "65c3c4d3-5653-4518-f946-974363a8ee8a"
      },
      "source": [
        "a = torch.tensor([1,2,3,4,5])\n",
        "a.type()   # Data type"
      ],
      "execution_count": 18,
      "outputs": [
        {
          "output_type": "execute_result",
          "data": {
            "application/vnd.google.colaboratory.intrinsic+json": {
              "type": "string"
            },
            "text/plain": [
              "'torch.LongTensor'"
            ]
          },
          "metadata": {
            "tags": []
          },
          "execution_count": 18
        }
      ]
    },
    {
      "cell_type": "markdown",
      "metadata": {
        "id": "WPtUsqnDRWMv"
      },
      "source": [
        ""
      ]
    },
    {
      "cell_type": "code",
      "metadata": {
        "colab": {
          "base_uri": "https://localhost:8080/"
        },
        "id": "0KKI1MJjQehx",
        "outputId": "c0de26d7-c17c-481a-d06c-9ff4e9f3c83d"
      },
      "source": [
        "a.size()   # Shape of the tensor. It is a subclass of Python tuple"
      ],
      "execution_count": 19,
      "outputs": [
        {
          "output_type": "execute_result",
          "data": {
            "text/plain": [
              "torch.Size([5])"
            ]
          },
          "metadata": {
            "tags": []
          },
          "execution_count": 19
        }
      ]
    },
    {
      "cell_type": "code",
      "metadata": {
        "colab": {
          "base_uri": "https://localhost:8080/"
        },
        "id": "kwzYstS-RL6m",
        "outputId": "5508c5e7-91e8-4cec-c34c-0f97656aed95"
      },
      "source": [
        "a.dim()    # Number of dimensions."
      ],
      "execution_count": 20,
      "outputs": [
        {
          "output_type": "execute_result",
          "data": {
            "text/plain": [
              "1"
            ]
          },
          "metadata": {
            "tags": []
          },
          "execution_count": 20
        }
      ]
    },
    {
      "cell_type": "markdown",
      "metadata": {
        "id": "JFUXItuRRddy"
      },
      "source": [
        "数据类型转换"
      ]
    },
    {
      "cell_type": "code",
      "metadata": {
        "id": "I5stvtMTReI4"
      },
      "source": [
        "# Set default tensor type. Float in PyTorch is much faster than double.\n",
        "torch.set_default_tensor_type(torch.FloatTensor)\n",
        "\n",
        "tensor = torch.rand(10)\n",
        "\n",
        "# Type convertions.\n",
        "tensor = tensor.cuda()\n",
        "tensor = tensor.cpu()\n",
        "tensor = tensor.float()\n",
        "tensor = tensor.long()\n"
      ],
      "execution_count": 23,
      "outputs": []
    },
    {
      "cell_type": "markdown",
      "metadata": {
        "id": "VMEq-KSaSrNJ"
      },
      "source": [
        "torch.Tensor 与 np.ndarray 转换"
      ]
    },
    {
      "cell_type": "code",
      "metadata": {
        "id": "6P2pZt1PRhe6"
      },
      "source": [
        "# torch.Tensor -> np.ndarray.\n",
        "ndarray = tensor.cpu().numpy()\n",
        "\n",
        "# np.ndarray -> torch.Tensor.\n",
        "tensor = torch.from_numpy(ndarray).float()\n",
        "tensor = torch.from_numpy(ndarray.copy()).float()  # If ndarray has negative stride"
      ],
      "execution_count": 26,
      "outputs": []
    },
    {
      "cell_type": "code",
      "metadata": {
        "id": "zAO4gNmESdPL"
      },
      "source": [
        ""
      ],
      "execution_count": 25,
      "outputs": []
    },
    {
      "cell_type": "code",
      "metadata": {
        "id": "ttiABY7uSevX"
      },
      "source": [
        ""
      ],
      "execution_count": null,
      "outputs": []
    }
  ]
}