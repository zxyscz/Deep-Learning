{
  "nbformat": 4,
  "nbformat_minor": 0,
  "metadata": {
    "kernelspec": {
      "display_name": "Python 3",
      "language": "python",
      "name": "python3"
    },
    "language_info": {
      "codemirror_mode": {
        "name": "ipython",
        "version": 3
      },
      "file_extension": ".py",
      "mimetype": "text/x-python",
      "name": "python",
      "nbconvert_exporter": "python",
      "pygments_lexer": "ipython3",
      "version": "3.7.4"
    },
    "colab": {
      "name": "Deep-Learning-Chap-10.ipynb",
      "provenance": [],
      "include_colab_link": true
    }
  },
  "cells": [
    {
      "cell_type": "markdown",
      "metadata": {
        "id": "view-in-github",
        "colab_type": "text"
      },
      "source": [
        "<a href=\"https://colab.research.google.com/github/linghduoduo/Deep-Learning/blob/master/Deep_Learning_Chap_10.ipynb\" target=\"_parent\"><img src=\"https://colab.research.google.com/assets/colab-badge.svg\" alt=\"Open In Colab\"/></a>"
      ]
    },
    {
      "cell_type": "code",
      "metadata": {
        "id": "TpgR71tvjZpo"
      },
      "source": [
        "# Python ≥3.5 is required\n",
        "import sys\n",
        "assert sys.version_info >= (3, 5)\n",
        "\n",
        "# Scikit-Learn ≥0.20 is required\n",
        "import sklearn\n",
        "assert sklearn.__version__ >= \"0.20\"\n",
        "\n",
        "try:\n",
        "    # %tensorflow_version only exists in Colab.\n",
        "    %tensorflow_version 2.x\n",
        "except Exception:\n",
        "    pass\n",
        "\n",
        "# TensorFlow ≥2.0 is required\n",
        "import tensorflow as tf\n",
        "assert tf.__version__ >= \"2.0\"\n",
        "\n",
        "# Common imports\n",
        "import numpy as np\n",
        "import os\n",
        "\n",
        "# to make this notebook's output stable across runs\n",
        "np.random.seed(42)\n",
        "\n",
        "# To plot pretty figures\n",
        "%matplotlib inline\n",
        "import matplotlib as mpl\n",
        "import matplotlib.pyplot as plt\n",
        "mpl.rc('axes', labelsize=14)\n",
        "mpl.rc('xtick', labelsize=12)\n",
        "mpl.rc('ytick', labelsize=12)\n",
        "\n",
        "# Where to save the figures\n",
        "PROJECT_ROOT_DIR = \".\"\n",
        "CHAPTER_ID = \"ann\"\n",
        "IMAGES_PATH = os.path.join(PROJECT_ROOT_DIR, \"images\", CHAPTER_ID)\n",
        "os.makedirs(IMAGES_PATH, exist_ok=True)"
      ],
      "execution_count": 1,
      "outputs": []
    },
    {
      "cell_type": "code",
      "metadata": {
        "id": "H8rshGMCjaT8"
      },
      "source": [
        "def save_fig(fig_id, tight_layout=True, fig_extension=\"png\", resolution=300):\n",
        "    path = os.path.join(IMAGES_PATH, fig_id + \".\" + fig_extension)\n",
        "    print(\"Saving figure\", fig_id)\n",
        "    if tight_layout:\n",
        "        plt.tight_layout()\n",
        "    plt.savefig(path, format=fig_extension, dpi=resolution)\n",
        "\n",
        "# Ignore useless warnings (see SciPy issue #5998)\n",
        "import warnings\n",
        "warnings.filterwarnings(action=\"ignore\", message=\"^internal gelsd\")"
      ],
      "execution_count": 2,
      "outputs": []
    },
    {
      "cell_type": "markdown",
      "metadata": {
        "id": "5w-ucM2QjdKW"
      },
      "source": [
        "### The Perceptron"
      ]
    },
    {
      "cell_type": "code",
      "metadata": {
        "collapsed": true,
        "id": "WHmZQ8mDivD_"
      },
      "source": [
        "import numpy as np\n",
        "import numpy.random as rnd\n",
        "import os\n",
        "import matplotlib\n",
        "import matplotlib.pyplot as plt"
      ],
      "execution_count": 3,
      "outputs": []
    },
    {
      "cell_type": "code",
      "metadata": {
        "collapsed": true,
        "id": "MexKo853ivD_"
      },
      "source": [
        "from sklearn.datasets import load_iris\n",
        "iris = load_iris()\n",
        "X = iris.data[:,(2,3)]\n",
        "y = (iris.target == 0).astype(np.int)"
      ],
      "execution_count": 4,
      "outputs": []
    },
    {
      "cell_type": "code",
      "metadata": {
        "colab": {
          "base_uri": "https://localhost:8080/"
        },
        "id": "0d8hfJIuivEA",
        "outputId": "adb8825c-7d3e-47bb-8259-2048e980978d"
      },
      "source": [
        "from sklearn.linear_model import Perceptron\n",
        "\n",
        "per_clf = Perceptron(random_state=42)\n",
        "per_clf.fit(X, y)\n",
        "y_pred = per_clf.predict([[2, 0.5]])\n",
        "y_pred"
      ],
      "execution_count": 5,
      "outputs": [
        {
          "output_type": "execute_result",
          "data": {
            "text/plain": [
              "array([1])"
            ]
          },
          "metadata": {
            "tags": []
          },
          "execution_count": 5
        }
      ]
    },
    {
      "cell_type": "code",
      "metadata": {
        "colab": {
          "base_uri": "https://localhost:8080/",
          "height": 308
        },
        "id": "WnL6Q6WIivEB",
        "outputId": "81fcc537-fecb-405e-c444-8486630d311d"
      },
      "source": [
        "a = -per_clf.coef_[0][0] / per_clf.coef_[0][1]\n",
        "b = -per_clf.intercept_ / per_clf.coef_[0][1]\n",
        "\n",
        "axes = [0, 5, 0, 2]\n",
        "\n",
        "x0, x1 = np.meshgrid(\n",
        "        np.linspace(axes[0], axes[1], 500).reshape(-1, 1),\n",
        "        np.linspace(axes[2], axes[3], 200).reshape(-1, 1),\n",
        "    )\n",
        "X_new = np.c_[x0.ravel(), x1.ravel()]\n",
        "y_predict = per_clf.predict(X_new)\n",
        "zz = y_predict.reshape(x0.shape)\n",
        "\n",
        "plt.figure(figsize=(10, 4))\n",
        "plt.plot(X[y==0, 0], X[y==0, 1], \"bs\", label=\"Not Iris-Setosa\")\n",
        "plt.plot(X[y==1, 0], X[y==1, 1], \"yo\", label=\"Iris-Setosa\")\n",
        "\n",
        "plt.plot([axes[0], axes[1]], [a * axes[0] + b, a * axes[1] + b], \"k-\", linewidth=3)\n",
        "from matplotlib.colors import ListedColormap\n",
        "custom_cmap = ListedColormap(['#9898ff', '#fafab0'])\n",
        "\n",
        "plt.contourf(x0, x1, zz, cmap=custom_cmap, linewidth=5)\n",
        "plt.xlabel(\"Petal length\", fontsize=14)\n",
        "plt.ylabel(\"Petal width\", fontsize=14)\n",
        "plt.legend(loc=\"lower right\", fontsize=14)\n",
        "plt.axis(axes)\n",
        "plt.show()"
      ],
      "execution_count": 6,
      "outputs": [
        {
          "output_type": "stream",
          "text": [
            "/usr/local/lib/python3.6/dist-packages/ipykernel_launcher.py:22: UserWarning: The following kwargs were not used by contour: 'linewidth'\n"
          ],
          "name": "stderr"
        },
        {
          "output_type": "display_data",
          "data": {
            "image/png": "[encoded data removed]",
            "text/plain": [
              "<Figure size 720x288 with 1 Axes>"
            ]
          },
          "metadata": {
            "tags": [],
            "needs_background": "light"
          }
        }
      ]
    },
    {
      "cell_type": "markdown",
      "metadata": {
        "id": "6VUQxPOtivEB"
      },
      "source": [
        "## Activation functions"
      ]
    },
    {
      "cell_type": "code",
      "metadata": {
        "collapsed": true,
        "id": "K5QeunMhivEB"
      },
      "source": [
        "def logit(z):\n",
        "    return 1/(1+np.exp(-z))\n",
        "def relu(z):\n",
        "    return np.maximum(0,z)\n",
        "def derivative(f, z, eps=0.000001):\n",
        "    return (f(z + eps) - f(z - eps))/(2 * eps)\n",
        "def tanh(z):\n",
        "    return np.tanh(z)"
      ],
      "execution_count": 7,
      "outputs": []
    },
    {
      "cell_type": "code",
      "metadata": {
        "colab": {
          "base_uri": "https://localhost:8080/",
          "height": 285
        },
        "id": "3zwyCwitivEC",
        "outputId": "492f8363-e7e4-4e9a-e1a6-8a9b75c375c5"
      },
      "source": [
        "z = np.linspace(-5, 5, 200)\n",
        "\n",
        "plt.figure(figsize=(11,4))\n",
        "\n",
        "plt.subplot(121)\n",
        "plt.plot(z, np.sign(z), \"r-\", linewidth=2, label=\"Step\")\n",
        "plt.plot(z, logit(z), \"g--\", linewidth=2, label=\"Logit\")\n",
        "plt.plot(z, tanh(z), \"b-\", linewidth=2, label=\"Tanh\")\n",
        "plt.plot(z, relu(z), \"m-.\", linewidth=2, label=\"ReLU\")\n",
        "plt.grid(True)\n",
        "plt.legend(loc=\"center right\", fontsize=14)\n",
        "plt.title(\"Activation functions\", fontsize=14)\n",
        "plt.axis([-5, 5, -1.2, 1.2])\n",
        "\n",
        "plt.subplot(122)\n",
        "plt.plot(z, derivative(np.sign, z), \"r-\", linewidth=2, label=\"Step\")\n",
        "plt.plot(0, 0, \"ro\", markersize=5)\n",
        "plt.plot(0, 0, \"rx\", markersize=10)\n",
        "plt.plot(z, derivative(logit, z), \"g--\", linewidth=2, label=\"Logit\")\n",
        "plt.plot(z, derivative(np.tanh, z), \"b-\", linewidth=2, label=\"Tanh\")\n",
        "plt.plot(z, derivative(relu, z), \"m-.\", linewidth=2, label=\"ReLU\")\n",
        "plt.grid(True)\n",
        "#plt.legend(loc=\"center right\", fontsize=14)\n",
        "plt.title(\"Derivatives\", fontsize=14)\n",
        "plt.axis([-5, 5, -0.2, 1.2])\n",
        "\n",
        "plt.show()"
      ],
      "execution_count": 8,
      "outputs": [
        {
          "output_type": "display_data",
          "data": {
            "image/png": "[encoded data removed]",
            "text/plain": [
              "<Figure size 792x288 with 2 Axes>"
            ]
          },
          "metadata": {
            "tags": [],
            "needs_background": "light"
          }
        }
      ]
    },
    {
      "cell_type": "code",
      "metadata": {
        "collapsed": true,
        "id": "7tRH0k8JivEC"
      },
      "source": [
        "def heaviside(z):\n",
        "    return (z >= 0).astype(z.dtype)\n",
        "\n",
        "def sigmoid(z):\n",
        "    return 1/(1+np.exp(-z))\n",
        "\n",
        "def mlp_xor(x1, x2, activation=heaviside):\n",
        "    return activation(-activation(x1 + x2 - 1.5) + activation(x1 + x2 - 0.5) - 0.5)"
      ],
      "execution_count": 9,
      "outputs": []
    },
    {
      "cell_type": "code",
      "metadata": {
        "colab": {
          "base_uri": "https://localhost:8080/",
          "height": 273
        },
        "id": "jfliq7R1ivEC",
        "outputId": "702ae080-45ac-4e31-830e-a3b00182f0c5"
      },
      "source": [
        "x1s = np.linspace(-0.2, 1.2, 100)\n",
        "x2s = np.linspace(-0.2, 1.2, 100)\n",
        "x1, x2 = np.meshgrid(x1s, x2s)\n",
        "\n",
        "z1 = mlp_xor(x1, x2, activation=heaviside)\n",
        "z2 = mlp_xor(x1, x2, activation=sigmoid)\n",
        "\n",
        "plt.figure(figsize=(10,4))\n",
        "\n",
        "plt.subplot(121)\n",
        "plt.contourf(x1, x2, z1)\n",
        "plt.plot([0, 1], [0, 1], \"gs\", markersize=20)\n",
        "plt.plot([0, 1], [1, 0], \"y^\", markersize=20)\n",
        "plt.grid(True)\n",
        "\n",
        "plt.subplot(122)\n",
        "plt.contourf(x1, x2, z2)\n",
        "plt.plot([0, 1], [0, 1], \"gs\", markersize=20)\n",
        "plt.plot([0, 1], [1, 0], \"y^\", markersize=20)\n",
        "plt.grid(True)\n",
        "plt.show()"
      ],
      "execution_count": 10,
      "outputs": [
        {
          "output_type": "display_data",
          "data": {
            "image/png": "[encoded data removed]",
            "text/plain": [
              "<Figure size 720x288 with 2 Axes>"
            ]
          },
          "metadata": {
            "tags": [],
            "needs_background": "light"
          }
        }
      ]
    },
    {
      "cell_type": "markdown",
      "metadata": {
        "id": "iRbURlslivED"
      },
      "source": [
        "## FNN for MNIST"
      ]
    },
    {
      "cell_type": "code",
      "metadata": {
        "id": "avimNn5VkL1c"
      },
      "source": [
        "import tensorflow as tf\n",
        "from tensorflow import keras"
      ],
      "execution_count": 11,
      "outputs": []
    },
    {
      "cell_type": "code",
      "metadata": {
        "colab": {
          "base_uri": "https://localhost:8080/",
          "height": 35
        },
        "id": "0LywS0ZTkSbd",
        "outputId": "0ca925a9-2747-4b67-b4d1-f88663cd611b"
      },
      "source": [
        "tf.__version__"
      ],
      "execution_count": 12,
      "outputs": [
        {
          "output_type": "execute_result",
          "data": {
            "application/vnd.google.colaboratory.intrinsic+json": {
              "type": "string"
            },
            "text/plain": [
              "'2.4.0'"
            ]
          },
          "metadata": {
            "tags": []
          },
          "execution_count": 12
        }
      ]
    },
    {
      "cell_type": "code",
      "metadata": {
        "colab": {
          "base_uri": "https://localhost:8080/",
          "height": 35
        },
        "id": "zOV2Zt4akVkg",
        "outputId": "0fbfa20a-b645-4848-8a55-dbfc6e5d8878"
      },
      "source": [
        "keras.__version__"
      ],
      "execution_count": 13,
      "outputs": [
        {
          "output_type": "execute_result",
          "data": {
            "application/vnd.google.colaboratory.intrinsic+json": {
              "type": "string"
            },
            "text/plain": [
              "'2.4.0'"
            ]
          },
          "metadata": {
            "tags": []
          },
          "execution_count": 13
        }
      ]
    },
    {
      "cell_type": "code",
      "metadata": {
        "colab": {
          "base_uri": "https://localhost:8080/"
        },
        "id": "X1IlKSLIivED",
        "outputId": "01664eab-76e7-4c7d-b5d4-0187655fbfff"
      },
      "source": [
        "fashion_mnist = keras.datasets.fashion_mnist\n",
        "(X_train_full, y_train_full), (X_test, y_test) = fashion_mnist.load_data()"
      ],
      "execution_count": 14,
      "outputs": [
        {
          "output_type": "stream",
          "text": [
            "Downloading data from https://storage.googleapis.com/tensorflow/tf-keras-datasets/train-labels-idx1-ubyte.gz\n",
            "32768/29515 [=================================] - 0s 0us/step\n",
            "Downloading data from https://storage.googleapis.com/tensorflow/tf-keras-datasets/train-images-idx3-ubyte.gz\n",
            "26427392/26421880 [==============================] - 0s 0us/step\n",
            "Downloading data from https://storage.googleapis.com/tensorflow/tf-keras-datasets/t10k-labels-idx1-ubyte.gz\n",
            "8192/5148 [===============================================] - 0s 0us/step\n",
            "Downloading data from https://storage.googleapis.com/tensorflow/tf-keras-datasets/t10k-images-idx3-ubyte.gz\n",
            "4423680/4422102 [==============================] - 0s 0us/step\n"
          ],
          "name": "stdout"
        }
      ]
    },
    {
      "cell_type": "code",
      "metadata": {
        "collapsed": true,
        "colab": {
          "base_uri": "https://localhost:8080/"
        },
        "id": "b7iMtIC2ivED",
        "outputId": "e48bf4aa-3e96-4774-c292-814c34585ed0"
      },
      "source": [
        "X_train_full.shape"
      ],
      "execution_count": 15,
      "outputs": [
        {
          "output_type": "execute_result",
          "data": {
            "text/plain": [
              "(60000, 28, 28)"
            ]
          },
          "metadata": {
            "tags": []
          },
          "execution_count": 15
        }
      ]
    },
    {
      "cell_type": "markdown",
      "metadata": {
        "id": "4pqpCTmmivEE"
      },
      "source": [
        "## using tf.learn"
      ]
    },
    {
      "cell_type": "code",
      "metadata": {
        "id": "LuKhmQCTivEE",
        "outputId": "a62ff01a-f8eb-4ce1-e0f4-ebf3be72ed0d"
      },
      "source": [
        "import tensorflow as tf\n",
        "\n",
        "config = tf.contrib.learn.RunConfig(tf_random_seed=42) # not shown in the config\n",
        "\n",
        "feature_columns = tf.contrib.learn.infer_real_valued_columns_from_input(X_train)\n",
        "dnn_clf = tf.contrib.learn.DNNClassifier(hidden_units=[300, 100], n_classes=10,\n",
        "                                         feature_columns=feature_columns)\n",
        "dnn_clf.fit(x=X_train, y=y_train, batch_size=50, steps=40000)"
      ],
      "execution_count": null,
      "outputs": [
        {
          "output_type": "stream",
          "text": [
            "INFO:tensorflow:Using default config.\n",
            "WARNING:tensorflow:Using temporary folder as model directory: /var/folders/59/0pbnsns93t5cgn8b5n2kpxt00000gn/T/tmprwlwyxhh\n",
            "INFO:tensorflow:Using config: {'_task_type': None, '_task_id': 0, '_cluster_spec': <tensorflow.python.training.server_lib.ClusterSpec object at 0x1254952e8>, '_master': '', '_num_ps_replicas': 0, '_num_worker_replicas': 0, '_environment': 'local', '_is_chief': True, '_evaluation_master': '', '_tf_config': gpu_options {\n",
            "  per_process_gpu_memory_fraction: 1\n",
            "}\n",
            ", '_tf_random_seed': None, '_save_summary_steps': 100, '_save_checkpoints_secs': 600, '_session_config': None, '_save_checkpoints_steps': None, '_keep_checkpoint_max': 5, '_keep_checkpoint_every_n_hours': 10000, '_model_dir': '/var/folders/59/0pbnsns93t5cgn8b5n2kpxt00000gn/T/tmprwlwyxhh'}\n",
            "WARNING:tensorflow:From <ipython-input-12-9b17d769366a>:8: calling BaseEstimator.fit (from tensorflow.contrib.learn.python.learn.estimators.estimator) with x is deprecated and will be removed after 2016-12-01.\n",
            "Instructions for updating:\n",
            "Estimator is decoupled from Scikit Learn interface by moving into\n",
            "separate class SKCompat. Arguments x, y and batch_size are only\n",
            "available in the SKCompat class, Estimator will only accept input_fn.\n",
            "Example conversion:\n",
            "  est = Estimator(...) -> est = SKCompat(Estimator(...))\n",
            "WARNING:tensorflow:From <ipython-input-12-9b17d769366a>:8: calling BaseEstimator.fit (from tensorflow.contrib.learn.python.learn.estimators.estimator) with y is deprecated and will be removed after 2016-12-01.\n",
            "Instructions for updating:\n",
            "Estimator is decoupled from Scikit Learn interface by moving into\n",
            "separate class SKCompat. Arguments x, y and batch_size are only\n",
            "available in the SKCompat class, Estimator will only accept input_fn.\n",
            "Example conversion:\n",
            "  est = Estimator(...) -> est = SKCompat(Estimator(...))\n",
            "WARNING:tensorflow:From <ipython-input-12-9b17d769366a>:8: calling BaseEstimator.fit (from tensorflow.contrib.learn.python.learn.estimators.estimator) with batch_size is deprecated and will be removed after 2016-12-01.\n",
            "Instructions for updating:\n",
            "Estimator is decoupled from Scikit Learn interface by moving into\n",
            "separate class SKCompat. Arguments x, y and batch_size are only\n",
            "available in the SKCompat class, Estimator will only accept input_fn.\n",
            "Example conversion:\n",
            "  est = Estimator(...) -> est = SKCompat(Estimator(...))\n",
            "WARNING:tensorflow:From /Users/ling/anaconda3/envs/tensorflow/lib/python3.6/site-packages/tensorflow/contrib/learn/python/learn/estimators/head.py:625: scalar_summary (from tensorflow.python.ops.logging_ops) is deprecated and will be removed after 2016-11-30.\n",
            "Instructions for updating:\n",
            "Please switch to tf.summary.scalar. Note that tf.summary.scalar uses the node name instead of the tag. This means that TensorFlow will automatically de-duplicate summary names based on the scope they are created in. Also, passing a tensor or list of tags to a scalar summary op is no longer supported.\n",
            "INFO:tensorflow:Create CheckpointSaverHook.\n",
            "INFO:tensorflow:Saving checkpoints for 1 into /var/folders/59/0pbnsns93t5cgn8b5n2kpxt00000gn/T/tmprwlwyxhh/model.ckpt.\n",
            "INFO:tensorflow:loss = 2.44499, step = 1\n",
            "INFO:tensorflow:global_step/sec: 207.147\n",
            "INFO:tensorflow:loss = 0.28012, step = 101 (0.486 sec)\n",
            "INFO:tensorflow:global_step/sec: 197.054\n",
            "INFO:tensorflow:loss = 0.316411, step = 201 (0.506 sec)\n",
            "INFO:tensorflow:global_step/sec: 189.603\n",
            "INFO:tensorflow:loss = 0.422905, step = 301 (0.528 sec)\n",
            "INFO:tensorflow:global_step/sec: 256.072\n",
            "INFO:tensorflow:loss = 0.227109, step = 401 (0.389 sec)\n",
            "INFO:tensorflow:global_step/sec: 249.328\n",
            "INFO:tensorflow:loss = 0.252967, step = 501 (0.402 sec)\n",
            "INFO:tensorflow:global_step/sec: 201.524\n",
            "INFO:tensorflow:loss = 0.0780465, step = 601 (0.499 sec)\n",
            "INFO:tensorflow:global_step/sec: 191.557\n",
            "INFO:tensorflow:loss = 0.148957, step = 701 (0.520 sec)\n",
            "INFO:tensorflow:global_step/sec: 254.986\n",
            "INFO:tensorflow:loss = 0.221835, step = 801 (0.392 sec)\n",
            "INFO:tensorflow:global_step/sec: 196.823\n",
            "INFO:tensorflow:loss = 0.119124, step = 901 (0.508 sec)\n",
            "INFO:tensorflow:global_step/sec: 258.31\n",
            "INFO:tensorflow:loss = 0.185526, step = 1001 (0.388 sec)\n",
            "INFO:tensorflow:global_step/sec: 185.461\n",
            "INFO:tensorflow:loss = 0.156466, step = 1101 (0.539 sec)\n",
            "INFO:tensorflow:global_step/sec: 237.623\n",
            "INFO:tensorflow:loss = 0.141299, step = 1201 (0.420 sec)\n",
            "INFO:tensorflow:global_step/sec: 252.758\n",
            "INFO:tensorflow:loss = 0.173112, step = 1301 (0.396 sec)\n",
            "INFO:tensorflow:global_step/sec: 253.854\n",
            "INFO:tensorflow:loss = 0.0692157, step = 1401 (0.394 sec)\n",
            "INFO:tensorflow:global_step/sec: 259.695\n",
            "INFO:tensorflow:loss = 0.125697, step = 1501 (0.385 sec)\n",
            "INFO:tensorflow:global_step/sec: 213.829\n",
            "INFO:tensorflow:loss = 0.104796, step = 1601 (0.468 sec)\n",
            "INFO:tensorflow:global_step/sec: 272.297\n",
            "INFO:tensorflow:loss = 0.0383597, step = 1701 (0.367 sec)\n",
            "INFO:tensorflow:global_step/sec: 194.922\n",
            "INFO:tensorflow:loss = 0.143593, step = 1801 (0.514 sec)\n",
            "INFO:tensorflow:global_step/sec: 234.537\n",
            "INFO:tensorflow:loss = 0.0954851, step = 1901 (0.425 sec)\n",
            "INFO:tensorflow:global_step/sec: 216.562\n",
            "INFO:tensorflow:loss = 0.072883, step = 2001 (0.462 sec)\n",
            "INFO:tensorflow:global_step/sec: 272.916\n",
            "INFO:tensorflow:loss = 0.0261855, step = 2101 (0.367 sec)\n",
            "INFO:tensorflow:global_step/sec: 182.675\n",
            "INFO:tensorflow:loss = 0.02804, step = 2201 (0.548 sec)\n",
            "INFO:tensorflow:global_step/sec: 222.973\n",
            "INFO:tensorflow:loss = 0.0649194, step = 2301 (0.448 sec)\n",
            "INFO:tensorflow:global_step/sec: 259.326\n",
            "INFO:tensorflow:loss = 0.0523018, step = 2401 (0.386 sec)\n",
            "INFO:tensorflow:global_step/sec: 243.561\n",
            "INFO:tensorflow:loss = 0.0975277, step = 2501 (0.410 sec)\n",
            "INFO:tensorflow:global_step/sec: 217.232\n",
            "INFO:tensorflow:loss = 0.0748086, step = 2601 (0.462 sec)\n",
            "INFO:tensorflow:global_step/sec: 201.668\n",
            "INFO:tensorflow:loss = 0.016445, step = 2701 (0.496 sec)\n",
            "INFO:tensorflow:global_step/sec: 248.363\n",
            "INFO:tensorflow:loss = 0.0694675, step = 2801 (0.401 sec)\n",
            "INFO:tensorflow:global_step/sec: 254.262\n",
            "INFO:tensorflow:loss = 0.155172, step = 2901 (0.393 sec)\n",
            "INFO:tensorflow:global_step/sec: 256.041\n",
            "INFO:tensorflow:loss = 0.0332172, step = 3001 (0.393 sec)\n",
            "INFO:tensorflow:global_step/sec: 183.326\n",
            "INFO:tensorflow:loss = 0.0568411, step = 3101 (0.545 sec)\n",
            "INFO:tensorflow:global_step/sec: 245.523\n",
            "INFO:tensorflow:loss = 0.0115839, step = 3201 (0.405 sec)\n",
            "INFO:tensorflow:global_step/sec: 184.39\n",
            "INFO:tensorflow:loss = 0.0245049, step = 3301 (0.543 sec)\n",
            "INFO:tensorflow:global_step/sec: 208.241\n",
            "INFO:tensorflow:loss = 0.187613, step = 3401 (0.480 sec)\n",
            "INFO:tensorflow:global_step/sec: 263.792\n",
            "INFO:tensorflow:loss = 0.0769749, step = 3501 (0.381 sec)\n",
            "INFO:tensorflow:global_step/sec: 195.251\n",
            "INFO:tensorflow:loss = 0.156345, step = 3601 (0.511 sec)\n",
            "INFO:tensorflow:global_step/sec: 217.88\n",
            "INFO:tensorflow:loss = 0.038497, step = 3701 (0.458 sec)\n",
            "INFO:tensorflow:global_step/sec: 274.245\n",
            "INFO:tensorflow:loss = 0.0231367, step = 3801 (0.365 sec)\n",
            "INFO:tensorflow:global_step/sec: 244.072\n",
            "INFO:tensorflow:loss = 0.126322, step = 3901 (0.410 sec)\n",
            "INFO:tensorflow:global_step/sec: 265.246\n",
            "INFO:tensorflow:loss = 0.0850534, step = 4001 (0.377 sec)\n",
            "INFO:tensorflow:global_step/sec: 270.127\n",
            "INFO:tensorflow:loss = 0.0379038, step = 4101 (0.370 sec)\n",
            "INFO:tensorflow:global_step/sec: 262.732\n",
            "INFO:tensorflow:loss = 0.0631726, step = 4201 (0.381 sec)\n",
            "INFO:tensorflow:global_step/sec: 275.641\n",
            "INFO:tensorflow:loss = 0.168726, step = 4301 (0.363 sec)\n",
            "INFO:tensorflow:global_step/sec: 277.469\n",
            "INFO:tensorflow:loss = 0.127797, step = 4401 (0.360 sec)\n",
            "INFO:tensorflow:global_step/sec: 275.893\n",
            "INFO:tensorflow:loss = 0.0160055, step = 4501 (0.362 sec)\n",
            "INFO:tensorflow:global_step/sec: 264.234\n",
            "INFO:tensorflow:loss = 0.0144929, step = 4601 (0.381 sec)\n",
            "INFO:tensorflow:global_step/sec: 212.675\n",
            "INFO:tensorflow:loss = 0.0102578, step = 4701 (0.468 sec)\n",
            "INFO:tensorflow:global_step/sec: 263.537\n",
            "INFO:tensorflow:loss = 0.0220413, step = 4801 (0.379 sec)\n",
            "INFO:tensorflow:global_step/sec: 255.861\n",
            "INFO:tensorflow:loss = 0.0795268, step = 4901 (0.391 sec)\n",
            "INFO:tensorflow:global_step/sec: 261.237\n",
            "INFO:tensorflow:loss = 0.0727228, step = 5001 (0.383 sec)\n",
            "INFO:tensorflow:global_step/sec: 253.378\n",
            "INFO:tensorflow:loss = 0.00975115, step = 5101 (0.395 sec)\n",
            "INFO:tensorflow:global_step/sec: 250.263\n"
          ],
          "name": "stdout"
        },
        {
          "output_type": "stream",
          "text": [
            "INFO:tensorflow:loss = 0.0465008, step = 5201 (0.399 sec)\n",
            "INFO:tensorflow:global_step/sec: 250.569\n",
            "INFO:tensorflow:loss = 0.0284622, step = 5301 (0.400 sec)\n",
            "INFO:tensorflow:global_step/sec: 253.534\n",
            "INFO:tensorflow:loss = 0.0416269, step = 5401 (0.395 sec)\n",
            "INFO:tensorflow:global_step/sec: 251.295\n",
            "INFO:tensorflow:loss = 0.0417176, step = 5501 (0.398 sec)\n",
            "INFO:tensorflow:global_step/sec: 253.397\n",
            "INFO:tensorflow:loss = 0.0990972, step = 5601 (0.394 sec)\n",
            "INFO:tensorflow:global_step/sec: 252.197\n",
            "INFO:tensorflow:loss = 0.0100123, step = 5701 (0.397 sec)\n",
            "INFO:tensorflow:global_step/sec: 251.95\n",
            "INFO:tensorflow:loss = 0.00932265, step = 5801 (0.397 sec)\n",
            "INFO:tensorflow:global_step/sec: 253.019\n",
            "INFO:tensorflow:loss = 0.0846107, step = 5901 (0.395 sec)\n",
            "INFO:tensorflow:global_step/sec: 272.026\n",
            "INFO:tensorflow:loss = 0.124166, step = 6001 (0.367 sec)\n",
            "INFO:tensorflow:global_step/sec: 182.576\n",
            "INFO:tensorflow:loss = 0.0148375, step = 6101 (0.550 sec)\n",
            "INFO:tensorflow:global_step/sec: 210.931\n",
            "INFO:tensorflow:loss = 0.0109478, step = 6201 (0.475 sec)\n",
            "INFO:tensorflow:global_step/sec: 256.771\n",
            "INFO:tensorflow:loss = 0.0398858, step = 6301 (0.387 sec)\n",
            "INFO:tensorflow:global_step/sec: 258.668\n",
            "INFO:tensorflow:loss = 0.0289046, step = 6401 (0.388 sec)\n",
            "INFO:tensorflow:global_step/sec: 276.135\n",
            "INFO:tensorflow:loss = 0.0198937, step = 6501 (0.361 sec)\n",
            "INFO:tensorflow:global_step/sec: 280.889\n",
            "INFO:tensorflow:loss = 0.0376871, step = 6601 (0.356 sec)\n",
            "INFO:tensorflow:global_step/sec: 247.868\n",
            "INFO:tensorflow:loss = 0.0180636, step = 6701 (0.403 sec)\n",
            "INFO:tensorflow:global_step/sec: 272.272\n",
            "INFO:tensorflow:loss = 0.0165106, step = 6801 (0.369 sec)\n",
            "INFO:tensorflow:global_step/sec: 225.777\n",
            "INFO:tensorflow:loss = 0.0102255, step = 6901 (0.446 sec)\n",
            "INFO:tensorflow:global_step/sec: 250.233\n",
            "INFO:tensorflow:loss = 0.0212646, step = 7001 (0.395 sec)\n",
            "INFO:tensorflow:global_step/sec: 257.671\n",
            "INFO:tensorflow:loss = 0.00564048, step = 7101 (0.390 sec)\n",
            "INFO:tensorflow:global_step/sec: 274.746\n",
            "INFO:tensorflow:loss = 0.0571464, step = 7201 (0.362 sec)\n",
            "INFO:tensorflow:global_step/sec: 247.813\n",
            "INFO:tensorflow:loss = 0.0110041, step = 7301 (0.407 sec)\n",
            "INFO:tensorflow:global_step/sec: 227.229\n",
            "INFO:tensorflow:loss = 0.00786978, step = 7401 (0.437 sec)\n",
            "INFO:tensorflow:global_step/sec: 210.384\n",
            "INFO:tensorflow:loss = 0.00323306, step = 7501 (0.475 sec)\n",
            "INFO:tensorflow:global_step/sec: 194.145\n",
            "INFO:tensorflow:loss = 0.0253441, step = 7601 (0.515 sec)\n",
            "INFO:tensorflow:global_step/sec: 212.288\n",
            "INFO:tensorflow:loss = 0.0186932, step = 7701 (0.473 sec)\n",
            "INFO:tensorflow:global_step/sec: 278.998\n",
            "INFO:tensorflow:loss = 0.00470474, step = 7801 (0.357 sec)\n",
            "INFO:tensorflow:global_step/sec: 258.638\n",
            "INFO:tensorflow:loss = 0.0205092, step = 7901 (0.387 sec)\n",
            "INFO:tensorflow:global_step/sec: 278.924\n",
            "INFO:tensorflow:loss = 0.00267592, step = 8001 (0.359 sec)\n",
            "INFO:tensorflow:global_step/sec: 278.873\n",
            "INFO:tensorflow:loss = 0.0128177, step = 8101 (0.358 sec)\n",
            "INFO:tensorflow:global_step/sec: 279.337\n",
            "INFO:tensorflow:loss = 0.00871363, step = 8201 (0.358 sec)\n",
            "INFO:tensorflow:global_step/sec: 250.884\n",
            "INFO:tensorflow:loss = 0.0303995, step = 8301 (0.399 sec)\n",
            "INFO:tensorflow:global_step/sec: 252.451\n",
            "INFO:tensorflow:loss = 0.00547534, step = 8401 (0.396 sec)\n",
            "INFO:tensorflow:global_step/sec: 251.788\n",
            "INFO:tensorflow:loss = 0.00428301, step = 8501 (0.397 sec)\n",
            "INFO:tensorflow:global_step/sec: 253.448\n",
            "INFO:tensorflow:loss = 0.00331482, step = 8601 (0.395 sec)\n",
            "INFO:tensorflow:global_step/sec: 275.167\n",
            "INFO:tensorflow:loss = 0.00181257, step = 8701 (0.362 sec)\n",
            "INFO:tensorflow:global_step/sec: 275.921\n",
            "INFO:tensorflow:loss = 0.00745507, step = 8801 (0.362 sec)\n",
            "INFO:tensorflow:global_step/sec: 278.542\n",
            "INFO:tensorflow:loss = 0.00206631, step = 8901 (0.359 sec)\n",
            "INFO:tensorflow:global_step/sec: 233.05\n",
            "INFO:tensorflow:loss = 0.00987449, step = 9001 (0.430 sec)\n",
            "INFO:tensorflow:global_step/sec: 188.157\n",
            "INFO:tensorflow:loss = 0.00872218, step = 9101 (0.531 sec)\n",
            "INFO:tensorflow:global_step/sec: 197.387\n",
            "INFO:tensorflow:loss = 0.00354261, step = 9201 (0.507 sec)\n",
            "INFO:tensorflow:global_step/sec: 193.231\n",
            "INFO:tensorflow:loss = 0.00842603, step = 9301 (0.519 sec)\n",
            "INFO:tensorflow:global_step/sec: 188.063\n",
            "INFO:tensorflow:loss = 0.0455234, step = 9401 (0.530 sec)\n",
            "INFO:tensorflow:global_step/sec: 264.982\n",
            "INFO:tensorflow:loss = 0.00336573, step = 9501 (0.376 sec)\n",
            "INFO:tensorflow:global_step/sec: 236.057\n",
            "INFO:tensorflow:loss = 0.00956144, step = 9601 (0.425 sec)\n",
            "INFO:tensorflow:global_step/sec: 197.297\n",
            "INFO:tensorflow:loss = 0.0167992, step = 9701 (0.508 sec)\n",
            "INFO:tensorflow:global_step/sec: 192.88\n",
            "INFO:tensorflow:loss = 0.00258252, step = 9801 (0.517 sec)\n",
            "INFO:tensorflow:global_step/sec: 202.071\n",
            "INFO:tensorflow:loss = 0.00964951, step = 9901 (0.496 sec)\n",
            "INFO:tensorflow:global_step/sec: 175.699\n",
            "INFO:tensorflow:loss = 0.0159406, step = 10001 (0.569 sec)\n",
            "INFO:tensorflow:global_step/sec: 218.295\n",
            "INFO:tensorflow:loss = 0.0121948, step = 10101 (0.457 sec)\n",
            "INFO:tensorflow:global_step/sec: 223.581\n",
            "INFO:tensorflow:loss = 0.00458252, step = 10201 (0.446 sec)\n",
            "INFO:tensorflow:global_step/sec: 266.45\n",
            "INFO:tensorflow:loss = 0.00243937, step = 10301 (0.376 sec)\n",
            "INFO:tensorflow:global_step/sec: 248.5\n",
            "INFO:tensorflow:loss = 0.00883394, step = 10401 (0.401 sec)\n",
            "INFO:tensorflow:global_step/sec: 248.655\n",
            "INFO:tensorflow:loss = 0.00480986, step = 10501 (0.402 sec)\n",
            "INFO:tensorflow:global_step/sec: 184.632\n",
            "INFO:tensorflow:loss = 0.00666333, step = 10601 (0.543 sec)\n",
            "INFO:tensorflow:global_step/sec: 187.147\n",
            "INFO:tensorflow:loss = 0.0123154, step = 10701 (0.533 sec)\n",
            "INFO:tensorflow:global_step/sec: 234.892\n",
            "INFO:tensorflow:loss = 0.00431817, step = 10801 (0.430 sec)\n",
            "INFO:tensorflow:global_step/sec: 187.371\n",
            "INFO:tensorflow:loss = 0.00332728, step = 10901 (0.534 sec)\n",
            "INFO:tensorflow:global_step/sec: 236.813\n",
            "INFO:tensorflow:loss = 0.0152951, step = 11001 (0.419 sec)\n",
            "INFO:tensorflow:global_step/sec: 217.701\n",
            "INFO:tensorflow:loss = 0.00480105, step = 11101 (0.460 sec)\n",
            "INFO:tensorflow:global_step/sec: 242.52\n",
            "INFO:tensorflow:loss = 0.00150327, step = 11201 (0.412 sec)\n",
            "INFO:tensorflow:global_step/sec: 269.68\n",
            "INFO:tensorflow:loss = 0.00286638, step = 11301 (0.370 sec)\n",
            "INFO:tensorflow:global_step/sec: 254.336\n",
            "INFO:tensorflow:loss = 0.00503829, step = 11401 (0.393 sec)\n",
            "INFO:tensorflow:global_step/sec: 252.236\n",
            "INFO:tensorflow:loss = 0.0170041, step = 11501 (0.397 sec)\n",
            "INFO:tensorflow:global_step/sec: 280.986\n",
            "INFO:tensorflow:loss = 0.000805916, step = 11601 (0.355 sec)\n",
            "INFO:tensorflow:global_step/sec: 261.375\n",
            "INFO:tensorflow:loss = 0.00390461, step = 11701 (0.383 sec)\n",
            "INFO:tensorflow:global_step/sec: 275.378\n",
            "INFO:tensorflow:loss = 0.000315956, step = 11801 (0.362 sec)\n",
            "INFO:tensorflow:global_step/sec: 267.505\n",
            "INFO:tensorflow:loss = 0.00406269, step = 11901 (0.374 sec)\n",
            "INFO:tensorflow:global_step/sec: 248.698\n",
            "INFO:tensorflow:loss = 0.000186222, step = 12001 (0.402 sec)\n",
            "INFO:tensorflow:global_step/sec: 250.77\n",
            "INFO:tensorflow:loss = 0.00214356, step = 12101 (0.401 sec)\n",
            "INFO:tensorflow:global_step/sec: 249.801\n",
            "INFO:tensorflow:loss = 0.00506063, step = 12201 (0.398 sec)\n",
            "INFO:tensorflow:global_step/sec: 244.517\n",
            "INFO:tensorflow:loss = 0.00529555, step = 12301 (0.410 sec)\n",
            "INFO:tensorflow:global_step/sec: 189.405\n",
            "INFO:tensorflow:loss = 0.000433431, step = 12401 (0.528 sec)\n",
            "INFO:tensorflow:global_step/sec: 187.517\n",
            "INFO:tensorflow:loss = 0.00332245, step = 12501 (0.533 sec)\n",
            "INFO:tensorflow:global_step/sec: 188.717\n",
            "INFO:tensorflow:loss = 0.00200787, step = 12601 (0.532 sec)\n",
            "INFO:tensorflow:global_step/sec: 181.412\n",
            "INFO:tensorflow:loss = 0.00442856, step = 12701 (0.551 sec)\n",
            "INFO:tensorflow:global_step/sec: 178.508\n",
            "INFO:tensorflow:loss = 0.00484719, step = 12801 (0.559 sec)\n",
            "INFO:tensorflow:global_step/sec: 184.704\n",
            "INFO:tensorflow:loss = 0.00412586, step = 12901 (0.541 sec)\n",
            "INFO:tensorflow:global_step/sec: 177.923\n",
            "INFO:tensorflow:loss = 0.00515317, step = 13001 (0.564 sec)\n",
            "INFO:tensorflow:global_step/sec: 184.274\n",
            "INFO:tensorflow:loss = 0.00159382, step = 13101 (0.542 sec)\n",
            "INFO:tensorflow:global_step/sec: 205.354\n",
            "INFO:tensorflow:loss = 0.00502453, step = 13201 (0.486 sec)\n",
            "INFO:tensorflow:global_step/sec: 190.714\n",
            "INFO:tensorflow:loss = 0.00438053, step = 13301 (0.524 sec)\n",
            "INFO:tensorflow:global_step/sec: 220.597\n"
          ],
          "name": "stdout"
        },
        {
          "output_type": "stream",
          "text": [
            "INFO:tensorflow:loss = 0.00856026, step = 13401 (0.452 sec)\n",
            "INFO:tensorflow:global_step/sec: 270.041\n",
            "INFO:tensorflow:loss = 0.0218133, step = 13501 (0.370 sec)\n",
            "INFO:tensorflow:global_step/sec: 251.09\n",
            "INFO:tensorflow:loss = 0.00747618, step = 13601 (0.398 sec)\n",
            "INFO:tensorflow:global_step/sec: 222.872\n",
            "INFO:tensorflow:loss = 0.00192963, step = 13701 (0.453 sec)\n",
            "INFO:tensorflow:global_step/sec: 183.616\n",
            "INFO:tensorflow:loss = 0.0053194, step = 13801 (0.543 sec)\n",
            "INFO:tensorflow:global_step/sec: 195.98\n",
            "INFO:tensorflow:loss = 0.00531271, step = 13901 (0.509 sec)\n",
            "INFO:tensorflow:global_step/sec: 226.02\n",
            "INFO:tensorflow:loss = 0.00343774, step = 14001 (0.443 sec)\n",
            "INFO:tensorflow:global_step/sec: 198.634\n",
            "INFO:tensorflow:loss = 0.00659004, step = 14101 (0.502 sec)\n",
            "INFO:tensorflow:global_step/sec: 254.881\n",
            "INFO:tensorflow:loss = 0.00309567, step = 14201 (0.393 sec)\n",
            "INFO:tensorflow:global_step/sec: 191.474\n",
            "INFO:tensorflow:loss = 0.000855188, step = 14301 (0.524 sec)\n",
            "INFO:tensorflow:global_step/sec: 197.559\n",
            "INFO:tensorflow:loss = 0.000906722, step = 14401 (0.504 sec)\n",
            "INFO:tensorflow:global_step/sec: 244.568\n",
            "INFO:tensorflow:loss = 0.000839553, step = 14501 (0.409 sec)\n",
            "INFO:tensorflow:global_step/sec: 189.984\n",
            "INFO:tensorflow:loss = 0.00457471, step = 14601 (0.528 sec)\n",
            "INFO:tensorflow:global_step/sec: 203.456\n",
            "INFO:tensorflow:loss = 0.00254952, step = 14701 (0.490 sec)\n",
            "INFO:tensorflow:global_step/sec: 244.98\n",
            "INFO:tensorflow:loss = 0.000772489, step = 14801 (0.410 sec)\n",
            "INFO:tensorflow:global_step/sec: 211.881\n",
            "INFO:tensorflow:loss = 0.00241913, step = 14901 (0.469 sec)\n",
            "INFO:tensorflow:global_step/sec: 186.212\n",
            "INFO:tensorflow:loss = 0.000431792, step = 15001 (0.538 sec)\n",
            "INFO:tensorflow:global_step/sec: 183.033\n",
            "INFO:tensorflow:loss = 0.00167733, step = 15101 (0.547 sec)\n",
            "INFO:tensorflow:global_step/sec: 202.801\n",
            "INFO:tensorflow:loss = 0.00109428, step = 15201 (0.496 sec)\n",
            "INFO:tensorflow:global_step/sec: 183.523\n",
            "INFO:tensorflow:loss = 0.00155988, step = 15301 (0.544 sec)\n",
            "INFO:tensorflow:global_step/sec: 182.727\n",
            "INFO:tensorflow:loss = 0.0013742, step = 15401 (0.545 sec)\n",
            "INFO:tensorflow:global_step/sec: 189.736\n",
            "INFO:tensorflow:loss = 0.00340813, step = 15501 (0.530 sec)\n",
            "INFO:tensorflow:global_step/sec: 189.45\n",
            "INFO:tensorflow:loss = 0.00752609, step = 15601 (0.527 sec)\n",
            "INFO:tensorflow:global_step/sec: 266.564\n",
            "INFO:tensorflow:loss = 0.00828279, step = 15701 (0.374 sec)\n",
            "INFO:tensorflow:global_step/sec: 259.016\n",
            "INFO:tensorflow:loss = 0.00129082, step = 15801 (0.386 sec)\n",
            "INFO:tensorflow:global_step/sec: 271.717\n",
            "INFO:tensorflow:loss = 0.00043975, step = 15901 (0.368 sec)\n",
            "INFO:tensorflow:global_step/sec: 184.422\n",
            "INFO:tensorflow:loss = 0.00586843, step = 16001 (0.543 sec)\n",
            "INFO:tensorflow:global_step/sec: 204.558\n",
            "INFO:tensorflow:loss = 0.00345768, step = 16101 (0.491 sec)\n",
            "INFO:tensorflow:global_step/sec: 196.668\n",
            "INFO:tensorflow:loss = 0.000213371, step = 16201 (0.507 sec)\n",
            "INFO:tensorflow:global_step/sec: 193.004\n",
            "INFO:tensorflow:loss = 0.00482919, step = 16301 (0.517 sec)\n",
            "INFO:tensorflow:global_step/sec: 194.496\n",
            "INFO:tensorflow:loss = 0.00192588, step = 16401 (0.514 sec)\n",
            "INFO:tensorflow:global_step/sec: 205.635\n",
            "INFO:tensorflow:loss = 0.00166527, step = 16501 (0.487 sec)\n",
            "INFO:tensorflow:global_step/sec: 182.487\n",
            "INFO:tensorflow:loss = 0.00262011, step = 16601 (0.548 sec)\n",
            "INFO:tensorflow:global_step/sec: 196.787\n",
            "INFO:tensorflow:loss = 0.00243712, step = 16701 (0.509 sec)\n",
            "INFO:tensorflow:global_step/sec: 204.353\n",
            "INFO:tensorflow:loss = 0.00256896, step = 16801 (0.491 sec)\n",
            "INFO:tensorflow:global_step/sec: 208.135\n",
            "INFO:tensorflow:loss = 0.00304496, step = 16901 (0.476 sec)\n",
            "INFO:tensorflow:global_step/sec: 245.86\n",
            "INFO:tensorflow:loss = 0.00417187, step = 17001 (0.410 sec)\n",
            "INFO:tensorflow:global_step/sec: 205.827\n",
            "INFO:tensorflow:loss = 0.00123819, step = 17101 (0.483 sec)\n",
            "INFO:tensorflow:global_step/sec: 279.188\n",
            "INFO:tensorflow:loss = 0.00233802, step = 17201 (0.358 sec)\n",
            "INFO:tensorflow:global_step/sec: 187.773\n",
            "INFO:tensorflow:loss = 0.000955842, step = 17301 (0.535 sec)\n",
            "INFO:tensorflow:global_step/sec: 194.179\n",
            "INFO:tensorflow:loss = 0.00172201, step = 17401 (0.514 sec)\n",
            "INFO:tensorflow:global_step/sec: 187.438\n",
            "INFO:tensorflow:loss = 0.00108039, step = 17501 (0.534 sec)\n",
            "INFO:tensorflow:global_step/sec: 181.868\n",
            "INFO:tensorflow:loss = 0.000332111, step = 17601 (0.551 sec)\n",
            "INFO:tensorflow:global_step/sec: 226.734\n",
            "INFO:tensorflow:loss = 0.00127384, step = 17701 (0.439 sec)\n",
            "INFO:tensorflow:global_step/sec: 265.781\n",
            "INFO:tensorflow:loss = 0.000889555, step = 17801 (0.376 sec)\n",
            "INFO:tensorflow:global_step/sec: 188.705\n",
            "INFO:tensorflow:loss = 0.00187662, step = 17901 (0.532 sec)\n",
            "INFO:tensorflow:global_step/sec: 211.044\n",
            "INFO:tensorflow:loss = 0.000436003, step = 18001 (0.472 sec)\n",
            "INFO:tensorflow:global_step/sec: 215.068\n",
            "INFO:tensorflow:loss = 0.000875227, step = 18101 (0.466 sec)\n",
            "INFO:tensorflow:global_step/sec: 204.824\n",
            "INFO:tensorflow:loss = 0.00317849, step = 18201 (0.489 sec)\n",
            "INFO:tensorflow:global_step/sec: 232.56\n",
            "INFO:tensorflow:loss = 0.00841124, step = 18301 (0.428 sec)\n",
            "INFO:tensorflow:global_step/sec: 253.105\n",
            "INFO:tensorflow:loss = 0.00317765, step = 18401 (0.396 sec)\n",
            "INFO:tensorflow:global_step/sec: 203.847\n",
            "INFO:tensorflow:loss = 0.00217363, step = 18501 (0.492 sec)\n",
            "INFO:tensorflow:global_step/sec: 205.08\n",
            "INFO:tensorflow:loss = 0.00329901, step = 18601 (0.490 sec)\n",
            "INFO:tensorflow:global_step/sec: 189.365\n",
            "INFO:tensorflow:loss = 0.00211512, step = 18701 (0.527 sec)\n",
            "INFO:tensorflow:global_step/sec: 196.858\n",
            "INFO:tensorflow:loss = 0.00226656, step = 18801 (0.506 sec)\n",
            "INFO:tensorflow:global_step/sec: 173.89\n",
            "INFO:tensorflow:loss = 0.00262046, step = 18901 (0.578 sec)\n",
            "INFO:tensorflow:global_step/sec: 189.091\n",
            "INFO:tensorflow:loss = 0.000796823, step = 19001 (0.525 sec)\n",
            "INFO:tensorflow:global_step/sec: 264.841\n",
            "INFO:tensorflow:loss = 0.000453289, step = 19101 (0.378 sec)\n",
            "INFO:tensorflow:global_step/sec: 192.387\n",
            "INFO:tensorflow:loss = 0.00114799, step = 19201 (0.520 sec)\n",
            "INFO:tensorflow:global_step/sec: 199.943\n",
            "INFO:tensorflow:loss = 0.00744632, step = 19301 (0.500 sec)\n",
            "INFO:tensorflow:global_step/sec: 183.624\n",
            "INFO:tensorflow:loss = 0.00100865, step = 19401 (0.547 sec)\n",
            "INFO:tensorflow:global_step/sec: 198.025\n",
            "INFO:tensorflow:loss = 0.00294079, step = 19501 (0.503 sec)\n",
            "INFO:tensorflow:global_step/sec: 239.034\n",
            "INFO:tensorflow:loss = 0.00057494, step = 19601 (0.419 sec)\n",
            "INFO:tensorflow:global_step/sec: 245.977\n",
            "INFO:tensorflow:loss = 9.19814e-05, step = 19701 (0.409 sec)\n",
            "INFO:tensorflow:global_step/sec: 191.99\n",
            "INFO:tensorflow:loss = 0.000400927, step = 19801 (0.520 sec)\n",
            "INFO:tensorflow:global_step/sec: 192.883\n",
            "INFO:tensorflow:loss = 0.00142398, step = 19901 (0.517 sec)\n",
            "INFO:tensorflow:global_step/sec: 194.952\n",
            "INFO:tensorflow:loss = 0.00219393, step = 20001 (0.514 sec)\n",
            "INFO:tensorflow:global_step/sec: 201.368\n",
            "INFO:tensorflow:loss = 0.000759549, step = 20101 (0.496 sec)\n",
            "INFO:tensorflow:global_step/sec: 219.367\n",
            "INFO:tensorflow:loss = 0.00204429, step = 20201 (0.455 sec)\n",
            "INFO:tensorflow:global_step/sec: 204.295\n",
            "INFO:tensorflow:loss = 0.00154509, step = 20301 (0.491 sec)\n",
            "INFO:tensorflow:global_step/sec: 199.193\n",
            "INFO:tensorflow:loss = 0.000394946, step = 20401 (0.502 sec)\n",
            "INFO:tensorflow:global_step/sec: 196.011\n",
            "INFO:tensorflow:loss = 0.000947637, step = 20501 (0.508 sec)\n",
            "INFO:tensorflow:global_step/sec: 208.203\n",
            "INFO:tensorflow:loss = 0.00138655, step = 20601 (0.482 sec)\n",
            "INFO:tensorflow:global_step/sec: 205.228\n",
            "INFO:tensorflow:loss = 0.00194216, step = 20701 (0.487 sec)\n",
            "INFO:tensorflow:global_step/sec: 179.831\n",
            "INFO:tensorflow:loss = 0.00113133, step = 20801 (0.557 sec)\n",
            "INFO:tensorflow:global_step/sec: 179.498\n",
            "INFO:tensorflow:loss = 0.00132174, step = 20901 (0.556 sec)\n",
            "INFO:tensorflow:global_step/sec: 181.462\n",
            "INFO:tensorflow:loss = 0.00144972, step = 21001 (0.550 sec)\n",
            "INFO:tensorflow:global_step/sec: 189.357\n",
            "INFO:tensorflow:loss = 0.00161124, step = 21101 (0.531 sec)\n",
            "INFO:tensorflow:global_step/sec: 188.039\n",
            "INFO:tensorflow:loss = 0.00363507, step = 21201 (0.531 sec)\n",
            "INFO:tensorflow:global_step/sec: 183.568\n",
            "INFO:tensorflow:loss = 0.000837951, step = 21301 (0.545 sec)\n",
            "INFO:tensorflow:global_step/sec: 183.908\n",
            "INFO:tensorflow:loss = 0.00144586, step = 21401 (0.543 sec)\n",
            "INFO:tensorflow:global_step/sec: 190.62\n",
            "INFO:tensorflow:loss = 0.000312103, step = 21501 (0.525 sec)\n"
          ],
          "name": "stdout"
        },
        {
          "output_type": "stream",
          "text": [
            "INFO:tensorflow:global_step/sec: 183.044\n",
            "INFO:tensorflow:loss = 0.000950195, step = 21601 (0.544 sec)\n",
            "INFO:tensorflow:global_step/sec: 183.141\n",
            "INFO:tensorflow:loss = 0.0010964, step = 21701 (0.548 sec)\n",
            "INFO:tensorflow:global_step/sec: 256.133\n",
            "INFO:tensorflow:loss = 0.000984908, step = 21801 (0.389 sec)\n",
            "INFO:tensorflow:global_step/sec: 226.069\n",
            "INFO:tensorflow:loss = 0.000579074, step = 21901 (0.442 sec)\n",
            "INFO:tensorflow:global_step/sec: 187.341\n",
            "INFO:tensorflow:loss = 5.25971e-05, step = 22001 (0.534 sec)\n",
            "INFO:tensorflow:global_step/sec: 194.486\n",
            "INFO:tensorflow:loss = 0.000137044, step = 22101 (0.512 sec)\n",
            "INFO:tensorflow:global_step/sec: 216.62\n",
            "INFO:tensorflow:loss = 0.000949686, step = 22201 (0.465 sec)\n",
            "INFO:tensorflow:global_step/sec: 204.634\n",
            "INFO:tensorflow:loss = 0.002211, step = 22301 (0.486 sec)\n",
            "INFO:tensorflow:global_step/sec: 184.461\n",
            "INFO:tensorflow:loss = 0.0010825, step = 22401 (0.544 sec)\n",
            "INFO:tensorflow:global_step/sec: 205.207\n",
            "INFO:tensorflow:loss = 0.00139056, step = 22501 (0.485 sec)\n",
            "INFO:tensorflow:global_step/sec: 198.77\n",
            "INFO:tensorflow:loss = 0.00312091, step = 22601 (0.505 sec)\n",
            "INFO:tensorflow:global_step/sec: 233.305\n",
            "INFO:tensorflow:loss = 0.000800111, step = 22701 (0.427 sec)\n",
            "INFO:tensorflow:global_step/sec: 178.899\n",
            "INFO:tensorflow:loss = 0.000713488, step = 22801 (0.561 sec)\n",
            "INFO:tensorflow:global_step/sec: 232.556\n",
            "INFO:tensorflow:loss = 0.00210962, step = 22901 (0.427 sec)\n",
            "INFO:tensorflow:global_step/sec: 269.397\n",
            "INFO:tensorflow:loss = 0.000653901, step = 23001 (0.371 sec)\n",
            "INFO:tensorflow:global_step/sec: 190.879\n",
            "INFO:tensorflow:loss = 0.00383283, step = 23101 (0.524 sec)\n",
            "INFO:tensorflow:global_step/sec: 256.001\n",
            "INFO:tensorflow:loss = 0.00155421, step = 23201 (0.392 sec)\n",
            "INFO:tensorflow:global_step/sec: 238.402\n",
            "INFO:tensorflow:loss = 0.00159645, step = 23301 (0.418 sec)\n",
            "INFO:tensorflow:global_step/sec: 225.174\n",
            "INFO:tensorflow:loss = 0.000647643, step = 23401 (0.444 sec)\n",
            "INFO:tensorflow:global_step/sec: 243.217\n",
            "INFO:tensorflow:loss = 0.00105849, step = 23501 (0.411 sec)\n",
            "INFO:tensorflow:global_step/sec: 257.272\n",
            "INFO:tensorflow:loss = 0.000571228, step = 23601 (0.388 sec)\n",
            "INFO:tensorflow:global_step/sec: 275.283\n",
            "INFO:tensorflow:loss = 0.000554344, step = 23701 (0.364 sec)\n",
            "INFO:tensorflow:global_step/sec: 279.719\n",
            "INFO:tensorflow:loss = 0.00168808, step = 23801 (0.357 sec)\n",
            "INFO:tensorflow:global_step/sec: 278.092\n",
            "INFO:tensorflow:loss = 0.00232475, step = 23901 (0.360 sec)\n",
            "INFO:tensorflow:global_step/sec: 277.658\n",
            "INFO:tensorflow:loss = 0.0010813, step = 24001 (0.360 sec)\n",
            "INFO:tensorflow:global_step/sec: 279.533\n",
            "INFO:tensorflow:loss = 0.000547438, step = 24101 (0.358 sec)\n",
            "INFO:tensorflow:global_step/sec: 275.033\n",
            "INFO:tensorflow:loss = 0.00165438, step = 24201 (0.364 sec)\n",
            "INFO:tensorflow:global_step/sec: 277.075\n",
            "INFO:tensorflow:loss = 6.56575e-05, step = 24301 (0.361 sec)\n",
            "INFO:tensorflow:global_step/sec: 281.589\n",
            "INFO:tensorflow:loss = 0.00233224, step = 24401 (0.355 sec)\n",
            "INFO:tensorflow:global_step/sec: 278.535\n",
            "INFO:tensorflow:loss = 0.000558085, step = 24501 (0.359 sec)\n",
            "INFO:tensorflow:global_step/sec: 276.946\n",
            "INFO:tensorflow:loss = 0.000491893, step = 24601 (0.361 sec)\n",
            "INFO:tensorflow:global_step/sec: 277.304\n",
            "INFO:tensorflow:loss = 0.000555898, step = 24701 (0.361 sec)\n",
            "INFO:tensorflow:global_step/sec: 275.374\n",
            "INFO:tensorflow:loss = 0.00128007, step = 24801 (0.363 sec)\n",
            "INFO:tensorflow:global_step/sec: 273.477\n",
            "INFO:tensorflow:loss = 0.00193842, step = 24901 (0.366 sec)\n",
            "INFO:tensorflow:global_step/sec: 276.779\n",
            "INFO:tensorflow:loss = 0.000788444, step = 25001 (0.361 sec)\n",
            "INFO:tensorflow:global_step/sec: 275.731\n",
            "INFO:tensorflow:loss = 0.00122527, step = 25101 (0.363 sec)\n",
            "INFO:tensorflow:global_step/sec: 279.942\n",
            "INFO:tensorflow:loss = 0.00114574, step = 25201 (0.357 sec)\n",
            "INFO:tensorflow:global_step/sec: 270.59\n",
            "INFO:tensorflow:loss = 0.00020195, step = 25301 (0.369 sec)\n",
            "INFO:tensorflow:global_step/sec: 270.665\n",
            "INFO:tensorflow:loss = 0.000519004, step = 25401 (0.370 sec)\n",
            "INFO:tensorflow:global_step/sec: 216.59\n",
            "INFO:tensorflow:loss = 0.000665502, step = 25501 (0.462 sec)\n",
            "INFO:tensorflow:global_step/sec: 269.073\n",
            "INFO:tensorflow:loss = 0.00124623, step = 25601 (0.375 sec)\n",
            "INFO:tensorflow:global_step/sec: 176.346\n",
            "INFO:tensorflow:loss = 0.000683658, step = 25701 (0.564 sec)\n",
            "INFO:tensorflow:global_step/sec: 213.633\n",
            "INFO:tensorflow:loss = 0.000602774, step = 25801 (0.469 sec)\n",
            "INFO:tensorflow:global_step/sec: 206.053\n",
            "INFO:tensorflow:loss = 0.0014392, step = 25901 (0.485 sec)\n",
            "INFO:tensorflow:global_step/sec: 273.717\n",
            "INFO:tensorflow:loss = 2.69126e-05, step = 26001 (0.364 sec)\n",
            "INFO:tensorflow:global_step/sec: 183.585\n",
            "INFO:tensorflow:loss = 0.00132281, step = 26101 (0.547 sec)\n",
            "INFO:tensorflow:global_step/sec: 275.307\n",
            "INFO:tensorflow:loss = 0.00090066, step = 26201 (0.361 sec)\n",
            "INFO:tensorflow:global_step/sec: 252.817\n",
            "INFO:tensorflow:loss = 0.000835976, step = 26301 (0.395 sec)\n",
            "INFO:tensorflow:global_step/sec: 185.043\n",
            "INFO:tensorflow:loss = 0.00189562, step = 26401 (0.542 sec)\n",
            "INFO:tensorflow:global_step/sec: 213.549\n",
            "INFO:tensorflow:loss = 0.00102107, step = 26501 (0.467 sec)\n",
            "INFO:tensorflow:global_step/sec: 265.552\n",
            "INFO:tensorflow:loss = 0.000455356, step = 26601 (0.376 sec)\n",
            "INFO:tensorflow:global_step/sec: 259.355\n",
            "INFO:tensorflow:loss = 3.68893e-05, step = 26701 (0.386 sec)\n",
            "INFO:tensorflow:global_step/sec: 254.847\n",
            "INFO:tensorflow:loss = 0.000407944, step = 26801 (0.392 sec)\n",
            "INFO:tensorflow:global_step/sec: 273.776\n",
            "INFO:tensorflow:loss = 0.000596493, step = 26901 (0.365 sec)\n",
            "INFO:tensorflow:global_step/sec: 259.691\n",
            "INFO:tensorflow:loss = 0.000681231, step = 27001 (0.385 sec)\n",
            "INFO:tensorflow:global_step/sec: 272.486\n",
            "INFO:tensorflow:loss = 0.000384914, step = 27101 (0.367 sec)\n",
            "INFO:tensorflow:global_step/sec: 181.932\n",
            "INFO:tensorflow:loss = 0.000531026, step = 27201 (0.550 sec)\n",
            "INFO:tensorflow:global_step/sec: 209.529\n",
            "INFO:tensorflow:loss = 0.00170735, step = 27301 (0.478 sec)\n",
            "INFO:tensorflow:global_step/sec: 271.006\n",
            "INFO:tensorflow:loss = 7.62475e-05, step = 27401 (0.367 sec)\n",
            "INFO:tensorflow:global_step/sec: 255.406\n",
            "INFO:tensorflow:loss = 0.000933399, step = 27501 (0.392 sec)\n",
            "INFO:tensorflow:global_step/sec: 277.587\n",
            "INFO:tensorflow:loss = 0.00103732, step = 27601 (0.360 sec)\n",
            "INFO:tensorflow:global_step/sec: 250.208\n",
            "INFO:tensorflow:loss = 0.000205886, step = 27701 (0.400 sec)\n",
            "INFO:tensorflow:global_step/sec: 260.699\n",
            "INFO:tensorflow:loss = 0.000425834, step = 27801 (0.384 sec)\n",
            "INFO:tensorflow:global_step/sec: 274.018\n",
            "INFO:tensorflow:loss = 0.000389776, step = 27901 (0.365 sec)\n",
            "INFO:tensorflow:global_step/sec: 277.637\n",
            "INFO:tensorflow:loss = 0.00121333, step = 28001 (0.360 sec)\n",
            "INFO:tensorflow:global_step/sec: 251.017\n",
            "INFO:tensorflow:loss = 0.000613066, step = 28101 (0.398 sec)\n",
            "INFO:tensorflow:global_step/sec: 284.659\n",
            "INFO:tensorflow:loss = 0.000821205, step = 28201 (0.351 sec)\n",
            "INFO:tensorflow:global_step/sec: 271.473\n",
            "INFO:tensorflow:loss = 0.000806695, step = 28301 (0.369 sec)\n",
            "INFO:tensorflow:global_step/sec: 258.991\n",
            "INFO:tensorflow:loss = 0.00101125, step = 28401 (0.386 sec)\n",
            "INFO:tensorflow:global_step/sec: 271.557\n",
            "INFO:tensorflow:loss = 0.000202119, step = 28501 (0.368 sec)\n",
            "INFO:tensorflow:global_step/sec: 256.224\n",
            "INFO:tensorflow:loss = 0.000275304, step = 28601 (0.390 sec)\n",
            "INFO:tensorflow:global_step/sec: 266.393\n",
            "INFO:tensorflow:loss = 0.000900294, step = 28701 (0.377 sec)\n",
            "INFO:tensorflow:global_step/sec: 264.784\n",
            "INFO:tensorflow:loss = 0.000828656, step = 28801 (0.377 sec)\n",
            "INFO:tensorflow:global_step/sec: 277.567\n",
            "INFO:tensorflow:loss = 0.000324687, step = 28901 (0.360 sec)\n",
            "INFO:tensorflow:global_step/sec: 276.732\n",
            "INFO:tensorflow:loss = 0.0019475, step = 29001 (0.361 sec)\n",
            "INFO:tensorflow:global_step/sec: 278.555\n",
            "INFO:tensorflow:loss = 0.00127899, step = 29101 (0.359 sec)\n",
            "INFO:tensorflow:global_step/sec: 255.004\n",
            "INFO:tensorflow:loss = 0.00185527, step = 29201 (0.392 sec)\n",
            "INFO:tensorflow:global_step/sec: 272.765\n",
            "INFO:tensorflow:loss = 0.00142984, step = 29301 (0.366 sec)\n",
            "INFO:tensorflow:global_step/sec: 254.305\n",
            "INFO:tensorflow:loss = 0.00113846, step = 29401 (0.393 sec)\n",
            "INFO:tensorflow:global_step/sec: 259.744\n",
            "INFO:tensorflow:loss = 0.000791233, step = 29501 (0.385 sec)\n",
            "INFO:tensorflow:global_step/sec: 273.612\n",
            "INFO:tensorflow:loss = 0.000267616, step = 29601 (0.366 sec)\n"
          ],
          "name": "stdout"
        },
        {
          "output_type": "stream",
          "text": [
            "INFO:tensorflow:global_step/sec: 271.471\n",
            "INFO:tensorflow:loss = 0.000447296, step = 29701 (0.368 sec)\n",
            "INFO:tensorflow:global_step/sec: 274.868\n",
            "INFO:tensorflow:loss = 0.000661427, step = 29801 (0.364 sec)\n",
            "INFO:tensorflow:global_step/sec: 280.382\n",
            "INFO:tensorflow:loss = 0.00101775, step = 29901 (0.357 sec)\n",
            "INFO:tensorflow:global_step/sec: 280.433\n",
            "INFO:tensorflow:loss = 2.35898e-05, step = 30001 (0.357 sec)\n",
            "INFO:tensorflow:global_step/sec: 279.084\n",
            "INFO:tensorflow:loss = 0.000464337, step = 30101 (0.359 sec)\n",
            "INFO:tensorflow:global_step/sec: 248.108\n",
            "INFO:tensorflow:loss = 0.000423292, step = 30201 (0.404 sec)\n",
            "INFO:tensorflow:global_step/sec: 190.723\n",
            "INFO:tensorflow:loss = 0.000900517, step = 30301 (0.525 sec)\n",
            "INFO:tensorflow:global_step/sec: 185.652\n",
            "INFO:tensorflow:loss = 0.00125711, step = 30401 (0.538 sec)\n",
            "INFO:tensorflow:global_step/sec: 197.12\n",
            "INFO:tensorflow:loss = 0.000569968, step = 30501 (0.509 sec)\n",
            "INFO:tensorflow:global_step/sec: 182.197\n",
            "INFO:tensorflow:loss = 0.00112549, step = 30601 (0.550 sec)\n",
            "INFO:tensorflow:global_step/sec: 178.345\n",
            "INFO:tensorflow:loss = 0.000782089, step = 30701 (0.559 sec)\n",
            "INFO:tensorflow:global_step/sec: 186.443\n",
            "INFO:tensorflow:loss = 0.000910254, step = 30801 (0.535 sec)\n",
            "INFO:tensorflow:global_step/sec: 206.93\n",
            "INFO:tensorflow:loss = 0.000892444, step = 30901 (0.482 sec)\n",
            "INFO:tensorflow:global_step/sec: 194.566\n",
            "INFO:tensorflow:loss = 0.00134477, step = 31001 (0.515 sec)\n",
            "INFO:tensorflow:global_step/sec: 201.235\n",
            "INFO:tensorflow:loss = 0.00121681, step = 31101 (0.496 sec)\n",
            "INFO:tensorflow:global_step/sec: 203.399\n",
            "INFO:tensorflow:loss = 0.000561824, step = 31201 (0.492 sec)\n",
            "INFO:tensorflow:global_step/sec: 194.269\n",
            "INFO:tensorflow:loss = 0.000736782, step = 31301 (0.515 sec)\n",
            "INFO:tensorflow:global_step/sec: 213.164\n",
            "INFO:tensorflow:loss = 0.000763964, step = 31401 (0.468 sec)\n",
            "INFO:tensorflow:global_step/sec: 223.583\n",
            "INFO:tensorflow:loss = 0.00046775, step = 31501 (0.448 sec)\n",
            "INFO:tensorflow:global_step/sec: 230.373\n",
            "INFO:tensorflow:loss = 0.000263995, step = 31601 (0.433 sec)\n",
            "INFO:tensorflow:global_step/sec: 268.741\n",
            "INFO:tensorflow:loss = 0.000807053, step = 31701 (0.372 sec)\n",
            "INFO:tensorflow:global_step/sec: 269.671\n",
            "INFO:tensorflow:loss = 0.000163747, step = 31801 (0.371 sec)\n",
            "INFO:tensorflow:global_step/sec: 277.175\n",
            "INFO:tensorflow:loss = 0.000721748, step = 31901 (0.361 sec)\n",
            "INFO:tensorflow:global_step/sec: 277.779\n",
            "INFO:tensorflow:loss = 0.000209507, step = 32001 (0.360 sec)\n",
            "INFO:tensorflow:global_step/sec: 276.131\n",
            "INFO:tensorflow:loss = 0.000449815, step = 32101 (0.362 sec)\n",
            "INFO:tensorflow:global_step/sec: 277.918\n",
            "INFO:tensorflow:loss = 0.00112975, step = 32201 (0.360 sec)\n",
            "INFO:tensorflow:global_step/sec: 276.687\n",
            "INFO:tensorflow:loss = 0.000461516, step = 32301 (0.361 sec)\n",
            "INFO:tensorflow:global_step/sec: 274.706\n",
            "INFO:tensorflow:loss = 0.000319421, step = 32401 (0.364 sec)\n",
            "INFO:tensorflow:global_step/sec: 278.122\n",
            "INFO:tensorflow:loss = 0.000443986, step = 32501 (0.359 sec)\n",
            "INFO:tensorflow:global_step/sec: 279.784\n",
            "INFO:tensorflow:loss = 0.000271398, step = 32601 (0.357 sec)\n",
            "INFO:tensorflow:global_step/sec: 277.476\n",
            "INFO:tensorflow:loss = 0.00120967, step = 32701 (0.360 sec)\n",
            "INFO:tensorflow:global_step/sec: 273.527\n",
            "INFO:tensorflow:loss = 0.000885695, step = 32801 (0.366 sec)\n",
            "INFO:tensorflow:global_step/sec: 279.982\n",
            "INFO:tensorflow:loss = 0.00036681, step = 32901 (0.357 sec)\n",
            "INFO:tensorflow:global_step/sec: 274.4\n",
            "INFO:tensorflow:loss = 0.00061426, step = 33001 (0.365 sec)\n",
            "INFO:tensorflow:global_step/sec: 275.756\n",
            "INFO:tensorflow:loss = 0.00172474, step = 33101 (0.363 sec)\n",
            "INFO:tensorflow:global_step/sec: 276.862\n",
            "INFO:tensorflow:loss = 0.00102305, step = 33201 (0.361 sec)\n",
            "INFO:tensorflow:global_step/sec: 280.04\n",
            "INFO:tensorflow:loss = 0.000305675, step = 33301 (0.357 sec)\n",
            "INFO:tensorflow:global_step/sec: 272.929\n",
            "INFO:tensorflow:loss = 0.00126907, step = 33401 (0.367 sec)\n",
            "INFO:tensorflow:global_step/sec: 281.777\n",
            "INFO:tensorflow:loss = 0.000264366, step = 33501 (0.355 sec)\n",
            "INFO:tensorflow:global_step/sec: 274.132\n",
            "INFO:tensorflow:loss = 0.000544308, step = 33601 (0.365 sec)\n",
            "INFO:tensorflow:global_step/sec: 275.162\n",
            "INFO:tensorflow:loss = 0.00101767, step = 33701 (0.363 sec)\n",
            "INFO:tensorflow:global_step/sec: 275.915\n",
            "INFO:tensorflow:loss = 0.000748214, step = 33801 (0.363 sec)\n",
            "INFO:tensorflow:global_step/sec: 276.576\n",
            "INFO:tensorflow:loss = 0.00131901, step = 33901 (0.361 sec)\n",
            "INFO:tensorflow:global_step/sec: 284.903\n",
            "INFO:tensorflow:loss = 0.000670225, step = 34001 (0.351 sec)\n",
            "INFO:tensorflow:global_step/sec: 276.821\n",
            "INFO:tensorflow:loss = 0.000450342, step = 34101 (0.361 sec)\n",
            "INFO:tensorflow:global_step/sec: 277.079\n",
            "INFO:tensorflow:loss = 0.000841561, step = 34201 (0.361 sec)\n",
            "INFO:tensorflow:global_step/sec: 281.336\n",
            "INFO:tensorflow:loss = 6.17028e-05, step = 34301 (0.355 sec)\n",
            "INFO:tensorflow:global_step/sec: 278.382\n",
            "INFO:tensorflow:loss = 0.000459303, step = 34401 (0.359 sec)\n",
            "INFO:tensorflow:global_step/sec: 269.763\n",
            "INFO:tensorflow:loss = 0.000597536, step = 34501 (0.371 sec)\n",
            "INFO:tensorflow:global_step/sec: 272.618\n",
            "INFO:tensorflow:loss = 0.000769435, step = 34601 (0.367 sec)\n",
            "INFO:tensorflow:global_step/sec: 270.01\n",
            "INFO:tensorflow:loss = 0.00135843, step = 34701 (0.370 sec)\n",
            "INFO:tensorflow:global_step/sec: 271.424\n",
            "INFO:tensorflow:loss = 0.000578101, step = 34801 (0.368 sec)\n",
            "INFO:tensorflow:global_step/sec: 276.912\n",
            "INFO:tensorflow:loss = 0.00073319, step = 34901 (0.361 sec)\n",
            "INFO:tensorflow:global_step/sec: 276.679\n",
            "INFO:tensorflow:loss = 0.000370906, step = 35001 (0.361 sec)\n",
            "INFO:tensorflow:global_step/sec: 276.448\n",
            "INFO:tensorflow:loss = 0.000730111, step = 35101 (0.362 sec)\n",
            "INFO:tensorflow:global_step/sec: 276.483\n",
            "INFO:tensorflow:loss = 0.000277908, step = 35201 (0.362 sec)\n",
            "INFO:tensorflow:global_step/sec: 283.463\n",
            "INFO:tensorflow:loss = 0.000204776, step = 35301 (0.353 sec)\n",
            "INFO:tensorflow:global_step/sec: 275.394\n",
            "INFO:tensorflow:loss = 0.000886762, step = 35401 (0.364 sec)\n",
            "INFO:tensorflow:global_step/sec: 276.339\n",
            "INFO:tensorflow:loss = 0.000182803, step = 35501 (0.361 sec)\n",
            "INFO:tensorflow:global_step/sec: 277.292\n",
            "INFO:tensorflow:loss = 0.000151252, step = 35601 (0.361 sec)\n",
            "INFO:tensorflow:global_step/sec: 276.998\n",
            "INFO:tensorflow:loss = 0.000531974, step = 35701 (0.361 sec)\n",
            "INFO:tensorflow:global_step/sec: 286.614\n",
            "INFO:tensorflow:loss = 0.000612825, step = 35801 (0.350 sec)\n",
            "INFO:tensorflow:global_step/sec: 280.007\n",
            "INFO:tensorflow:loss = 0.000611698, step = 35901 (0.356 sec)\n",
            "INFO:tensorflow:global_step/sec: 278.39\n",
            "INFO:tensorflow:loss = 0.000409064, step = 36001 (0.360 sec)\n",
            "INFO:tensorflow:global_step/sec: 273.978\n",
            "INFO:tensorflow:loss = 0.00114623, step = 36101 (0.365 sec)\n",
            "INFO:tensorflow:global_step/sec: 276.894\n",
            "INFO:tensorflow:loss = 0.000693847, step = 36201 (0.361 sec)\n",
            "INFO:tensorflow:global_step/sec: 274.944\n",
            "INFO:tensorflow:loss = 0.000304874, step = 36301 (0.364 sec)\n",
            "INFO:tensorflow:global_step/sec: 272.871\n",
            "INFO:tensorflow:loss = 0.000787903, step = 36401 (0.366 sec)\n",
            "INFO:tensorflow:global_step/sec: 276.718\n",
            "INFO:tensorflow:loss = 0.00034652, step = 36501 (0.361 sec)\n",
            "INFO:tensorflow:global_step/sec: 276.32\n",
            "INFO:tensorflow:loss = 0.000368568, step = 36601 (0.362 sec)\n",
            "INFO:tensorflow:global_step/sec: 283.111\n",
            "INFO:tensorflow:loss = 0.000183166, step = 36701 (0.353 sec)\n",
            "INFO:tensorflow:global_step/sec: 275.835\n",
            "INFO:tensorflow:loss = 0.000876315, step = 36801 (0.363 sec)\n",
            "INFO:tensorflow:global_step/sec: 273.343\n",
            "INFO:tensorflow:loss = 0.000590142, step = 36901 (0.366 sec)\n",
            "INFO:tensorflow:global_step/sec: 278.174\n",
            "INFO:tensorflow:loss = 0.000692333, step = 37001 (0.360 sec)\n",
            "INFO:tensorflow:global_step/sec: 275.992\n",
            "INFO:tensorflow:loss = 0.000193175, step = 37101 (0.362 sec)\n",
            "INFO:tensorflow:global_step/sec: 274.716\n",
            "INFO:tensorflow:loss = 0.000331365, step = 37201 (0.364 sec)\n",
            "INFO:tensorflow:global_step/sec: 278.953\n",
            "INFO:tensorflow:loss = 0.000435899, step = 37301 (0.358 sec)\n",
            "INFO:tensorflow:global_step/sec: 272.738\n",
            "INFO:tensorflow:loss = 0.000237859, step = 37401 (0.367 sec)\n",
            "INFO:tensorflow:global_step/sec: 276.02\n",
            "INFO:tensorflow:loss = 0.000186664, step = 37501 (0.362 sec)\n",
            "INFO:tensorflow:global_step/sec: 272.959\n",
            "INFO:tensorflow:loss = 0.000360693, step = 37601 (0.367 sec)\n",
            "INFO:tensorflow:global_step/sec: 280.778\n",
            "INFO:tensorflow:loss = 4.63197e-05, step = 37701 (0.356 sec)\n"
          ],
          "name": "stdout"
        },
        {
          "output_type": "stream",
          "text": [
            "INFO:tensorflow:global_step/sec: 275.159\n",
            "INFO:tensorflow:loss = 0.000313697, step = 37801 (0.363 sec)\n",
            "INFO:tensorflow:global_step/sec: 285.704\n",
            "INFO:tensorflow:loss = 0.00160112, step = 37901 (0.350 sec)\n",
            "INFO:tensorflow:global_step/sec: 279.196\n",
            "INFO:tensorflow:loss = 0.000224668, step = 38001 (0.359 sec)\n",
            "INFO:tensorflow:global_step/sec: 274.841\n",
            "INFO:tensorflow:loss = 0.000573888, step = 38101 (0.364 sec)\n",
            "INFO:tensorflow:global_step/sec: 279.045\n",
            "INFO:tensorflow:loss = 0.000553393, step = 38201 (0.358 sec)\n",
            "INFO:tensorflow:global_step/sec: 283.45\n",
            "INFO:tensorflow:loss = 6.32394e-05, step = 38301 (0.353 sec)\n",
            "INFO:tensorflow:global_step/sec: 281.766\n",
            "INFO:tensorflow:loss = 0.00025808, step = 38401 (0.355 sec)\n",
            "INFO:tensorflow:global_step/sec: 281.463\n",
            "INFO:tensorflow:loss = 0.000395036, step = 38501 (0.355 sec)\n",
            "INFO:tensorflow:global_step/sec: 281.13\n",
            "INFO:tensorflow:loss = 0.000591041, step = 38601 (0.356 sec)\n",
            "INFO:tensorflow:global_step/sec: 276.128\n",
            "INFO:tensorflow:loss = 0.000467431, step = 38701 (0.362 sec)\n",
            "INFO:tensorflow:global_step/sec: 279.203\n",
            "INFO:tensorflow:loss = 0.00033499, step = 38801 (0.358 sec)\n",
            "INFO:tensorflow:global_step/sec: 279.388\n",
            "INFO:tensorflow:loss = 0.00108282, step = 38901 (0.358 sec)\n",
            "INFO:tensorflow:global_step/sec: 281.416\n",
            "INFO:tensorflow:loss = 0.00018453, step = 39001 (0.355 sec)\n",
            "INFO:tensorflow:global_step/sec: 278.97\n",
            "INFO:tensorflow:loss = 0.00113696, step = 39101 (0.358 sec)\n",
            "INFO:tensorflow:global_step/sec: 276.698\n",
            "INFO:tensorflow:loss = 0.000447005, step = 39201 (0.361 sec)\n",
            "INFO:tensorflow:global_step/sec: 278.716\n",
            "INFO:tensorflow:loss = 0.000147304, step = 39301 (0.359 sec)\n",
            "INFO:tensorflow:global_step/sec: 278.44\n",
            "INFO:tensorflow:loss = 0.000723853, step = 39401 (0.359 sec)\n",
            "INFO:tensorflow:global_step/sec: 275.535\n",
            "INFO:tensorflow:loss = 0.000113582, step = 39501 (0.363 sec)\n",
            "INFO:tensorflow:global_step/sec: 273.708\n",
            "INFO:tensorflow:loss = 0.0004956, step = 39601 (0.365 sec)\n",
            "INFO:tensorflow:global_step/sec: 274.236\n",
            "INFO:tensorflow:loss = 0.000120862, step = 39701 (0.365 sec)\n",
            "INFO:tensorflow:global_step/sec: 270.874\n",
            "INFO:tensorflow:loss = 0.00106938, step = 39801 (0.369 sec)\n",
            "INFO:tensorflow:global_step/sec: 279.928\n",
            "INFO:tensorflow:loss = 0.000971133, step = 39901 (0.357 sec)\n",
            "INFO:tensorflow:Saving checkpoints for 40000 into /var/folders/59/0pbnsns93t5cgn8b5n2kpxt00000gn/T/tmprwlwyxhh/model.ckpt.\n",
            "INFO:tensorflow:Loss for final step: 0.000290076.\n"
          ],
          "name": "stdout"
        },
        {
          "output_type": "execute_result",
          "data": {
            "text/plain": [
              "DNNClassifier(params={'head': <tensorflow.contrib.learn.python.learn.estimators.head._MultiClassHead object at 0x127770cf8>, 'hidden_units': [300, 100], 'feature_columns': (_RealValuedColumn(column_name='', dimension=784, default_value=None, dtype=tf.float32, normalizer=None),), 'optimizer': None, 'activation_fn': <function relu at 0x123466378>, 'dropout': None, 'gradient_clip_norm': None, 'embedding_lr_multipliers': None, 'input_layer_min_slice_size': None})"
            ]
          },
          "metadata": {
            "tags": []
          },
          "execution_count": 12
        }
      ]
    },
    {
      "cell_type": "code",
      "metadata": {
        "id": "sMN_-zA7ivEE",
        "outputId": "e4ed6764-202f-43e6-a3e0-89276a411121"
      },
      "source": [
        "from sklearn.metrics import accuracy_score\n",
        "\n",
        "y_pred = list(dnn_clf.predict(X_test))\n",
        "accuracy = accuracy_score(y_test, y_pred)\n",
        "accuracy"
      ],
      "execution_count": null,
      "outputs": [
        {
          "output_type": "stream",
          "text": [
            "WARNING:tensorflow:From /Users/linghuang/anaconda3/envs/tensorflow/lib/python3.6/site-packages/tensorflow/contrib/learn/python/learn/estimators/dnn.py:374: calling BaseEstimator.predict (from tensorflow.contrib.learn.python.learn.estimators.estimator) with x is deprecated and will be removed after 2016-12-01.\n",
            "Instructions for updating:\n",
            "Estimator is decoupled from Scikit Learn interface by moving into\n",
            "separate class SKCompat. Arguments x, y and batch_size are only\n",
            "available in the SKCompat class, Estimator will only accept input_fn.\n",
            "Example conversion:\n",
            "  est = Estimator(...) -> est = SKCompat(Estimator(...))\n"
          ],
          "name": "stdout"
        },
        {
          "output_type": "stream",
          "text": [
            "/Users/linghuang/anaconda3/envs/tensorflow/lib/python3.6/site-packages/tensorflow/python/util/deprecation.py:247: FutureWarning: comparison to `None` will result in an elementwise object comparison in the future.\n",
            "  equality = a == b\n"
          ],
          "name": "stderr"
        },
        {
          "output_type": "execute_result",
          "data": {
            "text/plain": [
              "0.98360000000000003"
            ]
          },
          "metadata": {
            "tags": []
          },
          "execution_count": 19
        }
      ]
    },
    {
      "cell_type": "code",
      "metadata": {
        "id": "6gJzEKzAivEE",
        "outputId": "b08742cc-a86f-4eff-d87e-1eb570979e3b"
      },
      "source": [
        "from sklearn.metrics import log_loss\n",
        "\n",
        "y_pred_proba = list(dnn_clf.predict_proba(X_test))\n",
        "log_loss(y_test, y_pred_proba)"
      ],
      "execution_count": null,
      "outputs": [
        {
          "output_type": "stream",
          "text": [
            "WARNING:tensorflow:From /Users/linghuang/anaconda3/envs/tensorflow/lib/python3.6/site-packages/tensorflow/contrib/learn/python/learn/estimators/dnn.py:409: calling BaseEstimator.predict (from tensorflow.contrib.learn.python.learn.estimators.estimator) with x is deprecated and will be removed after 2016-12-01.\n",
            "Instructions for updating:\n",
            "Estimator is decoupled from Scikit Learn interface by moving into\n",
            "separate class SKCompat. Arguments x, y and batch_size are only\n",
            "available in the SKCompat class, Estimator will only accept input_fn.\n",
            "Example conversion:\n",
            "  est = Estimator(...) -> est = SKCompat(Estimator(...))\n"
          ],
          "name": "stdout"
        },
        {
          "output_type": "stream",
          "text": [
            "/Users/linghuang/anaconda3/envs/tensorflow/lib/python3.6/site-packages/tensorflow/python/util/deprecation.py:247: FutureWarning: comparison to `None` will result in an elementwise object comparison in the future.\n",
            "  equality = a == b\n"
          ],
          "name": "stderr"
        },
        {
          "output_type": "execute_result",
          "data": {
            "text/plain": [
              "0.066553695423989159"
            ]
          },
          "metadata": {
            "tags": []
          },
          "execution_count": 21
        }
      ]
    },
    {
      "cell_type": "code",
      "metadata": {
        "id": "HechHOxXivEF",
        "outputId": "4d0037b6-24df-4b09-b2e9-dd4438fd0b9b"
      },
      "source": [
        "dnn_clf.evaluate(X_test, y_test)"
      ],
      "execution_count": null,
      "outputs": [
        {
          "output_type": "stream",
          "text": [
            "WARNING:tensorflow:From <ipython-input-22-8442dafa3532>:1: calling BaseEstimator.evaluate (from tensorflow.contrib.learn.python.learn.estimators.estimator) with x is deprecated and will be removed after 2016-12-01.\n",
            "Instructions for updating:\n",
            "Estimator is decoupled from Scikit Learn interface by moving into\n",
            "separate class SKCompat. Arguments x, y and batch_size are only\n",
            "available in the SKCompat class, Estimator will only accept input_fn.\n",
            "Example conversion:\n",
            "  est = Estimator(...) -> est = SKCompat(Estimator(...))\n",
            "WARNING:tensorflow:From <ipython-input-22-8442dafa3532>:1: calling BaseEstimator.evaluate (from tensorflow.contrib.learn.python.learn.estimators.estimator) with y is deprecated and will be removed after 2016-12-01.\n",
            "Instructions for updating:\n",
            "Estimator is decoupled from Scikit Learn interface by moving into\n",
            "separate class SKCompat. Arguments x, y and batch_size are only\n",
            "available in the SKCompat class, Estimator will only accept input_fn.\n",
            "Example conversion:\n",
            "  est = Estimator(...) -> est = SKCompat(Estimator(...))\n",
            "WARNING:tensorflow:From /Users/linghuang/anaconda3/envs/tensorflow/lib/python3.6/site-packages/tensorflow/contrib/learn/python/learn/estimators/head.py:1362: scalar_summary (from tensorflow.python.ops.logging_ops) is deprecated and will be removed after 2016-11-30.\n",
            "Instructions for updating:\n",
            "Please switch to tf.summary.scalar. Note that tf.summary.scalar uses the node name instead of the tag. This means that TensorFlow will automatically de-duplicate summary names based on the scope they are created in. Also, passing a tensor or list of tags to a scalar summary op is no longer supported.\n"
          ],
          "name": "stdout"
        },
        {
          "output_type": "stream",
          "text": [
            "/Users/linghuang/anaconda3/envs/tensorflow/lib/python3.6/site-packages/tensorflow/python/util/deprecation.py:247: FutureWarning: comparison to `None` will result in an elementwise object comparison in the future.\n",
            "  equality = a == b\n"
          ],
          "name": "stderr"
        },
        {
          "output_type": "stream",
          "text": [
            "INFO:tensorflow:Starting evaluation at 2017-02-23-21:53:18\n",
            "INFO:tensorflow:Finished evaluation at 2017-02-23-21:53:20\n",
            "INFO:tensorflow:Saving dict for global step 40000: accuracy = 0.9836, auc = 0.997866, global_step = 40000, loss = 0.0665535\n",
            "WARNING:tensorflow:Skipping summary for global_step, must be a float or np.float32.\n"
          ],
          "name": "stdout"
        },
        {
          "output_type": "execute_result",
          "data": {
            "text/plain": [
              "{'accuracy': 0.98360002,\n",
              " 'auc': 0.99786645,\n",
              " 'global_step': 40000,\n",
              " 'loss': 0.066553511}"
            ]
          },
          "metadata": {
            "tags": []
          },
          "execution_count": 22
        }
      ]
    },
    {
      "cell_type": "markdown",
      "metadata": {
        "id": "pn9dtKF4ivEF"
      },
      "source": [
        "## Using plain TensorFlow"
      ]
    },
    {
      "cell_type": "code",
      "metadata": {
        "collapsed": true,
        "id": "6cTrK_C3ivEF"
      },
      "source": [
        "import tensorflow as tf\n",
        "\n",
        "def neuron_layer(X, n_neurons, name, activation=None):\n",
        "    with tf.name_scope(name):\n",
        "        n_inputs = int(X.get_shape()[1])\n",
        "        stddev = 1 / np.sqrt(n_inputs)\n",
        "        init = tf.truncated_normal((n_inputs, n_neurons), stddev=stddev)\n",
        "        W = tf.Variable(init, name=\"weights\")\n",
        "        b = tf.Variable(tf.zeros([n_neurons]), name=\"biases\")\n",
        "        Z = tf.matmul(X, W) + b\n",
        "        if activation==\"relu\":\n",
        "            return tf.nn.relu(Z)\n",
        "        else:\n",
        "            return Z"
      ],
      "execution_count": null,
      "outputs": []
    },
    {
      "cell_type": "markdown",
      "metadata": {
        "id": "vfo8LWxIivEF"
      },
      "source": [
        "### Construction Phase"
      ]
    },
    {
      "cell_type": "code",
      "metadata": {
        "collapsed": true,
        "id": "4askfAd1ivEF"
      },
      "source": [
        "tf.reset_default_graph()\n",
        "\n",
        "n_inputs = 28*28  # MNIST\n",
        "n_hidden1 = 300\n",
        "n_hidden2 = 100\n",
        "n_outputs = 10\n",
        "learning_rate = 0.01\n",
        "\n",
        "X = tf.placeholder(tf.float32, shape=(None, n_inputs), name=\"X\")\n",
        "y = tf.placeholder(tf.int64, shape=(None), name=\"y\")\n",
        "\n",
        "with tf.name_scope(\"dnn\"):\n",
        "    hidden1 = neuron_layer(X, n_hidden1, \"hidden1\", activation=\"relu\")\n",
        "    hidden2 = neuron_layer(hidden1, n_hidden2, \"hidden2\", activation=\"relu\")\n",
        "    logits = neuron_layer(hidden2, n_outputs, \"output\")\n",
        "\n",
        "with tf.name_scope(\"loss\"):\n",
        "    xentropy = tf.nn.sparse_softmax_cross_entropy_with_logits(labels=y, logits=logits)\n",
        "    loss = tf.reduce_mean(xentropy, name=\"loss\")\n",
        "\n",
        "with tf.name_scope(\"train\"):\n",
        "    optimizer = tf.train.GradientDescentOptimizer(learning_rate)\n",
        "    training_op = optimizer.minimize(loss)\n",
        "\n",
        "with tf.name_scope(\"eval\"):\n",
        "    correct = tf.nn.in_top_k(logits, y, 1)\n",
        "    accuracy = tf.reduce_mean(tf.cast(correct, tf.float32))\n",
        "    \n",
        "init = tf.global_variables_initializer()\n",
        "saver = tf.train.Saver()"
      ],
      "execution_count": null,
      "outputs": []
    },
    {
      "cell_type": "markdown",
      "metadata": {
        "id": "QmjgkwyDivEG"
      },
      "source": [
        "### Execution Phase"
      ]
    },
    {
      "cell_type": "code",
      "metadata": {
        "id": "LZR7MQ4livEG",
        "outputId": "09675460-1363-427f-e0e3-a0e5c7758890"
      },
      "source": [
        "n_epochs = 20\n",
        "batch_size = 50\n",
        "\n",
        "with tf.Session() as sess:\n",
        "    init.run()\n",
        "    for epoch in range(n_epochs):\n",
        "        for iteration in range(mnist.train.num_examples // batch_size):\n",
        "            X_batch, y_batch = mnist.train.next_batch(batch_size)\n",
        "            sess.run(training_op, feed_dict={X: X_batch, y: y_batch})\n",
        "        acc_train = accuracy.eval(feed_dict={X: X_batch, y: y_batch})\n",
        "        acc_test = accuracy.eval(feed_dict={X: mnist.test.images, y: mnist.test.labels})\n",
        "        print(epoch, \"Train accuracy:\", acc_train, \"Test accuracy:\", acc_test)\n",
        "\n",
        "    save_path = saver.save(sess, \"./my_model_final.ckpt\")"
      ],
      "execution_count": null,
      "outputs": [
        {
          "output_type": "stream",
          "text": [
            "0 Train accuracy: 0.86 Test accuracy: 0.8861\n",
            "1 Train accuracy: 0.98 Test accuracy: 0.9095\n",
            "2 Train accuracy: 0.94 Test accuracy: 0.9179\n",
            "3 Train accuracy: 0.9 Test accuracy: 0.9256\n",
            "4 Train accuracy: 0.92 Test accuracy: 0.932\n",
            "5 Train accuracy: 0.88 Test accuracy: 0.9376\n",
            "6 Train accuracy: 1.0 Test accuracy: 0.9407\n",
            "7 Train accuracy: 1.0 Test accuracy: 0.9451\n",
            "8 Train accuracy: 1.0 Test accuracy: 0.9467\n",
            "9 Train accuracy: 0.96 Test accuracy: 0.9507\n",
            "10 Train accuracy: 1.0 Test accuracy: 0.9525\n",
            "11 Train accuracy: 1.0 Test accuracy: 0.9546\n",
            "12 Train accuracy: 0.98 Test accuracy: 0.9558\n",
            "13 Train accuracy: 0.96 Test accuracy: 0.958\n",
            "14 Train accuracy: 1.0 Test accuracy: 0.9601\n",
            "15 Train accuracy: 0.98 Test accuracy: 0.961\n",
            "16 Train accuracy: 0.98 Test accuracy: 0.9624\n",
            "17 Train accuracy: 1.0 Test accuracy: 0.9654\n",
            "18 Train accuracy: 1.0 Test accuracy: 0.9659\n",
            "19 Train accuracy: 0.98 Test accuracy: 0.9672\n"
          ],
          "name": "stdout"
        }
      ]
    },
    {
      "cell_type": "code",
      "metadata": {
        "id": "5vstqLyTivEG",
        "outputId": "5ae6960d-f2d0-43bd-9fa6-3e98a92ae6d7"
      },
      "source": [
        "with tf.Session() as sess:\n",
        "    saver.restore(sess, save_path) #\"my_model_final.ckpt\")\n",
        "    X_new_scaled = mnist.test.images[:20]\n",
        "    Z = logits.eval(feed_dict={X: X_new_scaled})\n",
        "    print(np.argmax(Z, axis=1))\n",
        "    print(mnist.test.labels[:20])"
      ],
      "execution_count": null,
      "outputs": [
        {
          "output_type": "stream",
          "text": [
            "INFO:tensorflow:Restoring parameters from ./my_model_final.ckpt\n",
            "[7 2 1 0 4 1 4 9 6 9 0 6 9 0 1 5 9 7 3 4]\n",
            "[7 2 1 0 4 1 4 9 5 9 0 6 9 0 1 5 9 7 3 4]\n"
          ],
          "name": "stdout"
        }
      ]
    },
    {
      "cell_type": "markdown",
      "metadata": {
        "id": "gfmnTkRDivEH"
      },
      "source": [
        "## deep MLP on the MNIST"
      ]
    },
    {
      "cell_type": "code",
      "metadata": {
        "collapsed": true,
        "id": "n5DScPMsivEH"
      },
      "source": [
        "tf.reset_default_graph()\n",
        "\n",
        "from tensorflow.contrib.layers import fully_connected\n",
        "\n",
        "n_inputs = 28*28  # MNIST\n",
        "n_hidden1 = 300\n",
        "n_hidden2 = 100\n",
        "n_outputs = 10\n",
        "learning_rate = 0.01\n",
        "\n",
        "X = tf.placeholder(tf.float32, shape=(None, n_inputs), name=\"X\")\n",
        "y = tf.placeholder(tf.int64, shape=(None), name=\"y\")\n",
        "\n",
        "with tf.name_scope(\"dnn\"):\n",
        "    hidden1 = fully_connected(X, n_hidden1, scope=\"hidden1\")\n",
        "    hidden2 = fully_connected(hidden1, n_hidden2, scope=\"hidden2\")\n",
        "    logits = fully_connected(hidden2, n_outputs, activation_fn=None, scope=\"outputs\")\n",
        "\n",
        "with tf.name_scope(\"loss\"):\n",
        "    xentropy = tf.nn.sparse_softmax_cross_entropy_with_logits(labels=y, logits=logits)\n",
        "    loss = tf.reduce_mean(xentropy, name=\"loss\")\n",
        "\n",
        "with tf.name_scope(\"train\"):\n",
        "    optimizer = tf.train.GradientDescentOptimizer(learning_rate)\n",
        "    training_op = optimizer.minimize(loss)\n",
        "\n",
        "with tf.name_scope(\"eval\"):\n",
        "    correct = tf.nn.in_top_k(logits, y, 1)\n",
        "    accuracy = tf.reduce_mean(tf.cast(correct, tf.float32))\n",
        "    \n",
        "init = tf.global_variables_initializer()\n",
        "saver = tf.train.Saver()"
      ],
      "execution_count": null,
      "outputs": []
    },
    {
      "cell_type": "code",
      "metadata": {
        "id": "0dQGmoGkivEH",
        "outputId": "e4f44d5f-da7e-4542-b5a2-ac9b8dfda5d1"
      },
      "source": [
        "n_epochs = 20\n",
        "n_batches = 50\n",
        "\n",
        "with tf.Session() as sess:\n",
        "    init.run()\n",
        "    for epoch in range(n_epochs):\n",
        "        for iteration in range(mnist.train.num_examples // batch_size):\n",
        "            X_batch, y_batch = mnist.train.next_batch(batch_size)\n",
        "            sess.run(training_op, feed_dict={X: X_batch, y: y_batch})\n",
        "        acc_train = accuracy.eval(feed_dict={X: X_batch, y: y_batch})\n",
        "        acc_test = accuracy.eval(feed_dict={X: mnist.test.images, y: mnist.test.labels})\n",
        "        print(epoch, \"Train accuracy:\", acc_train, \"Test accuracy:\", acc_test)\n",
        "\n",
        "    save_path = saver.save(sess, \"./my_model_final.ckpt\")"
      ],
      "execution_count": null,
      "outputs": [
        {
          "output_type": "stream",
          "text": [
            "0 Train accuracy: 0.84 Test accuracy: 0.9053\n",
            "1 Train accuracy: 1.0 Test accuracy: 0.9191\n",
            "2 Train accuracy: 0.92 Test accuracy: 0.9315\n",
            "3 Train accuracy: 0.94 Test accuracy: 0.9374\n",
            "4 Train accuracy: 0.92 Test accuracy: 0.9429\n",
            "5 Train accuracy: 0.98 Test accuracy: 0.9474\n",
            "6 Train accuracy: 0.98 Test accuracy: 0.9495\n",
            "7 Train accuracy: 0.98 Test accuracy: 0.9538\n",
            "8 Train accuracy: 0.96 Test accuracy: 0.9556\n",
            "9 Train accuracy: 0.98 Test accuracy: 0.9589\n",
            "10 Train accuracy: 0.94 Test accuracy: 0.961\n",
            "11 Train accuracy: 0.98 Test accuracy: 0.9631\n",
            "12 Train accuracy: 0.98 Test accuracy: 0.9624\n",
            "13 Train accuracy: 1.0 Test accuracy: 0.9646\n",
            "14 Train accuracy: 0.96 Test accuracy: 0.9655\n",
            "15 Train accuracy: 1.0 Test accuracy: 0.9668\n",
            "16 Train accuracy: 1.0 Test accuracy: 0.968\n",
            "17 Train accuracy: 1.0 Test accuracy: 0.9689\n",
            "18 Train accuracy: 1.0 Test accuracy: 0.9682\n",
            "19 Train accuracy: 0.98 Test accuracy: 0.9691\n"
          ],
          "name": "stdout"
        }
      ]
    },
    {
      "cell_type": "code",
      "metadata": {
        "collapsed": true,
        "id": "XSCiDXYWivEH"
      },
      "source": [
        ""
      ],
      "execution_count": null,
      "outputs": []
    }
  ]
}