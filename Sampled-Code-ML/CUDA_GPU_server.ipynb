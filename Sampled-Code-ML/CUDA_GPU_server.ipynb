{
  "nbformat": 4,
  "nbformat_minor": 0,
  "metadata": {
    "colab": {
      "name": "CUDA_GPU_server.ipynb",
      "provenance": [],
      "collapsed_sections": [],
      "toc_visible": true,
      "machine_shape": "hm"
    },
    "kernelspec": {
      "name": "python3",
      "display_name": "Python 3"
    },
    "accelerator": "GPU"
  },
  "cells": [
    {
      "cell_type": "markdown",
      "metadata": {
        "id": "7KYvm7elVabs"
      },
      "source": [
        "# Check GPU status\n",
        "\n",
        "Make surre to use : GPU runtime mode (Runtime->Change Runtime type -> python3 + GPU\n",
        ")\n",
        "\n"
      ]
    },
    {
      "cell_type": "code",
      "metadata": {
        "id": "-nwY1_gYVcpc",
        "colab": {
          "base_uri": "https://localhost:8080/"
        },
        "outputId": "df8174a8-4594-456b-aa53-be22fa1923e8"
      },
      "source": [
        "# Check nvidia and nvcc cuda compiler\n",
        "\n",
        "!nvidia-smi\n",
        "!/usr/local/cuda/bin/nvcc --version"
      ],
      "execution_count": 1,
      "outputs": [
        {
          "output_type": "stream",
          "text": [
            "Tue Feb 16 02:24:40 2021       \n",
            "+-----------------------------------------------------------------------------+\n",
            "| NVIDIA-SMI 460.39       Driver Version: 460.32.03    CUDA Version: 11.2     |\n",
            "|-------------------------------+----------------------+----------------------+\n",
            "| GPU  Name        Persistence-M| Bus-Id        Disp.A | Volatile Uncorr. ECC |\n",
            "| Fan  Temp  Perf  Pwr:Usage/Cap|         Memory-Usage | GPU-Util  Compute M. |\n",
            "|                               |                      |               MIG M. |\n",
            "|===============================+======================+======================|\n",
            "|   0  Tesla P100-PCIE...  Off  | 00000000:00:04.0 Off |                    0 |\n",
            "| N/A   39C    P0    28W / 250W |      0MiB / 16280MiB |      0%      Default |\n",
            "|                               |                      |                  N/A |\n",
            "+-------------------------------+----------------------+----------------------+\n",
            "                                                                               \n",
            "+-----------------------------------------------------------------------------+\n",
            "| Processes:                                                                  |\n",
            "|  GPU   GI   CI        PID   Type   Process name                  GPU Memory |\n",
            "|        ID   ID                                                   Usage      |\n",
            "|=============================================================================|\n",
            "|  No running processes found                                                 |\n",
            "+-----------------------------------------------------------------------------+\n",
            "nvcc: NVIDIA (R) Cuda compiler driver\n",
            "Copyright (c) 2005-2019 NVIDIA Corporation\n",
            "Built on Sun_Jul_28_19:07:16_PDT_2019\n",
            "Cuda compilation tools, release 10.1, V10.1.243\n"
          ],
          "name": "stdout"
        }
      ]
    },
    {
      "cell_type": "markdown",
      "metadata": {
        "id": "FT66Rd6yV3ib"
      },
      "source": [
        "#Mount Goolge Drive"
      ]
    },
    {
      "cell_type": "code",
      "metadata": {
        "id": "tUCE2A_DVeMe",
        "colab": {
          "base_uri": "https://localhost:8080/"
        },
        "outputId": "e4fbba85-8281-439b-a16b-6b98cd1affd3"
      },
      "source": [
        "# link to google drive\n",
        "\n",
        "from google.colab import drive\n",
        "drive.mount('/content/gdrive/')\n"
      ],
      "execution_count": 2,
      "outputs": [
        {
          "output_type": "stream",
          "text": [
            "Mounted at /content/gdrive/\n"
          ],
          "name": "stdout"
        }
      ]
    },
    {
      "cell_type": "code",
      "metadata": {
        "id": "7j2NLxcrV9hj",
        "colab": {
          "base_uri": "https://localhost:8080/"
        },
        "outputId": "cf7c91d9-8aa2-41e0-8e42-d9162efe63e3"
      },
      "source": [
        "#check that Gdrive is mounted\n",
        "\n",
        "!ls '/content/gdrive/My Drive/Colab Notebooks'"
      ],
      "execution_count": 3,
      "outputs": [
        {
          "output_type": "stream",
          "text": [
            "'16_nlp_with_rnns_and_attention (1).ipynb'\n",
            " 16_nlp_with_rnns_and_attention.ipynb\n",
            " Bert-GPU.ipynb\n",
            " Chap1_Introduction_PyTorch.ipynb\n",
            " Chap3_NN_Components.ipynb\n",
            " Chap4_MLP_CNN.ipynb\n",
            " Chap5.ipynb\n",
            "'Chap8_Encoder–decoder (1).ipynb'\n",
            " Chap8_Encoder–decoder.ipynb\n",
            "'ColabEnv (1).ipynb'\n",
            " ColabEnv.ipynb\n",
            "'Copy of Welcome To Colaboratory'\n",
            "'Copy of Welcome To Colaboratory (1)'\n",
            "'Copy of Welcome To Colaboratory (2)'\n",
            " CUDA_GPU_server.ipynb\n",
            " data\n",
            " model_storage\n",
            " NLP-LOTClass.ipynb\n",
            " pyTorchApexipynb.ipynb\n",
            " Transformers.ipynb\n",
            " Untitled\n",
            " Untitled0.ipynb\n",
            " Untitled1.ipynb\n"
          ],
          "name": "stdout"
        }
      ]
    },
    {
      "cell_type": "markdown",
      "metadata": {
        "id": "Ftyme-AIYFgK"
      },
      "source": [
        "#Setup SSH port forwarding"
      ]
    },
    {
      "cell_type": "code",
      "metadata": {
        "id": "C0t3EVVaWbUJ",
        "colab": {
          "base_uri": "https://localhost:8080/"
        },
        "outputId": "5a6c4f32-e9fe-48b4-c0b7-66558fb29935"
      },
      "source": [
        "#1 - setup ssh/user \n",
        "\n",
        "\n",
        "#Generate a random root password\n",
        "import random, string\n",
        "password = ''.join(random.choice(string.ascii_letters + string.digits) for i in range(30))\n",
        "\n",
        "\n",
        "#Setup sshd\n",
        "! apt-get install -qq -o=Dpkg::Use-Pty=0 openssh-server pwgen > /dev/null\n",
        "\n",
        "#Set root password\n",
        "! echo root:$password | chpasswd\n",
        "! mkdir -p /var/run/sshd\n",
        "! echo \"PermitRootLogin yes\" >> /etc/ssh/sshd_config\n",
        "! echo \"PasswordAuthentication yes\" >> /etc/ssh/sshd_config\n",
        "\n",
        "print(\"username: root\")\n",
        "print(\"password: \", password)\n",
        "\n",
        "#Run sshd\n",
        "get_ipython().system_raw('/usr/sbin/sshd -D &')"
      ],
      "execution_count": 4,
      "outputs": [
        {
          "output_type": "stream",
          "text": [
            "\n",
            "Creating config file /etc/ssh/sshd_config with new version\n",
            "Creating SSH2 RSA key; this may take some time ...\n",
            "2048 SHA256:WV1TD+gq1z6rEVvVVrDOzxnqXxkZ4gXRlCn0R54z1rE root@3643e2525dab (RSA)\n",
            "Creating SSH2 ECDSA key; this may take some time ...\n",
            "256 SHA256:6cUurFkh4QN4fwYZeohxmCIBTQFhza/5wVG000JpSK8 root@3643e2525dab (ECDSA)\n",
            "Creating SSH2 ED25519 key; this may take some time ...\n",
            "256 SHA256:obh2RWcjBZS3LgfEjeh681m+n49fossrHbZLElgvFg0 root@3643e2525dab (ED25519)\n",
            "Created symlink /etc/systemd/system/sshd.service → /lib/systemd/system/ssh.service.\n",
            "Created symlink /etc/systemd/system/multi-user.target.wants/ssh.service → /lib/systemd/system/ssh.service.\n",
            "invoke-rc.d: could not determine current runlevel\n",
            "invoke-rc.d: policy-rc.d denied execution of start.\n",
            "username: root\n",
            "password:  jaf8Hu0jZXntiED8ltcZbSUcXNQWfF\n"
          ],
          "name": "stdout"
        }
      ]
    },
    {
      "cell_type": "code",
      "metadata": {
        "id": "H_1iQGAtYvCq"
      },
      "source": [
        "# 2 - Download Ngrok\n",
        "\n",
        "! wget -q -c -nc https://bin.equinox.io/c/4VmDzA7iaHb/ngrok-stable-linux-amd64.zip\n",
        "! unzip -qq -n ngrok-stable-linux-amd64.zip"
      ],
      "execution_count": 5,
      "outputs": []
    },
    {
      "cell_type": "code",
      "metadata": {
        "id": "68P192JwZBtF",
        "colab": {
          "base_uri": "https://localhost:8080/"
        },
        "outputId": "c87cdc52-523e-4ca1-8e23-7b09cab7bba0"
      },
      "source": [
        "# 3 - setup Ngrok - authtoken\n",
        "\n",
        "#Ask token\n",
        "print(\"Get your authtoken from https://dashboard.ngrok.com/auth\")\n",
        "import getpass\n",
        "authtoken = getpass.getpass()\n",
        "\n",
        "#Create tunnel\n",
        "get_ipython().system_raw('./ngrok authtoken $authtoken && ./ngrok tcp 22 &')"
      ],
      "execution_count": 6,
      "outputs": [
        {
          "output_type": "stream",
          "text": [
            "Get your authtoken from https://dashboard.ngrok.com/auth\n",
            "··········\n"
          ],
          "name": "stdout"
        }
      ]
    },
    {
      "cell_type": "markdown",
      "metadata": {
        "id": "N5sGgljXaTjL"
      },
      "source": [
        "Congratulations, you are ready to go. \n",
        "On Ngrok interface https://dashboard.ngrok.com/status you'll find the tcp address and the port \n",
        "\n",
        "connect using the following : \n",
        "\n",
        "```\n",
        "ssh root@0.tcp.ngrok.io -p [ngrok_port]\n",
        "\n",
        "> then enter the password generated previously\n",
        "\n",
        "ssh root@2.tcp.ngrok.io -p 12024\n",
        "```"
      ]
    },
    {
      "cell_type": "code",
      "metadata": {
        "id": "pKdI3RZzfR_l"
      },
      "source": [
        "# When done, kill Ngrok\n",
        "\n",
        "!kill $(ps aux | grep './ngrok' | awk '{print $2}')"
      ],
      "execution_count": null,
      "outputs": []
    },
    {
      "cell_type": "code",
      "metadata": {
        "colab": {
          "base_uri": "https://localhost:8080/"
        },
        "id": "H2nDQM804UPA",
        "outputId": "a9590e41-c9d4-4cc5-eab4-b999b73b924e"
      },
      "source": [
        "# Mount Google Drive and make some folders for vscode\n",
        "from google.colab import drive\n",
        "drive.mount('/googledrive')\n",
        "! mkdir -p /googledrive/My\\ Drive/colabdrive\n",
        "! mkdir -p /googledrive/My\\ Drive/colabdrive/root/.local/share/code-server\n",
        "! ln -s /googledrive/My\\ Drive/colabdrive /\n",
        "! ln -s /googledrive/My\\ Drive/colabdrive/root/.local/share/code-server /root/.local/share/"
      ],
      "execution_count": 7,
      "outputs": [
        {
          "output_type": "stream",
          "text": [
            "Mounted at /googledrive\n"
          ],
          "name": "stdout"
        }
      ]
    },
    {
      "cell_type": "code",
      "metadata": {
        "colab": {
          "base_uri": "https://localhost:8080/"
        },
        "id": "tPRrLPD44Vv6",
        "outputId": "bcf4e392-6ad3-4296-f9db-98434996276a"
      },
      "source": [
        "! curl -fsSL https://code-server.dev/install.sh | sh > /dev/null\n",
        "! code-server --bind-addr 127.0.0.1:9999 --auth none &\n"
      ],
      "execution_count": 8,
      "outputs": [
        {
          "output_type": "stream",
          "text": [
            "######################################################################## 100.0%\n",
            "[2021-02-16T03:29:01.877Z] \u001b[38;2;0;143;191minfo  \u001b[0mWrote default config file to ~/.config/code-server/config.yaml\u001b[0m\n",
            "[2021-02-16T03:29:02.346Z] info  code-server 3.9.0 fc6d123da59a4e5a675ac8e080f66e032ba01a1b\n",
            "[2021-02-16T03:29:02.348Z] info  Using user-data-dir ~/.local/share/code-server\n",
            "[2021-02-16T03:29:02.368Z] info  Using config file ~/.config/code-server/config.yaml\n",
            "[2021-02-16T03:29:02.368Z] info  HTTP server listening on http://127.0.0.1:9999 \n",
            "[2021-02-16T03:29:02.369Z] info    - Authentication is disabled \n",
            "[2021-02-16T03:29:02.369Z] info    - Not serving HTTPS \n"
          ],
          "name": "stdout"
        }
      ]
    },
    {
      "cell_type": "code",
      "metadata": {
        "id": "IMr2ANJE509l"
      },
      "source": [
        "ssh -L 9999:localhost:9999 root@2.tcp.ngrok.io -p 12024"
      ],
      "execution_count": null,
      "outputs": []
    },
    {
      "cell_type": "code",
      "metadata": {
        "id": "dUFtcDCoC4aJ"
      },
      "source": [
        "https://towardsdatascience.com/colab-free-gpu-ssh-visual-studio-code-server-36fe1d3c5243"
      ],
      "execution_count": null,
      "outputs": []
    }
  ]
}