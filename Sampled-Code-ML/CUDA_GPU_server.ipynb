{
  "nbformat": 4,
  "nbformat_minor": 0,
  "metadata": {
    "colab": {
      "name": "CUDA_GPU_server.ipynb",
      "provenance": [],
      "collapsed_sections": [],
      "machine_shape": "hm"
    },
    "kernelspec": {
      "name": "python3",
      "display_name": "Python 3"
    },
    "accelerator": "GPU"
  },
  "cells": [
    {
      "cell_type": "markdown",
      "metadata": {
        "id": "7KYvm7elVabs"
      },
      "source": [
        "# Check GPU status\n",
        "\n",
        "Make surre to use : GPU runtime mode (Runtime->Change Runtime type -> python3 + GPU\n",
        ")\n",
        "\n"
      ]
    },
    {
      "cell_type": "code",
      "metadata": {
        "id": "-nwY1_gYVcpc",
        "colab": {
          "base_uri": "https://localhost:8080/"
        },
        "outputId": "435925f2-0c38-4a77-d1e9-87eb4b93629a"
      },
      "source": [
        "# Check nvidia and nvcc cuda compiler\n",
        "\n",
        "!nvidia-smi\n",
        "!/usr/local/cuda/bin/nvcc --version"
      ],
      "execution_count": null,
      "outputs": [
        {
          "output_type": "stream",
          "text": [
            "Tue Feb 16 16:41:39 2021       \n",
            "+-----------------------------------------------------------------------------+\n",
            "| NVIDIA-SMI 460.39       Driver Version: 460.32.03    CUDA Version: 11.2     |\n",
            "|-------------------------------+----------------------+----------------------+\n",
            "| GPU  Name        Persistence-M| Bus-Id        Disp.A | Volatile Uncorr. ECC |\n",
            "| Fan  Temp  Perf  Pwr:Usage/Cap|         Memory-Usage | GPU-Util  Compute M. |\n",
            "|                               |                      |               MIG M. |\n",
            "|===============================+======================+======================|\n",
            "|   0  Tesla V100-SXM2...  Off  | 00000000:00:04.0 Off |                    0 |\n",
            "| N/A   35C    P0    25W / 300W |      0MiB / 16160MiB |      0%      Default |\n",
            "|                               |                      |                  N/A |\n",
            "+-------------------------------+----------------------+----------------------+\n",
            "                                                                               \n",
            "+-----------------------------------------------------------------------------+\n",
            "| Processes:                                                                  |\n",
            "|  GPU   GI   CI        PID   Type   Process name                  GPU Memory |\n",
            "|        ID   ID                                                   Usage      |\n",
            "|=============================================================================|\n",
            "|  No running processes found                                                 |\n",
            "+-----------------------------------------------------------------------------+\n",
            "nvcc: NVIDIA (R) Cuda compiler driver\n",
            "Copyright (c) 2005-2019 NVIDIA Corporation\n",
            "Built on Sun_Jul_28_19:07:16_PDT_2019\n",
            "Cuda compilation tools, release 10.1, V10.1.243\n"
          ],
          "name": "stdout"
        }
      ]
    },
    {
      "cell_type": "markdown",
      "metadata": {
        "id": "FT66Rd6yV3ib"
      },
      "source": [
        "#Mount Goolge Drive"
      ]
    },
    {
      "cell_type": "code",
      "metadata": {
        "id": "tUCE2A_DVeMe",
        "colab": {
          "base_uri": "https://localhost:8080/"
        },
        "outputId": "dba7326b-00fb-4957-bdba-933727cdce0f"
      },
      "source": [
        "# link to google drive\n",
        "\n",
        "from google.colab import drive\n",
        "drive.mount('/content/gdrive/')\n"
      ],
      "execution_count": null,
      "outputs": [
        {
          "output_type": "stream",
          "text": [
            "Mounted at /content/gdrive/\n"
          ],
          "name": "stdout"
        }
      ]
    },
    {
      "cell_type": "code",
      "metadata": {
        "id": "7j2NLxcrV9hj",
        "colab": {
          "base_uri": "https://localhost:8080/"
        },
        "outputId": "0b629f6d-d49e-45bb-cc2c-f3ef95f8cff0"
      },
      "source": [
        "#check that Gdrive is mounted\n",
        "\n",
        "!ls '/content/gdrive/My Drive/Colab Notebooks'"
      ],
      "execution_count": null,
      "outputs": [
        {
          "output_type": "stream",
          "text": [
            "'16_nlp_with_rnns_and_attention (1).ipynb'\n",
            " 16_nlp_with_rnns_and_attention.ipynb\n",
            " Bert-GPU.ipynb\n",
            " Chap1_Introduction_PyTorch.ipynb\n",
            " Chap3_NN_Components.ipynb\n",
            " Chap4_MLP_CNN.ipynb\n",
            " Chap5.ipynb\n",
            "'Chap8_Encoder–decoder (1).ipynb'\n",
            " Chap8_Encoder–decoder.ipynb\n",
            "'ColabEnv (1).ipynb'\n",
            " ColabEnv.ipynb\n",
            "'Copy of Welcome To Colaboratory'\n",
            "'Copy of Welcome To Colaboratory (1)'\n",
            "'Copy of Welcome To Colaboratory (2)'\n",
            " CUDA_GPU_server.ipynb\n",
            " data\n",
            " model_storage\n",
            " NLP-LOTClass.ipynb\n",
            " pyTorchApexipynb.ipynb\n",
            " Transformers.ipynb\n",
            " Untitled\n",
            " Untitled0.ipynb\n",
            " Untitled1.ipynb\n"
          ],
          "name": "stdout"
        }
      ]
    },
    {
      "cell_type": "markdown",
      "metadata": {
        "id": "Ftyme-AIYFgK"
      },
      "source": [
        "#Setup SSH port forwarding"
      ]
    },
    {
      "cell_type": "code",
      "metadata": {
        "id": "C0t3EVVaWbUJ",
        "colab": {
          "base_uri": "https://localhost:8080/"
        },
        "outputId": "eb2e17f2-8688-4730-f596-ccac2ce50a32"
      },
      "source": [
        "#1 - setup ssh/user \n",
        "\n",
        "\n",
        "#Generate a random root password\n",
        "import random, string\n",
        "password = ''.join(random.choice(string.ascii_letters + string.digits) for i in range(30))\n",
        "\n",
        "\n",
        "#Setup sshd\n",
        "! apt-get install -qq -o=Dpkg::Use-Pty=0 openssh-server pwgen > /dev/null\n",
        "\n",
        "#Set root password\n",
        "! echo root:$password | chpasswd\n",
        "! mkdir -p /var/run/sshd\n",
        "! echo \"PermitRootLogin yes\" >> /etc/ssh/sshd_config\n",
        "! echo \"PasswordAuthentication yes\" >> /etc/ssh/sshd_config\n",
        "\n",
        "print(\"username: root\")\n",
        "print(\"password: \", password)\n",
        "\n",
        "#Run sshd\n",
        "get_ipython().system_raw('/usr/sbin/sshd -D &')"
      ],
      "execution_count": null,
      "outputs": [
        {
          "output_type": "stream",
          "text": [
            "username: root\n",
            "password:  nD4zg6tjR8EZ1eMmQI39x0l0QmQrN9\n"
          ],
          "name": "stdout"
        }
      ]
    },
    {
      "cell_type": "code",
      "metadata": {
        "id": "H_1iQGAtYvCq"
      },
      "source": [
        "# 2 - Download Ngrok\n",
        "\n",
        "! wget -q -c -nc https://bin.equinox.io/c/4VmDzA7iaHb/ngrok-stable-linux-amd64.zip\n",
        "! unzip -qq -n ngrok-stable-linux-amd64.zip"
      ],
      "execution_count": null,
      "outputs": []
    },
    {
      "cell_type": "code",
      "metadata": {
        "id": "68P192JwZBtF",
        "colab": {
          "base_uri": "https://localhost:8080/"
        },
        "outputId": "ff1b4bdc-77c9-4dde-a9b6-be54db7f3f3a"
      },
      "source": [
        "# 3 - setup Ngrok - authtoken\n",
        "\n",
        "#Ask token\n",
        "print(\"Get your authtoken from https://dashboard.ngrok.com/auth\")\n",
        "import getpass\n",
        "authtoken = getpass.getpass()\n",
        "\n",
        "#Create tunnel\n",
        "get_ipython().system_raw('./ngrok authtoken $authtoken && ./ngrok tcp 22 &')"
      ],
      "execution_count": null,
      "outputs": [
        {
          "output_type": "stream",
          "text": [
            "Get your authtoken from https://dashboard.ngrok.com/auth\n",
            "··········\n"
          ],
          "name": "stdout"
        }
      ]
    },
    {
      "cell_type": "markdown",
      "metadata": {
        "id": "N5sGgljXaTjL"
      },
      "source": [
        "Congratulations, you are ready to go. \n",
        "On Ngrok interface https://dashboard.ngrok.com/status you'll find the tcp address and the port \n",
        "\n",
        "connect using the following : \n",
        "\n",
        "```\n",
        "ssh root@0.tcp.ngrok.io -p [ngrok_port]\n",
        "\n",
        "> then enter the password generated previously\n",
        "\n",
        "ssh root@2.tcp.ngrok.io -p 12024\n",
        "ssh root@4.tcp.ngrok.io -p 10942\n",
        "ssh root@2.tcp.ngrok.io -p 13462\n",
        "```"
      ]
    },
    {
      "cell_type": "code",
      "metadata": {
        "id": "pKdI3RZzfR_l"
      },
      "source": [
        "# When done, kill Ngrok\n",
        "\n",
        "!kill $(ps aux | grep './ngrok' | awk '{print $2}')"
      ],
      "execution_count": null,
      "outputs": []
    },
    {
      "cell_type": "code",
      "metadata": {
        "colab": {
          "base_uri": "https://localhost:8080/"
        },
        "id": "H2nDQM804UPA",
        "outputId": "d2de92f5-cfba-4cd0-88c0-0fe4a9b6c682"
      },
      "source": [
        "# Mount Google Drive and make some folders for vscode\n",
        "from google.colab import drive\n",
        "drive.mount('/googledrive')\n",
        "! mkdir -p /googledrive/My\\ Drive/colabdrive\n",
        "! mkdir -p /googledrive/My\\ Drive/colabdrive/root/.local/share/code-server\n",
        "! ln -s /googledrive/My\\ Drive/colabdrive /\n",
        "! ln -s /googledrive/My\\ Drive/colabdrive/root/.local/share/code-server /root/.local/share/"
      ],
      "execution_count": null,
      "outputs": [
        {
          "output_type": "stream",
          "text": [
            "Drive already mounted at /googledrive; to attempt to forcibly remount, call drive.mount(\"/googledrive\", force_remount=True).\n",
            "ln: failed to create symbolic link '/colabdrive': File exists\n",
            "ln: failed to create symbolic link '/root/.local/share/code-server': File exists\n"
          ],
          "name": "stdout"
        }
      ]
    },
    {
      "cell_type": "code",
      "metadata": {
        "colab": {
          "base_uri": "https://localhost:8080/"
        },
        "id": "tPRrLPD44Vv6",
        "outputId": "f30755de-2a3b-4f26-8639-c9f3a96fe184"
      },
      "source": [
        "! curl -fsSL https://code-server.dev/install.sh | sh > /dev/null\n",
        "! code-server --bind-addr 127.0.0.1:9998 --auth none &\n"
      ],
      "execution_count": null,
      "outputs": [
        {
          "output_type": "stream",
          "text": [
            "[2021-02-16T16:44:49.004Z] info  code-server 3.9.0 fc6d123da59a4e5a675ac8e080f66e032ba01a1b\n",
            "[2021-02-16T16:44:49.005Z] info  Using user-data-dir ~/.local/share/code-server\n",
            "[2021-02-16T16:44:49.021Z] info  Using config file ~/.config/code-server/config.yaml\n",
            "[2021-02-16T16:44:49.021Z] info  HTTP server listening on http://127.0.0.1:9998 \n",
            "[2021-02-16T16:44:49.021Z] info    - Authentication is disabled \n",
            "[2021-02-16T16:44:49.021Z] info    - Not serving HTTPS \n",
            "[2021-02-16T18:24:44.619Z] error vscode Handshake timed out \u001b[38;2;140;140;140m{\"token\":\"dfe2bfe5-d6dc-4483-a151-459449212814\"}\u001b[0m\n",
            "events.js:292\n",
            "      throw er; // Unhandled 'error' event\n",
            "      ^\n",
            "\n",
            "Error: write EPIPE\n",
            "    at WriteWrap.onWriteComplete [as oncomplete] (internal/stream_base_commons.js:92:16)\n",
            "Emitted 'error' event on Socket instance at:\n",
            "    at errorOrDestroy (internal/streams/destroy.js:108:12)\n",
            "    at onwriteError (_stream_writable.js:424:5)\n",
            "    at onwrite (_stream_writable.js:445:5)\n",
            "    at internal/streams/destroy.js:50:7\n",
            "    at Socket._destroy (net.js:679:5)\n",
            "    at Socket.destroy (internal/streams/destroy.js:38:8)\n",
            "    at WriteWrap.onWriteComplete [as oncomplete] (internal/stream_base_commons.js:93:12) {\n",
            "  errno: 'EPIPE',\n",
            "  code: 'EPIPE',\n",
            "  syscall: 'write'\n",
            "}\n",
            "[2021-02-16T20:08:33.107Z] error VS Code exited unexpectedly with code 1\n",
            "[2021-02-16T20:08:34.677Z] error vscode is not running Error: vscode is not running\n",
            "    at VscodeProvider.send (/usr/lib/code-server/out/node/vscode.js:206:19)\n",
            "    at VscodeProvider.<anonymous> (/usr/lib/code-server/out/node/vscode.js:198:30)\n",
            "    at step (/usr/lib/code-server/out/node/vscode.js:63:23)\n",
            "    at Object.next (/usr/lib/code-server/out/node/vscode.js:44:53)\n",
            "    at fulfilled (/usr/lib/code-server/out/node/vscode.js:35:58)\n",
            "    at processTicksAndRejections (internal/process/task_queues.js:97:5)\n"
          ],
          "name": "stdout"
        }
      ]
    },
    {
      "cell_type": "code",
      "metadata": {
        "id": "IMr2ANJE509l"
      },
      "source": [
        "ssh -L 9999:localhost:9999 root@2.tcp.ngrok.io -p 12024\n",
        "ssh -L 9998:localhost:9998 root@4.tcp.ngrok.io -p 10942\n",
        "ssh -L 9998:localhost:9998 root@2.tcp.ngrok.io -p 13462"
      ],
      "execution_count": null,
      "outputs": []
    },
    {
      "cell_type": "code",
      "metadata": {
        "id": "dUFtcDCoC4aJ"
      },
      "source": [
        "https://towardsdatascience.com/colab-free-gpu-ssh-visual-studio-code-server-36fe1d3c5243"
      ],
      "execution_count": null,
      "outputs": []
    },
    {
      "cell_type": "markdown",
      "metadata": {
        "id": "TAiDTwWZygfb"
      },
      "source": [
        "https://github.com/yumeng5/LOTClass/issues/2"
      ]
    },
    {
      "cell_type": "markdown",
      "metadata": {
        "id": "KO6PVrUFzN15"
      },
      "source": [
        "\n",
        "```\n",
        "export CUDA_DEVICE_ORDER=PCI_BUS_ID\n",
        "export CUDA_VISIBLE_DEVICES=0,1\n",
        "\n",
        "DATASET=agnews\n",
        "LABEL_NAME_FILE=label_names.txt\n",
        "TRAIN_CORPUS=train.txt\n",
        "TEST_CORPUS=test.txt\n",
        "TEST_LABEL=test_labels.txt\n",
        "MAX_LEN=200\n",
        "TRAIN_BATCH=32\n",
        "ACCUM_STEP=4\n",
        "EVAL_BATCH=128\n",
        "GPUS=1\n",
        "MCP_EPOCH=3\n",
        "SELF_TRAIN_EPOCH=1\n",
        "\n",
        "python3 src/train.py --dataset_dir datasets/${DATASET}/ --label_names_file ${LABEL_NAME_FILE} \\\n",
        "                    --train_file ${TRAIN_CORPUS} \\\n",
        "                    --test_file ${TEST_CORPUS} --test_label_file ${TEST_LABEL} \\\n",
        "                    --max_len ${MAX_LEN} \\\n",
        "                    --train_batch_size ${TRAIN_BATCH} --accum_steps ${ACCUM_STEP} --eval_batch_size ${EVAL_BATCH} \\\n",
        "                    --gpus ${GPUS} \\\n",
        "                    --mcp_epochs ${MCP_EPOCH} --self_train_epochs ${SELF_TRAIN_EPOCH} \\\n",
        "```"
      ]
    },
    {
      "cell_type": "markdown",
      "metadata": {
        "id": "eSUfS11izOwk"
      },
      "source": [
        "pip3 install \"transformers==3.3.1\""
      ]
    },
    {
      "cell_type": "markdown",
      "metadata": {
        "id": "wivHmet26E9B"
      },
      "source": [
        "On Linux, NCCL and torch.distributed will be enabled by default. On MacOs, with PyTorch 1.3.1+, you need to conda install libuv and pkg-config explicitly set USE_DISTRIBUTED=1 when compiling from source. For Windows, torch.distributed is not enabled yet."
      ]
    }
  ]
}