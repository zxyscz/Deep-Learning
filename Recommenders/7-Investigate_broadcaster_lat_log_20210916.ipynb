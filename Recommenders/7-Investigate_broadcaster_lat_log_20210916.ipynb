{
 "cells": [
  {
   "cell_type": "markdown",
   "id": "60a09534",
   "metadata": {},
   "source": [
    "### Read-in downloaded data"
   ]
  },
  {
   "cell_type": "code",
   "execution_count": 1,
   "id": "dbc34a39",
   "metadata": {},
   "outputs": [],
   "source": [
    "import pandas as pd"
   ]
  },
  {
   "cell_type": "code",
   "execution_count": 2,
   "id": "6a32ca20",
   "metadata": {},
   "outputs": [],
   "source": [
    "## 2021-09-16"
   ]
  },
  {
   "cell_type": "code",
   "execution_count": 3,
   "id": "64f2afe6",
   "metadata": {},
   "outputs": [],
   "source": [
    "data = pd.read_csv(\"0e9cd673-8e06-4810-b370-8b9930ee312a.csv\", index_col = False)"
   ]
  },
  {
   "cell_type": "code",
   "execution_count": 4,
   "id": "eb4a4548",
   "metadata": {},
   "outputs": [
    {
     "data": {
      "text/html": [
       "<div>\n",
       "<style scoped>\n",
       "    .dataframe tbody tr th:only-of-type {\n",
       "        vertical-align: middle;\n",
       "    }\n",
       "\n",
       "    .dataframe tbody tr th {\n",
       "        vertical-align: top;\n",
       "    }\n",
       "\n",
       "    .dataframe thead th {\n",
       "        text-align: right;\n",
       "    }\n",
       "</style>\n",
       "<table border=\"1\" class=\"dataframe\">\n",
       "  <thead>\n",
       "    <tr style=\"text-align: right;\">\n",
       "      <th></th>\n",
       "      <th>viewer_id</th>\n",
       "      <th>broadcaster_id</th>\n",
       "      <th>viewer_age</th>\n",
       "      <th>viewer_gender</th>\n",
       "      <th>viewer_longitude</th>\n",
       "      <th>viewer_latitude</th>\n",
       "      <th>viewer_lang</th>\n",
       "      <th>viewer_country</th>\n",
       "      <th>broadcaster_age</th>\n",
       "      <th>broadcaster_gender</th>\n",
       "      <th>broadcaster_longitude</th>\n",
       "      <th>broadcaster_latitude</th>\n",
       "      <th>broadcaster_lang</th>\n",
       "      <th>broadcaster_country</th>\n",
       "      <th>duration</th>\n",
       "      <th>viewer_network</th>\n",
       "      <th>broadcaster_network</th>\n",
       "      <th>count</th>\n",
       "    </tr>\n",
       "  </thead>\n",
       "  <tbody>\n",
       "    <tr>\n",
       "      <th>0</th>\n",
       "      <td>pof:333765857</td>\n",
       "      <td>pof:306180728</td>\n",
       "      <td>30.0</td>\n",
       "      <td>male</td>\n",
       "      <td>-96.7000</td>\n",
       "      <td>32.9000</td>\n",
       "      <td>en</td>\n",
       "      <td>US</td>\n",
       "      <td>37.0</td>\n",
       "      <td>female</td>\n",
       "      <td>-90.000000</td>\n",
       "      <td>35.000000</td>\n",
       "      <td>en</td>\n",
       "      <td>US</td>\n",
       "      <td>11891</td>\n",
       "      <td>pof</td>\n",
       "      <td>pof</td>\n",
       "      <td>7</td>\n",
       "    </tr>\n",
       "    <tr>\n",
       "      <th>1</th>\n",
       "      <td>meetme:277560515</td>\n",
       "      <td>meetme:234128276</td>\n",
       "      <td>40.0</td>\n",
       "      <td>female</td>\n",
       "      <td>151.2071</td>\n",
       "      <td>-33.8671</td>\n",
       "      <td>en</td>\n",
       "      <td>US</td>\n",
       "      <td>33.0</td>\n",
       "      <td>male</td>\n",
       "      <td>-118.380100</td>\n",
       "      <td>34.093900</td>\n",
       "      <td>en</td>\n",
       "      <td>US</td>\n",
       "      <td>173</td>\n",
       "      <td>meetme</td>\n",
       "      <td>meetme</td>\n",
       "      <td>2</td>\n",
       "    </tr>\n",
       "    <tr>\n",
       "      <th>2</th>\n",
       "      <td>pof:290015550</td>\n",
       "      <td>meetme:318374085</td>\n",
       "      <td>25.0</td>\n",
       "      <td>male</td>\n",
       "      <td>-82.4000</td>\n",
       "      <td>29.6000</td>\n",
       "      <td>en</td>\n",
       "      <td>US</td>\n",
       "      <td>43.0</td>\n",
       "      <td>female</td>\n",
       "      <td>-82.599500</td>\n",
       "      <td>29.647600</td>\n",
       "      <td>en</td>\n",
       "      <td>US</td>\n",
       "      <td>248</td>\n",
       "      <td>pof</td>\n",
       "      <td>meetme</td>\n",
       "      <td>2</td>\n",
       "    </tr>\n",
       "    <tr>\n",
       "      <th>3</th>\n",
       "      <td>meetme:57803631</td>\n",
       "      <td>meetme:272213699</td>\n",
       "      <td>24.0</td>\n",
       "      <td>male</td>\n",
       "      <td>-77.6036</td>\n",
       "      <td>-9.3225</td>\n",
       "      <td>es</td>\n",
       "      <td>ES</td>\n",
       "      <td>33.0</td>\n",
       "      <td>female</td>\n",
       "      <td>-71.349000</td>\n",
       "      <td>-33.050300</td>\n",
       "      <td>es</td>\n",
       "      <td>CL</td>\n",
       "      <td>10544</td>\n",
       "      <td>meetme</td>\n",
       "      <td>meetme</td>\n",
       "      <td>3</td>\n",
       "    </tr>\n",
       "    <tr>\n",
       "      <th>4</th>\n",
       "      <td>meetme:177581880</td>\n",
       "      <td>skout:178541757</td>\n",
       "      <td>39.0</td>\n",
       "      <td>male</td>\n",
       "      <td>-95.5769</td>\n",
       "      <td>30.7240</td>\n",
       "      <td>en</td>\n",
       "      <td>US</td>\n",
       "      <td>36.0</td>\n",
       "      <td>female</td>\n",
       "      <td>-117.210999</td>\n",
       "      <td>34.132999</td>\n",
       "      <td>en</td>\n",
       "      <td>US</td>\n",
       "      <td>98</td>\n",
       "      <td>meetme</td>\n",
       "      <td>skout</td>\n",
       "      <td>1</td>\n",
       "    </tr>\n",
       "  </tbody>\n",
       "</table>\n",
       "</div>"
      ],
      "text/plain": [
       "          viewer_id    broadcaster_id  viewer_age viewer_gender  \\\n",
       "0     pof:333765857     pof:306180728        30.0          male   \n",
       "1  meetme:277560515  meetme:234128276        40.0        female   \n",
       "2     pof:290015550  meetme:318374085        25.0          male   \n",
       "3   meetme:57803631  meetme:272213699        24.0          male   \n",
       "4  meetme:177581880   skout:178541757        39.0          male   \n",
       "\n",
       "   viewer_longitude  viewer_latitude viewer_lang viewer_country  \\\n",
       "0          -96.7000          32.9000          en             US   \n",
       "1          151.2071         -33.8671          en             US   \n",
       "2          -82.4000          29.6000          en             US   \n",
       "3          -77.6036          -9.3225          es             ES   \n",
       "4          -95.5769          30.7240          en             US   \n",
       "\n",
       "   broadcaster_age broadcaster_gender  broadcaster_longitude  \\\n",
       "0             37.0             female             -90.000000   \n",
       "1             33.0               male            -118.380100   \n",
       "2             43.0             female             -82.599500   \n",
       "3             33.0             female             -71.349000   \n",
       "4             36.0             female            -117.210999   \n",
       "\n",
       "   broadcaster_latitude broadcaster_lang broadcaster_country  duration  \\\n",
       "0             35.000000               en                  US     11891   \n",
       "1             34.093900               en                  US       173   \n",
       "2             29.647600               en                  US       248   \n",
       "3            -33.050300               es                  CL     10544   \n",
       "4             34.132999               en                  US        98   \n",
       "\n",
       "  viewer_network broadcaster_network  count  \n",
       "0            pof                 pof      7  \n",
       "1         meetme              meetme      2  \n",
       "2            pof              meetme      2  \n",
       "3         meetme              meetme      3  \n",
       "4         meetme               skout      1  "
      ]
     },
     "execution_count": 4,
     "metadata": {},
     "output_type": "execute_result"
    }
   ],
   "source": [
    "data.head()"
   ]
  },
  {
   "cell_type": "code",
   "execution_count": 5,
   "id": "4d570544",
   "metadata": {},
   "outputs": [
    {
     "name": "stdout",
     "output_type": "stream",
     "text": [
      "<class 'pandas.core.frame.DataFrame'>\n",
      "RangeIndex: 5243852 entries, 0 to 5243851\n",
      "Data columns (total 18 columns):\n",
      " #   Column                 Dtype  \n",
      "---  ------                 -----  \n",
      " 0   viewer_id              object \n",
      " 1   broadcaster_id         object \n",
      " 2   viewer_age             float64\n",
      " 3   viewer_gender          object \n",
      " 4   viewer_longitude       float64\n",
      " 5   viewer_latitude        float64\n",
      " 6   viewer_lang            object \n",
      " 7   viewer_country         object \n",
      " 8   broadcaster_age        float64\n",
      " 9   broadcaster_gender     object \n",
      " 10  broadcaster_longitude  float64\n",
      " 11  broadcaster_latitude   float64\n",
      " 12  broadcaster_lang       object \n",
      " 13  broadcaster_country    object \n",
      " 14  duration               int64  \n",
      " 15  viewer_network         object \n",
      " 16  broadcaster_network    object \n",
      " 17  count                  int64  \n",
      "dtypes: float64(6), int64(2), object(10)\n",
      "memory usage: 720.1+ MB\n"
     ]
    }
   ],
   "source": [
    "data.info()"
   ]
  },
  {
   "cell_type": "code",
   "execution_count": 6,
   "id": "ee34df59",
   "metadata": {},
   "outputs": [],
   "source": [
    "import os\n",
    "import tempfile\n",
    "from typing import Dict, Text\n",
    "import pprint "
   ]
  },
  {
   "cell_type": "code",
   "execution_count": 7,
   "id": "412e38ac",
   "metadata": {},
   "outputs": [],
   "source": [
    "import numpy as np\n",
    "import tensorflow as tf\n",
    "import tensorflow_recommenders as tfrs"
   ]
  },
  {
   "cell_type": "code",
   "execution_count": 8,
   "id": "0ec4a2fd",
   "metadata": {},
   "outputs": [
    {
     "data": {
      "text/plain": [
       "(5243852, 18)"
      ]
     },
     "execution_count": 8,
     "metadata": {},
     "output_type": "execute_result"
    }
   ],
   "source": [
    "data.shape"
   ]
  },
  {
   "cell_type": "markdown",
   "id": "afe40d6d",
   "metadata": {},
   "source": [
    "### Clearning, transforming, and preparing the data"
   ]
  },
  {
   "cell_type": "code",
   "execution_count": 9,
   "id": "5da3f3f6",
   "metadata": {},
   "outputs": [],
   "source": [
    "df_geo = data[['broadcaster_latitude', 'broadcaster_longitude']]"
   ]
  },
  {
   "cell_type": "code",
   "execution_count": 10,
   "id": "87337e7e",
   "metadata": {},
   "outputs": [
    {
     "data": {
      "text/html": [
       "<div>\n",
       "<style scoped>\n",
       "    .dataframe tbody tr th:only-of-type {\n",
       "        vertical-align: middle;\n",
       "    }\n",
       "\n",
       "    .dataframe tbody tr th {\n",
       "        vertical-align: top;\n",
       "    }\n",
       "\n",
       "    .dataframe thead th {\n",
       "        text-align: right;\n",
       "    }\n",
       "</style>\n",
       "<table border=\"1\" class=\"dataframe\">\n",
       "  <thead>\n",
       "    <tr style=\"text-align: right;\">\n",
       "      <th></th>\n",
       "      <th>broadcaster_latitude</th>\n",
       "      <th>broadcaster_longitude</th>\n",
       "    </tr>\n",
       "  </thead>\n",
       "  <tbody>\n",
       "    <tr>\n",
       "      <th>0</th>\n",
       "      <td>35.000000</td>\n",
       "      <td>-90.000000</td>\n",
       "    </tr>\n",
       "    <tr>\n",
       "      <th>1</th>\n",
       "      <td>34.093900</td>\n",
       "      <td>-118.380100</td>\n",
       "    </tr>\n",
       "    <tr>\n",
       "      <th>2</th>\n",
       "      <td>29.647600</td>\n",
       "      <td>-82.599500</td>\n",
       "    </tr>\n",
       "    <tr>\n",
       "      <th>3</th>\n",
       "      <td>-33.050300</td>\n",
       "      <td>-71.349000</td>\n",
       "    </tr>\n",
       "    <tr>\n",
       "      <th>4</th>\n",
       "      <td>34.132999</td>\n",
       "      <td>-117.210999</td>\n",
       "    </tr>\n",
       "  </tbody>\n",
       "</table>\n",
       "</div>"
      ],
      "text/plain": [
       "   broadcaster_latitude  broadcaster_longitude\n",
       "0             35.000000             -90.000000\n",
       "1             34.093900            -118.380100\n",
       "2             29.647600             -82.599500\n",
       "3            -33.050300             -71.349000\n",
       "4             34.132999            -117.210999"
      ]
     },
     "execution_count": 10,
     "metadata": {},
     "output_type": "execute_result"
    }
   ],
   "source": [
    "df_geo.head()"
   ]
  },
  {
   "cell_type": "code",
   "execution_count": 11,
   "id": "446cbee1",
   "metadata": {},
   "outputs": [
    {
     "name": "stdout",
     "output_type": "stream",
     "text": [
      "<class 'pandas.core.frame.DataFrame'>\n",
      "RangeIndex: 5243852 entries, 0 to 5243851\n",
      "Data columns (total 2 columns):\n",
      " #   Column                 Dtype  \n",
      "---  ------                 -----  \n",
      " 0   broadcaster_latitude   float64\n",
      " 1   broadcaster_longitude  float64\n",
      "dtypes: float64(2)\n",
      "memory usage: 80.0 MB\n"
     ]
    }
   ],
   "source": [
    "df_geo.info()"
   ]
  },
  {
   "cell_type": "code",
   "execution_count": 12,
   "id": "8644984b",
   "metadata": {},
   "outputs": [
    {
     "data": {
      "text/plain": [
       "False"
      ]
     },
     "execution_count": 12,
     "metadata": {},
     "output_type": "execute_result"
    }
   ],
   "source": [
    "missing_values = df_geo.isnull().values.any()\n",
    "missing_values"
   ]
  },
  {
   "cell_type": "code",
   "execution_count": 13,
   "id": "edc5fca4",
   "metadata": {},
   "outputs": [
    {
     "data": {
      "text/html": [
       "<div>\n",
       "<style scoped>\n",
       "    .dataframe tbody tr th:only-of-type {\n",
       "        vertical-align: middle;\n",
       "    }\n",
       "\n",
       "    .dataframe tbody tr th {\n",
       "        vertical-align: top;\n",
       "    }\n",
       "\n",
       "    .dataframe thead th {\n",
       "        text-align: right;\n",
       "    }\n",
       "</style>\n",
       "<table border=\"1\" class=\"dataframe\">\n",
       "  <thead>\n",
       "    <tr style=\"text-align: right;\">\n",
       "      <th></th>\n",
       "      <th>broadcaster_latitude</th>\n",
       "      <th>broadcaster_longitude</th>\n",
       "    </tr>\n",
       "  </thead>\n",
       "  <tbody>\n",
       "  </tbody>\n",
       "</table>\n",
       "</div>"
      ],
      "text/plain": [
       "Empty DataFrame\n",
       "Columns: [broadcaster_latitude, broadcaster_longitude]\n",
       "Index: []"
      ]
     },
     "execution_count": 13,
     "metadata": {},
     "output_type": "execute_result"
    }
   ],
   "source": [
    "df_geo[df_geo.isnull().any(axis=1)]"
   ]
  },
  {
   "cell_type": "code",
   "execution_count": 14,
   "id": "7703cd73",
   "metadata": {},
   "outputs": [],
   "source": [
    "data_train = df_geo.values.astype('float32')"
   ]
  },
  {
   "cell_type": "code",
   "execution_count": 15,
   "id": "aeed1f7d",
   "metadata": {},
   "outputs": [
    {
     "data": {
      "text/plain": [
       "array([[  35.    ,  -90.    ],\n",
       "       [  34.0939, -118.3801],\n",
       "       [  29.6476,  -82.5995],\n",
       "       ...,\n",
       "       [  40.8   ,  -73.9   ],\n",
       "       [  28.5883,  -81.3312],\n",
       "       [  30.2   ,  -81.5   ]], dtype=float32)"
      ]
     },
     "execution_count": 15,
     "metadata": {},
     "output_type": "execute_result"
    }
   ],
   "source": [
    "data_train"
   ]
  },
  {
   "cell_type": "code",
   "execution_count": 16,
   "id": "2f1b4121",
   "metadata": {},
   "outputs": [],
   "source": [
    "from sklearn.cluster import KMeans\n",
    "from sklearn.decomposition import PCA"
   ]
  },
  {
   "cell_type": "code",
   "execution_count": 21,
   "id": "aa1716d1",
   "metadata": {},
   "outputs": [],
   "source": [
    "from datetime import datetime"
   ]
  },
  {
   "cell_type": "code",
   "execution_count": 22,
   "id": "6e9df217",
   "metadata": {},
   "outputs": [],
   "source": [
    "kmeans = KMeans(n_clusters = 10, verbose = 0, n_init=32, n_jobs=1, random_state=2021)"
   ]
  },
  {
   "cell_type": "code",
   "execution_count": 31,
   "id": "7a960162",
   "metadata": {},
   "outputs": [
    {
     "data": {
      "text/plain": [
       "'kmeans-geo-job20210916180243'"
      ]
     },
     "execution_count": 31,
     "metadata": {},
     "output_type": "execute_result"
    }
   ],
   "source": [
    "job_name = \"kmeans-geo-job{}\".format(datetime.now().strftime('%Y%m%d%H%M%S'))\n",
    "job_name"
   ]
  },
  {
   "cell_type": "code",
   "execution_count": 33,
   "id": "024f6bb3",
   "metadata": {},
   "outputs": [],
   "source": [
    "# %%time\n",
    "# kmeans.fit(kmeans.record_set(data_train), jobname=job_name)"
   ]
  },
  {
   "cell_type": "code",
   "execution_count": 34,
   "id": "0a1582f9",
   "metadata": {},
   "outputs": [
    {
     "name": "stderr",
     "output_type": "stream",
     "text": [
      "/Users/lhuang/opt/miniconda3/envs/tensorflow3.7/lib/python3.7/site-packages/sklearn/cluster/_kmeans.py:793: FutureWarning: 'n_jobs' was deprecated in version 0.23 and will be removed in 1.0 (renaming of 0.25).\n",
      "  \" removed in 1.0 (renaming of 0.25).\", FutureWarning)\n"
     ]
    },
    {
     "data": {
      "text/plain": [
       "KMeans(n_clusters=10, n_init=32, n_jobs=1, random_state=2021)"
      ]
     },
     "execution_count": 34,
     "metadata": {},
     "output_type": "execute_result"
    }
   ],
   "source": [
    "kmeans.fit(data_train)"
   ]
  },
  {
   "cell_type": "code",
   "execution_count": 35,
   "id": "afca2717",
   "metadata": {},
   "outputs": [],
   "source": [
    "labels = kmeans.labels_"
   ]
  },
  {
   "cell_type": "code",
   "execution_count": 36,
   "id": "75246b3f",
   "metadata": {},
   "outputs": [
    {
     "data": {
      "text/plain": [
       "array([0, 6, 5, ..., 5, 5, 5], dtype=int32)"
      ]
     },
     "execution_count": 36,
     "metadata": {},
     "output_type": "execute_result"
    }
   ],
   "source": [
    "labels"
   ]
  },
  {
   "cell_type": "code",
   "execution_count": 39,
   "id": "622ed860",
   "metadata": {},
   "outputs": [
    {
     "name": "stderr",
     "output_type": "stream",
     "text": [
      "/Users/lhuang/opt/miniconda3/envs/tensorflow3.7/lib/python3.7/site-packages/ipykernel_launcher.py:1: SettingWithCopyWarning: \n",
      "A value is trying to be set on a copy of a slice from a DataFrame.\n",
      "Try using .loc[row_indexer,col_indexer] = value instead\n",
      "\n",
      "See the caveats in the documentation: https://pandas.pydata.org/pandas-docs/stable/user_guide/indexing.html#returning-a-view-versus-a-copy\n",
      "  \"\"\"Entry point for launching an IPython kernel.\n"
     ]
    }
   ],
   "source": [
    "df_geo['label'] = labels\n",
    "data = df_geo.groupby(['label']).mean().reset_index(drop=True)"
   ]
  },
  {
   "cell_type": "code",
   "execution_count": 40,
   "id": "b5141274",
   "metadata": {},
   "outputs": [
    {
     "data": {
      "text/html": [
       "<div>\n",
       "<style scoped>\n",
       "    .dataframe tbody tr th:only-of-type {\n",
       "        vertical-align: middle;\n",
       "    }\n",
       "\n",
       "    .dataframe tbody tr th {\n",
       "        vertical-align: top;\n",
       "    }\n",
       "\n",
       "    .dataframe thead th {\n",
       "        text-align: right;\n",
       "    }\n",
       "</style>\n",
       "<table border=\"1\" class=\"dataframe\">\n",
       "  <thead>\n",
       "    <tr style=\"text-align: right;\">\n",
       "      <th></th>\n",
       "      <th>broadcaster_latitude</th>\n",
       "      <th>broadcaster_longitude</th>\n",
       "    </tr>\n",
       "  </thead>\n",
       "  <tbody>\n",
       "    <tr>\n",
       "      <th>0</th>\n",
       "      <td>33.415877</td>\n",
       "      <td>-95.937398</td>\n",
       "    </tr>\n",
       "    <tr>\n",
       "      <th>1</th>\n",
       "      <td>23.414830</td>\n",
       "      <td>77.411977</td>\n",
       "    </tr>\n",
       "    <tr>\n",
       "      <th>2</th>\n",
       "      <td>50.518293</td>\n",
       "      <td>-0.999632</td>\n",
       "    </tr>\n",
       "    <tr>\n",
       "      <th>3</th>\n",
       "      <td>-22.635131</td>\n",
       "      <td>-49.617258</td>\n",
       "    </tr>\n",
       "    <tr>\n",
       "      <th>4</th>\n",
       "      <td>12.772511</td>\n",
       "      <td>115.607486</td>\n",
       "    </tr>\n",
       "    <tr>\n",
       "      <th>5</th>\n",
       "      <td>37.788638</td>\n",
       "      <td>-79.562197</td>\n",
       "    </tr>\n",
       "    <tr>\n",
       "      <th>6</th>\n",
       "      <td>36.809697</td>\n",
       "      <td>-119.097408</td>\n",
       "    </tr>\n",
       "    <tr>\n",
       "      <th>7</th>\n",
       "      <td>-33.517721</td>\n",
       "      <td>148.077296</td>\n",
       "    </tr>\n",
       "    <tr>\n",
       "      <th>8</th>\n",
       "      <td>7.586199</td>\n",
       "      <td>-74.437513</td>\n",
       "    </tr>\n",
       "    <tr>\n",
       "      <th>9</th>\n",
       "      <td>30.286964</td>\n",
       "      <td>38.766805</td>\n",
       "    </tr>\n",
       "  </tbody>\n",
       "</table>\n",
       "</div>"
      ],
      "text/plain": [
       "   broadcaster_latitude  broadcaster_longitude\n",
       "0             33.415877             -95.937398\n",
       "1             23.414830              77.411977\n",
       "2             50.518293              -0.999632\n",
       "3            -22.635131             -49.617258\n",
       "4             12.772511             115.607486\n",
       "5             37.788638             -79.562197\n",
       "6             36.809697            -119.097408\n",
       "7            -33.517721             148.077296\n",
       "8              7.586199             -74.437513\n",
       "9             30.286964              38.766805"
      ]
     },
     "execution_count": 40,
     "metadata": {},
     "output_type": "execute_result"
    }
   ],
   "source": [
    "data"
   ]
  },
  {
   "cell_type": "code",
   "execution_count": 41,
   "id": "2deb7b68",
   "metadata": {},
   "outputs": [],
   "source": [
    "data.to_csv(\"centroid.csv\", index=False)"
   ]
  },
  {
   "cell_type": "code",
   "execution_count": null,
   "id": "2278ca3e",
   "metadata": {},
   "outputs": [],
   "source": []
  }
 ],
 "metadata": {
  "kernelspec": {
   "display_name": "Python 3 (ipykernel)",
   "language": "python",
   "name": "python3"
  },
  "language_info": {
   "codemirror_mode": {
    "name": "ipython",
    "version": 3
   },
   "file_extension": ".py",
   "mimetype": "text/x-python",
   "name": "python",
   "nbconvert_exporter": "python",
   "pygments_lexer": "ipython3",
   "version": "3.7.7"
  }
 },
 "nbformat": 4,
 "nbformat_minor": 5
}
