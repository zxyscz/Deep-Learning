{
 "cells": [
  {
   "cell_type": "code",
   "execution_count": 1,
   "id": "1348f8b4",
   "metadata": {},
   "outputs": [
    {
     "name": "stdout",
     "output_type": "stream",
     "text": [
      "\u001b[34m\u001b[1mwandb\u001b[0m: Currently logged in as: \u001b[33mlingh\u001b[0m (use `wandb login --relogin` to force relogin)\r\n"
     ]
    }
   ],
   "source": [
    "!wandb login"
   ]
  },
  {
   "cell_type": "code",
   "execution_count": 5,
   "id": "cce240b6",
   "metadata": {},
   "outputs": [
    {
     "name": "stderr",
     "output_type": "stream",
     "text": [
      "\u001b[34m\u001b[1mwandb\u001b[0m: \u001b[33mWARNING\u001b[0m Calling wandb.login() after wandb.init() has no effect.\n"
     ]
    },
    {
     "data": {
      "text/plain": [
       "True"
      ]
     },
     "execution_count": 5,
     "metadata": {},
     "output_type": "execute_result"
    }
   ],
   "source": [
    "import wandb\n",
    "\n",
    "wandb.login()"
   ]
  },
  {
   "cell_type": "code",
   "execution_count": 6,
   "id": "b53e1982",
   "metadata": {},
   "outputs": [
    {
     "data": {
      "text/html": [
       "Finishing last run (ID:35ar3q2c) before initializing another..."
      ],
      "text/plain": [
       "<IPython.core.display.HTML object>"
      ]
     },
     "metadata": {},
     "output_type": "display_data"
    },
    {
     "data": {
      "text/html": [
       "<br/>Waiting for W&B process to finish, PID 11275... <strong style=\"color:green\">(success).</strong>"
      ],
      "text/plain": [
       "<IPython.core.display.HTML object>"
      ]
     },
     "metadata": {},
     "output_type": "display_data"
    },
    {
     "data": {
      "application/vnd.jupyter.widget-view+json": {
       "model_id": "",
       "version_major": 2,
       "version_minor": 0
      },
      "text/plain": [
       "VBox(children=(Label(value=' 0.00MB of 0.00MB uploaded (0.00MB deduped)\\r'), FloatProgress(value=1.0, max=1.0)…"
      ]
     },
     "metadata": {},
     "output_type": "display_data"
    },
    {
     "data": {
      "text/html": [
       "<style>\n",
       "    table.wandb td:nth-child(1) { padding: 0 10px; text-align: right }\n",
       "    .wandb-row { display: flex; flex-direction: row; flex-wrap: wrap; width: 100% }\n",
       "    .wandb-col { display: flex; flex-direction: column; flex-basis: 100%; flex: 1; padding: 10px; }\n",
       "    </style>\n",
       "<div class=\"wandb-row\"><div class=\"wandb-col\">\n",
       "</div><div class=\"wandb-col\">\n",
       "</div></div>\n",
       "Synced 6 W&B file(s), 0 media file(s), 0 artifact file(s) and 0 other file(s)\n",
       "<br/>Synced <strong style=\"color:#cdcd00\">eager-wave-1</strong>: <a href=\"https://wandb.ai/lingh/my-test-project/runs/35ar3q2c\" target=\"_blank\">https://wandb.ai/lingh/my-test-project/runs/35ar3q2c</a><br/>\n",
       "Find logs at: <code>./wandb/run-20211011_220827-35ar3q2c/logs</code><br/>\n"
      ],
      "text/plain": [
       "<IPython.core.display.HTML object>"
      ]
     },
     "metadata": {},
     "output_type": "display_data"
    },
    {
     "data": {
      "text/html": [
       "Successfully finished last run (ID:35ar3q2c). Initializing new run:<br/>"
      ],
      "text/plain": [
       "<IPython.core.display.HTML object>"
      ]
     },
     "metadata": {},
     "output_type": "display_data"
    },
    {
     "data": {
      "text/html": [
       "\n",
       "                    Syncing run <strong><a href=\"https://wandb.ai/lingh/jupyter-projo/runs/9jesu6r3\" target=\"_blank\">exalted-microwave-1</a></strong> to <a href=\"https://wandb.ai/lingh/jupyter-projo\" target=\"_blank\">Weights & Biases</a> (<a href=\"https://docs.wandb.com/integrations/jupyter.html\" target=\"_blank\">docs</a>).<br/>\n",
       "\n",
       "                "
      ],
      "text/plain": [
       "<IPython.core.display.HTML object>"
      ]
     },
     "metadata": {},
     "output_type": "display_data"
    }
   ],
   "source": [
    "run = wandb.init(project=\"jupyter-projo\",\n",
    "                 config={\"batch_size\": 128,\n",
    "                         \"learning_rate\": 0.01,\n",
    "                         \"dataset\": \"CIFAR-100\"})"
   ]
  },
  {
   "cell_type": "code",
   "execution_count": 7,
   "id": "32f62eb7",
   "metadata": {},
   "outputs": [
    {
     "data": {
      "text/html": [
       "\n",
       "        <iframe\n",
       "            width=\"1080\"\n",
       "            height=\"720\"\n",
       "            src=\"https://wandb.ai/lingh/jupyter-projo/runs/9jesu6r3\"\n",
       "            frameborder=\"0\"\n",
       "            allowfullscreen\n",
       "        ></iframe>\n",
       "        "
      ],
      "text/plain": [
       "<IPython.lib.display.IFrame at 0x7fa32067df50>"
      ]
     },
     "execution_count": 7,
     "metadata": {},
     "output_type": "execute_result"
    }
   ],
   "source": [
    "from IPython import display\n",
    "\n",
    "# we create an IFrame and set the width and height\n",
    "iF = display.IFrame(run.url, width=1080, height=720)\n",
    "\n",
    "# you can manipulate the IFrame programmatically however you'd like\n",
    "\n",
    "# then display it by making it the last line of the cell\n",
    "iF"
   ]
  },
  {
   "cell_type": "code",
   "execution_count": 8,
   "id": "31df9e03",
   "metadata": {},
   "outputs": [],
   "source": [
    "import time\n",
    "\n",
    "for ii in range(30):\n",
    "    wandb.log({\"acc\": 1 - 2 ** -ii, \"loss\": 2 ** -ii})\n",
    "    time.sleep(0.5)"
   ]
  },
  {
   "cell_type": "code",
   "execution_count": 9,
   "id": "9b051501",
   "metadata": {},
   "outputs": [],
   "source": [
    "api = wandb.Api()"
   ]
  },
  {
   "cell_type": "code",
   "execution_count": 10,
   "id": "99c040b6",
   "metadata": {},
   "outputs": [
    {
     "data": {
      "text/html": [
       "\n",
       "        <iframe\n",
       "            width=\"1400\"\n",
       "            height=\"1080\"\n",
       "            src=\"https://wandb.ai/wandb/yolo-chess/runs/33fp7u8d\"\n",
       "            frameborder=\"0\"\n",
       "            allowfullscreen\n",
       "        ></iframe>\n",
       "        "
      ],
      "text/plain": [
       "<IPython.lib.display.IFrame at 0x7fa2b0dcf890>"
      ]
     },
     "execution_count": 10,
     "metadata": {},
     "output_type": "execute_result"
    }
   ],
   "source": [
    "team, project, run_id = \"wandb\", \"yolo-chess\", \"33fp7u8d\"\n",
    "run = api.run(f\"{team}/{project}/{run_id}\")\n",
    "\n",
    "display.IFrame(run.url, width=1400, height=1080)  # you may need to zoom out to see the whole window!"
   ]
  },
  {
   "cell_type": "code",
   "execution_count": 11,
   "id": "7eff3160",
   "metadata": {},
   "outputs": [
    {
     "data": {
      "text/html": [
       "\n",
       "        <iframe\n",
       "            width=\"1080\"\n",
       "            height=\"720\"\n",
       "            src=\"https://wandb.ai/stacey/model_iterz/runs/10x1nnh2\"\n",
       "            frameborder=\"0\"\n",
       "            allowfullscreen\n",
       "        ></iframe>\n",
       "        "
      ],
      "text/plain": [
       "<IPython.lib.display.IFrame at 0x7fa2b0dcd450>"
      ]
     },
     "execution_count": 11,
     "metadata": {},
     "output_type": "execute_result"
    }
   ],
   "source": [
    "coworker, project, run_id = \"stacey\", \"model_iterz\", \"10x1nnh2\"\n",
    "run = api.run(f\"{coworker}/{project}/{run_id}\")\n",
    "\n",
    "display.IFrame(run.url, width=1080, height=720)"
   ]
  },
  {
   "cell_type": "code",
   "execution_count": 12,
   "id": "bb8a35b2",
   "metadata": {},
   "outputs": [
    {
     "data": {
      "text/html": [
       "\n",
       "        <iframe\n",
       "            width=\"1400\"\n",
       "            height=\"1080\"\n",
       "            src=\"https://wandb.ai/charlesfrye/mnist-sweeps/sweeps/n60n6wv1\"\n",
       "            frameborder=\"0\"\n",
       "            allowfullscreen\n",
       "        ></iframe>\n",
       "        "
      ],
      "text/plain": [
       "<IPython.lib.display.IFrame at 0x7fa2b0d6a3d0>"
      ]
     },
     "execution_count": 12,
     "metadata": {},
     "output_type": "execute_result"
    }
   ],
   "source": [
    "entity, project, sweep_id = \"charlesfrye\", \"mnist-sweeps\", \"n60n6wv1\"\n",
    "sweep = api.sweep(f\"{entity}/{project}/{sweep_id}\")\n",
    "\n",
    "display.IFrame(sweep.url, width=1400, height=1080)  # you may need to zoom out to see the whole window!"
   ]
  },
  {
   "cell_type": "code",
   "execution_count": 13,
   "id": "d79800f4",
   "metadata": {},
   "outputs": [
    {
     "data": {
      "text/html": [
       "\n",
       "        <iframe\n",
       "            width=\"1080\"\n",
       "            height=\"720\"\n",
       "            src=\"https://wandb.ai/charlesfrye/mnist-sweeps/reports/Third-Pass-Trying-Different-Shapes--VmlldzoxNjY1NDk\"\n",
       "            frameborder=\"0\"\n",
       "            allowfullscreen\n",
       "        ></iframe>\n",
       "        "
      ],
      "text/plain": [
       "<IPython.lib.display.IFrame at 0x7fa2b0dbea90>"
      ]
     },
     "execution_count": 13,
     "metadata": {},
     "output_type": "execute_result"
    }
   ],
   "source": [
    "entity, project = \"charlesfrye\", \"mnist-sweeps\"\n",
    "report_name = \"Third-Pass-Trying-Different-Shapes--VmlldzoxNjY1NDk\"\n",
    "url = f\"https://wandb.ai/{entity}/{project}/reports/{report_name}\"\n",
    "\n",
    "display.IFrame(url, width=1080, height=720)"
   ]
  },
  {
   "cell_type": "code",
   "execution_count": null,
   "id": "84909908",
   "metadata": {},
   "outputs": [],
   "source": []
  }
 ],
 "metadata": {
  "kernelspec": {
   "display_name": "Python 3 (ipykernel)",
   "language": "python",
   "name": "python3"
  },
  "language_info": {
   "codemirror_mode": {
    "name": "ipython",
    "version": 3
   },
   "file_extension": ".py",
   "mimetype": "text/x-python",
   "name": "python",
   "nbconvert_exporter": "python",
   "pygments_lexer": "ipython3",
   "version": "3.7.7"
  }
 },
 "nbformat": 4,
 "nbformat_minor": 5
}
