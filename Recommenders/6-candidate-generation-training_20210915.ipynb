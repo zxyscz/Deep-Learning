{
 "cells": [
  {
   "cell_type": "markdown",
   "id": "8ea80f1d",
   "metadata": {},
   "source": [
    "### Setup envs"
   ]
  },
  {
   "cell_type": "code",
   "execution_count": 1,
   "id": "4f925592",
   "metadata": {},
   "outputs": [],
   "source": [
    "import boto3\n",
    "from sagemaker import get_execution_role"
   ]
  },
  {
   "cell_type": "code",
   "execution_count": 2,
   "id": "f34128a8",
   "metadata": {},
   "outputs": [
    {
     "name": "stdout",
     "output_type": "stream",
     "text": [
      "Requirement already satisfied: tensorflow==2.5.0 in /home/ec2-user/anaconda3/envs/python3/lib/python3.6/site-packages (2.5.0)\n",
      "Requirement already satisfied: protobuf>=3.9.2 in /home/ec2-user/anaconda3/envs/python3/lib/python3.6/site-packages (from tensorflow==2.5.0) (3.15.2)\n",
      "Requirement already satisfied: gast==0.4.0 in /home/ec2-user/anaconda3/envs/python3/lib/python3.6/site-packages (from tensorflow==2.5.0) (0.4.0)\n",
      "Requirement already satisfied: opt-einsum~=3.3.0 in /home/ec2-user/anaconda3/envs/python3/lib/python3.6/site-packages (from tensorflow==2.5.0) (3.3.0)\n",
      "Requirement already satisfied: flatbuffers~=1.12.0 in /home/ec2-user/anaconda3/envs/python3/lib/python3.6/site-packages (from tensorflow==2.5.0) (1.12)\n",
      "Requirement already satisfied: six~=1.15.0 in /home/ec2-user/anaconda3/envs/python3/lib/python3.6/site-packages (from tensorflow==2.5.0) (1.15.0)\n",
      "Requirement already satisfied: tensorboard~=2.5 in /home/ec2-user/anaconda3/envs/python3/lib/python3.6/site-packages (from tensorflow==2.5.0) (2.6.0)\n",
      "Requirement already satisfied: keras-nightly~=2.5.0.dev in /home/ec2-user/anaconda3/envs/python3/lib/python3.6/site-packages (from tensorflow==2.5.0) (2.5.0.dev2021032900)\n",
      "Requirement already satisfied: h5py~=3.1.0 in /home/ec2-user/anaconda3/envs/python3/lib/python3.6/site-packages (from tensorflow==2.5.0) (3.1.0)\n",
      "Requirement already satisfied: wheel~=0.35 in /home/ec2-user/anaconda3/envs/python3/lib/python3.6/site-packages (from tensorflow==2.5.0) (0.36.2)\n",
      "Requirement already satisfied: grpcio~=1.34.0 in /home/ec2-user/anaconda3/envs/python3/lib/python3.6/site-packages (from tensorflow==2.5.0) (1.34.1)\n",
      "Requirement already satisfied: wrapt~=1.12.1 in /home/ec2-user/anaconda3/envs/python3/lib/python3.6/site-packages (from tensorflow==2.5.0) (1.12.1)\n",
      "Requirement already satisfied: typing-extensions~=3.7.4 in /home/ec2-user/anaconda3/envs/python3/lib/python3.6/site-packages (from tensorflow==2.5.0) (3.7.4.3)\n",
      "Requirement already satisfied: google-pasta~=0.2 in /home/ec2-user/anaconda3/envs/python3/lib/python3.6/site-packages (from tensorflow==2.5.0) (0.2.0)\n",
      "Requirement already satisfied: termcolor~=1.1.0 in /home/ec2-user/anaconda3/envs/python3/lib/python3.6/site-packages (from tensorflow==2.5.0) (1.1.0)\n",
      "Requirement already satisfied: astunparse~=1.6.3 in /home/ec2-user/anaconda3/envs/python3/lib/python3.6/site-packages (from tensorflow==2.5.0) (1.6.3)\n",
      "Requirement already satisfied: absl-py~=0.10 in /home/ec2-user/anaconda3/envs/python3/lib/python3.6/site-packages (from tensorflow==2.5.0) (0.13.0)\n",
      "Requirement already satisfied: numpy~=1.19.2 in /home/ec2-user/anaconda3/envs/python3/lib/python3.6/site-packages (from tensorflow==2.5.0) (1.19.5)\n",
      "Requirement already satisfied: tensorflow-estimator<2.6.0,>=2.5.0rc0 in /home/ec2-user/anaconda3/envs/python3/lib/python3.6/site-packages (from tensorflow==2.5.0) (2.5.0)\n",
      "Requirement already satisfied: keras-preprocessing~=1.1.2 in /home/ec2-user/anaconda3/envs/python3/lib/python3.6/site-packages (from tensorflow==2.5.0) (1.1.2)\n",
      "Requirement already satisfied: cached-property in /home/ec2-user/anaconda3/envs/python3/lib/python3.6/site-packages (from h5py~=3.1.0->tensorflow==2.5.0) (1.5.1)\n",
      "Requirement already satisfied: requests<3,>=2.21.0 in /home/ec2-user/anaconda3/envs/python3/lib/python3.6/site-packages (from tensorboard~=2.5->tensorflow==2.5.0) (2.25.1)\n",
      "Requirement already satisfied: werkzeug>=0.11.15 in /home/ec2-user/anaconda3/envs/python3/lib/python3.6/site-packages (from tensorboard~=2.5->tensorflow==2.5.0) (1.0.1)\n",
      "Requirement already satisfied: tensorboard-data-server<0.7.0,>=0.6.0 in /home/ec2-user/anaconda3/envs/python3/lib/python3.6/site-packages (from tensorboard~=2.5->tensorflow==2.5.0) (0.6.1)\n",
      "Requirement already satisfied: tensorboard-plugin-wit>=1.6.0 in /home/ec2-user/anaconda3/envs/python3/lib/python3.6/site-packages (from tensorboard~=2.5->tensorflow==2.5.0) (1.8.0)\n",
      "Requirement already satisfied: google-auth<2,>=1.6.3 in /home/ec2-user/anaconda3/envs/python3/lib/python3.6/site-packages (from tensorboard~=2.5->tensorflow==2.5.0) (1.35.0)\n",
      "Requirement already satisfied: setuptools>=41.0.0 in /home/ec2-user/anaconda3/envs/python3/lib/python3.6/site-packages (from tensorboard~=2.5->tensorflow==2.5.0) (49.6.0.post20210108)\n",
      "Requirement already satisfied: google-auth-oauthlib<0.5,>=0.4.1 in /home/ec2-user/anaconda3/envs/python3/lib/python3.6/site-packages (from tensorboard~=2.5->tensorflow==2.5.0) (0.4.6)\n",
      "Requirement already satisfied: markdown>=2.6.8 in /home/ec2-user/anaconda3/envs/python3/lib/python3.6/site-packages (from tensorboard~=2.5->tensorflow==2.5.0) (3.3.4)\n",
      "Requirement already satisfied: rsa<5,>=3.1.4 in /home/ec2-user/anaconda3/envs/python3/lib/python3.6/site-packages (from google-auth<2,>=1.6.3->tensorboard~=2.5->tensorflow==2.5.0) (4.7.2)\n",
      "Requirement already satisfied: cachetools<5.0,>=2.0.0 in /home/ec2-user/anaconda3/envs/python3/lib/python3.6/site-packages (from google-auth<2,>=1.6.3->tensorboard~=2.5->tensorflow==2.5.0) (4.2.2)\n",
      "Requirement already satisfied: pyasn1-modules>=0.2.1 in /home/ec2-user/anaconda3/envs/python3/lib/python3.6/site-packages (from google-auth<2,>=1.6.3->tensorboard~=2.5->tensorflow==2.5.0) (0.2.8)\n",
      "Requirement already satisfied: requests-oauthlib>=0.7.0 in /home/ec2-user/anaconda3/envs/python3/lib/python3.6/site-packages (from google-auth-oauthlib<0.5,>=0.4.1->tensorboard~=2.5->tensorflow==2.5.0) (1.3.0)\n",
      "Requirement already satisfied: importlib-metadata in /home/ec2-user/anaconda3/envs/python3/lib/python3.6/site-packages (from markdown>=2.6.8->tensorboard~=2.5->tensorflow==2.5.0) (3.7.0)\n",
      "Requirement already satisfied: pyasn1<0.5.0,>=0.4.6 in /home/ec2-user/anaconda3/envs/python3/lib/python3.6/site-packages (from pyasn1-modules>=0.2.1->google-auth<2,>=1.6.3->tensorboard~=2.5->tensorflow==2.5.0) (0.4.8)\n",
      "Requirement already satisfied: certifi>=2017.4.17 in /home/ec2-user/anaconda3/envs/python3/lib/python3.6/site-packages (from requests<3,>=2.21.0->tensorboard~=2.5->tensorflow==2.5.0) (2021.5.30)\n",
      "Requirement already satisfied: idna<3,>=2.5 in /home/ec2-user/anaconda3/envs/python3/lib/python3.6/site-packages (from requests<3,>=2.21.0->tensorboard~=2.5->tensorflow==2.5.0) (2.10)\n",
      "Requirement already satisfied: chardet<5,>=3.0.2 in /home/ec2-user/anaconda3/envs/python3/lib/python3.6/site-packages (from requests<3,>=2.21.0->tensorboard~=2.5->tensorflow==2.5.0) (3.0.4)\n",
      "Requirement already satisfied: urllib3<1.27,>=1.21.1 in /home/ec2-user/anaconda3/envs/python3/lib/python3.6/site-packages (from requests<3,>=2.21.0->tensorboard~=2.5->tensorflow==2.5.0) (1.26.6)\n",
      "Requirement already satisfied: oauthlib>=3.0.0 in /home/ec2-user/anaconda3/envs/python3/lib/python3.6/site-packages (from requests-oauthlib>=0.7.0->google-auth-oauthlib<0.5,>=0.4.1->tensorboard~=2.5->tensorflow==2.5.0) (3.1.1)\n",
      "Requirement already satisfied: zipp>=0.5 in /home/ec2-user/anaconda3/envs/python3/lib/python3.6/site-packages (from importlib-metadata->markdown>=2.6.8->tensorboard~=2.5->tensorflow==2.5.0) (3.4.0)\n",
      "\u001b[33mWARNING: You are using pip version 21.1.3; however, version 21.2.4 is available.\n",
      "You should consider upgrading via the '/home/ec2-user/anaconda3/envs/python3/bin/python -m pip install --upgrade pip' command.\u001b[0m\n"
     ]
    }
   ],
   "source": [
    "!pip install tensorflow==2.5.0"
   ]
  },
  {
   "cell_type": "code",
   "execution_count": 3,
   "id": "05be23cf",
   "metadata": {},
   "outputs": [
    {
     "name": "stdout",
     "output_type": "stream",
     "text": [
      "Requirement already satisfied: tensorflow-recommenders==0.5.2 in /home/ec2-user/anaconda3/envs/python3/lib/python3.6/site-packages (0.5.2)\n",
      "Requirement already satisfied: absl-py>=0.1.6 in /home/ec2-user/anaconda3/envs/python3/lib/python3.6/site-packages (from tensorflow-recommenders==0.5.2) (0.13.0)\n",
      "Requirement already satisfied: tensorflow>=2.3.0 in /home/ec2-user/anaconda3/envs/python3/lib/python3.6/site-packages (from tensorflow-recommenders==0.5.2) (2.5.0)\n",
      "Requirement already satisfied: six in /home/ec2-user/anaconda3/envs/python3/lib/python3.6/site-packages (from absl-py>=0.1.6->tensorflow-recommenders==0.5.2) (1.15.0)\n",
      "Requirement already satisfied: keras-nightly~=2.5.0.dev in /home/ec2-user/anaconda3/envs/python3/lib/python3.6/site-packages (from tensorflow>=2.3.0->tensorflow-recommenders==0.5.2) (2.5.0.dev2021032900)\n",
      "Requirement already satisfied: tensorflow-estimator<2.6.0,>=2.5.0rc0 in /home/ec2-user/anaconda3/envs/python3/lib/python3.6/site-packages (from tensorflow>=2.3.0->tensorflow-recommenders==0.5.2) (2.5.0)\n",
      "Requirement already satisfied: termcolor~=1.1.0 in /home/ec2-user/anaconda3/envs/python3/lib/python3.6/site-packages (from tensorflow>=2.3.0->tensorflow-recommenders==0.5.2) (1.1.0)\n",
      "Requirement already satisfied: keras-preprocessing~=1.1.2 in /home/ec2-user/anaconda3/envs/python3/lib/python3.6/site-packages (from tensorflow>=2.3.0->tensorflow-recommenders==0.5.2) (1.1.2)\n",
      "Requirement already satisfied: grpcio~=1.34.0 in /home/ec2-user/anaconda3/envs/python3/lib/python3.6/site-packages (from tensorflow>=2.3.0->tensorflow-recommenders==0.5.2) (1.34.1)\n",
      "Requirement already satisfied: wheel~=0.35 in /home/ec2-user/anaconda3/envs/python3/lib/python3.6/site-packages (from tensorflow>=2.3.0->tensorflow-recommenders==0.5.2) (0.36.2)\n",
      "Requirement already satisfied: wrapt~=1.12.1 in /home/ec2-user/anaconda3/envs/python3/lib/python3.6/site-packages (from tensorflow>=2.3.0->tensorflow-recommenders==0.5.2) (1.12.1)\n",
      "Requirement already satisfied: flatbuffers~=1.12.0 in /home/ec2-user/anaconda3/envs/python3/lib/python3.6/site-packages (from tensorflow>=2.3.0->tensorflow-recommenders==0.5.2) (1.12)\n",
      "Requirement already satisfied: numpy~=1.19.2 in /home/ec2-user/anaconda3/envs/python3/lib/python3.6/site-packages (from tensorflow>=2.3.0->tensorflow-recommenders==0.5.2) (1.19.5)\n",
      "Requirement already satisfied: h5py~=3.1.0 in /home/ec2-user/anaconda3/envs/python3/lib/python3.6/site-packages (from tensorflow>=2.3.0->tensorflow-recommenders==0.5.2) (3.1.0)\n",
      "Requirement already satisfied: protobuf>=3.9.2 in /home/ec2-user/anaconda3/envs/python3/lib/python3.6/site-packages (from tensorflow>=2.3.0->tensorflow-recommenders==0.5.2) (3.15.2)\n",
      "Requirement already satisfied: typing-extensions~=3.7.4 in /home/ec2-user/anaconda3/envs/python3/lib/python3.6/site-packages (from tensorflow>=2.3.0->tensorflow-recommenders==0.5.2) (3.7.4.3)\n",
      "Requirement already satisfied: google-pasta~=0.2 in /home/ec2-user/anaconda3/envs/python3/lib/python3.6/site-packages (from tensorflow>=2.3.0->tensorflow-recommenders==0.5.2) (0.2.0)\n",
      "Requirement already satisfied: opt-einsum~=3.3.0 in /home/ec2-user/anaconda3/envs/python3/lib/python3.6/site-packages (from tensorflow>=2.3.0->tensorflow-recommenders==0.5.2) (3.3.0)\n",
      "Requirement already satisfied: gast==0.4.0 in /home/ec2-user/anaconda3/envs/python3/lib/python3.6/site-packages (from tensorflow>=2.3.0->tensorflow-recommenders==0.5.2) (0.4.0)\n",
      "Requirement already satisfied: astunparse~=1.6.3 in /home/ec2-user/anaconda3/envs/python3/lib/python3.6/site-packages (from tensorflow>=2.3.0->tensorflow-recommenders==0.5.2) (1.6.3)\n",
      "Requirement already satisfied: tensorboard~=2.5 in /home/ec2-user/anaconda3/envs/python3/lib/python3.6/site-packages (from tensorflow>=2.3.0->tensorflow-recommenders==0.5.2) (2.6.0)\n",
      "Requirement already satisfied: cached-property in /home/ec2-user/anaconda3/envs/python3/lib/python3.6/site-packages (from h5py~=3.1.0->tensorflow>=2.3.0->tensorflow-recommenders==0.5.2) (1.5.1)\n",
      "Requirement already satisfied: google-auth-oauthlib<0.5,>=0.4.1 in /home/ec2-user/anaconda3/envs/python3/lib/python3.6/site-packages (from tensorboard~=2.5->tensorflow>=2.3.0->tensorflow-recommenders==0.5.2) (0.4.6)\n",
      "Requirement already satisfied: markdown>=2.6.8 in /home/ec2-user/anaconda3/envs/python3/lib/python3.6/site-packages (from tensorboard~=2.5->tensorflow>=2.3.0->tensorflow-recommenders==0.5.2) (3.3.4)\n",
      "Requirement already satisfied: tensorboard-data-server<0.7.0,>=0.6.0 in /home/ec2-user/anaconda3/envs/python3/lib/python3.6/site-packages (from tensorboard~=2.5->tensorflow>=2.3.0->tensorflow-recommenders==0.5.2) (0.6.1)\n",
      "Requirement already satisfied: setuptools>=41.0.0 in /home/ec2-user/anaconda3/envs/python3/lib/python3.6/site-packages (from tensorboard~=2.5->tensorflow>=2.3.0->tensorflow-recommenders==0.5.2) (49.6.0.post20210108)\n",
      "Requirement already satisfied: requests<3,>=2.21.0 in /home/ec2-user/anaconda3/envs/python3/lib/python3.6/site-packages (from tensorboard~=2.5->tensorflow>=2.3.0->tensorflow-recommenders==0.5.2) (2.25.1)\n",
      "Requirement already satisfied: werkzeug>=0.11.15 in /home/ec2-user/anaconda3/envs/python3/lib/python3.6/site-packages (from tensorboard~=2.5->tensorflow>=2.3.0->tensorflow-recommenders==0.5.2) (1.0.1)\n",
      "Requirement already satisfied: tensorboard-plugin-wit>=1.6.0 in /home/ec2-user/anaconda3/envs/python3/lib/python3.6/site-packages (from tensorboard~=2.5->tensorflow>=2.3.0->tensorflow-recommenders==0.5.2) (1.8.0)\n",
      "Requirement already satisfied: google-auth<2,>=1.6.3 in /home/ec2-user/anaconda3/envs/python3/lib/python3.6/site-packages (from tensorboard~=2.5->tensorflow>=2.3.0->tensorflow-recommenders==0.5.2) (1.35.0)\n",
      "Requirement already satisfied: cachetools<5.0,>=2.0.0 in /home/ec2-user/anaconda3/envs/python3/lib/python3.6/site-packages (from google-auth<2,>=1.6.3->tensorboard~=2.5->tensorflow>=2.3.0->tensorflow-recommenders==0.5.2) (4.2.2)\n",
      "Requirement already satisfied: rsa<5,>=3.1.4 in /home/ec2-user/anaconda3/envs/python3/lib/python3.6/site-packages (from google-auth<2,>=1.6.3->tensorboard~=2.5->tensorflow>=2.3.0->tensorflow-recommenders==0.5.2) (4.7.2)\n",
      "Requirement already satisfied: pyasn1-modules>=0.2.1 in /home/ec2-user/anaconda3/envs/python3/lib/python3.6/site-packages (from google-auth<2,>=1.6.3->tensorboard~=2.5->tensorflow>=2.3.0->tensorflow-recommenders==0.5.2) (0.2.8)\n",
      "Requirement already satisfied: requests-oauthlib>=0.7.0 in /home/ec2-user/anaconda3/envs/python3/lib/python3.6/site-packages (from google-auth-oauthlib<0.5,>=0.4.1->tensorboard~=2.5->tensorflow>=2.3.0->tensorflow-recommenders==0.5.2) (1.3.0)\n",
      "Requirement already satisfied: importlib-metadata in /home/ec2-user/anaconda3/envs/python3/lib/python3.6/site-packages (from markdown>=2.6.8->tensorboard~=2.5->tensorflow>=2.3.0->tensorflow-recommenders==0.5.2) (3.7.0)\n",
      "Requirement already satisfied: pyasn1<0.5.0,>=0.4.6 in /home/ec2-user/anaconda3/envs/python3/lib/python3.6/site-packages (from pyasn1-modules>=0.2.1->google-auth<2,>=1.6.3->tensorboard~=2.5->tensorflow>=2.3.0->tensorflow-recommenders==0.5.2) (0.4.8)\n",
      "Requirement already satisfied: chardet<5,>=3.0.2 in /home/ec2-user/anaconda3/envs/python3/lib/python3.6/site-packages (from requests<3,>=2.21.0->tensorboard~=2.5->tensorflow>=2.3.0->tensorflow-recommenders==0.5.2) (3.0.4)\n",
      "Requirement already satisfied: idna<3,>=2.5 in /home/ec2-user/anaconda3/envs/python3/lib/python3.6/site-packages (from requests<3,>=2.21.0->tensorboard~=2.5->tensorflow>=2.3.0->tensorflow-recommenders==0.5.2) (2.10)\n",
      "Requirement already satisfied: certifi>=2017.4.17 in /home/ec2-user/anaconda3/envs/python3/lib/python3.6/site-packages (from requests<3,>=2.21.0->tensorboard~=2.5->tensorflow>=2.3.0->tensorflow-recommenders==0.5.2) (2021.5.30)\n",
      "Requirement already satisfied: urllib3<1.27,>=1.21.1 in /home/ec2-user/anaconda3/envs/python3/lib/python3.6/site-packages (from requests<3,>=2.21.0->tensorboard~=2.5->tensorflow>=2.3.0->tensorflow-recommenders==0.5.2) (1.26.6)\n",
      "Requirement already satisfied: oauthlib>=3.0.0 in /home/ec2-user/anaconda3/envs/python3/lib/python3.6/site-packages (from requests-oauthlib>=0.7.0->google-auth-oauthlib<0.5,>=0.4.1->tensorboard~=2.5->tensorflow>=2.3.0->tensorflow-recommenders==0.5.2) (3.1.1)\n",
      "Requirement already satisfied: zipp>=0.5 in /home/ec2-user/anaconda3/envs/python3/lib/python3.6/site-packages (from importlib-metadata->markdown>=2.6.8->tensorboard~=2.5->tensorflow>=2.3.0->tensorflow-recommenders==0.5.2) (3.4.0)\n"
     ]
    },
    {
     "name": "stdout",
     "output_type": "stream",
     "text": [
      "\u001b[33mWARNING: You are using pip version 21.1.3; however, version 21.2.4 is available.\r\n",
      "You should consider upgrading via the '/home/ec2-user/anaconda3/envs/python3/bin/python -m pip install --upgrade pip' command.\u001b[0m\r\n"
     ]
    }
   ],
   "source": [
    "!pip install tensorflow-recommenders==0.5.2"
   ]
  },
  {
   "cell_type": "code",
   "execution_count": 4,
   "id": "9fe51820",
   "metadata": {},
   "outputs": [],
   "source": [
    "role = get_execution_role()\n",
    "bucket = \"ling-cold-start-data\"\n",
    "prefix = \"2021-09-08\"\n",
    "data_key = \"a3d86f3b-eb45-4641-b05d-30dff7423e6b.csv\"\n",
    "data_location = \"s3://{}/{}/{}\".format(bucket, prefix, data_key)"
   ]
  },
  {
   "cell_type": "code",
   "execution_count": 5,
   "id": "3b82aa50",
   "metadata": {},
   "outputs": [],
   "source": [
    "import os\n",
    "import tempfile\n",
    "from typing import Dict, Text\n",
    "import pprint "
   ]
  },
  {
   "cell_type": "code",
   "execution_count": 6,
   "id": "a756ee6a",
   "metadata": {},
   "outputs": [],
   "source": [
    "import numpy as np\n",
    "import pandas as pd\n",
    "import tensorflow as tf\n",
    "import tensorflow_recommenders as tfrs"
   ]
  },
  {
   "cell_type": "markdown",
   "id": "9cdb13a8",
   "metadata": {},
   "source": [
    "### Model definition"
   ]
  },
  {
   "cell_type": "code",
   "execution_count": 7,
   "id": "e15b0047",
   "metadata": {},
   "outputs": [],
   "source": [
    "class UserModel(tf.keras.Model):\n",
    "\n",
    "    def __init__(self, unique_genders, unique_langs, unique_countries, unique_networks, viewer_age):\n",
    "        super().__init__()\n",
    "\n",
    "        self.gender_embedding = tf.keras.Sequential([\n",
    "            tf.keras.layers.experimental.preprocessing.StringLookup(\n",
    "                vocabulary=unique_genders, mask_token=None),\n",
    "            tf.keras.layers.Embedding(len(unique_genders) + 1, 4),\n",
    "        ])\n",
    "        \n",
    "        self.lang_embedding = tf.keras.Sequential([\n",
    "            tf.keras.layers.experimental.preprocessing.StringLookup(\n",
    "                vocabulary=unique_langs, mask_token=None),\n",
    "            tf.keras.layers.Embedding(len(unique_langs) + 1, 11),\n",
    "        ])\n",
    "        \n",
    "        self.country_embedding = tf.keras.Sequential([\n",
    "            tf.keras.layers.experimental.preprocessing.StringLookup(\n",
    "                vocabulary=unique_countries, mask_token=None),\n",
    "            tf.keras.layers.Embedding(len(unique_countries) + 1, 11),\n",
    "        ])\n",
    "        \n",
    "        self.network_embedding = tf.keras.Sequential([\n",
    "            tf.keras.layers.experimental.preprocessing.StringLookup(\n",
    "                vocabulary=unique_networks, mask_token=None),\n",
    "            tf.keras.layers.Embedding(len(unique_networks) + 1, 5),\n",
    "        ])\n",
    "        \n",
    "        self.normalized_age = tf.keras.layers.experimental.preprocessing.Normalization(axis = None)\n",
    "        self.normalized_age.adapt(viewer_age)\n",
    "\n",
    "    def call(self, inputs):\n",
    "        return tf.concat([\n",
    "            self.gender_embedding(inputs[\"viewer_gender\"]),\n",
    "            self.lang_embedding(inputs[\"viewer_lang\"]),\n",
    "            self.country_embedding(inputs[\"viewer_country\"]),\n",
    "            self.network_embedding(inputs[\"viewer_network\"]),\n",
    "            tf.reshape(self.normalized_age(inputs[\"viewer_age\"]), (-1, 1))\n",
    "        ], axis=1)"
   ]
  },
  {
   "cell_type": "code",
   "execution_count": 8,
   "id": "46f09e8a",
   "metadata": {},
   "outputs": [],
   "source": [
    "class BroadcasterModel(tf.keras.Model):\n",
    "\n",
    "    def __init__(self, unique_movie_titles, dims):\n",
    "        super().__init__()\n",
    "\n",
    "        self.broadcaster_embedding = tf.keras.Sequential([\n",
    "            tf.keras.layers.experimental.preprocessing.StringLookup(\n",
    "                vocabulary=unique_movie_titles, mask_token=None),\n",
    "            tf.keras.layers.Embedding(len(unique_movie_titles) + 1, dims)\n",
    "        ])\n",
    "\n",
    "    def call(self, broadcaster):\n",
    "        return tf.concat([\n",
    "            self.broadcaster_embedding(broadcaster),\n",
    "        ], axis=1)"
   ]
  },
  {
   "cell_type": "markdown",
   "id": "da9cf8de",
   "metadata": {},
   "source": [
    "### Load data"
   ]
  },
  {
   "cell_type": "code",
   "execution_count": 9,
   "id": "e8e18834",
   "metadata": {},
   "outputs": [],
   "source": [
    "def load_data_file_cold(file, stats):\n",
    "    print('loading file:' + file)\n",
    "    training_df = pd.read_csv(\n",
    "        file,\n",
    "        skiprows=[0],\n",
    "        names=[\"viewer\",\"broadcaster\",\"viewer_age\",\"viewer_gender\",\"viewer_longitude\",\"viewer_latitude\",\"viewer_lang\",\"viewer_country\",\"broadcaster_age\",\"broadcaster_gender\",\"broadcaster_longitude\",\"broadcaster_latitude\",\"broadcaster_lang\",\"broadcaster_country\",\"duration\", \"viewer_network\", \"broadcaster_network\", \"count\"], dtype={\n",
    "            'viewer': np.unicode,\n",
    "            'broadcaster': np.unicode,\n",
    "            'viewer_age': np.single,\n",
    "            'viewer_gender': np.unicode,\n",
    "            'viewer_longitude': np.single,\n",
    "            'viewer_latitude': np.single,\n",
    "            'viewer_lang': np.unicode,\n",
    "            'viewer_country': np.unicode,\n",
    "            'broadcaster_age': np.single,\n",
    "            'broadcaster_longitude': np.single,\n",
    "            'broadcaster_latitude': np.single,\n",
    "            'broadcaster_lang': np.unicode,\n",
    "            'broadcaster_country': np.unicode,\n",
    "            'viewer_network': np.unicode,\n",
    "            'broadcaster_network': np.unicode,\n",
    "            'count': np.int\n",
    "        })\n",
    "\n",
    "    values = {\n",
    "        'viewer': 'unknown',\n",
    "        'broadcaster': 'unknown',\n",
    "        'viewer_age': 30,\n",
    "        'viewer_gender': 'unknown',\n",
    "        'viewer_longitude': 0,\n",
    "        'viewer_latitude': 0,\n",
    "        'viewer_lang': 'unknown',\n",
    "        'viewer_country': 'unknown',\n",
    "        'broadcaster_age': 30,\n",
    "        'broadcaster_longitude': 0,\n",
    "        'broadcaster_latitude': 0,\n",
    "        'broadcaster_lang': 'unknown',\n",
    "        'broadcaster_country': 'unknown',\n",
    "        'duration': 0,\n",
    "        'viewer_network': 'unknown',\n",
    "        'broadcaster_network': 'unknown',\n",
    "        'count': 0\n",
    "    }\n",
    "    training_df.fillna(value=values, inplace=True)\n",
    "    print(training_df.head(10))\n",
    "    print(training_df.iloc[-10:])\n",
    "#     stats.send_stats('data-size', len(training_df.index))\n",
    "    return training_df\n",
    "\n",
    "\n",
    "def load_training_data_cold(file, stats):\n",
    "    ratings_df = load_data_file_cold(file, stats)\n",
    "    print('creating data set')\n",
    "    training_ds = (\n",
    "        tf.data.Dataset.from_tensor_slices(\n",
    "            ({\n",
    "                \"viewer\": tf.cast(\n",
    "                    ratings_df['viewer'].values,\n",
    "                    tf.string),\n",
    "                \"viewer_gender\": tf.cast(\n",
    "                    ratings_df['viewer_gender'].values,\n",
    "                    tf.string),\n",
    "                \"viewer_lang\": tf.cast(\n",
    "                    ratings_df['viewer_lang'].values,\n",
    "                    tf.string),\n",
    "                \"viewer_country\": tf.cast(\n",
    "                    ratings_df['viewer_country'].values,\n",
    "                    tf.string),\n",
    "                \"viewer_age\": tf.cast(\n",
    "                    ratings_df['viewer_age'].values,\n",
    "                    tf.int16),\n",
    "                \"viewer_longitude\": tf.cast(\n",
    "                    ratings_df['viewer_longitude'].values,\n",
    "                    tf.float16),\n",
    "                \"viewer_latitude\": tf.cast(\n",
    "                    ratings_df['viewer_latitude'].values,\n",
    "                    tf.float16),\n",
    "                \"broadcaster\": tf.cast(\n",
    "                    ratings_df['broadcaster'].values,\n",
    "                    tf.string),\n",
    "                \"viewer_network\": tf.cast(\n",
    "                    ratings_df['viewer_network'].values,\n",
    "                    tf.string),\n",
    "                \"broadcaster_network\": tf.cast(\n",
    "                    ratings_df['broadcaster_network'].values,\n",
    "                    tf.string),\n",
    "            })))\n",
    "\n",
    "    return training_ds"
   ]
  },
  {
   "cell_type": "code",
   "execution_count": 10,
   "id": "35981a60",
   "metadata": {},
   "outputs": [],
   "source": [
    "def prepare_training_data_cold(train_ds):\n",
    "    print('prepare_training_data')\n",
    "    training_ds = train_ds.cache().map(lambda x: {\n",
    "        \"broadcaster\": x[\"broadcaster\"],\n",
    "        \"viewer\": x[\"viewer\"],\n",
    "        \"viewer_gender\": x[\"viewer_gender\"],\n",
    "        \"viewer_lang\": x[\"viewer_lang\"],\n",
    "        \"viewer_country\": x[\"viewer_country\"],\n",
    "        \"viewer_age\": x[\"viewer_age\"],\n",
    "        \"viewer_longitude\": x[\"viewer_longitude\"],\n",
    "        \"viewer_latitude\": x[\"viewer_latitude\"],\n",
    "        \"viewer_network\": x[\"viewer_network\"],\n",
    "        \"broadcaster_network\": x[\"broadcaster_network\"],\n",
    "    }, num_parallel_calls=tf.data.AUTOTUNE,\n",
    "       deterministic=False)\n",
    "\n",
    "    print('done prepare_training_data')\n",
    "    return training_ds\n",
    "\n",
    "def get_broadcaster_data_set(train_ds):\n",
    "    broadcasters = train_ds.cache().map(lambda x: x[\"broadcaster\"], num_parallel_calls=tf.data.AUTOTUNE, deterministic=False)\n",
    "    broadcasters_ds = tf.data.Dataset.from_tensor_slices(\n",
    "        np.unique(list(broadcasters.as_numpy_iterator())))\n",
    "    return broadcasters_ds\n",
    "\n",
    "def get_list(training_data, key):\n",
    "    return training_data.batch(1_000_000).map(lambda x: x[key], num_parallel_calls=tf.data.AUTOTUNE, deterministic=False)\n",
    "\n",
    "def get_unique_list(data):\n",
    "    return np.unique(np.concatenate(list(data)))"
   ]
  },
  {
   "cell_type": "code",
   "execution_count": 11,
   "id": "1f354d4e",
   "metadata": {},
   "outputs": [
    {
     "name": "stdout",
     "output_type": "stream",
     "text": [
      "loading file:s3://ling-cold-start-data/2021-09-08/a3d86f3b-eb45-4641-b05d-30dff7423e6b.csv\n",
      "             viewer       broadcaster  viewer_age viewer_gender  \\\n",
      "0   meetme:19714617  meetme:242525021        39.0        female   \n",
      "1   skout:161675320   skout:167570679        46.0          male   \n",
      "2     pof:333093026      pof:77411971        28.0          male   \n",
      "3     pof:324991301     pof:207032171        39.0          male   \n",
      "4   skout:177541297  meetme:316500815        41.0          male   \n",
      "5  meetme:258247855  meetme:314497940        36.0          male   \n",
      "6    meetme:8237459  meetme:213050479        52.0          male   \n",
      "7   meetme:84182876   skout:175969618        32.0          male   \n",
      "8   skout:176797432  meetme:309441196        51.0          male   \n",
      "9  meetme:282314746  meetme:226200204        32.0          male   \n",
      "\n",
      "   viewer_longitude  viewer_latitude viewer_lang viewer_country  \\\n",
      "0       -118.380096        34.093899          en             US   \n",
      "1        120.963997        14.693000          en             GB   \n",
      "2        -81.500000        32.200001          en             US   \n",
      "3        -78.800003        35.799999          en             US   \n",
      "4        121.033997        14.795000          en             GB   \n",
      "5        -83.934097        43.431999          en             US   \n",
      "6        -83.958298        43.596802          en             US   \n",
      "7       -118.618896        34.493801          en             US   \n",
      "8         -0.122000        51.495998          fa             AF   \n",
      "9        106.908897        -6.238000          id             ID   \n",
      "\n",
      "   broadcaster_age broadcaster_gender  broadcaster_longitude  \\\n",
      "0             35.0             female             -87.625397   \n",
      "1             50.0             female             121.630997   \n",
      "2             26.0             female             -81.500000   \n",
      "3             44.0             female             -78.599998   \n",
      "4             88.0             female             121.987000   \n",
      "5             34.0             female             -73.986603   \n",
      "6             31.0             female            -122.296402   \n",
      "7             34.0             female            -117.202003   \n",
      "8             46.0             female              -0.238700   \n",
      "9             23.0             female             110.712196   \n",
      "\n",
      "   broadcaster_latitude broadcaster_lang broadcaster_country  duration  \\\n",
      "0             41.878201               en                  US     21448   \n",
      "1             18.358999               en                  PH      1789   \n",
      "2             31.200001               en                  US       561   \n",
      "3             35.799999               en                  US      1205   \n",
      "4              6.429600               en                  PH       369   \n",
      "5             40.715302               en                  US       775   \n",
      "6             47.661900               en                  US      2534   \n",
      "7             33.928001               en                  US      1467   \n",
      "8             51.796600               en                  GB        48   \n",
      "9             -7.614500               id                  ID      5264   \n",
      "\n",
      "  viewer_network broadcaster_network  count  \n",
      "0         meetme              meetme     24  \n",
      "1          skout               skout      7  \n",
      "2            pof                 pof      1  \n",
      "3            pof                 pof     10  \n",
      "4          skout              meetme      3  \n",
      "5         meetme              meetme      1  \n",
      "6         meetme              meetme      6  \n",
      "7         meetme               skout      5  \n",
      "8          skout              meetme      2  \n",
      "9         meetme              meetme     12  \n",
      "                   viewer       broadcaster  viewer_age viewer_gender  \\\n",
      "5383918  meetme:215524158  meetme:244277552        33.0          male   \n",
      "5383919     pof:332775044  meetme:288936283        42.0          male   \n",
      "5383920     pof:122027960     pof:315853960        62.0          male   \n",
      "5383921  meetme:280321264  meetme:279413006        41.0          male   \n",
      "5383922  meetme:318217193   skout:166467831        28.0          male   \n",
      "5383923     pof:333177416     pof:153199318        25.0          male   \n",
      "5383924   skout:158538302  meetme:267694898        23.0          male   \n",
      "5383925  meetme:273710830     pof:320108075        38.0          male   \n",
      "5383926     pof:333385326     pof:311492324        33.0          male   \n",
      "5383927  meetme:208894963  meetme:274258940        36.0          male   \n",
      "\n",
      "         viewer_longitude  viewer_latitude viewer_lang viewer_country  \\\n",
      "5383918        110.489304        -7.028100          id             ID   \n",
      "5383919       -113.900002        52.099998          en             US   \n",
      "5383920        -75.300003        40.000000          en             US   \n",
      "5383921       -119.765404        36.861599          en             US   \n",
      "5383922        -73.830002        40.830002          en             US   \n",
      "5383923        -81.599998        30.299999          en             US   \n",
      "5383924        -84.360001        33.914001          en             US   \n",
      "5383925        -83.964203        33.640499          en             US   \n",
      "5383926       -121.500000        38.599998          en             US   \n",
      "5383927        -89.897202        35.341400          en             US   \n",
      "\n",
      "         broadcaster_age broadcaster_gender  broadcaster_longitude  \\\n",
      "5383918             33.0             female             110.403503   \n",
      "5383919             26.0             female            -113.416000   \n",
      "5383920             31.0             female             -84.000000   \n",
      "5383921             34.0             female            -118.293999   \n",
      "5383922             34.0             female             -84.592003   \n",
      "5383923             33.0             female             -87.800003   \n",
      "5383924             27.0             female             -84.319000   \n",
      "5383925             35.0             female             -84.300003   \n",
      "5383926             42.0               male            -121.500000   \n",
      "5383927             24.0             female             -86.785004   \n",
      "\n",
      "         broadcaster_latitude broadcaster_lang broadcaster_country  duration  \\\n",
      "5383918             -7.262300               id                  ID       289   \n",
      "5383919             53.355301               en                  CA        66   \n",
      "5383920             34.000000               en                  US        73   \n",
      "5383921             33.888901               en                  US       732   \n",
      "5383922             33.803001               en                  US       115   \n",
      "5383923             41.900002               en                  US       198   \n",
      "5383924             33.512001               en                  US       676   \n",
      "5383925             33.599998               en                  US       262   \n",
      "5383926             38.599998               en                  US       236   \n",
      "5383927             35.994598               en                  US      3593   \n",
      "\n",
      "        viewer_network broadcaster_network  count  \n",
      "5383918         meetme              meetme      1  \n",
      "5383919            pof              meetme      1  \n",
      "5383920            pof                 pof      1  \n",
      "5383921         meetme              meetme      1  \n",
      "5383922         meetme               skout      1  \n",
      "5383923            pof                 pof      3  \n",
      "5383924          skout              meetme      1  \n",
      "5383925         meetme                 pof      1  \n",
      "5383926            pof                 pof      1  \n",
      "5383927         meetme              meetme      7  \n",
      "creating data set\n"
     ]
    }
   ],
   "source": [
    "training_dataset = load_training_data_cold(file=data_location, stats=\"\")"
   ]
  },
  {
   "cell_type": "code",
   "execution_count": 12,
   "id": "34cd86bc",
   "metadata": {},
   "outputs": [
    {
     "name": "stdout",
     "output_type": "stream",
     "text": [
      "prepare_training_data\n",
      "done prepare_training_data\n"
     ]
    }
   ],
   "source": [
    "train = prepare_training_data_cold(training_dataset)"
   ]
  },
  {
   "cell_type": "code",
   "execution_count": 13,
   "id": "0720ff44",
   "metadata": {},
   "outputs": [],
   "source": [
    "broadcasters_data_set = get_broadcaster_data_set(training_dataset)"
   ]
  },
  {
   "cell_type": "markdown",
   "id": "97154b97",
   "metadata": {},
   "source": [
    "### Prepare features"
   ]
  },
  {
   "cell_type": "code",
   "execution_count": 14,
   "id": "ab1916a3",
   "metadata": {},
   "outputs": [],
   "source": [
    "def get_list(training_data, key):\n",
    "    return training_data.batch(1_000_000).map(lambda x: x[key], num_parallel_calls=tf.data.AUTOTUNE, deterministic=False)\n",
    "\n",
    "\n",
    "def get_unique_list(data):\n",
    "    return np.unique(np.concatenate(list(data)))"
   ]
  },
  {
   "cell_type": "code",
   "execution_count": 15,
   "id": "190d8a0b",
   "metadata": {},
   "outputs": [],
   "source": [
    "user_genders = get_list(train, 'viewer_gender')"
   ]
  },
  {
   "cell_type": "code",
   "execution_count": 16,
   "id": "09c448de",
   "metadata": {},
   "outputs": [],
   "source": [
    "user_langs = get_list(train, 'viewer_lang')"
   ]
  },
  {
   "cell_type": "code",
   "execution_count": 17,
   "id": "f76f2118",
   "metadata": {},
   "outputs": [],
   "source": [
    "user_countries = get_list(train, 'viewer_country')"
   ]
  },
  {
   "cell_type": "code",
   "execution_count": 18,
   "id": "c39906ed",
   "metadata": {},
   "outputs": [],
   "source": [
    "viewer_age = get_list(train, 'viewer_age')"
   ]
  },
  {
   "cell_type": "code",
   "execution_count": 19,
   "id": "b7b7efba",
   "metadata": {},
   "outputs": [],
   "source": [
    "user_networks = get_list(train, 'viewer_network')"
   ]
  },
  {
   "cell_type": "code",
   "execution_count": 20,
   "id": "cdb42fbd",
   "metadata": {},
   "outputs": [],
   "source": [
    "unique_user_genders = get_unique_list(user_genders)"
   ]
  },
  {
   "cell_type": "code",
   "execution_count": 21,
   "id": "7e645352",
   "metadata": {},
   "outputs": [],
   "source": [
    "unique_user_langs = get_unique_list(user_langs)"
   ]
  },
  {
   "cell_type": "code",
   "execution_count": 22,
   "id": "1c509671",
   "metadata": {},
   "outputs": [],
   "source": [
    "unique_user_countries = get_unique_list(user_countries)"
   ]
  },
  {
   "cell_type": "code",
   "execution_count": 23,
   "id": "3111f5e3",
   "metadata": {},
   "outputs": [],
   "source": [
    "unique_user_networks = get_unique_list(user_networks)"
   ]
  },
  {
   "cell_type": "code",
   "execution_count": 24,
   "id": "95b56f61",
   "metadata": {},
   "outputs": [],
   "source": [
    "user_model = UserModel(unique_user_genders, unique_user_langs, unique_user_countries, unique_user_networks, viewer_age)  "
   ]
  },
  {
   "cell_type": "code",
   "execution_count": 25,
   "id": "4911869b",
   "metadata": {},
   "outputs": [],
   "source": [
    "broadcaster_ids = get_list(train, 'broadcaster')"
   ]
  },
  {
   "cell_type": "code",
   "execution_count": 26,
   "id": "e12fe216",
   "metadata": {},
   "outputs": [],
   "source": [
    "unique_broadcasters = get_unique_list(broadcaster_ids)"
   ]
  },
  {
   "cell_type": "code",
   "execution_count": 27,
   "id": "ada26e66",
   "metadata": {},
   "outputs": [],
   "source": [
    "broadcaster_embedding_dimension = 32"
   ]
  },
  {
   "cell_type": "code",
   "execution_count": 28,
   "id": "71fbe479",
   "metadata": {
    "scrolled": false
   },
   "outputs": [],
   "source": [
    "broadcaster_model = BroadcasterModel(unique_broadcasters, broadcaster_embedding_dimension)"
   ]
  },
  {
   "cell_type": "code",
   "execution_count": 29,
   "id": "f32bf18e",
   "metadata": {},
   "outputs": [],
   "source": [
    "metrics = tfrs.metrics.FactorizedTopK(candidates=broadcasters_data_set.batch(128).map(broadcaster_model))"
   ]
  },
  {
   "cell_type": "code",
   "execution_count": 30,
   "id": "7e3a41c7",
   "metadata": {},
   "outputs": [],
   "source": [
    "task = tfrs.tasks.Retrieval(\n",
    "    metrics=metrics\n",
    ")"
   ]
  },
  {
   "cell_type": "code",
   "execution_count": 32,
   "id": "b331d00c",
   "metadata": {},
   "outputs": [],
   "source": [
    "class TwoTowers(tf.keras.Model):\n",
    "\n",
    "    def __init__(self, broadcaster_model, user_model, task):\n",
    "        super().__init__()\n",
    "        self.broadcaster_model: tf.keras.Model = broadcaster_model\n",
    "        self.embedding_model = user_model\n",
    "        self.task: tf.keras.layers.Layer = task\n",
    "\n",
    "    def train_step(self, features: Dict[Text, tf.Tensor]) -> tf.Tensor:\n",
    "\n",
    "        # Set up a gradient tape to record gradients.\n",
    "        with tf.GradientTape() as tape:\n",
    "\n",
    "            # Loss computation.\n",
    "\n",
    "            user_embeddings = self.embedding_model({\n",
    "                \"viewer_gender\": features[\"viewer_gender\"],\n",
    "                \"viewer_lang\": features[\"viewer_lang\"],\n",
    "                \"viewer_country\": features[\"viewer_country\"],\n",
    "                \"viewer_network\": features[\"viewer_network\"],\n",
    "                \"viewer_age\": features[\"viewer_age\"],\n",
    "            })\n",
    "            positive_movie_embeddings = self.broadcaster_model(\n",
    "                features[\"broadcaster\"])\n",
    "            loss = self.task(user_embeddings, positive_movie_embeddings)\n",
    "\n",
    "            # Handle regularization losses as well.\n",
    "            regularization_loss = sum(self.losses)\n",
    "\n",
    "            total_loss = loss + regularization_loss\n",
    "\n",
    "        gradients = tape.gradient(total_loss, self.trainable_variables)\n",
    "        self.optimizer.apply_gradients(\n",
    "            zip(gradients, self.trainable_variables))\n",
    "\n",
    "        metrics = {metric.name: metric.result() for metric in self.metrics}\n",
    "        metrics[\"loss\"] = loss\n",
    "        metrics[\"regularization_loss\"] = regularization_loss\n",
    "        metrics[\"total_loss\"] = total_loss\n",
    "\n",
    "        return metrics\n",
    "\n",
    "    def test_step(self, features: Dict[Text, tf.Tensor]) -> tf.Tensor:\n",
    "\n",
    "        # Loss computation.\n",
    "\n",
    "        user_embeddings = self.embedding_model({\n",
    "            \"viewer\": features[\"viewer\"],\n",
    "        })\n",
    "        positive_movie_embeddings = self.broadcaster_model(\n",
    "            features[\"broadcaster\"])\n",
    "        loss = self.task(user_embeddings, positive_movie_embeddings)\n",
    "\n",
    "        # Handle regularization losses as well.\n",
    "        regularization_loss = sum(self.losses)\n",
    "\n",
    "        total_loss = loss + regularization_loss\n",
    "\n",
    "        metrics = {metric.name: metric.result() for metric in self.metrics}\n",
    "        metrics[\"loss\"] = loss\n",
    "        metrics[\"regularization_loss\"] = regularization_loss\n",
    "        metrics[\"total_loss\"] = total_loss\n",
    "        return metrics\n"
   ]
  },
  {
   "cell_type": "code",
   "execution_count": 33,
   "id": "0bfc3078",
   "metadata": {},
   "outputs": [],
   "source": [
    "model = TwoTowers(broadcaster_model, user_model, task)"
   ]
  },
  {
   "cell_type": "code",
   "execution_count": 34,
   "id": "979d4cb4",
   "metadata": {},
   "outputs": [],
   "source": [
    "learning_rate = 0.05\n",
    "batch_size = 16384\n",
    "epochs = 2\n",
    "top_k = 1999"
   ]
  },
  {
   "cell_type": "code",
   "execution_count": 35,
   "id": "580f82bb",
   "metadata": {},
   "outputs": [],
   "source": [
    "model.compile(optimizer=tf.keras.optimizers.Adagrad(learning_rate=learning_rate))"
   ]
  },
  {
   "cell_type": "code",
   "execution_count": 36,
   "id": "a3c376e5",
   "metadata": {},
   "outputs": [],
   "source": [
    "train_ds = train.batch(batch_size).cache()\n",
    "# train_ds = train_ds.prefetch(tf.data.experimental.AUTOTUNE)"
   ]
  },
  {
   "cell_type": "code",
   "execution_count": null,
   "id": "ec6b693e",
   "metadata": {
    "scrolled": false
   },
   "outputs": [
    {
     "name": "stdout",
     "output_type": "stream",
     "text": [
      "WARNING:tensorflow:From /home/ec2-user/anaconda3/envs/python3/lib/python3.6/site-packages/tensorflow/python/ops/array_ops.py:5049: calling gather (from tensorflow.python.ops.array_ops) with validate_indices is deprecated and will be removed in a future version.\n",
      "Instructions for updating:\n",
      "The `validate_indices` argument has no effect. Indices are always validated on CPU and never validated on GPU.\n",
      "329/329 [==============================] - 29280s 89s/step - factorized_top_k/top_1_categorical_accuracy: 5.2378e-04 - factorized_top_k/top_5_categorical_accuracy: 0.0040 - factorized_top_k/top_10_categorical_accuracy: 0.0078 - factorized_top_k/top_50_categorical_accuracy: 0.0296 - factorized_top_k/top_100_categorical_accuracy: 0.0499 - loss: 146342.7318 - regularization_loss: 0.0000e+00 - total_loss: 146342.7318\n"
     ]
    },
    {
     "data": {
      "text/plain": [
       "<tensorflow.python.keras.callbacks.History at 0x7fb5c6d69668>"
      ]
     },
     "execution_count": 37,
     "metadata": {},
     "output_type": "execute_result"
    }
   ],
   "source": [
    "model.fit(train_ds, epochs=1)"
   ]
  },
  {
   "cell_type": "code",
   "execution_count": 39,
   "id": "cfba7e50",
   "metadata": {},
   "outputs": [
    {
     "data": {
      "text/plain": [
       "'s3://ling-cold-start-data/2021-09-08/a3d86f3b-eb45-4641-b05d-30dff7423e6b.csv'"
      ]
     },
     "execution_count": 39,
     "metadata": {},
     "output_type": "execute_result"
    }
   ],
   "source": [
    "data_location"
   ]
  },
  {
   "cell_type": "code",
   "execution_count": 44,
   "id": "47a00a57",
   "metadata": {},
   "outputs": [],
   "source": [
    "from datetime import date"
   ]
  },
  {
   "cell_type": "code",
   "execution_count": 45,
   "id": "594918b4",
   "metadata": {},
   "outputs": [],
   "source": [
    "model_location = \"s3://{}/{}/{}\".format(bucket, prefix, date.today())"
   ]
  },
  {
   "cell_type": "code",
   "execution_count": 46,
   "id": "3d130e52",
   "metadata": {},
   "outputs": [
    {
     "data": {
      "text/plain": [
       "'s3://ling-cold-start-data/2021-09-08/2021-09-16'"
      ]
     },
     "execution_count": 46,
     "metadata": {},
     "output_type": "execute_result"
    }
   ],
   "source": [
    "model_location"
   ]
  },
  {
   "cell_type": "code",
   "execution_count": 47,
   "id": "492f51f7",
   "metadata": {},
   "outputs": [
    {
     "name": "stdout",
     "output_type": "stream",
     "text": [
      "create index\n",
      "Recommendations for user lam: [[b'meetme:216401566' b'meetme:260974973' b'meetme:213547896' ...\n",
      "  b'skout:183636079' b'meetme:308353225' b'meetme:318247417']]\n",
      "Recommendations for user cal: [[b'pof:172999642' b'pof:333413485' b'pof:317513630' ... b'pof:329246893'\n",
      "  b'pof:313957900' b'pof:332191762']]\n",
      "Recommendations for user 32: [[b'skout:142826829' b'skout:181048236' b'skout:137840011' ...\n",
      "  b'meetme:150794322' b'meetme:280917015' b'meetme:266748404']]\n"
     ]
    },
    {
     "name": "stderr",
     "output_type": "stream",
     "text": [
      "WARNING:absl:Found untraced functions such as query_with_exclusions while saving (showing 1 of 1). These functions will not be directly callable after loading.\n"
     ]
    },
    {
     "name": "stdout",
     "output_type": "stream",
     "text": [
      "INFO:tensorflow:Assets written to: s3://ling-cold-start-data/2021-09-08/2021-09-16/assets\n"
     ]
    },
    {
     "name": "stderr",
     "output_type": "stream",
     "text": [
      "INFO:tensorflow:Assets written to: s3://ling-cold-start-data/2021-09-08/2021-09-16/assets\n"
     ]
    }
   ],
   "source": [
    "print(\"create index\")\n",
    "index = tfrs.layers.factorized_top_k.BruteForce(\n",
    "    query_model=user_model,\n",
    "    k=top_k,\n",
    ")\n",
    "\n",
    "index.index(\n",
    "    broadcasters_data_set.batch(10000).map(\n",
    "        model.broadcaster_model),\n",
    "    broadcasters_data_set)\n",
    "\n",
    "_, titles = index(\n",
    "    {\n",
    "        \"viewer_gender\": tf.constant([\"male\"]),\n",
    "        \"viewer_lang\": tf.constant([\"en\"]),\n",
    "        \"viewer_country\": tf.constant([\"US\"]),\n",
    "        \"viewer_age\": tf.constant([38]),\n",
    "        \"viewer_longitude\": tf.constant([-74.89611]),\n",
    "        \"viewer_latitude\": tf.constant([40.36393]),\n",
    "        \"viewer_network\": tf.constant([\"meetme\"]),\n",
    "    }\n",
    ")\n",
    "\n",
    "print(f\"Recommendations for user lam: {titles}\")\n",
    "\n",
    "_, titles = index(\n",
    "    {\n",
    "        \"viewer_gender\": tf.constant([\"male\"]),\n",
    "        \"viewer_lang\": tf.constant([\"en\"]),\n",
    "        \"viewer_country\": tf.constant([\"US\"]),\n",
    "        \"viewer_age\": tf.constant([28]),\n",
    "        \"viewer_longitude\": tf.constant([-118.41625]),\n",
    "        \"viewer_latitude\": tf.constant([34.10313]),\n",
    "        \"viewer_network\": tf.constant([\"pof\"]),\n",
    "    }\n",
    ")\n",
    "\n",
    "print(f\"Recommendations for user cal: {titles}\")\n",
    "\n",
    "_, titles = index(\n",
    "    {\n",
    "        \"viewer_gender\": tf.constant([\"female\"]),\n",
    "        \"viewer_lang\": tf.constant([\"en\"]),\n",
    "        \"viewer_country\": tf.constant([\"US\"]),\n",
    "        \"viewer_age\": tf.constant([32]),\n",
    "        \"viewer_longitude\": tf.constant([-74.89611]),\n",
    "        \"viewer_latitude\": tf.constant([40.36393]),\n",
    "        \"viewer_network\": tf.constant([\"skout\"]),\n",
    "    }\n",
    ")\n",
    "\n",
    "print(f\"Recommendations for user 32: {titles}\")\n",
    "\n",
    "index.save(model_location)\n"
   ]
  },
  {
   "cell_type": "code",
   "execution_count": null,
   "id": "c55e7df9",
   "metadata": {},
   "outputs": [],
   "source": []
  }
 ],
 "metadata": {
  "kernelspec": {
   "display_name": "Python 3",
   "language": "python",
   "name": "python3"
  },
  "language_info": {
   "codemirror_mode": {
    "name": "ipython",
    "version": 3
   },
   "file_extension": ".py",
   "mimetype": "text/x-python",
   "name": "python",
   "nbconvert_exporter": "python",
   "pygments_lexer": "ipython3",
   "version": "3.7.7"
  }
 },
 "nbformat": 4,
 "nbformat_minor": 5
}
