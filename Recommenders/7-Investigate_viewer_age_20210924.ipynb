{
 "cells": [
  {
   "cell_type": "markdown",
   "id": "60a09534",
   "metadata": {},
   "source": [
    "### Read-in downloaded data"
   ]
  },
  {
   "cell_type": "code",
   "execution_count": 1,
   "id": "dbc34a39",
   "metadata": {},
   "outputs": [],
   "source": [
    "import pandas as pd"
   ]
  },
  {
   "cell_type": "code",
   "execution_count": 2,
   "id": "64f2afe6",
   "metadata": {},
   "outputs": [],
   "source": [
    "raw = pd.read_csv(\"csv/2021-09-23.csv\", index_col = False)"
   ]
  },
  {
   "cell_type": "code",
   "execution_count": 3,
   "id": "eb4a4548",
   "metadata": {},
   "outputs": [
    {
     "name": "stdout",
     "output_type": "stream",
     "text": [
      "<class 'pandas.core.frame.DataFrame'>\n",
      "RangeIndex: 5326586 entries, 0 to 5326585\n",
      "Data columns (total 17 columns):\n",
      " #   Column                 Dtype  \n",
      "---  ------                 -----  \n",
      " 0   viewer_id              object \n",
      " 1   broadcaster_id         object \n",
      " 2   viewer_age             float64\n",
      " 3   viewer_gender          object \n",
      " 4   viewer_longitude       float64\n",
      " 5   viewer_latitude        float64\n",
      " 6   viewer_lang            object \n",
      " 7   viewer_country         object \n",
      " 8   broadcaster_age        float64\n",
      " 9   broadcaster_gender     object \n",
      " 10  broadcaster_longitude  float64\n",
      " 11  broadcaster_latitude   float64\n",
      " 12  broadcaster_lang       object \n",
      " 13  broadcaster_country    object \n",
      " 14  duration               int64  \n",
      " 15  viewer_network         object \n",
      " 16  broadcaster_network    object \n",
      "dtypes: float64(6), int64(1), object(10)\n",
      "memory usage: 690.9+ MB\n"
     ]
    }
   ],
   "source": [
    "raw.info()"
   ]
  },
  {
   "cell_type": "code",
   "execution_count": 4,
   "id": "c615553c",
   "metadata": {},
   "outputs": [],
   "source": [
    "data = raw.sample(frac = 0.1)"
   ]
  },
  {
   "cell_type": "code",
   "execution_count": 5,
   "id": "2bd52d81",
   "metadata": {},
   "outputs": [
    {
     "data": {
      "text/html": [
       "<div>\n",
       "<style scoped>\n",
       "    .dataframe tbody tr th:only-of-type {\n",
       "        vertical-align: middle;\n",
       "    }\n",
       "\n",
       "    .dataframe tbody tr th {\n",
       "        vertical-align: top;\n",
       "    }\n",
       "\n",
       "    .dataframe thead th {\n",
       "        text-align: right;\n",
       "    }\n",
       "</style>\n",
       "<table border=\"1\" class=\"dataframe\">\n",
       "  <thead>\n",
       "    <tr style=\"text-align: right;\">\n",
       "      <th></th>\n",
       "      <th>viewer_id</th>\n",
       "      <th>broadcaster_id</th>\n",
       "      <th>viewer_age</th>\n",
       "      <th>viewer_gender</th>\n",
       "      <th>viewer_longitude</th>\n",
       "      <th>viewer_latitude</th>\n",
       "      <th>viewer_lang</th>\n",
       "      <th>viewer_country</th>\n",
       "      <th>broadcaster_age</th>\n",
       "      <th>broadcaster_gender</th>\n",
       "      <th>broadcaster_longitude</th>\n",
       "      <th>broadcaster_latitude</th>\n",
       "      <th>broadcaster_lang</th>\n",
       "      <th>broadcaster_country</th>\n",
       "      <th>duration</th>\n",
       "      <th>viewer_network</th>\n",
       "      <th>broadcaster_network</th>\n",
       "    </tr>\n",
       "  </thead>\n",
       "  <tbody>\n",
       "    <tr>\n",
       "      <th>3588302</th>\n",
       "      <td>6b 3a 66 b2 85 9c 9d 0d 18 20 58 98 e7 66 87 42</td>\n",
       "      <td>12 6f 33 3b 5c d5 92 93 0b 83 77 95 65 bf 97 23</td>\n",
       "      <td>29.0</td>\n",
       "      <td>male</td>\n",
       "      <td>-117.412800</td>\n",
       "      <td>35.0998</td>\n",
       "      <td>en</td>\n",
       "      <td>US</td>\n",
       "      <td>23.0</td>\n",
       "      <td>female</td>\n",
       "      <td>101.3957</td>\n",
       "      <td>14.6619</td>\n",
       "      <td>en</td>\n",
       "      <td>TH</td>\n",
       "      <td>86</td>\n",
       "      <td>meetme</td>\n",
       "      <td>meetme</td>\n",
       "    </tr>\n",
       "    <tr>\n",
       "      <th>1562095</th>\n",
       "      <td>78 3b 78 5a 07 5a 88 65 5a 1b f2 d4 70 e3 16 42</td>\n",
       "      <td>0c 0f 34 9d a3 db 62 8c 22 2e bf b0 d7 ad 5d 27</td>\n",
       "      <td>25.0</td>\n",
       "      <td>male</td>\n",
       "      <td>-82.447998</td>\n",
       "      <td>29.0620</td>\n",
       "      <td>es</td>\n",
       "      <td>US</td>\n",
       "      <td>27.0</td>\n",
       "      <td>female</td>\n",
       "      <td>-81.4593</td>\n",
       "      <td>29.0552</td>\n",
       "      <td>en</td>\n",
       "      <td>US</td>\n",
       "      <td>99</td>\n",
       "      <td>skout</td>\n",
       "      <td>meetme</td>\n",
       "    </tr>\n",
       "    <tr>\n",
       "      <th>4163834</th>\n",
       "      <td>6b ca ca 75 ae 55 2f 2e 72 97 cf ee 68 02 c8 1d</td>\n",
       "      <td>7a c1 a2 66 10 06 30 5b 17 ee 1f ba b3 9d 68 fe</td>\n",
       "      <td>50.0</td>\n",
       "      <td>male</td>\n",
       "      <td>-82.200000</td>\n",
       "      <td>43.4000</td>\n",
       "      <td>en</td>\n",
       "      <td>US</td>\n",
       "      <td>26.0</td>\n",
       "      <td>female</td>\n",
       "      <td>-82.2000</td>\n",
       "      <td>43.4000</td>\n",
       "      <td>en</td>\n",
       "      <td>US</td>\n",
       "      <td>590</td>\n",
       "      <td>pof</td>\n",
       "      <td>pof</td>\n",
       "    </tr>\n",
       "    <tr>\n",
       "      <th>864591</th>\n",
       "      <td>51 9c 65 e5 1b 64 4f e7 15 9d 03 a9 07 d5 59 f7</td>\n",
       "      <td>a1 c2 df a0 57 c5 8e 57 a7 27 5d a9 c1 b6 35 87</td>\n",
       "      <td>34.0</td>\n",
       "      <td>male</td>\n",
       "      <td>-73.875600</td>\n",
       "      <td>42.6433</td>\n",
       "      <td>en</td>\n",
       "      <td>US</td>\n",
       "      <td>51.0</td>\n",
       "      <td>female</td>\n",
       "      <td>-118.2393</td>\n",
       "      <td>35.0634</td>\n",
       "      <td>en</td>\n",
       "      <td>US</td>\n",
       "      <td>2681</td>\n",
       "      <td>meetme</td>\n",
       "      <td>meetme</td>\n",
       "    </tr>\n",
       "    <tr>\n",
       "      <th>4161195</th>\n",
       "      <td>b5 03 36 3d d0 bf 04 1f f4 dc 49 72 77 68 a1 18</td>\n",
       "      <td>4f 4d 04 2e 0d cf f7 bd bd a9 34 a3 12 be 76 98</td>\n",
       "      <td>43.0</td>\n",
       "      <td>male</td>\n",
       "      <td>-98.000000</td>\n",
       "      <td>19.6000</td>\n",
       "      <td>en</td>\n",
       "      <td>US</td>\n",
       "      <td>58.0</td>\n",
       "      <td>female</td>\n",
       "      <td>-72.5116</td>\n",
       "      <td>6.6987</td>\n",
       "      <td>es</td>\n",
       "      <td>CO</td>\n",
       "      <td>619</td>\n",
       "      <td>pof</td>\n",
       "      <td>meetme</td>\n",
       "    </tr>\n",
       "  </tbody>\n",
       "</table>\n",
       "</div>"
      ],
      "text/plain": [
       "                                               viewer_id  \\\n",
       "3588302  6b 3a 66 b2 85 9c 9d 0d 18 20 58 98 e7 66 87 42   \n",
       "1562095  78 3b 78 5a 07 5a 88 65 5a 1b f2 d4 70 e3 16 42   \n",
       "4163834  6b ca ca 75 ae 55 2f 2e 72 97 cf ee 68 02 c8 1d   \n",
       "864591   51 9c 65 e5 1b 64 4f e7 15 9d 03 a9 07 d5 59 f7   \n",
       "4161195  b5 03 36 3d d0 bf 04 1f f4 dc 49 72 77 68 a1 18   \n",
       "\n",
       "                                          broadcaster_id  viewer_age  \\\n",
       "3588302  12 6f 33 3b 5c d5 92 93 0b 83 77 95 65 bf 97 23        29.0   \n",
       "1562095  0c 0f 34 9d a3 db 62 8c 22 2e bf b0 d7 ad 5d 27        25.0   \n",
       "4163834  7a c1 a2 66 10 06 30 5b 17 ee 1f ba b3 9d 68 fe        50.0   \n",
       "864591   a1 c2 df a0 57 c5 8e 57 a7 27 5d a9 c1 b6 35 87        34.0   \n",
       "4161195  4f 4d 04 2e 0d cf f7 bd bd a9 34 a3 12 be 76 98        43.0   \n",
       "\n",
       "        viewer_gender  viewer_longitude  viewer_latitude viewer_lang  \\\n",
       "3588302          male       -117.412800          35.0998          en   \n",
       "1562095          male        -82.447998          29.0620          es   \n",
       "4163834          male        -82.200000          43.4000          en   \n",
       "864591           male        -73.875600          42.6433          en   \n",
       "4161195          male        -98.000000          19.6000          en   \n",
       "\n",
       "        viewer_country  broadcaster_age broadcaster_gender  \\\n",
       "3588302             US             23.0             female   \n",
       "1562095             US             27.0             female   \n",
       "4163834             US             26.0             female   \n",
       "864591              US             51.0             female   \n",
       "4161195             US             58.0             female   \n",
       "\n",
       "         broadcaster_longitude  broadcaster_latitude broadcaster_lang  \\\n",
       "3588302               101.3957               14.6619               en   \n",
       "1562095               -81.4593               29.0552               en   \n",
       "4163834               -82.2000               43.4000               en   \n",
       "864591               -118.2393               35.0634               en   \n",
       "4161195               -72.5116                6.6987               es   \n",
       "\n",
       "        broadcaster_country  duration viewer_network broadcaster_network  \n",
       "3588302                  TH        86         meetme              meetme  \n",
       "1562095                  US        99          skout              meetme  \n",
       "4163834                  US       590            pof                 pof  \n",
       "864591                   US      2681         meetme              meetme  \n",
       "4161195                  CO       619            pof              meetme  "
      ]
     },
     "execution_count": 5,
     "metadata": {},
     "output_type": "execute_result"
    }
   ],
   "source": [
    "data.head()"
   ]
  },
  {
   "cell_type": "markdown",
   "id": "e5098d4c",
   "metadata": {},
   "source": [
    "### Data Inspections"
   ]
  },
  {
   "cell_type": "code",
   "execution_count": 6,
   "id": "cc8c5dee",
   "metadata": {},
   "outputs": [],
   "source": [
    "data_meta = pd.DataFrame(data.nunique(),columns=['num'],index=None).sort_values('num').reset_index()\n",
    "data_meta.columns = ['name','num']\n",
    "data_meta['type'] = 'categorical'"
   ]
  },
  {
   "cell_type": "code",
   "execution_count": 7,
   "id": "1b1013bf",
   "metadata": {},
   "outputs": [
    {
     "data": {
      "text/html": [
       "<div>\n",
       "<style scoped>\n",
       "    .dataframe tbody tr th:only-of-type {\n",
       "        vertical-align: middle;\n",
       "    }\n",
       "\n",
       "    .dataframe tbody tr th {\n",
       "        vertical-align: top;\n",
       "    }\n",
       "\n",
       "    .dataframe thead th {\n",
       "        text-align: right;\n",
       "    }\n",
       "</style>\n",
       "<table border=\"1\" class=\"dataframe\">\n",
       "  <thead>\n",
       "    <tr style=\"text-align: right;\">\n",
       "      <th></th>\n",
       "      <th>name</th>\n",
       "      <th>num</th>\n",
       "      <th>type</th>\n",
       "    </tr>\n",
       "  </thead>\n",
       "  <tbody>\n",
       "    <tr>\n",
       "      <th>0</th>\n",
       "      <td>broadcaster_gender</td>\n",
       "      <td>2</td>\n",
       "      <td>categorical</td>\n",
       "    </tr>\n",
       "    <tr>\n",
       "      <th>1</th>\n",
       "      <td>viewer_gender</td>\n",
       "      <td>2</td>\n",
       "      <td>categorical</td>\n",
       "    </tr>\n",
       "    <tr>\n",
       "      <th>2</th>\n",
       "      <td>broadcaster_network</td>\n",
       "      <td>4</td>\n",
       "      <td>categorical</td>\n",
       "    </tr>\n",
       "    <tr>\n",
       "      <th>3</th>\n",
       "      <td>viewer_network</td>\n",
       "      <td>4</td>\n",
       "      <td>categorical</td>\n",
       "    </tr>\n",
       "    <tr>\n",
       "      <th>4</th>\n",
       "      <td>broadcaster_lang</td>\n",
       "      <td>23</td>\n",
       "      <td>categorical</td>\n",
       "    </tr>\n",
       "    <tr>\n",
       "      <th>5</th>\n",
       "      <td>viewer_lang</td>\n",
       "      <td>53</td>\n",
       "      <td>categorical</td>\n",
       "    </tr>\n",
       "    <tr>\n",
       "      <th>6</th>\n",
       "      <td>broadcaster_age</td>\n",
       "      <td>91</td>\n",
       "      <td>categorical</td>\n",
       "    </tr>\n",
       "    <tr>\n",
       "      <th>7</th>\n",
       "      <td>viewer_age</td>\n",
       "      <td>108</td>\n",
       "      <td>categorical</td>\n",
       "    </tr>\n",
       "    <tr>\n",
       "      <th>8</th>\n",
       "      <td>viewer_country</td>\n",
       "      <td>159</td>\n",
       "      <td>categorical</td>\n",
       "    </tr>\n",
       "    <tr>\n",
       "      <th>9</th>\n",
       "      <td>broadcaster_country</td>\n",
       "      <td>169</td>\n",
       "      <td>categorical</td>\n",
       "    </tr>\n",
       "    <tr>\n",
       "      <th>10</th>\n",
       "      <td>duration</td>\n",
       "      <td>14334</td>\n",
       "      <td>categorical</td>\n",
       "    </tr>\n",
       "    <tr>\n",
       "      <th>11</th>\n",
       "      <td>broadcaster_latitude</td>\n",
       "      <td>43607</td>\n",
       "      <td>categorical</td>\n",
       "    </tr>\n",
       "    <tr>\n",
       "      <th>12</th>\n",
       "      <td>broadcaster_longitude</td>\n",
       "      <td>46970</td>\n",
       "      <td>categorical</td>\n",
       "    </tr>\n",
       "    <tr>\n",
       "      <th>13</th>\n",
       "      <td>broadcaster_id</td>\n",
       "      <td>68270</td>\n",
       "      <td>categorical</td>\n",
       "    </tr>\n",
       "    <tr>\n",
       "      <th>14</th>\n",
       "      <td>viewer_latitude</td>\n",
       "      <td>82111</td>\n",
       "      <td>categorical</td>\n",
       "    </tr>\n",
       "    <tr>\n",
       "      <th>15</th>\n",
       "      <td>viewer_longitude</td>\n",
       "      <td>97258</td>\n",
       "      <td>categorical</td>\n",
       "    </tr>\n",
       "    <tr>\n",
       "      <th>16</th>\n",
       "      <td>viewer_id</td>\n",
       "      <td>247393</td>\n",
       "      <td>categorical</td>\n",
       "    </tr>\n",
       "  </tbody>\n",
       "</table>\n",
       "</div>"
      ],
      "text/plain": [
       "                     name     num         type\n",
       "0      broadcaster_gender       2  categorical\n",
       "1           viewer_gender       2  categorical\n",
       "2     broadcaster_network       4  categorical\n",
       "3          viewer_network       4  categorical\n",
       "4        broadcaster_lang      23  categorical\n",
       "5             viewer_lang      53  categorical\n",
       "6         broadcaster_age      91  categorical\n",
       "7              viewer_age     108  categorical\n",
       "8          viewer_country     159  categorical\n",
       "9     broadcaster_country     169  categorical\n",
       "10               duration   14334  categorical\n",
       "11   broadcaster_latitude   43607  categorical\n",
       "12  broadcaster_longitude   46970  categorical\n",
       "13         broadcaster_id   68270  categorical\n",
       "14        viewer_latitude   82111  categorical\n",
       "15       viewer_longitude   97258  categorical\n",
       "16              viewer_id  247393  categorical"
      ]
     },
     "execution_count": 7,
     "metadata": {},
     "output_type": "execute_result"
    }
   ],
   "source": [
    "data_meta"
   ]
  },
  {
   "cell_type": "code",
   "execution_count": 8,
   "id": "d57b263f",
   "metadata": {},
   "outputs": [],
   "source": [
    "# data_meta.loc[(data_meta['num']<=15),'type']='categorical'\n",
    "data_meta.loc[data_meta['name'].isin(['viewer_age', 'broadcaster_age', 'duration', 'age', 'viewer_latitude', 'viewer_longitude', 'broadcaster_longitude', 'broadcaster_latitude']),'type']='numerical'"
   ]
  },
  {
   "cell_type": "code",
   "execution_count": 9,
   "id": "3dcb6b40",
   "metadata": {},
   "outputs": [],
   "source": [
    "cat_features = list(data_meta.loc[data_meta['type']=='categorical','name'])\n",
    "num_features = list(data_meta.loc[data_meta['type']=='numerical','name'])"
   ]
  },
  {
   "cell_type": "code",
   "execution_count": 10,
   "id": "b6054b46",
   "metadata": {},
   "outputs": [
    {
     "data": {
      "text/plain": [
       "['broadcaster_gender',\n",
       " 'viewer_gender',\n",
       " 'broadcaster_network',\n",
       " 'viewer_network',\n",
       " 'broadcaster_lang',\n",
       " 'viewer_lang',\n",
       " 'viewer_country',\n",
       " 'broadcaster_country',\n",
       " 'broadcaster_id',\n",
       " 'viewer_id']"
      ]
     },
     "execution_count": 10,
     "metadata": {},
     "output_type": "execute_result"
    }
   ],
   "source": [
    "cat_features"
   ]
  },
  {
   "cell_type": "code",
   "execution_count": 11,
   "id": "66b6132d",
   "metadata": {
    "scrolled": true
   },
   "outputs": [
    {
     "data": {
      "text/plain": [
       "['broadcaster_age',\n",
       " 'viewer_age',\n",
       " 'duration',\n",
       " 'broadcaster_latitude',\n",
       " 'broadcaster_longitude',\n",
       " 'viewer_latitude',\n",
       " 'viewer_longitude']"
      ]
     },
     "execution_count": 11,
     "metadata": {},
     "output_type": "execute_result"
    }
   ],
   "source": [
    "num_features"
   ]
  },
  {
   "cell_type": "code",
   "execution_count": 12,
   "id": "d8dad8c4",
   "metadata": {},
   "outputs": [
    {
     "data": {
      "text/html": [
       "<div>\n",
       "<style scoped>\n",
       "    .dataframe tbody tr th:only-of-type {\n",
       "        vertical-align: middle;\n",
       "    }\n",
       "\n",
       "    .dataframe tbody tr th {\n",
       "        vertical-align: top;\n",
       "    }\n",
       "\n",
       "    .dataframe thead th {\n",
       "        text-align: right;\n",
       "    }\n",
       "</style>\n",
       "<table border=\"1\" class=\"dataframe\">\n",
       "  <thead>\n",
       "    <tr style=\"text-align: right;\">\n",
       "      <th>broadcaster_network</th>\n",
       "      <th>meetme</th>\n",
       "      <th>pof</th>\n",
       "      <th>skout</th>\n",
       "      <th>zoosk</th>\n",
       "    </tr>\n",
       "    <tr>\n",
       "      <th>viewer_network</th>\n",
       "      <th></th>\n",
       "      <th></th>\n",
       "      <th></th>\n",
       "      <th></th>\n",
       "    </tr>\n",
       "  </thead>\n",
       "  <tbody>\n",
       "    <tr>\n",
       "      <th>meetme</th>\n",
       "      <td>0.470772</td>\n",
       "      <td>0.295229</td>\n",
       "      <td>0.386861</td>\n",
       "      <td>0.415438</td>\n",
       "    </tr>\n",
       "    <tr>\n",
       "      <th>pof</th>\n",
       "      <td>0.287767</td>\n",
       "      <td>0.574654</td>\n",
       "      <td>0.145584</td>\n",
       "      <td>0.400694</td>\n",
       "    </tr>\n",
       "    <tr>\n",
       "      <th>skout</th>\n",
       "      <td>0.229715</td>\n",
       "      <td>0.120145</td>\n",
       "      <td>0.461813</td>\n",
       "      <td>0.158716</td>\n",
       "    </tr>\n",
       "    <tr>\n",
       "      <th>zoosk</th>\n",
       "      <td>0.011746</td>\n",
       "      <td>0.009972</td>\n",
       "      <td>0.005742</td>\n",
       "      <td>0.025152</td>\n",
       "    </tr>\n",
       "  </tbody>\n",
       "</table>\n",
       "</div>"
      ],
      "text/plain": [
       "broadcaster_network    meetme       pof     skout     zoosk\n",
       "viewer_network                                             \n",
       "meetme               0.470772  0.295229  0.386861  0.415438\n",
       "pof                  0.287767  0.574654  0.145584  0.400694\n",
       "skout                0.229715  0.120145  0.461813  0.158716\n",
       "zoosk                0.011746  0.009972  0.005742  0.025152"
      ]
     },
     "execution_count": 12,
     "metadata": {},
     "output_type": "execute_result"
    }
   ],
   "source": [
    "pd.crosstab(data['viewer_network'], data['broadcaster_network'])/(pd.crosstab(data['duration'], data['broadcaster_network']).sum())"
   ]
  },
  {
   "cell_type": "code",
   "execution_count": 13,
   "id": "4822c5ad",
   "metadata": {},
   "outputs": [
    {
     "data": {
      "text/plain": [
       "count    532659.000000\n",
       "mean        813.222219\n",
       "std        3426.401108\n",
       "min          46.000000\n",
       "25%          91.000000\n",
       "50%         169.000000\n",
       "75%         457.000000\n",
       "max      377999.000000\n",
       "Name: duration, dtype: float64"
      ]
     },
     "execution_count": 13,
     "metadata": {},
     "output_type": "execute_result"
    }
   ],
   "source": [
    "data['duration'].describe()"
   ]
  },
  {
   "cell_type": "markdown",
   "id": "67d3e3d9",
   "metadata": {},
   "source": [
    "### Viewer age"
   ]
  },
  {
   "cell_type": "code",
   "execution_count": 14,
   "id": "b749ec1f",
   "metadata": {},
   "outputs": [],
   "source": [
    "from sklearn.preprocessing import scale,RobustScaler,StandardScaler, MinMaxScaler"
   ]
  },
  {
   "cell_type": "code",
   "execution_count": 15,
   "id": "fac65cdd",
   "metadata": {},
   "outputs": [
    {
     "data": {
      "text/plain": [
       "count    532659.000000\n",
       "mean         34.193278\n",
       "std           9.768553\n",
       "min          18.000000\n",
       "25%          27.000000\n",
       "50%          32.000000\n",
       "75%          39.000000\n",
       "max         200.000000\n",
       "Name: viewer_age, dtype: float64"
      ]
     },
     "execution_count": 15,
     "metadata": {},
     "output_type": "execute_result"
    }
   ],
   "source": [
    "data['viewer_age'].describe()"
   ]
  },
  {
   "cell_type": "markdown",
   "id": "8526c6ce",
   "metadata": {},
   "source": [
    "### Uniform Buckets"
   ]
  },
  {
   "cell_type": "code",
   "execution_count": 16,
   "id": "e31623c2",
   "metadata": {},
   "outputs": [],
   "source": [
    "def age_bucket(age):\n",
    "    # min(age) = 18\n",
    "    if age < 25:\n",
    "        return 1\n",
    "    elif age < 30:\n",
    "        return 2\n",
    "    elif age < 35:\n",
    "        return 3\n",
    "    elif age < 40:\n",
    "        return 4\n",
    "    elif age < 45:\n",
    "        return 5\n",
    "    elif age < 50:\n",
    "        return 6\n",
    "    elif age < 55:\n",
    "        return 7\n",
    "    elif age < 60:\n",
    "        return 8\n",
    "    elif age < 65:\n",
    "        return 9\n",
    "    else:\n",
    "        return 10"
   ]
  },
  {
   "cell_type": "code",
   "execution_count": 17,
   "id": "c9d82407",
   "metadata": {
    "scrolled": true
   },
   "outputs": [],
   "source": [
    "data['viewer_age_bucket'] = data['viewer_age'].apply(lambda x: age_bucket(x))"
   ]
  },
  {
   "cell_type": "code",
   "execution_count": 18,
   "id": "3afbaf9e",
   "metadata": {},
   "outputs": [],
   "source": [
    "import seaborn as sns\n",
    "\n",
    "large = 22; med = 16; small = 12\n",
    "params = {'axes.titlesize': large,\n",
    "          'legend.fontsize': med,\n",
    "          'figure.figsize': (16, 10),\n",
    "          'axes.labelsize': med,\n",
    "          'axes.titlesize': med,\n",
    "          'xtick.labelsize': med,\n",
    "          'ytick.labelsize': med,\n",
    "          'figure.titlesize': large}"
   ]
  },
  {
   "cell_type": "code",
   "execution_count": 19,
   "id": "e4aff54d",
   "metadata": {},
   "outputs": [
    {
     "data": {
      "text/plain": [
       "<Figure size 1200x800 with 0 Axes>"
      ]
     },
     "metadata": {},
     "output_type": "display_data"
    }
   ],
   "source": [
    "import seaborn as sns\n",
    "import matplotlib.pyplot as plt\n",
    "\n",
    "plt.figure(figsize=(15,10), dpi= 80)\n",
    "# Add N Obs inside boxplot (optional)\n",
    "def add_n_obs(df, group_col, y):\n",
    "    medians_dict = {grp[0]-1 : grp[1][y].median() for grp in df.groupby(group_col)}\n",
    "    xticklabels = [x.get_text() for x in plt.gca().get_xticklabels()]\n",
    "    n_obs = df.groupby(group_col)[y].size().values\n",
    "    for (x, xticklabel), n_ob in zip(enumerate(xticklabels), n_obs):\n",
    "        (plt.text(x, medians_dict[x]*1.10, '{:,}'.format(n_ob), \n",
    "                  horizontalalignment='center', fontdict={'size':14}, color='white'))"
   ]
  },
  {
   "cell_type": "code",
   "execution_count": 20,
   "id": "9de48a9f",
   "metadata": {},
   "outputs": [
    {
     "data": {
      "image/png": "[encoded data removed]",
      "text/plain": [
       "<Figure size 1200x800 with 1 Axes>"
      ]
     },
     "metadata": {
      "needs_background": "light"
     },
     "output_type": "display_data"
    }
   ],
   "source": [
    "plt.figure(figsize=(15,10), dpi= 80)\n",
    "\n",
    "sns.boxplot(x='viewer_age_bucket', y='duration', data=data, notch=False, showfliers=False, palette=\"Set2\")\n",
    "add_n_obs(data, group_col='viewer_age_bucket',y='duration')    \n",
    "\n",
    "# Decoration\n",
    "plt.title('Box Plot of Duration between Age Bucket', fontsize=22)\n",
    "plt.show()"
   ]
  },
  {
   "cell_type": "markdown",
   "id": "90046be0",
   "metadata": {},
   "source": [
    "### KBinsDiscretizer"
   ]
  },
  {
   "cell_type": "code",
   "execution_count": 22,
   "id": "cdddeb1e",
   "metadata": {},
   "outputs": [
    {
     "data": {
      "text/plain": [
       "3588302    0.0\n",
       "1562095    0.0\n",
       "4163834    1.0\n",
       "864591     0.0\n",
       "4161195    1.0\n",
       "          ... \n",
       "1886002    1.0\n",
       "4381539    0.0\n",
       "1967407    0.0\n",
       "4102957    0.0\n",
       "867049     0.0\n",
       "Name: viewer_age_bucket_kbinsdiscretizer, Length: 532659, dtype: float64"
      ]
     },
     "execution_count": 22,
     "metadata": {},
     "output_type": "execute_result"
    }
   ],
   "source": [
    "from sklearn.preprocessing import KBinsDiscretizer\n",
    "\n",
    "# with 10 bins\n",
    "est = KBinsDiscretizer(n_bins=10, strategy='uniform', encode='ordinal')\n",
    "data['viewer_age_bucket_kbinsdiscretizer'] = est.fit_transform(data['viewer_age'].values.reshape(-1, 1))\n",
    "data['viewer_age_bucket_kbinsdiscretizer']"
   ]
  },
  {
   "cell_type": "code",
   "execution_count": 23,
   "id": "6529dabc",
   "metadata": {
    "scrolled": true
   },
   "outputs": [
    {
     "data": {
      "text/html": [
       "<div>\n",
       "<style scoped>\n",
       "    .dataframe tbody tr th:only-of-type {\n",
       "        vertical-align: middle;\n",
       "    }\n",
       "\n",
       "    .dataframe tbody tr th {\n",
       "        vertical-align: top;\n",
       "    }\n",
       "\n",
       "    .dataframe thead th {\n",
       "        text-align: right;\n",
       "    }\n",
       "</style>\n",
       "<table border=\"1\" class=\"dataframe\">\n",
       "  <thead>\n",
       "    <tr style=\"text-align: right;\">\n",
       "      <th></th>\n",
       "      <th>viewer_age</th>\n",
       "      <th>viewer_age_bucket_kbinsdiscretizer</th>\n",
       "    </tr>\n",
       "  </thead>\n",
       "  <tbody>\n",
       "    <tr>\n",
       "      <th>count</th>\n",
       "      <td>532659.000000</td>\n",
       "      <td>532659.000000</td>\n",
       "    </tr>\n",
       "    <tr>\n",
       "      <th>mean</th>\n",
       "      <td>34.193278</td>\n",
       "      <td>0.379821</td>\n",
       "    </tr>\n",
       "    <tr>\n",
       "      <th>std</th>\n",
       "      <td>9.768553</td>\n",
       "      <td>0.576795</td>\n",
       "    </tr>\n",
       "    <tr>\n",
       "      <th>min</th>\n",
       "      <td>18.000000</td>\n",
       "      <td>0.000000</td>\n",
       "    </tr>\n",
       "    <tr>\n",
       "      <th>25%</th>\n",
       "      <td>27.000000</td>\n",
       "      <td>0.000000</td>\n",
       "    </tr>\n",
       "    <tr>\n",
       "      <th>50%</th>\n",
       "      <td>32.000000</td>\n",
       "      <td>0.000000</td>\n",
       "    </tr>\n",
       "    <tr>\n",
       "      <th>75%</th>\n",
       "      <td>39.000000</td>\n",
       "      <td>1.000000</td>\n",
       "    </tr>\n",
       "    <tr>\n",
       "      <th>max</th>\n",
       "      <td>200.000000</td>\n",
       "      <td>9.000000</td>\n",
       "    </tr>\n",
       "  </tbody>\n",
       "</table>\n",
       "</div>"
      ],
      "text/plain": [
       "          viewer_age  viewer_age_bucket_kbinsdiscretizer\n",
       "count  532659.000000                       532659.000000\n",
       "mean       34.193278                            0.379821\n",
       "std         9.768553                            0.576795\n",
       "min        18.000000                            0.000000\n",
       "25%        27.000000                            0.000000\n",
       "50%        32.000000                            0.000000\n",
       "75%        39.000000                            1.000000\n",
       "max       200.000000                            9.000000"
      ]
     },
     "execution_count": 23,
     "metadata": {},
     "output_type": "execute_result"
    }
   ],
   "source": [
    "data[['viewer_age', 'viewer_age_bucket_kbinsdiscretizer']].describe()"
   ]
  },
  {
   "cell_type": "code",
   "execution_count": 24,
   "id": "cf8ae4ad",
   "metadata": {},
   "outputs": [
    {
     "data": {
      "image/png": "[encoded data removed]",
      "text/plain": [
       "<Figure size 1200x800 with 1 Axes>"
      ]
     },
     "metadata": {
      "needs_background": "light"
     },
     "output_type": "display_data"
    }
   ],
   "source": [
    "plt.figure(figsize=(15,10), dpi= 80)\n",
    "\n",
    "sns.boxplot(x='viewer_age_bucket_kbinsdiscretizer', y='duration', data=data, notch=False, showfliers=False, palette=\"Set2\")\n",
    "# add_n_obs(data, group_col='viewer_age_bucket_kbinsdiscretizer', y='duration')    \n",
    "\n",
    "# Decoration\n",
    "plt.title('Box Plot of Duration between Age Bucket', fontsize=22)\n",
    "plt.show()"
   ]
  },
  {
   "cell_type": "code",
   "execution_count": 25,
   "id": "26b5cc3d",
   "metadata": {},
   "outputs": [],
   "source": [
    "est = KBinsDiscretizer(n_bins=10, encode='onehot', strategy='uniform')"
   ]
  },
  {
   "cell_type": "code",
   "execution_count": 29,
   "id": "273e705e",
   "metadata": {},
   "outputs": [
    {
     "data": {
      "text/plain": [
       "<532659x10 sparse matrix of type '<class 'numpy.float64'>'\n",
       "\twith 532659 stored elements in Compressed Sparse Row format>"
      ]
     },
     "execution_count": 29,
     "metadata": {},
     "output_type": "execute_result"
    }
   ],
   "source": [
    "est.fit_transform(data['viewer_age'].values.reshape(-1, 1))"
   ]
  },
  {
   "cell_type": "code",
   "execution_count": 73,
   "id": "b8a8f535",
   "metadata": {},
   "outputs": [
    {
     "data": {
      "text/plain": [
       "KBinsDiscretizer(encode='ordinal', n_bins=10, strategy='uniform')"
      ]
     },
     "execution_count": 73,
     "metadata": {},
     "output_type": "execute_result"
    }
   ],
   "source": [
    "est = KBinsDiscretizer(n_bins=10, encode='onehot-dense', strategy='uniform')"
   ]
  },
  {
   "cell_type": "code",
   "execution_count": 30,
   "id": "b5558623",
   "metadata": {},
   "outputs": [
    {
     "data": {
      "text/plain": [
       "<532659x10 sparse matrix of type '<class 'numpy.float64'>'\n",
       "\twith 532659 stored elements in Compressed Sparse Row format>"
      ]
     },
     "execution_count": 30,
     "metadata": {},
     "output_type": "execute_result"
    }
   ],
   "source": [
    "est.fit_transform(data['viewer_age'].values.reshape(-1, 1))"
   ]
  },
  {
   "cell_type": "markdown",
   "id": "a8600c07",
   "metadata": {},
   "source": [
    "### Model Comparison"
   ]
  },
  {
   "cell_type": "code",
   "execution_count": 1,
   "id": "8e0f6071",
   "metadata": {},
   "outputs": [],
   "source": [
    "import os\n",
    "import logging\n",
    "import time\n",
    "\n",
    "import numpy as np\n",
    "import pandas as pd\n",
    "import tensorflow as tf\n",
    "import tensorflow_recommenders as tfrs"
   ]
  },
  {
   "cell_type": "code",
   "execution_count": 2,
   "id": "c9da8f6b",
   "metadata": {},
   "outputs": [],
   "source": [
    "def get_broadcaster_data_set(train_ds):\n",
    "    broadcasters = train_ds.cache().map(lambda x: x[\"broadcaster\"], num_parallel_calls=tf.data.AUTOTUNE, deterministic=False)\n",
    "    broadcasters_ds = tf.data.Dataset.from_tensor_slices(\n",
    "        np.unique(list(broadcasters.as_numpy_iterator())))\n",
    "    return broadcasters_ds\n",
    "\n",
    "\n",
    "def get_list(training_data, key):\n",
    "    return training_data.batch(1_000_000).map(lambda x: x[key], num_parallel_calls=tf.data.AUTOTUNE, deterministic=False)\n",
    "\n",
    "\n",
    "def get_unique_list(data):\n",
    "    return np.unique(np.concatenate(list(data)))\n",
    "\n",
    "\n",
    "def load_training_data_cold(file, stats):\n",
    "    ratings_df = load_data_file_cold(file, stats)\n",
    "    print('creating data set')\n",
    "    training_ds = (\n",
    "        tf.data.Dataset.from_tensor_slices(\n",
    "            ({\n",
    "                \"viewer\": tf.cast(\n",
    "                    ratings_df['viewer'].values,\n",
    "                    tf.string),\n",
    "                \"viewer_gender\": tf.cast(\n",
    "                    ratings_df['viewer_gender'].values,\n",
    "                    tf.string),\n",
    "                \"viewer_lang\": tf.cast(\n",
    "                    ratings_df['viewer_lang'].values,\n",
    "                    tf.string),\n",
    "                \"viewer_country\": tf.cast(\n",
    "                    ratings_df['viewer_country'].values,\n",
    "                    tf.string),\n",
    "                \"viewer_age\": tf.cast(\n",
    "                    ratings_df['viewer_age'].values,\n",
    "                    tf.int16),\n",
    "                \"viewer_longitude\": tf.cast(\n",
    "                    ratings_df['viewer_longitude'].values,\n",
    "                    tf.float16),\n",
    "                \"viewer_latitude\": tf.cast(\n",
    "                    ratings_df['viewer_latitude'].values,\n",
    "                    tf.float16),\n",
    "                \"broadcaster\": tf.cast(\n",
    "                    ratings_df['broadcaster'].values,\n",
    "                    tf.string),\n",
    "                \"viewer_network\": tf.cast(\n",
    "                    ratings_df['viewer_network'].values,\n",
    "                    tf.string),\n",
    "                \"broadcaster_network\": tf.cast(\n",
    "                    ratings_df['broadcaster_network'].values,\n",
    "                    tf.string),\n",
    "            })))\n",
    "\n",
    "    return training_ds\n",
    "\n",
    "def load_data_file_cold(file, stats):\n",
    "    print('loading file:' + file)\n",
    "    training_df = pd.read_csv(\n",
    "        file,\n",
    "        skiprows=[0],\n",
    "        names=[\"viewer\",\"broadcaster\",\"viewer_age\",\"viewer_gender\",\"viewer_longitude\",\"viewer_latitude\",\"viewer_lang\",\"viewer_country\",\"broadcaster_age\",\"broadcaster_gender\",\"broadcaster_longitude\",\"broadcaster_latitude\",\"broadcaster_lang\",\"broadcaster_country\",\"duration\", \"viewer_network\", \"broadcaster_network\", \"count\"], dtype={\n",
    "            'viewer': np.unicode,\n",
    "            'broadcaster': np.unicode,\n",
    "            'viewer_age': np.single,\n",
    "            'viewer_gender': np.unicode,\n",
    "            'viewer_longitude': np.single,\n",
    "            'viewer_latitude': np.single,\n",
    "            'viewer_lang': np.unicode,\n",
    "            'viewer_country': np.unicode,\n",
    "            'broadcaster_age': np.single,\n",
    "            'broadcaster_longitude': np.single,\n",
    "            'broadcaster_latitude': np.single,\n",
    "            'broadcaster_lang': np.unicode,\n",
    "            'broadcaster_country': np.unicode,\n",
    "            'viewer_network': np.unicode,\n",
    "            'broadcaster_network': np.unicode,\n",
    "            'count': np.int\n",
    "        })\n",
    "\n",
    "    values = {\n",
    "        'viewer': 'unknown',\n",
    "        'broadcaster': 'unknown',\n",
    "        'viewer_age': 30,\n",
    "        'viewer_gender': 'unknown',\n",
    "        'viewer_longitude': 0,\n",
    "        'viewer_latitude': 0,\n",
    "        'viewer_lang': 'unknown',\n",
    "        'viewer_country': 'unknown',\n",
    "        'broadcaster_age': 30,\n",
    "        'broadcaster_longitude': 0,\n",
    "        'broadcaster_latitude': 0,\n",
    "        'broadcaster_lang': 'unknown',\n",
    "        'broadcaster_country': 'unknown',\n",
    "        'duration': 0,\n",
    "        'viewer_network': 'unknown',\n",
    "        'broadcaster_network': 'unknown',\n",
    "        'count': 0\n",
    "    }\n",
    "    training_df.fillna(value=values, inplace=True)\n",
    "    print(training_df.head(10))\n",
    "    print(training_df.iloc[-10:])\n",
    "    # stats.send_stats('data-size', len(training_df.index))\n",
    "    samples = training_df.sample(frac=.1)\n",
    "    return samples\n",
    "\n",
    "\n",
    "def load_training_data_cold(file, stats):\n",
    "    ratings_df = load_data_file_cold(file, stats)\n",
    "    print('creating data set')\n",
    "    training_ds = (\n",
    "        tf.data.Dataset.from_tensor_slices(\n",
    "            ({\n",
    "                \"viewer\": tf.cast(\n",
    "                    ratings_df['viewer'].values,\n",
    "                    tf.string),\n",
    "                \"viewer_gender\": tf.cast(\n",
    "                    ratings_df['viewer_gender'].values,\n",
    "                    tf.string),\n",
    "                \"viewer_lang\": tf.cast(\n",
    "                    ratings_df['viewer_lang'].values,\n",
    "                    tf.string),\n",
    "                \"viewer_country\": tf.cast(\n",
    "                    ratings_df['viewer_country'].values,\n",
    "                    tf.string),\n",
    "                \"viewer_age\": tf.cast(\n",
    "                    ratings_df['viewer_age'].values,\n",
    "                    tf.int32),\n",
    "                \"viewer_longitude\": tf.cast(\n",
    "                    ratings_df['viewer_longitude'].values,\n",
    "                    tf.float16),\n",
    "                \"viewer_latitude\": tf.cast(\n",
    "                    ratings_df['viewer_latitude'].values,\n",
    "                    tf.float16),\n",
    "                \"broadcaster\": tf.cast(\n",
    "                    ratings_df['broadcaster'].values,\n",
    "                    tf.string),\n",
    "                \"viewer_network\": tf.cast(\n",
    "                    ratings_df['viewer_network'].values,\n",
    "                    tf.string),\n",
    "                \"broadcaster_network\": tf.cast(\n",
    "                    ratings_df['broadcaster_network'].values,\n",
    "                    tf.string),\n",
    "            })))\n",
    "\n",
    "    return training_ds\n",
    "\n",
    "\n",
    "def prepare_training_data_cold(train_ds):\n",
    "    print('prepare_training_data')\n",
    "    training_ds = train_ds.cache().map(lambda x: {\n",
    "        \"broadcaster\": x[\"broadcaster\"],\n",
    "        \"viewer\": x[\"viewer\"],\n",
    "        \"viewer_gender\": x[\"viewer_gender\"],\n",
    "        \"viewer_lang\": x[\"viewer_lang\"],\n",
    "        \"viewer_country\": x[\"viewer_country\"],\n",
    "        \"viewer_age\": x[\"viewer_age\"],\n",
    "        \"viewer_longitude\": x[\"viewer_longitude\"],\n",
    "        \"viewer_latitude\": x[\"viewer_latitude\"],\n",
    "        \"viewer_network\": x[\"viewer_network\"],\n",
    "        \"broadcaster_network\": x[\"broadcaster_network\"],\n",
    "    }, num_parallel_calls=tf.data.AUTOTUNE,\n",
    "       deterministic=False)\n",
    "\n",
    "    print('done prepare_training_data')\n",
    "    return training_ds\n",
    "\n",
    "\n",
    "def current_milli_time():\n",
    "    return round(time.time() * 1000)\n"
   ]
  },
  {
   "cell_type": "markdown",
   "id": "cd9a175e",
   "metadata": {},
   "source": [
    "### Read-in data"
   ]
  },
  {
   "cell_type": "code",
   "execution_count": 3,
   "id": "6164ebb1",
   "metadata": {},
   "outputs": [
    {
     "name": "stdout",
     "output_type": "stream",
     "text": [
      "training_process\n"
     ]
    }
   ],
   "source": [
    "print(\"training_process\")\n",
    "start_time = current_milli_time()\n",
    "broadcaster_embedding_dimension = 32\n",
    "viewer_embedding_dimension = 32\n",
    "\n",
    "batch_size = 1638\n",
    "learning_rate = 0.05\n",
    "epochs = 10\n",
    "top_k = 199"
   ]
  },
  {
   "cell_type": "code",
   "execution_count": 4,
   "id": "897cda83",
   "metadata": {},
   "outputs": [
    {
     "name": "stdout",
     "output_type": "stream",
     "text": [
      "loading file:csv/a3d86f3b-eb45-4641-b05d-30dff7423e6b.csv\n",
      "             viewer       broadcaster  viewer_age viewer_gender  \\\n",
      "0   meetme:19714617  meetme:242525021        39.0        female   \n",
      "1   skout:161675320   skout:167570679        46.0          male   \n",
      "2     pof:333093026      pof:77411971        28.0          male   \n",
      "3     pof:324991301     pof:207032171        39.0          male   \n",
      "4   skout:177541297  meetme:316500815        41.0          male   \n",
      "5  meetme:258247855  meetme:314497940        36.0          male   \n",
      "6    meetme:8237459  meetme:213050479        52.0          male   \n",
      "7   meetme:84182876   skout:175969618        32.0          male   \n",
      "8   skout:176797432  meetme:309441196        51.0          male   \n",
      "9  meetme:282314746  meetme:226200204        32.0          male   \n",
      "\n",
      "   viewer_longitude  viewer_latitude viewer_lang viewer_country  \\\n",
      "0       -118.380096        34.093899          en             US   \n",
      "1        120.963997        14.693000          en             GB   \n",
      "2        -81.500000        32.200001          en             US   \n",
      "3        -78.800003        35.799999          en             US   \n",
      "4        121.033997        14.795000          en             GB   \n",
      "5        -83.934097        43.431999          en             US   \n",
      "6        -83.958298        43.596802          en             US   \n",
      "7       -118.618896        34.493801          en             US   \n",
      "8         -0.122000        51.495998          fa             AF   \n",
      "9        106.908897        -6.238000          id             ID   \n",
      "\n",
      "   broadcaster_age broadcaster_gender  broadcaster_longitude  \\\n",
      "0             35.0             female             -87.625397   \n",
      "1             50.0             female             121.630997   \n",
      "2             26.0             female             -81.500000   \n",
      "3             44.0             female             -78.599998   \n",
      "4             88.0             female             121.987000   \n",
      "5             34.0             female             -73.986603   \n",
      "6             31.0             female            -122.296402   \n",
      "7             34.0             female            -117.202003   \n",
      "8             46.0             female              -0.238700   \n",
      "9             23.0             female             110.712196   \n",
      "\n",
      "   broadcaster_latitude broadcaster_lang broadcaster_country  duration  \\\n",
      "0             41.878201               en                  US     21448   \n",
      "1             18.358999               en                  PH      1789   \n",
      "2             31.200001               en                  US       561   \n",
      "3             35.799999               en                  US      1205   \n",
      "4              6.429600               en                  PH       369   \n",
      "5             40.715302               en                  US       775   \n",
      "6             47.661900               en                  US      2534   \n",
      "7             33.928001               en                  US      1467   \n",
      "8             51.796600               en                  GB        48   \n",
      "9             -7.614500               id                  ID      5264   \n",
      "\n",
      "  viewer_network broadcaster_network  count  \n",
      "0         meetme              meetme     24  \n",
      "1          skout               skout      7  \n",
      "2            pof                 pof      1  \n",
      "3            pof                 pof     10  \n",
      "4          skout              meetme      3  \n",
      "5         meetme              meetme      1  \n",
      "6         meetme              meetme      6  \n",
      "7         meetme               skout      5  \n",
      "8          skout              meetme      2  \n",
      "9         meetme              meetme     12  \n",
      "                   viewer       broadcaster  viewer_age viewer_gender  \\\n",
      "5383918  meetme:215524158  meetme:244277552        33.0          male   \n",
      "5383919     pof:332775044  meetme:288936283        42.0          male   \n",
      "5383920     pof:122027960     pof:315853960        62.0          male   \n",
      "5383921  meetme:280321264  meetme:279413006        41.0          male   \n",
      "5383922  meetme:318217193   skout:166467831        28.0          male   \n",
      "5383923     pof:333177416     pof:153199318        25.0          male   \n",
      "5383924   skout:158538302  meetme:267694898        23.0          male   \n",
      "5383925  meetme:273710830     pof:320108075        38.0          male   \n",
      "5383926     pof:333385326     pof:311492324        33.0          male   \n",
      "5383927  meetme:208894963  meetme:274258940        36.0          male   \n",
      "\n",
      "         viewer_longitude  viewer_latitude viewer_lang viewer_country  \\\n",
      "5383918        110.489304        -7.028100          id             ID   \n",
      "5383919       -113.900002        52.099998          en             US   \n",
      "5383920        -75.300003        40.000000          en             US   \n",
      "5383921       -119.765404        36.861599          en             US   \n",
      "5383922        -73.830002        40.830002          en             US   \n",
      "5383923        -81.599998        30.299999          en             US   \n",
      "5383924        -84.360001        33.914001          en             US   \n",
      "5383925        -83.964203        33.640499          en             US   \n",
      "5383926       -121.500000        38.599998          en             US   \n",
      "5383927        -89.897202        35.341400          en             US   \n",
      "\n",
      "         broadcaster_age broadcaster_gender  broadcaster_longitude  \\\n",
      "5383918             33.0             female             110.403503   \n",
      "5383919             26.0             female            -113.416000   \n",
      "5383920             31.0             female             -84.000000   \n",
      "5383921             34.0             female            -118.293999   \n",
      "5383922             34.0             female             -84.592003   \n",
      "5383923             33.0             female             -87.800003   \n",
      "5383924             27.0             female             -84.319000   \n",
      "5383925             35.0             female             -84.300003   \n",
      "5383926             42.0               male            -121.500000   \n",
      "5383927             24.0             female             -86.785004   \n",
      "\n",
      "         broadcaster_latitude broadcaster_lang broadcaster_country  duration  \\\n",
      "5383918             -7.262300               id                  ID       289   \n",
      "5383919             53.355301               en                  CA        66   \n",
      "5383920             34.000000               en                  US        73   \n",
      "5383921             33.888901               en                  US       732   \n",
      "5383922             33.803001               en                  US       115   \n",
      "5383923             41.900002               en                  US       198   \n",
      "5383924             33.512001               en                  US       676   \n",
      "5383925             33.599998               en                  US       262   \n",
      "5383926             38.599998               en                  US       236   \n",
      "5383927             35.994598               en                  US      3593   \n",
      "\n",
      "        viewer_network broadcaster_network  count  \n",
      "5383918         meetme              meetme      1  \n",
      "5383919            pof              meetme      1  \n",
      "5383920            pof                 pof      1  \n",
      "5383921         meetme              meetme      1  \n",
      "5383922         meetme               skout      1  \n",
      "5383923            pof                 pof      3  \n",
      "5383924          skout              meetme      1  \n",
      "5383925         meetme                 pof      1  \n",
      "5383926            pof                 pof      1  \n",
      "5383927         meetme              meetme      7  \n",
      "creating data set\n"
     ]
    },
    {
     "name": "stderr",
     "output_type": "stream",
     "text": [
      "2021-09-29 12:07:10.604110: I tensorflow/core/platform/cpu_feature_guard.cc:142] This TensorFlow binary is optimized with oneAPI Deep Neural Network Library (oneDNN) to use the following CPU instructions in performance-critical operations:  AVX2 FMA\n",
      "To enable them in other operations, rebuild TensorFlow with the appropriate compiler flags.\n"
     ]
    },
    {
     "name": "stdout",
     "output_type": "stream",
     "text": [
      "prepare_training_data\n",
      "WARNING:tensorflow:AutoGraph could not transform <function prepare_training_data_cold.<locals>.<lambda> at 0x7f996047d950> and will run it as-is.\n",
      "Please report this to the TensorFlow team. When filing the bug, set the verbosity to 10 (on Linux, `export AUTOGRAPH_VERBOSITY=10`) and attach the full output.\n",
      "Cause: module 'gast' has no attribute 'Constant'\n",
      "To silence this warning, decorate the function with @tf.autograph.experimental.do_not_convert\n",
      "WARNING: AutoGraph could not transform <function prepare_training_data_cold.<locals>.<lambda> at 0x7f996047d950> and will run it as-is.\n",
      "Please report this to the TensorFlow team. When filing the bug, set the verbosity to 10 (on Linux, `export AUTOGRAPH_VERBOSITY=10`) and attach the full output.\n",
      "Cause: module 'gast' has no attribute 'Constant'\n",
      "To silence this warning, decorate the function with @tf.autograph.experimental.do_not_convert\n",
      "done prepare_training_data\n",
      "WARNING:tensorflow:AutoGraph could not transform <function get_broadcaster_data_set.<locals>.<lambda> at 0x7f99a07d5050> and will run it as-is.\n",
      "Please report this to the TensorFlow team. When filing the bug, set the verbosity to 10 (on Linux, `export AUTOGRAPH_VERBOSITY=10`) and attach the full output.\n",
      "Cause: module 'gast' has no attribute 'Constant'\n",
      "To silence this warning, decorate the function with @tf.autograph.experimental.do_not_convert\n",
      "WARNING: AutoGraph could not transform <function get_broadcaster_data_set.<locals>.<lambda> at 0x7f99a07d5050> and will run it as-is.\n",
      "Please report this to the TensorFlow team. When filing the bug, set the verbosity to 10 (on Linux, `export AUTOGRAPH_VERBOSITY=10`) and attach the full output.\n",
      "Cause: module 'gast' has no attribute 'Constant'\n",
      "To silence this warning, decorate the function with @tf.autograph.experimental.do_not_convert\n"
     ]
    },
    {
     "name": "stderr",
     "output_type": "stream",
     "text": [
      "2021-09-29 12:07:11.117940: I tensorflow/compiler/mlir/mlir_graph_optimization_pass.cc:176] None of the MLIR Optimization Passes are enabled (registered 2)\n"
     ]
    }
   ],
   "source": [
    "training_dataset = load_training_data_cold(\"csv/a3d86f3b-eb45-4641-b05d-30dff7423e6b.csv\", \"\")\n",
    "train = prepare_training_data_cold(training_dataset)\n",
    "broadcasters_data_set = get_broadcaster_data_set(training_dataset)"
   ]
  },
  {
   "cell_type": "code",
   "execution_count": 5,
   "id": "b0dd7fce",
   "metadata": {},
   "outputs": [
    {
     "name": "stdout",
     "output_type": "stream",
     "text": [
      "get lists\n",
      "WARNING:tensorflow:AutoGraph could not transform <function get_list.<locals>.<lambda> at 0x7f9960450dd0> and will run it as-is.\n",
      "Please report this to the TensorFlow team. When filing the bug, set the verbosity to 10 (on Linux, `export AUTOGRAPH_VERBOSITY=10`) and attach the full output.\n",
      "Cause: module 'gast' has no attribute 'Constant'\n",
      "To silence this warning, decorate the function with @tf.autograph.experimental.do_not_convert\n",
      "WARNING: AutoGraph could not transform <function get_list.<locals>.<lambda> at 0x7f9960450dd0> and will run it as-is.\n",
      "Please report this to the TensorFlow team. When filing the bug, set the verbosity to 10 (on Linux, `export AUTOGRAPH_VERBOSITY=10`) and attach the full output.\n",
      "Cause: module 'gast' has no attribute 'Constant'\n",
      "To silence this warning, decorate the function with @tf.autograph.experimental.do_not_convert\n",
      "WARNING:tensorflow:AutoGraph could not transform <function get_list.<locals>.<lambda> at 0x7f996047d680> and will run it as-is.\n",
      "Please report this to the TensorFlow team. When filing the bug, set the verbosity to 10 (on Linux, `export AUTOGRAPH_VERBOSITY=10`) and attach the full output.\n",
      "Cause: module 'gast' has no attribute 'Constant'\n",
      "To silence this warning, decorate the function with @tf.autograph.experimental.do_not_convert\n",
      "WARNING: AutoGraph could not transform <function get_list.<locals>.<lambda> at 0x7f996047d680> and will run it as-is.\n",
      "Please report this to the TensorFlow team. When filing the bug, set the verbosity to 10 (on Linux, `export AUTOGRAPH_VERBOSITY=10`) and attach the full output.\n",
      "Cause: module 'gast' has no attribute 'Constant'\n",
      "To silence this warning, decorate the function with @tf.autograph.experimental.do_not_convert\n",
      "WARNING:tensorflow:AutoGraph could not transform <function get_list.<locals>.<lambda> at 0x7f99202f3dd0> and will run it as-is.\n",
      "Please report this to the TensorFlow team. When filing the bug, set the verbosity to 10 (on Linux, `export AUTOGRAPH_VERBOSITY=10`) and attach the full output.\n",
      "Cause: module 'gast' has no attribute 'Constant'\n",
      "To silence this warning, decorate the function with @tf.autograph.experimental.do_not_convert\n",
      "WARNING: AutoGraph could not transform <function get_list.<locals>.<lambda> at 0x7f99202f3dd0> and will run it as-is.\n",
      "Please report this to the TensorFlow team. When filing the bug, set the verbosity to 10 (on Linux, `export AUTOGRAPH_VERBOSITY=10`) and attach the full output.\n",
      "Cause: module 'gast' has no attribute 'Constant'\n",
      "To silence this warning, decorate the function with @tf.autograph.experimental.do_not_convert\n",
      "WARNING:tensorflow:AutoGraph could not transform <function get_list.<locals>.<lambda> at 0x7f99202f3ef0> and will run it as-is.\n",
      "Please report this to the TensorFlow team. When filing the bug, set the verbosity to 10 (on Linux, `export AUTOGRAPH_VERBOSITY=10`) and attach the full output.\n",
      "Cause: module 'gast' has no attribute 'Constant'\n",
      "To silence this warning, decorate the function with @tf.autograph.experimental.do_not_convert\n",
      "WARNING: AutoGraph could not transform <function get_list.<locals>.<lambda> at 0x7f99202f3ef0> and will run it as-is.\n",
      "Please report this to the TensorFlow team. When filing the bug, set the verbosity to 10 (on Linux, `export AUTOGRAPH_VERBOSITY=10`) and attach the full output.\n",
      "Cause: module 'gast' has no attribute 'Constant'\n",
      "To silence this warning, decorate the function with @tf.autograph.experimental.do_not_convert\n",
      "WARNING:tensorflow:AutoGraph could not transform <function get_list.<locals>.<lambda> at 0x7f9920323710> and will run it as-is.\n",
      "Please report this to the TensorFlow team. When filing the bug, set the verbosity to 10 (on Linux, `export AUTOGRAPH_VERBOSITY=10`) and attach the full output.\n",
      "Cause: module 'gast' has no attribute 'Constant'\n",
      "To silence this warning, decorate the function with @tf.autograph.experimental.do_not_convert\n",
      "WARNING: AutoGraph could not transform <function get_list.<locals>.<lambda> at 0x7f9920323710> and will run it as-is.\n",
      "Please report this to the TensorFlow team. When filing the bug, set the verbosity to 10 (on Linux, `export AUTOGRAPH_VERBOSITY=10`) and attach the full output.\n",
      "Cause: module 'gast' has no attribute 'Constant'\n",
      "To silence this warning, decorate the function with @tf.autograph.experimental.do_not_convert\n",
      "WARNING:tensorflow:AutoGraph could not transform <function get_list.<locals>.<lambda> at 0x7f99203230e0> and will run it as-is.\n",
      "Please report this to the TensorFlow team. When filing the bug, set the verbosity to 10 (on Linux, `export AUTOGRAPH_VERBOSITY=10`) and attach the full output.\n",
      "Cause: module 'gast' has no attribute 'Constant'\n",
      "To silence this warning, decorate the function with @tf.autograph.experimental.do_not_convert\n",
      "WARNING: AutoGraph could not transform <function get_list.<locals>.<lambda> at 0x7f99203230e0> and will run it as-is.\n",
      "Please report this to the TensorFlow team. When filing the bug, set the verbosity to 10 (on Linux, `export AUTOGRAPH_VERBOSITY=10`) and attach the full output.\n",
      "Cause: module 'gast' has no attribute 'Constant'\n",
      "To silence this warning, decorate the function with @tf.autograph.experimental.do_not_convert\n",
      "WARNING:tensorflow:AutoGraph could not transform <function get_list.<locals>.<lambda> at 0x7f9920323f80> and will run it as-is.\n",
      "Please report this to the TensorFlow team. When filing the bug, set the verbosity to 10 (on Linux, `export AUTOGRAPH_VERBOSITY=10`) and attach the full output.\n",
      "Cause: module 'gast' has no attribute 'Constant'\n",
      "To silence this warning, decorate the function with @tf.autograph.experimental.do_not_convert\n",
      "WARNING: AutoGraph could not transform <function get_list.<locals>.<lambda> at 0x7f9920323f80> and will run it as-is.\n",
      "Please report this to the TensorFlow team. When filing the bug, set the verbosity to 10 (on Linux, `export AUTOGRAPH_VERBOSITY=10`) and attach the full output.\n",
      "Cause: module 'gast' has no attribute 'Constant'\n",
      "To silence this warning, decorate the function with @tf.autograph.experimental.do_not_convert\n",
      "WARNING:tensorflow:AutoGraph could not transform <function get_list.<locals>.<lambda> at 0x7f9920326c20> and will run it as-is.\n",
      "Please report this to the TensorFlow team. When filing the bug, set the verbosity to 10 (on Linux, `export AUTOGRAPH_VERBOSITY=10`) and attach the full output.\n",
      "Cause: module 'gast' has no attribute 'Constant'\n",
      "To silence this warning, decorate the function with @tf.autograph.experimental.do_not_convert\n",
      "WARNING: AutoGraph could not transform <function get_list.<locals>.<lambda> at 0x7f9920326c20> and will run it as-is.\n",
      "Please report this to the TensorFlow team. When filing the bug, set the verbosity to 10 (on Linux, `export AUTOGRAPH_VERBOSITY=10`) and attach the full output.\n",
      "Cause: module 'gast' has no attribute 'Constant'\n",
      "To silence this warning, decorate the function with @tf.autograph.experimental.do_not_convert\n"
     ]
    }
   ],
   "source": [
    "print(\"get lists\")\n",
    "\n",
    "user_genders = get_list(train, \"viewer_gender\")\n",
    "user_langs = get_list(train, \"viewer_lang\")\n",
    "user_countries = get_list(train, \"viewer_country\")\n",
    "user_networks = get_list(train, \"viewer_network\")\n",
    "\n",
    "viewer_age = get_list(train, \"viewer_age\")\n",
    "viewer_longitude = get_list(train, \"viewer_longitude\")\n",
    "viewer_latitude = get_list(train, \"viewer_latitude\")\n",
    "\n",
    "broadcaster_ids = get_list(train, \"broadcaster\")\n",
    "\n",
    "data_set_size = len(broadcaster_ids)"
   ]
  },
  {
   "cell_type": "code",
   "execution_count": 6,
   "id": "9366ee9c",
   "metadata": {},
   "outputs": [
    {
     "name": "stdout",
     "output_type": "stream",
     "text": [
      "get_unique_list\n",
      "[b'meetme:100081867' b'meetme:100104254' b'meetme:100114731' ...\n",
      " b'zoosk:faa44d7ec2ee93a7acfb6bd4fb051767'\n",
      " b'zoosk:fd7a32868c43ed589efba6653949426c'\n",
      " b'zoosk:ffd69ee0bb59b722020f374298b9e0b9']\n"
     ]
    }
   ],
   "source": [
    "print(\"get_unique_list\")\n",
    "unique_broadcasters = get_unique_list(broadcaster_ids)\n",
    "unique_user_genders = get_unique_list(user_genders)\n",
    "unique_user_langs = get_unique_list(user_langs)\n",
    "unique_user_countries = get_unique_list(user_countries)\n",
    "unique_user_networks = get_unique_list(user_networks)\n",
    "print(unique_broadcasters)"
   ]
  },
  {
   "cell_type": "code",
   "execution_count": 7,
   "id": "f696b422",
   "metadata": {},
   "outputs": [
    {
     "name": "stdout",
     "output_type": "stream",
     "text": [
      "unique broadcasters: 69798\n"
     ]
    }
   ],
   "source": [
    " print(\"unique broadcasters: \" + str(len(unique_broadcasters)))"
   ]
  },
  {
   "cell_type": "code",
   "execution_count": 22,
   "id": "9cebf3bb",
   "metadata": {},
   "outputs": [],
   "source": [
    "class UserModel(tf.keras.Model) :\n",
    "\n",
    "    def __init__(self, unique_genders, unique_langs, unique_countries, viewer_age, unique_networks) :\n",
    "        super().__init__()\n",
    "\n",
    "        self.gender_embedding = tf.keras.Sequential([\n",
    "            tf.keras.layers.experimental.preprocessing.StringLookup(\n",
    "                vocabulary=unique_genders, mask_token=None),\n",
    "            tf.keras.layers.Embedding(len(unique_genders) + 1, 4),\n",
    "        ])\n",
    "\n",
    "        self.lang_embedding = tf.keras.Sequential([\n",
    "            tf.keras.layers.experimental.preprocessing.StringLookup(\n",
    "                vocabulary=unique_langs, mask_token=None),\n",
    "            tf.keras.layers.Embedding(len(unique_langs) + 1, 11),\n",
    "        ])\n",
    "\n",
    "        self.country_embedding = tf.keras.Sequential([\n",
    "            tf.keras.layers.experimental.preprocessing.StringLookup(\n",
    "                vocabulary=unique_countries, mask_token=None),\n",
    "            tf.keras.layers.Embedding(len(unique_countries) + 1, 11),\n",
    "        ])\n",
    "\n",
    "        self.network_embedding = tf.keras.Sequential([\n",
    "            tf.keras.layers.experimental.preprocessing.StringLookup(\n",
    "                vocabulary=unique_networks, mask_token=None),\n",
    "            tf.keras.layers.Embedding(len(unique_networks) + 1, 5),\n",
    "        ])\n",
    "\n",
    "        self.normalized_ages = tf.keras.layers.experimental.preprocessing.Normalization(axis=None)\n",
    "        self.normalized_ages.adapt(viewer_age)\n",
    "\n",
    "\n",
    "    def call(self, inputs) :\n",
    "        return tf.concat([\n",
    "            self.gender_embedding(inputs[\"viewer_gender\"]),\n",
    "            self.lang_embedding(inputs[\"viewer_lang\"]),\n",
    "            self.country_embedding(inputs[\"viewer_country\"]),\n",
    "            self.network_embedding(inputs[\"viewer_network\"]),\n",
    "            tf.reshape(self.normalized_ages(inputs[\"viewer_age\"]), (-1, 1))\n",
    "        ], axis = 1)"
   ]
  },
  {
   "cell_type": "code",
   "execution_count": 23,
   "id": "8a07fac7",
   "metadata": {},
   "outputs": [
    {
     "name": "stdout",
     "output_type": "stream",
     "text": [
      "WARNING:tensorflow:AutoGraph could not transform <function PreprocessingLayer.make_adapt_function.<locals>.adapt_step at 0x7f993200edd0> and will run it as-is.\n",
      "Please report this to the TensorFlow team. When filing the bug, set the verbosity to 10 (on Linux, `export AUTOGRAPH_VERBOSITY=10`) and attach the full output.\n",
      "Cause: 'arguments' object has no attribute 'posonlyargs'\n",
      "To silence this warning, decorate the function with @tf.autograph.experimental.do_not_convert\n",
      "WARNING: AutoGraph could not transform <function PreprocessingLayer.make_adapt_function.<locals>.adapt_step at 0x7f993200edd0> and will run it as-is.\n",
      "Please report this to the TensorFlow team. When filing the bug, set the verbosity to 10 (on Linux, `export AUTOGRAPH_VERBOSITY=10`) and attach the full output.\n",
      "Cause: 'arguments' object has no attribute 'posonlyargs'\n",
      "To silence this warning, decorate the function with @tf.autograph.experimental.do_not_convert\n"
     ]
    }
   ],
   "source": [
    "user_model = UserModel(unique_user_genders, unique_user_langs, unique_user_countries, viewer_age, unique_user_networks)"
   ]
  },
  {
   "cell_type": "code",
   "execution_count": 24,
   "id": "e557b8cf",
   "metadata": {},
   "outputs": [],
   "source": [
    "class BroadcasterModel(tf.keras.Model):\n",
    "\n",
    "    def __init__(self, unique_broadcaster_titles, dims):\n",
    "        super().__init__()\n",
    "\n",
    "        self.broadcaster_embedding = tf.keras.Sequential([\n",
    "            tf.keras.layers.experimental.preprocessing.StringLookup(\n",
    "                vocabulary=unique_broadcaster_titles, mask_token=None),\n",
    "            tf.keras.layers.Embedding(len(unique_broadcaster_titles) + 1, dims)\n",
    "        ])\n",
    "\n",
    "    def call(self, broadcaster):\n",
    "        return tf.concat([\n",
    "            self.broadcaster_embedding(broadcaster),\n",
    "        ], axis=1)"
   ]
  },
  {
   "cell_type": "code",
   "execution_count": 25,
   "id": "81647a4e",
   "metadata": {},
   "outputs": [],
   "source": [
    "broadcaster_model = BroadcasterModel(\n",
    "    unique_broadcasters,\n",
    "    broadcaster_embedding_dimension)"
   ]
  },
  {
   "cell_type": "code",
   "execution_count": 26,
   "id": "2c61d79e",
   "metadata": {},
   "outputs": [
    {
     "name": "stdout",
     "output_type": "stream",
     "text": [
      "WARNING:tensorflow:AutoGraph could not transform <bound method BroadcasterModel.call of <__main__.BroadcasterModel object at 0x7f9927bdc1d0>> and will run it as-is.\n",
      "Please report this to the TensorFlow team. When filing the bug, set the verbosity to 10 (on Linux, `export AUTOGRAPH_VERBOSITY=10`) and attach the full output.\n",
      "Cause: 'arguments' object has no attribute 'posonlyargs'\n",
      "To silence this warning, decorate the function with @tf.autograph.experimental.do_not_convert\n",
      "WARNING: AutoGraph could not transform <bound method BroadcasterModel.call of <__main__.BroadcasterModel object at 0x7f9927bdc1d0>> and will run it as-is.\n",
      "Please report this to the TensorFlow team. When filing the bug, set the verbosity to 10 (on Linux, `export AUTOGRAPH_VERBOSITY=10`) and attach the full output.\n",
      "Cause: 'arguments' object has no attribute 'posonlyargs'\n",
      "To silence this warning, decorate the function with @tf.autograph.experimental.do_not_convert\n"
     ]
    }
   ],
   "source": [
    "metrics = tfrs.metrics.FactorizedTopK(\n",
    "    candidates=broadcasters_data_set.batch(128).map(broadcaster_model)\n",
    ")\n",
    "\n",
    "task = tfrs.tasks.Retrieval(\n",
    "    metrics=metrics\n",
    ")"
   ]
  },
  {
   "cell_type": "code",
   "execution_count": 27,
   "id": "ec363d8f",
   "metadata": {},
   "outputs": [],
   "source": [
    "from typing import Dict, Text\n",
    "\n",
    "class TwoTowers(tf.keras.Model):\n",
    "\n",
    "    def __init__(self, broadcaster_model, user_model, task):\n",
    "        super().__init__()\n",
    "        self.broadcaster_model: tf.keras.Model = broadcaster_model\n",
    "        self.embedding_model = user_model\n",
    "        self.task: tf.keras.layers.Layer = task\n",
    "\n",
    "    def train_step(self, features: Dict[Text, tf.Tensor]) -> tf.Tensor:\n",
    "\n",
    "        # Set up a gradient tape to record gradients.\n",
    "        with tf.GradientTape() as tape:\n",
    "\n",
    "            # Loss computation.\n",
    "\n",
    "            user_embeddings = self.embedding_model({\n",
    "                \"viewer_gender\": features[\"viewer_gender\"],\n",
    "                \"viewer_lang\": features[\"viewer_lang\"],\n",
    "                \"viewer_country\": features[\"viewer_country\"],\n",
    "                \"viewer_age\": features[\"viewer_age\"],\n",
    "                \"viewer_network\": features[\"viewer_network\"],\n",
    "                \"viewer_latitude\": features[\"viewer_latitude\"],\n",
    "                \"viewer_longitude\": features[\"viewer_longitude\"]\n",
    "            })\n",
    "            positive_broadcaster_embeddings = self.broadcaster_model(\n",
    "                features[\"broadcaster\"])\n",
    "            loss = self.task(user_embeddings, positive_broadcaster_embeddings)\n",
    "\n",
    "            # Handle regularization losses as well.\n",
    "            regularization_loss = sum(self.losses)\n",
    "\n",
    "            total_loss = loss + regularization_loss\n",
    "\n",
    "        gradients = tape.gradient(total_loss, self.trainable_variables)\n",
    "        self.optimizer.apply_gradients(\n",
    "            zip(gradients, self.trainable_variables))\n",
    "\n",
    "        metrics = {metric.name: metric.result() for metric in self.metrics}\n",
    "        metrics[\"loss\"] = loss\n",
    "        metrics[\"regularization_loss\"] = regularization_loss\n",
    "        metrics[\"total_loss\"] = total_loss\n",
    "\n",
    "        return metrics\n",
    "\n",
    "    def test_step(self, features: Dict[Text, tf.Tensor]) -> tf.Tensor:\n",
    "\n",
    "        # Loss computation.\n",
    "\n",
    "        user_embeddings = self.embedding_model({\n",
    "                \"viewer_gender\": features[\"viewer_gender\"],\n",
    "                \"viewer_lang\": features[\"viewer_lang\"],\n",
    "                \"viewer_country\": features[\"viewer_country\"],\n",
    "                \"viewer_age\": features[\"viewer_age\"],\n",
    "                \"viewer_network\": features[\"viewer_network\"],\n",
    "                \"viewer_latitude\": features[\"viewer_latitude\"],\n",
    "                \"viewer_longitude\": features[\"viewer_longitude\"]\n",
    "        })\n",
    "        positive_broadcaster_embeddings = self.broadcaster_model(\n",
    "            features[\"broadcaster\"])\n",
    "        loss = self.task(user_embeddings, positive_broadcaster_embeddings)\n",
    "\n",
    "        # Handle regularization losses as well.\n",
    "        regularization_loss = sum(self.losses)\n",
    "\n",
    "        total_loss = loss + regularization_loss\n",
    "\n",
    "        metrics = {metric.name: metric.result() for metric in self.metrics}\n",
    "        metrics[\"loss\"] = loss\n",
    "        metrics[\"regularization_loss\"] = regularization_loss\n",
    "        metrics[\"total_loss\"] = total_loss\n",
    "        return metrics"
   ]
  },
  {
   "cell_type": "code",
   "execution_count": 28,
   "id": "3ab29574",
   "metadata": {},
   "outputs": [],
   "source": [
    "model = TwoTowers(broadcaster_model, user_model, task)"
   ]
  },
  {
   "cell_type": "code",
   "execution_count": 29,
   "id": "741653bb",
   "metadata": {},
   "outputs": [],
   "source": [
    "model.compile(\n",
    "    optimizer=tf.keras.optimizers.Adagrad(\n",
    "        learning_rate=learning_rate))"
   ]
  },
  {
   "cell_type": "code",
   "execution_count": 30,
   "id": "43432c43",
   "metadata": {},
   "outputs": [],
   "source": [
    "tf.random.set_seed(42)\n",
    "shuffled = train.shuffle(100_000, seed=42, reshuffle_each_iteration=False)\n",
    "\n",
    "train_p80 = shuffled.take(80_000)\n",
    "test_p20 = shuffled.skip(80_000).take(20_000)\n",
    "\n",
    "cached_train = train_p80.shuffle(100_000).batch(2048)\n",
    "cached_test = test_p20.batch(2048).cache()"
   ]
  },
  {
   "cell_type": "code",
   "execution_count": 31,
   "id": "328e8374",
   "metadata": {},
   "outputs": [
    {
     "name": "stdout",
     "output_type": "stream",
     "text": [
      "WARNING:tensorflow:AutoGraph could not transform <function Model.make_train_function.<locals>.train_function at 0x7f990014d680> and will run it as-is.\n",
      "Please report this to the TensorFlow team. When filing the bug, set the verbosity to 10 (on Linux, `export AUTOGRAPH_VERBOSITY=10`) and attach the full output.\n",
      "Cause: 'arguments' object has no attribute 'posonlyargs'\n",
      "To silence this warning, decorate the function with @tf.autograph.experimental.do_not_convert\n",
      "WARNING: AutoGraph could not transform <function Model.make_train_function.<locals>.train_function at 0x7f990014d680> and will run it as-is.\n",
      "Please report this to the TensorFlow team. When filing the bug, set the verbosity to 10 (on Linux, `export AUTOGRAPH_VERBOSITY=10`) and attach the full output.\n",
      "Cause: 'arguments' object has no attribute 'posonlyargs'\n",
      "To silence this warning, decorate the function with @tf.autograph.experimental.do_not_convert\n",
      "WARNING:tensorflow:AutoGraph could not transform <bound method UserModel.call of <__main__.UserModel object at 0x7f99b2be6e90>> and will run it as-is.\n",
      "Please report this to the TensorFlow team. When filing the bug, set the verbosity to 10 (on Linux, `export AUTOGRAPH_VERBOSITY=10`) and attach the full output.\n",
      "Cause: module 'gast' has no attribute 'Constant'\n",
      "To silence this warning, decorate the function with @tf.autograph.experimental.do_not_convert\n",
      "WARNING: AutoGraph could not transform <bound method UserModel.call of <__main__.UserModel object at 0x7f99b2be6e90>> and will run it as-is.\n",
      "Please report this to the TensorFlow team. When filing the bug, set the verbosity to 10 (on Linux, `export AUTOGRAPH_VERBOSITY=10`) and attach the full output.\n",
      "Cause: module 'gast' has no attribute 'Constant'\n",
      "To silence this warning, decorate the function with @tf.autograph.experimental.do_not_convert\n",
      "WARNING:tensorflow:AutoGraph could not transform <function Streaming.call.<locals>.enumerate_rows at 0x7f99010167a0> and will run it as-is.\n",
      "Please report this to the TensorFlow team. When filing the bug, set the verbosity to 10 (on Linux, `export AUTOGRAPH_VERBOSITY=10`) and attach the full output.\n",
      "Cause: module 'gast' has no attribute 'Constant'\n",
      "To silence this warning, decorate the function with @tf.autograph.experimental.do_not_convert\n",
      "WARNING: AutoGraph could not transform <function Streaming.call.<locals>.enumerate_rows at 0x7f99010167a0> and will run it as-is.\n",
      "Please report this to the TensorFlow team. When filing the bug, set the verbosity to 10 (on Linux, `export AUTOGRAPH_VERBOSITY=10`) and attach the full output.\n",
      "Cause: module 'gast' has no attribute 'Constant'\n",
      "To silence this warning, decorate the function with @tf.autograph.experimental.do_not_convert\n",
      "WARNING:tensorflow:AutoGraph could not transform <function Streaming.call.<locals>.top_scores at 0x7f9901016950> and will run it as-is.\n",
      "Please report this to the TensorFlow team. When filing the bug, set the verbosity to 10 (on Linux, `export AUTOGRAPH_VERBOSITY=10`) and attach the full output.\n",
      "Cause: module 'gast' has no attribute 'Constant'\n",
      "To silence this warning, decorate the function with @tf.autograph.experimental.do_not_convert\n",
      "WARNING: AutoGraph could not transform <function Streaming.call.<locals>.top_scores at 0x7f9901016950> and will run it as-is.\n",
      "Please report this to the TensorFlow team. When filing the bug, set the verbosity to 10 (on Linux, `export AUTOGRAPH_VERBOSITY=10`) and attach the full output.\n",
      "Cause: module 'gast' has no attribute 'Constant'\n",
      "To silence this warning, decorate the function with @tf.autograph.experimental.do_not_convert\n",
      "WARNING:tensorflow:AutoGraph could not transform <function Streaming.call.<locals>.top_k at 0x7f9901016680> and will run it as-is.\n",
      "Please report this to the TensorFlow team. When filing the bug, set the verbosity to 10 (on Linux, `export AUTOGRAPH_VERBOSITY=10`) and attach the full output.\n",
      "Cause: module 'gast' has no attribute 'Constant'\n",
      "To silence this warning, decorate the function with @tf.autograph.experimental.do_not_convert\n",
      "WARNING: AutoGraph could not transform <function Streaming.call.<locals>.top_k at 0x7f9901016680> and will run it as-is.\n",
      "Please report this to the TensorFlow team. When filing the bug, set the verbosity to 10 (on Linux, `export AUTOGRAPH_VERBOSITY=10`) and attach the full output.\n",
      "Cause: module 'gast' has no attribute 'Constant'\n",
      "To silence this warning, decorate the function with @tf.autograph.experimental.do_not_convert\n",
      "WARNING:tensorflow:AutoGraph could not transform <function Streaming.call.<locals>.enumerate_rows at 0x7f9911797200> and will run it as-is.\n",
      "Please report this to the TensorFlow team. When filing the bug, set the verbosity to 10 (on Linux, `export AUTOGRAPH_VERBOSITY=10`) and attach the full output.\n",
      "Cause: module 'gast' has no attribute 'Constant'\n",
      "To silence this warning, decorate the function with @tf.autograph.experimental.do_not_convert\n",
      "WARNING: AutoGraph could not transform <function Streaming.call.<locals>.enumerate_rows at 0x7f9911797200> and will run it as-is.\n",
      "Please report this to the TensorFlow team. When filing the bug, set the verbosity to 10 (on Linux, `export AUTOGRAPH_VERBOSITY=10`) and attach the full output.\n",
      "Cause: module 'gast' has no attribute 'Constant'\n",
      "To silence this warning, decorate the function with @tf.autograph.experimental.do_not_convert\n",
      "WARNING:tensorflow:AutoGraph could not transform <function Streaming.call.<locals>.top_scores at 0x7f99117975f0> and will run it as-is.\n",
      "Please report this to the TensorFlow team. When filing the bug, set the verbosity to 10 (on Linux, `export AUTOGRAPH_VERBOSITY=10`) and attach the full output.\n",
      "Cause: module 'gast' has no attribute 'Constant'\n",
      "To silence this warning, decorate the function with @tf.autograph.experimental.do_not_convert\n",
      "WARNING: AutoGraph could not transform <function Streaming.call.<locals>.top_scores at 0x7f99117975f0> and will run it as-is.\n",
      "Please report this to the TensorFlow team. When filing the bug, set the verbosity to 10 (on Linux, `export AUTOGRAPH_VERBOSITY=10`) and attach the full output.\n",
      "Cause: module 'gast' has no attribute 'Constant'\n",
      "To silence this warning, decorate the function with @tf.autograph.experimental.do_not_convert\n",
      "WARNING:tensorflow:AutoGraph could not transform <function Streaming.call.<locals>.top_k at 0x7f992ce9d4d0> and will run it as-is.\n",
      "Please report this to the TensorFlow team. When filing the bug, set the verbosity to 10 (on Linux, `export AUTOGRAPH_VERBOSITY=10`) and attach the full output.\n",
      "Cause: module 'gast' has no attribute 'Constant'\n",
      "To silence this warning, decorate the function with @tf.autograph.experimental.do_not_convert\n",
      "WARNING: AutoGraph could not transform <function Streaming.call.<locals>.top_k at 0x7f992ce9d4d0> and will run it as-is.\n",
      "Please report this to the TensorFlow team. When filing the bug, set the verbosity to 10 (on Linux, `export AUTOGRAPH_VERBOSITY=10`) and attach the full output.\n",
      "Cause: module 'gast' has no attribute 'Constant'\n",
      "To silence this warning, decorate the function with @tf.autograph.experimental.do_not_convert\n",
      "WARNING:tensorflow:AutoGraph could not transform <function Model.make_test_function.<locals>.test_function at 0x7f9930954680> and will run it as-is.\n",
      "Please report this to the TensorFlow team. When filing the bug, set the verbosity to 10 (on Linux, `export AUTOGRAPH_VERBOSITY=10`) and attach the full output.\n",
      "Cause: 'arguments' object has no attribute 'posonlyargs'\n",
      "To silence this warning, decorate the function with @tf.autograph.experimental.do_not_convert\n",
      "WARNING: AutoGraph could not transform <function Model.make_test_function.<locals>.test_function at 0x7f9930954680> and will run it as-is.\n",
      "Please report this to the TensorFlow team. When filing the bug, set the verbosity to 10 (on Linux, `export AUTOGRAPH_VERBOSITY=10`) and attach the full output.\n",
      "Cause: 'arguments' object has no attribute 'posonlyargs'\n",
      "To silence this warning, decorate the function with @tf.autograph.experimental.do_not_convert\n",
      "WARNING:tensorflow:AutoGraph could not transform <function Streaming.call.<locals>.enumerate_rows at 0x7f9930950170> and will run it as-is.\n",
      "Please report this to the TensorFlow team. When filing the bug, set the verbosity to 10 (on Linux, `export AUTOGRAPH_VERBOSITY=10`) and attach the full output.\n",
      "Cause: module 'gast' has no attribute 'Constant'\n",
      "To silence this warning, decorate the function with @tf.autograph.experimental.do_not_convert\n"
     ]
    },
    {
     "name": "stdout",
     "output_type": "stream",
     "text": [
      "WARNING: AutoGraph could not transform <function Streaming.call.<locals>.enumerate_rows at 0x7f9930950170> and will run it as-is.\n",
      "Please report this to the TensorFlow team. When filing the bug, set the verbosity to 10 (on Linux, `export AUTOGRAPH_VERBOSITY=10`) and attach the full output.\n",
      "Cause: module 'gast' has no attribute 'Constant'\n",
      "To silence this warning, decorate the function with @tf.autograph.experimental.do_not_convert\n",
      "WARNING:tensorflow:AutoGraph could not transform <function Streaming.call.<locals>.top_scores at 0x7f9930950ef0> and will run it as-is.\n",
      "Please report this to the TensorFlow team. When filing the bug, set the verbosity to 10 (on Linux, `export AUTOGRAPH_VERBOSITY=10`) and attach the full output.\n",
      "Cause: module 'gast' has no attribute 'Constant'\n",
      "To silence this warning, decorate the function with @tf.autograph.experimental.do_not_convert\n",
      "WARNING: AutoGraph could not transform <function Streaming.call.<locals>.top_scores at 0x7f9930950ef0> and will run it as-is.\n",
      "Please report this to the TensorFlow team. When filing the bug, set the verbosity to 10 (on Linux, `export AUTOGRAPH_VERBOSITY=10`) and attach the full output.\n",
      "Cause: module 'gast' has no attribute 'Constant'\n",
      "To silence this warning, decorate the function with @tf.autograph.experimental.do_not_convert\n",
      "WARNING:tensorflow:AutoGraph could not transform <function Streaming.call.<locals>.top_k at 0x7f99b08b1b90> and will run it as-is.\n",
      "Please report this to the TensorFlow team. When filing the bug, set the verbosity to 10 (on Linux, `export AUTOGRAPH_VERBOSITY=10`) and attach the full output.\n",
      "Cause: module 'gast' has no attribute 'Constant'\n",
      "To silence this warning, decorate the function with @tf.autograph.experimental.do_not_convert\n",
      "WARNING: AutoGraph could not transform <function Streaming.call.<locals>.top_k at 0x7f99b08b1b90> and will run it as-is.\n",
      "Please report this to the TensorFlow team. When filing the bug, set the verbosity to 10 (on Linux, `export AUTOGRAPH_VERBOSITY=10`) and attach the full output.\n",
      "Cause: module 'gast' has no attribute 'Constant'\n",
      "To silence this warning, decorate the function with @tf.autograph.experimental.do_not_convert\n"
     ]
    }
   ],
   "source": [
    "old_model_history = model.fit(\n",
    "    cached_train,\n",
    "    validation_data=cached_test,\n",
    "    validation_freq=5,\n",
    "    epochs=10,\n",
    "    verbose=0)"
   ]
  },
  {
   "cell_type": "markdown",
   "id": "768f827d",
   "metadata": {},
   "source": [
    "### New User Model with discretized age buckets"
   ]
  },
  {
   "cell_type": "code",
   "execution_count": 8,
   "id": "d62191f5",
   "metadata": {},
   "outputs": [
    {
     "name": "stdout",
     "output_type": "stream",
     "text": [
      "WARNING:tensorflow:AutoGraph could not transform <function <lambda> at 0x7f99301467a0> and will run it as-is.\n",
      "Please report this to the TensorFlow team. When filing the bug, set the verbosity to 10 (on Linux, `export AUTOGRAPH_VERBOSITY=10`) and attach the full output.\n",
      "Cause: module 'gast' has no attribute 'Constant'\n",
      "To silence this warning, decorate the function with @tf.autograph.experimental.do_not_convert\n",
      "WARNING: AutoGraph could not transform <function <lambda> at 0x7f99301467a0> and will run it as-is.\n",
      "Please report this to the TensorFlow team. When filing the bug, set the verbosity to 10 (on Linux, `export AUTOGRAPH_VERBOSITY=10`) and attach the full output.\n",
      "Cause: module 'gast' has no attribute 'Constant'\n",
      "To silence this warning, decorate the function with @tf.autograph.experimental.do_not_convert\n"
     ]
    }
   ],
   "source": [
    "max_viewer_age = train.map(lambda x: x[\"viewer_age\"]).reduce(tf.cast(0, tf.int32), tf.maximum).numpy().max()\n",
    "age_boundaries = np.array([18, 25, 30, 35, 40, 45, 50, 55, 60, 65, max_viewer_age])\n",
    "\n",
    "# Discretization\n",
    "# max_viewer_age = train.map(lambda x: x[\"viewer_age\"]).reduce(\n",
    "#     tf.cast(0, tf.int32), tf.maximum).numpy().max()\n",
    "# min_viewer_age = train.map(lambda x: x[\"viewer_age\"]).reduce(\n",
    "#     np.int32(100), tf.minimum).numpy().min()\n",
    "\n",
    "# viewer_age_buckets = np.linspace(\n",
    "#     min_viewer_age, max_viewer_age, num=10)\n",
    "\n",
    "# print(f\"Buckets: {viewer_age_buckets[:10]}\")"
   ]
  },
  {
   "cell_type": "code",
   "execution_count": 9,
   "id": "d21109b7",
   "metadata": {},
   "outputs": [],
   "source": [
    "class UserModel(tf.keras.Model) :\n",
    "\n",
    "    def __init__(self, unique_genders, unique_langs, unique_countries, viewer_age, unique_networks) :\n",
    "        super().__init__()\n",
    "\n",
    "        self.gender_embedding = tf.keras.Sequential([\n",
    "            tf.keras.layers.experimental.preprocessing.StringLookup(\n",
    "                vocabulary=unique_genders, mask_token=None),\n",
    "            tf.keras.layers.Embedding(len(unique_genders) + 1, 4),\n",
    "        ])\n",
    "\n",
    "        self.lang_embedding = tf.keras.Sequential([\n",
    "            tf.keras.layers.experimental.preprocessing.StringLookup(\n",
    "                vocabulary=unique_langs, mask_token=None),\n",
    "            tf.keras.layers.Embedding(len(unique_langs) + 1, 11),\n",
    "        ])\n",
    "\n",
    "        self.country_embedding = tf.keras.Sequential([\n",
    "            tf.keras.layers.experimental.preprocessing.StringLookup(\n",
    "                vocabulary=unique_countries, mask_token=None),\n",
    "            tf.keras.layers.Embedding(len(unique_countries) + 1, 11),\n",
    "        ])\n",
    "\n",
    "        self.network_embedding = tf.keras.Sequential([\n",
    "            tf.keras.layers.experimental.preprocessing.StringLookup(\n",
    "                vocabulary=unique_networks, mask_token=None),\n",
    "            tf.keras.layers.Embedding(len(unique_networks) + 1, 4),\n",
    "        ])\n",
    "\n",
    "#         self.normalized_ages = tf.keras.layers.experimental.preprocessing.Normalization(axis=None)\n",
    "#         self.normalized_ages.adapt(viewer_age)\n",
    "        \n",
    "        self.viewer_age_embedding = tf.keras.Sequential([\n",
    "            tf.keras.layers.experimental.preprocessing.Discretization(age_boundaries.tolist()),\n",
    "            tf.keras.layers.Embedding(len(age_boundaries) + 2, 2)\n",
    "        ])            \n",
    "\n",
    "\n",
    "    def call(self, inputs) :\n",
    "        return tf.concat([\n",
    "            self.gender_embedding(inputs[\"viewer_gender\"]),\n",
    "            self.lang_embedding(inputs[\"viewer_lang\"]),\n",
    "            self.country_embedding(inputs[\"viewer_country\"]),\n",
    "            self.network_embedding(inputs[\"viewer_network\"]),\n",
    "            self.viewer_age_embedding(inputs[\"viewer_age\"]),\n",
    "        ], axis = 1)"
   ]
  },
  {
   "cell_type": "code",
   "execution_count": 10,
   "id": "35ad0e16",
   "metadata": {},
   "outputs": [],
   "source": [
    "user_model = UserModel(unique_user_genders, unique_user_langs, unique_user_countries, viewer_age, unique_user_networks)"
   ]
  },
  {
   "cell_type": "code",
   "execution_count": 12,
   "id": "2b27d970",
   "metadata": {},
   "outputs": [],
   "source": [
    "class BroadcasterModel(tf.keras.Model):\n",
    "\n",
    "    def __init__(self, unique_broadcaster_titles, dims):\n",
    "        super().__init__()\n",
    "\n",
    "        self.broadcaster_embedding = tf.keras.Sequential([\n",
    "            tf.keras.layers.experimental.preprocessing.StringLookup(\n",
    "                vocabulary=unique_broadcaster_titles, mask_token=None),\n",
    "            tf.keras.layers.Embedding(len(unique_broadcaster_titles) + 1, dims)\n",
    "        ])\n",
    "\n",
    "    def call(self, broadcaster):\n",
    "        return tf.concat([\n",
    "            self.broadcaster_embedding(broadcaster),\n",
    "        ], axis=1)"
   ]
  },
  {
   "cell_type": "code",
   "execution_count": 13,
   "id": "ff329ffd",
   "metadata": {},
   "outputs": [],
   "source": [
    "broadcaster_model = BroadcasterModel(unique_broadcasters, broadcaster_embedding_dimension)"
   ]
  },
  {
   "cell_type": "code",
   "execution_count": 14,
   "id": "54e797fd",
   "metadata": {},
   "outputs": [],
   "source": [
    "from typing import Dict, Text\n",
    "\n",
    "class TwoTowers(tf.keras.Model):\n",
    "\n",
    "    def __init__(self, broadcaster_model, user_model, task):\n",
    "        super().__init__()\n",
    "        self.broadcaster_model: tf.keras.Model = broadcaster_model\n",
    "        self.embedding_model = user_model\n",
    "        self.task: tf.keras.layers.Layer = task\n",
    "\n",
    "    def train_step(self, features: Dict[Text, tf.Tensor]) -> tf.Tensor:\n",
    "\n",
    "        # Set up a gradient tape to record gradients.\n",
    "        with tf.GradientTape() as tape:\n",
    "\n",
    "            # Loss computation.\n",
    "\n",
    "            user_embeddings = self.embedding_model({\n",
    "                \"viewer_gender\": features[\"viewer_gender\"],\n",
    "                \"viewer_lang\": features[\"viewer_lang\"],\n",
    "                \"viewer_country\": features[\"viewer_country\"],\n",
    "                \"viewer_age\": features[\"viewer_age\"],\n",
    "                \"viewer_network\": features[\"viewer_network\"],\n",
    "                \"viewer_latitude\": features[\"viewer_latitude\"],\n",
    "                \"viewer_longitude\": features[\"viewer_longitude\"]\n",
    "            })\n",
    "            positive_broadcaster_embeddings = self.broadcaster_model(\n",
    "                features[\"broadcaster\"])\n",
    "            loss = self.task(user_embeddings, positive_broadcaster_embeddings)\n",
    "\n",
    "            # Handle regularization losses as well.\n",
    "            regularization_loss = sum(self.losses)\n",
    "\n",
    "            total_loss = loss + regularization_loss\n",
    "\n",
    "        gradients = tape.gradient(total_loss, self.trainable_variables)\n",
    "        self.optimizer.apply_gradients(\n",
    "            zip(gradients, self.trainable_variables))\n",
    "\n",
    "        metrics = {metric.name: metric.result() for metric in self.metrics}\n",
    "        metrics[\"loss\"] = loss\n",
    "        metrics[\"regularization_loss\"] = regularization_loss\n",
    "        metrics[\"total_loss\"] = total_loss\n",
    "\n",
    "        return metrics\n",
    "\n",
    "    def test_step(self, features: Dict[Text, tf.Tensor]) -> tf.Tensor:\n",
    "\n",
    "        # Loss computation.\n",
    "\n",
    "        user_embeddings = self.embedding_model({\n",
    "                \"viewer_gender\": features[\"viewer_gender\"],\n",
    "                \"viewer_lang\": features[\"viewer_lang\"],\n",
    "                \"viewer_country\": features[\"viewer_country\"],\n",
    "                \"viewer_age\": features[\"viewer_age\"],\n",
    "                \"viewer_network\": features[\"viewer_network\"],\n",
    "                \"viewer_latitude\": features[\"viewer_latitude\"],\n",
    "                \"viewer_longitude\": features[\"viewer_longitude\"]\n",
    "        })\n",
    "        positive_broadcaster_embeddings = self.broadcaster_model(\n",
    "            features[\"broadcaster\"])\n",
    "        loss = self.task(user_embeddings, positive_broadcaster_embeddings)\n",
    "\n",
    "        # Handle regularization losses as well.\n",
    "        regularization_loss = sum(self.losses)\n",
    "\n",
    "        total_loss = loss + regularization_loss\n",
    "\n",
    "        metrics = {metric.name: metric.result() for metric in self.metrics}\n",
    "        metrics[\"loss\"] = loss\n",
    "        metrics[\"regularization_loss\"] = regularization_loss\n",
    "        metrics[\"total_loss\"] = total_loss\n",
    "        return metrics"
   ]
  },
  {
   "cell_type": "code",
   "execution_count": 16,
   "id": "d48a9ce5",
   "metadata": {},
   "outputs": [
    {
     "name": "stdout",
     "output_type": "stream",
     "text": [
      "WARNING:tensorflow:AutoGraph could not transform <bound method BroadcasterModel.call of <__main__.BroadcasterModel object at 0x7f992884c6d0>> and will run it as-is.\n",
      "Please report this to the TensorFlow team. When filing the bug, set the verbosity to 10 (on Linux, `export AUTOGRAPH_VERBOSITY=10`) and attach the full output.\n",
      "Cause: 'arguments' object has no attribute 'posonlyargs'\n",
      "To silence this warning, decorate the function with @tf.autograph.experimental.do_not_convert\n",
      "WARNING: AutoGraph could not transform <bound method BroadcasterModel.call of <__main__.BroadcasterModel object at 0x7f992884c6d0>> and will run it as-is.\n",
      "Please report this to the TensorFlow team. When filing the bug, set the verbosity to 10 (on Linux, `export AUTOGRAPH_VERBOSITY=10`) and attach the full output.\n",
      "Cause: 'arguments' object has no attribute 'posonlyargs'\n",
      "To silence this warning, decorate the function with @tf.autograph.experimental.do_not_convert\n"
     ]
    }
   ],
   "source": [
    "metrics = tfrs.metrics.FactorizedTopK(\n",
    "    candidates=broadcasters_data_set.batch(128).map(broadcaster_model)\n",
    ")\n",
    "\n",
    "task = tfrs.tasks.Retrieval(\n",
    "    metrics=metrics\n",
    ")"
   ]
  },
  {
   "cell_type": "code",
   "execution_count": 17,
   "id": "041e1687",
   "metadata": {},
   "outputs": [],
   "source": [
    "model = TwoTowers(broadcaster_model, user_model, task)"
   ]
  },
  {
   "cell_type": "code",
   "execution_count": 18,
   "id": "ff79a5e1",
   "metadata": {},
   "outputs": [],
   "source": [
    "model.compile(\n",
    "    optimizer=tf.keras.optimizers.Adagrad(\n",
    "        learning_rate=learning_rate))"
   ]
  },
  {
   "cell_type": "code",
   "execution_count": 19,
   "id": "c37a40b6",
   "metadata": {},
   "outputs": [],
   "source": [
    "tf.random.set_seed(42)\n",
    "shuffled = train.shuffle(100_000, seed=42, reshuffle_each_iteration=False)\n",
    "\n",
    "train_p80 = shuffled.take(80_000)\n",
    "test_p20 = shuffled.skip(80_000).take(20_000)\n",
    "\n",
    "cached_train = train_p80.shuffle(100_000).batch(2048)\n",
    "cached_test = test_p20.batch(2048).cache()"
   ]
  },
  {
   "cell_type": "code",
   "execution_count": 20,
   "id": "0b6a3cf7",
   "metadata": {},
   "outputs": [
    {
     "name": "stdout",
     "output_type": "stream",
     "text": [
      "WARNING:tensorflow:AutoGraph could not transform <function Model.make_train_function.<locals>.train_function at 0x7f9971cbb560> and will run it as-is.\n",
      "Please report this to the TensorFlow team. When filing the bug, set the verbosity to 10 (on Linux, `export AUTOGRAPH_VERBOSITY=10`) and attach the full output.\n",
      "Cause: 'arguments' object has no attribute 'posonlyargs'\n",
      "To silence this warning, decorate the function with @tf.autograph.experimental.do_not_convert\n",
      "WARNING: AutoGraph could not transform <function Model.make_train_function.<locals>.train_function at 0x7f9971cbb560> and will run it as-is.\n",
      "Please report this to the TensorFlow team. When filing the bug, set the verbosity to 10 (on Linux, `export AUTOGRAPH_VERBOSITY=10`) and attach the full output.\n",
      "Cause: 'arguments' object has no attribute 'posonlyargs'\n",
      "To silence this warning, decorate the function with @tf.autograph.experimental.do_not_convert\n",
      "WARNING:tensorflow:AutoGraph could not transform <bound method UserModel.call of <__main__.UserModel object at 0x7f9928820450>> and will run it as-is.\n",
      "Please report this to the TensorFlow team. When filing the bug, set the verbosity to 10 (on Linux, `export AUTOGRAPH_VERBOSITY=10`) and attach the full output.\n",
      "Cause: module 'gast' has no attribute 'Constant'\n",
      "To silence this warning, decorate the function with @tf.autograph.experimental.do_not_convert\n",
      "WARNING: AutoGraph could not transform <bound method UserModel.call of <__main__.UserModel object at 0x7f9928820450>> and will run it as-is.\n",
      "Please report this to the TensorFlow team. When filing the bug, set the verbosity to 10 (on Linux, `export AUTOGRAPH_VERBOSITY=10`) and attach the full output.\n",
      "Cause: module 'gast' has no attribute 'Constant'\n",
      "To silence this warning, decorate the function with @tf.autograph.experimental.do_not_convert\n",
      "WARNING:tensorflow:From /Users/lhuang/opt/miniconda3/envs/tensorflow3.7/lib/python3.7/site-packages/tensorflow/python/ops/parallel_for/pfor.py:2382: calling gather (from tensorflow.python.ops.array_ops) with validate_indices is deprecated and will be removed in a future version.\n",
      "Instructions for updating:\n",
      "The `validate_indices` argument has no effect. Indices are always validated on CPU and never validated on GPU.\n",
      "WARNING:tensorflow:Using a while_loop for converting BoostedTreesBucketize\n",
      "WARNING:tensorflow:Using a while_loop for converting BoostedTreesBucketize\n",
      "WARNING:tensorflow:AutoGraph could not transform <bound method Retrieval.call of <tensorflow_recommenders.tasks.retrieval.Retrieval object at 0x7f9928816ed0>> and will run it as-is.\n",
      "Please report this to the TensorFlow team. When filing the bug, set the verbosity to 10 (on Linux, `export AUTOGRAPH_VERBOSITY=10`) and attach the full output.\n",
      "Cause: module 'gast' has no attribute 'Constant'\n",
      "To silence this warning, decorate the function with @tf.autograph.experimental.do_not_convert\n",
      "WARNING: AutoGraph could not transform <bound method Retrieval.call of <tensorflow_recommenders.tasks.retrieval.Retrieval object at 0x7f9928816ed0>> and will run it as-is.\n",
      "Please report this to the TensorFlow team. When filing the bug, set the verbosity to 10 (on Linux, `export AUTOGRAPH_VERBOSITY=10`) and attach the full output.\n",
      "Cause: module 'gast' has no attribute 'Constant'\n",
      "To silence this warning, decorate the function with @tf.autograph.experimental.do_not_convert\n",
      "WARNING:tensorflow:AutoGraph could not transform <bound method Streaming.call of <tensorflow_recommenders.layers.factorized_top_k.Streaming object at 0x7f9928816c90>> and will run it as-is.\n",
      "Please report this to the TensorFlow team. When filing the bug, set the verbosity to 10 (on Linux, `export AUTOGRAPH_VERBOSITY=10`) and attach the full output.\n",
      "Cause: module 'gast' has no attribute 'Constant'\n",
      "To silence this warning, decorate the function with @tf.autograph.experimental.do_not_convert\n",
      "WARNING: AutoGraph could not transform <bound method Streaming.call of <tensorflow_recommenders.layers.factorized_top_k.Streaming object at 0x7f9928816c90>> and will run it as-is.\n",
      "Please report this to the TensorFlow team. When filing the bug, set the verbosity to 10 (on Linux, `export AUTOGRAPH_VERBOSITY=10`) and attach the full output.\n",
      "Cause: module 'gast' has no attribute 'Constant'\n",
      "To silence this warning, decorate the function with @tf.autograph.experimental.do_not_convert\n",
      "WARNING:tensorflow:AutoGraph could not transform <function Streaming.call.<locals>.enumerate_rows at 0x7f9900ddef80> and will run it as-is.\n",
      "Please report this to the TensorFlow team. When filing the bug, set the verbosity to 10 (on Linux, `export AUTOGRAPH_VERBOSITY=10`) and attach the full output.\n",
      "Cause: module 'gast' has no attribute 'Constant'\n",
      "To silence this warning, decorate the function with @tf.autograph.experimental.do_not_convert\n",
      "WARNING: AutoGraph could not transform <function Streaming.call.<locals>.enumerate_rows at 0x7f9900ddef80> and will run it as-is.\n",
      "Please report this to the TensorFlow team. When filing the bug, set the verbosity to 10 (on Linux, `export AUTOGRAPH_VERBOSITY=10`) and attach the full output.\n",
      "Cause: module 'gast' has no attribute 'Constant'\n",
      "To silence this warning, decorate the function with @tf.autograph.experimental.do_not_convert\n",
      "WARNING:tensorflow:AutoGraph could not transform <function Streaming.call.<locals>.top_scores at 0x7f9900ddeef0> and will run it as-is.\n",
      "Please report this to the TensorFlow team. When filing the bug, set the verbosity to 10 (on Linux, `export AUTOGRAPH_VERBOSITY=10`) and attach the full output.\n",
      "Cause: module 'gast' has no attribute 'Constant'\n",
      "To silence this warning, decorate the function with @tf.autograph.experimental.do_not_convert\n",
      "WARNING: AutoGraph could not transform <function Streaming.call.<locals>.top_scores at 0x7f9900ddeef0> and will run it as-is.\n",
      "Please report this to the TensorFlow team. When filing the bug, set the verbosity to 10 (on Linux, `export AUTOGRAPH_VERBOSITY=10`) and attach the full output.\n",
      "Cause: module 'gast' has no attribute 'Constant'\n",
      "To silence this warning, decorate the function with @tf.autograph.experimental.do_not_convert\n",
      "WARNING:tensorflow:AutoGraph could not transform <function Streaming.call.<locals>.top_k at 0x7f9900ddedd0> and will run it as-is.\n",
      "Please report this to the TensorFlow team. When filing the bug, set the verbosity to 10 (on Linux, `export AUTOGRAPH_VERBOSITY=10`) and attach the full output.\n",
      "Cause: module 'gast' has no attribute 'Constant'\n",
      "To silence this warning, decorate the function with @tf.autograph.experimental.do_not_convert\n",
      "WARNING: AutoGraph could not transform <function Streaming.call.<locals>.top_k at 0x7f9900ddedd0> and will run it as-is.\n",
      "Please report this to the TensorFlow team. When filing the bug, set the verbosity to 10 (on Linux, `export AUTOGRAPH_VERBOSITY=10`) and attach the full output.\n",
      "Cause: module 'gast' has no attribute 'Constant'\n",
      "To silence this warning, decorate the function with @tf.autograph.experimental.do_not_convert\n",
      "WARNING:tensorflow:Using a while_loop for converting BoostedTreesBucketize\n",
      "WARNING:tensorflow:AutoGraph could not transform <function Streaming.call.<locals>.enumerate_rows at 0x7f9900dcae60> and will run it as-is.\n",
      "Please report this to the TensorFlow team. When filing the bug, set the verbosity to 10 (on Linux, `export AUTOGRAPH_VERBOSITY=10`) and attach the full output.\n",
      "Cause: module 'gast' has no attribute 'Constant'\n",
      "To silence this warning, decorate the function with @tf.autograph.experimental.do_not_convert\n",
      "WARNING: AutoGraph could not transform <function Streaming.call.<locals>.enumerate_rows at 0x7f9900dcae60> and will run it as-is.\n",
      "Please report this to the TensorFlow team. When filing the bug, set the verbosity to 10 (on Linux, `export AUTOGRAPH_VERBOSITY=10`) and attach the full output.\n",
      "Cause: module 'gast' has no attribute 'Constant'\n",
      "To silence this warning, decorate the function with @tf.autograph.experimental.do_not_convert\n",
      "WARNING:tensorflow:AutoGraph could not transform <function Streaming.call.<locals>.top_scores at 0x7f9900dcadd0> and will run it as-is.\n",
      "Please report this to the TensorFlow team. When filing the bug, set the verbosity to 10 (on Linux, `export AUTOGRAPH_VERBOSITY=10`) and attach the full output.\n",
      "Cause: module 'gast' has no attribute 'Constant'\n",
      "To silence this warning, decorate the function with @tf.autograph.experimental.do_not_convert\n"
     ]
    },
    {
     "name": "stdout",
     "output_type": "stream",
     "text": [
      "WARNING: AutoGraph could not transform <function Streaming.call.<locals>.top_scores at 0x7f9900dcadd0> and will run it as-is.\n",
      "Please report this to the TensorFlow team. When filing the bug, set the verbosity to 10 (on Linux, `export AUTOGRAPH_VERBOSITY=10`) and attach the full output.\n",
      "Cause: module 'gast' has no attribute 'Constant'\n",
      "To silence this warning, decorate the function with @tf.autograph.experimental.do_not_convert\n",
      "WARNING:tensorflow:AutoGraph could not transform <function Streaming.call.<locals>.top_k at 0x7f9900dca830> and will run it as-is.\n",
      "Please report this to the TensorFlow team. When filing the bug, set the verbosity to 10 (on Linux, `export AUTOGRAPH_VERBOSITY=10`) and attach the full output.\n",
      "Cause: module 'gast' has no attribute 'Constant'\n",
      "To silence this warning, decorate the function with @tf.autograph.experimental.do_not_convert\n",
      "WARNING: AutoGraph could not transform <function Streaming.call.<locals>.top_k at 0x7f9900dca830> and will run it as-is.\n",
      "Please report this to the TensorFlow team. When filing the bug, set the verbosity to 10 (on Linux, `export AUTOGRAPH_VERBOSITY=10`) and attach the full output.\n",
      "Cause: module 'gast' has no attribute 'Constant'\n",
      "To silence this warning, decorate the function with @tf.autograph.experimental.do_not_convert\n",
      "WARNING:tensorflow:AutoGraph could not transform <function Model.make_test_function.<locals>.test_function at 0x7f990028bcb0> and will run it as-is.\n",
      "Please report this to the TensorFlow team. When filing the bug, set the verbosity to 10 (on Linux, `export AUTOGRAPH_VERBOSITY=10`) and attach the full output.\n",
      "Cause: 'arguments' object has no attribute 'posonlyargs'\n",
      "To silence this warning, decorate the function with @tf.autograph.experimental.do_not_convert\n",
      "WARNING: AutoGraph could not transform <function Model.make_test_function.<locals>.test_function at 0x7f990028bcb0> and will run it as-is.\n",
      "Please report this to the TensorFlow team. When filing the bug, set the verbosity to 10 (on Linux, `export AUTOGRAPH_VERBOSITY=10`) and attach the full output.\n",
      "Cause: 'arguments' object has no attribute 'posonlyargs'\n",
      "To silence this warning, decorate the function with @tf.autograph.experimental.do_not_convert\n",
      "WARNING:tensorflow:Using a while_loop for converting BoostedTreesBucketize\n",
      "WARNING:tensorflow:AutoGraph could not transform <function Streaming.call.<locals>.enumerate_rows at 0x7f9935ae0320> and will run it as-is.\n",
      "Please report this to the TensorFlow team. When filing the bug, set the verbosity to 10 (on Linux, `export AUTOGRAPH_VERBOSITY=10`) and attach the full output.\n",
      "Cause: module 'gast' has no attribute 'Constant'\n",
      "To silence this warning, decorate the function with @tf.autograph.experimental.do_not_convert\n",
      "WARNING: AutoGraph could not transform <function Streaming.call.<locals>.enumerate_rows at 0x7f9935ae0320> and will run it as-is.\n",
      "Please report this to the TensorFlow team. When filing the bug, set the verbosity to 10 (on Linux, `export AUTOGRAPH_VERBOSITY=10`) and attach the full output.\n",
      "Cause: module 'gast' has no attribute 'Constant'\n",
      "To silence this warning, decorate the function with @tf.autograph.experimental.do_not_convert\n",
      "WARNING:tensorflow:AutoGraph could not transform <function Streaming.call.<locals>.top_scores at 0x7f9900a255f0> and will run it as-is.\n",
      "Please report this to the TensorFlow team. When filing the bug, set the verbosity to 10 (on Linux, `export AUTOGRAPH_VERBOSITY=10`) and attach the full output.\n",
      "Cause: module 'gast' has no attribute 'Constant'\n",
      "To silence this warning, decorate the function with @tf.autograph.experimental.do_not_convert\n",
      "WARNING: AutoGraph could not transform <function Streaming.call.<locals>.top_scores at 0x7f9900a255f0> and will run it as-is.\n",
      "Please report this to the TensorFlow team. When filing the bug, set the verbosity to 10 (on Linux, `export AUTOGRAPH_VERBOSITY=10`) and attach the full output.\n",
      "Cause: module 'gast' has no attribute 'Constant'\n",
      "To silence this warning, decorate the function with @tf.autograph.experimental.do_not_convert\n",
      "WARNING:tensorflow:AutoGraph could not transform <function Streaming.call.<locals>.top_k at 0x7f9930a06d40> and will run it as-is.\n",
      "Please report this to the TensorFlow team. When filing the bug, set the verbosity to 10 (on Linux, `export AUTOGRAPH_VERBOSITY=10`) and attach the full output.\n",
      "Cause: module 'gast' has no attribute 'Constant'\n",
      "To silence this warning, decorate the function with @tf.autograph.experimental.do_not_convert\n",
      "WARNING: AutoGraph could not transform <function Streaming.call.<locals>.top_k at 0x7f9930a06d40> and will run it as-is.\n",
      "Please report this to the TensorFlow team. When filing the bug, set the verbosity to 10 (on Linux, `export AUTOGRAPH_VERBOSITY=10`) and attach the full output.\n",
      "Cause: module 'gast' has no attribute 'Constant'\n",
      "To silence this warning, decorate the function with @tf.autograph.experimental.do_not_convert\n"
     ]
    }
   ],
   "source": [
    "# model.fit(train_ds, epochs=epochs)\n",
    "new_model_history = model.fit(\n",
    "    cached_train,\n",
    "    validation_data=cached_test,\n",
    "    validation_freq=5,\n",
    "    epochs=10,\n",
    "    verbose=0)"
   ]
  },
  {
   "cell_type": "code",
   "execution_count": 21,
   "id": "b22f3587",
   "metadata": {},
   "outputs": [
    {
     "data": {
      "text/plain": [
       "{'factorized_top_k/top_1_categorical_accuracy': [0.0006249999860301614,\n",
       "  0.0012125000357627869,\n",
       "  0.0017374999588355422,\n",
       "  0.0015750000020489097,\n",
       "  0.00215000007301569,\n",
       "  0.0022124999668449163,\n",
       "  0.0024125000927597284,\n",
       "  0.00215000007301569,\n",
       "  0.0021875000093132257,\n",
       "  0.0025625000707805157],\n",
       " 'factorized_top_k/top_5_categorical_accuracy': [0.0048374999314546585,\n",
       "  0.007712500169873238,\n",
       "  0.00860000029206276,\n",
       "  0.01048749964684248,\n",
       "  0.011075000278651714,\n",
       "  0.010262499563395977,\n",
       "  0.010599999688565731,\n",
       "  0.011212499812245369,\n",
       "  0.013175000436604023,\n",
       "  0.014387499541044235],\n",
       " 'factorized_top_k/top_10_categorical_accuracy': [0.00911249965429306,\n",
       "  0.013500000350177288,\n",
       "  0.015137500129640102,\n",
       "  0.01913749985396862,\n",
       "  0.01877499930560589,\n",
       "  0.01771249994635582,\n",
       "  0.018912499770522118,\n",
       "  0.021375000476837158,\n",
       "  0.024450000375509262,\n",
       "  0.026225000619888306],\n",
       " 'factorized_top_k/top_50_categorical_accuracy': [0.026775000616908073,\n",
       "  0.043162498623132706,\n",
       "  0.051362499594688416,\n",
       "  0.057862501591444016,\n",
       "  0.05483749881386757,\n",
       "  0.06120000034570694,\n",
       "  0.07118750363588333,\n",
       "  0.07867500185966492,\n",
       "  0.08193749934434891,\n",
       "  0.08502499759197235],\n",
       " 'factorized_top_k/top_100_categorical_accuracy': [0.040687501430511475,\n",
       "  0.0664374977350235,\n",
       "  0.07941249758005142,\n",
       "  0.08746249973773956,\n",
       "  0.08773750066757202,\n",
       "  0.10573749989271164,\n",
       "  0.11903750151395798,\n",
       "  0.12613749504089355,\n",
       "  0.1310500055551529,\n",
       "  0.13547499477863312],\n",
       " 'loss': [598.6918334960938,\n",
       "  556.5850830078125,\n",
       "  512.9412841796875,\n",
       "  501.53302001953125,\n",
       "  443.8379211425781,\n",
       "  427.54364013671875,\n",
       "  433.8009948730469,\n",
       "  432.59722900390625,\n",
       "  396.0645751953125,\n",
       "  405.88677978515625],\n",
       " 'regularization_loss': [0, 0, 0, 0, 0, 0, 0, 0, 0, 0],\n",
       " 'total_loss': [598.6918334960938,\n",
       "  556.5850830078125,\n",
       "  512.9412841796875,\n",
       "  501.53302001953125,\n",
       "  443.8379211425781,\n",
       "  427.54364013671875,\n",
       "  433.8009948730469,\n",
       "  432.59722900390625,\n",
       "  396.0645751953125,\n",
       "  405.88677978515625],\n",
       " 'val_factorized_top_k/top_1_categorical_accuracy': [0.0002500000118743628,\n",
       "  0.00019999999494757503],\n",
       " 'val_factorized_top_k/top_5_categorical_accuracy': [0.002099999925121665,\n",
       "  0.0011500000255182385],\n",
       " 'val_factorized_top_k/top_10_categorical_accuracy': [0.004749999847263098,\n",
       "  0.0017500000540167093],\n",
       " 'val_factorized_top_k/top_50_categorical_accuracy': [0.01600000075995922,\n",
       "  0.008799999952316284],\n",
       " 'val_factorized_top_k/top_100_categorical_accuracy': [0.025049999356269836,\n",
       "  0.019500000402331352],\n",
       " 'val_loss': [11381.1513671875, 12173.1826171875],\n",
       " 'val_regularization_loss': [0, 0],\n",
       " 'val_total_loss': [11381.1513671875, 12173.1826171875]}"
      ]
     },
     "execution_count": 21,
     "metadata": {},
     "output_type": "execute_result"
    }
   ],
   "source": [
    "new_model_history.history"
   ]
  },
  {
   "cell_type": "code",
   "execution_count": 32,
   "id": "a5af2644",
   "metadata": {},
   "outputs": [],
   "source": [
    "num_validation_runs = len(old_model_history.history[\"factorized_top_k/top_100_categorical_accuracy\"])"
   ]
  },
  {
   "cell_type": "code",
   "execution_count": 33,
   "id": "93a25d8e",
   "metadata": {},
   "outputs": [],
   "source": [
    "%matplotlib inline\n",
    "import matplotlib.pyplot as plt"
   ]
  },
  {
   "cell_type": "code",
   "execution_count": 34,
   "id": "21fe3e41",
   "metadata": {},
   "outputs": [
    {
     "data": {
      "text/plain": [
       "<matplotlib.legend.Legend at 0x7f9925114710>"
      ]
     },
     "execution_count": 34,
     "metadata": {},
     "output_type": "execute_result"
    },
    {
     "data": {
      "image/png": "[encoded data removed]",
      "text/plain": [
       "<Figure size 432x288 with 1 Axes>"
      ]
     },
     "metadata": {
      "needs_background": "light"
     },
     "output_type": "display_data"
    }
   ],
   "source": [
    "epochs = [(x + 1)* 5 for x in range(num_validation_runs)]\n",
    "\n",
    "plt.plot(epochs, old_model_history.history[\"factorized_top_k/top_100_categorical_accuracy\"], label=\"Existing Model\")\n",
    "plt.plot(epochs, new_model_history.history[\"factorized_top_k/top_100_categorical_accuracy\"], label=\"New Model with Bucketized Age\")\n",
    "plt.title(\"Accuracy vs epoch\")\n",
    "plt.xlabel(\"epoch\")\n",
    "plt.ylabel(\"Top-100 accuracy\");\n",
    "plt.legend()"
   ]
  },
  {
   "cell_type": "code",
   "execution_count": 35,
   "id": "91af95d3",
   "metadata": {},
   "outputs": [
    {
     "name": "stdout",
     "output_type": "stream",
     "text": [
      "Top-100 accuracy: 0.0919.\n"
     ]
    }
   ],
   "source": [
    "accuracy = old_model_history.history[\"factorized_top_k/top_100_categorical_accuracy\"][-1]\n",
    "print(f\"Top-100 accuracy: {accuracy:.4f}.\")"
   ]
  },
  {
   "cell_type": "code",
   "execution_count": 36,
   "id": "18697f02",
   "metadata": {},
   "outputs": [
    {
     "name": "stdout",
     "output_type": "stream",
     "text": [
      "Top-100 accuracy: 0.1355.\n"
     ]
    }
   ],
   "source": [
    "accuracy = new_model_history.history[\"factorized_top_k/top_100_categorical_accuracy\"][-1]\n",
    "print(f\"Top-100 accuracy: {accuracy:.4f}.\")"
   ]
  },
  {
   "cell_type": "code",
   "execution_count": null,
   "id": "f7027846",
   "metadata": {},
   "outputs": [],
   "source": []
  }
 ],
 "metadata": {
  "kernelspec": {
   "display_name": "Python 3 (ipykernel)",
   "language": "python",
   "name": "python3"
  },
  "language_info": {
   "codemirror_mode": {
    "name": "ipython",
    "version": 3
   },
   "file_extension": ".py",
   "mimetype": "text/x-python",
   "name": "python",
   "nbconvert_exporter": "python",
   "pygments_lexer": "ipython3",
   "version": "3.7.7"
  }
 },
 "nbformat": 4,
 "nbformat_minor": 5
}
