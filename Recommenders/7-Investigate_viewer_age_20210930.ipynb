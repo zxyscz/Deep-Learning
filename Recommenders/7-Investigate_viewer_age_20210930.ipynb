{
 "cells": [
  {
   "cell_type": "markdown",
   "id": "6a7adfbf",
   "metadata": {},
   "source": [
    "### Setup envs"
   ]
  },
  {
   "cell_type": "code",
   "execution_count": 1,
   "id": "bc6e69ed",
   "metadata": {},
   "outputs": [],
   "source": [
    "import boto3\n",
    "from sagemaker import get_execution_role"
   ]
  },
  {
   "cell_type": "code",
   "execution_count": 2,
   "id": "6218c16a",
   "metadata": {},
   "outputs": [
    {
     "name": "stdout",
     "output_type": "stream",
     "text": [
      "Requirement already satisfied: tensorflow==2.5.0 in /home/ec2-user/anaconda3/envs/python3/lib/python3.6/site-packages (2.5.0)\n",
      "Requirement already satisfied: wrapt~=1.12.1 in /home/ec2-user/anaconda3/envs/python3/lib/python3.6/site-packages (from tensorflow==2.5.0) (1.12.1)\n",
      "Requirement already satisfied: opt-einsum~=3.3.0 in /home/ec2-user/anaconda3/envs/python3/lib/python3.6/site-packages (from tensorflow==2.5.0) (3.3.0)\n",
      "Requirement already satisfied: absl-py~=0.10 in /home/ec2-user/anaconda3/envs/python3/lib/python3.6/site-packages (from tensorflow==2.5.0) (0.14.0)\n",
      "Requirement already satisfied: protobuf>=3.9.2 in /home/ec2-user/anaconda3/envs/python3/lib/python3.6/site-packages (from tensorflow==2.5.0) (3.15.2)\n",
      "Requirement already satisfied: numpy~=1.19.2 in /home/ec2-user/anaconda3/envs/python3/lib/python3.6/site-packages (from tensorflow==2.5.0) (1.19.5)\n",
      "Requirement already satisfied: tensorflow-estimator<2.6.0,>=2.5.0rc0 in /home/ec2-user/anaconda3/envs/python3/lib/python3.6/site-packages (from tensorflow==2.5.0) (2.5.0)\n",
      "Requirement already satisfied: typing-extensions~=3.7.4 in /home/ec2-user/anaconda3/envs/python3/lib/python3.6/site-packages (from tensorflow==2.5.0) (3.7.4.3)\n",
      "Requirement already satisfied: grpcio~=1.34.0 in /home/ec2-user/anaconda3/envs/python3/lib/python3.6/site-packages (from tensorflow==2.5.0) (1.34.1)\n",
      "Requirement already satisfied: wheel~=0.35 in /home/ec2-user/anaconda3/envs/python3/lib/python3.6/site-packages (from tensorflow==2.5.0) (0.36.2)\n",
      "Requirement already satisfied: six~=1.15.0 in /home/ec2-user/anaconda3/envs/python3/lib/python3.6/site-packages (from tensorflow==2.5.0) (1.15.0)\n",
      "Requirement already satisfied: gast==0.4.0 in /home/ec2-user/anaconda3/envs/python3/lib/python3.6/site-packages (from tensorflow==2.5.0) (0.4.0)\n",
      "Requirement already satisfied: google-pasta~=0.2 in /home/ec2-user/anaconda3/envs/python3/lib/python3.6/site-packages (from tensorflow==2.5.0) (0.2.0)\n",
      "Requirement already satisfied: tensorboard~=2.5 in /home/ec2-user/anaconda3/envs/python3/lib/python3.6/site-packages (from tensorflow==2.5.0) (2.6.0)\n",
      "Requirement already satisfied: keras-preprocessing~=1.1.2 in /home/ec2-user/anaconda3/envs/python3/lib/python3.6/site-packages (from tensorflow==2.5.0) (1.1.2)\n",
      "Requirement already satisfied: flatbuffers~=1.12.0 in /home/ec2-user/anaconda3/envs/python3/lib/python3.6/site-packages (from tensorflow==2.5.0) (1.12)\n",
      "Requirement already satisfied: h5py~=3.1.0 in /home/ec2-user/anaconda3/envs/python3/lib/python3.6/site-packages (from tensorflow==2.5.0) (3.1.0)\n",
      "Requirement already satisfied: astunparse~=1.6.3 in /home/ec2-user/anaconda3/envs/python3/lib/python3.6/site-packages (from tensorflow==2.5.0) (1.6.3)\n",
      "Requirement already satisfied: termcolor~=1.1.0 in /home/ec2-user/anaconda3/envs/python3/lib/python3.6/site-packages (from tensorflow==2.5.0) (1.1.0)\n",
      "Requirement already satisfied: keras-nightly~=2.5.0.dev in /home/ec2-user/anaconda3/envs/python3/lib/python3.6/site-packages (from tensorflow==2.5.0) (2.5.0.dev2021032900)\n",
      "Requirement already satisfied: cached-property in /home/ec2-user/anaconda3/envs/python3/lib/python3.6/site-packages (from h5py~=3.1.0->tensorflow==2.5.0) (1.5.1)\n",
      "Requirement already satisfied: werkzeug>=0.11.15 in /home/ec2-user/anaconda3/envs/python3/lib/python3.6/site-packages (from tensorboard~=2.5->tensorflow==2.5.0) (1.0.1)\n",
      "Requirement already satisfied: setuptools>=41.0.0 in /home/ec2-user/anaconda3/envs/python3/lib/python3.6/site-packages (from tensorboard~=2.5->tensorflow==2.5.0) (49.6.0.post20210108)\n",
      "Requirement already satisfied: tensorboard-data-server<0.7.0,>=0.6.0 in /home/ec2-user/anaconda3/envs/python3/lib/python3.6/site-packages (from tensorboard~=2.5->tensorflow==2.5.0) (0.6.1)\n",
      "Requirement already satisfied: google-auth-oauthlib<0.5,>=0.4.1 in /home/ec2-user/anaconda3/envs/python3/lib/python3.6/site-packages (from tensorboard~=2.5->tensorflow==2.5.0) (0.4.6)\n",
      "Requirement already satisfied: tensorboard-plugin-wit>=1.6.0 in /home/ec2-user/anaconda3/envs/python3/lib/python3.6/site-packages (from tensorboard~=2.5->tensorflow==2.5.0) (1.8.0)\n",
      "Requirement already satisfied: requests<3,>=2.21.0 in /home/ec2-user/anaconda3/envs/python3/lib/python3.6/site-packages (from tensorboard~=2.5->tensorflow==2.5.0) (2.26.0)\n",
      "Requirement already satisfied: markdown>=2.6.8 in /home/ec2-user/anaconda3/envs/python3/lib/python3.6/site-packages (from tensorboard~=2.5->tensorflow==2.5.0) (3.3.4)\n",
      "Requirement already satisfied: google-auth<2,>=1.6.3 in /home/ec2-user/anaconda3/envs/python3/lib/python3.6/site-packages (from tensorboard~=2.5->tensorflow==2.5.0) (1.35.0)\n",
      "Requirement already satisfied: cachetools<5.0,>=2.0.0 in /home/ec2-user/anaconda3/envs/python3/lib/python3.6/site-packages (from google-auth<2,>=1.6.3->tensorboard~=2.5->tensorflow==2.5.0) (4.2.2)\n",
      "Requirement already satisfied: rsa<5,>=3.1.4 in /home/ec2-user/anaconda3/envs/python3/lib/python3.6/site-packages (from google-auth<2,>=1.6.3->tensorboard~=2.5->tensorflow==2.5.0) (4.7.2)\n",
      "Requirement already satisfied: pyasn1-modules>=0.2.1 in /home/ec2-user/anaconda3/envs/python3/lib/python3.6/site-packages (from google-auth<2,>=1.6.3->tensorboard~=2.5->tensorflow==2.5.0) (0.2.8)\n",
      "Requirement already satisfied: requests-oauthlib>=0.7.0 in /home/ec2-user/anaconda3/envs/python3/lib/python3.6/site-packages (from google-auth-oauthlib<0.5,>=0.4.1->tensorboard~=2.5->tensorflow==2.5.0) (1.3.0)\n",
      "Requirement already satisfied: importlib-metadata in /home/ec2-user/anaconda3/envs/python3/lib/python3.6/site-packages (from markdown>=2.6.8->tensorboard~=2.5->tensorflow==2.5.0) (3.7.0)\n",
      "Requirement already satisfied: pyasn1<0.5.0,>=0.4.6 in /home/ec2-user/anaconda3/envs/python3/lib/python3.6/site-packages (from pyasn1-modules>=0.2.1->google-auth<2,>=1.6.3->tensorboard~=2.5->tensorflow==2.5.0) (0.4.8)\n",
      "Requirement already satisfied: idna<4,>=2.5 in /home/ec2-user/anaconda3/envs/python3/lib/python3.6/site-packages (from requests<3,>=2.21.0->tensorboard~=2.5->tensorflow==2.5.0) (3.1)\n",
      "Requirement already satisfied: urllib3<1.27,>=1.21.1 in /home/ec2-user/anaconda3/envs/python3/lib/python3.6/site-packages (from requests<3,>=2.21.0->tensorboard~=2.5->tensorflow==2.5.0) (1.26.6)\n",
      "Requirement already satisfied: certifi>=2017.4.17 in /home/ec2-user/anaconda3/envs/python3/lib/python3.6/site-packages (from requests<3,>=2.21.0->tensorboard~=2.5->tensorflow==2.5.0) (2021.5.30)\n",
      "Requirement already satisfied: charset-normalizer~=2.0.0 in /home/ec2-user/anaconda3/envs/python3/lib/python3.6/site-packages (from requests<3,>=2.21.0->tensorboard~=2.5->tensorflow==2.5.0) (2.0.6)\n",
      "Requirement already satisfied: oauthlib>=3.0.0 in /home/ec2-user/anaconda3/envs/python3/lib/python3.6/site-packages (from requests-oauthlib>=0.7.0->google-auth-oauthlib<0.5,>=0.4.1->tensorboard~=2.5->tensorflow==2.5.0) (3.1.1)\n",
      "Requirement already satisfied: zipp>=0.5 in /home/ec2-user/anaconda3/envs/python3/lib/python3.6/site-packages (from importlib-metadata->markdown>=2.6.8->tensorboard~=2.5->tensorflow==2.5.0) (3.4.0)\n"
     ]
    }
   ],
   "source": [
    "!pip install tensorflow==2.5.0"
   ]
  },
  {
   "cell_type": "code",
   "execution_count": 3,
   "id": "c968f35a",
   "metadata": {},
   "outputs": [
    {
     "name": "stdout",
     "output_type": "stream",
     "text": [
      "Requirement already satisfied: tensorflow-recommenders==0.5.2 in /home/ec2-user/anaconda3/envs/python3/lib/python3.6/site-packages (0.5.2)\n",
      "Requirement already satisfied: tensorflow>=2.3.0 in /home/ec2-user/anaconda3/envs/python3/lib/python3.6/site-packages (from tensorflow-recommenders==0.5.2) (2.5.0)\n",
      "Requirement already satisfied: absl-py>=0.1.6 in /home/ec2-user/anaconda3/envs/python3/lib/python3.6/site-packages (from tensorflow-recommenders==0.5.2) (0.14.0)\n",
      "Requirement already satisfied: six in /home/ec2-user/anaconda3/envs/python3/lib/python3.6/site-packages (from absl-py>=0.1.6->tensorflow-recommenders==0.5.2) (1.15.0)\n",
      "Requirement already satisfied: wrapt~=1.12.1 in /home/ec2-user/anaconda3/envs/python3/lib/python3.6/site-packages (from tensorflow>=2.3.0->tensorflow-recommenders==0.5.2) (1.12.1)\n",
      "Requirement already satisfied: google-pasta~=0.2 in /home/ec2-user/anaconda3/envs/python3/lib/python3.6/site-packages (from tensorflow>=2.3.0->tensorflow-recommenders==0.5.2) (0.2.0)\n",
      "Requirement already satisfied: keras-preprocessing~=1.1.2 in /home/ec2-user/anaconda3/envs/python3/lib/python3.6/site-packages (from tensorflow>=2.3.0->tensorflow-recommenders==0.5.2) (1.1.2)\n",
      "Requirement already satisfied: tensorboard~=2.5 in /home/ec2-user/anaconda3/envs/python3/lib/python3.6/site-packages (from tensorflow>=2.3.0->tensorflow-recommenders==0.5.2) (2.6.0)\n",
      "Requirement already satisfied: typing-extensions~=3.7.4 in /home/ec2-user/anaconda3/envs/python3/lib/python3.6/site-packages (from tensorflow>=2.3.0->tensorflow-recommenders==0.5.2) (3.7.4.3)\n",
      "Requirement already satisfied: h5py~=3.1.0 in /home/ec2-user/anaconda3/envs/python3/lib/python3.6/site-packages (from tensorflow>=2.3.0->tensorflow-recommenders==0.5.2) (3.1.0)\n",
      "Requirement already satisfied: opt-einsum~=3.3.0 in /home/ec2-user/anaconda3/envs/python3/lib/python3.6/site-packages (from tensorflow>=2.3.0->tensorflow-recommenders==0.5.2) (3.3.0)\n",
      "Requirement already satisfied: wheel~=0.35 in /home/ec2-user/anaconda3/envs/python3/lib/python3.6/site-packages (from tensorflow>=2.3.0->tensorflow-recommenders==0.5.2) (0.36.2)\n",
      "Requirement already satisfied: tensorflow-estimator<2.6.0,>=2.5.0rc0 in /home/ec2-user/anaconda3/envs/python3/lib/python3.6/site-packages (from tensorflow>=2.3.0->tensorflow-recommenders==0.5.2) (2.5.0)\n",
      "Requirement already satisfied: keras-nightly~=2.5.0.dev in /home/ec2-user/anaconda3/envs/python3/lib/python3.6/site-packages (from tensorflow>=2.3.0->tensorflow-recommenders==0.5.2) (2.5.0.dev2021032900)\n",
      "Requirement already satisfied: gast==0.4.0 in /home/ec2-user/anaconda3/envs/python3/lib/python3.6/site-packages (from tensorflow>=2.3.0->tensorflow-recommenders==0.5.2) (0.4.0)\n",
      "Requirement already satisfied: protobuf>=3.9.2 in /home/ec2-user/anaconda3/envs/python3/lib/python3.6/site-packages (from tensorflow>=2.3.0->tensorflow-recommenders==0.5.2) (3.15.2)\n",
      "Requirement already satisfied: flatbuffers~=1.12.0 in /home/ec2-user/anaconda3/envs/python3/lib/python3.6/site-packages (from tensorflow>=2.3.0->tensorflow-recommenders==0.5.2) (1.12)\n",
      "Requirement already satisfied: numpy~=1.19.2 in /home/ec2-user/anaconda3/envs/python3/lib/python3.6/site-packages (from tensorflow>=2.3.0->tensorflow-recommenders==0.5.2) (1.19.5)\n",
      "Requirement already satisfied: termcolor~=1.1.0 in /home/ec2-user/anaconda3/envs/python3/lib/python3.6/site-packages (from tensorflow>=2.3.0->tensorflow-recommenders==0.5.2) (1.1.0)\n",
      "Requirement already satisfied: astunparse~=1.6.3 in /home/ec2-user/anaconda3/envs/python3/lib/python3.6/site-packages (from tensorflow>=2.3.0->tensorflow-recommenders==0.5.2) (1.6.3)\n",
      "Requirement already satisfied: grpcio~=1.34.0 in /home/ec2-user/anaconda3/envs/python3/lib/python3.6/site-packages (from tensorflow>=2.3.0->tensorflow-recommenders==0.5.2) (1.34.1)\n",
      "Requirement already satisfied: cached-property in /home/ec2-user/anaconda3/envs/python3/lib/python3.6/site-packages (from h5py~=3.1.0->tensorflow>=2.3.0->tensorflow-recommenders==0.5.2) (1.5.1)\n",
      "Requirement already satisfied: google-auth-oauthlib<0.5,>=0.4.1 in /home/ec2-user/anaconda3/envs/python3/lib/python3.6/site-packages (from tensorboard~=2.5->tensorflow>=2.3.0->tensorflow-recommenders==0.5.2) (0.4.6)\n",
      "Requirement already satisfied: tensorboard-data-server<0.7.0,>=0.6.0 in /home/ec2-user/anaconda3/envs/python3/lib/python3.6/site-packages (from tensorboard~=2.5->tensorflow>=2.3.0->tensorflow-recommenders==0.5.2) (0.6.1)\n",
      "Requirement already satisfied: requests<3,>=2.21.0 in /home/ec2-user/anaconda3/envs/python3/lib/python3.6/site-packages (from tensorboard~=2.5->tensorflow>=2.3.0->tensorflow-recommenders==0.5.2) (2.26.0)\n",
      "Requirement already satisfied: setuptools>=41.0.0 in /home/ec2-user/anaconda3/envs/python3/lib/python3.6/site-packages (from tensorboard~=2.5->tensorflow>=2.3.0->tensorflow-recommenders==0.5.2) (49.6.0.post20210108)\n",
      "Requirement already satisfied: tensorboard-plugin-wit>=1.6.0 in /home/ec2-user/anaconda3/envs/python3/lib/python3.6/site-packages (from tensorboard~=2.5->tensorflow>=2.3.0->tensorflow-recommenders==0.5.2) (1.8.0)\n",
      "Requirement already satisfied: werkzeug>=0.11.15 in /home/ec2-user/anaconda3/envs/python3/lib/python3.6/site-packages (from tensorboard~=2.5->tensorflow>=2.3.0->tensorflow-recommenders==0.5.2) (1.0.1)\n",
      "Requirement already satisfied: google-auth<2,>=1.6.3 in /home/ec2-user/anaconda3/envs/python3/lib/python3.6/site-packages (from tensorboard~=2.5->tensorflow>=2.3.0->tensorflow-recommenders==0.5.2) (1.35.0)\n",
      "Requirement already satisfied: markdown>=2.6.8 in /home/ec2-user/anaconda3/envs/python3/lib/python3.6/site-packages (from tensorboard~=2.5->tensorflow>=2.3.0->tensorflow-recommenders==0.5.2) (3.3.4)\n",
      "Requirement already satisfied: pyasn1-modules>=0.2.1 in /home/ec2-user/anaconda3/envs/python3/lib/python3.6/site-packages (from google-auth<2,>=1.6.3->tensorboard~=2.5->tensorflow>=2.3.0->tensorflow-recommenders==0.5.2) (0.2.8)\n",
      "Requirement already satisfied: rsa<5,>=3.1.4 in /home/ec2-user/anaconda3/envs/python3/lib/python3.6/site-packages (from google-auth<2,>=1.6.3->tensorboard~=2.5->tensorflow>=2.3.0->tensorflow-recommenders==0.5.2) (4.7.2)\n",
      "Requirement already satisfied: cachetools<5.0,>=2.0.0 in /home/ec2-user/anaconda3/envs/python3/lib/python3.6/site-packages (from google-auth<2,>=1.6.3->tensorboard~=2.5->tensorflow>=2.3.0->tensorflow-recommenders==0.5.2) (4.2.2)\n",
      "Requirement already satisfied: requests-oauthlib>=0.7.0 in /home/ec2-user/anaconda3/envs/python3/lib/python3.6/site-packages (from google-auth-oauthlib<0.5,>=0.4.1->tensorboard~=2.5->tensorflow>=2.3.0->tensorflow-recommenders==0.5.2) (1.3.0)\n",
      "Requirement already satisfied: importlib-metadata in /home/ec2-user/anaconda3/envs/python3/lib/python3.6/site-packages (from markdown>=2.6.8->tensorboard~=2.5->tensorflow>=2.3.0->tensorflow-recommenders==0.5.2) (3.7.0)\n",
      "Requirement already satisfied: pyasn1<0.5.0,>=0.4.6 in /home/ec2-user/anaconda3/envs/python3/lib/python3.6/site-packages (from pyasn1-modules>=0.2.1->google-auth<2,>=1.6.3->tensorboard~=2.5->tensorflow>=2.3.0->tensorflow-recommenders==0.5.2) (0.4.8)\n",
      "Requirement already satisfied: certifi>=2017.4.17 in /home/ec2-user/anaconda3/envs/python3/lib/python3.6/site-packages (from requests<3,>=2.21.0->tensorboard~=2.5->tensorflow>=2.3.0->tensorflow-recommenders==0.5.2) (2021.5.30)\n",
      "Requirement already satisfied: charset-normalizer~=2.0.0 in /home/ec2-user/anaconda3/envs/python3/lib/python3.6/site-packages (from requests<3,>=2.21.0->tensorboard~=2.5->tensorflow>=2.3.0->tensorflow-recommenders==0.5.2) (2.0.6)\n",
      "Requirement already satisfied: idna<4,>=2.5 in /home/ec2-user/anaconda3/envs/python3/lib/python3.6/site-packages (from requests<3,>=2.21.0->tensorboard~=2.5->tensorflow>=2.3.0->tensorflow-recommenders==0.5.2) (3.1)\n",
      "Requirement already satisfied: urllib3<1.27,>=1.21.1 in /home/ec2-user/anaconda3/envs/python3/lib/python3.6/site-packages (from requests<3,>=2.21.0->tensorboard~=2.5->tensorflow>=2.3.0->tensorflow-recommenders==0.5.2) (1.26.6)\n",
      "Requirement already satisfied: oauthlib>=3.0.0 in /home/ec2-user/anaconda3/envs/python3/lib/python3.6/site-packages (from requests-oauthlib>=0.7.0->google-auth-oauthlib<0.5,>=0.4.1->tensorboard~=2.5->tensorflow>=2.3.0->tensorflow-recommenders==0.5.2) (3.1.1)\n",
      "Requirement already satisfied: zipp>=0.5 in /home/ec2-user/anaconda3/envs/python3/lib/python3.6/site-packages (from importlib-metadata->markdown>=2.6.8->tensorboard~=2.5->tensorflow>=2.3.0->tensorflow-recommenders==0.5.2) (3.4.0)\n"
     ]
    }
   ],
   "source": [
    "!pip install tensorflow-recommenders==0.5.2"
   ]
  },
  {
   "cell_type": "code",
   "execution_count": 4,
   "id": "df2811d7",
   "metadata": {},
   "outputs": [],
   "source": [
    "role = get_execution_role()\n",
    "bucket = \"ling-cold-start-data\"\n",
    "prefix = \"2021-09-23\"\n",
    "data_key = \"2021-09-23.csv\"\n",
    "data_location = \"s3://{}/{}/{}\".format(bucket, prefix, data_key)"
   ]
  },
  {
   "cell_type": "code",
   "execution_count": 5,
   "id": "935c888e",
   "metadata": {},
   "outputs": [],
   "source": [
    "import os\n",
    "import tempfile\n",
    "from typing import Dict, Text\n",
    "import pprint "
   ]
  },
  {
   "cell_type": "code",
   "execution_count": 6,
   "id": "76eab33e",
   "metadata": {},
   "outputs": [],
   "source": [
    "import numpy as np\n",
    "import pandas as pd\n",
    "import tensorflow as tf\n",
    "import tensorflow_recommenders as tfrs"
   ]
  },
  {
   "cell_type": "markdown",
   "id": "c7a1dc45",
   "metadata": {},
   "source": [
    "### Model definition"
   ]
  },
  {
   "cell_type": "code",
   "execution_count": 7,
   "id": "30d552d9",
   "metadata": {},
   "outputs": [],
   "source": [
    "class UserModel(tf.keras.Model):\n",
    "\n",
    "    def __init__(self, unique_genders, unique_langs, unique_countries, unique_networks, viewer_age):\n",
    "        super().__init__()\n",
    "\n",
    "        self.gender_embedding = tf.keras.Sequential([\n",
    "            tf.keras.layers.experimental.preprocessing.StringLookup(\n",
    "                vocabulary=unique_genders, mask_token=None),\n",
    "            tf.keras.layers.Embedding(len(unique_genders) + 1, 4),\n",
    "        ])\n",
    "        \n",
    "        self.lang_embedding = tf.keras.Sequential([\n",
    "            tf.keras.layers.experimental.preprocessing.StringLookup(\n",
    "                vocabulary=unique_langs, mask_token=None),\n",
    "            tf.keras.layers.Embedding(len(unique_langs) + 1, 11),\n",
    "        ])\n",
    "        \n",
    "        self.country_embedding = tf.keras.Sequential([\n",
    "            tf.keras.layers.experimental.preprocessing.StringLookup(\n",
    "                vocabulary=unique_countries, mask_token=None),\n",
    "            tf.keras.layers.Embedding(len(unique_countries) + 1, 11),\n",
    "        ])\n",
    "        \n",
    "        self.network_embedding = tf.keras.Sequential([\n",
    "            tf.keras.layers.experimental.preprocessing.StringLookup(\n",
    "                vocabulary=unique_networks, mask_token=None),\n",
    "            tf.keras.layers.Embedding(len(unique_networks) + 1, 4),\n",
    "        ])\n",
    "        \n",
    "#         self.normalized_age = tf.keras.layers.experimental.preprocessing.Normalization(axis = None)\n",
    "#         self.normalized_age.adapt(viewer_age)\n",
    "        self.viewer_age_embedding = tf.keras.Sequential([\n",
    "            tf.keras.layers.experimental.preprocessing.Discretization(age_boundaries.tolist()),\n",
    "            tf.keras.layers.Embedding(len(age_boundaries), 2)\n",
    "        ])   \n",
    "\n",
    "    def call(self, inputs):\n",
    "        return tf.concat([\n",
    "            self.gender_embedding(inputs[\"viewer_gender\"]),\n",
    "            self.lang_embedding(inputs[\"viewer_lang\"]),\n",
    "            self.country_embedding(inputs[\"viewer_country\"]),\n",
    "            self.network_embedding(inputs[\"viewer_network\"]),\n",
    "            self.viewer_age_embedding(inputs[\"viewer_age\"])\n",
    "        ], axis=1)"
   ]
  },
  {
   "cell_type": "code",
   "execution_count": 8,
   "id": "de6e9f76",
   "metadata": {},
   "outputs": [],
   "source": [
    "class BroadcasterModel(tf.keras.Model):\n",
    "\n",
    "    def __init__(self, unique_movie_titles, dims):\n",
    "        super().__init__()\n",
    "\n",
    "        self.broadcaster_embedding = tf.keras.Sequential([\n",
    "            tf.keras.layers.experimental.preprocessing.StringLookup(\n",
    "                vocabulary=unique_movie_titles, mask_token=None),\n",
    "            tf.keras.layers.Embedding(len(unique_movie_titles) + 1, dims)\n",
    "        ])\n",
    "\n",
    "    def call(self, broadcaster):\n",
    "        return tf.concat([\n",
    "            self.broadcaster_embedding(broadcaster),\n",
    "        ], axis=1)"
   ]
  },
  {
   "cell_type": "markdown",
   "id": "d15077b1",
   "metadata": {},
   "source": [
    "### Load data"
   ]
  },
  {
   "cell_type": "code",
   "execution_count": 9,
   "id": "7159b25e",
   "metadata": {},
   "outputs": [],
   "source": [
    "def load_data_file_cold(file, stats):\n",
    "    print('loading file:' + file)\n",
    "    training_df = pd.read_csv(\n",
    "        file,\n",
    "        skiprows=[0],\n",
    "        names=[\"viewer\",\"broadcaster\",\"viewer_age\",\"viewer_gender\",\"viewer_longitude\",\"viewer_latitude\",\"viewer_lang\",\"viewer_country\",\"broadcaster_age\",\"broadcaster_gender\",\"broadcaster_longitude\",\"broadcaster_latitude\",\"broadcaster_lang\",\"broadcaster_country\",\"duration\", \"viewer_network\", \"broadcaster_network\", \"count\"], dtype={\n",
    "            'viewer': np.unicode,\n",
    "            'broadcaster': np.unicode,\n",
    "            'viewer_age': np.single,\n",
    "            'viewer_gender': np.unicode,\n",
    "            'viewer_longitude': np.single,\n",
    "            'viewer_latitude': np.single,\n",
    "            'viewer_lang': np.unicode,\n",
    "            'viewer_country': np.unicode,\n",
    "            'broadcaster_age': np.single,\n",
    "            'broadcaster_longitude': np.single,\n",
    "            'broadcaster_latitude': np.single,\n",
    "            'broadcaster_lang': np.unicode,\n",
    "            'broadcaster_country': np.unicode,\n",
    "            'viewer_network': np.unicode,\n",
    "            'broadcaster_network': np.unicode,\n",
    "            'count': np.unicode\n",
    "        })\n",
    "\n",
    "    values = {\n",
    "        'viewer': 'unknown',\n",
    "        'broadcaster': 'unknown',\n",
    "        'viewer_age': 30,\n",
    "        'viewer_gender': 'unknown',\n",
    "        'viewer_longitude': 0,\n",
    "        'viewer_latitude': 0,\n",
    "        'viewer_lang': 'unknown',\n",
    "        'viewer_country': 'unknown',\n",
    "        'broadcaster_age': 30,\n",
    "        'broadcaster_longitude': 0,\n",
    "        'broadcaster_latitude': 0,\n",
    "        'broadcaster_lang': 'unknown',\n",
    "        'broadcaster_country': 'unknown',\n",
    "        'duration': 0,\n",
    "        'viewer_network': 'unknown',\n",
    "        'broadcaster_network': 'unknown',\n",
    "        'count': 0\n",
    "    }\n",
    "    training_df.fillna(value=values, inplace=True)\n",
    "    print(training_df.head(10))\n",
    "    print(training_df.iloc[-10:])\n",
    "#     stats.send_stats('data-size', len(training_df.index))\n",
    "#     sampled_df = training_df.sample(frac=0.01)\n",
    "    return training_df\n",
    "\n",
    "\n",
    "def load_training_data_cold(file, stats):\n",
    "    ratings_df = load_data_file_cold(file, stats)\n",
    "    print('creating data set')\n",
    "    training_ds = (\n",
    "        tf.data.Dataset.from_tensor_slices(\n",
    "            ({\n",
    "                \"viewer\": tf.cast(\n",
    "                    ratings_df['viewer'].values,\n",
    "                    tf.string),\n",
    "                \"viewer_gender\": tf.cast(\n",
    "                    ratings_df['viewer_gender'].values,\n",
    "                    tf.string),\n",
    "                \"viewer_lang\": tf.cast(\n",
    "                    ratings_df['viewer_lang'].values,\n",
    "                    tf.string),\n",
    "                \"viewer_country\": tf.cast(\n",
    "                    ratings_df['viewer_country'].values,\n",
    "                    tf.string),\n",
    "                \"viewer_age\": tf.cast(\n",
    "                    ratings_df['viewer_age'].values,\n",
    "                    tf.int16),\n",
    "                \"viewer_longitude\": tf.cast(\n",
    "                    ratings_df['viewer_longitude'].values,\n",
    "                    tf.float16),\n",
    "                \"viewer_latitude\": tf.cast(\n",
    "                    ratings_df['viewer_latitude'].values,\n",
    "                    tf.float16),\n",
    "                \"broadcaster\": tf.cast(\n",
    "                    ratings_df['broadcaster'].values,\n",
    "                    tf.string),\n",
    "                \"viewer_network\": tf.cast(\n",
    "                    ratings_df['viewer_network'].values,\n",
    "                    tf.string),\n",
    "                \"broadcaster_network\": tf.cast(\n",
    "                    ratings_df['broadcaster_network'].values,\n",
    "                    tf.string),\n",
    "            })))\n",
    "\n",
    "    return training_ds"
   ]
  },
  {
   "cell_type": "code",
   "execution_count": 10,
   "id": "c1c3e491",
   "metadata": {},
   "outputs": [],
   "source": [
    "def prepare_training_data_cold(train_ds):\n",
    "    print('prepare_training_data')\n",
    "    training_ds = train_ds.cache().map(lambda x: {\n",
    "        \"broadcaster\": x[\"broadcaster\"],\n",
    "        \"viewer\": x[\"viewer\"],\n",
    "        \"viewer_gender\": x[\"viewer_gender\"],\n",
    "        \"viewer_lang\": x[\"viewer_lang\"],\n",
    "        \"viewer_country\": x[\"viewer_country\"],\n",
    "        \"viewer_age\": x[\"viewer_age\"],\n",
    "        \"viewer_longitude\": x[\"viewer_longitude\"],\n",
    "        \"viewer_latitude\": x[\"viewer_latitude\"],\n",
    "        \"viewer_network\": x[\"viewer_network\"],\n",
    "        \"broadcaster_network\": x[\"broadcaster_network\"],\n",
    "    }, num_parallel_calls=tf.data.AUTOTUNE,\n",
    "       deterministic=False)\n",
    "\n",
    "    print('done prepare_training_data')\n",
    "    return training_ds\n",
    "\n",
    "def get_broadcaster_data_set(train_ds):\n",
    "    broadcasters = train_ds.cache().map(lambda x: x[\"broadcaster\"], num_parallel_calls=tf.data.AUTOTUNE, deterministic=False)\n",
    "    broadcasters_ds = tf.data.Dataset.from_tensor_slices(\n",
    "        np.unique(list(broadcasters.as_numpy_iterator())))\n",
    "    return broadcasters_ds\n",
    "\n",
    "def get_list(training_data, key):\n",
    "    return training_data.batch(1_000_000).map(lambda x: x[key], num_parallel_calls=tf.data.AUTOTUNE, deterministic=False)\n",
    "\n",
    "def get_unique_list(data):\n",
    "    return np.unique(np.concatenate(list(data)))"
   ]
  },
  {
   "cell_type": "code",
   "execution_count": 11,
   "id": "dcb2f0c8",
   "metadata": {},
   "outputs": [
    {
     "name": "stdout",
     "output_type": "stream",
     "text": [
      "loading file:s3://ling-cold-start-data/2021-09-23/2021-09-23.csv\n",
      "                                            viewer  \\\n",
      "0  21 fe c6 e0 f1 ec e6 02 19 65 7b 2f 1a 90 56 14   \n",
      "1  6e 38 e1 5e c5 60 52 e5 81 56 3a 0c 39 39 d2 b7   \n",
      "2  fd 95 7b f8 44 0f 43 4b ad 7d 07 23 42 81 3a 77   \n",
      "3  79 4b 04 dd 6b b0 f2 17 b2 f6 c7 91 71 2a 45 d6   \n",
      "4  6e 8c ac 89 fe b3 49 52 56 9b c8 41 ac 2b d9 a8   \n",
      "5  ac b9 ba a2 2f 75 0a 12 8d e6 81 a7 0f 39 51 e2   \n",
      "6  2e 05 82 e5 5a 84 da 98 7a 43 80 ec 76 e7 98 e5   \n",
      "7  e4 14 b9 ca cd 3e bf c0 81 8c 29 f1 4a 1f 62 23   \n",
      "8  85 19 a7 10 3c de d3 ab e3 dd f6 c3 bf bf 75 3a   \n",
      "9  21 60 c6 18 de 29 37 21 72 00 3e 47 73 fc 79 aa   \n",
      "\n",
      "                                       broadcaster  viewer_age viewer_gender  \\\n",
      "0  0f ff ee a8 b0 e3 0d 77 d7 6c 2a 5a 20 58 76 f0        31.0          male   \n",
      "1  4b 97 ab 5a a3 09 1b 77 29 da 35 a7 a7 85 72 2f        25.0          male   \n",
      "2  70 c9 b7 df f0 ae a9 fa 1b fe 91 eb 1a 93 40 b0        34.0        female   \n",
      "3  ef 43 75 71 4b 1a 20 05 f3 39 1d 74 c6 11 51 b3        23.0          male   \n",
      "4  bb ce c9 fc da e0 8f 56 51 21 51 50 4f 45 80 0a        25.0          male   \n",
      "5  e7 c8 ac 1c 7a ff 25 6c 32 43 6b 10 04 72 f1 3d        30.0          male   \n",
      "6  77 34 9d 95 43 77 c4 bb 7c 0a 14 16 7a 0c 7e d3        46.0        female   \n",
      "7  b3 51 02 96 cf e4 7e 38 cb 5f 3b c3 dc 67 0a a6        26.0          male   \n",
      "8  9c 6a 4c 66 4a 4c 17 de 96 79 d6 83 cf 92 dd bf        19.0          male   \n",
      "9  10 da 1b 53 c6 f4 5a 49 89 08 6d a0 90 26 ac 49        30.0        female   \n",
      "\n",
      "   viewer_longitude  viewer_latitude viewer_lang viewer_country  \\\n",
      "0          3.168900        42.387699          es             ES   \n",
      "1       -117.153000        34.939999          en             US   \n",
      "2        -89.300003        44.000000          en             US   \n",
      "3        -45.209202       -19.333200          pt             BR   \n",
      "4       -120.747200        37.927399          en             US   \n",
      "5        -74.599998        40.700001          en             US   \n",
      "6        101.496002        13.677000          th             TH   \n",
      "7        -77.663803        43.803699          es             US   \n",
      "8       -117.261299        34.784100          en             US   \n",
      "9       -122.170998        45.066002          en             US   \n",
      "\n",
      "   broadcaster_age broadcaster_gender  broadcaster_longitude  \\\n",
      "0             27.0             female             -83.321701   \n",
      "1             26.0             female            -117.187202   \n",
      "2             34.0               male             -74.066200   \n",
      "3             45.0               male             -45.765999   \n",
      "4             28.0             female            -122.389000   \n",
      "5             31.0               male            -118.708099   \n",
      "6             32.0               male             101.462997   \n",
      "7             30.0             female            -120.654404   \n",
      "8             36.0               male            -118.099998   \n",
      "9             26.0             female             -93.633400   \n",
      "\n",
      "   broadcaster_latitude broadcaster_lang broadcaster_country  duration  \\\n",
      "0             34.826698               en                  US       985   \n",
      "1             33.641201               en                  US        65   \n",
      "2             41.037201               en                  US      3576   \n",
      "3            -22.322001               pt                  BR        55   \n",
      "4             38.712002               en                  US       114   \n",
      "5             35.271702               en                  US       802   \n",
      "6             14.707000               th                  TH       895   \n",
      "7             36.677799               es                  US       101   \n",
      "8             34.799999               en                  US       131   \n",
      "9             38.901798               en                  US       115   \n",
      "\n",
      "  viewer_network broadcaster_network  count  \n",
      "0         meetme              meetme      0  \n",
      "1          skout              meetme      0  \n",
      "2            pof              meetme      0  \n",
      "3         meetme               skout      0  \n",
      "4         meetme               skout      0  \n",
      "5            pof              meetme      0  \n",
      "6          skout               skout      0  \n",
      "7         meetme              meetme      0  \n",
      "8         meetme                 pof      0  \n",
      "9          skout              meetme      0  \n",
      "                                                  viewer  \\\n",
      "5326576  0f 8c 36 35 fa 43 ac ef 3a 84 10 87 20 eb 77 6a   \n",
      "5326577  fd 8e 37 1b a0 53 3d b8 32 75 49 d5 c1 07 22 dd   \n",
      "5326578  97 0c 79 9e c5 c1 b6 b4 29 3a 7b 64 b9 ef b1 2d   \n",
      "5326579  2c 33 38 e0 59 c0 ef 3a ac 9c 7b 91 90 f1 03 4c   \n",
      "5326580  48 0a 09 13 4d 87 71 6d 65 cf 6d 3f ca 7b f2 9f   \n",
      "5326581  fa 71 22 20 01 89 40 b0 e5 e7 71 01 8d a9 4c b5   \n",
      "5326582  55 1a fd ff ea 72 91 a3 3f 52 a0 c4 b9 4d 9f ca   \n",
      "5326583  02 e1 19 0b 48 63 c6 b8 09 13 de 46 99 01 ca 72   \n",
      "5326584  9a 47 df f7 51 89 51 9c d1 1f 8d 48 0b 79 c1 ff   \n",
      "5326585  54 f4 95 e1 07 a7 83 a5 61 63 9d 74 56 c4 ed c6   \n",
      "\n",
      "                                             broadcaster  viewer_age  \\\n",
      "5326576  b0 0e bc b5 22 3b 27 17 c9 50 0a df a3 71 c1 fe        33.0   \n",
      "5326577  01 ec 58 f1 9d 38 cf ad fa 04 08 09 87 9d 70 02        45.0   \n",
      "5326578  76 fb 13 92 0b 9e 26 a0 b9 ce 8a 2c 94 0d 73 fa        30.0   \n",
      "5326579  ca 55 c9 cb e6 09 26 ef 78 f3 26 1a 77 27 66 6e        42.0   \n",
      "5326580  56 f2 07 9c 2e 88 d3 af 1c 7a 1b 30 a4 96 85 62        39.0   \n",
      "5326581  e1 17 1d 63 dd 24 51 90 44 94 62 71 b2 4c 52 d7        26.0   \n",
      "5326582  02 79 01 5c 21 6f 60 a5 0d af e1 fd 0c ce f6 79        37.0   \n",
      "5326583  48 3b e6 c8 f0 fa 66 51 73 dc b1 24 ad 48 2d 63        30.0   \n",
      "5326584  04 c5 05 90 3b 46 8c 0d 70 56 45 a6 b5 b8 aa 43        41.0   \n",
      "5326585  b8 e6 8c e7 b2 b9 50 d4 4d 6c 1e c0 26 c2 f5 75        25.0   \n",
      "\n",
      "        viewer_gender  viewer_longitude  viewer_latitude viewer_lang  \\\n",
      "5326576          male        -74.000000        41.700001          en   \n",
      "5326577        female        -74.405998        41.862999          en   \n",
      "5326578          male       -117.139999        33.911999          en   \n",
      "5326579          male        114.154999        22.302000          zh   \n",
      "5326580        female        -83.400002        33.700001          en   \n",
      "5326581          male        -80.621002        40.662998          en   \n",
      "5326582          male          0.700000        52.299999          en   \n",
      "5326583          male          0.877200        52.520401          en   \n",
      "5326584          male        -94.400002        42.000000          en   \n",
      "5326585        female        -82.335999        32.596500          en   \n",
      "\n",
      "        viewer_country  broadcaster_age broadcaster_gender  \\\n",
      "5326576             US             22.0             female   \n",
      "5326577             US             26.0             female   \n",
      "5326578             US             20.0             female   \n",
      "5326579             HK             30.0             female   \n",
      "5326580             US             38.0               male   \n",
      "5326581             US             30.0             female   \n",
      "5326582             US             18.0             female   \n",
      "5326583             US             33.0             female   \n",
      "5326584             US             31.0               male   \n",
      "5326585             US             24.0             female   \n",
      "\n",
      "         broadcaster_longitude  broadcaster_latitude broadcaster_lang  \\\n",
      "5326576             -73.994499             41.752102               en   \n",
      "5326577             -73.034897             41.746201               en   \n",
      "5326578            -118.209999             34.977699               en   \n",
      "5326579             114.160004             23.329000               en   \n",
      "5326580             -94.363403             29.763399               en   \n",
      "5326581             -80.707001             41.500000               en   \n",
      "5326582               0.690400             52.309399               en   \n",
      "5326583             -73.996696             40.750000               en   \n",
      "5326584             -79.425301             43.676601               en   \n",
      "5326585             -86.625397             42.878201               en   \n",
      "\n",
      "        broadcaster_country  duration viewer_network broadcaster_network  \\\n",
      "5326576                  US       233            pof              meetme   \n",
      "5326577                  US        95          skout              meetme   \n",
      "5326578                  US       122          skout              meetme   \n",
      "5326579                  HK       100          skout               skout   \n",
      "5326580                  US        70            pof              meetme   \n",
      "5326581                  US       129          skout               skout   \n",
      "5326582                  GB       191            pof              meetme   \n",
      "5326583                  US       162         meetme              meetme   \n",
      "5326584                  CA        64            pof              meetme   \n",
      "5326585                  US        72         meetme              meetme   \n",
      "\n",
      "         count  \n",
      "5326576      0  \n",
      "5326577      0  \n",
      "5326578      0  \n",
      "5326579      0  \n",
      "5326580      0  \n",
      "5326581      0  \n",
      "5326582      0  \n",
      "5326583      0  \n",
      "5326584      0  \n",
      "5326585      0  \n",
      "creating data set\n"
     ]
    }
   ],
   "source": [
    "training_dataset = load_training_data_cold(file=data_location, stats=\"\")"
   ]
  },
  {
   "cell_type": "code",
   "execution_count": 12,
   "id": "1b609cd2",
   "metadata": {},
   "outputs": [
    {
     "name": "stdout",
     "output_type": "stream",
     "text": [
      "prepare_training_data\n",
      "done prepare_training_data\n"
     ]
    }
   ],
   "source": [
    "train = prepare_training_data_cold(training_dataset)"
   ]
  },
  {
   "cell_type": "code",
   "execution_count": 13,
   "id": "328363ab",
   "metadata": {},
   "outputs": [],
   "source": [
    "broadcasters_data_set = get_broadcaster_data_set(training_dataset)"
   ]
  },
  {
   "cell_type": "markdown",
   "id": "f30f5b30",
   "metadata": {},
   "source": [
    "### Prepare features"
   ]
  },
  {
   "cell_type": "code",
   "execution_count": 14,
   "id": "13e3eec4",
   "metadata": {},
   "outputs": [],
   "source": [
    "def get_list(training_data, key):\n",
    "    return training_data.batch(1_000_000).map(lambda x: x[key], num_parallel_calls=tf.data.AUTOTUNE, deterministic=False)\n",
    "\n",
    "\n",
    "def get_unique_list(data):\n",
    "    return np.unique(np.concatenate(list(data)))"
   ]
  },
  {
   "cell_type": "code",
   "execution_count": 15,
   "id": "1da7d92f",
   "metadata": {},
   "outputs": [],
   "source": [
    "user_genders = get_list(train, 'viewer_gender')"
   ]
  },
  {
   "cell_type": "code",
   "execution_count": 16,
   "id": "98c9affe",
   "metadata": {},
   "outputs": [],
   "source": [
    "user_langs = get_list(train, 'viewer_lang')"
   ]
  },
  {
   "cell_type": "code",
   "execution_count": 17,
   "id": "06d6fc8d",
   "metadata": {},
   "outputs": [],
   "source": [
    "user_countries = get_list(train, 'viewer_country')"
   ]
  },
  {
   "cell_type": "code",
   "execution_count": 18,
   "id": "6153f03d",
   "metadata": {},
   "outputs": [],
   "source": [
    "viewer_age = get_list(train, 'viewer_age')"
   ]
  },
  {
   "cell_type": "code",
   "execution_count": 19,
   "id": "550b0a45",
   "metadata": {},
   "outputs": [],
   "source": [
    "user_networks = get_list(train, 'viewer_network')"
   ]
  },
  {
   "cell_type": "code",
   "execution_count": 20,
   "id": "26fb2bb0",
   "metadata": {},
   "outputs": [],
   "source": [
    "unique_user_genders = get_unique_list(user_genders)"
   ]
  },
  {
   "cell_type": "code",
   "execution_count": 21,
   "id": "e554f4b3",
   "metadata": {},
   "outputs": [
    {
     "data": {
      "text/plain": [
       "2"
      ]
     },
     "execution_count": 21,
     "metadata": {},
     "output_type": "execute_result"
    }
   ],
   "source": [
    "len(unique_user_genders)"
   ]
  },
  {
   "cell_type": "code",
   "execution_count": 22,
   "id": "6348c21e",
   "metadata": {},
   "outputs": [],
   "source": [
    "unique_user_langs = get_unique_list(user_langs)"
   ]
  },
  {
   "cell_type": "code",
   "execution_count": 23,
   "id": "75eebfe5",
   "metadata": {},
   "outputs": [
    {
     "data": {
      "text/plain": [
       "67"
      ]
     },
     "execution_count": 23,
     "metadata": {},
     "output_type": "execute_result"
    }
   ],
   "source": [
    "len(unique_user_langs)"
   ]
  },
  {
   "cell_type": "code",
   "execution_count": 24,
   "id": "7004f45f",
   "metadata": {},
   "outputs": [],
   "source": [
    "unique_user_countries = get_unique_list(user_countries)"
   ]
  },
  {
   "cell_type": "code",
   "execution_count": 25,
   "id": "083dfe42",
   "metadata": {},
   "outputs": [
    {
     "data": {
      "text/plain": [
       "196"
      ]
     },
     "execution_count": 25,
     "metadata": {},
     "output_type": "execute_result"
    }
   ],
   "source": [
    "len(unique_user_countries)"
   ]
  },
  {
   "cell_type": "code",
   "execution_count": 26,
   "id": "2b38f9a3",
   "metadata": {},
   "outputs": [],
   "source": [
    "unique_user_networks = get_unique_list(user_networks)"
   ]
  },
  {
   "cell_type": "code",
   "execution_count": 27,
   "id": "349f48f8",
   "metadata": {},
   "outputs": [
    {
     "data": {
      "text/plain": [
       "4"
      ]
     },
     "execution_count": 27,
     "metadata": {},
     "output_type": "execute_result"
    }
   ],
   "source": [
    "len(unique_user_networks)"
   ]
  },
  {
   "cell_type": "code",
   "execution_count": 28,
   "id": "2425af25",
   "metadata": {},
   "outputs": [],
   "source": [
    "age_boundaries = np.array([18, 25, 30, 35, 40, 45, 50, 55, 60, 65, float(\"inf\")])"
   ]
  },
  {
   "cell_type": "code",
   "execution_count": 29,
   "id": "4a861f8a",
   "metadata": {},
   "outputs": [],
   "source": [
    "user_model = UserModel(unique_user_genders, unique_user_langs, unique_user_countries, unique_user_networks, viewer_age)  "
   ]
  },
  {
   "cell_type": "code",
   "execution_count": 30,
   "id": "a62ef399",
   "metadata": {},
   "outputs": [],
   "source": [
    "broadcaster_ids = get_list(train, 'broadcaster')"
   ]
  },
  {
   "cell_type": "code",
   "execution_count": null,
   "id": "1c1ae75c",
   "metadata": {},
   "outputs": [],
   "source": [
    "unique_broadcasters = get_unique_list(broadcaster_ids)"
   ]
  },
  {
   "cell_type": "code",
   "execution_count": null,
   "id": "84703844",
   "metadata": {},
   "outputs": [],
   "source": [
    "len(unique_broadcasters)"
   ]
  },
  {
   "cell_type": "code",
   "execution_count": null,
   "id": "a50b7a4b",
   "metadata": {},
   "outputs": [],
   "source": [
    "broadcaster_embedding_dimension = 32"
   ]
  },
  {
   "cell_type": "code",
   "execution_count": null,
   "id": "0307c5d5",
   "metadata": {
    "scrolled": false
   },
   "outputs": [],
   "source": [
    "broadcaster_model = BroadcasterModel(unique_broadcasters, broadcaster_embedding_dimension)"
   ]
  },
  {
   "cell_type": "code",
   "execution_count": null,
   "id": "e60d32ea",
   "metadata": {},
   "outputs": [],
   "source": [
    "metrics = tfrs.metrics.FactorizedTopK(candidates=broadcasters_data_set.batch(128).map(broadcaster_model))"
   ]
  },
  {
   "cell_type": "code",
   "execution_count": null,
   "id": "e6297d67",
   "metadata": {},
   "outputs": [],
   "source": [
    "task = tfrs.tasks.Retrieval(\n",
    "    metrics=metrics\n",
    ")"
   ]
  },
  {
   "cell_type": "code",
   "execution_count": null,
   "id": "b1baa521",
   "metadata": {},
   "outputs": [],
   "source": [
    "class TwoTowers(tf.keras.Model):\n",
    "\n",
    "    def __init__(self, broadcaster_model, user_model, task):\n",
    "        super().__init__()\n",
    "        self.broadcaster_model: tf.keras.Model = broadcaster_model\n",
    "        self.embedding_model = user_model\n",
    "        self.task: tf.keras.layers.Layer = task\n",
    "\n",
    "    def train_step(self, features: Dict[Text, tf.Tensor]) -> tf.Tensor:\n",
    "\n",
    "        # Set up a gradient tape to record gradients.\n",
    "        with tf.GradientTape() as tape:\n",
    "\n",
    "            # Loss computation.\n",
    "\n",
    "            user_embeddings = self.embedding_model({\n",
    "                \"viewer_gender\": features[\"viewer_gender\"],\n",
    "                \"viewer_lang\": features[\"viewer_lang\"],\n",
    "                \"viewer_country\": features[\"viewer_country\"],\n",
    "                \"viewer_network\": features[\"viewer_network\"],\n",
    "                \"viewer_age\": features[\"viewer_age\"],\n",
    "            })\n",
    "            positive_movie_embeddings = self.broadcaster_model(\n",
    "                features[\"broadcaster\"])\n",
    "            loss = self.task(user_embeddings, positive_movie_embeddings)\n",
    "\n",
    "            # Handle regularization losses as well.\n",
    "            regularization_loss = sum(self.losses)\n",
    "\n",
    "            total_loss = loss + regularization_loss\n",
    "\n",
    "        gradients = tape.gradient(total_loss, self.trainable_variables)\n",
    "        self.optimizer.apply_gradients(\n",
    "            zip(gradients, self.trainable_variables))\n",
    "\n",
    "        metrics = {metric.name: metric.result() for metric in self.metrics}\n",
    "        metrics[\"loss\"] = loss\n",
    "        metrics[\"regularization_loss\"] = regularization_loss\n",
    "        metrics[\"total_loss\"] = total_loss\n",
    "\n",
    "        return metrics\n",
    "\n",
    "    def test_step(self, features: Dict[Text, tf.Tensor]) -> tf.Tensor:\n",
    "\n",
    "        # Loss computation.\n",
    "\n",
    "        user_embeddings = self.embedding_model({\n",
    "            \"viewer\": features[\"viewer\"],\n",
    "        })\n",
    "        positive_movie_embeddings = self.broadcaster_model(\n",
    "            features[\"broadcaster\"])\n",
    "        loss = self.task(user_embeddings, positive_movie_embeddings)\n",
    "\n",
    "        # Handle regularization losses as well.\n",
    "        regularization_loss = sum(self.losses)\n",
    "\n",
    "        total_loss = loss + regularization_loss\n",
    "\n",
    "        metrics = {metric.name: metric.result() for metric in self.metrics}\n",
    "        metrics[\"loss\"] = loss\n",
    "        metrics[\"regularization_loss\"] = regularization_loss\n",
    "        metrics[\"total_loss\"] = total_loss\n",
    "        return metrics\n"
   ]
  },
  {
   "cell_type": "code",
   "execution_count": null,
   "id": "6b578003",
   "metadata": {},
   "outputs": [],
   "source": [
    "model = TwoTowers(broadcaster_model, user_model, task)"
   ]
  },
  {
   "cell_type": "code",
   "execution_count": null,
   "id": "6e2b81b4",
   "metadata": {},
   "outputs": [],
   "source": [
    "learning_rate = 0.05\n",
    "batch_size = 16384\n",
    "# batch_size = 250\n",
    "epochs = 2\n",
    "top_k = 1999"
   ]
  },
  {
   "cell_type": "code",
   "execution_count": null,
   "id": "ea6c7882",
   "metadata": {},
   "outputs": [],
   "source": [
    "model.compile(optimizer=tf.keras.optimizers.Adagrad(learning_rate=learning_rate))"
   ]
  },
  {
   "cell_type": "code",
   "execution_count": null,
   "id": "cb0a444d",
   "metadata": {},
   "outputs": [],
   "source": [
    "train_ds = train.batch(batch_size).cache()\n",
    "# train_ds = train_ds.prefetch(tf.data.experimental.AUTOTUNE)"
   ]
  },
  {
   "cell_type": "code",
   "execution_count": null,
   "id": "80a5ce6c",
   "metadata": {
    "scrolled": false
   },
   "outputs": [
    {
     "name": "stdout",
     "output_type": "stream",
     "text": [
      "326/326 [==============================] - 27670s 85s/step - factorized_top_k/top_1_categorical_accuracy: 4.3311e-04 - factorized_top_k/top_5_categorical_accuracy: 0.0039 - factorized_top_k/top_10_categorical_accuracy: 0.0076 - factorized_top_k/top_50_categorical_accuracy: 0.0301 - factorized_top_k/top_100_categorical_accuracy: 0.0517 - loss: 145954.8835 - regularization_loss: 0.0000e+00 - total_loss: 145954.8835\n"
     ]
    },
    {
     "data": {
      "text/plain": [
       "<tensorflow.python.keras.callbacks.History at 0x7fba09bb0cf8>"
      ]
     },
     "execution_count": 42,
     "metadata": {},
     "output_type": "execute_result"
    }
   ],
   "source": [
    "model.fit(train_ds, epochs=1)"
   ]
  },
  {
   "cell_type": "code",
   "execution_count": null,
   "id": "cc04bd43",
   "metadata": {},
   "outputs": [
    {
     "data": {
      "text/plain": [
       "'s3://ling-cold-start-data/2021-09-23/2021-09-23.csv'"
      ]
     },
     "execution_count": 43,
     "metadata": {},
     "output_type": "execute_result"
    }
   ],
   "source": [
    "data_location"
   ]
  },
  {
   "cell_type": "code",
   "execution_count": null,
   "id": "842e5b90",
   "metadata": {},
   "outputs": [],
   "source": [
    "from datetime import date"
   ]
  },
  {
   "cell_type": "code",
   "execution_count": null,
   "id": "7584d9ec",
   "metadata": {},
   "outputs": [],
   "source": [
    "model_location = \"s3://{}/{}/{}\".format(bucket, prefix, date.today())"
   ]
  },
  {
   "cell_type": "code",
   "execution_count": null,
   "id": "2480d400",
   "metadata": {},
   "outputs": [
    {
     "data": {
      "text/plain": [
       "'s3://ling-cold-start-data/2021-09-23/2021-09-29'"
      ]
     },
     "execution_count": 46,
     "metadata": {},
     "output_type": "execute_result"
    }
   ],
   "source": [
    "model_location"
   ]
  },
  {
   "cell_type": "code",
   "execution_count": null,
   "id": "c3f67f69",
   "metadata": {},
   "outputs": [
    {
     "name": "stdout",
     "output_type": "stream",
     "text": [
      "create index\n",
      "Recommendations for user lam: [[b'07 3c d8 00 0d a9 92 ad 16 34 43 84 51 35 aa 01'\n",
      "  b'31 d1 a6 d0 59 03 4e 7e 7b 63 86 7c 47 42 c8 54'\n",
      "  b'2e ab 65 48 77 87 54 4d 95 21 9f 9e 7c aa 15 78' ...\n",
      "  b'ce 4d d5 95 4e 51 69 f4 12 df 98 80 c6 4c 81 97'\n",
      "  b'fe 1b 2a c1 e2 93 29 ee 39 a0 3f 04 39 f4 7d b8'\n",
      "  b'7a e3 26 6b d1 e3 99 47 d0 16 df e8 30 f1 5e 50']]\n",
      "Recommendations for user cal: [[b'45 e8 b1 41 ae 77 51 9a e1 69 75 8f 5b 96 5d f1'\n",
      "  b'bf 35 60 c1 b8 1c f4 d8 3b be fb c4 f0 ad 81 f4'\n",
      "  b'77 41 e1 0d af 59 17 af 12 b0 62 15 61 d6 46 8e' ...\n",
      "  b'90 ad 07 e2 31 84 79 eb 7a c0 5a 83 9f ba 3b b4'\n",
      "  b'6a 6b b4 20 72 24 00 6b f4 cd 05 d9 2c 9e 14 1b'\n",
      "  b'fe d7 ee ca 01 17 94 68 10 5a ee ac d8 44 98 2e']]\n",
      "Recommendations for user 32: [[b'49 0f 0d bc 33 8a 7a b1 73 06 bd 2e 53 d3 5c 28'\n",
      "  b'e9 63 e3 a4 5c ba 61 63 a0 10 e7 65 34 8b d1 4c'\n",
      "  b'52 f5 2b 82 fa 3a db 39 2d d5 a6 9d d2 f0 b4 f7' ...\n",
      "  b'02 f8 3e eb 04 52 61 cd 13 9a ed 31 54 36 9b c5'\n",
      "  b'af e5 45 46 f1 7e d5 64 d7 d6 c0 56 6e ba 1e 87'\n",
      "  b'70 2b 52 48 12 3f 10 bd 8d e8 7d d6 5f 82 28 9b']]\n",
      "WARNING:tensorflow:Using a while_loop for converting BoostedTreesBucketize\n",
      "WARNING:tensorflow:Using a while_loop for converting BoostedTreesBucketize\n",
      "WARNING:tensorflow:Using a while_loop for converting BoostedTreesBucketize\n",
      "WARNING:tensorflow:Using a while_loop for converting BoostedTreesBucketize\n",
      "WARNING:tensorflow:Using a while_loop for converting BoostedTreesBucketize\n",
      "WARNING:tensorflow:Using a while_loop for converting BoostedTreesBucketize\n",
      "WARNING:tensorflow:Using a while_loop for converting BoostedTreesBucketize\n",
      "WARNING:tensorflow:Using a while_loop for converting BoostedTreesBucketize\n",
      "WARNING:tensorflow:Using a while_loop for converting BoostedTreesBucketize\n",
      "WARNING:tensorflow:Using a while_loop for converting BoostedTreesBucketize\n",
      "WARNING:tensorflow:Using a while_loop for converting BoostedTreesBucketize\n",
      "WARNING:tensorflow:Using a while_loop for converting BoostedTreesBucketize\n",
      "WARNING:tensorflow:Using a while_loop for converting BoostedTreesBucketize\n",
      "WARNING:tensorflow:Using a while_loop for converting BoostedTreesBucketize\n",
      "WARNING:tensorflow:Using a while_loop for converting BoostedTreesBucketize\n",
      "WARNING:tensorflow:Using a while_loop for converting BoostedTreesBucketize\n",
      "WARNING:tensorflow:Using a while_loop for converting BoostedTreesBucketize\n"
     ]
    },
    {
     "name": "stderr",
     "output_type": "stream",
     "text": [
      "WARNING:absl:Found untraced functions such as query_with_exclusions while saving (showing 1 of 1). These functions will not be directly callable after loading.\n"
     ]
    },
    {
     "name": "stdout",
     "output_type": "stream",
     "text": [
      "INFO:tensorflow:Assets written to: s3://ling-cold-start-data/2021-09-23/2021-09-29/assets\n"
     ]
    },
    {
     "name": "stderr",
     "output_type": "stream",
     "text": [
      "INFO:tensorflow:Assets written to: s3://ling-cold-start-data/2021-09-23/2021-09-29/assets\n"
     ]
    }
   ],
   "source": [
    "print(\"create index\")\n",
    "index = tfrs.layers.factorized_top_k.BruteForce(\n",
    "    query_model=user_model,\n",
    "    k=top_k,\n",
    ")\n",
    "\n",
    "index.index(\n",
    "    broadcasters_data_set.batch(10000).map(\n",
    "        model.broadcaster_model),\n",
    "    broadcasters_data_set)\n",
    "\n",
    "_, titles = index(\n",
    "    {\n",
    "        \"viewer_gender\": tf.constant([\"male\"]),\n",
    "        \"viewer_lang\": tf.constant([\"en\"]),\n",
    "        \"viewer_country\": tf.constant([\"US\"]),\n",
    "        \"viewer_age\": tf.constant([38]),\n",
    "        \"viewer_longitude\": tf.constant([-74.89611]),\n",
    "        \"viewer_latitude\": tf.constant([40.36393]),\n",
    "        \"viewer_network\": tf.constant([\"meetme\"]),\n",
    "    }\n",
    ")\n",
    "\n",
    "print(f\"Recommendations for user lam: {titles}\")\n",
    "\n",
    "_, titles = index(\n",
    "    {\n",
    "        \"viewer_gender\": tf.constant([\"male\"]),\n",
    "        \"viewer_lang\": tf.constant([\"en\"]),\n",
    "        \"viewer_country\": tf.constant([\"US\"]),\n",
    "        \"viewer_age\": tf.constant([28]),\n",
    "        \"viewer_longitude\": tf.constant([-118.41625]),\n",
    "        \"viewer_latitude\": tf.constant([34.10313]),\n",
    "        \"viewer_network\": tf.constant([\"pof\"]),\n",
    "    }\n",
    ")\n",
    "\n",
    "print(f\"Recommendations for user cal: {titles}\")\n",
    "\n",
    "_, titles = index(\n",
    "    {\n",
    "        \"viewer_gender\": tf.constant([\"female\"]),\n",
    "        \"viewer_lang\": tf.constant([\"en\"]),\n",
    "        \"viewer_country\": tf.constant([\"US\"]),\n",
    "        \"viewer_age\": tf.constant([32]),\n",
    "        \"viewer_longitude\": tf.constant([-74.89611]),\n",
    "        \"viewer_latitude\": tf.constant([40.36393]),\n",
    "        \"viewer_network\": tf.constant([\"skout\"]),\n",
    "    }\n",
    ")\n",
    "\n",
    "print(f\"Recommendations for user 32: {titles}\")\n",
    "\n",
    "index.save(model_location)\n"
   ]
  },
  {
   "cell_type": "code",
   "execution_count": null,
   "id": "69d15dc0",
   "metadata": {},
   "outputs": [],
   "source": []
  }
 ],
 "metadata": {
  "kernelspec": {
   "display_name": "Python 3 (ipykernel)",
   "language": "python",
   "name": "python3"
  },
  "language_info": {
   "codemirror_mode": {
    "name": "ipython",
    "version": 3
   },
   "file_extension": ".py",
   "mimetype": "text/x-python",
   "name": "python",
   "nbconvert_exporter": "python",
   "pygments_lexer": "ipython3",
   "version": "3.7.7"
  }
 },
 "nbformat": 4,
 "nbformat_minor": 5
}
