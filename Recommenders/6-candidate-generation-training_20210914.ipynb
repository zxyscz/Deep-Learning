{
 "cells": [
  {
   "cell_type": "code",
   "execution_count": 1,
   "id": "7cc3314e",
   "metadata": {},
   "outputs": [],
   "source": [
    "import boto3\n",
    "import s3fs\n",
    "from sagemaker import get_execution_role\n",
    "import sagemaker.amazon.common as smac"
   ]
  },
  {
   "cell_type": "code",
   "execution_count": 2,
   "id": "d432e632",
   "metadata": {},
   "outputs": [
    {
     "name": "stdout",
     "output_type": "stream",
     "text": [
      "Collecting tensorflow==2.5.0\n",
      "  Downloading tensorflow-2.5.0-cp36-cp36m-manylinux2010_x86_64.whl (454.3 MB)\n",
      "\u001b[K     |████████████████████████████████| 454.3 MB 8.3 kB/s  eta 0:00:01    |█████▍                          | 76.6 MB 53.1 MB/s eta 0:00:08\n",
      "\u001b[?25hRequirement already satisfied: numpy~=1.19.2 in /home/ec2-user/anaconda3/envs/python3/lib/python3.6/site-packages (from tensorflow==2.5.0) (1.19.5)\n",
      "Requirement already satisfied: typing-extensions~=3.7.4 in /home/ec2-user/anaconda3/envs/python3/lib/python3.6/site-packages (from tensorflow==2.5.0) (3.7.4.3)\n",
      "Requirement already satisfied: six~=1.15.0 in /home/ec2-user/anaconda3/envs/python3/lib/python3.6/site-packages (from tensorflow==2.5.0) (1.15.0)\n",
      "Collecting termcolor~=1.1.0\n",
      "  Downloading termcolor-1.1.0.tar.gz (3.9 kB)\n",
      "Collecting opt-einsum~=3.3.0\n",
      "  Downloading opt_einsum-3.3.0-py3-none-any.whl (65 kB)\n",
      "\u001b[K     |████████████████████████████████| 65 kB 6.1 MB/s  eta 0:00:01\n",
      "\u001b[?25hCollecting flatbuffers~=1.12.0\n",
      "  Downloading flatbuffers-1.12-py2.py3-none-any.whl (15 kB)\n",
      "Collecting keras-preprocessing~=1.1.2\n",
      "  Downloading Keras_Preprocessing-1.1.2-py2.py3-none-any.whl (42 kB)\n",
      "\u001b[K     |████████████████████████████████| 42 kB 1.8 MB/s  eta 0:00:01\n",
      "\u001b[?25hCollecting gast==0.4.0\n",
      "  Downloading gast-0.4.0-py3-none-any.whl (9.8 kB)\n",
      "Collecting keras-nightly~=2.5.0.dev\n",
      "  Downloading keras_nightly-2.5.0.dev2021032900-py2.py3-none-any.whl (1.2 MB)\n",
      "\u001b[K     |████████████████████████████████| 1.2 MB 40.3 MB/s eta 0:00:01\n",
      "\u001b[?25hCollecting grpcio~=1.34.0\n",
      "  Downloading grpcio-1.34.1-cp36-cp36m-manylinux2014_x86_64.whl (4.0 MB)\n",
      "\u001b[K     |████████████████████████████████| 4.0 MB 52.6 MB/s eta 0:00:01\n",
      "\u001b[?25hCollecting tensorflow-estimator<2.6.0,>=2.5.0rc0\n",
      "  Downloading tensorflow_estimator-2.5.0-py2.py3-none-any.whl (462 kB)\n",
      "\u001b[K     |████████████████████████████████| 462 kB 47.8 MB/s eta 0:00:01\n",
      "\u001b[?25hRequirement already satisfied: h5py~=3.1.0 in /home/ec2-user/anaconda3/envs/python3/lib/python3.6/site-packages (from tensorflow==2.5.0) (3.1.0)\n",
      "Requirement already satisfied: google-pasta~=0.2 in /home/ec2-user/anaconda3/envs/python3/lib/python3.6/site-packages (from tensorflow==2.5.0) (0.2.0)\n",
      "Requirement already satisfied: wheel~=0.35 in /home/ec2-user/anaconda3/envs/python3/lib/python3.6/site-packages (from tensorflow==2.5.0) (0.36.2)\n",
      "Collecting absl-py~=0.10\n",
      "  Downloading absl_py-0.13.0-py3-none-any.whl (132 kB)\n",
      "\u001b[K     |████████████████████████████████| 132 kB 57.7 MB/s eta 0:00:01\n",
      "\u001b[?25hCollecting tensorboard~=2.5\n",
      "  Downloading tensorboard-2.6.0-py3-none-any.whl (5.6 MB)\n",
      "\u001b[K     |████████████████████████████████| 5.6 MB 44.3 MB/s eta 0:00:01\n",
      "\u001b[?25hRequirement already satisfied: protobuf>=3.9.2 in /home/ec2-user/anaconda3/envs/python3/lib/python3.6/site-packages (from tensorflow==2.5.0) (3.15.2)\n",
      "Requirement already satisfied: wrapt~=1.12.1 in /home/ec2-user/anaconda3/envs/python3/lib/python3.6/site-packages (from tensorflow==2.5.0) (1.12.1)\n",
      "Collecting astunparse~=1.6.3\n",
      "  Downloading astunparse-1.6.3-py2.py3-none-any.whl (12 kB)\n",
      "Requirement already satisfied: cached-property in /home/ec2-user/anaconda3/envs/python3/lib/python3.6/site-packages (from h5py~=3.1.0->tensorflow==2.5.0) (1.5.1)\n",
      "Collecting markdown>=2.6.8\n",
      "  Downloading Markdown-3.3.4-py3-none-any.whl (97 kB)\n",
      "\u001b[K     |████████████████████████████████| 97 kB 1.7 MB/s  eta 0:00:01\n",
      "\u001b[?25hCollecting google-auth<2,>=1.6.3\n",
      "  Downloading google_auth-1.35.0-py2.py3-none-any.whl (152 kB)\n",
      "\u001b[K     |████████████████████████████████| 152 kB 56.2 MB/s eta 0:00:01\n",
      "\u001b[?25hRequirement already satisfied: werkzeug>=0.11.15 in /home/ec2-user/anaconda3/envs/python3/lib/python3.6/site-packages (from tensorboard~=2.5->tensorflow==2.5.0) (1.0.1)\n",
      "Collecting tensorboard-data-server<0.7.0,>=0.6.0\n",
      "  Downloading tensorboard_data_server-0.6.1-py3-none-manylinux2010_x86_64.whl (4.9 MB)\n",
      "\u001b[K     |████████████████████████████████| 4.9 MB 43.0 MB/s eta 0:00:01\n",
      "\u001b[?25hRequirement already satisfied: setuptools>=41.0.0 in /home/ec2-user/anaconda3/envs/python3/lib/python3.6/site-packages (from tensorboard~=2.5->tensorflow==2.5.0) (49.6.0.post20210108)\n",
      "Collecting google-auth-oauthlib<0.5,>=0.4.1\n",
      "  Downloading google_auth_oauthlib-0.4.6-py2.py3-none-any.whl (18 kB)\n",
      "Requirement already satisfied: requests<3,>=2.21.0 in /home/ec2-user/anaconda3/envs/python3/lib/python3.6/site-packages (from tensorboard~=2.5->tensorflow==2.5.0) (2.25.1)\n",
      "Collecting tensorboard-plugin-wit>=1.6.0\n",
      "  Downloading tensorboard_plugin_wit-1.8.0-py3-none-any.whl (781 kB)\n",
      "\u001b[K     |████████████████████████████████| 781 kB 42.5 MB/s eta 0:00:01\n",
      "\u001b[?25hCollecting cachetools<5.0,>=2.0.0\n",
      "  Downloading cachetools-4.2.2-py3-none-any.whl (11 kB)\n",
      "Requirement already satisfied: rsa<5,>=3.1.4 in /home/ec2-user/anaconda3/envs/python3/lib/python3.6/site-packages (from google-auth<2,>=1.6.3->tensorboard~=2.5->tensorflow==2.5.0) (4.7.2)\n",
      "Collecting pyasn1-modules>=0.2.1\n",
      "  Downloading pyasn1_modules-0.2.8-py2.py3-none-any.whl (155 kB)\n",
      "\u001b[K     |████████████████████████████████| 155 kB 52.5 MB/s eta 0:00:01\n",
      "\u001b[?25hCollecting requests-oauthlib>=0.7.0\n",
      "  Downloading requests_oauthlib-1.3.0-py2.py3-none-any.whl (23 kB)\n",
      "Requirement already satisfied: importlib-metadata in /home/ec2-user/anaconda3/envs/python3/lib/python3.6/site-packages (from markdown>=2.6.8->tensorboard~=2.5->tensorflow==2.5.0) (3.7.0)\n",
      "Requirement already satisfied: pyasn1<0.5.0,>=0.4.6 in /home/ec2-user/anaconda3/envs/python3/lib/python3.6/site-packages (from pyasn1-modules>=0.2.1->google-auth<2,>=1.6.3->tensorboard~=2.5->tensorflow==2.5.0) (0.4.8)\n",
      "Requirement already satisfied: urllib3<1.27,>=1.21.1 in /home/ec2-user/anaconda3/envs/python3/lib/python3.6/site-packages (from requests<3,>=2.21.0->tensorboard~=2.5->tensorflow==2.5.0) (1.26.6)\n",
      "Requirement already satisfied: idna<3,>=2.5 in /home/ec2-user/anaconda3/envs/python3/lib/python3.6/site-packages (from requests<3,>=2.21.0->tensorboard~=2.5->tensorflow==2.5.0) (2.10)\n",
      "Requirement already satisfied: chardet<5,>=3.0.2 in /home/ec2-user/anaconda3/envs/python3/lib/python3.6/site-packages (from requests<3,>=2.21.0->tensorboard~=2.5->tensorflow==2.5.0) (3.0.4)\n",
      "Requirement already satisfied: certifi>=2017.4.17 in /home/ec2-user/anaconda3/envs/python3/lib/python3.6/site-packages (from requests<3,>=2.21.0->tensorboard~=2.5->tensorflow==2.5.0) (2021.5.30)\n",
      "Collecting oauthlib>=3.0.0\n",
      "  Downloading oauthlib-3.1.1-py2.py3-none-any.whl (146 kB)\n",
      "\u001b[K     |████████████████████████████████| 146 kB 53.1 MB/s eta 0:00:01\n",
      "\u001b[?25hRequirement already satisfied: zipp>=0.5 in /home/ec2-user/anaconda3/envs/python3/lib/python3.6/site-packages (from importlib-metadata->markdown>=2.6.8->tensorboard~=2.5->tensorflow==2.5.0) (3.4.0)\n",
      "Building wheels for collected packages: termcolor\n",
      "  Building wheel for termcolor (setup.py) ... \u001b[?25ldone\n",
      "\u001b[?25h  Created wheel for termcolor: filename=termcolor-1.1.0-py3-none-any.whl size=4829 sha256=324bce43f502d5d9a0ebd30e6940c4abe2daea8289da2def3962ef06d7384c94\n",
      "  Stored in directory: /home/ec2-user/.cache/pip/wheels/93/2a/eb/e58dbcbc963549ee4f065ff80a59f274cc7210b6eab962acdc\n",
      "Successfully built termcolor\n",
      "Installing collected packages: pyasn1-modules, oauthlib, cachetools, requests-oauthlib, google-auth, tensorboard-plugin-wit, tensorboard-data-server, markdown, grpcio, google-auth-oauthlib, absl-py, termcolor, tensorflow-estimator, tensorboard, opt-einsum, keras-preprocessing, keras-nightly, gast, flatbuffers, astunparse, tensorflow\n",
      "Successfully installed absl-py-0.13.0 astunparse-1.6.3 cachetools-4.2.2 flatbuffers-1.12 gast-0.4.0 google-auth-1.35.0 google-auth-oauthlib-0.4.6 grpcio-1.34.1 keras-nightly-2.5.0.dev2021032900 keras-preprocessing-1.1.2 markdown-3.3.4 oauthlib-3.1.1 opt-einsum-3.3.0 pyasn1-modules-0.2.8 requests-oauthlib-1.3.0 tensorboard-2.6.0 tensorboard-data-server-0.6.1 tensorboard-plugin-wit-1.8.0 tensorflow-2.5.0 tensorflow-estimator-2.5.0 termcolor-1.1.0\n",
      "\u001b[33mWARNING: You are using pip version 21.1.3; however, version 21.2.4 is available.\n",
      "You should consider upgrading via the '/home/ec2-user/anaconda3/envs/python3/bin/python -m pip install --upgrade pip' command.\u001b[0m\n"
     ]
    }
   ],
   "source": [
    "!pip install tensorflow==2.5.0"
   ]
  },
  {
   "cell_type": "code",
   "execution_count": 3,
   "id": "043a8a92",
   "metadata": {},
   "outputs": [
    {
     "name": "stdout",
     "output_type": "stream",
     "text": [
      "Collecting tensorflow-recommenders==0.5.2\n",
      "  Downloading tensorflow_recommenders-0.5.2-py3-none-any.whl (85 kB)\n",
      "\u001b[K     |████████████████████████████████| 85 kB 4.9 MB/s  eta 0:00:01\n",
      "\u001b[?25hRequirement already satisfied: tensorflow>=2.3.0 in /home/ec2-user/anaconda3/envs/python3/lib/python3.6/site-packages (from tensorflow-recommenders==0.5.2) (2.5.0)\n",
      "Requirement already satisfied: absl-py>=0.1.6 in /home/ec2-user/anaconda3/envs/python3/lib/python3.6/site-packages (from tensorflow-recommenders==0.5.2) (0.13.0)\n",
      "Requirement already satisfied: six in /home/ec2-user/anaconda3/envs/python3/lib/python3.6/site-packages (from absl-py>=0.1.6->tensorflow-recommenders==0.5.2) (1.15.0)\n",
      "Requirement already satisfied: opt-einsum~=3.3.0 in /home/ec2-user/anaconda3/envs/python3/lib/python3.6/site-packages (from tensorflow>=2.3.0->tensorflow-recommenders==0.5.2) (3.3.0)\n",
      "Requirement already satisfied: keras-preprocessing~=1.1.2 in /home/ec2-user/anaconda3/envs/python3/lib/python3.6/site-packages (from tensorflow>=2.3.0->tensorflow-recommenders==0.5.2) (1.1.2)\n",
      "Requirement already satisfied: numpy~=1.19.2 in /home/ec2-user/anaconda3/envs/python3/lib/python3.6/site-packages (from tensorflow>=2.3.0->tensorflow-recommenders==0.5.2) (1.19.5)\n",
      "Requirement already satisfied: astunparse~=1.6.3 in /home/ec2-user/anaconda3/envs/python3/lib/python3.6/site-packages (from tensorflow>=2.3.0->tensorflow-recommenders==0.5.2) (1.6.3)\n",
      "Requirement already satisfied: wrapt~=1.12.1 in /home/ec2-user/anaconda3/envs/python3/lib/python3.6/site-packages (from tensorflow>=2.3.0->tensorflow-recommenders==0.5.2) (1.12.1)\n",
      "Requirement already satisfied: wheel~=0.35 in /home/ec2-user/anaconda3/envs/python3/lib/python3.6/site-packages (from tensorflow>=2.3.0->tensorflow-recommenders==0.5.2) (0.36.2)\n",
      "Requirement already satisfied: h5py~=3.1.0 in /home/ec2-user/anaconda3/envs/python3/lib/python3.6/site-packages (from tensorflow>=2.3.0->tensorflow-recommenders==0.5.2) (3.1.0)\n",
      "Requirement already satisfied: gast==0.4.0 in /home/ec2-user/anaconda3/envs/python3/lib/python3.6/site-packages (from tensorflow>=2.3.0->tensorflow-recommenders==0.5.2) (0.4.0)\n",
      "Requirement already satisfied: keras-nightly~=2.5.0.dev in /home/ec2-user/anaconda3/envs/python3/lib/python3.6/site-packages (from tensorflow>=2.3.0->tensorflow-recommenders==0.5.2) (2.5.0.dev2021032900)\n",
      "Requirement already satisfied: grpcio~=1.34.0 in /home/ec2-user/anaconda3/envs/python3/lib/python3.6/site-packages (from tensorflow>=2.3.0->tensorflow-recommenders==0.5.2) (1.34.1)\n",
      "Requirement already satisfied: tensorflow-estimator<2.6.0,>=2.5.0rc0 in /home/ec2-user/anaconda3/envs/python3/lib/python3.6/site-packages (from tensorflow>=2.3.0->tensorflow-recommenders==0.5.2) (2.5.0)\n",
      "Requirement already satisfied: typing-extensions~=3.7.4 in /home/ec2-user/anaconda3/envs/python3/lib/python3.6/site-packages (from tensorflow>=2.3.0->tensorflow-recommenders==0.5.2) (3.7.4.3)\n",
      "Requirement already satisfied: flatbuffers~=1.12.0 in /home/ec2-user/anaconda3/envs/python3/lib/python3.6/site-packages (from tensorflow>=2.3.0->tensorflow-recommenders==0.5.2) (1.12)\n",
      "Requirement already satisfied: termcolor~=1.1.0 in /home/ec2-user/anaconda3/envs/python3/lib/python3.6/site-packages (from tensorflow>=2.3.0->tensorflow-recommenders==0.5.2) (1.1.0)\n",
      "Requirement already satisfied: protobuf>=3.9.2 in /home/ec2-user/anaconda3/envs/python3/lib/python3.6/site-packages (from tensorflow>=2.3.0->tensorflow-recommenders==0.5.2) (3.15.2)\n",
      "Requirement already satisfied: google-pasta~=0.2 in /home/ec2-user/anaconda3/envs/python3/lib/python3.6/site-packages (from tensorflow>=2.3.0->tensorflow-recommenders==0.5.2) (0.2.0)\n",
      "Requirement already satisfied: tensorboard~=2.5 in /home/ec2-user/anaconda3/envs/python3/lib/python3.6/site-packages (from tensorflow>=2.3.0->tensorflow-recommenders==0.5.2) (2.6.0)\n",
      "Requirement already satisfied: cached-property in /home/ec2-user/anaconda3/envs/python3/lib/python3.6/site-packages (from h5py~=3.1.0->tensorflow>=2.3.0->tensorflow-recommenders==0.5.2) (1.5.1)\n",
      "Requirement already satisfied: google-auth-oauthlib<0.5,>=0.4.1 in /home/ec2-user/anaconda3/envs/python3/lib/python3.6/site-packages (from tensorboard~=2.5->tensorflow>=2.3.0->tensorflow-recommenders==0.5.2) (0.4.6)\n",
      "Requirement already satisfied: requests<3,>=2.21.0 in /home/ec2-user/anaconda3/envs/python3/lib/python3.6/site-packages (from tensorboard~=2.5->tensorflow>=2.3.0->tensorflow-recommenders==0.5.2) (2.25.1)\n",
      "Requirement already satisfied: setuptools>=41.0.0 in /home/ec2-user/anaconda3/envs/python3/lib/python3.6/site-packages (from tensorboard~=2.5->tensorflow>=2.3.0->tensorflow-recommenders==0.5.2) (49.6.0.post20210108)\n",
      "Requirement already satisfied: werkzeug>=0.11.15 in /home/ec2-user/anaconda3/envs/python3/lib/python3.6/site-packages (from tensorboard~=2.5->tensorflow>=2.3.0->tensorflow-recommenders==0.5.2) (1.0.1)\n",
      "Requirement already satisfied: tensorboard-plugin-wit>=1.6.0 in /home/ec2-user/anaconda3/envs/python3/lib/python3.6/site-packages (from tensorboard~=2.5->tensorflow>=2.3.0->tensorflow-recommenders==0.5.2) (1.8.0)\n",
      "Requirement already satisfied: markdown>=2.6.8 in /home/ec2-user/anaconda3/envs/python3/lib/python3.6/site-packages (from tensorboard~=2.5->tensorflow>=2.3.0->tensorflow-recommenders==0.5.2) (3.3.4)\n",
      "Requirement already satisfied: google-auth<2,>=1.6.3 in /home/ec2-user/anaconda3/envs/python3/lib/python3.6/site-packages (from tensorboard~=2.5->tensorflow>=2.3.0->tensorflow-recommenders==0.5.2) (1.35.0)\n",
      "Requirement already satisfied: tensorboard-data-server<0.7.0,>=0.6.0 in /home/ec2-user/anaconda3/envs/python3/lib/python3.6/site-packages (from tensorboard~=2.5->tensorflow>=2.3.0->tensorflow-recommenders==0.5.2) (0.6.1)\n",
      "Requirement already satisfied: pyasn1-modules>=0.2.1 in /home/ec2-user/anaconda3/envs/python3/lib/python3.6/site-packages (from google-auth<2,>=1.6.3->tensorboard~=2.5->tensorflow>=2.3.0->tensorflow-recommenders==0.5.2) (0.2.8)\n",
      "Requirement already satisfied: rsa<5,>=3.1.4 in /home/ec2-user/anaconda3/envs/python3/lib/python3.6/site-packages (from google-auth<2,>=1.6.3->tensorboard~=2.5->tensorflow>=2.3.0->tensorflow-recommenders==0.5.2) (4.7.2)\n",
      "Requirement already satisfied: cachetools<5.0,>=2.0.0 in /home/ec2-user/anaconda3/envs/python3/lib/python3.6/site-packages (from google-auth<2,>=1.6.3->tensorboard~=2.5->tensorflow>=2.3.0->tensorflow-recommenders==0.5.2) (4.2.2)\n",
      "Requirement already satisfied: requests-oauthlib>=0.7.0 in /home/ec2-user/anaconda3/envs/python3/lib/python3.6/site-packages (from google-auth-oauthlib<0.5,>=0.4.1->tensorboard~=2.5->tensorflow>=2.3.0->tensorflow-recommenders==0.5.2) (1.3.0)\n",
      "Requirement already satisfied: importlib-metadata in /home/ec2-user/anaconda3/envs/python3/lib/python3.6/site-packages (from markdown>=2.6.8->tensorboard~=2.5->tensorflow>=2.3.0->tensorflow-recommenders==0.5.2) (3.7.0)\n",
      "Requirement already satisfied: pyasn1<0.5.0,>=0.4.6 in /home/ec2-user/anaconda3/envs/python3/lib/python3.6/site-packages (from pyasn1-modules>=0.2.1->google-auth<2,>=1.6.3->tensorboard~=2.5->tensorflow>=2.3.0->tensorflow-recommenders==0.5.2) (0.4.8)\n",
      "Requirement already satisfied: certifi>=2017.4.17 in /home/ec2-user/anaconda3/envs/python3/lib/python3.6/site-packages (from requests<3,>=2.21.0->tensorboard~=2.5->tensorflow>=2.3.0->tensorflow-recommenders==0.5.2) (2021.5.30)\n",
      "Requirement already satisfied: chardet<5,>=3.0.2 in /home/ec2-user/anaconda3/envs/python3/lib/python3.6/site-packages (from requests<3,>=2.21.0->tensorboard~=2.5->tensorflow>=2.3.0->tensorflow-recommenders==0.5.2) (3.0.4)\n",
      "Requirement already satisfied: idna<3,>=2.5 in /home/ec2-user/anaconda3/envs/python3/lib/python3.6/site-packages (from requests<3,>=2.21.0->tensorboard~=2.5->tensorflow>=2.3.0->tensorflow-recommenders==0.5.2) (2.10)\n",
      "Requirement already satisfied: urllib3<1.27,>=1.21.1 in /home/ec2-user/anaconda3/envs/python3/lib/python3.6/site-packages (from requests<3,>=2.21.0->tensorboard~=2.5->tensorflow>=2.3.0->tensorflow-recommenders==0.5.2) (1.26.6)\n",
      "Requirement already satisfied: oauthlib>=3.0.0 in /home/ec2-user/anaconda3/envs/python3/lib/python3.6/site-packages (from requests-oauthlib>=0.7.0->google-auth-oauthlib<0.5,>=0.4.1->tensorboard~=2.5->tensorflow>=2.3.0->tensorflow-recommenders==0.5.2) (3.1.1)\n"
     ]
    },
    {
     "name": "stdout",
     "output_type": "stream",
     "text": [
      "Requirement already satisfied: zipp>=0.5 in /home/ec2-user/anaconda3/envs/python3/lib/python3.6/site-packages (from importlib-metadata->markdown>=2.6.8->tensorboard~=2.5->tensorflow>=2.3.0->tensorflow-recommenders==0.5.2) (3.4.0)\n",
      "Installing collected packages: tensorflow-recommenders\n",
      "Successfully installed tensorflow-recommenders-0.5.2\n",
      "\u001b[33mWARNING: You are using pip version 21.1.3; however, version 21.2.4 is available.\n",
      "You should consider upgrading via the '/home/ec2-user/anaconda3/envs/python3/bin/python -m pip install --upgrade pip' command.\u001b[0m\n"
     ]
    }
   ],
   "source": [
    "!pip install tensorflow-recommenders==0.5.2"
   ]
  },
  {
   "cell_type": "code",
   "execution_count": 4,
   "id": "8ecdfcea",
   "metadata": {},
   "outputs": [],
   "source": [
    "role = get_execution_role()\n",
    "bucket = \"ling-cold-start-data\"\n",
    "prefix = \"2021-09-08\"\n",
    "data_key = \"a3d86f3b-eb45-4641-b05d-30dff7423e6b.csv\"\n",
    "data_location = \"s3://{}/{}/{}\".format(bucket, prefix, data_key)"
   ]
  },
  {
   "cell_type": "markdown",
   "id": "4a4da8ac",
   "metadata": {},
   "source": [
    "### Loading data"
   ]
  },
  {
   "cell_type": "code",
   "execution_count": 5,
   "id": "0759507a",
   "metadata": {},
   "outputs": [],
   "source": [
    "import os\n",
    "import tempfile\n",
    "\n",
    "%matplotlib inline\n",
    "import matplotlib.pyplot as plt"
   ]
  },
  {
   "cell_type": "code",
   "execution_count": 6,
   "id": "16bc4c6f",
   "metadata": {},
   "outputs": [],
   "source": [
    "import numpy as np\n",
    "import pandas as pd\n",
    "import pprint"
   ]
  },
  {
   "cell_type": "code",
   "execution_count": 7,
   "id": "8f269381",
   "metadata": {},
   "outputs": [],
   "source": [
    "import tensorflow as tf\n",
    "import tensorflow_recommenders as tfrs"
   ]
  },
  {
   "cell_type": "code",
   "execution_count": 8,
   "id": "a17b5504",
   "metadata": {},
   "outputs": [],
   "source": [
    "def load_data_file_cold(file, stats):\n",
    "    print('loading file:' + file)\n",
    "    training_df = pd.read_csv(\n",
    "        file,\n",
    "        skiprows=[0],\n",
    "        names=[\"viewer\",\"broadcaster\",\"viewer_age\",\"viewer_gender\",\"viewer_longitude\",\"viewer_latitude\",\"viewer_lang\",\"viewer_country\",\"broadcaster_age\",\"broadcaster_gender\",\"broadcaster_longitude\",\"broadcaster_latitude\",\"broadcaster_lang\",\"broadcaster_country\",\"duration\", \"viewer_network\", \"broadcaster_network\", \"count\"], dtype={\n",
    "            'viewer': np.unicode,\n",
    "            'broadcaster': np.unicode,\n",
    "            'viewer_age': np.single,\n",
    "            'viewer_gender': np.unicode,\n",
    "            'viewer_longitude': np.single,\n",
    "            'viewer_latitude': np.single,\n",
    "            'viewer_lang': np.unicode,\n",
    "            'viewer_country': np.unicode,\n",
    "            'broadcaster_age': np.single,\n",
    "            'broadcaster_longitude': np.single,\n",
    "            'broadcaster_latitude': np.single,\n",
    "            'broadcaster_lang': np.unicode,\n",
    "            'broadcaster_country': np.unicode,\n",
    "            'viewer_network': np.unicode,\n",
    "            'broadcaster_network': np.unicode,\n",
    "            'count': np.int\n",
    "        })\n",
    "\n",
    "    values = {\n",
    "        'viewer': 'unknown',\n",
    "        'broadcaster': 'unknown',\n",
    "        'viewer_age': 30,\n",
    "        'viewer_gender': 'unknown',\n",
    "        'viewer_longitude': 0,\n",
    "        'viewer_latitude': 0,\n",
    "        'viewer_lang': 'unknown',\n",
    "        'viewer_country': 'unknown',\n",
    "        'broadcaster_age': 30,\n",
    "        'broadcaster_longitude': 0,\n",
    "        'broadcaster_latitude': 0,\n",
    "        'broadcaster_lang': 'unknown',\n",
    "        'broadcaster_country': 'unknown',\n",
    "        'duration': 0,\n",
    "        'viewer_network': 'unknown',\n",
    "        'broadcaster_network': 'unknown',\n",
    "        'count': 0\n",
    "    }\n",
    "    training_df.fillna(value=values, inplace=True)\n",
    "    print(training_df.head(10))\n",
    "    print(training_df.iloc[-10:])\n",
    "#     stats.send_stats('data-size', len(training_df.index))\n",
    "\n",
    "#     sampled_df = training_df.sample(frac=0.1)\n",
    "#     print(sampled_df.head(10))\n",
    "#     print(sampled_df.iloc[-10:])\n",
    "#     return sampled_df\n",
    "    return training_df\n",
    "\n",
    "def load_training_data_cold(file, stats):\n",
    "    ratings_df = load_data_file_cold(file, stats)\n",
    "    print('creating data set')\n",
    "    training_ds = (\n",
    "        tf.data.Dataset.from_tensor_slices(\n",
    "            ({\n",
    "                \"viewer\": tf.cast(\n",
    "                    ratings_df['viewer'].values,\n",
    "                    tf.string),\n",
    "                \"viewer_gender\": tf.cast(\n",
    "                    ratings_df['viewer_gender'].values,\n",
    "                    tf.string),\n",
    "                \"viewer_lang\": tf.cast(\n",
    "                    ratings_df['viewer_lang'].values,\n",
    "                    tf.string),\n",
    "                \"viewer_country\": tf.cast(\n",
    "                    ratings_df['viewer_country'].values,\n",
    "                    tf.string),\n",
    "                \"viewer_age\": tf.cast(\n",
    "                    ratings_df['viewer_age'].values,\n",
    "                    tf.int32),\n",
    "                \"viewer_longitude\": tf.cast(\n",
    "                    ratings_df['viewer_longitude'].values,\n",
    "                    tf.float16),\n",
    "                \"viewer_latitude\": tf.cast(\n",
    "                    ratings_df['viewer_latitude'].values,\n",
    "                    tf.float16),\n",
    "                \"broadcaster\": tf.cast(\n",
    "                    ratings_df['broadcaster'].values,\n",
    "                    tf.string),\n",
    "                \"viewer_network\": tf.cast(\n",
    "                    ratings_df['viewer_network'].values,\n",
    "                    tf.string),\n",
    "                \"broadcaster_network\": tf.cast(\n",
    "                    ratings_df['broadcaster_network'].values,\n",
    "                    tf.string),\n",
    "                \"duration\": tf.cast(\n",
    "                    ratings_df['duration'].values,\n",
    "                    tf.float16),\n",
    "                \"count\": tf.cast(\n",
    "                    ratings_df['count'].values,\n",
    "                    tf.int16),\n",
    "            })))\n",
    "\n",
    "    return training_ds"
   ]
  },
  {
   "cell_type": "code",
   "execution_count": 9,
   "id": "8b85af5b",
   "metadata": {},
   "outputs": [
    {
     "name": "stdout",
     "output_type": "stream",
     "text": [
      "loading file:s3://ling-cold-start-data/2021-09-08/a3d86f3b-eb45-4641-b05d-30dff7423e6b.csv\n",
      "             viewer       broadcaster  viewer_age viewer_gender  \\\n",
      "0   meetme:19714617  meetme:242525021        39.0        female   \n",
      "1   skout:161675320   skout:167570679        46.0          male   \n",
      "2     pof:333093026      pof:77411971        28.0          male   \n",
      "3     pof:324991301     pof:207032171        39.0          male   \n",
      "4   skout:177541297  meetme:316500815        41.0          male   \n",
      "5  meetme:258247855  meetme:314497940        36.0          male   \n",
      "6    meetme:8237459  meetme:213050479        52.0          male   \n",
      "7   meetme:84182876   skout:175969618        32.0          male   \n",
      "8   skout:176797432  meetme:309441196        51.0          male   \n",
      "9  meetme:282314746  meetme:226200204        32.0          male   \n",
      "\n",
      "   viewer_longitude  viewer_latitude viewer_lang viewer_country  \\\n",
      "0       -118.380096        34.093899          en             US   \n",
      "1        120.963997        14.693000          en             GB   \n",
      "2        -81.500000        32.200001          en             US   \n",
      "3        -78.800003        35.799999          en             US   \n",
      "4        121.033997        14.795000          en             GB   \n",
      "5        -83.934097        43.431999          en             US   \n",
      "6        -83.958298        43.596802          en             US   \n",
      "7       -118.618896        34.493801          en             US   \n",
      "8         -0.122000        51.495998          fa             AF   \n",
      "9        106.908897        -6.238000          id             ID   \n",
      "\n",
      "   broadcaster_age broadcaster_gender  broadcaster_longitude  \\\n",
      "0             35.0             female             -87.625397   \n",
      "1             50.0             female             121.630997   \n",
      "2             26.0             female             -81.500000   \n",
      "3             44.0             female             -78.599998   \n",
      "4             88.0             female             121.987000   \n",
      "5             34.0             female             -73.986603   \n",
      "6             31.0             female            -122.296402   \n",
      "7             34.0             female            -117.202003   \n",
      "8             46.0             female              -0.238700   \n",
      "9             23.0             female             110.712196   \n",
      "\n",
      "   broadcaster_latitude broadcaster_lang broadcaster_country  duration  \\\n",
      "0             41.878201               en                  US     21448   \n",
      "1             18.358999               en                  PH      1789   \n",
      "2             31.200001               en                  US       561   \n",
      "3             35.799999               en                  US      1205   \n",
      "4              6.429600               en                  PH       369   \n",
      "5             40.715302               en                  US       775   \n",
      "6             47.661900               en                  US      2534   \n",
      "7             33.928001               en                  US      1467   \n",
      "8             51.796600               en                  GB        48   \n",
      "9             -7.614500               id                  ID      5264   \n",
      "\n",
      "  viewer_network broadcaster_network  count  \n",
      "0         meetme              meetme     24  \n",
      "1          skout               skout      7  \n",
      "2            pof                 pof      1  \n",
      "3            pof                 pof     10  \n",
      "4          skout              meetme      3  \n",
      "5         meetme              meetme      1  \n",
      "6         meetme              meetme      6  \n",
      "7         meetme               skout      5  \n",
      "8          skout              meetme      2  \n",
      "9         meetme              meetme     12  \n",
      "                   viewer       broadcaster  viewer_age viewer_gender  \\\n",
      "5383918  meetme:215524158  meetme:244277552        33.0          male   \n",
      "5383919     pof:332775044  meetme:288936283        42.0          male   \n",
      "5383920     pof:122027960     pof:315853960        62.0          male   \n",
      "5383921  meetme:280321264  meetme:279413006        41.0          male   \n",
      "5383922  meetme:318217193   skout:166467831        28.0          male   \n",
      "5383923     pof:333177416     pof:153199318        25.0          male   \n",
      "5383924   skout:158538302  meetme:267694898        23.0          male   \n",
      "5383925  meetme:273710830     pof:320108075        38.0          male   \n",
      "5383926     pof:333385326     pof:311492324        33.0          male   \n",
      "5383927  meetme:208894963  meetme:274258940        36.0          male   \n",
      "\n",
      "         viewer_longitude  viewer_latitude viewer_lang viewer_country  \\\n",
      "5383918        110.489304        -7.028100          id             ID   \n",
      "5383919       -113.900002        52.099998          en             US   \n",
      "5383920        -75.300003        40.000000          en             US   \n",
      "5383921       -119.765404        36.861599          en             US   \n",
      "5383922        -73.830002        40.830002          en             US   \n",
      "5383923        -81.599998        30.299999          en             US   \n",
      "5383924        -84.360001        33.914001          en             US   \n",
      "5383925        -83.964203        33.640499          en             US   \n",
      "5383926       -121.500000        38.599998          en             US   \n",
      "5383927        -89.897202        35.341400          en             US   \n",
      "\n",
      "         broadcaster_age broadcaster_gender  broadcaster_longitude  \\\n",
      "5383918             33.0             female             110.403503   \n",
      "5383919             26.0             female            -113.416000   \n",
      "5383920             31.0             female             -84.000000   \n",
      "5383921             34.0             female            -118.293999   \n",
      "5383922             34.0             female             -84.592003   \n",
      "5383923             33.0             female             -87.800003   \n",
      "5383924             27.0             female             -84.319000   \n",
      "5383925             35.0             female             -84.300003   \n",
      "5383926             42.0               male            -121.500000   \n",
      "5383927             24.0             female             -86.785004   \n",
      "\n",
      "         broadcaster_latitude broadcaster_lang broadcaster_country  duration  \\\n",
      "5383918             -7.262300               id                  ID       289   \n",
      "5383919             53.355301               en                  CA        66   \n",
      "5383920             34.000000               en                  US        73   \n",
      "5383921             33.888901               en                  US       732   \n",
      "5383922             33.803001               en                  US       115   \n",
      "5383923             41.900002               en                  US       198   \n",
      "5383924             33.512001               en                  US       676   \n",
      "5383925             33.599998               en                  US       262   \n",
      "5383926             38.599998               en                  US       236   \n",
      "5383927             35.994598               en                  US      3593   \n",
      "\n",
      "        viewer_network broadcaster_network  count  \n",
      "5383918         meetme              meetme      1  \n",
      "5383919            pof              meetme      1  \n",
      "5383920            pof                 pof      1  \n",
      "5383921         meetme              meetme      1  \n",
      "5383922         meetme               skout      1  \n",
      "5383923            pof                 pof      3  \n",
      "5383924          skout              meetme      1  \n",
      "5383925         meetme                 pof      1  \n",
      "5383926            pof                 pof      1  \n",
      "5383927         meetme              meetme      7  \n",
      "creating data set\n",
      "{'broadcaster': b'meetme:242525021',\n",
      " 'broadcaster_network': b'meetme',\n",
      " 'count': 24,\n",
      " 'duration': 21440.0,\n",
      " 'viewer': b'meetme:19714617',\n",
      " 'viewer_age': 39,\n",
      " 'viewer_country': b'US',\n",
      " 'viewer_gender': b'female',\n",
      " 'viewer_lang': b'en',\n",
      " 'viewer_latitude': 34.1,\n",
      " 'viewer_longitude': -118.4,\n",
      " 'viewer_network': b'meetme'}\n"
     ]
    }
   ],
   "source": [
    "ratings = load_training_data_cold(file=data_location, stats=\"\")\n",
    "\n",
    "for x in ratings.take(1).as_numpy_iterator():\n",
    "    pprint.pprint(x)"
   ]
  },
  {
   "cell_type": "markdown",
   "id": "abfa6e2b",
   "metadata": {},
   "source": [
    "### Model definition"
   ]
  },
  {
   "cell_type": "code",
   "execution_count": 10,
   "id": "6b7831fd",
   "metadata": {},
   "outputs": [],
   "source": [
    "def get_list(training_data, key):\n",
    "    return training_data.batch(1_000_000).map(lambda x: x[key], num_parallel_calls=tf.data.AUTOTUNE, deterministic=False)\n",
    "\n",
    "\n",
    "def get_unique_list(data):\n",
    "    return np.unique(np.concatenate(list(data)))"
   ]
  },
  {
   "cell_type": "code",
   "execution_count": 11,
   "id": "f1adc41e",
   "metadata": {
    "scrolled": true
   },
   "outputs": [
    {
     "name": "stdout",
     "output_type": "stream",
     "text": [
      "<tf.Tensor: shape=(1, 1000000), dtype=string, numpy=\n",
      "array([[b'female', b'male', b'male', ..., b'female', b'male', b'male']],\n",
      "      dtype=object)>\n"
     ]
    }
   ],
   "source": [
    "user_genders = get_list(ratings, 'viewer_gender')\n",
    "for x in user_genders.batch(1).take(1):\n",
    "    pprint.pprint(x[0:10])"
   ]
  },
  {
   "cell_type": "code",
   "execution_count": 12,
   "id": "9a3eb3c8",
   "metadata": {},
   "outputs": [
    {
     "name": "stdout",
     "output_type": "stream",
     "text": [
      "<tf.Tensor: shape=(10,), dtype=string, numpy=\n",
      "array([b'en', b'en', b'en', b'en', b'en', b'en', b'en', b'en', b'fa',\n",
      "       b'id'], dtype=object)>\n"
     ]
    }
   ],
   "source": [
    "user_langs = get_list(ratings, 'viewer_lang')\n",
    "for x in user_langs.batch(1).take(1):\n",
    "    pprint.pprint(x[0, :10])"
   ]
  },
  {
   "cell_type": "code",
   "execution_count": 13,
   "id": "1dc5018b",
   "metadata": {},
   "outputs": [
    {
     "name": "stdout",
     "output_type": "stream",
     "text": [
      "array([b'US', b'GB', b'US', b'US', b'GB', b'US', b'US', b'US', b'AF',\n",
      "       b'ID'], dtype=object)\n"
     ]
    }
   ],
   "source": [
    "user_countries = get_list(ratings, 'viewer_country')\n",
    "for x in user_countries.batch(1).take(1).as_numpy_iterator():\n",
    "    pprint.pprint(x[0, :10])"
   ]
  },
  {
   "cell_type": "code",
   "execution_count": 14,
   "id": "c0c221e8",
   "metadata": {},
   "outputs": [
    {
     "name": "stdout",
     "output_type": "stream",
     "text": [
      "array([39, 46, 28, 39, 41, 36, 52, 32, 51, 32], dtype=int32)\n"
     ]
    }
   ],
   "source": [
    "viewer_age = get_list(ratings, 'viewer_age')\n",
    "for x in viewer_age.batch(1).take(1).as_numpy_iterator():\n",
    "    pprint.pprint(x[0, :10])"
   ]
  },
  {
   "cell_type": "code",
   "execution_count": 15,
   "id": "0803883e",
   "metadata": {},
   "outputs": [
    {
     "name": "stdout",
     "output_type": "stream",
     "text": [
      "array([b'meetme', b'skout', b'pof', b'pof', b'skout', b'meetme',\n",
      "       b'meetme', b'meetme', b'skout', b'meetme'], dtype=object)\n"
     ]
    }
   ],
   "source": [
    "user_networks = get_list(ratings, 'viewer_network')\n",
    "for x in user_networks.batch(1).take(1).as_numpy_iterator():\n",
    "    pprint.pprint(x[0, :10])"
   ]
  },
  {
   "cell_type": "code",
   "execution_count": 16,
   "id": "6474ead5",
   "metadata": {},
   "outputs": [
    {
     "name": "stdout",
     "output_type": "stream",
     "text": [
      "[b'female' b'male']\n"
     ]
    }
   ],
   "source": [
    "unique_user_genders = get_unique_list(user_genders)\n",
    "print(unique_user_genders)"
   ]
  },
  {
   "cell_type": "code",
   "execution_count": 17,
   "id": "1b7fc808",
   "metadata": {},
   "outputs": [
    {
     "name": "stdout",
     "output_type": "stream",
     "text": [
      "[b'af' b'ar' b'az' b'bg' b'bn' b'bs' b'ca' b'cs' b'da' b'de' b'el' b'en'\n",
      " b'es' b'et' b'eu' b'fa' b'fi' b'fr' b'gl' b'gu' b'he' b'hi' b'hr' b'hu'\n",
      " b'id' b'in' b'it' b'iw' b'ja' b'ka' b'km' b'ko' b'ks' b'lo' b'lt' b'lv'\n",
      " b'mi' b'mk' b'ml' b'mr' b'ms' b'my' b'nb' b'ne' b'nl' b'pa' b'pl' b'ps'\n",
      " b'pt' b'ro' b'ru' b'sd' b'si' b'sk' b'sl' b'sq' b'sr' b'sv' b'ta' b'te'\n",
      " b'th' b'ti' b'tl' b'to' b'tr' b'uk' b'ur' b'uz' b'vi' b'zh']\n"
     ]
    }
   ],
   "source": [
    "unique_user_langs = get_unique_list(user_langs)\n",
    "print(unique_user_langs)"
   ]
  },
  {
   "cell_type": "code",
   "execution_count": 18,
   "id": "23ad5cf3",
   "metadata": {},
   "outputs": [
    {
     "name": "stdout",
     "output_type": "stream",
     "text": [
      "[b'419' b'AD' b'AE' b'AF' b'AG' b'AI' b'AL' b'AM' b'AO' b'AQ' b'AR' b'AS'\n",
      " b'AT' b'AU' b'AW' b'AX' b'AZ' b'BA' b'BB' b'BD' b'BE' b'BF' b'BG' b'BH'\n",
      " b'BI' b'BJ' b'BN' b'BO' b'BR' b'BS' b'BT' b'BV' b'BW' b'BY' b'BZ' b'CA'\n",
      " b'CD' b'CH' b'CI' b'CL' b'CM' b'CN' b'CO' b'CP' b'CR' b'CU' b'CV' b'CW'\n",
      " b'CY' b'CZ' b'DE' b'DK' b'DO' b'DZ' b'EA' b'EC' b'EE' b'EG' b'EN' b'ER'\n",
      " b'ES' b'ET' b'FI' b'FJ' b'FM' b'FR' b'GA' b'GB' b'GD' b'GE' b'GF' b'GH'\n",
      " b'GL' b'GM' b'GN' b'GP' b'GR' b'GT' b'GU' b'GW' b'HK' b'HN' b'HR' b'HT'\n",
      " b'HU' b'ID' b'IE' b'IL' b'IM' b'IN' b'IO' b'IQ' b'IR' b'IS' b'IT' b'JE'\n",
      " b'JM' b'JO' b'JP' b'KE' b'KH' b'KM' b'KR' b'KW' b'KY' b'KZ' b'LA' b'LB'\n",
      " b'LC' b'LI' b'LK' b'LT' b'LU' b'LV' b'LY' b'MA' b'MC' b'ME' b'MF' b'MG'\n",
      " b'MH' b'MK' b'ML' b'MM' b'MO' b'MP' b'MR' b'MT' b'MU' b'MV' b'MX' b'MY'\n",
      " b'MZ' b'NG' b'NI' b'NL' b'NO' b'NP' b'NZ' b'OM' b'PA' b'PE' b'PH' b'PK'\n",
      " b'PL' b'PR' b'PS' b'PT' b'PY' b'QA' b'RO' b'RS' b'RU' b'SA' b'SC' b'SD'\n",
      " b'SE' b'SG' b'SH' b'SI' b'SJ' b'SK' b'SM' b'SN' b'SS' b'ST' b'SV' b'SX'\n",
      " b'SY' b'TC' b'TD' b'TG' b'TH' b'TN' b'TR' b'TT' b'TW' b'TZ' b'UA' b'UG'\n",
      " b'UK' b'UM' b'US' b'UY' b'UZ' b'VE' b'VG' b'VI' b'VN' b'WF' b'XK' b'XL'\n",
      " b'YE' b'ZA' b'ZG' b'ZM' b'unknown']\n"
     ]
    }
   ],
   "source": [
    "unique_user_countries = get_unique_list(user_countries)\n",
    "print(unique_user_countries)"
   ]
  },
  {
   "cell_type": "code",
   "execution_count": 19,
   "id": "6564666a",
   "metadata": {},
   "outputs": [
    {
     "name": "stdout",
     "output_type": "stream",
     "text": [
      "[b'meetme' b'pof' b'skout' b'zoosk']\n"
     ]
    }
   ],
   "source": [
    "unique_user_networks = get_unique_list(user_networks)\n",
    "print(unique_user_networks)"
   ]
  },
  {
   "cell_type": "markdown",
   "id": "6d7aa501",
   "metadata": {},
   "source": [
    "### Candidate Models"
   ]
  },
  {
   "cell_type": "code",
   "execution_count": 20,
   "id": "616cc21b",
   "metadata": {},
   "outputs": [],
   "source": [
    "broadcaster_ids = get_list(ratings, 'broadcaster')"
   ]
  },
  {
   "cell_type": "code",
   "execution_count": 21,
   "id": "2c4efc60",
   "metadata": {},
   "outputs": [],
   "source": [
    "unique_broadcasters = get_unique_list(broadcaster_ids)"
   ]
  },
  {
   "cell_type": "code",
   "execution_count": 22,
   "id": "5d2923c4",
   "metadata": {},
   "outputs": [
    {
     "name": "stdout",
     "output_type": "stream",
     "text": [
      "[b'meetme:100081867' b'meetme:100104254' b'meetme:100114731' ...\n",
      " b'zoosk:ff0ba42fa32cddbec949c96694895fe2'\n",
      " b'zoosk:ff39ee369909e9bdef9e61bc5bb75155'\n",
      " b'zoosk:ffd69ee0bb59b722020f374298b9e0b9']\n"
     ]
    }
   ],
   "source": [
    "print(unique_broadcasters)"
   ]
  },
  {
   "cell_type": "code",
   "execution_count": 23,
   "id": "44b9119a",
   "metadata": {},
   "outputs": [],
   "source": [
    "class BroadcasterModel(tf.keras.Model):\n",
    "\n",
    "    def __init__(self, unique_movie_titles, dims):\n",
    "        super().__init__()\n",
    "\n",
    "        self.broadcaster_embedding = tf.keras.Sequential([\n",
    "            tf.keras.layers.experimental.preprocessing.StringLookup(\n",
    "                vocabulary=unique_movie_titles, mask_token=None),\n",
    "            tf.keras.layers.Embedding(len(unique_movie_titles) + 1, dims)\n",
    "        ])\n",
    "\n",
    "    def call(self, broadcaster):\n",
    "        return tf.concat([\n",
    "            self.broadcaster_embedding(broadcaster),\n",
    "        ], axis=1)"
   ]
  },
  {
   "cell_type": "markdown",
   "id": "5eefc2e2",
   "metadata": {},
   "source": [
    "### Combined model"
   ]
  },
  {
   "cell_type": "code",
   "execution_count": 24,
   "id": "be5b1df4",
   "metadata": {},
   "outputs": [],
   "source": [
    "def get_broadcaster_data_set(train_ds):\n",
    "    broadcasters = train_ds.cache().map(lambda x: x[\"broadcaster\"], num_parallel_calls=tf.data.AUTOTUNE, deterministic=False)\n",
    "    broadcasters_ds = tf.data.Dataset.from_tensor_slices(\n",
    "        np.unique(list(broadcasters.as_numpy_iterator())))\n",
    "    return broadcasters_ds"
   ]
  },
  {
   "cell_type": "code",
   "execution_count": 25,
   "id": "d43cabe1",
   "metadata": {},
   "outputs": [],
   "source": [
    "broadcasters_data_set = get_broadcaster_data_set(ratings)"
   ]
  },
  {
   "cell_type": "code",
   "execution_count": 26,
   "id": "40a659ac",
   "metadata": {},
   "outputs": [],
   "source": [
    "tf.random.set_seed(42)\n",
    "shuffled = ratings.shuffle(100_000, seed=42, reshuffle_each_iteration=False)\n",
    "\n",
    "train = shuffled.take(80_000)\n",
    "test = shuffled.skip(80_000).take(20_000)\n",
    "\n",
    "cached_train = train.shuffle(100_000).batch(2048)\n",
    "cached_test = test.batch(4096).cache()"
   ]
  },
  {
   "cell_type": "code",
   "execution_count": 27,
   "id": "aca35bc8",
   "metadata": {},
   "outputs": [],
   "source": [
    "class UserModel(tf.keras.Model):\n",
    "\n",
    "    def __init__(self, unique_genders, unique_langs, unique_countries, unique_networks, viewer_age):\n",
    "        super().__init__()\n",
    "\n",
    "        self.gender_embedding = tf.keras.Sequential([\n",
    "            tf.keras.layers.experimental.preprocessing.StringLookup(\n",
    "                vocabulary=unique_genders, mask_token=None),\n",
    "            tf.keras.layers.Embedding(len(unique_genders) + 1, 4),\n",
    "        ])\n",
    "        \n",
    "        self.lang_embedding = tf.keras.Sequential([\n",
    "            tf.keras.layers.experimental.preprocessing.StringLookup(\n",
    "                vocabulary=unique_langs, mask_token=None),\n",
    "            tf.keras.layers.Embedding(len(unique_langs) + 1, 11),\n",
    "        ])\n",
    "        \n",
    "        self.country_embedding = tf.keras.Sequential([\n",
    "            tf.keras.layers.experimental.preprocessing.StringLookup(\n",
    "                vocabulary=unique_countries, mask_token=None),\n",
    "            tf.keras.layers.Embedding(len(unique_countries) + 1, 11),\n",
    "        ])\n",
    "        \n",
    "        self.network_embedding = tf.keras.Sequential([\n",
    "            tf.keras.layers.experimental.preprocessing.StringLookup(\n",
    "                vocabulary=unique_networks, mask_token=None),\n",
    "            tf.keras.layers.Embedding(len(unique_networks) + 1, 5),\n",
    "        ])\n",
    "        \n",
    "        self.normalized_age = tf.keras.layers.experimental.preprocessing.Normalization(axis = None)\n",
    "        self.normalized_age.adapt(viewer_age)\n",
    "\n",
    "    def call(self, inputs):\n",
    "        return tf.concat([\n",
    "            self.gender_embedding(inputs[\"viewer_gender\"]),\n",
    "            self.lang_embedding(inputs[\"viewer_lang\"]),\n",
    "            self.country_embedding(inputs[\"viewer_country\"]),\n",
    "            self.network_embedding(inputs[\"viewer_network\"]),\n",
    "            tf.reshape(self.normalized_age(inputs[\"viewer_age\"]), (-1, 1))\n",
    "        ], axis=1)"
   ]
  },
  {
   "cell_type": "code",
   "execution_count": 28,
   "id": "5471910c",
   "metadata": {},
   "outputs": [],
   "source": [
    "class FinalModel(tfrs.models.Model) :\n",
    "\n",
    "\tdef __init__(self, unique_genders, unique_langs, unique_countries, unique_networks, viewer_age, unique_movie_titles, dims) :\n",
    "\t\tsuper().__init__()\n",
    "\t\tself.user_model = tf.keras.Sequential([\n",
    "\t\t\tUserModel(unique_genders, unique_langs, unique_countries, unique_networks, viewer_age),\n",
    "\t\t\ttf.keras.layers.Dense(32)\n",
    "\t\t])\n",
    "        \n",
    "\t\tself.candidate_model = tf.keras.Sequential([\n",
    "\t\t\tBroadcasterModel(unique_movie_titles, dims),\n",
    "\t\t\ttf.keras.layers.Dense(32)\n",
    "\t\t])\n",
    "        \n",
    "\t\tself.task = tfrs.tasks.Retrieval(\n",
    "\t\t\tmetrics = tfrs.metrics.FactorizedTopK(\n",
    "\t\t\t\tcandidates=broadcasters_data_set.batch(128).map(self.candidate_model),\n",
    "\t\t\t),\n",
    "\t\t)\n",
    "\n",
    "\tdef compute_loss(self, features, training = False) :\n",
    "\t\tuser_embeddings = self.user_model({\n",
    "\t\t\t\t\"viewer_gender\": features[\"viewer_gender\"],\n",
    "\t\t\t\t\"viewer_lang\": features[\"viewer_lang\"],\n",
    "\t\t\t\t\"viewer_country\": features[\"viewer_country\"],\n",
    "\t\t\t\t\"viewer_network\": features[\"viewer_network\"],\n",
    "\t\t\t\t\"viewer_age\": features[\"viewer_age\"],\n",
    "\t\t\t})\n",
    "\t\tbroadcaster_embeddings = self.candidate_model(features[\"broadcaster\"], 32)\n",
    "\n",
    "\t\treturn self.task(user_embeddings, broadcaster_embeddings)"
   ]
  },
  {
   "cell_type": "code",
   "execution_count": 29,
   "id": "b102d522",
   "metadata": {},
   "outputs": [],
   "source": [
    "broadcaster_embedding_dimension = 32"
   ]
  },
  {
   "cell_type": "code",
   "execution_count": 30,
   "id": "5a418cbf",
   "metadata": {},
   "outputs": [
    {
     "name": "stdout",
     "output_type": "stream",
     "text": [
      "WARNING:tensorflow:Layers in a Sequential model should only have a single input tensor, but we receive a <class 'dict'> input: {'viewer_gender': <tf.Tensor 'IteratorGetNext:7' shape=(None,) dtype=string>, 'viewer_lang': <tf.Tensor 'IteratorGetNext:8' shape=(None,) dtype=string>, 'viewer_country': <tf.Tensor 'IteratorGetNext:6' shape=(None,) dtype=string>, 'viewer_network': <tf.Tensor 'IteratorGetNext:11' shape=(None,) dtype=string>, 'viewer_age': <tf.Tensor 'IteratorGetNext:5' shape=(None,) dtype=int32>}\n",
      "Consider rewriting this model with the Functional API.\n",
      "WARNING:tensorflow:From /home/ec2-user/anaconda3/envs/python3/lib/python3.6/site-packages/tensorflow/python/ops/array_ops.py:5049: calling gather (from tensorflow.python.ops.array_ops) with validate_indices is deprecated and will be removed in a future version.\n",
      "Instructions for updating:\n",
      "The `validate_indices` argument has no effect. Indices are always validated on CPU and never validated on GPU.\n",
      "WARNING:tensorflow:Layers in a Sequential model should only have a single input tensor, but we receive a <class 'dict'> input: {'viewer_gender': <tf.Tensor 'IteratorGetNext:7' shape=(None,) dtype=string>, 'viewer_lang': <tf.Tensor 'IteratorGetNext:8' shape=(None,) dtype=string>, 'viewer_country': <tf.Tensor 'IteratorGetNext:6' shape=(None,) dtype=string>, 'viewer_network': <tf.Tensor 'IteratorGetNext:11' shape=(None,) dtype=string>, 'viewer_age': <tf.Tensor 'IteratorGetNext:5' shape=(None,) dtype=int32>}\n",
      "Consider rewriting this model with the Functional API.\n",
      "40/40 [==============================] - 447s 11s/step - factorized_top_k/top_1_categorical_accuracy: 0.0068 - factorized_top_k/top_5_categorical_accuracy: 0.0135 - factorized_top_k/top_10_categorical_accuracy: 0.0182 - factorized_top_k/top_50_categorical_accuracy: 0.0421 - factorized_top_k/top_100_categorical_accuracy: 0.0628 - loss: 14359.9049 - regularization_loss: 0.0000e+00 - total_loss: 14359.9049\n",
      "WARNING:tensorflow:Layers in a Sequential model should only have a single input tensor, but we receive a <class 'dict'> input: {'viewer_gender': <tf.Tensor 'IteratorGetNext:7' shape=(None,) dtype=string>, 'viewer_lang': <tf.Tensor 'IteratorGetNext:8' shape=(None,) dtype=string>, 'viewer_country': <tf.Tensor 'IteratorGetNext:6' shape=(None,) dtype=string>, 'viewer_network': <tf.Tensor 'IteratorGetNext:11' shape=(None,) dtype=string>, 'viewer_age': <tf.Tensor 'IteratorGetNext:5' shape=(None,) dtype=int32>}\n",
      "Consider rewriting this model with the Functional API.\n",
      "40/40 [==============================] - 448s 11s/step - factorized_top_k/top_1_categorical_accuracy: 0.0013 - factorized_top_k/top_5_categorical_accuracy: 0.0089 - factorized_top_k/top_10_categorical_accuracy: 0.0164 - factorized_top_k/top_50_categorical_accuracy: 0.0615 - factorized_top_k/top_100_categorical_accuracy: 0.1033 - loss: 13259.1552 - regularization_loss: 0.0000e+00 - total_loss: 13259.1552\n",
      "5/5 [==============================] - 112s 22s/step - factorized_top_k/top_1_categorical_accuracy: 6.0000e-04 - factorized_top_k/top_5_categorical_accuracy: 0.0043 - factorized_top_k/top_10_categorical_accuracy: 0.0076 - factorized_top_k/top_50_categorical_accuracy: 0.0370 - factorized_top_k/top_100_categorical_accuracy: 0.0637 - loss: 30675.3258 - regularization_loss: 0.0000e+00 - total_loss: 30675.3258\n",
      "Top-100 accuracy (train): 0.10.\n",
      "Top-100 accuracy (test): 0.06.\n"
     ]
    }
   ],
   "source": [
    "model = FinalModel(unique_user_genders, unique_user_langs, unique_user_countries,  unique_user_networks, viewer_age, unique_broadcasters, broadcaster_embedding_dimension)\n",
    "model.compile(optimizer=tf.keras.optimizers.Adagrad(0.1))\n",
    "\n",
    "model.fit(cached_train, epochs=1)\n",
    "\n",
    "train_accuracy = model.evaluate(\n",
    "    cached_train, return_dict=True)[\"factorized_top_k/top_100_categorical_accuracy\"]\n",
    "test_accuracy = model.evaluate(\n",
    "    cached_test, return_dict=True)[\"factorized_top_k/top_100_categorical_accuracy\"]\n",
    "\n",
    "print(f\"Top-100 accuracy (train): {train_accuracy:.2f}.\")\n",
    "print(f\"Top-100 accuracy (test): {test_accuracy:.2f}.\")"
   ]
  },
  {
   "cell_type": "code",
   "execution_count": null,
   "id": "ea69ebd9",
   "metadata": {},
   "outputs": [],
   "source": []
  }
 ],
 "metadata": {
  "kernelspec": {
   "display_name": "Python 3",
   "language": "python",
   "name": "python3"
  },
  "language_info": {
   "codemirror_mode": {
    "name": "ipython",
    "version": 3
   },
   "file_extension": ".py",
   "mimetype": "text/x-python",
   "name": "python",
   "nbconvert_exporter": "python",
   "pygments_lexer": "ipython3",
   "version": "3.7.7"
  }
 },
 "nbformat": 4,
 "nbformat_minor": 5
}
