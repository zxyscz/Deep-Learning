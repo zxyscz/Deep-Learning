{
 "cells": [
  {
   "cell_type": "markdown",
   "id": "60a09534",
   "metadata": {},
   "source": [
    "### Read-in downloaded data"
   ]
  },
  {
   "cell_type": "code",
   "execution_count": 2,
   "id": "aed38d4a",
   "metadata": {},
   "outputs": [],
   "source": [
    "import numpy as np\n",
    "import pandas as pd\n",
    "import tensorflow as tf"
   ]
  },
  {
   "cell_type": "code",
   "execution_count": 3,
   "id": "fb731a9a",
   "metadata": {},
   "outputs": [],
   "source": [
    "def load_data_file_cold(file, stats):\n",
    "    print('loading file:' + file)\n",
    "    training_df = pd.read_csv(\n",
    "        \"csv/\" + file,\n",
    "        skiprows=[0],\n",
    "        names=[\"viewer\",\"broadcaster\",\"viewer_age\",\"viewer_gender\",\"viewer_longitude\",\"viewer_latitude\",\"viewer_lang\",\"viewer_country\",\"broadcaster_age\",\"broadcaster_gender\",\"broadcaster_longitude\",\"broadcaster_latitude\",\"broadcaster_lang\",\"broadcaster_country\",\"duration\", \"viewer_network\", \"broadcaster_network\", \"count\"], dtype={\n",
    "            'viewer': np.unicode,\n",
    "            'broadcaster': np.unicode,\n",
    "            'viewer_age': np.single,\n",
    "            'viewer_gender': np.unicode,\n",
    "            'viewer_longitude': np.single,\n",
    "            'viewer_latitude': np.single,\n",
    "            'viewer_lang': np.unicode,\n",
    "            'viewer_country': np.unicode,\n",
    "            'broadcaster_age': np.single,\n",
    "            'broadcaster_longitude': np.single,\n",
    "            'broadcaster_latitude': np.single,\n",
    "            'broadcaster_lang': np.unicode,\n",
    "            'broadcaster_country': np.unicode,\n",
    "            'viewer_network': np.unicode,\n",
    "            'broadcaster_network': np.unicode,\n",
    "            'count': np.int\n",
    "        })\n",
    "\n",
    "    values = {\n",
    "        'viewer': 'unknown',\n",
    "        'broadcaster': 'unknown',\n",
    "        'viewer_age': 30,\n",
    "        'viewer_gender': 'unknown',\n",
    "        'viewer_longitude': 0,\n",
    "        'viewer_latitude': 0,\n",
    "        'viewer_lang': 'unknown',\n",
    "        'viewer_country': 'unknown',\n",
    "        'broadcaster_age': 30,\n",
    "        'broadcaster_longitude': 0,\n",
    "        'broadcaster_latitude': 0,\n",
    "        'broadcaster_lang': 'unknown',\n",
    "        'broadcaster_country': 'unknown',\n",
    "        'duration': 0,\n",
    "        'viewer_network': 'unknown',\n",
    "        'broadcaster_network': 'unknown',\n",
    "        'count': 0\n",
    "    }\n",
    "    training_df.fillna(value=values, inplace=True)\n",
    "    print(training_df.head(10))\n",
    "    print(training_df.iloc[-10:])\n",
    "#     stats.send_stats('data-size', len(training_df.index))\n",
    "    sampled_df = training_df.sample(frac=0.1)\n",
    "    return sampled_df\n",
    "\n",
    "\n",
    "def load_training_data_cold(file, stats):\n",
    "    ratings_df = load_data_file_cold(file, stats)\n",
    "    print('creating data set')\n",
    "    training_ds = (\n",
    "        tf.data.Dataset.from_tensor_slices(\n",
    "            ({\n",
    "                \"viewer\": tf.cast(\n",
    "                    ratings_df['viewer'].values,\n",
    "                    tf.string),\n",
    "                \"viewer_gender\": tf.cast(\n",
    "                    ratings_df['viewer_gender'].values,\n",
    "                    tf.string),\n",
    "                \"viewer_lang\": tf.cast(\n",
    "                    ratings_df['viewer_lang'].values,\n",
    "                    tf.string),\n",
    "                \"viewer_country\": tf.cast(\n",
    "                    ratings_df['viewer_country'].values,\n",
    "                    tf.string),\n",
    "                \"viewer_age\": tf.cast(\n",
    "                    ratings_df['viewer_age'].values,\n",
    "                    tf.int32),\n",
    "                \"viewer_longitude\": tf.cast(\n",
    "                    ratings_df['viewer_longitude'].values,\n",
    "                    tf.float16),\n",
    "                \"viewer_latitude\": tf.cast(\n",
    "                    ratings_df['viewer_latitude'].values,\n",
    "                    tf.float16),\n",
    "                \"broadcaster\": tf.cast(\n",
    "                    ratings_df['broadcaster'].values,\n",
    "                    tf.string),\n",
    "                \"viewer_network\": tf.cast(\n",
    "                    ratings_df['viewer_network'].values,\n",
    "                    tf.string),\n",
    "                \"broadcaster_network\": tf.cast(\n",
    "                    ratings_df['broadcaster_network'].values,\n",
    "                    tf.string),\n",
    "            })))\n",
    "\n",
    "    return training_ds"
   ]
  },
  {
   "cell_type": "code",
   "execution_count": 4,
   "id": "944d5946",
   "metadata": {},
   "outputs": [],
   "source": [
    "def prepare_training_data_cold(train_ds):\n",
    "    print('prepare_training_data')\n",
    "    training_ds = train_ds.cache().map(lambda x: {\n",
    "        \"broadcaster\": x[\"broadcaster\"],\n",
    "        \"viewer\": x[\"viewer\"],\n",
    "        \"viewer_gender\": x[\"viewer_gender\"],\n",
    "        \"viewer_lang\": x[\"viewer_lang\"],\n",
    "        \"viewer_country\": x[\"viewer_country\"],\n",
    "        \"viewer_age\": x[\"viewer_age\"],\n",
    "        \"viewer_longitude\": x[\"viewer_longitude\"],\n",
    "        \"viewer_latitude\": x[\"viewer_latitude\"],\n",
    "        \"viewer_network\": x[\"viewer_network\"],\n",
    "        \"broadcaster_network\": x[\"broadcaster_network\"],\n",
    "    }, num_parallel_calls=tf.data.AUTOTUNE,\n",
    "       deterministic=False)\n",
    "\n",
    "    print('done prepare_training_data')\n",
    "    return training_ds\n",
    "\n",
    "def get_broadcaster_data_set(train_ds):\n",
    "    broadcasters = train_ds.cache().map(lambda x: x[\"broadcaster\"], num_parallel_calls=tf.data.AUTOTUNE, deterministic=False)\n",
    "    broadcasters_ds = tf.data.Dataset.from_tensor_slices(\n",
    "        np.unique(list(broadcasters.as_numpy_iterator())))\n",
    "    return broadcasters_ds\n",
    "\n",
    "def get_list(training_data, key):\n",
    "    return training_data.batch(1_000_000).map(lambda x: x[key], num_parallel_calls=tf.data.AUTOTUNE, deterministic=False)\n",
    "\n",
    "def get_unique_list(data):\n",
    "    return np.unique(np.concatenate(list(data)))"
   ]
  },
  {
   "cell_type": "code",
   "execution_count": 5,
   "id": "376a63c2",
   "metadata": {},
   "outputs": [
    {
     "name": "stdout",
     "output_type": "stream",
     "text": [
      "loading file:0e9cd673-8e06-4810-b370-8b9930ee312a.csv\n",
      "             viewer       broadcaster  viewer_age viewer_gender  \\\n",
      "0     pof:333765857     pof:306180728        30.0          male   \n",
      "1  meetme:277560515  meetme:234128276        40.0        female   \n",
      "2     pof:290015550  meetme:318374085        25.0          male   \n",
      "3   meetme:57803631  meetme:272213699        24.0          male   \n",
      "4  meetme:177581880   skout:178541757        39.0          male   \n",
      "5  meetme:250326980  meetme:220423595        38.0          male   \n",
      "6  meetme:317803066   skout:162535474        25.0        female   \n",
      "7  meetme:318423667   skout:162535474        25.0        female   \n",
      "8   skout:179246014     pof:322295296        33.0          male   \n",
      "9   skout:184177791   skout:182825538        27.0        female   \n",
      "\n",
      "   viewer_longitude  viewer_latitude viewer_lang viewer_country  \\\n",
      "0        -96.699997        32.900002          en             US   \n",
      "1        151.207108       -33.867100          en             US   \n",
      "2        -82.400002        29.600000          en             US   \n",
      "3        -77.603600        -9.322500          es             ES   \n",
      "4        -95.576897        30.724001          en             US   \n",
      "5        -98.172600        26.288700          es             US   \n",
      "6         39.172901        21.543301          en             US   \n",
      "7        120.957199        14.865000          en             US   \n",
      "8         -0.150000        51.467999          en             GB   \n",
      "9       -112.075996        33.397999          en             US   \n",
      "\n",
      "   broadcaster_age broadcaster_gender  broadcaster_longitude  \\\n",
      "0             37.0             female             -90.000000   \n",
      "1             33.0               male            -118.380096   \n",
      "2             43.0             female             -82.599503   \n",
      "3             33.0             female             -71.348999   \n",
      "4             36.0             female            -117.210999   \n",
      "5             22.0             female             -73.906998   \n",
      "6             33.0               male             120.945999   \n",
      "7             33.0               male             120.945999   \n",
      "8             23.0             female              -2.200000   \n",
      "9             28.0             female             -98.438004   \n",
      "\n",
      "   broadcaster_latitude broadcaster_lang broadcaster_country  duration  \\\n",
      "0             35.000000               en                  US     11891   \n",
      "1             34.093899               en                  US       173   \n",
      "2             29.647600               en                  US       248   \n",
      "3            -33.050301               es                  CL     10544   \n",
      "4             34.132999               en                  US        98   \n",
      "5             40.723099               es                  US        89   \n",
      "6             14.956000               en                  PH       362   \n",
      "7             14.956000               en                  PH        66   \n",
      "8             53.500000               en                  GB      1026   \n",
      "9             29.344999               en                  US     16675   \n",
      "\n",
      "  viewer_network broadcaster_network  count  \n",
      "0            pof                 pof      7  \n",
      "1         meetme              meetme      2  \n",
      "2            pof              meetme      2  \n",
      "3         meetme              meetme      3  \n",
      "4         meetme               skout      1  \n",
      "5         meetme              meetme     19  \n",
      "6         meetme               skout      5  \n",
      "7         meetme               skout      2  \n",
      "8          skout                 pof      1  \n",
      "9          skout               skout     10  \n",
      "                   viewer       broadcaster  viewer_age viewer_gender  \\\n",
      "5243842     pof:311770835  meetme:287392179        31.0        female   \n",
      "5243843  meetme:286083079  meetme:253220370        48.0          male   \n",
      "5243844  meetme:313778113     pof:242419710        29.0          male   \n",
      "5243845     pof:247313582     pof:331129883        29.0          male   \n",
      "5243846  meetme:316050635     pof:330312236        28.0        female   \n",
      "5243847  meetme:281090708   skout:165938290        23.0          male   \n",
      "5243848    skout:92403430    skout:62853193        28.0          male   \n",
      "5243849  meetme:318344874     pof:331388052        21.0          male   \n",
      "5243850     pof:317145972  meetme:266918090        44.0          male   \n",
      "5243851     pof:304462712     pof:329246893        34.0          male   \n",
      "\n",
      "         viewer_longitude  viewer_latitude viewer_lang viewer_country  \\\n",
      "5243842       -118.199997        33.900002          en             US   \n",
      "5243843        -81.331200        28.588301          en             US   \n",
      "5243844        -82.500900        27.532301          en             US   \n",
      "5243845        -95.500000        29.900000          en             US   \n",
      "5243846        -71.057297        42.357498          en             US   \n",
      "5243847        -80.627403        -5.190300          es             ES   \n",
      "5243848        120.537003        22.546000          zh             TW   \n",
      "5243849        -73.994499        40.752102          en             US   \n",
      "5243850       -120.400002        34.700001          en             US   \n",
      "5243851        -98.500000        29.500000          en             US   \n",
      "\n",
      "         broadcaster_age broadcaster_gender  broadcaster_longitude  \\\n",
      "5243842             33.0               male             -77.449501   \n",
      "5243843             28.0             female             -81.263199   \n",
      "5243844             37.0             female             -82.500000   \n",
      "5243845             41.0             female             -95.199997   \n",
      "5243846             29.0             female             -73.900002   \n",
      "5243847             29.0               male             -87.783997   \n",
      "5243848             31.0             female             120.959999   \n",
      "5243849             28.0             female             -73.900002   \n",
      "5243850             31.0             female             -81.331200   \n",
      "5243851             34.0             female             -81.500000   \n",
      "\n",
      "         broadcaster_latitude broadcaster_lang broadcaster_country  duration  \\\n",
      "5243842             37.338200               en                  US       301   \n",
      "5243843             28.625601               en                  US        50   \n",
      "5243844             27.500000               en                  US       308   \n",
      "5243845             29.900000               en                  US       403   \n",
      "5243846             40.799999               en                  US       105   \n",
      "5243847             41.848000               en                  US       812   \n",
      "5243848             22.532000               zh                  TW      1139   \n",
      "5243849             40.799999               en                  US        68   \n",
      "5243850             28.588301               en                  US       112   \n",
      "5243851             30.200001               en                  US       129   \n",
      "\n",
      "        viewer_network broadcaster_network  count  \n",
      "5243842            pof              meetme      1  \n",
      "5243843         meetme              meetme      2  \n",
      "5243844         meetme                 pof      1  \n",
      "5243845            pof                 pof      1  \n",
      "5243846         meetme                 pof      1  \n",
      "5243847         meetme               skout      2  \n",
      "5243848          skout               skout      1  \n",
      "5243849         meetme                 pof      1  \n",
      "5243850            pof              meetme      1  \n",
      "5243851            pof                 pof      3  \n",
      "creating data set\n"
     ]
    }
   ],
   "source": [
    "training_dataset = load_training_data_cold(file=\"0e9cd673-8e06-4810-b370-8b9930ee312a.csv\", stats=\"\")"
   ]
  },
  {
   "cell_type": "code",
   "execution_count": 6,
   "id": "101325f3",
   "metadata": {},
   "outputs": [
    {
     "name": "stdout",
     "output_type": "stream",
     "text": [
      "prepare_training_data\n",
      "WARNING:tensorflow:AutoGraph could not transform <function prepare_training_data_cold.<locals>.<lambda> at 0x7fe56b383680> and will run it as-is.\n",
      "Please report this to the TensorFlow team. When filing the bug, set the verbosity to 10 (on Linux, `export AUTOGRAPH_VERBOSITY=10`) and attach the full output.\n",
      "Cause: module 'gast' has no attribute 'Constant'\n",
      "To silence this warning, decorate the function with @tf.autograph.experimental.do_not_convert\n",
      "WARNING: AutoGraph could not transform <function prepare_training_data_cold.<locals>.<lambda> at 0x7fe56b383680> and will run it as-is.\n",
      "Please report this to the TensorFlow team. When filing the bug, set the verbosity to 10 (on Linux, `export AUTOGRAPH_VERBOSITY=10`) and attach the full output.\n",
      "Cause: module 'gast' has no attribute 'Constant'\n",
      "To silence this warning, decorate the function with @tf.autograph.experimental.do_not_convert\n",
      "done prepare_training_data\n"
     ]
    }
   ],
   "source": [
    "train = prepare_training_data_cold(training_dataset)"
   ]
  },
  {
   "cell_type": "code",
   "execution_count": 7,
   "id": "a3567a3b",
   "metadata": {},
   "outputs": [
    {
     "name": "stdout",
     "output_type": "stream",
     "text": [
      "WARNING:tensorflow:AutoGraph could not transform <function get_broadcaster_data_set.<locals>.<lambda> at 0x7fe56b383c20> and will run it as-is.\n",
      "Please report this to the TensorFlow team. When filing the bug, set the verbosity to 10 (on Linux, `export AUTOGRAPH_VERBOSITY=10`) and attach the full output.\n",
      "Cause: module 'gast' has no attribute 'Constant'\n",
      "To silence this warning, decorate the function with @tf.autograph.experimental.do_not_convert\n",
      "WARNING: AutoGraph could not transform <function get_broadcaster_data_set.<locals>.<lambda> at 0x7fe56b383c20> and will run it as-is.\n",
      "Please report this to the TensorFlow team. When filing the bug, set the verbosity to 10 (on Linux, `export AUTOGRAPH_VERBOSITY=10`) and attach the full output.\n",
      "Cause: module 'gast' has no attribute 'Constant'\n",
      "To silence this warning, decorate the function with @tf.autograph.experimental.do_not_convert\n"
     ]
    }
   ],
   "source": [
    "broadcasters_data_set = get_broadcaster_data_set(training_dataset)"
   ]
  },
  {
   "cell_type": "code",
   "execution_count": 8,
   "id": "c141184b",
   "metadata": {},
   "outputs": [],
   "source": [
    "def get_list(training_data, key):\n",
    "    return training_data.batch(1_000_000).map(lambda x: x[key], num_parallel_calls=tf.data.AUTOTUNE, deterministic=False)\n",
    "\n",
    "\n",
    "def get_unique_list(data):\n",
    "    return np.unique(np.concatenate(list(data)))"
   ]
  },
  {
   "cell_type": "code",
   "execution_count": 9,
   "id": "1b746f13",
   "metadata": {
    "scrolled": true
   },
   "outputs": [
    {
     "name": "stdout",
     "output_type": "stream",
     "text": [
      "WARNING:tensorflow:AutoGraph could not transform <function get_list.<locals>.<lambda> at 0x7fe56b3ae7a0> and will run it as-is.\n",
      "Please report this to the TensorFlow team. When filing the bug, set the verbosity to 10 (on Linux, `export AUTOGRAPH_VERBOSITY=10`) and attach the full output.\n",
      "Cause: module 'gast' has no attribute 'Constant'\n",
      "To silence this warning, decorate the function with @tf.autograph.experimental.do_not_convert\n",
      "WARNING: AutoGraph could not transform <function get_list.<locals>.<lambda> at 0x7fe56b3ae7a0> and will run it as-is.\n",
      "Please report this to the TensorFlow team. When filing the bug, set the verbosity to 10 (on Linux, `export AUTOGRAPH_VERBOSITY=10`) and attach the full output.\n",
      "Cause: module 'gast' has no attribute 'Constant'\n",
      "To silence this warning, decorate the function with @tf.autograph.experimental.do_not_convert\n"
     ]
    }
   ],
   "source": [
    "user_genders = get_list(train, 'viewer_gender')"
   ]
  },
  {
   "cell_type": "code",
   "execution_count": 10,
   "id": "b9834c68",
   "metadata": {},
   "outputs": [
    {
     "name": "stdout",
     "output_type": "stream",
     "text": [
      "WARNING:tensorflow:AutoGraph could not transform <function get_list.<locals>.<lambda> at 0x7fe5b9eaac20> and will run it as-is.\n",
      "Please report this to the TensorFlow team. When filing the bug, set the verbosity to 10 (on Linux, `export AUTOGRAPH_VERBOSITY=10`) and attach the full output.\n",
      "Cause: module 'gast' has no attribute 'Constant'\n",
      "To silence this warning, decorate the function with @tf.autograph.experimental.do_not_convert\n",
      "WARNING: AutoGraph could not transform <function get_list.<locals>.<lambda> at 0x7fe5b9eaac20> and will run it as-is.\n",
      "Please report this to the TensorFlow team. When filing the bug, set the verbosity to 10 (on Linux, `export AUTOGRAPH_VERBOSITY=10`) and attach the full output.\n",
      "Cause: module 'gast' has no attribute 'Constant'\n",
      "To silence this warning, decorate the function with @tf.autograph.experimental.do_not_convert\n"
     ]
    }
   ],
   "source": [
    "user_langs = get_list(train, 'viewer_lang')"
   ]
  },
  {
   "cell_type": "code",
   "execution_count": 11,
   "id": "322ba014",
   "metadata": {},
   "outputs": [
    {
     "name": "stdout",
     "output_type": "stream",
     "text": [
      "WARNING:tensorflow:AutoGraph could not transform <function get_list.<locals>.<lambda> at 0x7fe4c8d97050> and will run it as-is.\n",
      "Please report this to the TensorFlow team. When filing the bug, set the verbosity to 10 (on Linux, `export AUTOGRAPH_VERBOSITY=10`) and attach the full output.\n",
      "Cause: module 'gast' has no attribute 'Constant'\n",
      "To silence this warning, decorate the function with @tf.autograph.experimental.do_not_convert\n",
      "WARNING: AutoGraph could not transform <function get_list.<locals>.<lambda> at 0x7fe4c8d97050> and will run it as-is.\n",
      "Please report this to the TensorFlow team. When filing the bug, set the verbosity to 10 (on Linux, `export AUTOGRAPH_VERBOSITY=10`) and attach the full output.\n",
      "Cause: module 'gast' has no attribute 'Constant'\n",
      "To silence this warning, decorate the function with @tf.autograph.experimental.do_not_convert\n"
     ]
    }
   ],
   "source": [
    "user_countries = get_list(train, 'viewer_country')"
   ]
  },
  {
   "cell_type": "code",
   "execution_count": 12,
   "id": "badf8f88",
   "metadata": {},
   "outputs": [
    {
     "name": "stdout",
     "output_type": "stream",
     "text": [
      "WARNING:tensorflow:AutoGraph could not transform <function get_list.<locals>.<lambda> at 0x7fe4c8d6d0e0> and will run it as-is.\n",
      "Please report this to the TensorFlow team. When filing the bug, set the verbosity to 10 (on Linux, `export AUTOGRAPH_VERBOSITY=10`) and attach the full output.\n",
      "Cause: module 'gast' has no attribute 'Constant'\n",
      "To silence this warning, decorate the function with @tf.autograph.experimental.do_not_convert\n",
      "WARNING: AutoGraph could not transform <function get_list.<locals>.<lambda> at 0x7fe4c8d6d0e0> and will run it as-is.\n",
      "Please report this to the TensorFlow team. When filing the bug, set the verbosity to 10 (on Linux, `export AUTOGRAPH_VERBOSITY=10`) and attach the full output.\n",
      "Cause: module 'gast' has no attribute 'Constant'\n",
      "To silence this warning, decorate the function with @tf.autograph.experimental.do_not_convert\n"
     ]
    }
   ],
   "source": [
    "viewer_age = get_list(train, 'viewer_age')"
   ]
  },
  {
   "cell_type": "code",
   "execution_count": 13,
   "id": "60c591a3",
   "metadata": {},
   "outputs": [
    {
     "name": "stdout",
     "output_type": "stream",
     "text": [
      "WARNING:tensorflow:AutoGraph could not transform <function get_list.<locals>.<lambda> at 0x7fe4c8d6def0> and will run it as-is.\n",
      "Please report this to the TensorFlow team. When filing the bug, set the verbosity to 10 (on Linux, `export AUTOGRAPH_VERBOSITY=10`) and attach the full output.\n",
      "Cause: module 'gast' has no attribute 'Constant'\n",
      "To silence this warning, decorate the function with @tf.autograph.experimental.do_not_convert\n",
      "WARNING: AutoGraph could not transform <function get_list.<locals>.<lambda> at 0x7fe4c8d6def0> and will run it as-is.\n",
      "Please report this to the TensorFlow team. When filing the bug, set the verbosity to 10 (on Linux, `export AUTOGRAPH_VERBOSITY=10`) and attach the full output.\n",
      "Cause: module 'gast' has no attribute 'Constant'\n",
      "To silence this warning, decorate the function with @tf.autograph.experimental.do_not_convert\n"
     ]
    }
   ],
   "source": [
    "user_networks = get_list(train, 'viewer_network')"
   ]
  },
  {
   "cell_type": "code",
   "execution_count": 14,
   "id": "e993ef0b",
   "metadata": {},
   "outputs": [],
   "source": [
    "unique_user_genders = get_unique_list(user_genders)"
   ]
  },
  {
   "cell_type": "code",
   "execution_count": 15,
   "id": "92cbf4bc",
   "metadata": {},
   "outputs": [
    {
     "data": {
      "text/plain": [
       "2"
      ]
     },
     "execution_count": 15,
     "metadata": {},
     "output_type": "execute_result"
    }
   ],
   "source": [
    "len(unique_user_genders)"
   ]
  },
  {
   "cell_type": "code",
   "execution_count": 16,
   "id": "5bfb7966",
   "metadata": {},
   "outputs": [],
   "source": [
    "unique_user_langs = get_unique_list(user_langs)"
   ]
  },
  {
   "cell_type": "code",
   "execution_count": 17,
   "id": "db8d7f6d",
   "metadata": {},
   "outputs": [
    {
     "data": {
      "text/plain": [
       "49"
      ]
     },
     "execution_count": 17,
     "metadata": {},
     "output_type": "execute_result"
    }
   ],
   "source": [
    "len(unique_user_langs)"
   ]
  },
  {
   "cell_type": "code",
   "execution_count": 18,
   "id": "53d4243c",
   "metadata": {},
   "outputs": [],
   "source": [
    "unique_user_countries = get_unique_list(user_countries)"
   ]
  },
  {
   "cell_type": "code",
   "execution_count": 19,
   "id": "06a49a0e",
   "metadata": {},
   "outputs": [
    {
     "data": {
      "text/plain": [
       "161"
      ]
     },
     "execution_count": 19,
     "metadata": {},
     "output_type": "execute_result"
    }
   ],
   "source": [
    "len(unique_user_countries)"
   ]
  },
  {
   "cell_type": "code",
   "execution_count": 20,
   "id": "31cae552",
   "metadata": {},
   "outputs": [],
   "source": [
    "unique_user_networks = get_unique_list(user_networks)"
   ]
  },
  {
   "cell_type": "code",
   "execution_count": 21,
   "id": "1189dbad",
   "metadata": {},
   "outputs": [
    {
     "data": {
      "text/plain": [
       "4"
      ]
     },
     "execution_count": 21,
     "metadata": {},
     "output_type": "execute_result"
    }
   ],
   "source": [
    "len(unique_user_networks)"
   ]
  },
  {
   "cell_type": "code",
   "execution_count": 22,
   "id": "edd659dd",
   "metadata": {},
   "outputs": [],
   "source": [
    "#--- UserModel"
   ]
  },
  {
   "cell_type": "code",
   "execution_count": 23,
   "id": "471a273b",
   "metadata": {},
   "outputs": [
    {
     "name": "stdout",
     "output_type": "stream",
     "text": [
      "WARNING:tensorflow:AutoGraph could not transform <function <lambda> at 0x7fe4fedcf440> and will run it as-is.\n",
      "Please report this to the TensorFlow team. When filing the bug, set the verbosity to 10 (on Linux, `export AUTOGRAPH_VERBOSITY=10`) and attach the full output.\n",
      "Cause: module 'gast' has no attribute 'Constant'\n",
      "To silence this warning, decorate the function with @tf.autograph.experimental.do_not_convert\n",
      "WARNING: AutoGraph could not transform <function <lambda> at 0x7fe4fedcf440> and will run it as-is.\n",
      "Please report this to the TensorFlow team. When filing the bug, set the verbosity to 10 (on Linux, `export AUTOGRAPH_VERBOSITY=10`) and attach the full output.\n",
      "Cause: module 'gast' has no attribute 'Constant'\n",
      "To silence this warning, decorate the function with @tf.autograph.experimental.do_not_convert\n"
     ]
    }
   ],
   "source": [
    "gender_lookup = tf.keras.layers.experimental.preprocessing.StringLookup()\n",
    "gender_lookup.adapt(train.map(lambda x: x[\"viewer_gender\"]))\n",
    "\n",
    "embedding1 = tf.keras.layers.Embedding(gender_lookup.vocabulary_size() + 1,  4)\n",
    "gender_embedding = tf.keras.Sequential([gender_lookup, embedding1])"
   ]
  },
  {
   "cell_type": "code",
   "execution_count": 24,
   "id": "c13d0b3b",
   "metadata": {},
   "outputs": [
    {
     "name": "stdout",
     "output_type": "stream",
     "text": [
      "WARNING:tensorflow:Layers in a Sequential model should only have a single input tensor, but we receive a <class 'list'> input: [b'female']\n",
      "Consider rewriting this model with the Functional API.\n"
     ]
    },
    {
     "data": {
      "text/plain": [
       "<tf.Tensor: shape=(1, 4), dtype=float32, numpy=\n",
       "array([[ 0.01838673, -0.01822972, -0.03077537,  0.04356309]],\n",
       "      dtype=float32)>"
      ]
     },
     "execution_count": 24,
     "metadata": {},
     "output_type": "execute_result"
    }
   ],
   "source": [
    "gender_embedding([b\"female\"])"
   ]
  },
  {
   "cell_type": "code",
   "execution_count": 25,
   "id": "cc5a24cc",
   "metadata": {},
   "outputs": [
    {
     "name": "stdout",
     "output_type": "stream",
     "text": [
      "WARNING:tensorflow:AutoGraph could not transform <function <lambda> at 0x7fe4fede04d0> and will run it as-is.\n",
      "Please report this to the TensorFlow team. When filing the bug, set the verbosity to 10 (on Linux, `export AUTOGRAPH_VERBOSITY=10`) and attach the full output.\n",
      "Cause: module 'gast' has no attribute 'Constant'\n",
      "To silence this warning, decorate the function with @tf.autograph.experimental.do_not_convert\n",
      "WARNING: AutoGraph could not transform <function <lambda> at 0x7fe4fede04d0> and will run it as-is.\n",
      "Please report this to the TensorFlow team. When filing the bug, set the verbosity to 10 (on Linux, `export AUTOGRAPH_VERBOSITY=10`) and attach the full output.\n",
      "Cause: module 'gast' has no attribute 'Constant'\n",
      "To silence this warning, decorate the function with @tf.autograph.experimental.do_not_convert\n"
     ]
    }
   ],
   "source": [
    "lang_lookup = tf.keras.layers.experimental.preprocessing.StringLookup()\n",
    "lang_lookup.adapt(train.map(lambda x: x[\"viewer_lang\"]))\n",
    "\n",
    "embedding2 = tf.keras.layers.Embedding(lang_lookup.vocabulary_size() + 1,  4)\n",
    "lang_embedding = tf.keras.Sequential([lang_lookup, embedding2])"
   ]
  },
  {
   "cell_type": "code",
   "execution_count": 26,
   "id": "23b3eef8",
   "metadata": {},
   "outputs": [
    {
     "name": "stdout",
     "output_type": "stream",
     "text": [
      "WARNING:tensorflow:Layers in a Sequential model should only have a single input tensor, but we receive a <class 'list'> input: [b'en']\n",
      "Consider rewriting this model with the Functional API.\n"
     ]
    },
    {
     "data": {
      "text/plain": [
       "<tf.Tensor: shape=(1, 4), dtype=float32, numpy=\n",
       "array([[-1.0379218e-02, -5.5123121e-05,  2.6198972e-02, -2.1932591e-02]],\n",
       "      dtype=float32)>"
      ]
     },
     "execution_count": 26,
     "metadata": {},
     "output_type": "execute_result"
    }
   ],
   "source": [
    "lang_embedding([b\"en\"])"
   ]
  },
  {
   "cell_type": "code",
   "execution_count": 27,
   "id": "a5c3d0bd",
   "metadata": {},
   "outputs": [
    {
     "name": "stdout",
     "output_type": "stream",
     "text": [
      "WARNING:tensorflow:AutoGraph could not transform <function <lambda> at 0x7fe4fedfdd40> and will run it as-is.\n",
      "Please report this to the TensorFlow team. When filing the bug, set the verbosity to 10 (on Linux, `export AUTOGRAPH_VERBOSITY=10`) and attach the full output.\n",
      "Cause: module 'gast' has no attribute 'Constant'\n",
      "To silence this warning, decorate the function with @tf.autograph.experimental.do_not_convert\n",
      "WARNING: AutoGraph could not transform <function <lambda> at 0x7fe4fedfdd40> and will run it as-is.\n",
      "Please report this to the TensorFlow team. When filing the bug, set the verbosity to 10 (on Linux, `export AUTOGRAPH_VERBOSITY=10`) and attach the full output.\n",
      "Cause: module 'gast' has no attribute 'Constant'\n",
      "To silence this warning, decorate the function with @tf.autograph.experimental.do_not_convert\n"
     ]
    }
   ],
   "source": [
    "country_lookup = tf.keras.layers.experimental.preprocessing.StringLookup()\n",
    "country_lookup.adapt(train.map(lambda x: x[\"viewer_country\"]))\n",
    "\n",
    "embedding3 = tf.keras.layers.Embedding(lang_lookup.vocabulary_size() + 1,  11)\n",
    "country_embedding = tf.keras.Sequential([country_lookup, embedding3])"
   ]
  },
  {
   "cell_type": "code",
   "execution_count": 28,
   "id": "e2d58cb5",
   "metadata": {},
   "outputs": [
    {
     "name": "stdout",
     "output_type": "stream",
     "text": [
      "WARNING:tensorflow:Layers in a Sequential model should only have a single input tensor, but we receive a <class 'list'> input: ['US']\n",
      "Consider rewriting this model with the Functional API.\n"
     ]
    },
    {
     "data": {
      "text/plain": [
       "<tf.Tensor: shape=(1, 11), dtype=float32, numpy=\n",
       "array([[ 0.03155278, -0.03284504, -0.00276942, -0.00912889,  0.03885085,\n",
       "         0.03181878,  0.04915068,  0.00472736,  0.03455583,  0.04603994,\n",
       "        -0.00748615]], dtype=float32)>"
      ]
     },
     "execution_count": 28,
     "metadata": {},
     "output_type": "execute_result"
    }
   ],
   "source": [
    "country_embedding([\"US\"])"
   ]
  },
  {
   "cell_type": "code",
   "execution_count": 29,
   "id": "cac88f90",
   "metadata": {},
   "outputs": [
    {
     "name": "stdout",
     "output_type": "stream",
     "text": [
      "WARNING:tensorflow:AutoGraph could not transform <function <lambda> at 0x7fe4c8d97d40> and will run it as-is.\n",
      "Please report this to the TensorFlow team. When filing the bug, set the verbosity to 10 (on Linux, `export AUTOGRAPH_VERBOSITY=10`) and attach the full output.\n",
      "Cause: module 'gast' has no attribute 'Constant'\n",
      "To silence this warning, decorate the function with @tf.autograph.experimental.do_not_convert\n",
      "WARNING: AutoGraph could not transform <function <lambda> at 0x7fe4c8d97d40> and will run it as-is.\n",
      "Please report this to the TensorFlow team. When filing the bug, set the verbosity to 10 (on Linux, `export AUTOGRAPH_VERBOSITY=10`) and attach the full output.\n",
      "Cause: module 'gast' has no attribute 'Constant'\n",
      "To silence this warning, decorate the function with @tf.autograph.experimental.do_not_convert\n"
     ]
    }
   ],
   "source": [
    "network_lookup = tf.keras.layers.experimental.preprocessing.StringLookup()\n",
    "network_lookup.adapt(train.map(lambda x: x[\"viewer_network\"]))\n",
    "\n",
    "embedding4 = tf.keras.layers.Embedding(lang_lookup.vocabulary_size() + 1,  11)\n",
    "network_embedding = tf.keras.Sequential([network_lookup, embedding4])"
   ]
  },
  {
   "cell_type": "code",
   "execution_count": 30,
   "id": "ea791065",
   "metadata": {},
   "outputs": [
    {
     "name": "stdout",
     "output_type": "stream",
     "text": [
      "WARNING:tensorflow:Layers in a Sequential model should only have a single input tensor, but we receive a <class 'list'> input: [b'meetme']\n",
      "Consider rewriting this model with the Functional API.\n"
     ]
    },
    {
     "data": {
      "text/plain": [
       "<tf.Tensor: shape=(1, 11), dtype=float32, numpy=\n",
       "array([[ 0.03065303, -0.01192548,  0.04964919, -0.01413709, -0.02726364,\n",
       "        -0.00334866, -0.02920326, -0.03126774, -0.01362882, -0.04953181,\n",
       "         0.00876001]], dtype=float32)>"
      ]
     },
     "execution_count": 30,
     "metadata": {},
     "output_type": "execute_result"
    }
   ],
   "source": [
    "network_embedding([b\"meetme\"])"
   ]
  },
  {
   "cell_type": "code",
   "execution_count": 31,
   "id": "37051897",
   "metadata": {},
   "outputs": [
    {
     "name": "stdout",
     "output_type": "stream",
     "text": [
      "WARNING:tensorflow:AutoGraph could not transform <function <lambda> at 0x7fe4fedcfe60> and will run it as-is.\n",
      "Please report this to the TensorFlow team. When filing the bug, set the verbosity to 10 (on Linux, `export AUTOGRAPH_VERBOSITY=10`) and attach the full output.\n",
      "Cause: module 'gast' has no attribute 'Constant'\n",
      "To silence this warning, decorate the function with @tf.autograph.experimental.do_not_convert\n",
      "WARNING: AutoGraph could not transform <function <lambda> at 0x7fe4fedcfe60> and will run it as-is.\n",
      "Please report this to the TensorFlow team. When filing the bug, set the verbosity to 10 (on Linux, `export AUTOGRAPH_VERBOSITY=10`) and attach the full output.\n",
      "Cause: module 'gast' has no attribute 'Constant'\n",
      "To silence this warning, decorate the function with @tf.autograph.experimental.do_not_convert\n",
      "WARNING:tensorflow:AutoGraph could not transform <function PreprocessingLayer.make_adapt_function.<locals>.adapt_step at 0x7fe4fee07dd0> and will run it as-is.\n",
      "Please report this to the TensorFlow team. When filing the bug, set the verbosity to 10 (on Linux, `export AUTOGRAPH_VERBOSITY=10`) and attach the full output.\n",
      "Cause: 'arguments' object has no attribute 'posonlyargs'\n",
      "To silence this warning, decorate the function with @tf.autograph.experimental.do_not_convert\n",
      "WARNING: AutoGraph could not transform <function PreprocessingLayer.make_adapt_function.<locals>.adapt_step at 0x7fe4fee07dd0> and will run it as-is.\n",
      "Please report this to the TensorFlow team. When filing the bug, set the verbosity to 10 (on Linux, `export AUTOGRAPH_VERBOSITY=10`) and attach the full output.\n",
      "Cause: 'arguments' object has no attribute 'posonlyargs'\n",
      "To silence this warning, decorate the function with @tf.autograph.experimental.do_not_convert\n"
     ]
    }
   ],
   "source": [
    "normalized_age = tf.keras.layers.experimental.preprocessing.Normalization(\n",
    "    axis=None\n",
    ")\n",
    "normalized_age.adapt(train.map(lambda x: x['viewer_age']).batch(1024))"
   ]
  },
  {
   "cell_type": "code",
   "execution_count": 32,
   "id": "50567ad8",
   "metadata": {},
   "outputs": [
    {
     "data": {
      "text/plain": [
       "<tf.Tensor: shape=(6, 1), dtype=float32, numpy=\n",
       "array([[-1.6634854 ],\n",
       "       [-0.941834  ],\n",
       "       [ 0.08909662],\n",
       "       [ 0.6045619 ],\n",
       "       [ 1.6354926 ],\n",
       "       [ 3.1818883 ]], dtype=float32)>"
      ]
     },
     "execution_count": 32,
     "metadata": {},
     "output_type": "execute_result"
    }
   ],
   "source": [
    "normalized_age([18, 25, 35, 40, 50, 65])"
   ]
  },
  {
   "cell_type": "markdown",
   "id": "eb27d444",
   "metadata": {},
   "source": [
    "### Keras Implementation"
   ]
  },
  {
   "cell_type": "code",
   "execution_count": 33,
   "id": "0178090b",
   "metadata": {},
   "outputs": [
    {
     "data": {
      "text/plain": [
       "<tensorflow.python.keras.engine.sequential.Sequential at 0x7fe4fedf75d0>"
      ]
     },
     "execution_count": 33,
     "metadata": {},
     "output_type": "execute_result"
    }
   ],
   "source": [
    "gender_embedding"
   ]
  },
  {
   "cell_type": "code",
   "execution_count": 34,
   "id": "abbdfbe3",
   "metadata": {},
   "outputs": [
    {
     "data": {
      "text/plain": [
       "<tensorflow.python.keras.engine.sequential.Sequential at 0x7fe4fedd7f90>"
      ]
     },
     "execution_count": 34,
     "metadata": {},
     "output_type": "execute_result"
    }
   ],
   "source": [
    "lang_embedding"
   ]
  },
  {
   "cell_type": "code",
   "execution_count": 35,
   "id": "1de33d24",
   "metadata": {},
   "outputs": [
    {
     "data": {
      "text/plain": [
       "<tensorflow.python.keras.engine.sequential.Sequential at 0x7fe4fedff290>"
      ]
     },
     "execution_count": 35,
     "metadata": {},
     "output_type": "execute_result"
    }
   ],
   "source": [
    "country_embedding "
   ]
  },
  {
   "cell_type": "code",
   "execution_count": 36,
   "id": "94850792",
   "metadata": {},
   "outputs": [
    {
     "data": {
      "text/plain": [
       "<tensorflow.python.keras.engine.sequential.Sequential at 0x7fe4c8d83750>"
      ]
     },
     "execution_count": 36,
     "metadata": {},
     "output_type": "execute_result"
    }
   ],
   "source": [
    "network_embedding"
   ]
  },
  {
   "cell_type": "code",
   "execution_count": 48,
   "id": "ddca7640",
   "metadata": {},
   "outputs": [],
   "source": [
    "## inputs\n",
    "input_gender = tf.keras.Input(shape=(None,), name='input_gender')\n",
    "input_lang = tf.keras.Input(shape=(None, ), name='input_lang')\n",
    "input_country = tf.keras.Input(shape=(None, ), name='input_country')\n",
    "input_network = tf.keras.Input(shape=(None, ), name='input_network')\n",
    "\n",
    "input_broadcaster = tf.keras.Input(shape=(None, ), name='input_broadcaster')\n",
    "\n",
    "## layers\n",
    "EMBEDDING_DIMS = 32\n",
    "viewer_gender_embedding = tf.keras.layers.Embedding(input_dim=3, output_dim=EMBEDDING_DIMS, mask_zero=True, name=\"viewer_gender_embedding\")\n",
    "viewer_lang_embedding = tf.keras.layers.Embedding(input_dim=54, output_dim=EMBEDDING_DIMS, mask_zero=True, name=\"viewer_lang_embedding\")\n",
    "viewer_country_embedding = tf.keras.layers.Embedding(input_dim=160, output_dim=EMBEDDING_DIMS, mask_zero=True, name=\"viewer_country_embedding\")\n",
    "viewer_network_embedding = tf.keras.layers.Embedding(input_dim=4, output_dim=EMBEDDING_DIMS, mask_zero=True, name=\"viewer_network_embedding\")\n",
    "\n",
    "broadcaster_embedding = tf.keras.layers.Embedding(input_dim=69695, output_dim=32, mask_zero=True, name=\"broadcaster_embedding\")\n",
    "\n",
    "#--- features\n",
    "viewer_gender_feature = viewer_gender_embedding(input_gender)\n",
    "viewer_lang_feature = viewer_lang_embedding(input_lang)\n",
    "viewer_country_feature = viewer_country_embedding(input_country)\n",
    "viewer_network_feature = viewer_network_embedding(input_network)\n",
    "\n",
    "broadcaster_feature = broadcaster_embedding(input_broadcaster)"
   ]
  },
  {
   "cell_type": "code",
   "execution_count": 49,
   "id": "f87354e3",
   "metadata": {},
   "outputs": [],
   "source": [
    "concat_inputs = tf.keras.layers.Concatenate(axis=1)([viewer_gender_feature,\n",
    "                                                     viewer_lang_feature,\n",
    "                                                     viewer_country_feature,  \n",
    "                                                     viewer_network_feature, \n",
    "                                                     broadcaster_feature])"
   ]
  },
  {
   "cell_type": "code",
   "execution_count": 50,
   "id": "b459983f",
   "metadata": {},
   "outputs": [
    {
     "name": "stdout",
     "output_type": "stream",
     "text": [
      "WARNING:tensorflow:Please add `keras.layers.InputLayer` instead of `keras.Input` to Sequential model. `keras.Input` is intended to be used by Functional model.\n",
      "WARNING:tensorflow:Please add `keras.layers.InputLayer` instead of `keras.Input` to Sequential model. `keras.Input` is intended to be used by Functional model.\n",
      "WARNING:tensorflow:Please add `keras.layers.InputLayer` instead of `keras.Input` to Sequential model. `keras.Input` is intended to be used by Functional model.\n",
      "WARNING:tensorflow:Please add `keras.layers.InputLayer` instead of `keras.Input` to Sequential model. `keras.Input` is intended to be used by Functional model.\n",
      "WARNING:tensorflow:Please add `keras.layers.InputLayer` instead of `keras.Input` to Sequential model. `keras.Input` is intended to be used by Functional model.\n"
     ]
    }
   ],
   "source": [
    "model = tf.keras.Sequential([input_gender, \n",
    "                             input_lang, \n",
    "                             input_country, \n",
    "                             input_network,\n",
    "                             input_broadcaster])"
   ]
  },
  {
   "cell_type": "code",
   "execution_count": 51,
   "id": "424f5327",
   "metadata": {},
   "outputs": [],
   "source": [
    "# Dense Layers\n",
    "dense_1 = tf.keras.layers.Dense(units=64, name='dense_1')\n",
    "dense_1_features = dense_1(concat_inputs)\n",
    "dense_1_relu = tf.keras.layers.ReLU(name='dense_1_relu')(dense_1_features)\n",
    "dense_1_batch_norm = tf.keras.layers.BatchNormalization(name='dense_1_batch_norm')(dense_1_relu)\n",
    "\n",
    "dense_output = tf.keras.layers.Dense(32, activation=tf.nn.softmax, name='dense_output')\n",
    "outputs = dense_output(dense_1_batch_norm)"
   ]
  },
  {
   "cell_type": "code",
   "execution_count": 52,
   "id": "02515032",
   "metadata": {},
   "outputs": [],
   "source": [
    "#Optimizer\n",
    "optimiser = tf.keras.optimizers.Adam(learning_rate=0.1)"
   ]
  },
  {
   "cell_type": "code",
   "execution_count": 53,
   "id": "076a71a7",
   "metadata": {},
   "outputs": [
    {
     "name": "stdout",
     "output_type": "stream",
     "text": [
      "WARNING:tensorflow:Functional model inputs must come from `tf.keras.Input` (thus holding past layer metadata), they cannot be the output of a previous non-Input layer. Here, a tensor specified as input to \"model\" was not an Input tensor, it was generated by layer input_lang.\n",
      "Note that input tensors are instantiated via `tensor = tf.keras.Input(shape)`.\n",
      "The tensor that caused the issue was: input_lang\n",
      "WARNING:tensorflow:Functional model inputs must come from `tf.keras.Input` (thus holding past layer metadata), they cannot be the output of a previous non-Input layer. Here, a tensor specified as input to \"model\" was not an Input tensor, it was generated by layer input_country.\n",
      "Note that input tensors are instantiated via `tensor = tf.keras.Input(shape)`.\n",
      "The tensor that caused the issue was: input_country\n",
      "WARNING:tensorflow:Functional model inputs must come from `tf.keras.Input` (thus holding past layer metadata), they cannot be the output of a previous non-Input layer. Here, a tensor specified as input to \"model\" was not an Input tensor, it was generated by layer input_network.\n",
      "Note that input tensors are instantiated via `tensor = tf.keras.Input(shape)`.\n",
      "The tensor that caused the issue was: input_network\n",
      "WARNING:tensorflow:Functional model inputs must come from `tf.keras.Input` (thus holding past layer metadata), they cannot be the output of a previous non-Input layer. Here, a tensor specified as input to \"model\" was not an Input tensor, it was generated by layer input_broadcaster.\n",
      "Note that input tensors are instantiated via `tensor = tf.keras.Input(shape)`.\n",
      "The tensor that caused the issue was: input_broadcaster\n"
     ]
    }
   ],
   "source": [
    "#--- prep model\n",
    "model = tf.keras.models.Model(\n",
    "    inputs=[input_gender, input_lang, input_country, input_network, input_broadcaster],\n",
    "    outputs=[outputs]\n",
    ")"
   ]
  },
  {
   "cell_type": "code",
   "execution_count": 54,
   "id": "893d1605",
   "metadata": {},
   "outputs": [
    {
     "name": "stdout",
     "output_type": "stream",
     "text": [
      "Model: \"model\"\n",
      "__________________________________________________________________________________________________\n",
      "Layer (type)                    Output Shape         Param #     Connected to                     \n",
      "==================================================================================================\n",
      "input_gender (InputLayer)       [(None, None)]       0                                            \n",
      "__________________________________________________________________________________________________\n",
      "input_lang (InputLayer)         multiple             0                                            \n",
      "__________________________________________________________________________________________________\n",
      "input_country (InputLayer)      multiple             0                                            \n",
      "__________________________________________________________________________________________________\n",
      "input_network (InputLayer)      multiple             0                                            \n",
      "__________________________________________________________________________________________________\n",
      "input_broadcaster (InputLayer)  multiple             0                                            \n",
      "__________________________________________________________________________________________________\n",
      "viewer_gender_embedding (Embedd (None, None, 32)     96          input_gender[0][0]               \n",
      "__________________________________________________________________________________________________\n",
      "viewer_lang_embedding (Embeddin (None, None, 32)     1728        input_lang[0][0]                 \n",
      "__________________________________________________________________________________________________\n",
      "viewer_country_embedding (Embed (None, None, 32)     5120        input_country[0][0]              \n",
      "__________________________________________________________________________________________________\n",
      "viewer_network_embedding (Embed (None, None, 32)     128         input_network[0][0]              \n",
      "__________________________________________________________________________________________________\n",
      "broadcaster_embedding (Embeddin (None, None, 32)     2230240     input_broadcaster[0][0]          \n",
      "__________________________________________________________________________________________________\n",
      "concatenate_5 (Concatenate)     (None, None, 32)     0           viewer_gender_embedding[0][0]    \n",
      "                                                                 viewer_lang_embedding[0][0]      \n",
      "                                                                 viewer_country_embedding[0][0]   \n",
      "                                                                 viewer_network_embedding[0][0]   \n",
      "                                                                 broadcaster_embedding[0][0]      \n",
      "__________________________________________________________________________________________________\n",
      "dense_1 (Dense)                 (None, None, 64)     2112        concatenate_5[0][0]              \n",
      "__________________________________________________________________________________________________\n",
      "dense_1_relu (ReLU)             (None, None, 64)     0           dense_1[0][0]                    \n",
      "__________________________________________________________________________________________________\n",
      "dense_1_batch_norm (BatchNormal (None, None, 64)     256         dense_1_relu[0][0]               \n",
      "__________________________________________________________________________________________________\n",
      "dense_output (Dense)            (None, None, 32)     2080        dense_1_batch_norm[0][0]         \n",
      "==================================================================================================\n",
      "Total params: 2,241,760\n",
      "Trainable params: 2,241,632\n",
      "Non-trainable params: 128\n",
      "__________________________________________________________________________________________________\n"
     ]
    }
   ],
   "source": [
    "model.summary()"
   ]
  },
  {
   "cell_type": "code",
   "execution_count": 55,
   "id": "27c95883",
   "metadata": {},
   "outputs": [
    {
     "data": {
      "image/png": "[encoded data removed]",
      "text/plain": [
       "<IPython.core.display.Image object>"
      ]
     },
     "execution_count": 55,
     "metadata": {},
     "output_type": "execute_result"
    }
   ],
   "source": [
    "tf.keras.utils.plot_model(model, show_shapes=True, show_layer_names=True, dpi=96)"
   ]
  },
  {
   "cell_type": "code",
   "execution_count": 192,
   "id": "a2230d48",
   "metadata": {},
   "outputs": [
    {
     "ename": "NameError",
     "evalue": "name 'Input' is not defined",
     "output_type": "error",
     "traceback": [
      "\u001b[0;31m---------------------------------------------------------------------------\u001b[0m",
      "\u001b[0;31mNameError\u001b[0m                                 Traceback (most recent call last)",
      "\u001b[0;32m<ipython-input-192-4986e9962e98>\u001b[0m in \u001b[0;36m<module>\u001b[0;34m\u001b[0m\n\u001b[1;32m      6\u001b[0m \u001b[0mcategorical_features\u001b[0m \u001b[0;34m=\u001b[0m \u001b[0;34m[\u001b[0m\u001b[0;34m'modifier_type'\u001b[0m\u001b[0;34m]\u001b[0m\u001b[0;34m\u001b[0m\u001b[0;34m\u001b[0m\u001b[0m\n\u001b[1;32m      7\u001b[0m \u001b[0;34m\u001b[0m\u001b[0m\n\u001b[0;32m----> 8\u001b[0;31m \u001b[0mmodifier_input_\u001b[0m \u001b[0;34m=\u001b[0m \u001b[0mInput\u001b[0m\u001b[0;34m(\u001b[0m\u001b[0mshape\u001b[0m\u001b[0;34m=\u001b[0m\u001b[0;34m(\u001b[0m\u001b[0;32mNone\u001b[0m\u001b[0;34m,\u001b[0m\u001b[0;34m)\u001b[0m\u001b[0;34m,\u001b[0m \u001b[0mname\u001b[0m\u001b[0;34m=\u001b[0m\u001b[0;34m'modifier_type_in'\u001b[0m\u001b[0;34m)\u001b[0m\u001b[0;34m\u001b[0m\u001b[0;34m\u001b[0m\u001b[0m\n\u001b[0m\u001b[1;32m      9\u001b[0m \u001b[0;31m# Let's assume 10 unique type of modifiers and let's have embedding dimension as 6\u001b[0m\u001b[0;34m\u001b[0m\u001b[0;34m\u001b[0m\u001b[0;34m\u001b[0m\u001b[0m\n\u001b[1;32m     10\u001b[0m \u001b[0mmodifier_output_\u001b[0m \u001b[0;34m=\u001b[0m \u001b[0mEmbedding\u001b[0m\u001b[0;34m(\u001b[0m\u001b[0minput_dim\u001b[0m\u001b[0;34m=\u001b[0m\u001b[0;36m10\u001b[0m\u001b[0;34m,\u001b[0m \u001b[0moutput_dim\u001b[0m\u001b[0;34m=\u001b[0m\u001b[0;36m6\u001b[0m\u001b[0;34m,\u001b[0m \u001b[0mname\u001b[0m\u001b[0;34m=\u001b[0m\u001b[0;34m'modifier_type'\u001b[0m\u001b[0;34m)\u001b[0m\u001b[0;34m(\u001b[0m\u001b[0mmodifier_input_\u001b[0m\u001b[0;34m)\u001b[0m\u001b[0;34m\u001b[0m\u001b[0;34m\u001b[0m\u001b[0m\n",
      "\u001b[0;31mNameError\u001b[0m: name 'Input' is not defined"
     ]
    }
   ],
   "source": [
    "# Using embeddings for categorical features\n",
    "modifier_type_embedding_in=[]\n",
    "modifier_type_embedding_out=[]\n",
    "\n",
    "# sample categorical features\n",
    "categorical_features = ['modifier_type']\n",
    "\n",
    "modifier_input_ = Input(shape=(None,), name='modifier_type_in')\n",
    "# Let's assume 10 unique type of modifiers and let's have embedding dimension as 6\n",
    "modifier_output_ = Embedding(input_dim=10, output_dim=6, name='modifier_type')(modifier_input_)\n",
    "\n",
    "modifier_type_embedding_in.append(modifier_input_)\n",
    "modifier_type_embedding_out.append(modifier_output_)\n",
    "\n",
    "# sample continuous features\n",
    "statistics = ['duration']\n",
    "statistics_inputs =[Input(shape=(None, len(statistics),), name='statistics')] # Input(shape=(1,))\n",
    "\n",
    "# sample continuous features\n",
    "abilities = ['buyback_cost', 'cooldown', 'number_of_deaths', 'ability', 'teleport', 'team', 'level', 'max_mana', 'intelligence']\n",
    "abilities_inputs=[Input(shape=(len(abilities),), name='abilities')] # Input(shape=(9,))\n",
    "\n",
    "concat = concatenate(modifier_type_embedding_out + statistics_inputs)\n",
    "FC_relu = Dense(128, activation='relu', name='fc_relu_1')(concat)\n",
    "FC_relu = Dense(128, activation='relu', name='fc_relu_2')(FC_relu)\n",
    "max_pool = GlobalMaxPooling1D()(FC_relu)\n",
    "\n",
    "model = concatenate(abilities_inputs + [max_pool])\n",
    "model = Dense(64, activation='relu', name='fc_relu_3')(model)\n",
    "model_out = Dense(1, activation='sigmoid', name='fc_sigmoid')(model)\n",
    "\n",
    "model_in = abilities_inputs + modifier_type_embedding_in + statistics_inputs\n",
    "model = Model(inputs=model_in, outputs=model_out)\n",
    "model.compile(loss='binary_crossentropy', optimizer=Adam(lr=2e-05, decay=1e-3), metrics=['accuracy'])\n"
   ]
  },
  {
   "cell_type": "code",
   "execution_count": 30,
   "id": "2e45f31d",
   "metadata": {},
   "outputs": [],
   "source": [
    "unique_broadcasters = get_unique_list(broadcaster_ids)"
   ]
  },
  {
   "cell_type": "code",
   "execution_count": 33,
   "id": "b98e7516",
   "metadata": {},
   "outputs": [
    {
     "data": {
      "text/plain": [
       "69009"
      ]
     },
     "execution_count": 33,
     "metadata": {},
     "output_type": "execute_result"
    }
   ],
   "source": [
    "len(unique_broadcasters)"
   ]
  },
  {
   "cell_type": "code",
   "execution_count": 34,
   "id": "5dbfa66d",
   "metadata": {},
   "outputs": [],
   "source": [
    "broadcaster_embedding_dimension = 32"
   ]
  },
  {
   "cell_type": "code",
   "execution_count": 35,
   "id": "c37a6a47",
   "metadata": {},
   "outputs": [],
   "source": [
    "broadcaster_model = BroadcasterModel(unique_broadcasters, broadcaster_embedding_dimension)"
   ]
  },
  {
   "cell_type": "code",
   "execution_count": 36,
   "id": "97983dfd",
   "metadata": {},
   "outputs": [
    {
     "name": "stdout",
     "output_type": "stream",
     "text": [
      "WARNING:tensorflow:AutoGraph could not transform <bound method BroadcasterModel.call of <__main__.BroadcasterModel object at 0x7ff7b8e3b190>> and will run it as-is.\n",
      "Please report this to the TensorFlow team. When filing the bug, set the verbosity to 10 (on Linux, `export AUTOGRAPH_VERBOSITY=10`) and attach the full output.\n",
      "Cause: 'arguments' object has no attribute 'posonlyargs'\n",
      "To silence this warning, decorate the function with @tf.autograph.experimental.do_not_convert\n",
      "WARNING: AutoGraph could not transform <bound method BroadcasterModel.call of <__main__.BroadcasterModel object at 0x7ff7b8e3b190>> and will run it as-is.\n",
      "Please report this to the TensorFlow team. When filing the bug, set the verbosity to 10 (on Linux, `export AUTOGRAPH_VERBOSITY=10`) and attach the full output.\n",
      "Cause: 'arguments' object has no attribute 'posonlyargs'\n",
      "To silence this warning, decorate the function with @tf.autograph.experimental.do_not_convert\n"
     ]
    }
   ],
   "source": [
    "metrics = tfrs.metrics.FactorizedTopK(candidates=broadcasters_data_set.batch(128).map(broadcaster_model))"
   ]
  },
  {
   "cell_type": "code",
   "execution_count": 37,
   "id": "729e1db5",
   "metadata": {},
   "outputs": [],
   "source": [
    "task = tfrs.tasks.Retrieval(\n",
    "    metrics=metrics\n",
    ")"
   ]
  },
  {
   "cell_type": "code",
   "execution_count": 38,
   "id": "edd07049",
   "metadata": {},
   "outputs": [],
   "source": [
    "class TwoTowers(tf.keras.Model):\n",
    "\n",
    "    def __init__(self, broadcaster_model, user_model, task):\n",
    "        super().__init__()\n",
    "        self.broadcaster_model: tf.keras.Model = broadcaster_model\n",
    "        self.embedding_model = user_model\n",
    "        self.task: tf.keras.layers.Layer = task\n",
    "\n",
    "    def train_step(self, features: Dict[Text, tf.Tensor]) -> tf.Tensor:\n",
    "\n",
    "        # Set up a gradient tape to record gradients.\n",
    "        with tf.GradientTape() as tape:\n",
    "\n",
    "            # Loss computation.\n",
    "\n",
    "            user_embeddings = self.embedding_model({\n",
    "                \"viewer_gender\": features[\"viewer_gender\"],\n",
    "                \"viewer_lang\": features[\"viewer_lang\"],\n",
    "                \"viewer_country\": features[\"viewer_country\"],\n",
    "                \"viewer_network\": features[\"viewer_network\"],\n",
    "                \"viewer_age\": features[\"viewer_age\"],\n",
    "            })\n",
    "            positive_movie_embeddings = self.broadcaster_model(\n",
    "                features[\"broadcaster\"])\n",
    "            loss = self.task(user_embeddings, positive_movie_embeddings)\n",
    "\n",
    "            # Handle regularization losses as well.\n",
    "            regularization_loss = sum(self.losses)\n",
    "\n",
    "            total_loss = loss + regularization_loss\n",
    "\n",
    "        gradients = tape.gradient(total_loss, self.trainable_variables)\n",
    "        self.optimizer.apply_gradients(\n",
    "            zip(gradients, self.trainable_variables))\n",
    "\n",
    "        metrics = {metric.name: metric.result() for metric in self.metrics}\n",
    "        metrics[\"loss\"] = loss\n",
    "        metrics[\"regularization_loss\"] = regularization_loss\n",
    "        metrics[\"total_loss\"] = total_loss\n",
    "\n",
    "        return metrics\n",
    "\n",
    "    def test_step(self, features: Dict[Text, tf.Tensor]) -> tf.Tensor:\n",
    "\n",
    "        # Loss computation.\n",
    "\n",
    "        user_embeddings = self.embedding_model({\n",
    "            \"viewer\": features[\"viewer\"],\n",
    "        })\n",
    "        positive_movie_embeddings = self.broadcaster_model(\n",
    "            features[\"broadcaster\"])\n",
    "        loss = self.task(user_embeddings, positive_movie_embeddings)\n",
    "\n",
    "        # Handle regularization losses as well.\n",
    "        regularization_loss = sum(self.losses)\n",
    "\n",
    "        total_loss = loss + regularization_loss\n",
    "\n",
    "        metrics = {metric.name: metric.result() for metric in self.metrics}\n",
    "        metrics[\"loss\"] = loss\n",
    "        metrics[\"regularization_loss\"] = regularization_loss\n",
    "        metrics[\"total_loss\"] = total_loss\n",
    "        return metrics"
   ]
  },
  {
   "cell_type": "code",
   "execution_count": 39,
   "id": "c0e45efc",
   "metadata": {},
   "outputs": [],
   "source": [
    "model = TwoTowers(broadcaster_model, user_model, task)"
   ]
  },
  {
   "cell_type": "code",
   "execution_count": 40,
   "id": "d4d94dbe",
   "metadata": {},
   "outputs": [
    {
     "data": {
      "image/png": "[encoded data removed]",
      "text/plain": [
       "<IPython.core.display.Image object>"
      ]
     },
     "execution_count": 40,
     "metadata": {},
     "output_type": "execute_result"
    }
   ],
   "source": [
    "tf.keras.utils.plot_model(model, show_shapes=True, show_layer_names=True, dpi=96)"
   ]
  },
  {
   "cell_type": "code",
   "execution_count": 46,
   "id": "b158b67e",
   "metadata": {},
   "outputs": [],
   "source": [
    "learning_rate = 0.05\n",
    "batch_size = 256\n",
    "epochs = 2\n",
    "top_k = 999"
   ]
  },
  {
   "cell_type": "code",
   "execution_count": 47,
   "id": "87ea93da",
   "metadata": {},
   "outputs": [],
   "source": [
    "model.compile(optimizer=tf.keras.optimizers.Adagrad(learning_rate=learning_rate))"
   ]
  },
  {
   "cell_type": "code",
   "execution_count": 48,
   "id": "cc1577ef",
   "metadata": {},
   "outputs": [],
   "source": [
    "train_ds = train.batch(batch_size).cache()"
   ]
  },
  {
   "cell_type": "code",
   "execution_count": 49,
   "id": "39be26f9",
   "metadata": {},
   "outputs": [
    {
     "name": "stdout",
     "output_type": "stream",
     "text": [
      "WARNING:tensorflow:AutoGraph could not transform <function Model.make_train_function.<locals>.train_function at 0x7ff6a8182320> and will run it as-is.\n",
      "Please report this to the TensorFlow team. When filing the bug, set the verbosity to 10 (on Linux, `export AUTOGRAPH_VERBOSITY=10`) and attach the full output.\n",
      "Cause: 'arguments' object has no attribute 'posonlyargs'\n",
      "To silence this warning, decorate the function with @tf.autograph.experimental.do_not_convert\n",
      "WARNING: AutoGraph could not transform <function Model.make_train_function.<locals>.train_function at 0x7ff6a8182320> and will run it as-is.\n",
      "Please report this to the TensorFlow team. When filing the bug, set the verbosity to 10 (on Linux, `export AUTOGRAPH_VERBOSITY=10`) and attach the full output.\n",
      "Cause: 'arguments' object has no attribute 'posonlyargs'\n",
      "To silence this warning, decorate the function with @tf.autograph.experimental.do_not_convert\n",
      "WARNING:tensorflow:AutoGraph could not transform <function Streaming.call.<locals>.enumerate_rows at 0x7ff7b8f2bf80> and will run it as-is.\n",
      "Please report this to the TensorFlow team. When filing the bug, set the verbosity to 10 (on Linux, `export AUTOGRAPH_VERBOSITY=10`) and attach the full output.\n",
      "Cause: module 'gast' has no attribute 'Constant'\n",
      "To silence this warning, decorate the function with @tf.autograph.experimental.do_not_convert\n",
      "WARNING: AutoGraph could not transform <function Streaming.call.<locals>.enumerate_rows at 0x7ff7b8f2bf80> and will run it as-is.\n",
      "Please report this to the TensorFlow team. When filing the bug, set the verbosity to 10 (on Linux, `export AUTOGRAPH_VERBOSITY=10`) and attach the full output.\n",
      "Cause: module 'gast' has no attribute 'Constant'\n",
      "To silence this warning, decorate the function with @tf.autograph.experimental.do_not_convert\n",
      "WARNING:tensorflow:AutoGraph could not transform <function Streaming.call.<locals>.top_scores at 0x7ff7b8f2bc20> and will run it as-is.\n",
      "Please report this to the TensorFlow team. When filing the bug, set the verbosity to 10 (on Linux, `export AUTOGRAPH_VERBOSITY=10`) and attach the full output.\n",
      "Cause: module 'gast' has no attribute 'Constant'\n",
      "To silence this warning, decorate the function with @tf.autograph.experimental.do_not_convert\n",
      "WARNING: AutoGraph could not transform <function Streaming.call.<locals>.top_scores at 0x7ff7b8f2bc20> and will run it as-is.\n",
      "Please report this to the TensorFlow team. When filing the bug, set the verbosity to 10 (on Linux, `export AUTOGRAPH_VERBOSITY=10`) and attach the full output.\n",
      "Cause: module 'gast' has no attribute 'Constant'\n",
      "To silence this warning, decorate the function with @tf.autograph.experimental.do_not_convert\n",
      "WARNING:tensorflow:AutoGraph could not transform <function Streaming.call.<locals>.top_k at 0x7ff7c82844d0> and will run it as-is.\n",
      "Please report this to the TensorFlow team. When filing the bug, set the verbosity to 10 (on Linux, `export AUTOGRAPH_VERBOSITY=10`) and attach the full output.\n",
      "Cause: module 'gast' has no attribute 'Constant'\n",
      "To silence this warning, decorate the function with @tf.autograph.experimental.do_not_convert\n",
      "WARNING: AutoGraph could not transform <function Streaming.call.<locals>.top_k at 0x7ff7c82844d0> and will run it as-is.\n",
      "Please report this to the TensorFlow team. When filing the bug, set the verbosity to 10 (on Linux, `export AUTOGRAPH_VERBOSITY=10`) and attach the full output.\n",
      "Cause: module 'gast' has no attribute 'Constant'\n",
      "To silence this warning, decorate the function with @tf.autograph.experimental.do_not_convert\n",
      "WARNING:tensorflow:AutoGraph could not transform <function Streaming.call.<locals>.enumerate_rows at 0x7ff7b88f28c0> and will run it as-is.\n",
      "Please report this to the TensorFlow team. When filing the bug, set the verbosity to 10 (on Linux, `export AUTOGRAPH_VERBOSITY=10`) and attach the full output.\n",
      "Cause: module 'gast' has no attribute 'Constant'\n",
      "To silence this warning, decorate the function with @tf.autograph.experimental.do_not_convert\n",
      "WARNING: AutoGraph could not transform <function Streaming.call.<locals>.enumerate_rows at 0x7ff7b88f28c0> and will run it as-is.\n",
      "Please report this to the TensorFlow team. When filing the bug, set the verbosity to 10 (on Linux, `export AUTOGRAPH_VERBOSITY=10`) and attach the full output.\n",
      "Cause: module 'gast' has no attribute 'Constant'\n",
      "To silence this warning, decorate the function with @tf.autograph.experimental.do_not_convert\n",
      "WARNING:tensorflow:AutoGraph could not transform <function Streaming.call.<locals>.top_scores at 0x7ff7b88f2d40> and will run it as-is.\n",
      "Please report this to the TensorFlow team. When filing the bug, set the verbosity to 10 (on Linux, `export AUTOGRAPH_VERBOSITY=10`) and attach the full output.\n",
      "Cause: module 'gast' has no attribute 'Constant'\n",
      "To silence this warning, decorate the function with @tf.autograph.experimental.do_not_convert\n",
      "WARNING: AutoGraph could not transform <function Streaming.call.<locals>.top_scores at 0x7ff7b88f2d40> and will run it as-is.\n",
      "Please report this to the TensorFlow team. When filing the bug, set the verbosity to 10 (on Linux, `export AUTOGRAPH_VERBOSITY=10`) and attach the full output.\n",
      "Cause: module 'gast' has no attribute 'Constant'\n",
      "To silence this warning, decorate the function with @tf.autograph.experimental.do_not_convert\n",
      "WARNING:tensorflow:AutoGraph could not transform <function Streaming.call.<locals>.top_k at 0x7ff8eee74b00> and will run it as-is.\n",
      "Please report this to the TensorFlow team. When filing the bug, set the verbosity to 10 (on Linux, `export AUTOGRAPH_VERBOSITY=10`) and attach the full output.\n",
      "Cause: module 'gast' has no attribute 'Constant'\n",
      "To silence this warning, decorate the function with @tf.autograph.experimental.do_not_convert\n",
      "WARNING: AutoGraph could not transform <function Streaming.call.<locals>.top_k at 0x7ff8eee74b00> and will run it as-is.\n",
      "Please report this to the TensorFlow team. When filing the bug, set the verbosity to 10 (on Linux, `export AUTOGRAPH_VERBOSITY=10`) and attach the full output.\n",
      "Cause: module 'gast' has no attribute 'Constant'\n",
      "To silence this warning, decorate the function with @tf.autograph.experimental.do_not_convert\n",
      "2049/2049 [==============================] - 1175s 573ms/step - factorized_top_k/top_1_categorical_accuracy: 6.4456e-04 - factorized_top_k/top_5_categorical_accuracy: 0.0035 - factorized_top_k/top_10_categorical_accuracy: 0.0068 - factorized_top_k/top_50_categorical_accuracy: 0.0274 - factorized_top_k/top_100_categorical_accuracy: 0.0470 - loss: 1261.6933 - regularization_loss: 0.0000e+00 - total_loss: 1261.6933\n"
     ]
    },
    {
     "data": {
      "text/plain": [
       "<tensorflow.python.keras.callbacks.History at 0x7ff7b8d73310>"
      ]
     },
     "execution_count": 49,
     "metadata": {},
     "output_type": "execute_result"
    }
   ],
   "source": [
    "model.fit(train_ds, epochs=1)"
   ]
  },
  {
   "cell_type": "markdown",
   "id": "c40a0b98",
   "metadata": {},
   "source": [
    "### Defining the vocabulary for broadcaster"
   ]
  },
  {
   "cell_type": "code",
   "execution_count": 13,
   "id": "65c8175c",
   "metadata": {},
   "outputs": [],
   "source": [
    "broadcaster_lookup = tf.keras.layers.experimental.preprocessing.StringLookup()"
   ]
  },
  {
   "cell_type": "code",
   "execution_count": 14,
   "id": "065473aa",
   "metadata": {},
   "outputs": [
    {
     "name": "stdout",
     "output_type": "stream",
     "text": [
      "WARNING:tensorflow:AutoGraph could not transform <function <lambda> at 0x7f7f386b20e0> and will run it as-is.\n",
      "Please report this to the TensorFlow team. When filing the bug, set the verbosity to 10 (on Linux, `export AUTOGRAPH_VERBOSITY=10`) and attach the full output.\n",
      "Cause: module 'gast' has no attribute 'Constant'\n",
      "To silence this warning, decorate the function with @tf.autograph.experimental.do_not_convert\n",
      "WARNING: AutoGraph could not transform <function <lambda> at 0x7f7f386b20e0> and will run it as-is.\n",
      "Please report this to the TensorFlow team. When filing the bug, set the verbosity to 10 (on Linux, `export AUTOGRAPH_VERBOSITY=10`) and attach the full output.\n",
      "Cause: module 'gast' has no attribute 'Constant'\n",
      "To silence this warning, decorate the function with @tf.autograph.experimental.do_not_convert\n"
     ]
    }
   ],
   "source": [
    "broadcaster_lookup.adapt(ratings.map(lambda x: x[\"broadcaster\"]))"
   ]
  },
  {
   "cell_type": "code",
   "execution_count": 16,
   "id": "4f43631c",
   "metadata": {},
   "outputs": [],
   "source": [
    "def get_list(training_data, key):\n",
    "\treturn training_data.batch(1_000_000).map(\n",
    "\t\tlambda x: x[key], num_parallel_calls = tf.data.AUTOTUNE, deterministic = False\n",
    "\t)\n",
    "def get_unique_list(data):\n",
    "\treturn np.unique(np.concatenate(list(data)))"
   ]
  },
  {
   "cell_type": "code",
   "execution_count": 17,
   "id": "740f83ff",
   "metadata": {},
   "outputs": [
    {
     "name": "stdout",
     "output_type": "stream",
     "text": [
      "WARNING:tensorflow:AutoGraph could not transform <function get_list.<locals>.<lambda> at 0x7f7f386b2b90> and will run it as-is.\n",
      "Please report this to the TensorFlow team. When filing the bug, set the verbosity to 10 (on Linux, `export AUTOGRAPH_VERBOSITY=10`) and attach the full output.\n",
      "Cause: module 'gast' has no attribute 'Constant'\n",
      "To silence this warning, decorate the function with @tf.autograph.experimental.do_not_convert\n",
      "WARNING: AutoGraph could not transform <function get_list.<locals>.<lambda> at 0x7f7f386b2b90> and will run it as-is.\n",
      "Please report this to the TensorFlow team. When filing the bug, set the verbosity to 10 (on Linux, `export AUTOGRAPH_VERBOSITY=10`) and attach the full output.\n",
      "Cause: module 'gast' has no attribute 'Constant'\n",
      "To silence this warning, decorate the function with @tf.autograph.experimental.do_not_convert\n"
     ]
    }
   ],
   "source": [
    "broadcaster_ids = get_list(ratings, \"broadcaster\")\n",
    "unique_broadcasters = get_unique_list(broadcaster_ids)"
   ]
  },
  {
   "cell_type": "code",
   "execution_count": 26,
   "id": "350db84b",
   "metadata": {},
   "outputs": [],
   "source": [
    "broadcaster_title = tf.keras.Input(shape=(None, ), name='broadcaster_name')\n",
    "\n",
    "model = tf.keras.Sequential([\n",
    "\t\t\ttf.keras.layers.Embedding(len(unique_broadcasters) + 1, 32)\n",
    "\t\t])"
   ]
  },
  {
   "cell_type": "code",
   "execution_count": 23,
   "id": "c76ed1ed",
   "metadata": {},
   "outputs": [],
   "source": [
    "model = tf.keras.Sequential([\n",
    "\t\t\ttf.keras.layers.Embedding(len(unique_broadcasters) + 1, 32)\n",
    "\t\t])"
   ]
  },
  {
   "cell_type": "code",
   "execution_count": 24,
   "id": "16f1662d",
   "metadata": {},
   "outputs": [
    {
     "data": {
      "image/png": "[encoded data removed]",
      "text/plain": [
       "<IPython.core.display.Image object>"
      ]
     },
     "execution_count": 24,
     "metadata": {},
     "output_type": "execute_result"
    }
   ],
   "source": [
    "tf.keras.utils.plot_model(model, show_shapes=True, show_layer_names=True,dpi=96)"
   ]
  },
  {
   "cell_type": "code",
   "execution_count": 39,
   "id": "daa12f23",
   "metadata": {
    "scrolled": true
   },
   "outputs": [
    {
     "name": "stdout",
     "output_type": "stream",
     "text": [
      "Model: \"sequential_2\"\n",
      "_________________________________________________________________\n",
      "Layer (type)                 Output Shape              Param #   \n",
      "=================================================================\n",
      "embedding_2 (Embedding)      (None, None, 32)          2230240   \n",
      "=================================================================\n",
      "Total params: 2,230,240\n",
      "Trainable params: 2,230,240\n",
      "Non-trainable params: 0\n",
      "_________________________________________________________________\n"
     ]
    }
   ],
   "source": [
    "model.summary()"
   ]
  },
  {
   "cell_type": "code",
   "execution_count": 25,
   "id": "e46fabd5",
   "metadata": {},
   "outputs": [
    {
     "data": {
      "text/plain": [
       "69695"
      ]
     },
     "execution_count": 25,
     "metadata": {},
     "output_type": "execute_result"
    }
   ],
   "source": [
    "len(unique_broadcasters) + 1"
   ]
  },
  {
   "cell_type": "code",
   "execution_count": 40,
   "id": "e0b16265",
   "metadata": {},
   "outputs": [
    {
     "data": {
      "text/plain": [
       "2230240"
      ]
     },
     "execution_count": 40,
     "metadata": {},
     "output_type": "execute_result"
    }
   ],
   "source": [
    "69695*32"
   ]
  },
  {
   "cell_type": "code",
   "execution_count": null,
   "id": "52118996",
   "metadata": {},
   "outputs": [],
   "source": []
  }
 ],
 "metadata": {
  "kernelspec": {
   "display_name": "Python 3 (ipykernel)",
   "language": "python",
   "name": "python3"
  },
  "language_info": {
   "codemirror_mode": {
    "name": "ipython",
    "version": 3
   },
   "file_extension": ".py",
   "mimetype": "text/x-python",
   "name": "python",
   "nbconvert_exporter": "python",
   "pygments_lexer": "ipython3",
   "version": "3.7.7"
  }
 },
 "nbformat": 4,
 "nbformat_minor": 5
}
