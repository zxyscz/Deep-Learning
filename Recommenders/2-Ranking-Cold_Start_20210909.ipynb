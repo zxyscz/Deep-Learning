{
 "cells": [
  {
   "cell_type": "markdown",
   "id": "85e74c6f",
   "metadata": {},
   "source": [
    "https://www.tensorflow.org/recommenders/examples/basic_ranking"
   ]
  },
  {
   "cell_type": "markdown",
   "id": "c90633b1",
   "metadata": {},
   "source": [
    "Real-world recommender systems are often composed of two stages:\n",
    "\n",
    "- The retrieval stage is responsible for selecting an initial set of hundreds of candidates from all possible candidates. The main objective of this model is to efficiently weed out all candidates that the user is not interested in. Because the retrieval model may be dealing with millions of candidates, it has to be computationally efficient.\n",
    "\n",
    "- The ranking stage takes the outputs of the retrieval model and fine-tunes them to select the best possible handful of recommendations. Its task is to narrow down the set of items the user may be interested in to a shortlist of likely candidates.\n",
    "\n",
    "We're going to focus on the second stage, ranking. If you are interested in the retrieval stage, have a look at our retrieval tutorial.\n",
    "\n",
    "In this tutorial, we're going to:\n",
    "\n",
    "- Get our data and split it into a training and test set.\n",
    "- Implement a ranking model.\n",
    "- Fit and evaluate it."
   ]
  },
  {
   "cell_type": "code",
   "execution_count": 1,
   "id": "f7604650",
   "metadata": {},
   "outputs": [],
   "source": [
    "import os\n",
    "import pprint\n",
    "import tempfile\n",
    "\n",
    "from typing import Dict, Text\n",
    "\n",
    "import numpy as np\n",
    "import pandas as pd"
   ]
  },
  {
   "cell_type": "code",
   "execution_count": 2,
   "id": "8d14aa48",
   "metadata": {},
   "outputs": [],
   "source": [
    "import tensorflow as tf\n",
    "import tensorflow_datasets as tfds"
   ]
  },
  {
   "cell_type": "code",
   "execution_count": 3,
   "id": "ffbeaf18",
   "metadata": {},
   "outputs": [],
   "source": [
    "import tensorflow_recommenders as tfrs"
   ]
  },
  {
   "cell_type": "markdown",
   "id": "d97c8200",
   "metadata": {},
   "source": [
    "### Preparing the dataset"
   ]
  },
  {
   "cell_type": "code",
   "execution_count": 19,
   "id": "a74bb927",
   "metadata": {},
   "outputs": [],
   "source": [
    "def load_data_file_cold(file, stats):\n",
    "    print('loading file:' + file)\n",
    "    training_df = pd.read_csv(\n",
    "        file,\n",
    "        skiprows=[0],\n",
    "        names=[\"viewer\",\"broadcaster\",\"viewer_age\",\"viewer_gender\",\"viewer_longitude\",\"viewer_latitude\",\"viewer_lang\",\"viewer_country\",\"broadcaster_age\",\"broadcaster_gender\",\"broadcaster_longitude\",\"broadcaster_latitude\",\"broadcaster_lang\",\"broadcaster_country\",\"duration\", \"viewer_network\", \"broadcaster_network\", \"count\"], dtype={\n",
    "            'viewer': np.unicode,\n",
    "            'broadcaster': np.unicode,\n",
    "            'viewer_age': np.single,\n",
    "            'viewer_gender': np.unicode,\n",
    "            'viewer_longitude': np.single,\n",
    "            'viewer_latitude': np.single,\n",
    "            'viewer_lang': np.unicode,\n",
    "            'viewer_country': np.unicode,\n",
    "            'broadcaster_age': np.single,\n",
    "            'broadcaster_longitude': np.single,\n",
    "            'broadcaster_latitude': np.single,\n",
    "            'broadcaster_lang': np.unicode,\n",
    "            'broadcaster_country': np.unicode,\n",
    "            'viewer_network': np.unicode,\n",
    "            'broadcaster_network': np.unicode,\n",
    "            'count': np.int\n",
    "        })\n",
    "\n",
    "    values = {\n",
    "        'viewer': 'unknown',\n",
    "        'broadcaster': 'unknown',\n",
    "        'viewer_age': 30,\n",
    "        'viewer_gender': 'unknown',\n",
    "        'viewer_longitude': 0,\n",
    "        'viewer_latitude': 0,\n",
    "        'viewer_lang': 'unknown',\n",
    "        'viewer_country': 'unknown',\n",
    "        'broadcaster_age': 30,\n",
    "        'broadcaster_longitude': 0,\n",
    "        'broadcaster_latitude': 0,\n",
    "        'broadcaster_lang': 'unknown',\n",
    "        'broadcaster_country': 'unknown',\n",
    "        'duration': 0,\n",
    "        'viewer_network': 'unknown',\n",
    "        'broadcaster_network': 'unknown',\n",
    "        'count': 0\n",
    "    }\n",
    "    training_df.fillna(value=values, inplace=True)\n",
    "#     print(training_df.head(10))\n",
    "#     print(training_df.iloc[-10:])\n",
    "#     stats.send_stats('data-size', len(training_df.index))\n",
    "\n",
    "    sampled_df = training_df.sample(frac=0.1)\n",
    "    print(sampled_df.head(10))\n",
    "    print(sampled_df.iloc[-10:])\n",
    "    return sampled_df\n",
    "\n",
    "def load_training_data_cold(file, stats):\n",
    "    ratings_df = load_data_file_cold(file, stats)\n",
    "    print('creating data set')\n",
    "    training_ds = (\n",
    "        tf.data.Dataset.from_tensor_slices(\n",
    "            ({\n",
    "                \"viewer\": tf.cast(\n",
    "                    ratings_df['viewer'].values,\n",
    "                    tf.string),\n",
    "                \"viewer_gender\": tf.cast(\n",
    "                    ratings_df['viewer_gender'].values,\n",
    "                    tf.string),\n",
    "                \"viewer_lang\": tf.cast(\n",
    "                    ratings_df['viewer_lang'].values,\n",
    "                    tf.string),\n",
    "                \"viewer_country\": tf.cast(\n",
    "                    ratings_df['viewer_country'].values,\n",
    "                    tf.string),\n",
    "                \"viewer_age\": tf.cast(\n",
    "                    ratings_df['viewer_age'].values,\n",
    "                    tf.int16),\n",
    "                \"viewer_longitude\": tf.cast(\n",
    "                    ratings_df['viewer_longitude'].values,\n",
    "                    tf.float16),\n",
    "                \"viewer_latitude\": tf.cast(\n",
    "                    ratings_df['viewer_latitude'].values,\n",
    "                    tf.float16),\n",
    "                \"broadcaster\": tf.cast(\n",
    "                    ratings_df['broadcaster'].values,\n",
    "                    tf.string),\n",
    "                \"viewer_network\": tf.cast(\n",
    "                    ratings_df['viewer_network'].values,\n",
    "                    tf.string),\n",
    "                \"broadcaster_network\": tf.cast(\n",
    "                    ratings_df['broadcaster_network'].values,\n",
    "                    tf.string),\n",
    "                \"duration\": tf.cast(\n",
    "                    ratings_df['duration'].values,\n",
    "                    tf.float16),\n",
    "                \"count\": tf.cast(\n",
    "                    ratings_df['count'].values,\n",
    "                    tf.int16),\n",
    "            })))\n",
    "\n",
    "    return training_ds"
   ]
  },
  {
   "cell_type": "code",
   "execution_count": 20,
   "id": "44999be9",
   "metadata": {},
   "outputs": [],
   "source": [
    "def convert_to_dense(x, dims):\n",
    "    if type(x) == tf.SparseTensor:\n",
    "        default_value = \"\" if x.dtype == tf.string else 0\n",
    "        return tf.reshape(\n",
    "            tf.squeeze(tf.sparse_to_dense(x.indices, [x.dense_shape[0], dims], x.values, default_value)), [-1, dims]\n",
    "        )\n",
    "    else:\n",
    "        return tf.reshape(tf.squeeze(x), [-1, dims])"
   ]
  },
  {
   "cell_type": "code",
   "execution_count": 21,
   "id": "b251bc87",
   "metadata": {},
   "outputs": [
    {
     "name": "stdout",
     "output_type": "stream",
     "text": [
      "loading file:a3d86f3b-eb45-4641-b05d-30dff7423e6b.csv\n",
      "                   viewer       broadcaster  viewer_age viewer_gender  \\\n",
      "4334600  meetme:317107180  meetme:277122109        37.0        female   \n",
      "5163378  meetme:317885958  meetme:285610962        42.0          male   \n",
      "1207811     pof:206886313  meetme:176496069        28.0          male   \n",
      "2409986   skout:171062405   skout:182827501        53.0          male   \n",
      "4311241   meetme:95307095     pof:322045884        33.0          male   \n",
      "2022693   skout:163687348   skout:181243363        22.0          male   \n",
      "4039038   skout:178025563  meetme:214440162        65.0        female   \n",
      "3850798   skout:178189061  meetme:271665969        30.0          male   \n",
      "4815759     pof:113662751   skout:168883218        44.0          male   \n",
      "580640    skout:178190394   skout:155616729        47.0        female   \n",
      "\n",
      "         viewer_longitude  viewer_latitude viewer_lang viewer_country  \\\n",
      "4334600        -99.048599        19.325701          es             US   \n",
      "5163378       -106.558998        35.056499          en             US   \n",
      "1207811        151.199997       -33.900002          en             US   \n",
      "2409986        114.197998        22.291000          zh             HK   \n",
      "4311241       -116.686401        43.663101          en             US   \n",
      "2022693        100.392998        13.713000          th             TH   \n",
      "4039038        121.082001        14.532000          en             US   \n",
      "3850798         -0.170000        51.523998          en             GB   \n",
      "4815759       -117.199997        32.799999          en             US   \n",
      "580640          25.000000        46.000000          it             IT   \n",
      "\n",
      "         broadcaster_age broadcaster_gender  broadcaster_longitude  \\\n",
      "4334600             34.0             female            -100.995399   \n",
      "5163378             55.0             female             -98.275902   \n",
      "1207811             28.0             female             151.207108   \n",
      "2409986             29.0             female             114.172997   \n",
      "4311241             26.0             female             -74.000000   \n",
      "2022693             32.0             female             100.458000   \n",
      "4039038             30.0               male            -121.888702   \n",
      "3850798             27.0             female               0.048800   \n",
      "4815759             50.0             female            -106.667999   \n",
      "580640              48.0               male              10.877000   \n",
      "\n",
      "         broadcaster_latitude broadcaster_lang broadcaster_country  duration  \\\n",
      "4334600             25.426701               es                  MX       399   \n",
      "5163378             29.478201               en                  US        76   \n",
      "1207811            -33.867100               en                  AU       195   \n",
      "2409986             22.278000               en                  HK       158   \n",
      "4311241             40.799999               en                  US       139   \n",
      "2022693             13.756000               th                  TH      1065   \n",
      "4039038             37.343498               en                  US       107   \n",
      "3850798             51.468700               en                  GB       123   \n",
      "4815759             35.081001               en                  US       299   \n",
      "580640              43.714001               it                  IT        97   \n",
      "\n",
      "        viewer_network broadcaster_network  count  \n",
      "4334600         meetme              meetme      2  \n",
      "5163378         meetme              meetme      1  \n",
      "1207811            pof              meetme      2  \n",
      "2409986          skout               skout      2  \n",
      "4311241         meetme                 pof      1  \n",
      "2022693          skout               skout      3  \n",
      "4039038          skout              meetme      1  \n",
      "3850798          skout              meetme      2  \n",
      "4815759            pof               skout      3  \n",
      "580640           skout               skout      1  \n",
      "                   viewer       broadcaster  viewer_age viewer_gender  \\\n",
      "3090840     pof:317466901  meetme:206237331        26.0          male   \n",
      "2372677  meetme:310877185     pof:203043357        37.0        female   \n",
      "3874258     pof:309327333     pof:329903842        22.0          male   \n",
      "3986467  meetme:133252767  meetme:218047265        60.0          male   \n",
      "1732681    skout:39530715     pof:320105755        46.0          male   \n",
      "3366038   skout:181909973   skout:178872303        29.0          male   \n",
      "471803      pof:294353285   skout:177125981        32.0          male   \n",
      "1670208   skout:174516546  meetme:308663123        22.0          male   \n",
      "822919   meetme:316247573     pof:331262342        36.0          male   \n",
      "4407161   skout:168196729   skout:183636079        23.0          male   \n",
      "\n",
      "         viewer_longitude  viewer_latitude viewer_lang viewer_country  \\\n",
      "3090840         -2.900000        53.400002          en             US   \n",
      "2372677        -72.202599        44.944901          en             US   \n",
      "3874258         -0.800000        52.099998          en             US   \n",
      "3986467          4.829100        45.759300          fr             FR   \n",
      "1732681        -82.565002        41.401001          en             EN   \n",
      "3366038         72.857002        19.304001          en             US   \n",
      "471803         -90.300003        38.599998          en             US   \n",
      "1670208        113.929001        22.313000          en             GB   \n",
      "822919         -80.762398        40.897400          en             US   \n",
      "4407161        -74.200996        42.933998          en             US   \n",
      "\n",
      "         broadcaster_age broadcaster_gender  broadcaster_longitude  \\\n",
      "3090840             38.0             female             -80.144699   \n",
      "2372677             39.0               male              -0.100000   \n",
      "3874258             36.0             female               0.500000   \n",
      "3986467             35.0             female             -81.049599   \n",
      "1732681             23.0             female             -83.099998   \n",
      "3366038             34.0             female              73.957001   \n",
      "471803              36.0             female             -84.273003   \n",
      "1670208             36.0             female            -112.069603   \n",
      "822919              23.0             female            -114.000000   \n",
      "4407161             32.0             female             -88.542000   \n",
      "\n",
      "         broadcaster_latitude broadcaster_lang broadcaster_country  duration  \\\n",
      "3090840             25.784901               en                  US        53   \n",
      "2372677             51.400002               en                  GB        99   \n",
      "3874258             50.900002               en                  GB        56   \n",
      "3986467             29.195400               en                  US       105   \n",
      "1732681             42.400002               en                  US       239   \n",
      "3366038             18.558001               en                  IN        70   \n",
      "471803              39.063999               en                  US       117   \n",
      "1670208             33.449200               en                  US        86   \n",
      "822919              51.200001               en                  CA      1967   \n",
      "4407161             44.000999               en                  US      6573   \n",
      "\n",
      "        viewer_network broadcaster_network  count  \n",
      "3090840            pof              meetme     10  \n",
      "2372677         meetme                 pof      1  \n",
      "3874258            pof                 pof      2  \n",
      "3986467         meetme              meetme      5  \n",
      "1732681          skout                 pof      2  \n",
      "3366038          skout               skout      1  \n",
      "471803             pof               skout      1  \n",
      "1670208          skout              meetme      1  \n",
      "822919          meetme                 pof     14  \n",
      "4407161          skout               skout      6  \n",
      "creating data set\n",
      "WARNING:tensorflow:AutoGraph could not transform <function <lambda> at 0x7f8d401c7830> and will run it as-is.\n",
      "Please report this to the TensorFlow team. When filing the bug, set the verbosity to 10 (on Linux, `export AUTOGRAPH_VERBOSITY=10`) and attach the full output.\n",
      "Cause: module 'gast' has no attribute 'Constant'\n",
      "To silence this warning, decorate the function with @tf.autograph.experimental.do_not_convert\n",
      "WARNING: AutoGraph could not transform <function <lambda> at 0x7f8d401c7830> and will run it as-is.\n",
      "Please report this to the TensorFlow team. When filing the bug, set the verbosity to 10 (on Linux, `export AUTOGRAPH_VERBOSITY=10`) and attach the full output.\n",
      "Cause: module 'gast' has no attribute 'Constant'\n",
      "To silence this warning, decorate the function with @tf.autograph.experimental.do_not_convert\n"
     ]
    }
   ],
   "source": [
    "ratings = load_training_data_cold(file=\"a3d86f3b-eb45-4641-b05d-30dff7423e6b.csv\", stats=\"\")\n",
    "\n",
    "ratings = ratings.map(lambda x: {\n",
    "    \"broadcaster\": x[\"broadcaster\"],\n",
    "    \"viewer\": x[\"viewer\"],\n",
    "    \"count\": x[\"count\"]\n",
    "})"
   ]
  },
  {
   "cell_type": "code",
   "execution_count": 7,
   "id": "cee0171b",
   "metadata": {},
   "outputs": [],
   "source": [
    "tf.random.set_seed(42)\n",
    "shuffled = ratings.shuffle(100_000, seed=42, reshuffle_each_iteration=False)\n",
    "\n",
    "train = shuffled.take(80_000)\n",
    "test = shuffled.skip(80_000).take(20_000)"
   ]
  },
  {
   "cell_type": "code",
   "execution_count": 8,
   "id": "50e741ec",
   "metadata": {},
   "outputs": [
    {
     "name": "stdout",
     "output_type": "stream",
     "text": [
      "WARNING:tensorflow:AutoGraph could not transform <function <lambda> at 0x7f8ce18a10e0> and will run it as-is.\n",
      "Please report this to the TensorFlow team. When filing the bug, set the verbosity to 10 (on Linux, `export AUTOGRAPH_VERBOSITY=10`) and attach the full output.\n",
      "Cause: module 'gast' has no attribute 'Constant'\n",
      "To silence this warning, decorate the function with @tf.autograph.experimental.do_not_convert\n",
      "WARNING: AutoGraph could not transform <function <lambda> at 0x7f8ce18a10e0> and will run it as-is.\n",
      "Please report this to the TensorFlow team. When filing the bug, set the verbosity to 10 (on Linux, `export AUTOGRAPH_VERBOSITY=10`) and attach the full output.\n",
      "Cause: module 'gast' has no attribute 'Constant'\n",
      "To silence this warning, decorate the function with @tf.autograph.experimental.do_not_convert\n",
      "WARNING:tensorflow:AutoGraph could not transform <function <lambda> at 0x7f8ce18a14d0> and will run it as-is.\n",
      "Please report this to the TensorFlow team. When filing the bug, set the verbosity to 10 (on Linux, `export AUTOGRAPH_VERBOSITY=10`) and attach the full output.\n",
      "Cause: module 'gast' has no attribute 'Constant'\n",
      "To silence this warning, decorate the function with @tf.autograph.experimental.do_not_convert\n",
      "WARNING: AutoGraph could not transform <function <lambda> at 0x7f8ce18a14d0> and will run it as-is.\n",
      "Please report this to the TensorFlow team. When filing the bug, set the verbosity to 10 (on Linux, `export AUTOGRAPH_VERBOSITY=10`) and attach the full output.\n",
      "Cause: module 'gast' has no attribute 'Constant'\n",
      "To silence this warning, decorate the function with @tf.autograph.experimental.do_not_convert\n"
     ]
    }
   ],
   "source": [
    "broadcaster_ids = ratings.batch(1_000_000).map(lambda x: x[\"broadcaster\"])\n",
    "user_ids = ratings.batch(1_000_000).map(lambda x: x[\"viewer\"])"
   ]
  },
  {
   "cell_type": "code",
   "execution_count": 9,
   "id": "65a979bc",
   "metadata": {},
   "outputs": [
    {
     "data": {
      "text/plain": [
       "array([b'meetme:100081867', b'meetme:100104254', b'meetme:100114731', ...,\n",
       "       b'zoosk:fd7a32868c43ed589efba6653949426c',\n",
       "       b'zoosk:ff0ba42fa32cddbec949c96694895fe2',\n",
       "       b'zoosk:ffd69ee0bb59b722020f374298b9e0b9'], dtype=object)"
      ]
     },
     "execution_count": 9,
     "metadata": {},
     "output_type": "execute_result"
    }
   ],
   "source": [
    "unique_broadcaster_ids = np.unique(np.concatenate(list(broadcaster_ids)))\n",
    "unique_broadcaster_ids"
   ]
  },
  {
   "cell_type": "code",
   "execution_count": 10,
   "id": "5d1985a7",
   "metadata": {},
   "outputs": [
    {
     "data": {
      "text/plain": [
       "array([b'meetme:100030793', b'meetme:100081867', b'meetme:100116030',\n",
       "       b'meetme:10015227', b'meetme:100155917', b'meetme:100190086',\n",
       "       b'meetme:100196265', b'meetme:100197023', b'meetme:100198242',\n",
       "       b'meetme:100200365'], dtype=object)"
      ]
     },
     "execution_count": 10,
     "metadata": {},
     "output_type": "execute_result"
    }
   ],
   "source": [
    "unique_user_ids = np.unique(np.concatenate(list(user_ids)))\n",
    "unique_user_ids[:10]"
   ]
  },
  {
   "cell_type": "markdown",
   "id": "c7033e69",
   "metadata": {},
   "source": [
    "### Candidate / Ranking model"
   ]
  },
  {
   "cell_type": "code",
   "execution_count": 11,
   "id": "16435daa",
   "metadata": {},
   "outputs": [],
   "source": [
    "class RankingModel(tf.keras.Model):\n",
    "\n",
    "\tdef __init__(self):\n",
    "\t\tsuper().__init__()\n",
    "\t\tembedding_dimension = 32\n",
    "\t\tmax_tokens = 10_000\n",
    "\n",
    "\t\t# Compute embeddings for users.\n",
    "\t\tself.user_embeddings = tf.keras.Sequential([\n",
    "\t\t\ttf.keras.layers.experimental.preprocessing.StringLookup(\n",
    "\t\t\t\tvocabulary = unique_user_ids, mask_token = None),\n",
    "\t\t\ttf.keras.layers.Embedding(len(unique_user_ids) + 1, embedding_dimension)\n",
    "\t\t])\n",
    "\n",
    "\t\t# Compute embeddings for movies.\n",
    "\t\tself.broadcaster_embedding = tf.keras.Sequential([\n",
    "\t\t\ttf.keras.layers.experimental.preprocessing.StringLookup(\n",
    "\t\t\t\tvocabulary = unique_broadcaster_ids, max_tokens=None),\n",
    "\t\t\ttf.keras.layers.Embedding(len(unique_broadcaster_ids) + 1, embedding_dimension)\n",
    "\t\t])\n",
    "\n",
    "\t\t# Compute predictions.\n",
    "\t\tself.ratings = tf.keras.Sequential([\n",
    "\t\t\t# Learn multiple dense layers.\n",
    "\t\t\ttf.keras.layers.Dense(256, activation = \"relu\"),\n",
    "\t\t\ttf.keras.layers.Dense(64, activation = \"relu\"),\n",
    "\t\t\t# Make rating predictions in the final layer.\n",
    "\t\t\ttf.keras.layers.Dense(1)\n",
    "\t\t])\n",
    "\n",
    "\tdef call(self, inputs):\n",
    "\t\tuser_id, broadcaster = inputs\n",
    "\n",
    "\t\tuser_embedding = self.user_embeddings(user_id)\n",
    "\t\tbroadcaster_embedding = self.broadcaster_embedding(broadcaster)\n",
    "\n",
    "\t\treturn self.ratings(tf.concat([user_embedding, broadcaster_embedding], axis = 1))"
   ]
  },
  {
   "cell_type": "markdown",
   "id": "53d34afe",
   "metadata": {},
   "source": [
    "### Loss and metrics"
   ]
  },
  {
   "cell_type": "code",
   "execution_count": 12,
   "id": "7d26afd0",
   "metadata": {},
   "outputs": [],
   "source": [
    "task = tfrs.tasks.Ranking(\n",
    "  loss = tf.keras.losses.MeanSquaredError(),\n",
    "  metrics=[tf.keras.metrics.RootMeanSquaredError()]\n",
    ")"
   ]
  },
  {
   "cell_type": "markdown",
   "id": "d67cfa9e",
   "metadata": {},
   "source": [
    "### Full model"
   ]
  },
  {
   "cell_type": "code",
   "execution_count": 13,
   "id": "e2fdb2c1",
   "metadata": {},
   "outputs": [],
   "source": [
    "class MovielensModel(tfrs.models.Model) :\n",
    "\n",
    "\tdef __init__(self) :\n",
    "\t\tsuper().__init__()\n",
    "\t\tself.ranking_model: tf.keras.Model = RankingModel()\n",
    "\t\tself.task: tf.keras.layers.Layer = tfrs.tasks.Ranking(\n",
    "\t\t\tloss = tf.keras.losses.MeanSquaredError(),\n",
    "\t\t\tmetrics = [tf.keras.metrics.RootMeanSquaredError()]\n",
    "\t\t)\n",
    "\n",
    "\tdef call(self, features: Dict[str, tf.Tensor]) -> tf.Tensor :\n",
    "\t\treturn self.ranking_model(\n",
    "\t\t\t(features[\"viewer\"], features[\"broadcaster\"]))\n",
    "\n",
    "\tdef compute_loss(self, features: Dict[Text, tf.Tensor], training = False) -> tf.Tensor :\n",
    "\t\tlabels = features.pop(\"count\")\n",
    "\n",
    "\t\trating_predictions = self(features)\n",
    "\n",
    "\t\t# The task computes the loss and the metrics.\n",
    "\t\treturn self.task(labels = labels, predictions = rating_predictions)"
   ]
  },
  {
   "cell_type": "markdown",
   "id": "d8364291",
   "metadata": {},
   "source": [
    "### Fitting and evaluating"
   ]
  },
  {
   "cell_type": "code",
   "execution_count": 14,
   "id": "86cf681a",
   "metadata": {},
   "outputs": [],
   "source": [
    "model = MovielensModel()\n",
    "model.compile(optimizer=tf.keras.optimizers.Adagrad(learning_rate=0.001))"
   ]
  },
  {
   "cell_type": "code",
   "execution_count": 15,
   "id": "b6c663a5",
   "metadata": {},
   "outputs": [],
   "source": [
    "cached_train = train.shuffle(100_000).batch(8192).cache()\n",
    "cached_test = test.batch(1_000_00).cache()"
   ]
  },
  {
   "cell_type": "code",
   "execution_count": 16,
   "id": "cd57a6b7",
   "metadata": {},
   "outputs": [
    {
     "name": "stdout",
     "output_type": "stream",
     "text": [
      "Epoch 1/10\n",
      "WARNING:tensorflow:AutoGraph could not transform <function Model.make_train_function.<locals>.train_function at 0x7f8ce0cdbd40> and will run it as-is.\n",
      "Please report this to the TensorFlow team. When filing the bug, set the verbosity to 10 (on Linux, `export AUTOGRAPH_VERBOSITY=10`) and attach the full output.\n",
      "Cause: 'arguments' object has no attribute 'posonlyargs'\n",
      "To silence this warning, decorate the function with @tf.autograph.experimental.do_not_convert\n",
      "WARNING: AutoGraph could not transform <function Model.make_train_function.<locals>.train_function at 0x7f8ce0cdbd40> and will run it as-is.\n",
      "Please report this to the TensorFlow team. When filing the bug, set the verbosity to 10 (on Linux, `export AUTOGRAPH_VERBOSITY=10`) and attach the full output.\n",
      "Cause: 'arguments' object has no attribute 'posonlyargs'\n",
      "To silence this warning, decorate the function with @tf.autograph.experimental.do_not_convert\n",
      "WARNING:tensorflow:AutoGraph could not transform <bound method MovielensModel.call of <__main__.MovielensModel object at 0x7f8d3d8cc7d0>> and will run it as-is.\n",
      "Please report this to the TensorFlow team. When filing the bug, set the verbosity to 10 (on Linux, `export AUTOGRAPH_VERBOSITY=10`) and attach the full output.\n",
      "Cause: module 'gast' has no attribute 'Constant'\n",
      "To silence this warning, decorate the function with @tf.autograph.experimental.do_not_convert\n",
      "WARNING: AutoGraph could not transform <bound method MovielensModel.call of <__main__.MovielensModel object at 0x7f8d3d8cc7d0>> and will run it as-is.\n",
      "Please report this to the TensorFlow team. When filing the bug, set the verbosity to 10 (on Linux, `export AUTOGRAPH_VERBOSITY=10`) and attach the full output.\n",
      "Cause: module 'gast' has no attribute 'Constant'\n",
      "To silence this warning, decorate the function with @tf.autograph.experimental.do_not_convert\n",
      "WARNING:tensorflow:AutoGraph could not transform <bound method RankingModel.call of <__main__.RankingModel object at 0x7f8d3d8ccf50>> and will run it as-is.\n",
      "Please report this to the TensorFlow team. When filing the bug, set the verbosity to 10 (on Linux, `export AUTOGRAPH_VERBOSITY=10`) and attach the full output.\n",
      "Cause: 'arguments' object has no attribute 'posonlyargs'\n",
      "To silence this warning, decorate the function with @tf.autograph.experimental.do_not_convert\n",
      "WARNING: AutoGraph could not transform <bound method RankingModel.call of <__main__.RankingModel object at 0x7f8d3d8ccf50>> and will run it as-is.\n",
      "Please report this to the TensorFlow team. When filing the bug, set the verbosity to 10 (on Linux, `export AUTOGRAPH_VERBOSITY=10`) and attach the full output.\n",
      "Cause: 'arguments' object has no attribute 'posonlyargs'\n",
      "To silence this warning, decorate the function with @tf.autograph.experimental.do_not_convert\n",
      "WARNING:tensorflow:AutoGraph could not transform <bound method Ranking.call of <tensorflow_recommenders.tasks.ranking.Ranking object at 0x7f8d3d8c1690>> and will run it as-is.\n",
      "Please report this to the TensorFlow team. When filing the bug, set the verbosity to 10 (on Linux, `export AUTOGRAPH_VERBOSITY=10`) and attach the full output.\n",
      "Cause: module 'gast' has no attribute 'Constant'\n",
      "To silence this warning, decorate the function with @tf.autograph.experimental.do_not_convert\n",
      "WARNING: AutoGraph could not transform <bound method Ranking.call of <tensorflow_recommenders.tasks.ranking.Ranking object at 0x7f8d3d8c1690>> and will run it as-is.\n",
      "Please report this to the TensorFlow team. When filing the bug, set the verbosity to 10 (on Linux, `export AUTOGRAPH_VERBOSITY=10`) and attach the full output.\n",
      "Cause: module 'gast' has no attribute 'Constant'\n",
      "To silence this warning, decorate the function with @tf.autograph.experimental.do_not_convert\n",
      "10/10 [==============================] - 3s 39ms/step - root_mean_squared_error: 4.4853 - loss: 19.7958 - regularization_loss: 0.0000e+00 - total_loss: 19.7958\n",
      "Epoch 2/10\n",
      "10/10 [==============================] - 0s 12ms/step - root_mean_squared_error: 4.4641 - loss: 19.6084 - regularization_loss: 0.0000e+00 - total_loss: 19.6084\n",
      "Epoch 3/10\n",
      "10/10 [==============================] - 0s 12ms/step - root_mean_squared_error: 4.4458 - loss: 19.4464 - regularization_loss: 0.0000e+00 - total_loss: 19.4464\n",
      "Epoch 4/10\n",
      "10/10 [==============================] - 0s 12ms/step - root_mean_squared_error: 4.4289 - loss: 19.2964 - regularization_loss: 0.0000e+00 - total_loss: 19.2964\n",
      "Epoch 5/10\n",
      "10/10 [==============================] - 0s 12ms/step - root_mean_squared_error: 4.4130 - loss: 19.1565 - regularization_loss: 0.0000e+00 - total_loss: 19.1565\n",
      "Epoch 6/10\n",
      "10/10 [==============================] - 0s 12ms/step - root_mean_squared_error: 4.3979 - loss: 19.0243 - regularization_loss: 0.0000e+00 - total_loss: 19.0243\n",
      "Epoch 7/10\n",
      "10/10 [==============================] - 0s 12ms/step - root_mean_squared_error: 4.3834 - loss: 18.8974 - regularization_loss: 0.0000e+00 - total_loss: 18.8974\n",
      "Epoch 8/10\n",
      "10/10 [==============================] - 0s 12ms/step - root_mean_squared_error: 4.3693 - loss: 18.7741 - regularization_loss: 0.0000e+00 - total_loss: 18.7741\n",
      "Epoch 9/10\n",
      "10/10 [==============================] - 0s 12ms/step - root_mean_squared_error: 4.3554 - loss: 18.6531 - regularization_loss: 0.0000e+00 - total_loss: 18.6531\n",
      "Epoch 10/10\n",
      "10/10 [==============================] - 0s 12ms/step - root_mean_squared_error: 4.3417 - loss: 18.5337 - regularization_loss: 0.0000e+00 - total_loss: 18.5337\n"
     ]
    },
    {
     "data": {
      "text/plain": [
       "<keras.callbacks.History at 0x7f8d3d8c6fd0>"
      ]
     },
     "execution_count": 16,
     "metadata": {},
     "output_type": "execute_result"
    }
   ],
   "source": [
    "model.fit(cached_train, epochs=10)"
   ]
  },
  {
   "cell_type": "code",
   "execution_count": 17,
   "id": "0c053fa7",
   "metadata": {},
   "outputs": [
    {
     "name": "stdout",
     "output_type": "stream",
     "text": [
      "WARNING:tensorflow:AutoGraph could not transform <function Model.make_test_function.<locals>.test_function at 0x7f8ce0cdbdd0> and will run it as-is.\n",
      "Please report this to the TensorFlow team. When filing the bug, set the verbosity to 10 (on Linux, `export AUTOGRAPH_VERBOSITY=10`) and attach the full output.\n",
      "Cause: 'arguments' object has no attribute 'posonlyargs'\n",
      "To silence this warning, decorate the function with @tf.autograph.experimental.do_not_convert\n",
      "WARNING: AutoGraph could not transform <function Model.make_test_function.<locals>.test_function at 0x7f8ce0cdbdd0> and will run it as-is.\n",
      "Please report this to the TensorFlow team. When filing the bug, set the verbosity to 10 (on Linux, `export AUTOGRAPH_VERBOSITY=10`) and attach the full output.\n",
      "Cause: 'arguments' object has no attribute 'posonlyargs'\n",
      "To silence this warning, decorate the function with @tf.autograph.experimental.do_not_convert\n",
      "1/1 [==============================] - 3s 3s/step - root_mean_squared_error: 4.5965 - loss: 21.1282 - regularization_loss: 0.0000e+00 - total_loss: 21.1282\n"
     ]
    },
    {
     "data": {
      "text/plain": [
       "{'root_mean_squared_error': 4.596546173095703,\n",
       " 'loss': 21.12823486328125,\n",
       " 'regularization_loss': 0,\n",
       " 'total_loss': 21.12823486328125}"
      ]
     },
     "execution_count": 17,
     "metadata": {},
     "output_type": "execute_result"
    }
   ],
   "source": [
    "model.evaluate(cached_test, return_dict=True)"
   ]
  },
  {
   "cell_type": "markdown",
   "id": "55a23319",
   "metadata": {},
   "source": [
    "### Testing the ranking model"
   ]
  },
  {
   "cell_type": "code",
   "execution_count": 29,
   "id": "ec3afc35",
   "metadata": {},
   "outputs": [
    {
     "name": "stdout",
     "output_type": "stream",
     "text": [
      "Ratings:\n",
      "pof:312971369: [[0.34892666]]\n",
      "pof:312971368: [[0.33957207]]\n",
      "pof:312971367: [[0.33957207]]\n"
     ]
    }
   ],
   "source": [
    "test_ratings = {}\n",
    "test_broadcasters = ['pof:312971369', 'pof:312971368','pof:312971367']\n",
    "for bradcaster_id in test_broadcasters:\n",
    "    test_ratings[bradcaster_id] = model({\n",
    "    \"viewer\": np.array([ \"meetme:100116030\" ]),\n",
    "    \"broadcaster\": np.array([bradcaster_id])\n",
    "  })\n",
    "\n",
    "print(\"Ratings:\")\n",
    "for bradcaster_id, score in sorted(test_ratings.items(), key=lambda x: x[1], reverse=True):\n",
    "    print(f\"{bradcaster_id}: {score}\")"
   ]
  },
  {
   "cell_type": "markdown",
   "id": "24f98759",
   "metadata": {},
   "source": [
    "### Exporting for serving"
   ]
  },
  {
   "cell_type": "code",
   "execution_count": 31,
   "id": "457bb1c4",
   "metadata": {},
   "outputs": [
    {
     "name": "stdout",
     "output_type": "stream",
     "text": [
      "WARNING:tensorflow:AutoGraph could not transform <function trace_model_call.<locals>._wrapped_model at 0x7f8d7f94d3b0> and will run it as-is.\n",
      "Please report this to the TensorFlow team. When filing the bug, set the verbosity to 10 (on Linux, `export AUTOGRAPH_VERBOSITY=10`) and attach the full output.\n",
      "Cause: module 'gast' has no attribute 'Constant'\n",
      "To silence this warning, decorate the function with @tf.autograph.experimental.do_not_convert\n",
      "WARNING: AutoGraph could not transform <function trace_model_call.<locals>._wrapped_model at 0x7f8d7f94d3b0> and will run it as-is.\n",
      "Please report this to the TensorFlow team. When filing the bug, set the verbosity to 10 (on Linux, `export AUTOGRAPH_VERBOSITY=10`) and attach the full output.\n",
      "Cause: module 'gast' has no attribute 'Constant'\n",
      "To silence this warning, decorate the function with @tf.autograph.experimental.do_not_convert\n",
      "WARNING:tensorflow:AutoGraph could not transform <function canonicalize_signatures.<locals>.signature_wrapper at 0x7f8d0e90dd40> and will run it as-is.\n",
      "Please report this to the TensorFlow team. When filing the bug, set the verbosity to 10 (on Linux, `export AUTOGRAPH_VERBOSITY=10`) and attach the full output.\n",
      "Cause: 'arguments' object has no attribute 'posonlyargs'\n",
      "To silence this warning, decorate the function with @tf.autograph.experimental.do_not_convert\n",
      "WARNING: AutoGraph could not transform <function canonicalize_signatures.<locals>.signature_wrapper at 0x7f8d0e90dd40> and will run it as-is.\n",
      "Please report this to the TensorFlow team. When filing the bug, set the verbosity to 10 (on Linux, `export AUTOGRAPH_VERBOSITY=10`) and attach the full output.\n",
      "Cause: 'arguments' object has no attribute 'posonlyargs'\n",
      "To silence this warning, decorate the function with @tf.autograph.experimental.do_not_convert\n"
     ]
    },
    {
     "name": "stderr",
     "output_type": "stream",
     "text": [
      "WARNING:absl:Found untraced functions such as ranking_1_layer_call_fn, ranking_1_layer_call_and_return_conditional_losses, ranking_1_layer_call_fn, ranking_1_layer_call_and_return_conditional_losses, ranking_1_layer_call_and_return_conditional_losses while saving (showing 5 of 5). These functions will not be directly callable after loading.\n"
     ]
    },
    {
     "name": "stdout",
     "output_type": "stream",
     "text": [
      "WARNING:tensorflow:AutoGraph could not transform <function _trace_resource_initializers.<locals>._wrap_obj_initializer.<locals>.<lambda> at 0x7f8ce30aacb0> and will run it as-is.\n",
      "Please report this to the TensorFlow team. When filing the bug, set the verbosity to 10 (on Linux, `export AUTOGRAPH_VERBOSITY=10`) and attach the full output.\n",
      "Cause: 'arguments' object has no attribute 'posonlyargs'\n",
      "To silence this warning, decorate the function with @tf.autograph.experimental.do_not_convert\n"
     ]
    },
    {
     "name": "stderr",
     "output_type": "stream",
     "text": [
      "WARNING:tensorflow:AutoGraph could not transform <function _trace_resource_initializers.<locals>._wrap_obj_initializer.<locals>.<lambda> at 0x7f8ce30aacb0> and will run it as-is.\n",
      "Please report this to the TensorFlow team. When filing the bug, set the verbosity to 10 (on Linux, `export AUTOGRAPH_VERBOSITY=10`) and attach the full output.\n",
      "Cause: 'arguments' object has no attribute 'posonlyargs'\n",
      "To silence this warning, decorate the function with @tf.autograph.experimental.do_not_convert\n"
     ]
    },
    {
     "name": "stdout",
     "output_type": "stream",
     "text": [
      "WARNING: AutoGraph could not transform <function _trace_resource_initializers.<locals>._wrap_obj_initializer.<locals>.<lambda> at 0x7f8ce30aacb0> and will run it as-is.\n",
      "Please report this to the TensorFlow team. When filing the bug, set the verbosity to 10 (on Linux, `export AUTOGRAPH_VERBOSITY=10`) and attach the full output.\n",
      "Cause: 'arguments' object has no attribute 'posonlyargs'\n",
      "To silence this warning, decorate the function with @tf.autograph.experimental.do_not_convert\n",
      "WARNING:tensorflow:AutoGraph could not transform <function _trace_resource_initializers.<locals>._wrap_obj_initializer.<locals>.<lambda> at 0x7f8d415693b0> and will run it as-is.\n",
      "Please report this to the TensorFlow team. When filing the bug, set the verbosity to 10 (on Linux, `export AUTOGRAPH_VERBOSITY=10`) and attach the full output.\n",
      "Cause: 'arguments' object has no attribute 'posonlyargs'\n",
      "To silence this warning, decorate the function with @tf.autograph.experimental.do_not_convert\n"
     ]
    },
    {
     "name": "stderr",
     "output_type": "stream",
     "text": [
      "WARNING:tensorflow:AutoGraph could not transform <function _trace_resource_initializers.<locals>._wrap_obj_initializer.<locals>.<lambda> at 0x7f8d415693b0> and will run it as-is.\n",
      "Please report this to the TensorFlow team. When filing the bug, set the verbosity to 10 (on Linux, `export AUTOGRAPH_VERBOSITY=10`) and attach the full output.\n",
      "Cause: 'arguments' object has no attribute 'posonlyargs'\n",
      "To silence this warning, decorate the function with @tf.autograph.experimental.do_not_convert\n"
     ]
    },
    {
     "name": "stdout",
     "output_type": "stream",
     "text": [
      "WARNING: AutoGraph could not transform <function _trace_resource_initializers.<locals>._wrap_obj_initializer.<locals>.<lambda> at 0x7f8d415693b0> and will run it as-is.\n",
      "Please report this to the TensorFlow team. When filing the bug, set the verbosity to 10 (on Linux, `export AUTOGRAPH_VERBOSITY=10`) and attach the full output.\n",
      "Cause: 'arguments' object has no attribute 'posonlyargs'\n",
      "To silence this warning, decorate the function with @tf.autograph.experimental.do_not_convert\n",
      "INFO:tensorflow:Assets written to: export/assets\n"
     ]
    },
    {
     "name": "stderr",
     "output_type": "stream",
     "text": [
      "INFO:tensorflow:Assets written to: export/assets\n"
     ]
    }
   ],
   "source": [
    "tf.saved_model.save(model, \"export\")"
   ]
  },
  {
   "cell_type": "code",
   "execution_count": 32,
   "id": "5d32aba4",
   "metadata": {},
   "outputs": [
    {
     "data": {
      "text/plain": [
       "array([[0.34892666]], dtype=float32)"
      ]
     },
     "execution_count": 32,
     "metadata": {},
     "output_type": "execute_result"
    }
   ],
   "source": [
    "loaded = tf.saved_model.load(\"export\")\n",
    "loaded({\"viewer\": np.array([\"meetme:100116030\"]), \"broadcaster\": [\"pof:312971369\"]}).numpy()"
   ]
  },
  {
   "cell_type": "code",
   "execution_count": null,
   "id": "81d5ed29",
   "metadata": {},
   "outputs": [],
   "source": []
  }
 ],
 "metadata": {
  "kernelspec": {
   "display_name": "Python 3",
   "language": "python",
   "name": "python3"
  },
  "language_info": {
   "codemirror_mode": {
    "name": "ipython",
    "version": 3
   },
   "file_extension": ".py",
   "mimetype": "text/x-python",
   "name": "python",
   "nbconvert_exporter": "python",
   "pygments_lexer": "ipython3",
   "version": "3.7.11"
  }
 },
 "nbformat": 4,
 "nbformat_minor": 5
}
