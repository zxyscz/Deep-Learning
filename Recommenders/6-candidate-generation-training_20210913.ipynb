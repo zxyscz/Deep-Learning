{
 "cells": [
  {
   "cell_type": "code",
   "execution_count": 1,
   "id": "4a7ca07f",
   "metadata": {},
   "outputs": [],
   "source": [
    "import os\n",
    "import tempfile\n",
    "\n",
    "%matplotlib inline\n",
    "import matplotlib.pyplot as plt\n",
    "\n",
    "import numpy as np\n",
    "import tensorflow as tf\n",
    "import tensorflow_datasets as tfds\n",
    "\n",
    "import tensorflow_recommenders as tfrs"
   ]
  },
  {
   "cell_type": "code",
   "execution_count": 2,
   "id": "24ff46cb",
   "metadata": {},
   "outputs": [],
   "source": [
    "import pandas as pd\n",
    "import pprint"
   ]
  },
  {
   "cell_type": "code",
   "execution_count": 3,
   "id": "91d2ca72",
   "metadata": {},
   "outputs": [],
   "source": [
    "def load_data_file_cold(file, stats):\n",
    "    print('loading file:' + file)\n",
    "    training_df = pd.read_csv(\n",
    "        file,\n",
    "        skiprows=[0],\n",
    "        names=[\"viewer\",\"broadcaster\",\"viewer_age\",\"viewer_gender\",\"viewer_longitude\",\"viewer_latitude\",\"viewer_lang\",\"viewer_country\",\"broadcaster_age\",\"broadcaster_gender\",\"broadcaster_longitude\",\"broadcaster_latitude\",\"broadcaster_lang\",\"broadcaster_country\",\"duration\", \"viewer_network\", \"broadcaster_network\", \"count\"], dtype={\n",
    "            'viewer': np.unicode,\n",
    "            'broadcaster': np.unicode,\n",
    "            'viewer_age': np.single,\n",
    "            'viewer_gender': np.unicode,\n",
    "            'viewer_longitude': np.single,\n",
    "            'viewer_latitude': np.single,\n",
    "            'viewer_lang': np.unicode,\n",
    "            'viewer_country': np.unicode,\n",
    "            'broadcaster_age': np.single,\n",
    "            'broadcaster_longitude': np.single,\n",
    "            'broadcaster_latitude': np.single,\n",
    "            'broadcaster_lang': np.unicode,\n",
    "            'broadcaster_country': np.unicode,\n",
    "            'viewer_network': np.unicode,\n",
    "            'broadcaster_network': np.unicode,\n",
    "            'count': np.int\n",
    "        })\n",
    "\n",
    "    values = {\n",
    "        'viewer': 'unknown',\n",
    "        'broadcaster': 'unknown',\n",
    "        'viewer_age': 30,\n",
    "        'viewer_gender': 'unknown',\n",
    "        'viewer_longitude': 0,\n",
    "        'viewer_latitude': 0,\n",
    "        'viewer_lang': 'unknown',\n",
    "        'viewer_country': 'unknown',\n",
    "        'broadcaster_age': 30,\n",
    "        'broadcaster_longitude': 0,\n",
    "        'broadcaster_latitude': 0,\n",
    "        'broadcaster_lang': 'unknown',\n",
    "        'broadcaster_country': 'unknown',\n",
    "        'duration': 0,\n",
    "        'viewer_network': 'unknown',\n",
    "        'broadcaster_network': 'unknown',\n",
    "        'count': 0\n",
    "    }\n",
    "    training_df.fillna(value=values, inplace=True)\n",
    "#     print(training_df.head(10))\n",
    "#     print(training_df.iloc[-10:])\n",
    "#     stats.send_stats('data-size', len(training_df.index))\n",
    "\n",
    "    sampled_df = training_df.sample(frac=0.1)\n",
    "    print(sampled_df.head(10))\n",
    "    print(sampled_df.iloc[-10:])\n",
    "    return sampled_df\n",
    "\n",
    "def load_training_data_cold(file, stats):\n",
    "    ratings_df = load_data_file_cold(file, stats)\n",
    "    print('creating data set')\n",
    "    training_ds = (\n",
    "        tf.data.Dataset.from_tensor_slices(\n",
    "            ({\n",
    "                \"viewer\": tf.cast(\n",
    "                    ratings_df['viewer'].values,\n",
    "                    tf.string),\n",
    "                \"viewer_gender\": tf.cast(\n",
    "                    ratings_df['viewer_gender'].values,\n",
    "                    tf.string),\n",
    "                \"viewer_lang\": tf.cast(\n",
    "                    ratings_df['viewer_lang'].values,\n",
    "                    tf.string),\n",
    "                \"viewer_country\": tf.cast(\n",
    "                    ratings_df['viewer_country'].values,\n",
    "                    tf.string),\n",
    "                \"viewer_age\": tf.cast(\n",
    "                    ratings_df['viewer_age'].values,\n",
    "                    tf.int32),\n",
    "                \"viewer_longitude\": tf.cast(\n",
    "                    ratings_df['viewer_longitude'].values,\n",
    "                    tf.float16),\n",
    "                \"viewer_latitude\": tf.cast(\n",
    "                    ratings_df['viewer_latitude'].values,\n",
    "                    tf.float16),\n",
    "                \"broadcaster\": tf.cast(\n",
    "                    ratings_df['broadcaster'].values,\n",
    "                    tf.string),\n",
    "                \"viewer_network\": tf.cast(\n",
    "                    ratings_df['viewer_network'].values,\n",
    "                    tf.string),\n",
    "                \"broadcaster_network\": tf.cast(\n",
    "                    ratings_df['broadcaster_network'].values,\n",
    "                    tf.string),\n",
    "                \"duration\": tf.cast(\n",
    "                    ratings_df['duration'].values,\n",
    "                    tf.float16),\n",
    "                \"count\": tf.cast(\n",
    "                    ratings_df['count'].values,\n",
    "                    tf.int16),\n",
    "            })))\n",
    "\n",
    "    return training_ds"
   ]
  },
  {
   "cell_type": "code",
   "execution_count": 4,
   "id": "8a5b94a7",
   "metadata": {},
   "outputs": [
    {
     "name": "stdout",
     "output_type": "stream",
     "text": [
      "loading file:a3d86f3b-eb45-4641-b05d-30dff7423e6b.csv\n",
      "                   viewer       broadcaster  viewer_age viewer_gender  \\\n",
      "4813132  meetme:309389222  meetme:311254050        29.0        female   \n",
      "5284874  meetme:318036570  meetme:315043902        21.0          male   \n",
      "1584655     pof:109638959   skout:182621750        37.0          male   \n",
      "4054891     pof:308773777  meetme:269923127        42.0          male   \n",
      "2518692     pof:316637226     pof:332075606        25.0        female   \n",
      "2135182  meetme:260903230  meetme:317205757        32.0        female   \n",
      "3109824  meetme:314778866  meetme:316023909        37.0          male   \n",
      "2918063  meetme:302878501     pof:128654566        33.0          male   \n",
      "3386332   skout:173550429     pof:290741519        39.0          male   \n",
      "2014638  meetme:183463090     pof:331777479        38.0        female   \n",
      "\n",
      "         viewer_longitude  viewer_latitude viewer_lang viewer_country  \\\n",
      "4813132        -46.639599       -23.555799          pt             BR   \n",
      "5284874        120.948303        14.757800          en             US   \n",
      "1584655        174.600006       -36.900002          en             US   \n",
      "4054891        -90.599998        41.500000          en             US   \n",
      "2518692       -122.599998        39.000000          en             US   \n",
      "2135182        -98.695702        29.326200          en             US   \n",
      "3109824         -3.716700        40.472099          fr             FR   \n",
      "2918063        -80.073097        26.461100          en             US   \n",
      "3386332        -80.276001        43.160000          en             CA   \n",
      "2014638        -75.137199        40.021099          en             US   \n",
      "\n",
      "         broadcaster_age broadcaster_gender  broadcaster_longitude  \\\n",
      "4813132             28.0             female             -46.633400   \n",
      "5284874             21.0             female             121.022003   \n",
      "1584655             37.0             female             174.977997   \n",
      "4054891             26.0             female             -73.994499   \n",
      "2518692             28.0               male            -118.400002   \n",
      "2135182             19.0               male             -74.922401   \n",
      "3109824             21.0             female               6.225500   \n",
      "2918063             30.0             female             -81.900002   \n",
      "3386332             30.0             female               0.000000   \n",
      "2014638             30.0             female             -74.000000   \n",
      "\n",
      "         broadcaster_latitude broadcaster_lang broadcaster_country  duration  \\\n",
      "4813132            -23.550699               pt                  BR       203   \n",
      "5284874             14.552900               en                  PH        89   \n",
      "1584655            -41.173000               en                  NZ        60   \n",
      "4054891             40.752102               en                  US       123   \n",
      "2518692             34.200001               en                  US       168   \n",
      "2135182             10.627800               en                  CO      1250   \n",
      "3109824             48.889198               fr                  FR        66   \n",
      "2918063             28.799999               en                  US        64   \n",
      "3386332              0.000000               en                  US       221   \n",
      "2014638             40.799999               en                  US       426   \n",
      "\n",
      "        viewer_network broadcaster_network  count  \n",
      "4813132         meetme              meetme      1  \n",
      "5284874         meetme              meetme      1  \n",
      "1584655            pof               skout      2  \n",
      "4054891            pof              meetme      2  \n",
      "2518692            pof                 pof      1  \n",
      "2135182         meetme              meetme      1  \n",
      "3109824         meetme              meetme      1  \n",
      "2918063         meetme                 pof      1  \n",
      "3386332          skout                 pof      2  \n",
      "2014638         meetme                 pof      2  \n",
      "                   viewer       broadcaster  viewer_age viewer_gender  \\\n",
      "2965154  meetme:317662835  meetme:242448968        28.0          male   \n",
      "166470   meetme:318038455   skout:180628548        23.0          male   \n",
      "4299831   skout:178011437  meetme:270011089        36.0          male   \n",
      "2825216    skout:83557225  meetme:287102415        29.0          male   \n",
      "4382395     pof:301632456  meetme:273610995        41.0          male   \n",
      "2493074   skout:146705799  meetme:273767375        29.0          male   \n",
      "4037775     pof:333448974     pof:322925469        26.0          male   \n",
      "2873776   skout:183981792     pof:313566681        19.0        female   \n",
      "3413493     pof:312998608  meetme:270550647        30.0          male   \n",
      "3880054     pof:174333985  meetme:310738748        35.0          male   \n",
      "\n",
      "         viewer_longitude  viewer_latitude viewer_lang viewer_country  \\\n",
      "2965154        -81.616096        28.497801          pt             BR   \n",
      "166470         -87.355904        41.420200          en             US   \n",
      "4299831        -83.056999        40.016998          en             US   \n",
      "2825216         80.275002        13.039000          en             IN   \n",
      "4382395       -117.900002        33.900002          en             US   \n",
      "2493074        -58.590000       -34.613998          es             US   \n",
      "4037775        -97.400002        37.700001          en             US   \n",
      "2873776        -76.566002        42.938000          en             US   \n",
      "3413493        153.000000       -27.500000          en             US   \n",
      "3880054        -83.699997        43.000000          en             US   \n",
      "\n",
      "         broadcaster_age broadcaster_gender  broadcaster_longitude  \\\n",
      "2965154             34.0             female             -51.668701   \n",
      "166470              34.0             female             -73.056000   \n",
      "4299831             42.0             female             -86.882500   \n",
      "2825216             27.0             female             -84.386803   \n",
      "4382395             21.0             female            -117.239304   \n",
      "2493074             27.0             female            -118.209999   \n",
      "4037775             29.0             female             -97.800003   \n",
      "2873776             25.0               male             -81.400002   \n",
      "3413493             21.0             female              -4.202600   \n",
      "3880054             42.0             female             -82.996300   \n",
      "\n",
      "         broadcaster_latitude broadcaster_lang broadcaster_country  duration  \\\n",
      "2965154            -29.354401               pt                  BR       104   \n",
      "166470              41.534000               en                  US       109   \n",
      "4299831             36.170502               en                  US       185   \n",
      "2825216             33.797401               en                  US        55   \n",
      "4382395             33.695801               en                  US       106   \n",
      "2493074             33.977699               es                  US       326   \n",
      "4037775             30.100000               en                  US        61   \n",
      "2873776             40.799999               en                  US       332   \n",
      "3413493             56.490700               en                  GB       117   \n",
      "3880054             42.602501               en                  US      1196   \n",
      "\n",
      "        viewer_network broadcaster_network  count  \n",
      "2965154         meetme              meetme      1  \n",
      "166470          meetme               skout      2  \n",
      "4299831          skout              meetme      1  \n",
      "2825216          skout              meetme      2  \n",
      "4382395            pof              meetme      1  \n",
      "2493074          skout              meetme      1  \n",
      "4037775            pof                 pof      3  \n",
      "2873776          skout                 pof      4  \n",
      "3413493            pof              meetme      1  \n",
      "3880054            pof              meetme      1  \n",
      "creating data set\n",
      "{'broadcaster': b'meetme:311254050',\n",
      " 'broadcaster_network': b'meetme',\n",
      " 'count': 1,\n",
      " 'duration': 203.0,\n",
      " 'viewer': b'meetme:309389222',\n",
      " 'viewer_age': 29,\n",
      " 'viewer_country': b'BR',\n",
      " 'viewer_gender': b'female',\n",
      " 'viewer_lang': b'pt',\n",
      " 'viewer_latitude': -23.56,\n",
      " 'viewer_longitude': -46.62,\n",
      " 'viewer_network': b'meetme'}\n"
     ]
    }
   ],
   "source": [
    "ratings = load_training_data_cold(file=\"a3d86f3b-eb45-4641-b05d-30dff7423e6b.csv\", stats=\"\")\n",
    "\n",
    "for x in ratings.take(1).as_numpy_iterator():\n",
    "    pprint.pprint(x)"
   ]
  },
  {
   "cell_type": "markdown",
   "id": "b15f4ace",
   "metadata": {},
   "source": [
    "### Model definition"
   ]
  },
  {
   "cell_type": "code",
   "execution_count": 6,
   "id": "f75898c1",
   "metadata": {},
   "outputs": [],
   "source": [
    "def get_list(training_data, key):\n",
    "    return training_data.batch(1_000_000).map(lambda x: x[key], num_parallel_calls=tf.data.AUTOTUNE, deterministic=False)\n",
    "\n",
    "\n",
    "def get_unique_list(data):\n",
    "    return np.unique(np.concatenate(list(data)))"
   ]
  },
  {
   "cell_type": "code",
   "execution_count": 9,
   "id": "570b6625",
   "metadata": {},
   "outputs": [
    {
     "name": "stdout",
     "output_type": "stream",
     "text": [
      "WARNING:tensorflow:AutoGraph could not transform <function get_list.<locals>.<lambda> at 0x7f9200e3b200> and will run it as-is.\n",
      "Please report this to the TensorFlow team. When filing the bug, set the verbosity to 10 (on Linux, `export AUTOGRAPH_VERBOSITY=10`) and attach the full output.\n",
      "Cause: module 'gast' has no attribute 'Constant'\n",
      "To silence this warning, decorate the function with @tf.autograph.experimental.do_not_convert\n",
      "WARNING: AutoGraph could not transform <function get_list.<locals>.<lambda> at 0x7f9200e3b200> and will run it as-is.\n",
      "Please report this to the TensorFlow team. When filing the bug, set the verbosity to 10 (on Linux, `export AUTOGRAPH_VERBOSITY=10`) and attach the full output.\n",
      "Cause: module 'gast' has no attribute 'Constant'\n",
      "To silence this warning, decorate the function with @tf.autograph.experimental.do_not_convert\n",
      "<tf.Tensor: shape=(1, 538393), dtype=string, numpy=\n",
      "array([[b'female', b'male', b'male', ..., b'female', b'male', b'male']],\n",
      "      dtype=object)>\n"
     ]
    }
   ],
   "source": [
    "user_genders = get_list(ratings, 'viewer_gender')\n",
    "for x in user_genders.batch(1).take(1):\n",
    "    pprint.pprint(x[0:10])"
   ]
  },
  {
   "cell_type": "code",
   "execution_count": 11,
   "id": "e09bfc7f",
   "metadata": {},
   "outputs": [
    {
     "name": "stdout",
     "output_type": "stream",
     "text": [
      "WARNING:tensorflow:AutoGraph could not transform <function get_list.<locals>.<lambda> at 0x7f9200e3bcb0> and will run it as-is.\n",
      "Please report this to the TensorFlow team. When filing the bug, set the verbosity to 10 (on Linux, `export AUTOGRAPH_VERBOSITY=10`) and attach the full output.\n",
      "Cause: module 'gast' has no attribute 'Constant'\n",
      "To silence this warning, decorate the function with @tf.autograph.experimental.do_not_convert\n",
      "WARNING: AutoGraph could not transform <function get_list.<locals>.<lambda> at 0x7f9200e3bcb0> and will run it as-is.\n",
      "Please report this to the TensorFlow team. When filing the bug, set the verbosity to 10 (on Linux, `export AUTOGRAPH_VERBOSITY=10`) and attach the full output.\n",
      "Cause: module 'gast' has no attribute 'Constant'\n",
      "To silence this warning, decorate the function with @tf.autograph.experimental.do_not_convert\n",
      "<tf.Tensor: shape=(10,), dtype=string, numpy=\n",
      "array([b'pt', b'en', b'en', b'en', b'en', b'en', b'fr', b'en', b'en',\n",
      "       b'en'], dtype=object)>\n"
     ]
    }
   ],
   "source": [
    "user_langs = get_list(ratings, 'viewer_lang')\n",
    "for x in user_langs.batch(1).take(1):\n",
    "    pprint.pprint(x[0, :10])"
   ]
  },
  {
   "cell_type": "code",
   "execution_count": 13,
   "id": "8f33ca65",
   "metadata": {},
   "outputs": [
    {
     "name": "stdout",
     "output_type": "stream",
     "text": [
      "WARNING:tensorflow:AutoGraph could not transform <function get_list.<locals>.<lambda> at 0x7f9200e3bb00> and will run it as-is.\n",
      "Please report this to the TensorFlow team. When filing the bug, set the verbosity to 10 (on Linux, `export AUTOGRAPH_VERBOSITY=10`) and attach the full output.\n",
      "Cause: module 'gast' has no attribute 'Constant'\n",
      "To silence this warning, decorate the function with @tf.autograph.experimental.do_not_convert\n",
      "WARNING: AutoGraph could not transform <function get_list.<locals>.<lambda> at 0x7f9200e3bb00> and will run it as-is.\n",
      "Please report this to the TensorFlow team. When filing the bug, set the verbosity to 10 (on Linux, `export AUTOGRAPH_VERBOSITY=10`) and attach the full output.\n",
      "Cause: module 'gast' has no attribute 'Constant'\n",
      "To silence this warning, decorate the function with @tf.autograph.experimental.do_not_convert\n",
      "array([b'BR', b'US', b'US', b'US', b'US', b'US', b'FR', b'US', b'CA',\n",
      "       b'US'], dtype=object)\n"
     ]
    }
   ],
   "source": [
    "user_countries = get_list(ratings, 'viewer_country')\n",
    "for x in user_countries.batch(1).take(1).as_numpy_iterator():\n",
    "    pprint.pprint(x[0, :10])"
   ]
  },
  {
   "cell_type": "code",
   "execution_count": 15,
   "id": "1f423a8a",
   "metadata": {},
   "outputs": [
    {
     "name": "stdout",
     "output_type": "stream",
     "text": [
      "WARNING:tensorflow:AutoGraph could not transform <function get_list.<locals>.<lambda> at 0x7f9222a12950> and will run it as-is.\n",
      "Please report this to the TensorFlow team. When filing the bug, set the verbosity to 10 (on Linux, `export AUTOGRAPH_VERBOSITY=10`) and attach the full output.\n",
      "Cause: module 'gast' has no attribute 'Constant'\n",
      "To silence this warning, decorate the function with @tf.autograph.experimental.do_not_convert\n",
      "WARNING: AutoGraph could not transform <function get_list.<locals>.<lambda> at 0x7f9222a12950> and will run it as-is.\n",
      "Please report this to the TensorFlow team. When filing the bug, set the verbosity to 10 (on Linux, `export AUTOGRAPH_VERBOSITY=10`) and attach the full output.\n",
      "Cause: module 'gast' has no attribute 'Constant'\n",
      "To silence this warning, decorate the function with @tf.autograph.experimental.do_not_convert\n",
      "array([29, 21, 37, 42, 25, 32, 37, 33, 39, 38], dtype=int32)\n"
     ]
    }
   ],
   "source": [
    "viewer_age = get_list(ratings, 'viewer_age')\n",
    "for x in viewer_age.batch(1).take(1).as_numpy_iterator():\n",
    "    pprint.pprint(x[0, :10])"
   ]
  },
  {
   "cell_type": "code",
   "execution_count": 17,
   "id": "2275de9c",
   "metadata": {},
   "outputs": [
    {
     "name": "stdout",
     "output_type": "stream",
     "text": [
      "WARNING:tensorflow:AutoGraph could not transform <function get_list.<locals>.<lambda> at 0x7f9222a12b90> and will run it as-is.\n",
      "Please report this to the TensorFlow team. When filing the bug, set the verbosity to 10 (on Linux, `export AUTOGRAPH_VERBOSITY=10`) and attach the full output.\n",
      "Cause: module 'gast' has no attribute 'Constant'\n",
      "To silence this warning, decorate the function with @tf.autograph.experimental.do_not_convert\n",
      "WARNING: AutoGraph could not transform <function get_list.<locals>.<lambda> at 0x7f9222a12b90> and will run it as-is.\n",
      "Please report this to the TensorFlow team. When filing the bug, set the verbosity to 10 (on Linux, `export AUTOGRAPH_VERBOSITY=10`) and attach the full output.\n",
      "Cause: module 'gast' has no attribute 'Constant'\n",
      "To silence this warning, decorate the function with @tf.autograph.experimental.do_not_convert\n",
      "array([b'meetme', b'meetme', b'pof', b'pof', b'pof', b'meetme', b'meetme',\n",
      "       b'meetme', b'skout', b'meetme'], dtype=object)\n"
     ]
    }
   ],
   "source": [
    "user_networks = get_list(ratings, 'viewer_network')\n",
    "for x in user_networks.batch(1).take(1).as_numpy_iterator():\n",
    "    pprint.pprint(x[0, :10])"
   ]
  },
  {
   "cell_type": "code",
   "execution_count": 18,
   "id": "3c4115ae",
   "metadata": {},
   "outputs": [
    {
     "name": "stdout",
     "output_type": "stream",
     "text": [
      "[b'female' b'male']\n"
     ]
    }
   ],
   "source": [
    "unique_user_genders = get_unique_list(user_genders)\n",
    "print(unique_user_genders)"
   ]
  },
  {
   "cell_type": "code",
   "execution_count": 19,
   "id": "2c094202",
   "metadata": {},
   "outputs": [
    {
     "name": "stdout",
     "output_type": "stream",
     "text": [
      "[b'af' b'ar' b'az' b'bg' b'bn' b'bs' b'ca' b'cs' b'da' b'de' b'el' b'en'\n",
      " b'es' b'et' b'fa' b'fi' b'fr' b'he' b'hi' b'hr' b'hu' b'id' b'in' b'it'\n",
      " b'iw' b'ja' b'ko' b'lo' b'lv' b'ml' b'ms' b'nb' b'ne' b'nl' b'pa' b'pl'\n",
      " b'ps' b'pt' b'ro' b'ru' b'si' b'sk' b'sl' b'sq' b'sr' b'sv' b'ta' b'te'\n",
      " b'th' b'to' b'tr' b'ur' b'vi' b'zh']\n"
     ]
    }
   ],
   "source": [
    "unique_user_langs = get_unique_list(user_langs)\n",
    "print(unique_user_langs)"
   ]
  },
  {
   "cell_type": "code",
   "execution_count": 20,
   "id": "97e0a4ae",
   "metadata": {},
   "outputs": [
    {
     "name": "stdout",
     "output_type": "stream",
     "text": [
      "[b'419' b'AD' b'AE' b'AF' b'AG' b'AL' b'AO' b'AR' b'AS' b'AT' b'AU' b'AW'\n",
      " b'AX' b'AZ' b'BA' b'BD' b'BE' b'BG' b'BH' b'BN' b'BO' b'BR' b'BS' b'BT'\n",
      " b'BW' b'BZ' b'CA' b'CH' b'CI' b'CL' b'CN' b'CO' b'CP' b'CR' b'CU' b'CV'\n",
      " b'CY' b'CZ' b'DE' b'DK' b'DO' b'DZ' b'EA' b'EC' b'EE' b'EG' b'EN' b'ES'\n",
      " b'FI' b'FR' b'GB' b'GE' b'GF' b'GH' b'GL' b'GM' b'GR' b'GT' b'GU' b'GW'\n",
      " b'HK' b'HN' b'HR' b'HT' b'HU' b'ID' b'IE' b'IL' b'IM' b'IN' b'IQ' b'IR'\n",
      " b'IS' b'IT' b'JM' b'JO' b'JP' b'KE' b'KH' b'KR' b'KW' b'KY' b'KZ' b'LA'\n",
      " b'LB' b'LC' b'LK' b'LT' b'LU' b'LV' b'LY' b'MA' b'ME' b'MH' b'MK' b'MM'\n",
      " b'MO' b'MR' b'MU' b'MX' b'MY' b'NG' b'NI' b'NL' b'NO' b'NP' b'NZ' b'OM'\n",
      " b'PA' b'PE' b'PH' b'PK' b'PL' b'PR' b'PS' b'PT' b'PY' b'QA' b'RO' b'RS'\n",
      " b'RU' b'SA' b'SD' b'SE' b'SG' b'SI' b'SJ' b'SK' b'SM' b'SN' b'SV' b'SX'\n",
      " b'SY' b'TC' b'TH' b'TN' b'TR' b'TT' b'TW' b'TZ' b'UM' b'US' b'UY' b'VE'\n",
      " b'VG' b'VI' b'VN' b'WF' b'XK' b'XL' b'YE' b'ZA' b'ZG' b'ZM' b'unknown']\n"
     ]
    }
   ],
   "source": [
    "unique_user_countries = get_unique_list(user_countries)\n",
    "print(unique_user_countries)"
   ]
  },
  {
   "cell_type": "code",
   "execution_count": 21,
   "id": "ac10023c",
   "metadata": {},
   "outputs": [
    {
     "name": "stdout",
     "output_type": "stream",
     "text": [
      "[b'meetme' b'pof' b'skout' b'zoosk']\n"
     ]
    }
   ],
   "source": [
    "unique_user_networks = get_unique_list(user_networks)\n",
    "print(unique_user_networks)"
   ]
  },
  {
   "cell_type": "code",
   "execution_count": 76,
   "id": "365eb2f8",
   "metadata": {},
   "outputs": [],
   "source": [
    "class UserModel(tf.keras.Model):\n",
    "\n",
    "    def __init__(self, unique_genders, unique_langs, unique_countries, unique_networks, viewer_age):\n",
    "        super().__init__()\n",
    "\n",
    "        self.gender_embedding = tf.keras.Sequential([\n",
    "            tf.keras.layers.experimental.preprocessing.StringLookup(\n",
    "                vocabulary=unique_genders, mask_token=None),\n",
    "            tf.keras.layers.Embedding(len(unique_genders) + 1, 4),\n",
    "        ])\n",
    "        \n",
    "        self.lang_embedding = tf.keras.Sequential([\n",
    "            tf.keras.layers.experimental.preprocessing.StringLookup(\n",
    "                vocabulary=unique_langs, mask_token=None),\n",
    "            tf.keras.layers.Embedding(len(unique_langs) + 1, 11),\n",
    "        ])\n",
    "\n",
    "        self.country_embedding = tf.keras.Sequential([\n",
    "            tf.keras.layers.experimental.preprocessing.StringLookup(\n",
    "                vocabulary=unique_countries, mask_token=None),\n",
    "            tf.keras.layers.Embedding(len(unique_countries) + 1, 11),\n",
    "        ])\n",
    "\n",
    "        self.network_embedding = tf.keras.Sequential([\n",
    "            tf.keras.layers.experimental.preprocessing.StringLookup(\n",
    "                vocabulary=unique_networks, mask_token=None),\n",
    "            tf.keras.layers.Embedding(len(unique_networks) + 1, 5),\n",
    "        ])\n",
    "\n",
    "        self.normalized_ages = tf.keras.layers.experimental.preprocessing.Normalization(axis=None)\n",
    "        self.normalized_ages.adapt(viewer_age)\n",
    "\n",
    "\n",
    "    def call(self, inputs):\n",
    "        return tf.concat([\n",
    "            self.gender_embedding(inputs[\"viewer_gender\"]),\n",
    "            self.lang_embedding(inputs[\"viewer_lang\"]),\n",
    "            self.country_embedding(inputs[\"viewer_country\"]),\n",
    "            self.network_embedding(inputs[\"viewer_network\"]),\n",
    "            self.normalized_ages(inputs[\"viewer_age\"]),\n",
    "        ], axis=1)"
   ]
  },
  {
   "cell_type": "code",
   "execution_count": 63,
   "id": "0329f435",
   "metadata": {},
   "outputs": [],
   "source": [
    "# gender embedding\n",
    "# user_gender_lookup = tf.keras.Sequential([\n",
    "#             tf.keras.layers.experimental.preprocessing.StringLookup(\n",
    "#                 vocabulary=unique_user_genders, mask_token=None),\n",
    "#             tf.keras.layers.Embedding(len(unique_user_genders) + 1, 4),\n",
    "#         ])"
   ]
  },
  {
   "cell_type": "code",
   "execution_count": 77,
   "id": "89b435a9",
   "metadata": {},
   "outputs": [
    {
     "name": "stdout",
     "output_type": "stream",
     "text": [
      "WARNING:tensorflow:AutoGraph could not transform <function PreprocessingLayer.make_adapt_function.<locals>.adapt_step at 0x7f9230058290> and will run it as-is.\n",
      "Please report this to the TensorFlow team. When filing the bug, set the verbosity to 10 (on Linux, `export AUTOGRAPH_VERBOSITY=10`) and attach the full output.\n",
      "Cause: 'arguments' object has no attribute 'posonlyargs'\n",
      "To silence this warning, decorate the function with @tf.autograph.experimental.do_not_convert\n",
      "WARNING: AutoGraph could not transform <function PreprocessingLayer.make_adapt_function.<locals>.adapt_step at 0x7f9230058290> and will run it as-is.\n",
      "Please report this to the TensorFlow team. When filing the bug, set the verbosity to 10 (on Linux, `export AUTOGRAPH_VERBOSITY=10`) and attach the full output.\n",
      "Cause: 'arguments' object has no attribute 'posonlyargs'\n",
      "To silence this warning, decorate the function with @tf.autograph.experimental.do_not_convert\n"
     ]
    }
   ],
   "source": [
    "user_model = UserModel(unique_user_genders, unique_user_langs, unique_user_countries, unique_user_networks, viewer_age)"
   ]
  },
  {
   "cell_type": "code",
   "execution_count": 79,
   "id": "9f04a9e6",
   "metadata": {},
   "outputs": [
    {
     "name": "stdout",
     "output_type": "stream",
     "text": [
      "WARNING:tensorflow:AutoGraph could not transform <function <lambda> at 0x7f9230058560> and will run it as-is.\n",
      "Please report this to the TensorFlow team. When filing the bug, set the verbosity to 10 (on Linux, `export AUTOGRAPH_VERBOSITY=10`) and attach the full output.\n",
      "Cause: module 'gast' has no attribute 'Constant'\n",
      "To silence this warning, decorate the function with @tf.autograph.experimental.do_not_convert\n",
      "WARNING: AutoGraph could not transform <function <lambda> at 0x7f9230058560> and will run it as-is.\n",
      "Please report this to the TensorFlow team. When filing the bug, set the verbosity to 10 (on Linux, `export AUTOGRAPH_VERBOSITY=10`) and attach the full output.\n",
      "Cause: module 'gast' has no attribute 'Constant'\n",
      "To silence this warning, decorate the function with @tf.autograph.experimental.do_not_convert\n",
      "tf.Tensor(\n",
      "[[[-0.02569976 -0.03433777  0.00771824 -0.01395029]\n",
      "  [-0.02569976 -0.03433777  0.00771824 -0.01395029]\n",
      "  [-0.02569976 -0.03433777  0.00771824 -0.01395029]\n",
      "  ...\n",
      "  [-0.02569976 -0.03433777  0.00771824 -0.01395029]\n",
      "  [-0.02569976 -0.03433777  0.00771824 -0.01395029]\n",
      "  [-0.02569976 -0.03433777  0.00771824 -0.01395029]]], shape=(1, 538393, 4), dtype=float32)\n"
     ]
    }
   ],
   "source": [
    "for v in ratings.take(1).map(lambda x: x[\"viewer_gender\"]).batch(1).as_numpy_iterator():\n",
    "    print(user_model.gender_embedding(x))"
   ]
  },
  {
   "cell_type": "code",
   "execution_count": 80,
   "id": "facb1b88",
   "metadata": {},
   "outputs": [
    {
     "name": "stdout",
     "output_type": "stream",
     "text": [
      "WARNING:tensorflow:AutoGraph could not transform <function <lambda> at 0x7f92300587a0> and will run it as-is.\n",
      "Please report this to the TensorFlow team. When filing the bug, set the verbosity to 10 (on Linux, `export AUTOGRAPH_VERBOSITY=10`) and attach the full output.\n",
      "Cause: module 'gast' has no attribute 'Constant'\n",
      "To silence this warning, decorate the function with @tf.autograph.experimental.do_not_convert\n",
      "WARNING: AutoGraph could not transform <function <lambda> at 0x7f92300587a0> and will run it as-is.\n",
      "Please report this to the TensorFlow team. When filing the bug, set the verbosity to 10 (on Linux, `export AUTOGRAPH_VERBOSITY=10`) and attach the full output.\n",
      "Cause: module 'gast' has no attribute 'Constant'\n",
      "To silence this warning, decorate the function with @tf.autograph.experimental.do_not_convert\n",
      "tf.Tensor(\n",
      "[[[-0.03237829 -0.00885711 -0.0400753  ... -0.00581033 -0.0038252\n",
      "   -0.03017133]\n",
      "  [-0.03237829 -0.00885711 -0.0400753  ... -0.00581033 -0.0038252\n",
      "   -0.03017133]\n",
      "  [-0.03237829 -0.00885711 -0.0400753  ... -0.00581033 -0.0038252\n",
      "   -0.03017133]\n",
      "  ...\n",
      "  [-0.03237829 -0.00885711 -0.0400753  ... -0.00581033 -0.0038252\n",
      "   -0.03017133]\n",
      "  [-0.03237829 -0.00885711 -0.0400753  ... -0.00581033 -0.0038252\n",
      "   -0.03017133]\n",
      "  [-0.03237829 -0.00885711 -0.0400753  ... -0.00581033 -0.0038252\n",
      "   -0.03017133]]], shape=(1, 538393, 11), dtype=float32)\n"
     ]
    }
   ],
   "source": [
    "for v in ratings.take(1).map(lambda x: x[\"viewer_lang\"]).batch(1).as_numpy_iterator():\n",
    "    print(user_model.lang_embedding(x))"
   ]
  },
  {
   "cell_type": "code",
   "execution_count": 81,
   "id": "b617e0fe",
   "metadata": {},
   "outputs": [
    {
     "name": "stdout",
     "output_type": "stream",
     "text": [
      "WARNING:tensorflow:AutoGraph could not transform <function <lambda> at 0x7f92887dcb00> and will run it as-is.\n",
      "Please report this to the TensorFlow team. When filing the bug, set the verbosity to 10 (on Linux, `export AUTOGRAPH_VERBOSITY=10`) and attach the full output.\n",
      "Cause: module 'gast' has no attribute 'Constant'\n",
      "To silence this warning, decorate the function with @tf.autograph.experimental.do_not_convert\n",
      "WARNING: AutoGraph could not transform <function <lambda> at 0x7f92887dcb00> and will run it as-is.\n",
      "Please report this to the TensorFlow team. When filing the bug, set the verbosity to 10 (on Linux, `export AUTOGRAPH_VERBOSITY=10`) and attach the full output.\n",
      "Cause: module 'gast' has no attribute 'Constant'\n",
      "To silence this warning, decorate the function with @tf.autograph.experimental.do_not_convert\n",
      "tf.Tensor(\n",
      "[[[ 0.00980501 -0.01751616 -0.00616052 ...  0.02341903  0.00029063\n",
      "    0.02393849]\n",
      "  [ 0.00980501 -0.01751616 -0.00616052 ...  0.02341903  0.00029063\n",
      "    0.02393849]\n",
      "  [ 0.00980501 -0.01751616 -0.00616052 ...  0.02341903  0.00029063\n",
      "    0.02393849]\n",
      "  ...\n",
      "  [ 0.00980501 -0.01751616 -0.00616052 ...  0.02341903  0.00029063\n",
      "    0.02393849]\n",
      "  [ 0.00980501 -0.01751616 -0.00616052 ...  0.02341903  0.00029063\n",
      "    0.02393849]\n",
      "  [ 0.00980501 -0.01751616 -0.00616052 ...  0.02341903  0.00029063\n",
      "    0.02393849]]], shape=(1, 538393, 11), dtype=float32)\n"
     ]
    }
   ],
   "source": [
    "for v in ratings.take(1).map(lambda x: x[\"viewer_country\"]).batch(1).as_numpy_iterator():\n",
    "    print(user_model.country_embedding(x))"
   ]
  },
  {
   "cell_type": "code",
   "execution_count": 83,
   "id": "5af24b61",
   "metadata": {},
   "outputs": [
    {
     "name": "stdout",
     "output_type": "stream",
     "text": [
      "WARNING:tensorflow:AutoGraph could not transform <function <lambda> at 0x7f9222a125f0> and will run it as-is.\n",
      "Please report this to the TensorFlow team. When filing the bug, set the verbosity to 10 (on Linux, `export AUTOGRAPH_VERBOSITY=10`) and attach the full output.\n",
      "Cause: module 'gast' has no attribute 'Constant'\n",
      "To silence this warning, decorate the function with @tf.autograph.experimental.do_not_convert\n",
      "WARNING: AutoGraph could not transform <function <lambda> at 0x7f9222a125f0> and will run it as-is.\n",
      "Please report this to the TensorFlow team. When filing the bug, set the verbosity to 10 (on Linux, `export AUTOGRAPH_VERBOSITY=10`) and attach the full output.\n",
      "Cause: module 'gast' has no attribute 'Constant'\n",
      "To silence this warning, decorate the function with @tf.autograph.experimental.do_not_convert\n",
      "tf.Tensor(\n",
      "[[[ 0.02678044  0.01921315  0.03588673 -0.02111312 -0.0322271 ]\n",
      "  [ 0.02678044  0.01921315  0.03588673 -0.02111312 -0.0322271 ]\n",
      "  [ 0.00291411 -0.00511903  0.01702353  0.00565339  0.02216182]\n",
      "  ...\n",
      "  [-0.02370275  0.04277806 -0.03249246  0.03193189  0.02103117]\n",
      "  [ 0.00291411 -0.00511903  0.01702353  0.00565339  0.02216182]\n",
      "  [ 0.00291411 -0.00511903  0.01702353  0.00565339  0.02216182]]], shape=(1, 538393, 5), dtype=float32)\n"
     ]
    }
   ],
   "source": [
    "for v in ratings.take(1).map(lambda x: x[\"viewer_network\"]).batch(1).as_numpy_iterator():\n",
    "    print(user_model.network_embedding(x))"
   ]
  },
  {
   "cell_type": "code",
   "execution_count": 85,
   "id": "c6919d52",
   "metadata": {},
   "outputs": [
    {
     "name": "stdout",
     "output_type": "stream",
     "text": [
      "WARNING:tensorflow:AutoGraph could not transform <function <lambda> at 0x7f923005d0e0> and will run it as-is.\n",
      "Please report this to the TensorFlow team. When filing the bug, set the verbosity to 10 (on Linux, `export AUTOGRAPH_VERBOSITY=10`) and attach the full output.\n",
      "Cause: module 'gast' has no attribute 'Constant'\n",
      "To silence this warning, decorate the function with @tf.autograph.experimental.do_not_convert\n",
      "WARNING: AutoGraph could not transform <function <lambda> at 0x7f923005d0e0> and will run it as-is.\n",
      "Please report this to the TensorFlow team. When filing the bug, set the verbosity to 10 (on Linux, `export AUTOGRAPH_VERBOSITY=10`) and attach the full output.\n",
      "Cause: module 'gast' has no attribute 'Constant'\n",
      "To silence this warning, decorate the function with @tf.autograph.experimental.do_not_convert\n",
      "tf.Tensor([-0.5254036], shape=(1,), dtype=float32)\n"
     ]
    }
   ],
   "source": [
    "for v in ratings.take(1).map(lambda x: x[\"viewer_age\"]).batch(1).as_numpy_iterator():\n",
    "    print(user_model.normalized_ages(v))"
   ]
  },
  {
   "cell_type": "markdown",
   "id": "1bb57b66",
   "metadata": {},
   "source": [
    "### Candidate Models"
   ]
  },
  {
   "cell_type": "code",
   "execution_count": 178,
   "id": "44c5cecf",
   "metadata": {},
   "outputs": [
    {
     "name": "stdout",
     "output_type": "stream",
     "text": [
      "WARNING:tensorflow:AutoGraph could not transform <function get_list.<locals>.<lambda> at 0x7f921a1b0320> and will run it as-is.\n",
      "Please report this to the TensorFlow team. When filing the bug, set the verbosity to 10 (on Linux, `export AUTOGRAPH_VERBOSITY=10`) and attach the full output.\n",
      "Cause: module 'gast' has no attribute 'Constant'\n",
      "To silence this warning, decorate the function with @tf.autograph.experimental.do_not_convert\n",
      "WARNING: AutoGraph could not transform <function get_list.<locals>.<lambda> at 0x7f921a1b0320> and will run it as-is.\n",
      "Please report this to the TensorFlow team. When filing the bug, set the verbosity to 10 (on Linux, `export AUTOGRAPH_VERBOSITY=10`) and attach the full output.\n",
      "Cause: module 'gast' has no attribute 'Constant'\n",
      "To silence this warning, decorate the function with @tf.autograph.experimental.do_not_convert\n"
     ]
    }
   ],
   "source": [
    "broadcaster_ids = get_list(ratings, 'broadcaster')"
   ]
  },
  {
   "cell_type": "code",
   "execution_count": 87,
   "id": "509cdaf5",
   "metadata": {},
   "outputs": [],
   "source": [
    "unique_broadcasters = get_unique_list(broadcaster_ids)"
   ]
  },
  {
   "cell_type": "code",
   "execution_count": 90,
   "id": "af52f638",
   "metadata": {},
   "outputs": [
    {
     "name": "stdout",
     "output_type": "stream",
     "text": [
      "[b'meetme:100081867' b'meetme:100104254' b'meetme:100114731' ...\n",
      " b'zoosk:faa44d7ec2ee93a7acfb6bd4fb051767'\n",
      " b'zoosk:fd0ea6de03386f5c0d31b3d462d47e02'\n",
      " b'zoosk:fd4dfc9e6f9990d95f3ae136b403368e']\n"
     ]
    }
   ],
   "source": [
    "print(unique_broadcasters)"
   ]
  },
  {
   "cell_type": "code",
   "execution_count": 89,
   "id": "e60d2845",
   "metadata": {},
   "outputs": [],
   "source": [
    "class BroadcasterModel(tf.keras.Model):\n",
    "\n",
    "    def __init__(self, unique_movie_titles, dims):\n",
    "        super().__init__()\n",
    "\n",
    "        self.broadcaster_embedding = tf.keras.Sequential([\n",
    "            tf.keras.layers.experimental.preprocessing.StringLookup(\n",
    "                vocabulary=unique_movie_titles, mask_token=None),\n",
    "            tf.keras.layers.Embedding(len(unique_movie_titles) + 1, dims)\n",
    "        ])\n",
    "\n",
    "    def call(self, broadcaster):\n",
    "        return tf.concat([\n",
    "            self.broadcaster_embedding(broadcaster),\n",
    "        ], axis=1)"
   ]
  },
  {
   "cell_type": "code",
   "execution_count": 91,
   "id": "aecac924",
   "metadata": {},
   "outputs": [],
   "source": [
    "broadcaster_embedding_dimension = 32\n",
    "broadcaster_model = BroadcasterModel(unique_broadcasters, broadcaster_embedding_dimension)"
   ]
  },
  {
   "cell_type": "code",
   "execution_count": 92,
   "id": "e427075f",
   "metadata": {},
   "outputs": [
    {
     "name": "stdout",
     "output_type": "stream",
     "text": [
      "WARNING:tensorflow:AutoGraph could not transform <function <lambda> at 0x7f923005d950> and will run it as-is.\n",
      "Please report this to the TensorFlow team. When filing the bug, set the verbosity to 10 (on Linux, `export AUTOGRAPH_VERBOSITY=10`) and attach the full output.\n",
      "Cause: module 'gast' has no attribute 'Constant'\n",
      "To silence this warning, decorate the function with @tf.autograph.experimental.do_not_convert\n",
      "WARNING: AutoGraph could not transform <function <lambda> at 0x7f923005d950> and will run it as-is.\n",
      "Please report this to the TensorFlow team. When filing the bug, set the verbosity to 10 (on Linux, `export AUTOGRAPH_VERBOSITY=10`) and attach the full output.\n",
      "Cause: module 'gast' has no attribute 'Constant'\n",
      "To silence this warning, decorate the function with @tf.autograph.experimental.do_not_convert\n",
      "tf.Tensor(\n",
      "[[ 0.04173012 -0.03631787 -0.01227497  0.01042102  0.02145941  0.01807603\n",
      "   0.00790545 -0.00627408  0.01011752 -0.03060862 -0.00436055 -0.01595862\n",
      "   0.04211653  0.02934315 -0.00160182 -0.04359237  0.00257302 -0.01767635\n",
      "  -0.01203647  0.01430636  0.02566769  0.02506789 -0.04853121 -0.0469017\n",
      "   0.00725818  0.01072966 -0.03149523  0.01092996  0.03255302 -0.04807407\n",
      "   0.01524818 -0.026949  ]], shape=(1, 32), dtype=float32)\n"
     ]
    }
   ],
   "source": [
    "for v in ratings.take(1).map(lambda x: x[\"broadcaster\"]).batch(1).as_numpy_iterator():\n",
    "    print(broadcaster_model.broadcaster_embedding(v))"
   ]
  },
  {
   "cell_type": "markdown",
   "id": "f18e4a1b",
   "metadata": {},
   "source": [
    "### Combined model"
   ]
  },
  {
   "cell_type": "code",
   "execution_count": 97,
   "id": "3476d2b1",
   "metadata": {},
   "outputs": [],
   "source": [
    "def get_broadcaster_data_set(train_ds):\n",
    "    broadcasters = train_ds.cache().map(lambda x: x[\"broadcaster\"], num_parallel_calls=tf.data.AUTOTUNE, deterministic=False)\n",
    "    broadcasters_ds = tf.data.Dataset.from_tensor_slices(\n",
    "        np.unique(list(broadcasters.as_numpy_iterator())))\n",
    "    return broadcasters_ds"
   ]
  },
  {
   "cell_type": "code",
   "execution_count": 98,
   "id": "dbcee0bc",
   "metadata": {},
   "outputs": [
    {
     "name": "stdout",
     "output_type": "stream",
     "text": [
      "WARNING:tensorflow:AutoGraph could not transform <function get_broadcaster_data_set.<locals>.<lambda> at 0x7f91b0a0b8c0> and will run it as-is.\n",
      "Please report this to the TensorFlow team. When filing the bug, set the verbosity to 10 (on Linux, `export AUTOGRAPH_VERBOSITY=10`) and attach the full output.\n",
      "Cause: module 'gast' has no attribute 'Constant'\n",
      "To silence this warning, decorate the function with @tf.autograph.experimental.do_not_convert\n",
      "WARNING: AutoGraph could not transform <function get_broadcaster_data_set.<locals>.<lambda> at 0x7f91b0a0b8c0> and will run it as-is.\n",
      "Please report this to the TensorFlow team. When filing the bug, set the verbosity to 10 (on Linux, `export AUTOGRAPH_VERBOSITY=10`) and attach the full output.\n",
      "Cause: module 'gast' has no attribute 'Constant'\n",
      "To silence this warning, decorate the function with @tf.autograph.experimental.do_not_convert\n"
     ]
    }
   ],
   "source": [
    "broadcasters_data_set = get_broadcaster_data_set(ratings)"
   ]
  },
  {
   "cell_type": "code",
   "execution_count": 107,
   "id": "7c681f3d",
   "metadata": {},
   "outputs": [],
   "source": [
    "# Define your objectives.\n",
    "task = tfrs.tasks.Retrieval(\n",
    "    metrics=tfrs.metrics.FactorizedTopK(broadcasters_data_set.batch(128).map(broadcaster_model))\n",
    ")"
   ]
  },
  {
   "cell_type": "code",
   "execution_count": 161,
   "id": "a5a94cbf",
   "metadata": {},
   "outputs": [],
   "source": [
    "class FinalModel(tfrs.models.Model) :\n",
    "\n",
    "\tdef __init__(self, unique_genders, unique_langs, unique_countries, unique_networks, unique_movie_titles, dims) :\n",
    "\t\tsuper().__init__()\n",
    "\t\tself.user_model = tf.keras.Sequential([\n",
    "\t\t\tUserModel(unique_genders, unique_langs, unique_countries, unique_networks),\n",
    "\t\t\ttf.keras.layers.Dense(32)\n",
    "\t\t])\n",
    "        \n",
    "\t\tself.candidate_model = tf.keras.Sequential([\n",
    "\t\t\tBroadcasterModel(unique_movie_titles, dims),\n",
    "\t\t\ttf.keras.layers.Dense(32)\n",
    "\t\t])\n",
    "        \n",
    "\t\tself.task = tfrs.tasks.Retrieval(\n",
    "\t\t\tmetrics = tfrs.metrics.FactorizedTopK(\n",
    "\t\t\t\tcandidates=broadcasters_data_set.batch(128).map(self.candidate_model),\n",
    "\t\t\t),\n",
    "\t\t)\n",
    "\n",
    "\tdef compute_loss(self, features, training = False) :\n",
    "\t\tuser_model = self.user_model({\n",
    "\t\t\t\t\"viewer_gender\": features[\"viewer_gender\"],\n",
    " \t\t\t\t\"viewer_lang\": features[\"viewer_lang\"],\n",
    "\t\t\t\t\"viewer_country\": features[\"viewer_country\"],\n",
    "# \t\t\t\t\"viewer_age\": features[\"viewer_age\"],\n",
    "\t\t\t\t\"viewer_network\": features[\"viewer_network\"],\n",
    "\t\t\t})\n",
    "\t\tbroadcaster_embeddings = self.candidate_model(features[\"broadcaster\"], 32)\n",
    "\n",
    "\t\treturn self.task(user_model, broadcaster_embeddings)"
   ]
  },
  {
   "cell_type": "code",
   "execution_count": 125,
   "id": "72eb91ea",
   "metadata": {},
   "outputs": [],
   "source": [
    "tf.random.set_seed(42)\n",
    "shuffled = ratings.shuffle(100_000, seed=42, reshuffle_each_iteration=False)\n",
    "\n",
    "train = shuffled.take(80_000)\n",
    "test = shuffled.skip(80_000).take(20_000)\n",
    "\n",
    "cached_train = train.shuffle(100_000).batch(2048)\n",
    "cached_test = test.batch(4096).cache()"
   ]
  },
  {
   "cell_type": "code",
   "execution_count": 179,
   "id": "e97fd2da",
   "metadata": {},
   "outputs": [],
   "source": [
    "class UserModel(tf.keras.Model):\n",
    "\n",
    "    def __init__(self, unique_genders, unique_langs, unique_countries, unique_networks, viewer_age):\n",
    "        super().__init__()\n",
    "\n",
    "        self.gender_embedding = tf.keras.Sequential([\n",
    "            tf.keras.layers.experimental.preprocessing.StringLookup(\n",
    "                vocabulary=unique_genders, mask_token=None),\n",
    "            tf.keras.layers.Embedding(len(unique_genders) + 1, 4),\n",
    "        ])\n",
    "        \n",
    "        self.lang_embedding = tf.keras.Sequential([\n",
    "            tf.keras.layers.experimental.preprocessing.StringLookup(\n",
    "                vocabulary=unique_langs, mask_token=None),\n",
    "            tf.keras.layers.Embedding(len(unique_langs) + 1, 11),\n",
    "        ])\n",
    "        \n",
    "        self.country_embedding = tf.keras.Sequential([\n",
    "            tf.keras.layers.experimental.preprocessing.StringLookup(\n",
    "                vocabulary=unique_countries, mask_token=None),\n",
    "            tf.keras.layers.Embedding(len(unique_countries) + 1, 11),\n",
    "        ])\n",
    "        \n",
    "        self.network_embedding = tf.keras.Sequential([\n",
    "            tf.keras.layers.experimental.preprocessing.StringLookup(\n",
    "                vocabulary=unique_networks, mask_token=None),\n",
    "            tf.keras.layers.Embedding(len(unique_networks) + 1, 5),\n",
    "        ])\n",
    "        \n",
    "        self.normalized_ages = tf.keras.layers.experimental.preprocessing.Normalization()\n",
    "        self.normalized_ages.adapt(viewer_age)\n",
    "\n",
    "    def call(self, inputs):\n",
    "        return tf.concat([\n",
    "            self.gender_embedding(inputs[\"viewer_gender\"]),\n",
    "            self.lang_embedding(inputs[\"viewer_lang\"]),\n",
    "            self.country_embedding(inputs[\"viewer_country\"]),\n",
    "            self.network_embedding(inputs[\"viewer_network\"]),\n",
    "            self.normalized_ages(inputs[\"viewer_age\"]),\n",
    "        ], axis=1)"
   ]
  },
  {
   "cell_type": "code",
   "execution_count": 180,
   "id": "4f332ab3",
   "metadata": {},
   "outputs": [],
   "source": [
    "class FinalModel(tfrs.models.Model) :\n",
    "\n",
    "\tdef __init__(self, unique_genders, unique_langs, unique_countries, unique_networks, viewer_age, unique_movie_titles, dims) :\n",
    "\t\tsuper().__init__()\n",
    "\t\tself.user_model = tf.keras.Sequential([\n",
    "\t\t\tUserModel(unique_genders, unique_langs, unique_countries, unique_networks, viewer_age),\n",
    "\t\t\ttf.keras.layers.Dense(32)\n",
    "\t\t])\n",
    "        \n",
    "\t\tself.candidate_model = tf.keras.Sequential([\n",
    "\t\t\tBroadcasterModel(unique_movie_titles, dims),\n",
    "\t\t\ttf.keras.layers.Dense(32)\n",
    "\t\t])\n",
    "        \n",
    "\t\tself.task = tfrs.tasks.Retrieval(\n",
    "\t\t\tmetrics = tfrs.metrics.FactorizedTopK(\n",
    "\t\t\t\tcandidates=broadcasters_data_set.batch(128).map(self.candidate_model),\n",
    "\t\t\t),\n",
    "\t\t)\n",
    "\n",
    "\tdef compute_loss(self, features, training = False) :\n",
    "\t\tuser_embeddings = self.user_model({\n",
    "\t\t\t\t\"viewer_gender\": features[\"viewer_gender\"],\n",
    "\t\t\t\t\"viewer_lang\": features[\"viewer_lang\"],\n",
    "\t\t\t\t\"viewer_country\": features[\"viewer_country\"],\n",
    "\t\t\t\t\"viewer_network\": features[\"viewer_network\"],\n",
    "\t\t\t\t\"viewer_age\": features[\"viewer_age\"],\n",
    "\t\t\t})\n",
    "\t\tbroadcaster_embeddings = self.candidate_model(features[\"broadcaster\"], 32)\n",
    "\n",
    "\t\treturn self.task(user_embeddings, broadcaster_embeddings)"
   ]
  },
  {
   "cell_type": "code",
   "execution_count": 181,
   "id": "b0a2b195",
   "metadata": {},
   "outputs": [
    {
     "name": "stdout",
     "output_type": "stream",
     "text": [
      "WARNING:tensorflow:AutoGraph could not transform <function get_list.<locals>.<lambda> at 0x7f923420a3b0> and will run it as-is.\n",
      "Please report this to the TensorFlow team. When filing the bug, set the verbosity to 10 (on Linux, `export AUTOGRAPH_VERBOSITY=10`) and attach the full output.\n",
      "Cause: module 'gast' has no attribute 'Constant'\n",
      "To silence this warning, decorate the function with @tf.autograph.experimental.do_not_convert\n",
      "WARNING: AutoGraph could not transform <function get_list.<locals>.<lambda> at 0x7f923420a3b0> and will run it as-is.\n",
      "Please report this to the TensorFlow team. When filing the bug, set the verbosity to 10 (on Linux, `export AUTOGRAPH_VERBOSITY=10`) and attach the full output.\n",
      "Cause: module 'gast' has no attribute 'Constant'\n",
      "To silence this warning, decorate the function with @tf.autograph.experimental.do_not_convert\n"
     ]
    }
   ],
   "source": [
    "viewer_age = get_list(ratings, 'viewer_age')"
   ]
  },
  {
   "cell_type": "code",
   "execution_count": 182,
   "id": "f73c126f",
   "metadata": {},
   "outputs": [
    {
     "name": "stdout",
     "output_type": "stream",
     "text": [
      "WARNING:tensorflow:AutoGraph could not transform <function PreprocessingLayer.make_adapt_function.<locals>.adapt_step at 0x7f926027f710> and will run it as-is.\n",
      "Please report this to the TensorFlow team. When filing the bug, set the verbosity to 10 (on Linux, `export AUTOGRAPH_VERBOSITY=10`) and attach the full output.\n",
      "Cause: 'arguments' object has no attribute 'posonlyargs'\n",
      "To silence this warning, decorate the function with @tf.autograph.experimental.do_not_convert\n",
      "WARNING: AutoGraph could not transform <function PreprocessingLayer.make_adapt_function.<locals>.adapt_step at 0x7f926027f710> and will run it as-is.\n",
      "Please report this to the TensorFlow team. When filing the bug, set the verbosity to 10 (on Linux, `export AUTOGRAPH_VERBOSITY=10`) and attach the full output.\n",
      "Cause: 'arguments' object has no attribute 'posonlyargs'\n",
      "To silence this warning, decorate the function with @tf.autograph.experimental.do_not_convert\n"
     ]
    },
    {
     "ename": "ValueError",
     "evalue": "All `axis` values to be kept must have known shape. Got axis: (-1,), input shape: [None], with unknown axis at index: 0",
     "output_type": "error",
     "traceback": [
      "\u001b[0;31m---------------------------------------------------------------------------\u001b[0m",
      "\u001b[0;31mAttributeError\u001b[0m                            Traceback (most recent call last)",
      "\u001b[0;32m~/opt/miniconda3/envs/tensorflow3.7/lib/python3.7/site-packages/tensorflow/python/autograph/impl/api.py\u001b[0m in \u001b[0;36mconverted_call\u001b[0;34m(f, args, kwargs, caller_fn_scope, options)\u001b[0m\n\u001b[1;32m    431\u001b[0m     \u001b[0mprogram_ctx\u001b[0m \u001b[0;34m=\u001b[0m \u001b[0mconverter\u001b[0m\u001b[0;34m.\u001b[0m\u001b[0mProgramContext\u001b[0m\u001b[0;34m(\u001b[0m\u001b[0moptions\u001b[0m\u001b[0;34m=\u001b[0m\u001b[0moptions\u001b[0m\u001b[0;34m)\u001b[0m\u001b[0;34m\u001b[0m\u001b[0;34m\u001b[0m\u001b[0m\n\u001b[0;32m--> 432\u001b[0;31m     \u001b[0mconverted_f\u001b[0m \u001b[0;34m=\u001b[0m \u001b[0m_convert_actual\u001b[0m\u001b[0;34m(\u001b[0m\u001b[0mtarget_entity\u001b[0m\u001b[0;34m,\u001b[0m \u001b[0mprogram_ctx\u001b[0m\u001b[0;34m)\u001b[0m\u001b[0;34m\u001b[0m\u001b[0;34m\u001b[0m\u001b[0m\n\u001b[0m\u001b[1;32m    433\u001b[0m     \u001b[0;32mif\u001b[0m \u001b[0mlogging\u001b[0m\u001b[0;34m.\u001b[0m\u001b[0mhas_verbosity\u001b[0m\u001b[0;34m(\u001b[0m\u001b[0;36m2\u001b[0m\u001b[0;34m)\u001b[0m\u001b[0;34m:\u001b[0m\u001b[0;34m\u001b[0m\u001b[0;34m\u001b[0m\u001b[0m\n",
      "\u001b[0;32m~/opt/miniconda3/envs/tensorflow3.7/lib/python3.7/site-packages/tensorflow/python/autograph/impl/api.py\u001b[0m in \u001b[0;36m_convert_actual\u001b[0;34m(entity, program_ctx)\u001b[0m\n\u001b[1;32m    273\u001b[0m \u001b[0;34m\u001b[0m\u001b[0m\n\u001b[0;32m--> 274\u001b[0;31m   \u001b[0mtransformed\u001b[0m\u001b[0;34m,\u001b[0m \u001b[0mmodule\u001b[0m\u001b[0;34m,\u001b[0m \u001b[0msource_map\u001b[0m \u001b[0;34m=\u001b[0m \u001b[0m_TRANSPILER\u001b[0m\u001b[0;34m.\u001b[0m\u001b[0mtransform\u001b[0m\u001b[0;34m(\u001b[0m\u001b[0mentity\u001b[0m\u001b[0;34m,\u001b[0m \u001b[0mprogram_ctx\u001b[0m\u001b[0;34m)\u001b[0m\u001b[0;34m\u001b[0m\u001b[0;34m\u001b[0m\u001b[0m\n\u001b[0m\u001b[1;32m    275\u001b[0m \u001b[0;34m\u001b[0m\u001b[0m\n",
      "\u001b[0;32m~/opt/miniconda3/envs/tensorflow3.7/lib/python3.7/site-packages/tensorflow/python/autograph/pyct/transpiler.py\u001b[0m in \u001b[0;36mtransform\u001b[0;34m(self, obj, user_context)\u001b[0m\n\u001b[1;32m    285\u001b[0m     \u001b[0;32mif\u001b[0m \u001b[0minspect\u001b[0m\u001b[0;34m.\u001b[0m\u001b[0misfunction\u001b[0m\u001b[0;34m(\u001b[0m\u001b[0mobj\u001b[0m\u001b[0;34m)\u001b[0m \u001b[0;32mor\u001b[0m \u001b[0minspect\u001b[0m\u001b[0;34m.\u001b[0m\u001b[0mismethod\u001b[0m\u001b[0;34m(\u001b[0m\u001b[0mobj\u001b[0m\u001b[0;34m)\u001b[0m\u001b[0;34m:\u001b[0m\u001b[0;34m\u001b[0m\u001b[0;34m\u001b[0m\u001b[0m\n\u001b[0;32m--> 286\u001b[0;31m       \u001b[0;32mreturn\u001b[0m \u001b[0mself\u001b[0m\u001b[0;34m.\u001b[0m\u001b[0mtransform_function\u001b[0m\u001b[0;34m(\u001b[0m\u001b[0mobj\u001b[0m\u001b[0;34m,\u001b[0m \u001b[0muser_context\u001b[0m\u001b[0;34m)\u001b[0m\u001b[0;34m\u001b[0m\u001b[0;34m\u001b[0m\u001b[0m\n\u001b[0m\u001b[1;32m    287\u001b[0m \u001b[0;34m\u001b[0m\u001b[0m\n",
      "\u001b[0;32m~/opt/miniconda3/envs/tensorflow3.7/lib/python3.7/site-packages/tensorflow/python/autograph/pyct/transpiler.py\u001b[0m in \u001b[0;36mtransform_function\u001b[0;34m(self, fn, user_context)\u001b[0m\n\u001b[1;32m    469\u001b[0m           \u001b[0;31m# TODO(mdan): Confusing overloading pattern. Fix.\u001b[0m\u001b[0;34m\u001b[0m\u001b[0;34m\u001b[0m\u001b[0;34m\u001b[0m\u001b[0m\n\u001b[0;32m--> 470\u001b[0;31m           \u001b[0mnodes\u001b[0m\u001b[0;34m,\u001b[0m \u001b[0mctx\u001b[0m \u001b[0;34m=\u001b[0m \u001b[0msuper\u001b[0m\u001b[0;34m(\u001b[0m\u001b[0mPyToPy\u001b[0m\u001b[0;34m,\u001b[0m \u001b[0mself\u001b[0m\u001b[0;34m)\u001b[0m\u001b[0;34m.\u001b[0m\u001b[0mtransform_function\u001b[0m\u001b[0;34m(\u001b[0m\u001b[0mfn\u001b[0m\u001b[0;34m,\u001b[0m \u001b[0muser_context\u001b[0m\u001b[0;34m)\u001b[0m\u001b[0;34m\u001b[0m\u001b[0;34m\u001b[0m\u001b[0m\n\u001b[0m\u001b[1;32m    471\u001b[0m \u001b[0;34m\u001b[0m\u001b[0m\n",
      "\u001b[0;32m~/opt/miniconda3/envs/tensorflow3.7/lib/python3.7/site-packages/tensorflow/python/autograph/pyct/transpiler.py\u001b[0m in \u001b[0;36mtransform_function\u001b[0;34m(self, fn, user_context)\u001b[0m\n\u001b[1;32m    362\u001b[0m     \u001b[0mnode\u001b[0m \u001b[0;34m=\u001b[0m \u001b[0mself\u001b[0m\u001b[0;34m.\u001b[0m\u001b[0m_erase_arg_defaults\u001b[0m\u001b[0;34m(\u001b[0m\u001b[0mnode\u001b[0m\u001b[0;34m)\u001b[0m\u001b[0;34m\u001b[0m\u001b[0;34m\u001b[0m\u001b[0m\n\u001b[0;32m--> 363\u001b[0;31m     \u001b[0mresult\u001b[0m \u001b[0;34m=\u001b[0m \u001b[0mself\u001b[0m\u001b[0;34m.\u001b[0m\u001b[0mtransform_ast\u001b[0m\u001b[0;34m(\u001b[0m\u001b[0mnode\u001b[0m\u001b[0;34m,\u001b[0m \u001b[0mcontext\u001b[0m\u001b[0;34m)\u001b[0m\u001b[0;34m\u001b[0m\u001b[0;34m\u001b[0m\u001b[0m\n\u001b[0m\u001b[1;32m    364\u001b[0m \u001b[0;34m\u001b[0m\u001b[0m\n",
      "\u001b[0;32m~/opt/miniconda3/envs/tensorflow3.7/lib/python3.7/site-packages/tensorflow/python/autograph/impl/api.py\u001b[0m in \u001b[0;36mtransform_ast\u001b[0;34m(self, node, ctx)\u001b[0m\n\u001b[1;32m    241\u001b[0m     \u001b[0munsupported_features_checker\u001b[0m\u001b[0;34m.\u001b[0m\u001b[0mverify\u001b[0m\u001b[0;34m(\u001b[0m\u001b[0mnode\u001b[0m\u001b[0;34m)\u001b[0m\u001b[0;34m\u001b[0m\u001b[0;34m\u001b[0m\u001b[0m\n\u001b[0;32m--> 242\u001b[0;31m     \u001b[0mnode\u001b[0m \u001b[0;34m=\u001b[0m \u001b[0mself\u001b[0m\u001b[0;34m.\u001b[0m\u001b[0minitial_analysis\u001b[0m\u001b[0;34m(\u001b[0m\u001b[0mnode\u001b[0m\u001b[0;34m,\u001b[0m \u001b[0mctx\u001b[0m\u001b[0;34m)\u001b[0m\u001b[0;34m\u001b[0m\u001b[0;34m\u001b[0m\u001b[0m\n\u001b[0m\u001b[1;32m    243\u001b[0m \u001b[0;34m\u001b[0m\u001b[0m\n",
      "\u001b[0;32m~/opt/miniconda3/envs/tensorflow3.7/lib/python3.7/site-packages/tensorflow/python/autograph/impl/api.py\u001b[0m in \u001b[0;36minitial_analysis\u001b[0;34m(self, node, ctx)\u001b[0m\n\u001b[1;32m    229\u001b[0m     \u001b[0mnode\u001b[0m \u001b[0;34m=\u001b[0m \u001b[0mqual_names\u001b[0m\u001b[0;34m.\u001b[0m\u001b[0mresolve\u001b[0m\u001b[0;34m(\u001b[0m\u001b[0mnode\u001b[0m\u001b[0;34m)\u001b[0m\u001b[0;34m\u001b[0m\u001b[0;34m\u001b[0m\u001b[0m\n\u001b[0;32m--> 230\u001b[0;31m     \u001b[0mnode\u001b[0m \u001b[0;34m=\u001b[0m \u001b[0mactivity\u001b[0m\u001b[0;34m.\u001b[0m\u001b[0mresolve\u001b[0m\u001b[0;34m(\u001b[0m\u001b[0mnode\u001b[0m\u001b[0;34m,\u001b[0m \u001b[0mctx\u001b[0m\u001b[0;34m,\u001b[0m \u001b[0;32mNone\u001b[0m\u001b[0;34m)\u001b[0m\u001b[0;34m\u001b[0m\u001b[0;34m\u001b[0m\u001b[0m\n\u001b[0m\u001b[1;32m    231\u001b[0m     \u001b[0mnode\u001b[0m \u001b[0;34m=\u001b[0m \u001b[0mreaching_definitions\u001b[0m\u001b[0;34m.\u001b[0m\u001b[0mresolve\u001b[0m\u001b[0;34m(\u001b[0m\u001b[0mnode\u001b[0m\u001b[0;34m,\u001b[0m \u001b[0mctx\u001b[0m\u001b[0;34m,\u001b[0m \u001b[0mgraphs\u001b[0m\u001b[0;34m)\u001b[0m\u001b[0;34m\u001b[0m\u001b[0;34m\u001b[0m\u001b[0m\n",
      "\u001b[0;32m~/opt/miniconda3/envs/tensorflow3.7/lib/python3.7/site-packages/tensorflow/python/autograph/pyct/static_analysis/activity.py\u001b[0m in \u001b[0;36mresolve\u001b[0;34m(node, context, parent_scope)\u001b[0m\n\u001b[1;32m    708\u001b[0m \u001b[0;32mdef\u001b[0m \u001b[0mresolve\u001b[0m\u001b[0;34m(\u001b[0m\u001b[0mnode\u001b[0m\u001b[0;34m,\u001b[0m \u001b[0mcontext\u001b[0m\u001b[0;34m,\u001b[0m \u001b[0mparent_scope\u001b[0m\u001b[0;34m=\u001b[0m\u001b[0;32mNone\u001b[0m\u001b[0;34m)\u001b[0m\u001b[0;34m:\u001b[0m\u001b[0;34m\u001b[0m\u001b[0;34m\u001b[0m\u001b[0m\n\u001b[0;32m--> 709\u001b[0;31m   \u001b[0;32mreturn\u001b[0m \u001b[0mActivityAnalyzer\u001b[0m\u001b[0;34m(\u001b[0m\u001b[0mcontext\u001b[0m\u001b[0;34m,\u001b[0m \u001b[0mparent_scope\u001b[0m\u001b[0;34m)\u001b[0m\u001b[0;34m.\u001b[0m\u001b[0mvisit\u001b[0m\u001b[0;34m(\u001b[0m\u001b[0mnode\u001b[0m\u001b[0;34m)\u001b[0m\u001b[0;34m\u001b[0m\u001b[0;34m\u001b[0m\u001b[0m\n\u001b[0m",
      "\u001b[0;32m~/opt/miniconda3/envs/tensorflow3.7/lib/python3.7/site-packages/tensorflow/python/autograph/pyct/transformer.py\u001b[0m in \u001b[0;36mvisit\u001b[0;34m(self, node)\u001b[0m\n\u001b[1;32m    444\u001b[0m \u001b[0;34m\u001b[0m\u001b[0m\n\u001b[0;32m--> 445\u001b[0;31m       \u001b[0mresult\u001b[0m \u001b[0;34m=\u001b[0m \u001b[0msuper\u001b[0m\u001b[0;34m(\u001b[0m\u001b[0mBase\u001b[0m\u001b[0;34m,\u001b[0m \u001b[0mself\u001b[0m\u001b[0;34m)\u001b[0m\u001b[0;34m.\u001b[0m\u001b[0mvisit\u001b[0m\u001b[0;34m(\u001b[0m\u001b[0mnode\u001b[0m\u001b[0;34m)\u001b[0m\u001b[0;34m\u001b[0m\u001b[0;34m\u001b[0m\u001b[0m\n\u001b[0m\u001b[1;32m    446\u001b[0m \u001b[0;34m\u001b[0m\u001b[0m\n",
      "\u001b[0;32m~/opt/miniconda3/envs/tensorflow3.7/lib/python3.7/ast.py\u001b[0m in \u001b[0;36mvisit\u001b[0;34m(self, node)\u001b[0m\n\u001b[1;32m    270\u001b[0m         \u001b[0mvisitor\u001b[0m \u001b[0;34m=\u001b[0m \u001b[0mgetattr\u001b[0m\u001b[0;34m(\u001b[0m\u001b[0mself\u001b[0m\u001b[0;34m,\u001b[0m \u001b[0mmethod\u001b[0m\u001b[0;34m,\u001b[0m \u001b[0mself\u001b[0m\u001b[0;34m.\u001b[0m\u001b[0mgeneric_visit\u001b[0m\u001b[0;34m)\u001b[0m\u001b[0;34m\u001b[0m\u001b[0;34m\u001b[0m\u001b[0m\n\u001b[0;32m--> 271\u001b[0;31m         \u001b[0;32mreturn\u001b[0m \u001b[0mvisitor\u001b[0m\u001b[0;34m(\u001b[0m\u001b[0mnode\u001b[0m\u001b[0;34m)\u001b[0m\u001b[0;34m\u001b[0m\u001b[0;34m\u001b[0m\u001b[0m\n\u001b[0m\u001b[1;32m    272\u001b[0m \u001b[0;34m\u001b[0m\u001b[0m\n",
      "\u001b[0;32m~/opt/miniconda3/envs/tensorflow3.7/lib/python3.7/site-packages/tensorflow/python/autograph/pyct/static_analysis/activity.py\u001b[0m in \u001b[0;36mvisit_FunctionDef\u001b[0;34m(self, node)\u001b[0m\n\u001b[1;32m    578\u001b[0m       \u001b[0;31m# Argument annotartions (includeing defaults) affect the defining context.\u001b[0m\u001b[0;34m\u001b[0m\u001b[0;34m\u001b[0m\u001b[0;34m\u001b[0m\u001b[0m\n\u001b[0;32m--> 579\u001b[0;31m       \u001b[0mnode\u001b[0m \u001b[0;34m=\u001b[0m \u001b[0mself\u001b[0m\u001b[0;34m.\u001b[0m\u001b[0m_visit_arg_annotations\u001b[0m\u001b[0;34m(\u001b[0m\u001b[0mnode\u001b[0m\u001b[0;34m)\u001b[0m\u001b[0;34m\u001b[0m\u001b[0;34m\u001b[0m\u001b[0m\n\u001b[0m\u001b[1;32m    580\u001b[0m \u001b[0;34m\u001b[0m\u001b[0m\n",
      "\u001b[0;32m~/opt/miniconda3/envs/tensorflow3.7/lib/python3.7/site-packages/tensorflow/python/autograph/pyct/static_analysis/activity.py\u001b[0m in \u001b[0;36m_visit_arg_annotations\u001b[0;34m(self, node)\u001b[0m\n\u001b[1;32m    554\u001b[0m     \u001b[0mself\u001b[0m\u001b[0;34m.\u001b[0m\u001b[0m_track_annotations_only\u001b[0m \u001b[0;34m=\u001b[0m \u001b[0;32mTrue\u001b[0m\u001b[0;34m\u001b[0m\u001b[0;34m\u001b[0m\u001b[0m\n\u001b[0;32m--> 555\u001b[0;31m     \u001b[0mnode\u001b[0m \u001b[0;34m=\u001b[0m \u001b[0mself\u001b[0m\u001b[0;34m.\u001b[0m\u001b[0m_visit_arg_declarations\u001b[0m\u001b[0;34m(\u001b[0m\u001b[0mnode\u001b[0m\u001b[0;34m)\u001b[0m\u001b[0;34m\u001b[0m\u001b[0;34m\u001b[0m\u001b[0m\n\u001b[0m\u001b[1;32m    556\u001b[0m     \u001b[0mself\u001b[0m\u001b[0;34m.\u001b[0m\u001b[0m_track_annotations_only\u001b[0m \u001b[0;34m=\u001b[0m \u001b[0;32mFalse\u001b[0m\u001b[0;34m\u001b[0m\u001b[0;34m\u001b[0m\u001b[0m\n",
      "\u001b[0;32m~/opt/miniconda3/envs/tensorflow3.7/lib/python3.7/site-packages/tensorflow/python/autograph/pyct/static_analysis/activity.py\u001b[0m in \u001b[0;36m_visit_arg_declarations\u001b[0;34m(self, node)\u001b[0m\n\u001b[1;32m    559\u001b[0m   \u001b[0;32mdef\u001b[0m \u001b[0m_visit_arg_declarations\u001b[0m\u001b[0;34m(\u001b[0m\u001b[0mself\u001b[0m\u001b[0;34m,\u001b[0m \u001b[0mnode\u001b[0m\u001b[0;34m)\u001b[0m\u001b[0;34m:\u001b[0m\u001b[0;34m\u001b[0m\u001b[0;34m\u001b[0m\u001b[0m\n\u001b[0;32m--> 560\u001b[0;31m     \u001b[0mnode\u001b[0m\u001b[0;34m.\u001b[0m\u001b[0margs\u001b[0m\u001b[0;34m.\u001b[0m\u001b[0mposonlyargs\u001b[0m \u001b[0;34m=\u001b[0m \u001b[0mself\u001b[0m\u001b[0;34m.\u001b[0m\u001b[0m_visit_node_list\u001b[0m\u001b[0;34m(\u001b[0m\u001b[0mnode\u001b[0m\u001b[0;34m.\u001b[0m\u001b[0margs\u001b[0m\u001b[0;34m.\u001b[0m\u001b[0mposonlyargs\u001b[0m\u001b[0;34m)\u001b[0m\u001b[0;34m\u001b[0m\u001b[0;34m\u001b[0m\u001b[0m\n\u001b[0m\u001b[1;32m    561\u001b[0m     \u001b[0mnode\u001b[0m\u001b[0;34m.\u001b[0m\u001b[0margs\u001b[0m\u001b[0;34m.\u001b[0m\u001b[0margs\u001b[0m \u001b[0;34m=\u001b[0m \u001b[0mself\u001b[0m\u001b[0;34m.\u001b[0m\u001b[0m_visit_node_list\u001b[0m\u001b[0;34m(\u001b[0m\u001b[0mnode\u001b[0m\u001b[0;34m.\u001b[0m\u001b[0margs\u001b[0m\u001b[0;34m.\u001b[0m\u001b[0margs\u001b[0m\u001b[0;34m)\u001b[0m\u001b[0;34m\u001b[0m\u001b[0;34m\u001b[0m\u001b[0m\n",
      "\u001b[0;31mAttributeError\u001b[0m: 'arguments' object has no attribute 'posonlyargs'",
      "\nDuring handling of the above exception, another exception occurred:\n",
      "\u001b[0;31mValueError\u001b[0m                                Traceback (most recent call last)",
      "\u001b[0;32m<ipython-input-182-a810c0b93f18>\u001b[0m in \u001b[0;36m<module>\u001b[0;34m\u001b[0m\n\u001b[0;32m----> 1\u001b[0;31m \u001b[0mmodel\u001b[0m \u001b[0;34m=\u001b[0m \u001b[0mFinalModel\u001b[0m\u001b[0;34m(\u001b[0m\u001b[0munique_user_genders\u001b[0m\u001b[0;34m,\u001b[0m \u001b[0munique_user_langs\u001b[0m\u001b[0;34m,\u001b[0m \u001b[0munique_user_countries\u001b[0m\u001b[0;34m,\u001b[0m  \u001b[0munique_user_networks\u001b[0m\u001b[0;34m,\u001b[0m \u001b[0mviewer_age\u001b[0m\u001b[0;34m,\u001b[0m \u001b[0munique_broadcasters\u001b[0m\u001b[0;34m,\u001b[0m \u001b[0mbroadcaster_embedding_dimension\u001b[0m\u001b[0;34m)\u001b[0m\u001b[0;34m\u001b[0m\u001b[0;34m\u001b[0m\u001b[0m\n\u001b[0m\u001b[1;32m      2\u001b[0m \u001b[0mmodel\u001b[0m\u001b[0;34m.\u001b[0m\u001b[0mcompile\u001b[0m\u001b[0;34m(\u001b[0m\u001b[0moptimizer\u001b[0m\u001b[0;34m=\u001b[0m\u001b[0mtf\u001b[0m\u001b[0;34m.\u001b[0m\u001b[0mkeras\u001b[0m\u001b[0;34m.\u001b[0m\u001b[0moptimizers\u001b[0m\u001b[0;34m.\u001b[0m\u001b[0mAdagrad\u001b[0m\u001b[0;34m(\u001b[0m\u001b[0;36m0.1\u001b[0m\u001b[0;34m)\u001b[0m\u001b[0;34m)\u001b[0m\u001b[0;34m\u001b[0m\u001b[0;34m\u001b[0m\u001b[0m\n\u001b[1;32m      3\u001b[0m \u001b[0;34m\u001b[0m\u001b[0m\n\u001b[1;32m      4\u001b[0m \u001b[0mmodel\u001b[0m\u001b[0;34m.\u001b[0m\u001b[0mfit\u001b[0m\u001b[0;34m(\u001b[0m\u001b[0mcached_train\u001b[0m\u001b[0;34m,\u001b[0m \u001b[0mepochs\u001b[0m\u001b[0;34m=\u001b[0m\u001b[0;36m1\u001b[0m\u001b[0;34m)\u001b[0m\u001b[0;34m\u001b[0m\u001b[0;34m\u001b[0m\u001b[0m\n\u001b[1;32m      5\u001b[0m \u001b[0;34m\u001b[0m\u001b[0m\n",
      "\u001b[0;32m<ipython-input-180-906f00a500f7>\u001b[0m in \u001b[0;36m__init__\u001b[0;34m(self, unique_genders, unique_langs, unique_countries, unique_networks, viewer_age, unique_movie_titles, dims)\u001b[0m\n\u001b[1;32m      4\u001b[0m                 \u001b[0msuper\u001b[0m\u001b[0;34m(\u001b[0m\u001b[0;34m)\u001b[0m\u001b[0;34m.\u001b[0m\u001b[0m__init__\u001b[0m\u001b[0;34m(\u001b[0m\u001b[0;34m)\u001b[0m\u001b[0;34m\u001b[0m\u001b[0;34m\u001b[0m\u001b[0m\n\u001b[1;32m      5\u001b[0m \t\tself.user_model = tf.keras.Sequential([\n\u001b[0;32m----> 6\u001b[0;31m                         \u001b[0mUserModel\u001b[0m\u001b[0;34m(\u001b[0m\u001b[0munique_genders\u001b[0m\u001b[0;34m,\u001b[0m \u001b[0munique_langs\u001b[0m\u001b[0;34m,\u001b[0m \u001b[0munique_countries\u001b[0m\u001b[0;34m,\u001b[0m \u001b[0munique_networks\u001b[0m\u001b[0;34m,\u001b[0m \u001b[0mviewer_age\u001b[0m\u001b[0;34m)\u001b[0m\u001b[0;34m,\u001b[0m\u001b[0;34m\u001b[0m\u001b[0;34m\u001b[0m\u001b[0m\n\u001b[0m\u001b[1;32m      7\u001b[0m                         \u001b[0mtf\u001b[0m\u001b[0;34m.\u001b[0m\u001b[0mkeras\u001b[0m\u001b[0;34m.\u001b[0m\u001b[0mlayers\u001b[0m\u001b[0;34m.\u001b[0m\u001b[0mDense\u001b[0m\u001b[0;34m(\u001b[0m\u001b[0;36m32\u001b[0m\u001b[0;34m)\u001b[0m\u001b[0;34m\u001b[0m\u001b[0;34m\u001b[0m\u001b[0m\n\u001b[1;32m      8\u001b[0m \t\t])\n",
      "\u001b[0;32m<ipython-input-179-2950348efadc>\u001b[0m in \u001b[0;36m__init__\u001b[0;34m(self, unique_genders, unique_langs, unique_countries, unique_networks, viewer_age)\u001b[0m\n\u001b[1;32m     29\u001b[0m \u001b[0;34m\u001b[0m\u001b[0m\n\u001b[1;32m     30\u001b[0m         \u001b[0mself\u001b[0m\u001b[0;34m.\u001b[0m\u001b[0mnormalized_ages\u001b[0m \u001b[0;34m=\u001b[0m \u001b[0mtf\u001b[0m\u001b[0;34m.\u001b[0m\u001b[0mkeras\u001b[0m\u001b[0;34m.\u001b[0m\u001b[0mlayers\u001b[0m\u001b[0;34m.\u001b[0m\u001b[0mexperimental\u001b[0m\u001b[0;34m.\u001b[0m\u001b[0mpreprocessing\u001b[0m\u001b[0;34m.\u001b[0m\u001b[0mNormalization\u001b[0m\u001b[0;34m(\u001b[0m\u001b[0;34m)\u001b[0m\u001b[0;34m\u001b[0m\u001b[0;34m\u001b[0m\u001b[0m\n\u001b[0;32m---> 31\u001b[0;31m         \u001b[0mself\u001b[0m\u001b[0;34m.\u001b[0m\u001b[0mnormalized_ages\u001b[0m\u001b[0;34m.\u001b[0m\u001b[0madapt\u001b[0m\u001b[0;34m(\u001b[0m\u001b[0mviewer_age\u001b[0m\u001b[0;34m)\u001b[0m\u001b[0;34m\u001b[0m\u001b[0;34m\u001b[0m\u001b[0m\n\u001b[0m\u001b[1;32m     32\u001b[0m \u001b[0;34m\u001b[0m\u001b[0m\n\u001b[1;32m     33\u001b[0m     \u001b[0;32mdef\u001b[0m \u001b[0mcall\u001b[0m\u001b[0;34m(\u001b[0m\u001b[0mself\u001b[0m\u001b[0;34m,\u001b[0m \u001b[0minputs\u001b[0m\u001b[0;34m)\u001b[0m\u001b[0;34m:\u001b[0m\u001b[0;34m\u001b[0m\u001b[0;34m\u001b[0m\u001b[0m\n",
      "\u001b[0;32m~/opt/miniconda3/envs/tensorflow3.7/lib/python3.7/site-packages/keras/engine/base_preprocessing_layer.py\u001b[0m in \u001b[0;36madapt\u001b[0;34m(self, data, batch_size, steps)\u001b[0m\n\u001b[1;32m    246\u001b[0m       \u001b[0;32mwith\u001b[0m \u001b[0mdata_handler\u001b[0m\u001b[0;34m.\u001b[0m\u001b[0mcatch_stop_iteration\u001b[0m\u001b[0;34m(\u001b[0m\u001b[0;34m)\u001b[0m\u001b[0;34m:\u001b[0m\u001b[0;34m\u001b[0m\u001b[0;34m\u001b[0m\u001b[0m\n\u001b[1;32m    247\u001b[0m         \u001b[0;32mfor\u001b[0m \u001b[0m_\u001b[0m \u001b[0;32min\u001b[0m \u001b[0mdata_handler\u001b[0m\u001b[0;34m.\u001b[0m\u001b[0msteps\u001b[0m\u001b[0;34m(\u001b[0m\u001b[0;34m)\u001b[0m\u001b[0;34m:\u001b[0m\u001b[0;34m\u001b[0m\u001b[0;34m\u001b[0m\u001b[0m\n\u001b[0;32m--> 248\u001b[0;31m           \u001b[0mself\u001b[0m\u001b[0;34m.\u001b[0m\u001b[0m_adapt_function\u001b[0m\u001b[0;34m(\u001b[0m\u001b[0miterator\u001b[0m\u001b[0;34m)\u001b[0m\u001b[0;34m\u001b[0m\u001b[0;34m\u001b[0m\u001b[0m\n\u001b[0m\u001b[1;32m    249\u001b[0m           \u001b[0;32mif\u001b[0m \u001b[0mdata_handler\u001b[0m\u001b[0;34m.\u001b[0m\u001b[0mshould_sync\u001b[0m\u001b[0;34m:\u001b[0m\u001b[0;34m\u001b[0m\u001b[0;34m\u001b[0m\u001b[0m\n\u001b[1;32m    250\u001b[0m             \u001b[0mcontext\u001b[0m\u001b[0;34m.\u001b[0m\u001b[0masync_wait\u001b[0m\u001b[0;34m(\u001b[0m\u001b[0;34m)\u001b[0m\u001b[0;34m\u001b[0m\u001b[0;34m\u001b[0m\u001b[0m\n",
      "\u001b[0;32m~/opt/miniconda3/envs/tensorflow3.7/lib/python3.7/site-packages/tensorflow/python/eager/def_function.py\u001b[0m in \u001b[0;36m__call__\u001b[0;34m(self, *args, **kwds)\u001b[0m\n\u001b[1;32m    883\u001b[0m \u001b[0;34m\u001b[0m\u001b[0m\n\u001b[1;32m    884\u001b[0m       \u001b[0;32mwith\u001b[0m \u001b[0mOptionalXlaContext\u001b[0m\u001b[0;34m(\u001b[0m\u001b[0mself\u001b[0m\u001b[0;34m.\u001b[0m\u001b[0m_jit_compile\u001b[0m\u001b[0;34m)\u001b[0m\u001b[0;34m:\u001b[0m\u001b[0;34m\u001b[0m\u001b[0;34m\u001b[0m\u001b[0m\n\u001b[0;32m--> 885\u001b[0;31m         \u001b[0mresult\u001b[0m \u001b[0;34m=\u001b[0m \u001b[0mself\u001b[0m\u001b[0;34m.\u001b[0m\u001b[0m_call\u001b[0m\u001b[0;34m(\u001b[0m\u001b[0;34m*\u001b[0m\u001b[0margs\u001b[0m\u001b[0;34m,\u001b[0m \u001b[0;34m**\u001b[0m\u001b[0mkwds\u001b[0m\u001b[0;34m)\u001b[0m\u001b[0;34m\u001b[0m\u001b[0;34m\u001b[0m\u001b[0m\n\u001b[0m\u001b[1;32m    886\u001b[0m \u001b[0;34m\u001b[0m\u001b[0m\n\u001b[1;32m    887\u001b[0m       \u001b[0mnew_tracing_count\u001b[0m \u001b[0;34m=\u001b[0m \u001b[0mself\u001b[0m\u001b[0;34m.\u001b[0m\u001b[0mexperimental_get_tracing_count\u001b[0m\u001b[0;34m(\u001b[0m\u001b[0;34m)\u001b[0m\u001b[0;34m\u001b[0m\u001b[0;34m\u001b[0m\u001b[0m\n",
      "\u001b[0;32m~/opt/miniconda3/envs/tensorflow3.7/lib/python3.7/site-packages/tensorflow/python/eager/def_function.py\u001b[0m in \u001b[0;36m_call\u001b[0;34m(self, *args, **kwds)\u001b[0m\n\u001b[1;32m    931\u001b[0m       \u001b[0;31m# This is the first call of __call__, so we have to initialize.\u001b[0m\u001b[0;34m\u001b[0m\u001b[0;34m\u001b[0m\u001b[0;34m\u001b[0m\u001b[0m\n\u001b[1;32m    932\u001b[0m       \u001b[0minitializers\u001b[0m \u001b[0;34m=\u001b[0m \u001b[0;34m[\u001b[0m\u001b[0;34m]\u001b[0m\u001b[0;34m\u001b[0m\u001b[0;34m\u001b[0m\u001b[0m\n\u001b[0;32m--> 933\u001b[0;31m       \u001b[0mself\u001b[0m\u001b[0;34m.\u001b[0m\u001b[0m_initialize\u001b[0m\u001b[0;34m(\u001b[0m\u001b[0margs\u001b[0m\u001b[0;34m,\u001b[0m \u001b[0mkwds\u001b[0m\u001b[0;34m,\u001b[0m \u001b[0madd_initializers_to\u001b[0m\u001b[0;34m=\u001b[0m\u001b[0minitializers\u001b[0m\u001b[0;34m)\u001b[0m\u001b[0;34m\u001b[0m\u001b[0;34m\u001b[0m\u001b[0m\n\u001b[0m\u001b[1;32m    934\u001b[0m     \u001b[0;32mfinally\u001b[0m\u001b[0;34m:\u001b[0m\u001b[0;34m\u001b[0m\u001b[0;34m\u001b[0m\u001b[0m\n\u001b[1;32m    935\u001b[0m       \u001b[0;31m# At this point we know that the initialization is complete (or less\u001b[0m\u001b[0;34m\u001b[0m\u001b[0;34m\u001b[0m\u001b[0;34m\u001b[0m\u001b[0m\n",
      "\u001b[0;32m~/opt/miniconda3/envs/tensorflow3.7/lib/python3.7/site-packages/tensorflow/python/eager/def_function.py\u001b[0m in \u001b[0;36m_initialize\u001b[0;34m(self, args, kwds, add_initializers_to)\u001b[0m\n\u001b[1;32m    758\u001b[0m     self._concrete_stateful_fn = (\n\u001b[1;32m    759\u001b[0m         self._stateful_fn._get_concrete_function_internal_garbage_collected(  # pylint: disable=protected-access\n\u001b[0;32m--> 760\u001b[0;31m             *args, **kwds))\n\u001b[0m\u001b[1;32m    761\u001b[0m \u001b[0;34m\u001b[0m\u001b[0m\n\u001b[1;32m    762\u001b[0m     \u001b[0;32mdef\u001b[0m \u001b[0minvalid_creator_scope\u001b[0m\u001b[0;34m(\u001b[0m\u001b[0;34m*\u001b[0m\u001b[0munused_args\u001b[0m\u001b[0;34m,\u001b[0m \u001b[0;34m**\u001b[0m\u001b[0munused_kwds\u001b[0m\u001b[0;34m)\u001b[0m\u001b[0;34m:\u001b[0m\u001b[0;34m\u001b[0m\u001b[0;34m\u001b[0m\u001b[0m\n",
      "\u001b[0;32m~/opt/miniconda3/envs/tensorflow3.7/lib/python3.7/site-packages/tensorflow/python/eager/function.py\u001b[0m in \u001b[0;36m_get_concrete_function_internal_garbage_collected\u001b[0;34m(self, *args, **kwargs)\u001b[0m\n\u001b[1;32m   3064\u001b[0m       \u001b[0margs\u001b[0m\u001b[0;34m,\u001b[0m \u001b[0mkwargs\u001b[0m \u001b[0;34m=\u001b[0m \u001b[0;32mNone\u001b[0m\u001b[0;34m,\u001b[0m \u001b[0;32mNone\u001b[0m\u001b[0;34m\u001b[0m\u001b[0;34m\u001b[0m\u001b[0m\n\u001b[1;32m   3065\u001b[0m     \u001b[0;32mwith\u001b[0m \u001b[0mself\u001b[0m\u001b[0;34m.\u001b[0m\u001b[0m_lock\u001b[0m\u001b[0;34m:\u001b[0m\u001b[0;34m\u001b[0m\u001b[0;34m\u001b[0m\u001b[0m\n\u001b[0;32m-> 3066\u001b[0;31m       \u001b[0mgraph_function\u001b[0m\u001b[0;34m,\u001b[0m \u001b[0m_\u001b[0m \u001b[0;34m=\u001b[0m \u001b[0mself\u001b[0m\u001b[0;34m.\u001b[0m\u001b[0m_maybe_define_function\u001b[0m\u001b[0;34m(\u001b[0m\u001b[0margs\u001b[0m\u001b[0;34m,\u001b[0m \u001b[0mkwargs\u001b[0m\u001b[0;34m)\u001b[0m\u001b[0;34m\u001b[0m\u001b[0;34m\u001b[0m\u001b[0m\n\u001b[0m\u001b[1;32m   3067\u001b[0m     \u001b[0;32mreturn\u001b[0m \u001b[0mgraph_function\u001b[0m\u001b[0;34m\u001b[0m\u001b[0;34m\u001b[0m\u001b[0m\n\u001b[1;32m   3068\u001b[0m \u001b[0;34m\u001b[0m\u001b[0m\n",
      "\u001b[0;32m~/opt/miniconda3/envs/tensorflow3.7/lib/python3.7/site-packages/tensorflow/python/eager/function.py\u001b[0m in \u001b[0;36m_maybe_define_function\u001b[0;34m(self, args, kwargs)\u001b[0m\n\u001b[1;32m   3461\u001b[0m \u001b[0;34m\u001b[0m\u001b[0m\n\u001b[1;32m   3462\u001b[0m           \u001b[0mself\u001b[0m\u001b[0;34m.\u001b[0m\u001b[0m_function_cache\u001b[0m\u001b[0;34m.\u001b[0m\u001b[0mmissed\u001b[0m\u001b[0;34m.\u001b[0m\u001b[0madd\u001b[0m\u001b[0;34m(\u001b[0m\u001b[0mcall_context_key\u001b[0m\u001b[0;34m)\u001b[0m\u001b[0;34m\u001b[0m\u001b[0;34m\u001b[0m\u001b[0m\n\u001b[0;32m-> 3463\u001b[0;31m           \u001b[0mgraph_function\u001b[0m \u001b[0;34m=\u001b[0m \u001b[0mself\u001b[0m\u001b[0;34m.\u001b[0m\u001b[0m_create_graph_function\u001b[0m\u001b[0;34m(\u001b[0m\u001b[0margs\u001b[0m\u001b[0;34m,\u001b[0m \u001b[0mkwargs\u001b[0m\u001b[0;34m)\u001b[0m\u001b[0;34m\u001b[0m\u001b[0;34m\u001b[0m\u001b[0m\n\u001b[0m\u001b[1;32m   3464\u001b[0m           \u001b[0mself\u001b[0m\u001b[0;34m.\u001b[0m\u001b[0m_function_cache\u001b[0m\u001b[0;34m.\u001b[0m\u001b[0mprimary\u001b[0m\u001b[0;34m[\u001b[0m\u001b[0mcache_key\u001b[0m\u001b[0;34m]\u001b[0m \u001b[0;34m=\u001b[0m \u001b[0mgraph_function\u001b[0m\u001b[0;34m\u001b[0m\u001b[0;34m\u001b[0m\u001b[0m\n\u001b[1;32m   3465\u001b[0m \u001b[0;34m\u001b[0m\u001b[0m\n",
      "\u001b[0;32m~/opt/miniconda3/envs/tensorflow3.7/lib/python3.7/site-packages/tensorflow/python/eager/function.py\u001b[0m in \u001b[0;36m_create_graph_function\u001b[0;34m(self, args, kwargs, override_flat_arg_shapes)\u001b[0m\n\u001b[1;32m   3306\u001b[0m             \u001b[0marg_names\u001b[0m\u001b[0;34m=\u001b[0m\u001b[0marg_names\u001b[0m\u001b[0;34m,\u001b[0m\u001b[0;34m\u001b[0m\u001b[0;34m\u001b[0m\u001b[0m\n\u001b[1;32m   3307\u001b[0m             \u001b[0moverride_flat_arg_shapes\u001b[0m\u001b[0;34m=\u001b[0m\u001b[0moverride_flat_arg_shapes\u001b[0m\u001b[0;34m,\u001b[0m\u001b[0;34m\u001b[0m\u001b[0;34m\u001b[0m\u001b[0m\n\u001b[0;32m-> 3308\u001b[0;31m             capture_by_value=self._capture_by_value),\n\u001b[0m\u001b[1;32m   3309\u001b[0m         \u001b[0mself\u001b[0m\u001b[0;34m.\u001b[0m\u001b[0m_function_attributes\u001b[0m\u001b[0;34m,\u001b[0m\u001b[0;34m\u001b[0m\u001b[0;34m\u001b[0m\u001b[0m\n\u001b[1;32m   3310\u001b[0m         \u001b[0mfunction_spec\u001b[0m\u001b[0;34m=\u001b[0m\u001b[0mself\u001b[0m\u001b[0;34m.\u001b[0m\u001b[0mfunction_spec\u001b[0m\u001b[0;34m,\u001b[0m\u001b[0;34m\u001b[0m\u001b[0;34m\u001b[0m\u001b[0m\n",
      "\u001b[0;32m~/opt/miniconda3/envs/tensorflow3.7/lib/python3.7/site-packages/tensorflow/python/framework/func_graph.py\u001b[0m in \u001b[0;36mfunc_graph_from_py_func\u001b[0;34m(name, python_func, args, kwargs, signature, func_graph, autograph, autograph_options, add_control_dependencies, arg_names, op_return_value, collections, capture_by_value, override_flat_arg_shapes, acd_record_initial_resource_uses)\u001b[0m\n\u001b[1;32m   1005\u001b[0m         \u001b[0m_\u001b[0m\u001b[0;34m,\u001b[0m \u001b[0moriginal_func\u001b[0m \u001b[0;34m=\u001b[0m \u001b[0mtf_decorator\u001b[0m\u001b[0;34m.\u001b[0m\u001b[0munwrap\u001b[0m\u001b[0;34m(\u001b[0m\u001b[0mpython_func\u001b[0m\u001b[0;34m)\u001b[0m\u001b[0;34m\u001b[0m\u001b[0;34m\u001b[0m\u001b[0m\n\u001b[1;32m   1006\u001b[0m \u001b[0;34m\u001b[0m\u001b[0m\n\u001b[0;32m-> 1007\u001b[0;31m       \u001b[0mfunc_outputs\u001b[0m \u001b[0;34m=\u001b[0m \u001b[0mpython_func\u001b[0m\u001b[0;34m(\u001b[0m\u001b[0;34m*\u001b[0m\u001b[0mfunc_args\u001b[0m\u001b[0;34m,\u001b[0m \u001b[0;34m**\u001b[0m\u001b[0mfunc_kwargs\u001b[0m\u001b[0;34m)\u001b[0m\u001b[0;34m\u001b[0m\u001b[0;34m\u001b[0m\u001b[0m\n\u001b[0m\u001b[1;32m   1008\u001b[0m \u001b[0;34m\u001b[0m\u001b[0m\n\u001b[1;32m   1009\u001b[0m       \u001b[0;31m# invariant: `func_outputs` contains only Tensors, CompositeTensors,\u001b[0m\u001b[0;34m\u001b[0m\u001b[0;34m\u001b[0m\u001b[0;34m\u001b[0m\u001b[0m\n",
      "\u001b[0;32m~/opt/miniconda3/envs/tensorflow3.7/lib/python3.7/site-packages/tensorflow/python/eager/def_function.py\u001b[0m in \u001b[0;36mwrapped_fn\u001b[0;34m(*args, **kwds)\u001b[0m\n\u001b[1;32m    666\u001b[0m         \u001b[0;31m# the function a weak reference to itself to avoid a reference cycle.\u001b[0m\u001b[0;34m\u001b[0m\u001b[0;34m\u001b[0m\u001b[0;34m\u001b[0m\u001b[0m\n\u001b[1;32m    667\u001b[0m         \u001b[0;32mwith\u001b[0m \u001b[0mOptionalXlaContext\u001b[0m\u001b[0;34m(\u001b[0m\u001b[0mcompile_with_xla\u001b[0m\u001b[0;34m)\u001b[0m\u001b[0;34m:\u001b[0m\u001b[0;34m\u001b[0m\u001b[0;34m\u001b[0m\u001b[0m\n\u001b[0;32m--> 668\u001b[0;31m           \u001b[0mout\u001b[0m \u001b[0;34m=\u001b[0m \u001b[0mweak_wrapped_fn\u001b[0m\u001b[0;34m(\u001b[0m\u001b[0;34m)\u001b[0m\u001b[0;34m.\u001b[0m\u001b[0m__wrapped__\u001b[0m\u001b[0;34m(\u001b[0m\u001b[0;34m*\u001b[0m\u001b[0margs\u001b[0m\u001b[0;34m,\u001b[0m \u001b[0;34m**\u001b[0m\u001b[0mkwds\u001b[0m\u001b[0;34m)\u001b[0m\u001b[0;34m\u001b[0m\u001b[0;34m\u001b[0m\u001b[0m\n\u001b[0m\u001b[1;32m    669\u001b[0m         \u001b[0;32mreturn\u001b[0m \u001b[0mout\u001b[0m\u001b[0;34m\u001b[0m\u001b[0;34m\u001b[0m\u001b[0m\n\u001b[1;32m    670\u001b[0m \u001b[0;34m\u001b[0m\u001b[0m\n",
      "\u001b[0;32m~/opt/miniconda3/envs/tensorflow3.7/lib/python3.7/site-packages/tensorflow/python/framework/func_graph.py\u001b[0m in \u001b[0;36mwrapper\u001b[0;34m(*args, **kwargs)\u001b[0m\n\u001b[1;32m    988\u001b[0m                     \u001b[0mrecursive\u001b[0m\u001b[0;34m=\u001b[0m\u001b[0;32mTrue\u001b[0m\u001b[0;34m,\u001b[0m\u001b[0;34m\u001b[0m\u001b[0;34m\u001b[0m\u001b[0m\n\u001b[1;32m    989\u001b[0m                     \u001b[0moptional_features\u001b[0m\u001b[0;34m=\u001b[0m\u001b[0mautograph_options\u001b[0m\u001b[0;34m,\u001b[0m\u001b[0;34m\u001b[0m\u001b[0;34m\u001b[0m\u001b[0m\n\u001b[0;32m--> 990\u001b[0;31m                     \u001b[0muser_requested\u001b[0m\u001b[0;34m=\u001b[0m\u001b[0;32mTrue\u001b[0m\u001b[0;34m,\u001b[0m\u001b[0;34m\u001b[0m\u001b[0;34m\u001b[0m\u001b[0m\n\u001b[0m\u001b[1;32m    991\u001b[0m                 ))\n\u001b[1;32m    992\u001b[0m           \u001b[0;32mexcept\u001b[0m \u001b[0mException\u001b[0m \u001b[0;32mas\u001b[0m \u001b[0me\u001b[0m\u001b[0;34m:\u001b[0m  \u001b[0;31m# pylint:disable=broad-except\u001b[0m\u001b[0;34m\u001b[0m\u001b[0;34m\u001b[0m\u001b[0m\n",
      "\u001b[0;32m~/opt/miniconda3/envs/tensorflow3.7/lib/python3.7/site-packages/tensorflow/python/autograph/impl/api.py\u001b[0m in \u001b[0;36mconverted_call\u001b[0;34m(f, args, kwargs, caller_fn_scope, options)\u001b[0m\n\u001b[1;32m    437\u001b[0m     \u001b[0;32mif\u001b[0m \u001b[0mis_autograph_strict_conversion_mode\u001b[0m\u001b[0;34m(\u001b[0m\u001b[0;34m)\u001b[0m\u001b[0;34m:\u001b[0m\u001b[0;34m\u001b[0m\u001b[0;34m\u001b[0m\u001b[0m\n\u001b[1;32m    438\u001b[0m       \u001b[0;32mraise\u001b[0m\u001b[0;34m\u001b[0m\u001b[0;34m\u001b[0m\u001b[0m\n\u001b[0;32m--> 439\u001b[0;31m     \u001b[0;32mreturn\u001b[0m \u001b[0m_fall_back_unconverted\u001b[0m\u001b[0;34m(\u001b[0m\u001b[0mf\u001b[0m\u001b[0;34m,\u001b[0m \u001b[0margs\u001b[0m\u001b[0;34m,\u001b[0m \u001b[0mkwargs\u001b[0m\u001b[0;34m,\u001b[0m \u001b[0moptions\u001b[0m\u001b[0;34m,\u001b[0m \u001b[0me\u001b[0m\u001b[0;34m)\u001b[0m\u001b[0;34m\u001b[0m\u001b[0;34m\u001b[0m\u001b[0m\n\u001b[0m\u001b[1;32m    440\u001b[0m \u001b[0;34m\u001b[0m\u001b[0m\n\u001b[1;32m    441\u001b[0m   \u001b[0;32mwith\u001b[0m \u001b[0mStackTraceMapper\u001b[0m\u001b[0;34m(\u001b[0m\u001b[0mconverted_f\u001b[0m\u001b[0;34m)\u001b[0m\u001b[0;34m,\u001b[0m \u001b[0mtf_stack\u001b[0m\u001b[0;34m.\u001b[0m\u001b[0mCurrentModuleFilter\u001b[0m\u001b[0;34m(\u001b[0m\u001b[0;34m)\u001b[0m\u001b[0;34m:\u001b[0m\u001b[0;34m\u001b[0m\u001b[0;34m\u001b[0m\u001b[0m\n",
      "\u001b[0;32m~/opt/miniconda3/envs/tensorflow3.7/lib/python3.7/site-packages/tensorflow/python/autograph/impl/api.py\u001b[0m in \u001b[0;36m_fall_back_unconverted\u001b[0;34m(f, args, kwargs, options, exc)\u001b[0m\n\u001b[1;32m    484\u001b[0m     \u001b[0mlogging\u001b[0m\u001b[0;34m.\u001b[0m\u001b[0mwarn\u001b[0m\u001b[0;34m(\u001b[0m\u001b[0mwarning_template\u001b[0m\u001b[0;34m,\u001b[0m \u001b[0mf\u001b[0m\u001b[0;34m,\u001b[0m \u001b[0mfile_bug_message\u001b[0m\u001b[0;34m,\u001b[0m \u001b[0mexc\u001b[0m\u001b[0;34m)\u001b[0m\u001b[0;34m\u001b[0m\u001b[0;34m\u001b[0m\u001b[0m\n\u001b[1;32m    485\u001b[0m \u001b[0;34m\u001b[0m\u001b[0m\n\u001b[0;32m--> 486\u001b[0;31m   \u001b[0;32mreturn\u001b[0m \u001b[0m_call_unconverted\u001b[0m\u001b[0;34m(\u001b[0m\u001b[0mf\u001b[0m\u001b[0;34m,\u001b[0m \u001b[0margs\u001b[0m\u001b[0;34m,\u001b[0m \u001b[0mkwargs\u001b[0m\u001b[0;34m,\u001b[0m \u001b[0moptions\u001b[0m\u001b[0;34m)\u001b[0m\u001b[0;34m\u001b[0m\u001b[0;34m\u001b[0m\u001b[0m\n\u001b[0m\u001b[1;32m    487\u001b[0m \u001b[0;34m\u001b[0m\u001b[0m\n\u001b[1;32m    488\u001b[0m \u001b[0;34m\u001b[0m\u001b[0m\n",
      "\u001b[0;32m~/opt/miniconda3/envs/tensorflow3.7/lib/python3.7/site-packages/tensorflow/python/autograph/impl/api.py\u001b[0m in \u001b[0;36m_call_unconverted\u001b[0;34m(f, args, kwargs, options, update_cache)\u001b[0m\n\u001b[1;32m    461\u001b[0m \u001b[0;34m\u001b[0m\u001b[0m\n\u001b[1;32m    462\u001b[0m   \u001b[0;32mif\u001b[0m \u001b[0mkwargs\u001b[0m \u001b[0;32mis\u001b[0m \u001b[0;32mnot\u001b[0m \u001b[0;32mNone\u001b[0m\u001b[0;34m:\u001b[0m\u001b[0;34m\u001b[0m\u001b[0;34m\u001b[0m\u001b[0m\n\u001b[0;32m--> 463\u001b[0;31m     \u001b[0;32mreturn\u001b[0m \u001b[0mf\u001b[0m\u001b[0;34m(\u001b[0m\u001b[0;34m*\u001b[0m\u001b[0margs\u001b[0m\u001b[0;34m,\u001b[0m \u001b[0;34m**\u001b[0m\u001b[0mkwargs\u001b[0m\u001b[0;34m)\u001b[0m\u001b[0;34m\u001b[0m\u001b[0;34m\u001b[0m\u001b[0m\n\u001b[0m\u001b[1;32m    464\u001b[0m   \u001b[0;32mreturn\u001b[0m \u001b[0mf\u001b[0m\u001b[0;34m(\u001b[0m\u001b[0;34m*\u001b[0m\u001b[0margs\u001b[0m\u001b[0;34m)\u001b[0m\u001b[0;34m\u001b[0m\u001b[0;34m\u001b[0m\u001b[0m\n\u001b[1;32m    465\u001b[0m \u001b[0;34m\u001b[0m\u001b[0m\n",
      "\u001b[0;32m~/opt/miniconda3/envs/tensorflow3.7/lib/python3.7/site-packages/keras/engine/base_preprocessing_layer.py\u001b[0m in \u001b[0;36madapt_step\u001b[0;34m(iterator)\u001b[0m\n\u001b[1;32m    119\u001b[0m     \u001b[0;32mdef\u001b[0m \u001b[0madapt_step\u001b[0m\u001b[0;34m(\u001b[0m\u001b[0miterator\u001b[0m\u001b[0;34m)\u001b[0m\u001b[0;34m:\u001b[0m\u001b[0;34m\u001b[0m\u001b[0;34m\u001b[0m\u001b[0m\n\u001b[1;32m    120\u001b[0m       \u001b[0mdata\u001b[0m \u001b[0;34m=\u001b[0m \u001b[0mnext\u001b[0m\u001b[0;34m(\u001b[0m\u001b[0miterator\u001b[0m\u001b[0;34m)\u001b[0m\u001b[0;34m\u001b[0m\u001b[0;34m\u001b[0m\u001b[0m\n\u001b[0;32m--> 121\u001b[0;31m       \u001b[0mself\u001b[0m\u001b[0;34m.\u001b[0m\u001b[0m_adapt_maybe_build\u001b[0m\u001b[0;34m(\u001b[0m\u001b[0mdata\u001b[0m\u001b[0;34m)\u001b[0m\u001b[0;34m\u001b[0m\u001b[0;34m\u001b[0m\u001b[0m\n\u001b[0m\u001b[1;32m    122\u001b[0m       \u001b[0mself\u001b[0m\u001b[0;34m.\u001b[0m\u001b[0mupdate_state\u001b[0m\u001b[0;34m(\u001b[0m\u001b[0mdata\u001b[0m\u001b[0;34m)\u001b[0m\u001b[0;34m\u001b[0m\u001b[0;34m\u001b[0m\u001b[0m\n\u001b[1;32m    123\u001b[0m \u001b[0;34m\u001b[0m\u001b[0m\n",
      "\u001b[0;32m~/opt/miniconda3/envs/tensorflow3.7/lib/python3.7/site-packages/keras/engine/base_preprocessing_layer.py\u001b[0m in \u001b[0;36m_adapt_maybe_build\u001b[0;34m(self, data)\u001b[0m\n\u001b[1;32m    282\u001b[0m         \u001b[0;31m# Set the number of dimensions.\u001b[0m\u001b[0;34m\u001b[0m\u001b[0;34m\u001b[0m\u001b[0;34m\u001b[0m\u001b[0m\n\u001b[1;32m    283\u001b[0m         \u001b[0mself\u001b[0m\u001b[0;34m.\u001b[0m\u001b[0m_batch_input_shape\u001b[0m \u001b[0;34m=\u001b[0m \u001b[0mdata_shape_nones\u001b[0m\u001b[0;34m\u001b[0m\u001b[0;34m\u001b[0m\u001b[0m\n\u001b[0;32m--> 284\u001b[0;31m       \u001b[0mself\u001b[0m\u001b[0;34m.\u001b[0m\u001b[0mbuild\u001b[0m\u001b[0;34m(\u001b[0m\u001b[0mdata_shape\u001b[0m\u001b[0;34m)\u001b[0m\u001b[0;34m\u001b[0m\u001b[0;34m\u001b[0m\u001b[0m\n\u001b[0m\u001b[1;32m    285\u001b[0m       \u001b[0mself\u001b[0m\u001b[0;34m.\u001b[0m\u001b[0mbuilt\u001b[0m \u001b[0;34m=\u001b[0m \u001b[0;32mTrue\u001b[0m\u001b[0;34m\u001b[0m\u001b[0;34m\u001b[0m\u001b[0m\n\u001b[1;32m    286\u001b[0m \u001b[0;34m\u001b[0m\u001b[0m\n",
      "\u001b[0;32m~/opt/miniconda3/envs/tensorflow3.7/lib/python3.7/site-packages/keras/layers/preprocessing/normalization.py\u001b[0m in \u001b[0;36mbuild\u001b[0;34m(self, input_shape)\u001b[0m\n\u001b[1;32m    146\u001b[0m             \u001b[0;34m'All `axis` values to be kept must have known shape. Got axis: {}, '\u001b[0m\u001b[0;34m\u001b[0m\u001b[0;34m\u001b[0m\u001b[0m\n\u001b[1;32m    147\u001b[0m             'input shape: {}, with unknown axis at index: {}'.format(\n\u001b[0;32m--> 148\u001b[0;31m                 self.axis, input_shape, d))\n\u001b[0m\u001b[1;32m    149\u001b[0m     \u001b[0;31m# Axes to be reduced.\u001b[0m\u001b[0;34m\u001b[0m\u001b[0;34m\u001b[0m\u001b[0;34m\u001b[0m\u001b[0m\n\u001b[1;32m    150\u001b[0m     \u001b[0mself\u001b[0m\u001b[0;34m.\u001b[0m\u001b[0m_reduce_axis\u001b[0m \u001b[0;34m=\u001b[0m \u001b[0;34m[\u001b[0m\u001b[0md\u001b[0m \u001b[0;32mfor\u001b[0m \u001b[0md\u001b[0m \u001b[0;32min\u001b[0m \u001b[0mrange\u001b[0m\u001b[0;34m(\u001b[0m\u001b[0mndim\u001b[0m\u001b[0;34m)\u001b[0m \u001b[0;32mif\u001b[0m \u001b[0md\u001b[0m \u001b[0;32mnot\u001b[0m \u001b[0;32min\u001b[0m \u001b[0mself\u001b[0m\u001b[0;34m.\u001b[0m\u001b[0m_keep_axis\u001b[0m\u001b[0;34m]\u001b[0m\u001b[0;34m\u001b[0m\u001b[0;34m\u001b[0m\u001b[0m\n",
      "\u001b[0;31mValueError\u001b[0m: All `axis` values to be kept must have known shape. Got axis: (-1,), input shape: [None], with unknown axis at index: 0"
     ]
    }
   ],
   "source": [
    "model = FinalModel(unique_user_genders, unique_user_langs, unique_user_countries,  unique_user_networks, viewer_age, unique_broadcasters, broadcaster_embedding_dimension)\n",
    "model.compile(optimizer=tf.keras.optimizers.Adagrad(0.1))\n",
    "\n",
    "model.fit(cached_train, epochs=1)\n",
    "\n",
    "train_accuracy = model.evaluate(\n",
    "    cached_train, return_dict=True)[\"factorized_top_k/top_100_categorical_accuracy\"]\n",
    "test_accuracy = model.evaluate(\n",
    "    cached_test, return_dict=True)[\"factorized_top_k/top_100_categorical_accuracy\"]\n",
    "\n",
    "print(f\"Top-100 accuracy (train): {train_accuracy:.2f}.\")\n",
    "print(f\"Top-100 accuracy (test): {test_accuracy:.2f}.\")"
   ]
  },
  {
   "cell_type": "code",
   "execution_count": 64,
   "id": "c1404564",
   "metadata": {},
   "outputs": [],
   "source": [
    "class TwoTowers(tf.keras.Model):\n",
    "\n",
    "    def __init__(self, broadcaster_model, user_model, task):\n",
    "        super().__init__()\n",
    "        self.broadcaster_model: tf.keras.Model = broadcaster_model\n",
    "        self.embedding_model = user_model\n",
    "        self.task: tf.keras.layers.Layer = task\n",
    "\n",
    "    def train_step(self, features: Dict[Text, tf.Tensor]) -> tf.Tensor:\n",
    "\n",
    "        # Set up a gradient tape to record gradients.\n",
    "        with tf.GradientTape() as tape:\n",
    "\n",
    "            # Loss computation.\n",
    "\n",
    "            user_embeddings = self.embedding_model({\n",
    "                \"viewer_gender\": features[\"viewer_gender\"],\n",
    "                \"viewer_lang\": features[\"viewer_lang\"],\n",
    "                \"viewer_country\": features[\"viewer_country\"],\n",
    "                \"viewer_age\": features[\"viewer_age\"],\n",
    "                \"viewer_network\": features[\"viewer_network\"],\n",
    "                \"viewer_latitude\": features[\"viewer_latitude\"],\n",
    "                \"viewer_longitude\": features[\"viewer_longitude\"],\n",
    "            })\n",
    "            positive_movie_embeddings = self.broadcaster_model(\n",
    "                features[\"broadcaster\"])\n",
    "            loss = self.task(user_embeddings, positive_movie_embeddings)\n",
    "\n",
    "            # Handle regularization losses as well.\n",
    "            regularization_loss = sum(self.losses)\n",
    "\n",
    "            total_loss = loss + regularization_loss\n",
    "\n",
    "        gradients = tape.gradient(total_loss, self.trainable_variables)\n",
    "        self.optimizer.apply_gradients(\n",
    "            zip(gradients, self.trainable_variables))\n",
    "\n",
    "        metrics = {metric.name: metric.result() for metric in self.metrics}\n",
    "        metrics[\"loss\"] = loss\n",
    "        metrics[\"regularization_loss\"] = regularization_loss\n",
    "        metrics[\"total_loss\"] = total_loss\n",
    "\n",
    "        return metrics\n",
    "\n",
    "    def test_step(self, features: Dict[Text, tf.Tensor]) -> tf.Tensor:\n",
    "\n",
    "        # Loss computation.\n",
    "\n",
    "        user_embeddings = self.embedding_model({\n",
    "            \"viewer\": features[\"viewer\"],\n",
    "        })\n",
    "        positive_movie_embeddings = self.broadcaster_model(\n",
    "            features[\"broadcaster\"])\n",
    "        loss = self.task(user_embeddings, positive_movie_embeddings)\n",
    "\n",
    "        # Handle regularization losses as well.\n",
    "        regularization_loss = sum(self.losses)\n",
    "\n",
    "        total_loss = loss + regularization_loss\n",
    "\n",
    "        metrics = {metric.name: metric.result() for metric in self.metrics}\n",
    "        metrics[\"loss\"] = loss\n",
    "        metrics[\"regularization_loss\"] = regularization_loss\n",
    "        metrics[\"total_loss\"] = total_loss\n",
    "        return metrics\n"
   ]
  },
  {
   "cell_type": "code",
   "execution_count": 65,
   "id": "b8dcbd1f",
   "metadata": {},
   "outputs": [],
   "source": [
    "model = TwoTowers(broadcaster_model, user_model, task)"
   ]
  },
  {
   "cell_type": "code",
   "execution_count": 70,
   "id": "0f9d15ae",
   "metadata": {},
   "outputs": [],
   "source": [
    "learning_rate = 0.05\n",
    "batch_size = 16384\n",
    "epochs = 2\n",
    "top_k = 1999"
   ]
  },
  {
   "cell_type": "code",
   "execution_count": 71,
   "id": "df8a2325",
   "metadata": {},
   "outputs": [],
   "source": [
    "model.compile(optimizer=tf.keras.optimizers.Adagrad(learning_rate=learning_rate))"
   ]
  },
  {
   "cell_type": "code",
   "execution_count": 74,
   "id": "10097ecd",
   "metadata": {},
   "outputs": [],
   "source": [
    "train_ds = train.batch(batch_size).cache()\n",
    "# train_ds = train_ds.prefetch(tf.data.experimental.AUTOTUNE)"
   ]
  },
  {
   "cell_type": "code",
   "execution_count": 81,
   "id": "4744356b",
   "metadata": {},
   "outputs": [
    {
     "name": "stdout",
     "output_type": "stream",
     "text": [
      "loading file:a3d86f3b-eb45-4641-b05d-30dff7423e6b.csv\n",
      "                   viewer       broadcaster  viewer_age viewer_gender  \\\n",
      "20127    meetme:270873951  meetme:173297788        50.0          male   \n",
      "4658043     pof:312987597  meetme:284812954        38.0          male   \n",
      "3776639  meetme:317538802  meetme:272758486        40.0          male   \n",
      "3885853   skout:183423249   skout:183634455        42.0          male   \n",
      "1580865  meetme:266907949  meetme:266115204        30.0          male   \n",
      "2008130  meetme:268556395  meetme:254201989        29.0          male   \n",
      "2004183   skout:120969259  meetme:292551747        38.0          male   \n",
      "2246152   skout:152167511   skout:182824110        28.0          male   \n",
      "1569695  meetme:214623362     pof:323790889        29.0        female   \n",
      "1040276     pof:171129060   skout:159743514        27.0          male   \n",
      "\n",
      "         viewer_longitude  viewer_latitude viewer_lang viewer_country  \\\n",
      "20127         -118.239304        34.063400          en             US   \n",
      "4658043        -75.000000        40.099998          en             US   \n",
      "3776639         28.112301        41.264900          tr             TR   \n",
      "3885853         -9.071000        39.595001          pt             PT   \n",
      "1580865        -75.059700        40.127899          en             US   \n",
      "2008130       -101.320801        48.429100          en             US   \n",
      "2004183        -75.667999        41.395000          en             US   \n",
      "2246152        -77.966003        39.410999          en             US   \n",
      "1569695       -119.173302        46.211700          en             US   \n",
      "1040276       -121.400002        38.700001          en             US   \n",
      "\n",
      "         broadcaster_age broadcaster_gender  broadcaster_longitude  \\\n",
      "20127               27.0               male            -122.435699   \n",
      "4658043             42.0             female             -73.859802   \n",
      "3776639             25.0             female              28.112301   \n",
      "3885853             27.0               male             -47.493000   \n",
      "1580865             26.0             female             -73.859802   \n",
      "2008130             30.0             female            -104.863800   \n",
      "2004183             24.0               male             124.646301   \n",
      "2246152             26.0               male             120.558998   \n",
      "1569695             21.0               male            -122.400002   \n",
      "1040276             24.0             female            -121.268997   \n",
      "\n",
      "         broadcaster_latitude broadcaster_lang broadcaster_country  duration  \\\n",
      "20127               37.785599               en                  US       123   \n",
      "4658043             40.901199               en                  US      4170   \n",
      "3776639             41.264900               tr                  TR        76   \n",
      "3885853            -23.016001               pt                  BR        94   \n",
      "1580865             40.901199               en                  US       370   \n",
      "2008130             38.853401               en                  US       135   \n",
      "2004183              8.481500               en                  PH        48   \n",
      "2246152             18.058001               en                  PH       270   \n",
      "1569695             47.099998               en                  US        82   \n",
      "1040276             38.460999               en                  US        66   \n",
      "\n",
      "        viewer_network broadcaster_network  count  \n",
      "20127           meetme              meetme      1  \n",
      "4658043            pof              meetme      6  \n",
      "3776639         meetme              meetme      1  \n",
      "3885853          skout               skout      1  \n",
      "1580865         meetme              meetme      1  \n",
      "2008130         meetme              meetme      2  \n",
      "2004183          skout              meetme      3  \n",
      "2246152          skout               skout      1  \n",
      "1569695         meetme                 pof      1  \n",
      "1040276            pof               skout      2  \n",
      "                   viewer       broadcaster  viewer_age viewer_gender  \\\n",
      "133966   meetme:246832732     pof:332095974        49.0          male   \n",
      "4599552     pof:326134722     pof:307808640        42.0          male   \n",
      "2254359  meetme:316923782   skout:183956818        28.0        female   \n",
      "3254712     pof:320677426  meetme:316156589        39.0          male   \n",
      "2332767  meetme:317814476  meetme:314919082        27.0        female   \n",
      "1190233  meetme:316229241  meetme:254364900        32.0          male   \n",
      "913566      pof:331920544     pof:328582109        30.0          male   \n",
      "2863056     pof:185633484  meetme:293636567        51.0        female   \n",
      "3373368     pof:332339649     pof:182156775        45.0          male   \n",
      "4138186     pof:306113611  meetme:268685335        51.0          male   \n",
      "\n",
      "         viewer_longitude  viewer_latitude viewer_lang viewer_country  \\\n",
      "133966         -92.400803        34.307598          en             US   \n",
      "4599552        -79.000000        34.299999          en             US   \n",
      "2254359         -8.286100        41.278099          pt             BR   \n",
      "3254712        -79.300003        43.799999          en             US   \n",
      "2332767        -51.668701       -29.354401          pt             BR   \n",
      "1190233        -98.205704        38.006302          en             US   \n",
      "913566         -94.199997        34.599998          en             US   \n",
      "2863056        -84.599998        39.000000          en             US   \n",
      "3373368         -0.200000        51.799999          en             US   \n",
      "4138186        -85.500000        41.200001          en             US   \n",
      "\n",
      "         broadcaster_age broadcaster_gender  broadcaster_longitude  \\\n",
      "133966              22.0             female             -88.000000   \n",
      "4599552             30.0             female             -84.400002   \n",
      "2254359             29.0             female              -8.575000   \n",
      "3254712             32.0             female            -118.201401   \n",
      "2332767             33.0               male             -51.665798   \n",
      "1190233             26.0             female             -96.303001   \n",
      "913566              26.0             female             -79.800003   \n",
      "2863056             21.0               male             -97.937500   \n",
      "3373368             40.0             female               0.100000   \n",
      "4138186             40.0             female             -84.351196   \n",
      "\n",
      "         broadcaster_latitude broadcaster_lang broadcaster_country  duration  \\\n",
      "133966              34.200001               en                  US        70   \n",
      "4599552             33.799999               en                  US       339   \n",
      "2254359             40.987999               pt                  PT       249   \n",
      "3254712             33.924301               en                  US       485   \n",
      "2332767            -29.364599               pt                  BR       111   \n",
      "1190233             35.433102               en                  US        96   \n",
      "913566              43.299999               en                  CA       171   \n",
      "2863056             30.319201               en                  US        67   \n",
      "3373368             51.799999               en                  GB        84   \n",
      "4138186             40.124298               en                  US       285   \n",
      "\n",
      "        viewer_network broadcaster_network  count  \n",
      "133966          meetme                 pof      1  \n",
      "4599552            pof                 pof      1  \n",
      "2254359         meetme               skout      1  \n",
      "3254712            pof              meetme      3  \n",
      "2332767         meetme              meetme      1  \n",
      "1190233         meetme              meetme      1  \n",
      "913566             pof                 pof      1  \n",
      "2863056            pof              meetme      2  \n",
      "3373368            pof                 pof      1  \n",
      "4138186            pof              meetme      2  \n",
      "creating data set\n"
     ]
    }
   ],
   "source": [
    "ratings = load_training_data_cold(file=\"a3d86f3b-eb45-4641-b05d-30dff7423e6b.csv\", stats=\"\")"
   ]
  },
  {
   "cell_type": "code",
   "execution_count": 82,
   "id": "0c449d7d",
   "metadata": {},
   "outputs": [],
   "source": [
    "tf.random.set_seed(42)\n",
    "shuffled = ratings.shuffle(100_000, seed=42, reshuffle_each_iteration=False)\n",
    "\n",
    "train = shuffled.take(80_000)\n",
    "test = shuffled.skip(80_000).take(20_000)\n",
    "\n",
    "cached_train = train.shuffle(100_000).batch(2048)\n",
    "cached_test = test.batch(4096).cache()"
   ]
  },
  {
   "cell_type": "code",
   "execution_count": 83,
   "id": "eb5ad61f",
   "metadata": {},
   "outputs": [
    {
     "data": {
      "text/plain": [
       "40"
      ]
     },
     "execution_count": 83,
     "metadata": {},
     "output_type": "execute_result"
    }
   ],
   "source": [
    "len(cached_train)"
   ]
  },
  {
   "cell_type": "code",
   "execution_count": 84,
   "id": "12bd790a",
   "metadata": {},
   "outputs": [
    {
     "ename": "TypeError",
     "evalue": "'NoneType' object is not callable",
     "output_type": "error",
     "traceback": [
      "\u001b[0;31m---------------------------------------------------------------------------\u001b[0m",
      "\u001b[0;31mTypeError\u001b[0m                                 Traceback (most recent call last)",
      "\u001b[0;32m<ipython-input-84-6fb68097c7e2>\u001b[0m in \u001b[0;36m<module>\u001b[0;34m\u001b[0m\n\u001b[0;32m----> 1\u001b[0;31m \u001b[0mmodel\u001b[0m\u001b[0;34m.\u001b[0m\u001b[0mfit\u001b[0m\u001b[0;34m(\u001b[0m\u001b[0mcached_train\u001b[0m\u001b[0;34m,\u001b[0m \u001b[0mepochs\u001b[0m\u001b[0;34m=\u001b[0m\u001b[0;36m1\u001b[0m\u001b[0;34m)\u001b[0m\u001b[0;34m\u001b[0m\u001b[0;34m\u001b[0m\u001b[0m\n\u001b[0m",
      "\u001b[0;32m~/opt/miniconda3/envs/tensorflow3.7/lib/python3.7/site-packages/keras/engine/training.py\u001b[0m in \u001b[0;36mfit\u001b[0;34m(self, x, y, batch_size, epochs, verbose, callbacks, validation_split, validation_data, shuffle, class_weight, sample_weight, initial_epoch, steps_per_epoch, validation_steps, validation_batch_size, validation_freq, max_queue_size, workers, use_multiprocessing)\u001b[0m\n\u001b[1;32m   1182\u001b[0m                 _r=1):\n\u001b[1;32m   1183\u001b[0m               \u001b[0mcallbacks\u001b[0m\u001b[0;34m.\u001b[0m\u001b[0mon_train_batch_begin\u001b[0m\u001b[0;34m(\u001b[0m\u001b[0mstep\u001b[0m\u001b[0;34m)\u001b[0m\u001b[0;34m\u001b[0m\u001b[0;34m\u001b[0m\u001b[0m\n\u001b[0;32m-> 1184\u001b[0;31m               \u001b[0mtmp_logs\u001b[0m \u001b[0;34m=\u001b[0m \u001b[0mself\u001b[0m\u001b[0;34m.\u001b[0m\u001b[0mtrain_function\u001b[0m\u001b[0;34m(\u001b[0m\u001b[0miterator\u001b[0m\u001b[0;34m)\u001b[0m\u001b[0;34m\u001b[0m\u001b[0;34m\u001b[0m\u001b[0m\n\u001b[0m\u001b[1;32m   1185\u001b[0m               \u001b[0;32mif\u001b[0m \u001b[0mdata_handler\u001b[0m\u001b[0;34m.\u001b[0m\u001b[0mshould_sync\u001b[0m\u001b[0;34m:\u001b[0m\u001b[0;34m\u001b[0m\u001b[0;34m\u001b[0m\u001b[0m\n\u001b[1;32m   1186\u001b[0m                 \u001b[0mcontext\u001b[0m\u001b[0;34m.\u001b[0m\u001b[0masync_wait\u001b[0m\u001b[0;34m(\u001b[0m\u001b[0;34m)\u001b[0m\u001b[0;34m\u001b[0m\u001b[0;34m\u001b[0m\u001b[0m\n",
      "\u001b[0;32m~/opt/miniconda3/envs/tensorflow3.7/lib/python3.7/site-packages/tensorflow/python/eager/def_function.py\u001b[0m in \u001b[0;36m__call__\u001b[0;34m(self, *args, **kwds)\u001b[0m\n\u001b[1;32m    883\u001b[0m \u001b[0;34m\u001b[0m\u001b[0m\n\u001b[1;32m    884\u001b[0m       \u001b[0;32mwith\u001b[0m \u001b[0mOptionalXlaContext\u001b[0m\u001b[0;34m(\u001b[0m\u001b[0mself\u001b[0m\u001b[0;34m.\u001b[0m\u001b[0m_jit_compile\u001b[0m\u001b[0;34m)\u001b[0m\u001b[0;34m:\u001b[0m\u001b[0;34m\u001b[0m\u001b[0;34m\u001b[0m\u001b[0m\n\u001b[0;32m--> 885\u001b[0;31m         \u001b[0mresult\u001b[0m \u001b[0;34m=\u001b[0m \u001b[0mself\u001b[0m\u001b[0;34m.\u001b[0m\u001b[0m_call\u001b[0m\u001b[0;34m(\u001b[0m\u001b[0;34m*\u001b[0m\u001b[0margs\u001b[0m\u001b[0;34m,\u001b[0m \u001b[0;34m**\u001b[0m\u001b[0mkwds\u001b[0m\u001b[0;34m)\u001b[0m\u001b[0;34m\u001b[0m\u001b[0;34m\u001b[0m\u001b[0m\n\u001b[0m\u001b[1;32m    886\u001b[0m \u001b[0;34m\u001b[0m\u001b[0m\n\u001b[1;32m    887\u001b[0m       \u001b[0mnew_tracing_count\u001b[0m \u001b[0;34m=\u001b[0m \u001b[0mself\u001b[0m\u001b[0;34m.\u001b[0m\u001b[0mexperimental_get_tracing_count\u001b[0m\u001b[0;34m(\u001b[0m\u001b[0;34m)\u001b[0m\u001b[0;34m\u001b[0m\u001b[0;34m\u001b[0m\u001b[0m\n",
      "\u001b[0;32m~/opt/miniconda3/envs/tensorflow3.7/lib/python3.7/site-packages/tensorflow/python/eager/def_function.py\u001b[0m in \u001b[0;36m_call\u001b[0;34m(self, *args, **kwds)\u001b[0m\n\u001b[1;32m    915\u001b[0m       \u001b[0;31m# In this case we have created variables on the first call, so we run the\u001b[0m\u001b[0;34m\u001b[0m\u001b[0;34m\u001b[0m\u001b[0;34m\u001b[0m\u001b[0m\n\u001b[1;32m    916\u001b[0m       \u001b[0;31m# defunned version which is guaranteed to never create variables.\u001b[0m\u001b[0;34m\u001b[0m\u001b[0;34m\u001b[0m\u001b[0;34m\u001b[0m\u001b[0m\n\u001b[0;32m--> 917\u001b[0;31m       \u001b[0;32mreturn\u001b[0m \u001b[0mself\u001b[0m\u001b[0;34m.\u001b[0m\u001b[0m_stateless_fn\u001b[0m\u001b[0;34m(\u001b[0m\u001b[0;34m*\u001b[0m\u001b[0margs\u001b[0m\u001b[0;34m,\u001b[0m \u001b[0;34m**\u001b[0m\u001b[0mkwds\u001b[0m\u001b[0;34m)\u001b[0m  \u001b[0;31m# pylint: disable=not-callable\u001b[0m\u001b[0;34m\u001b[0m\u001b[0;34m\u001b[0m\u001b[0m\n\u001b[0m\u001b[1;32m    918\u001b[0m     \u001b[0;32melif\u001b[0m \u001b[0mself\u001b[0m\u001b[0;34m.\u001b[0m\u001b[0m_stateful_fn\u001b[0m \u001b[0;32mis\u001b[0m \u001b[0;32mnot\u001b[0m \u001b[0;32mNone\u001b[0m\u001b[0;34m:\u001b[0m\u001b[0;34m\u001b[0m\u001b[0;34m\u001b[0m\u001b[0m\n\u001b[1;32m    919\u001b[0m       \u001b[0;31m# Release the lock early so that multiple threads can perform the call\u001b[0m\u001b[0;34m\u001b[0m\u001b[0;34m\u001b[0m\u001b[0;34m\u001b[0m\u001b[0m\n",
      "\u001b[0;31mTypeError\u001b[0m: 'NoneType' object is not callable"
     ]
    }
   ],
   "source": [
    "model.fit(cached_train, epochs=1)"
   ]
  },
  {
   "cell_type": "code",
   "execution_count": 48,
   "id": "07e35e97",
   "metadata": {},
   "outputs": [
    {
     "name": "stdout",
     "output_type": "stream",
     "text": [
      "{'broadcaster': b'skout:168895853',\n",
      " 'broadcaster_network': b'skout',\n",
      " 'viewer': b'skout:151948757',\n",
      " 'viewer_age': 28,\n",
      " 'viewer_country': b'US',\n",
      " 'viewer_gender': b'male',\n",
      " 'viewer_lang': b'en',\n",
      " 'viewer_latitude': 22.3,\n",
      " 'viewer_longitude': 114.2,\n",
      " 'viewer_network': b'skout'}\n",
      "{'broadcaster': b'meetme:193371002',\n",
      " 'broadcaster_network': b'meetme',\n",
      " 'viewer': b'meetme:290274324',\n",
      " 'viewer_age': 29,\n",
      " 'viewer_country': b'US',\n",
      " 'viewer_gender': b'male',\n",
      " 'viewer_lang': b'en',\n",
      " 'viewer_latitude': 8.234,\n",
      " 'viewer_longitude': 124.25,\n",
      " 'viewer_network': b'meetme'}\n"
     ]
    }
   ],
   "source": [
    "for x in train.take(2).as_numpy_iterator():\n",
    "    pprint.pprint(x)"
   ]
  },
  {
   "cell_type": "code",
   "execution_count": null,
   "id": "521445e7",
   "metadata": {},
   "outputs": [],
   "source": []
  }
 ],
 "metadata": {
  "kernelspec": {
   "display_name": "Python 3",
   "language": "python",
   "name": "python3"
  },
  "language_info": {
   "codemirror_mode": {
    "name": "ipython",
    "version": 3
   },
   "file_extension": ".py",
   "mimetype": "text/x-python",
   "name": "python",
   "nbconvert_exporter": "python",
   "pygments_lexer": "ipython3",
   "version": "3.7.11"
  }
 },
 "nbformat": 4,
 "nbformat_minor": 5
}
