{
 "cells": [
  {
   "cell_type": "code",
   "execution_count": 1,
   "id": "f2940fd3",
   "metadata": {},
   "outputs": [],
   "source": [
    "import tensorflow as tf"
   ]
  },
  {
   "cell_type": "code",
   "execution_count": 2,
   "id": "c28c21da",
   "metadata": {},
   "outputs": [],
   "source": [
    "class CustomModel(tf.keras.Model):\n",
    "    def train_step(self, data):\n",
    "        # Unpack the data. Its structure depends on your model and\n",
    "        # on what you pass to `fit()`.\n",
    "        x, y = data # sample weight can be added here\n",
    "\n",
    "        with tf.GradientTape() as tape:\n",
    "            y_pred = self(x, training=True)  # Forward pass\n",
    "            # Compute the loss value\n",
    "            # (the loss function is configured in `compile()`)\n",
    "            loss = self.compiled_loss(y, y_pred, regularization_losses=self.losses) # additional loss added\n",
    "\n",
    "        # Compute gradients\n",
    "        trainable_vars = self.trainable_variables\n",
    "        gradients = tape.gradient(loss, trainable_vars)\n",
    "        # Update weights\n",
    "        self.optimizer.apply_gradients(zip(gradients, trainable_vars))\n",
    "        # Update metrics (includes all the metrics that tracks the loss)\n",
    "        self.compiled_metrics.update_state(y, y_pred)\n",
    "        # Return a dict mapping metric names to current value\n",
    "        return {m.name: m.result() for m in self.metrics}"
   ]
  },
  {
   "cell_type": "markdown",
   "id": "5d7c2da9",
   "metadata": {},
   "source": [
    "::: tips Valid Layers Only layers exist in both __init__ / build and call are effective ones (saved in checkpoint) :::\n"
   ]
  },
  {
   "cell_type": "markdown",
   "id": "f347f596",
   "metadata": {},
   "source": [
    "### Serving"
   ]
  },
  {
   "cell_type": "code",
   "execution_count": null,
   "id": "e93dabd4",
   "metadata": {},
   "outputs": [],
   "source": [
    "path = \"tmp\"\n",
    "# some built-in method or @tf.function as serving_default, errors are consumed silently\n",
    "model.save(path)\n",
    "tf.saved_model.save(model, path)\n",
    "tf.keras.models.save_model(model, path)\n",
    "\n",
    "# errors are thrown out\n",
    "# model.func is decorated with @tf.function(input_signatures=[])\n",
    "model.save(path, signatures={'name': model.func})\n",
    "tf.saved_model.save(model, path, signatures={'name': model.func})\n",
    "tf.keras.models.save_model(model, path, signatures={'name': model.func})\n",
    "\n",
    "# errors are thrown out\n",
    "# model.func is decorated with @tf.function baldly\n",
    "model.save(path, signatures={'name': model.func.get_concrete_function(some_input_signatures)})\n",
    "tf.saved_model.save(model, path, signatures={'name': model.func.get_concrete_function(some_input_signatures)})\n",
    "tf.keras.models.save_model(model, path, signatures={'name': model.func.get_concrete_function(some_input_signatures)})"
   ]
  },
  {
   "cell_type": "code",
   "execution_count": 4,
   "id": "2ab8643f",
   "metadata": {},
   "outputs": [],
   "source": [
    "# original\n",
    "@tf.function(input_signature=[tf.TensorSpec(shape=[None,None], dtype=tf.float32)])\n",
    "def add(self, x):\n",
    "    if x.shape[1] is None:\n",
    "        print(x)\n",
    "        return tf.constant('666')\n",
    "    else:\n",
    "        return tf.constant(x.shape[1])\n",
    "\n",
    "# simplified due to an execution with empty tensor\n",
    "def add(self, x):\n",
    "    return tf.constant('666')"
   ]
  },
  {
   "cell_type": "code",
   "execution_count": 5,
   "id": "f1a544f8",
   "metadata": {},
   "outputs": [],
   "source": [
    "# Fix one: remove input_signature\n",
    "@tf.function()\n",
    "def add(self, x):\n",
    "    if x.shape[1] is None:\n",
    "        print(x)\n",
    "        return tf.constant('666')\n",
    "    else:\n",
    "        return tf.constant(x.shape[1])"
   ]
  },
  {
   "cell_type": "code",
   "execution_count": 6,
   "id": "090f4e41",
   "metadata": {},
   "outputs": [],
   "source": [
    "# Fix two: use tensors in branch conditional\n",
    "@tf.function(input_signature=[tf.TensorSpec(shape=[None,None], dtype=tf.float32)])\n",
    "def add(self, x):\n",
    "    if tf.equal(tf.size(x), 0):  # empty tensor size is 0; [[1,2],[3,4]] size is 4\n",
    "        print(x)\n",
    "        return tf.constant('666')\n",
    "    else:\n",
    "        return tf.constant(x.shape[1])"
   ]
  },
  {
   "cell_type": "code",
   "execution_count": 7,
   "id": "fe18ecc9",
   "metadata": {},
   "outputs": [
    {
     "name": "stdout",
     "output_type": "stream",
     "text": [
      "WARNING:tensorflow:From /var/folders/pl/p61pv4q90019r6vd80xnfprc0000gn/T/ipykernel_52326/586195775.py:3: experimental_run_functions_eagerly (from tensorflow.python.eager.def_function) is deprecated and will be removed in a future version.\n",
      "Instructions for updating:\n",
      "Use `tf.config.run_functions_eagerly` instead of the experimental version.\n"
     ]
    }
   ],
   "source": [
    "# Fix three: run tf functions in eager mode\n",
    "tf.config.run_functions_eagerly(True)  # tf >= 2.3\n",
    "tf.config.experimental_run_functions_eagerly(True)  # tf >= 2.0"
   ]
  },
  {
   "cell_type": "code",
   "execution_count": 8,
   "id": "4783f774",
   "metadata": {},
   "outputs": [
    {
     "ename": "SyntaxError",
     "evalue": "invalid syntax (1687953081.py, line 2)",
     "output_type": "error",
     "traceback": [
      "\u001b[0;36m  File \u001b[0;32m\"/var/folders/pl/p61pv4q90019r6vd80xnfprc0000gn/T/ipykernel_52326/1687953081.py\"\u001b[0;36m, line \u001b[0;32m2\u001b[0m\n\u001b[0;31m    def tf_func(x):\u001b[0m\n\u001b[0m      ^\u001b[0m\n\u001b[0;31mSyntaxError\u001b[0m\u001b[0;31m:\u001b[0m invalid syntax\n"
     ]
    }
   ],
   "source": [
    "@tf.function(input_signature=[tf.TensorSpec(shape=[None, 224, 224, 3], dtype=tf.float32)]\n",
    "def tf_func(x):\n",
    "    do_sth(x)\n",
    "    return\n",
    "\n",
    "# auto parsed to test(one_arg=, one_arg_1=)\n",
    "# if multiple tensors are passed through a single argument, they are differentiated by number suffix\n",
    "@tf.function(input_signatures=[(tf.TensorSpec(shape=None, dtype=tf.int32), tf.TensorSpec(shape=None, dtype=tf.int32))])\n",
    "def test(one_arg: Tuple(int, int)):\n",
    "    do_sth(one_arg)\n",
    "    return\n",
    "\n",
    "# later use get_concrete_function(tf.TensorSpec(shape=[None, 224, 224, 3], dtype=tf.float32))\n",
    "@tf.function\n",
    "def bald_tf_func(x):\n",
    "    do_sth(x)\n",
    "    return"
   ]
  },
  {
   "cell_type": "code",
   "execution_count": 9,
   "id": "fc0065f2",
   "metadata": {},
   "outputs": [
    {
     "ename": "SyntaxError",
     "evalue": "invalid syntax (3398124104.py, line 6)",
     "output_type": "error",
     "traceback": [
      "\u001b[0;36m  File \u001b[0;32m\"/var/folders/pl/p61pv4q90019r6vd80xnfprc0000gn/T/ipykernel_52326/3398124104.py\"\u001b[0;36m, line \u001b[0;32m6\u001b[0m\n\u001b[0;31m    .signatures['name'](**dict_multiple_args)\u001b[0m\n\u001b[0m    ^\u001b[0m\n\u001b[0;31mSyntaxError\u001b[0m\u001b[0;31m:\u001b[0m invalid syntax\n"
     ]
    }
   ],
   "source": [
    "\"\"\"Only accept sequence of tensors\"\"\"\n",
    "\n",
    "# one argument\n",
    "model.signatures['name'](one_arg_in_tensor)\n",
    "# multiple arguments should be passed as **kwargs\n",
    ".signatures['name'](**dict_multiple_args)"
   ]
  },
  {
   "cell_type": "code",
   "execution_count": 10,
   "id": "5c5a8639",
   "metadata": {},
   "outputs": [
    {
     "name": "stderr",
     "output_type": "stream",
     "text": [
      "2021-10-14 17:33:50.983428: I tensorflow/core/platform/cpu_feature_guard.cc:142] This TensorFlow binary is optimized with oneAPI Deep Neural Network Library (oneDNN) to use the following CPU instructions in performance-critical operations:  AVX2 FMA\n",
      "To enable them in other operations, rebuild TensorFlow with the appropriate compiler flags.\n"
     ]
    },
    {
     "data": {
      "text/plain": [
       "<tf.Tensor: shape=(2, 6), dtype=int32, numpy=\n",
       "array([[1, 2, 3, 1, 2, 3],\n",
       "       [4, 5, 6, 4, 5, 6]], dtype=int32)>"
      ]
     },
     "execution_count": 10,
     "metadata": {},
     "output_type": "execute_result"
    }
   ],
   "source": [
    "a = tf.constant([[1,2,3],[4,5,6]], tf.int32)\n",
    "b = tf.constant([1,2], tf.int32)  # one for each dimension\n",
    "\n",
    "# [[1,2,3,1,2,3],[4,5,6,4,5,6]]\n",
    "tf.tile(a, b)"
   ]
  },
  {
   "cell_type": "code",
   "execution_count": 12,
   "id": "1bb63604",
   "metadata": {},
   "outputs": [],
   "source": [
    "import numpy as np"
   ]
  },
  {
   "cell_type": "code",
   "execution_count": 13,
   "id": "ac704ea0",
   "metadata": {},
   "outputs": [
    {
     "data": {
      "text/plain": [
       "<tf.Tensor: shape=(3, 5, 3), dtype=float64, numpy=\n",
       "array([[[ 0.48372874,  0.48372874,  0.83624316],\n",
       "        [-0.58736895, -0.03821011, -0.03821011],\n",
       "        [-0.1638027 , -0.1638027 , -0.83502416],\n",
       "        [ 0.40656184,  0.13559765,  0.40656184],\n",
       "        [-0.09690313,  0.68085775,  0.68085775]],\n",
       "\n",
       "       [[-0.45005643, -0.43341404, -0.45005643],\n",
       "        [ 0.57919562, -0.9923409 ,  0.57919562],\n",
       "        [ 0.01991931, -0.04308811,  0.01991931],\n",
       "        [-0.89897645, -0.89897645, -0.89897645],\n",
       "        [ 0.06809007, -0.57559243, -0.57559243]],\n",
       "\n",
       "       [[ 0.59922772,  0.59922772,  0.96226704],\n",
       "        [-0.39183219,  0.44381656,  0.44381656],\n",
       "        [ 0.27561701, -0.58657842,  0.27561701],\n",
       "        [-0.38742094, -0.38742094, -0.38742094],\n",
       "        [-0.40525719, -0.32690152, -0.32690152]]])>"
      ]
     },
     "execution_count": 13,
     "metadata": {},
     "output_type": "execute_result"
    }
   ],
   "source": [
    "# 1d indices without batch_dims\n",
    "ps = np.random.uniform(-1, 1, (5, 2))\n",
    "ids = [1,0]\n",
    "\n",
    "# select rows\n",
    "# (2,) + (2,) => (2, 2)\n",
    "tf.gather(ps, ids, axis=0)  # r[0] = ps[ids[0]]; r[1] = ps[ids[1]]\n",
    "\n",
    "# select columns\n",
    "# (5,) + (2,) => (5, 2)\n",
    "tf.gather(ps, ids, axis=1)  # r[:, 0] = ps[:, ids[0]]; r[:, 1] = ps[:, ids[1]]\n",
    "\n",
    "\n",
    "# 2d indices without batch_dims\n",
    "ps = np.random.uniform(-1, 1, (5, 2))\n",
    "ids = np.random.randint(0, 2, (5, 3))\n",
    "\n",
    "# select rows\n",
    "# (5, 3) + (,2) => (5, 3, 2)\n",
    "# for i in range(5):\n",
    "#     for j in range(3):\n",
    "#         r[i, j, :] = ps[ids[i, j], :]\n",
    "tf.gather(ps, ids, axis=0)\n",
    "\n",
    "# select cols\n",
    "# (5, ) + (5, 3) => (5, 5, 3)\n",
    "# for i in range(5):\n",
    "#     for j in range(3):\n",
    "#         r[:, i, j] = ps[:, ids[i, j]]\n",
    "tf.gather(ps, ids, axis=1)\n",
    "\n",
    "\n",
    "# 2d indices with batch_dims\n",
    "ps = np.random.uniform(-1, 1, (5, 2))\n",
    "ids = np.random.randint(0, 2, (5, 3))\n",
    "\n",
    "# batch_dims = 0 takes no effect\n",
    "tf.gather(ps, ids, axis=1, batch_dims=0)\n",
    "\n",
    "# if axis = 1\n",
    "# def manually_batched_gather(ps, ids, axis):\n",
    "#     batch_dims=1\n",
    "#     assert batch_dims <= axis\n",
    "#     assert ids.shape[0] == ps.shape[0]\n",
    "#     result = []\n",
    "#     for p,i in zip(ps, ids):\n",
    "#         r = tf.gather(p, i, axis=axis-batch_dims)\n",
    "#         result.append(r)\n",
    "#     return tf.stack(result)\n",
    "tf.gather(ps, ids, axis=1, batch_dims=1)  # (5, 3)\n",
    "\n",
    "# 3d indices with batch_dims\n",
    "ps = np.random.uniform(-1, 1, (3, 5, 2))\n",
    "ids = np.random.randint(0, 2, (3, 5, 3))\n",
    "\n",
    "tf.gather(ps, ids, axis=2, batch_dims=1)  # (3, 5, 5, 3)\n",
    "\n",
    "# if axis = batch_dims,\n",
    "# for p0, i0 in zip(ps, ids):\n",
    "#     sub_result = []\n",
    "#     for p1, i1 in zip(p0, i0):\n",
    "#         r = tf.gather(p1, i1, axis=0)\n",
    "#         sub_result.append(r)\n",
    "#     result.append(tf.stack(sub_result))\n",
    "# tf.stack(result)\n",
    "tf.gather(ps, ids, axis=2, batch_dims=2)  # (3, 5, 3)"
   ]
  },
  {
   "cell_type": "code",
   "execution_count": 14,
   "id": "d1e52199",
   "metadata": {},
   "outputs": [
    {
     "data": {
      "text/plain": [
       "<tf.Tensor: shape=(2, 1, 2), dtype=string, numpy=\n",
       "array([[[b'c', b'd']],\n",
       "\n",
       "       [[b'a', b'b']]], dtype=object)>"
      ]
     },
     "execution_count": 14,
     "metadata": {},
     "output_type": "execute_result"
    }
   ],
   "source": [
    "\"\"\"\n",
    "same rank\n",
    "\"\"\"\n",
    "indices = [[0, 0], [1, 1]]\n",
    "params = [['a', 'b'], ['c', 'd']]\n",
    "\n",
    "# ['a', 'd']\n",
    "tf.gather_nd(params, indices)\n",
    "\n",
    "indices = [[1], [0]]\n",
    "params = [['a', 'b'], ['c', 'd']]\n",
    "\n",
    "# [['c', 'd'], ['a', 'b']]\n",
    "tf.gather(params, indices)\n"
   ]
  },
  {
   "cell_type": "code",
   "execution_count": 16,
   "id": "d78e5ca2",
   "metadata": {},
   "outputs": [
    {
     "data": {
      "text/plain": [
       "<tf.Tensor: shape=(2, 2), dtype=string, numpy=\n",
       "array([[b'c0', b'd0'],\n",
       "       [b'a1', b'b1']], dtype=object)>"
      ]
     },
     "execution_count": 16,
     "metadata": {},
     "output_type": "execute_result"
    }
   ],
   "source": [
    "\"\"\"\n",
    "batched indices and params\n",
    "\"\"\"\n",
    "indices = [[1], [0]]  # (2, 1)\n",
    "params = [\n",
    "    [['a0', 'b0'], ['c0', 'd0']],\n",
    "    [['a1', 'b1'], ['c1', 'd1']]\n",
    "]  # (2, 2, 2)\n",
    "\n",
    "# [['c0', 'd0'], ['a1', 'b1']]\n",
    "tf.gather_nd(params, indices, batch_dims = 1)"
   ]
  },
  {
   "cell_type": "code",
   "execution_count": 18,
   "id": "0fb17ad6",
   "metadata": {},
   "outputs": [],
   "source": [
    "a = tf.constant(\n",
    "    [\n",
    "        [1, 1, 1, 4],\n",
    "        [4, 0, 1, 1],\n",
    "        [3, 2, 4, 1]\n",
    "    ]\n",
    ")\n",
    "\n",
    "b = tf.constant(\n",
    "    [\n",
    "        [3, 1, 3, 4],\n",
    "        [2, 4, 0, 4],\n",
    "        [3, 2, 4, 1]\n",
    "    ]\n",
    ")\n",
    "\n",
    "# tf.tanspose([a, b])"
   ]
  },
  {
   "cell_type": "code",
   "execution_count": 20,
   "id": "070bda62",
   "metadata": {},
   "outputs": [
    {
     "name": "stdout",
     "output_type": "stream",
     "text": [
      "[[1 1 1 4]\n",
      " [4 0 1 1]\n",
      " [3 2 4 1]]\n",
      "[[3 1 3 4]\n",
      " [2 4 0 4]\n",
      " [3 2 4 1]]\n"
     ]
    }
   ],
   "source": [
    "tf.print(a)  # tensor value can be printed\n",
    "tf.print(f'{b}')  # empty tensor value"
   ]
  },
  {
   "cell_type": "code",
   "execution_count": 22,
   "id": "41546a39",
   "metadata": {},
   "outputs": [
    {
     "data": {
      "text/plain": [
       "(0, 1806341205)"
      ]
     },
     "execution_count": 22,
     "metadata": {},
     "output_type": "execute_result"
    }
   ],
   "source": [
    "# tf 2.1 eager\n",
    "from tensorflow.python.framework import random_seed\n",
    "tf.random.set_seed(0)\n",
    "random_seed.get_seed(None)  # counter (0, 1654615998)\n",
    "random_seed.get_seed(None)  # counter (0, 2087043557)\n",
    "\n",
    "# tf 2.1 graph\n",
    "from tensorflow.python.framework import random_seed\n",
    "tf.random.set_seed(0)\n",
    "random_seed.get_seed(None)  # counter (0, 1)\n",
    "random_seed.get_seed(None)  # counter (0, 3)\n",
    "\n",
    "# tf 2.1 different graph\n",
    "from tensorflow.python.framework import random_seed\n",
    "tf.random.set_seed(0)\n",
    "random_seed.get_seed(None)  # counter (0, 2)\n",
    "random_seed.get_seed(None)  # c"
   ]
  },
  {
   "cell_type": "code",
   "execution_count": 23,
   "id": "a13d5398",
   "metadata": {},
   "outputs": [
    {
     "ename": "SyntaxError",
     "evalue": "invalid syntax (2223447619.py, line 5)",
     "output_type": "error",
     "traceback": [
      "\u001b[0;36m  File \u001b[0;32m\"/var/folders/pl/p61pv4q90019r6vd80xnfprc0000gn/T/ipykernel_52326/2223447619.py\"\u001b[0;36m, line \u001b[0;32m5\u001b[0m\n\u001b[0;31m    model_func():\u001b[0m\n\u001b[0m             ^\u001b[0m\n\u001b[0;31mSyntaxError\u001b[0m\u001b[0;31m:\u001b[0m invalid syntax\n"
     ]
    }
   ],
   "source": [
    "# since tf.function transform code to graph, we expect it can interact correctly with tf's graph tensors\n",
    "# however, error occurs if input_signatures exist for model function which requires keras's learning phase(whether training)\n",
    "# error occurs might due to keras_learning_phase is symbolic(graph) tensor, but func is first a eager function then transformed to graph\n",
    "@tf.function(input_signatures=[])\n",
    "model_func():\n",
    "    depends on learning phase\n",
    "\n",
    "# Okay, black box success\n",
    "@tf.function\n",
    "model_func():\n",
    "    depends on learning phase"
   ]
  },
  {
   "cell_type": "code",
   "execution_count": null,
   "id": "0ad03e7a",
   "metadata": {},
   "outputs": [],
   "source": [
    "class MaxBlurPooling2D(L.Layer):\n",
    "\n",
    "    def __init__(self, pool_size: int = 2, kernel_size: int = 3, **kwargs):\n",
    "        self.pool_size = pool_size\n",
    "        self.kernel_size = kernel_size\n",
    "\n",
    "        super(MaxBlurPooling2D, self).__init__(**kwargs)\n",
    "        \n",
    "    def get_config(self):\n",
    "        config = {\n",
    "            'pool_size': self.pool_size,\n",
    "            'kernel_size': self.kernel_size\n",
    "            # in this config should not include the variable from add_weight but only the variables in __init__\n",
    "        }\n",
    "        base_config = super(MaxBlurPooling2D, self).get_config()\n",
    "        return dict(list(base_config.items()) + list(config.items()))\n",
    "        \n",
    "    def build(self, input_shape):\n",
    "\n",
    "        if self.kernel_size == 3:\n",
    "            bk = tf.constant([[1, 2, 1],\n",
    "                           [2, 4, 2],\n",
    "                           [1, 2, 1]])\n",
    "            bk = bk / tf.math.reduce_sum(bk)\n",
    "        elif self.kernel_size == 5:\n",
    "            bk = tf.constant([[1, 4, 6, 4, 1],\n",
    "                           [4, 16, 24, 16, 4],\n",
    "                           [6, 24, 36, 24, 6],\n",
    "                           [4, 16, 24, 16, 4],\n",
    "                           [1, 4, 6, 4, 1]])\n",
    "            bk = bk / tf.math.reduce_sum(bk)\n",
    "        else:\n",
    "            raise ValueError\n",
    "        bk = tf.cast(bk,tf.float32)\n",
    "        bk = tf.repeat(bk, input_shape[3])\n",
    "\n",
    "        bk = tf.reshape(bk, (self.kernel_size, self.kernel_size, input_shape[3], 1))\n",
    "\n",
    "        self.blur_kernel = self.add_weight(name='blur_kernel',\n",
    "                                           shape=(self.kernel_size, self.kernel_size, input_shape[3], 1),\n",
    "                                           initializer=tf.keras.initializers.constant(bk),\n",
    "                                           trainable=False)\n",
    "\n",
    "        super(MaxBlurPooling2D, self).build(input_shape)  # Be sure to call this at the end\n",
    "\n",
    "    def call(self, x):\n",
    "\n",
    "        x = tf.nn.pool(x, (self.pool_size, self.pool_size),\n",
    "                       strides=(1, 1), padding='SAME', pooling_type='MAX', data_format='NHWC')\n",
    "        x = K.backend.depthwise_conv2d(x, self.blur_kernel, padding='same', strides=(self.pool_size, self.pool_size))\n",
    "\n",
    "        return x\n",
    "\n",
    "    def compute_output_shape(self, input_shape):\n",
    "        return input_shape[0], int(tf.math.ceil(input_shape[1] / 2)), int(tf.math.ceil(input_shape[2] / 2)), input_shape[3]"
   ]
  }
 ],
 "metadata": {
  "kernelspec": {
   "display_name": "Python 3 (ipykernel)",
   "language": "python",
   "name": "python3"
  },
  "language_info": {
   "codemirror_mode": {
    "name": "ipython",
    "version": 3
   },
   "file_extension": ".py",
   "mimetype": "text/x-python",
   "name": "python",
   "nbconvert_exporter": "python",
   "pygments_lexer": "ipython3",
   "version": "3.7.7"
  }
 },
 "nbformat": 4,
 "nbformat_minor": 5
}
