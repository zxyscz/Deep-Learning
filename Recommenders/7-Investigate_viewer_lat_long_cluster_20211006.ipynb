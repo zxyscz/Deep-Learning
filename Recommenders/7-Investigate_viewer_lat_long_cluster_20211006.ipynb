{
 "cells": [
  {
   "cell_type": "markdown",
   "id": "4ee6a290",
   "metadata": {},
   "source": [
    "### Setup envs"
   ]
  },
  {
   "cell_type": "code",
   "execution_count": 1,
   "id": "612c1fcb",
   "metadata": {},
   "outputs": [],
   "source": [
    "import boto3\n",
    "from sagemaker import get_execution_role"
   ]
  },
  {
   "cell_type": "code",
   "execution_count": 2,
   "id": "6baf9411",
   "metadata": {},
   "outputs": [
    {
     "name": "stdout",
     "output_type": "stream",
     "text": [
      "Requirement already satisfied: tensorflow==2.5.0 in /home/ec2-user/anaconda3/envs/python3/lib/python3.6/site-packages (2.5.0)\n",
      "Requirement already satisfied: opt-einsum~=3.3.0 in /home/ec2-user/anaconda3/envs/python3/lib/python3.6/site-packages (from tensorflow==2.5.0) (3.3.0)\n",
      "Requirement already satisfied: gast==0.4.0 in /home/ec2-user/anaconda3/envs/python3/lib/python3.6/site-packages (from tensorflow==2.5.0) (0.4.0)\n",
      "Requirement already satisfied: grpcio~=1.34.0 in /home/ec2-user/anaconda3/envs/python3/lib/python3.6/site-packages (from tensorflow==2.5.0) (1.34.1)\n",
      "Requirement already satisfied: termcolor~=1.1.0 in /home/ec2-user/anaconda3/envs/python3/lib/python3.6/site-packages (from tensorflow==2.5.0) (1.1.0)\n",
      "Requirement already satisfied: tensorflow-estimator<2.6.0,>=2.5.0rc0 in /home/ec2-user/anaconda3/envs/python3/lib/python3.6/site-packages (from tensorflow==2.5.0) (2.5.0)\n",
      "Requirement already satisfied: tensorboard~=2.5 in /home/ec2-user/anaconda3/envs/python3/lib/python3.6/site-packages (from tensorflow==2.5.0) (2.6.0)\n",
      "Requirement already satisfied: wheel~=0.35 in /home/ec2-user/anaconda3/envs/python3/lib/python3.6/site-packages (from tensorflow==2.5.0) (0.36.2)\n",
      "Requirement already satisfied: keras-nightly~=2.5.0.dev in /home/ec2-user/anaconda3/envs/python3/lib/python3.6/site-packages (from tensorflow==2.5.0) (2.5.0.dev2021032900)\n",
      "Requirement already satisfied: protobuf>=3.9.2 in /home/ec2-user/anaconda3/envs/python3/lib/python3.6/site-packages (from tensorflow==2.5.0) (3.15.2)\n",
      "Requirement already satisfied: keras-preprocessing~=1.1.2 in /home/ec2-user/anaconda3/envs/python3/lib/python3.6/site-packages (from tensorflow==2.5.0) (1.1.2)\n",
      "Requirement already satisfied: wrapt~=1.12.1 in /home/ec2-user/anaconda3/envs/python3/lib/python3.6/site-packages (from tensorflow==2.5.0) (1.12.1)\n",
      "Requirement already satisfied: typing-extensions~=3.7.4 in /home/ec2-user/anaconda3/envs/python3/lib/python3.6/site-packages (from tensorflow==2.5.0) (3.7.4.3)\n",
      "Requirement already satisfied: absl-py~=0.10 in /home/ec2-user/anaconda3/envs/python3/lib/python3.6/site-packages (from tensorflow==2.5.0) (0.14.1)\n",
      "Requirement already satisfied: google-pasta~=0.2 in /home/ec2-user/anaconda3/envs/python3/lib/python3.6/site-packages (from tensorflow==2.5.0) (0.2.0)\n",
      "Requirement already satisfied: flatbuffers~=1.12.0 in /home/ec2-user/anaconda3/envs/python3/lib/python3.6/site-packages (from tensorflow==2.5.0) (1.12)\n",
      "Requirement already satisfied: h5py~=3.1.0 in /home/ec2-user/anaconda3/envs/python3/lib/python3.6/site-packages (from tensorflow==2.5.0) (3.1.0)\n",
      "Requirement already satisfied: numpy~=1.19.2 in /home/ec2-user/anaconda3/envs/python3/lib/python3.6/site-packages (from tensorflow==2.5.0) (1.19.5)\n",
      "Requirement already satisfied: astunparse~=1.6.3 in /home/ec2-user/anaconda3/envs/python3/lib/python3.6/site-packages (from tensorflow==2.5.0) (1.6.3)\n",
      "Requirement already satisfied: six~=1.15.0 in /home/ec2-user/anaconda3/envs/python3/lib/python3.6/site-packages (from tensorflow==2.5.0) (1.15.0)\n",
      "Requirement already satisfied: cached-property in /home/ec2-user/anaconda3/envs/python3/lib/python3.6/site-packages (from h5py~=3.1.0->tensorflow==2.5.0) (1.5.1)\n",
      "Requirement already satisfied: setuptools>=41.0.0 in /home/ec2-user/anaconda3/envs/python3/lib/python3.6/site-packages (from tensorboard~=2.5->tensorflow==2.5.0) (49.6.0.post20210108)\n",
      "Requirement already satisfied: tensorboard-data-server<0.7.0,>=0.6.0 in /home/ec2-user/anaconda3/envs/python3/lib/python3.6/site-packages (from tensorboard~=2.5->tensorflow==2.5.0) (0.6.1)\n",
      "Requirement already satisfied: google-auth<2,>=1.6.3 in /home/ec2-user/anaconda3/envs/python3/lib/python3.6/site-packages (from tensorboard~=2.5->tensorflow==2.5.0) (1.35.0)\n",
      "Requirement already satisfied: requests<3,>=2.21.0 in /home/ec2-user/anaconda3/envs/python3/lib/python3.6/site-packages (from tensorboard~=2.5->tensorflow==2.5.0) (2.26.0)\n",
      "Requirement already satisfied: werkzeug>=0.11.15 in /home/ec2-user/anaconda3/envs/python3/lib/python3.6/site-packages (from tensorboard~=2.5->tensorflow==2.5.0) (1.0.1)\n",
      "Requirement already satisfied: tensorboard-plugin-wit>=1.6.0 in /home/ec2-user/anaconda3/envs/python3/lib/python3.6/site-packages (from tensorboard~=2.5->tensorflow==2.5.0) (1.8.0)\n",
      "Requirement already satisfied: markdown>=2.6.8 in /home/ec2-user/anaconda3/envs/python3/lib/python3.6/site-packages (from tensorboard~=2.5->tensorflow==2.5.0) (3.3.4)\n",
      "Requirement already satisfied: google-auth-oauthlib<0.5,>=0.4.1 in /home/ec2-user/anaconda3/envs/python3/lib/python3.6/site-packages (from tensorboard~=2.5->tensorflow==2.5.0) (0.4.6)\n",
      "Requirement already satisfied: cachetools<5.0,>=2.0.0 in /home/ec2-user/anaconda3/envs/python3/lib/python3.6/site-packages (from google-auth<2,>=1.6.3->tensorboard~=2.5->tensorflow==2.5.0) (4.2.4)\n",
      "Requirement already satisfied: rsa<5,>=3.1.4 in /home/ec2-user/anaconda3/envs/python3/lib/python3.6/site-packages (from google-auth<2,>=1.6.3->tensorboard~=2.5->tensorflow==2.5.0) (4.7.2)\n",
      "Requirement already satisfied: pyasn1-modules>=0.2.1 in /home/ec2-user/anaconda3/envs/python3/lib/python3.6/site-packages (from google-auth<2,>=1.6.3->tensorboard~=2.5->tensorflow==2.5.0) (0.2.8)\n",
      "Requirement already satisfied: requests-oauthlib>=0.7.0 in /home/ec2-user/anaconda3/envs/python3/lib/python3.6/site-packages (from google-auth-oauthlib<0.5,>=0.4.1->tensorboard~=2.5->tensorflow==2.5.0) (1.3.0)\n",
      "Requirement already satisfied: importlib-metadata in /home/ec2-user/anaconda3/envs/python3/lib/python3.6/site-packages (from markdown>=2.6.8->tensorboard~=2.5->tensorflow==2.5.0) (3.7.0)\n",
      "Requirement already satisfied: pyasn1<0.5.0,>=0.4.6 in /home/ec2-user/anaconda3/envs/python3/lib/python3.6/site-packages (from pyasn1-modules>=0.2.1->google-auth<2,>=1.6.3->tensorboard~=2.5->tensorflow==2.5.0) (0.4.8)\n",
      "Requirement already satisfied: charset-normalizer~=2.0.0 in /home/ec2-user/anaconda3/envs/python3/lib/python3.6/site-packages (from requests<3,>=2.21.0->tensorboard~=2.5->tensorflow==2.5.0) (2.0.6)\n",
      "Requirement already satisfied: idna<4,>=2.5 in /home/ec2-user/anaconda3/envs/python3/lib/python3.6/site-packages (from requests<3,>=2.21.0->tensorboard~=2.5->tensorflow==2.5.0) (3.1)\n",
      "Requirement already satisfied: urllib3<1.27,>=1.21.1 in /home/ec2-user/anaconda3/envs/python3/lib/python3.6/site-packages (from requests<3,>=2.21.0->tensorboard~=2.5->tensorflow==2.5.0) (1.26.6)\n",
      "Requirement already satisfied: certifi>=2017.4.17 in /home/ec2-user/anaconda3/envs/python3/lib/python3.6/site-packages (from requests<3,>=2.21.0->tensorboard~=2.5->tensorflow==2.5.0) (2021.5.30)\n",
      "Requirement already satisfied: oauthlib>=3.0.0 in /home/ec2-user/anaconda3/envs/python3/lib/python3.6/site-packages (from requests-oauthlib>=0.7.0->google-auth-oauthlib<0.5,>=0.4.1->tensorboard~=2.5->tensorflow==2.5.0) (3.1.1)\n",
      "Requirement already satisfied: zipp>=0.5 in /home/ec2-user/anaconda3/envs/python3/lib/python3.6/site-packages (from importlib-metadata->markdown>=2.6.8->tensorboard~=2.5->tensorflow==2.5.0) (3.4.0)\n"
     ]
    }
   ],
   "source": [
    "!pip install tensorflow==2.5.0"
   ]
  },
  {
   "cell_type": "code",
   "execution_count": 3,
   "id": "57820722",
   "metadata": {},
   "outputs": [
    {
     "name": "stdout",
     "output_type": "stream",
     "text": [
      "Requirement already satisfied: tensorflow-recommenders==0.5.2 in /home/ec2-user/anaconda3/envs/python3/lib/python3.6/site-packages (0.5.2)\n",
      "Requirement already satisfied: tensorflow>=2.3.0 in /home/ec2-user/anaconda3/envs/python3/lib/python3.6/site-packages (from tensorflow-recommenders==0.5.2) (2.5.0)\n",
      "Requirement already satisfied: absl-py>=0.1.6 in /home/ec2-user/anaconda3/envs/python3/lib/python3.6/site-packages (from tensorflow-recommenders==0.5.2) (0.14.1)\n",
      "Requirement already satisfied: six in /home/ec2-user/anaconda3/envs/python3/lib/python3.6/site-packages (from absl-py>=0.1.6->tensorflow-recommenders==0.5.2) (1.15.0)\n",
      "Requirement already satisfied: google-pasta~=0.2 in /home/ec2-user/anaconda3/envs/python3/lib/python3.6/site-packages (from tensorflow>=2.3.0->tensorflow-recommenders==0.5.2) (0.2.0)\n",
      "Requirement already satisfied: flatbuffers~=1.12.0 in /home/ec2-user/anaconda3/envs/python3/lib/python3.6/site-packages (from tensorflow>=2.3.0->tensorflow-recommenders==0.5.2) (1.12)\n",
      "Requirement already satisfied: protobuf>=3.9.2 in /home/ec2-user/anaconda3/envs/python3/lib/python3.6/site-packages (from tensorflow>=2.3.0->tensorflow-recommenders==0.5.2) (3.15.2)\n",
      "Requirement already satisfied: typing-extensions~=3.7.4 in /home/ec2-user/anaconda3/envs/python3/lib/python3.6/site-packages (from tensorflow>=2.3.0->tensorflow-recommenders==0.5.2) (3.7.4.3)\n",
      "Requirement already satisfied: tensorboard~=2.5 in /home/ec2-user/anaconda3/envs/python3/lib/python3.6/site-packages (from tensorflow>=2.3.0->tensorflow-recommenders==0.5.2) (2.6.0)\n",
      "Requirement already satisfied: numpy~=1.19.2 in /home/ec2-user/anaconda3/envs/python3/lib/python3.6/site-packages (from tensorflow>=2.3.0->tensorflow-recommenders==0.5.2) (1.19.5)\n",
      "Requirement already satisfied: h5py~=3.1.0 in /home/ec2-user/anaconda3/envs/python3/lib/python3.6/site-packages (from tensorflow>=2.3.0->tensorflow-recommenders==0.5.2) (3.1.0)\n",
      "Requirement already satisfied: opt-einsum~=3.3.0 in /home/ec2-user/anaconda3/envs/python3/lib/python3.6/site-packages (from tensorflow>=2.3.0->tensorflow-recommenders==0.5.2) (3.3.0)\n",
      "Requirement already satisfied: keras-preprocessing~=1.1.2 in /home/ec2-user/anaconda3/envs/python3/lib/python3.6/site-packages (from tensorflow>=2.3.0->tensorflow-recommenders==0.5.2) (1.1.2)\n",
      "Requirement already satisfied: wrapt~=1.12.1 in /home/ec2-user/anaconda3/envs/python3/lib/python3.6/site-packages (from tensorflow>=2.3.0->tensorflow-recommenders==0.5.2) (1.12.1)\n",
      "Requirement already satisfied: grpcio~=1.34.0 in /home/ec2-user/anaconda3/envs/python3/lib/python3.6/site-packages (from tensorflow>=2.3.0->tensorflow-recommenders==0.5.2) (1.34.1)\n",
      "Requirement already satisfied: wheel~=0.35 in /home/ec2-user/anaconda3/envs/python3/lib/python3.6/site-packages (from tensorflow>=2.3.0->tensorflow-recommenders==0.5.2) (0.36.2)\n",
      "Requirement already satisfied: keras-nightly~=2.5.0.dev in /home/ec2-user/anaconda3/envs/python3/lib/python3.6/site-packages (from tensorflow>=2.3.0->tensorflow-recommenders==0.5.2) (2.5.0.dev2021032900)\n",
      "Requirement already satisfied: tensorflow-estimator<2.6.0,>=2.5.0rc0 in /home/ec2-user/anaconda3/envs/python3/lib/python3.6/site-packages (from tensorflow>=2.3.0->tensorflow-recommenders==0.5.2) (2.5.0)\n",
      "Requirement already satisfied: gast==0.4.0 in /home/ec2-user/anaconda3/envs/python3/lib/python3.6/site-packages (from tensorflow>=2.3.0->tensorflow-recommenders==0.5.2) (0.4.0)\n",
      "Requirement already satisfied: astunparse~=1.6.3 in /home/ec2-user/anaconda3/envs/python3/lib/python3.6/site-packages (from tensorflow>=2.3.0->tensorflow-recommenders==0.5.2) (1.6.3)\n",
      "Requirement already satisfied: termcolor~=1.1.0 in /home/ec2-user/anaconda3/envs/python3/lib/python3.6/site-packages (from tensorflow>=2.3.0->tensorflow-recommenders==0.5.2) (1.1.0)\n",
      "Requirement already satisfied: cached-property in /home/ec2-user/anaconda3/envs/python3/lib/python3.6/site-packages (from h5py~=3.1.0->tensorflow>=2.3.0->tensorflow-recommenders==0.5.2) (1.5.1)\n",
      "Requirement already satisfied: google-auth-oauthlib<0.5,>=0.4.1 in /home/ec2-user/anaconda3/envs/python3/lib/python3.6/site-packages (from tensorboard~=2.5->tensorflow>=2.3.0->tensorflow-recommenders==0.5.2) (0.4.6)\n",
      "Requirement already satisfied: werkzeug>=0.11.15 in /home/ec2-user/anaconda3/envs/python3/lib/python3.6/site-packages (from tensorboard~=2.5->tensorflow>=2.3.0->tensorflow-recommenders==0.5.2) (1.0.1)\n",
      "Requirement already satisfied: tensorboard-plugin-wit>=1.6.0 in /home/ec2-user/anaconda3/envs/python3/lib/python3.6/site-packages (from tensorboard~=2.5->tensorflow>=2.3.0->tensorflow-recommenders==0.5.2) (1.8.0)\n",
      "Requirement already satisfied: markdown>=2.6.8 in /home/ec2-user/anaconda3/envs/python3/lib/python3.6/site-packages (from tensorboard~=2.5->tensorflow>=2.3.0->tensorflow-recommenders==0.5.2) (3.3.4)\n",
      "Requirement already satisfied: requests<3,>=2.21.0 in /home/ec2-user/anaconda3/envs/python3/lib/python3.6/site-packages (from tensorboard~=2.5->tensorflow>=2.3.0->tensorflow-recommenders==0.5.2) (2.26.0)\n",
      "Requirement already satisfied: setuptools>=41.0.0 in /home/ec2-user/anaconda3/envs/python3/lib/python3.6/site-packages (from tensorboard~=2.5->tensorflow>=2.3.0->tensorflow-recommenders==0.5.2) (49.6.0.post20210108)\n",
      "Requirement already satisfied: tensorboard-data-server<0.7.0,>=0.6.0 in /home/ec2-user/anaconda3/envs/python3/lib/python3.6/site-packages (from tensorboard~=2.5->tensorflow>=2.3.0->tensorflow-recommenders==0.5.2) (0.6.1)\n",
      "Requirement already satisfied: google-auth<2,>=1.6.3 in /home/ec2-user/anaconda3/envs/python3/lib/python3.6/site-packages (from tensorboard~=2.5->tensorflow>=2.3.0->tensorflow-recommenders==0.5.2) (1.35.0)\n",
      "Requirement already satisfied: rsa<5,>=3.1.4 in /home/ec2-user/anaconda3/envs/python3/lib/python3.6/site-packages (from google-auth<2,>=1.6.3->tensorboard~=2.5->tensorflow>=2.3.0->tensorflow-recommenders==0.5.2) (4.7.2)\n",
      "Requirement already satisfied: pyasn1-modules>=0.2.1 in /home/ec2-user/anaconda3/envs/python3/lib/python3.6/site-packages (from google-auth<2,>=1.6.3->tensorboard~=2.5->tensorflow>=2.3.0->tensorflow-recommenders==0.5.2) (0.2.8)\n",
      "Requirement already satisfied: cachetools<5.0,>=2.0.0 in /home/ec2-user/anaconda3/envs/python3/lib/python3.6/site-packages (from google-auth<2,>=1.6.3->tensorboard~=2.5->tensorflow>=2.3.0->tensorflow-recommenders==0.5.2) (4.2.4)\n",
      "Requirement already satisfied: requests-oauthlib>=0.7.0 in /home/ec2-user/anaconda3/envs/python3/lib/python3.6/site-packages (from google-auth-oauthlib<0.5,>=0.4.1->tensorboard~=2.5->tensorflow>=2.3.0->tensorflow-recommenders==0.5.2) (1.3.0)\n",
      "Requirement already satisfied: importlib-metadata in /home/ec2-user/anaconda3/envs/python3/lib/python3.6/site-packages (from markdown>=2.6.8->tensorboard~=2.5->tensorflow>=2.3.0->tensorflow-recommenders==0.5.2) (3.7.0)\n",
      "Requirement already satisfied: pyasn1<0.5.0,>=0.4.6 in /home/ec2-user/anaconda3/envs/python3/lib/python3.6/site-packages (from pyasn1-modules>=0.2.1->google-auth<2,>=1.6.3->tensorboard~=2.5->tensorflow>=2.3.0->tensorflow-recommenders==0.5.2) (0.4.8)\n",
      "Requirement already satisfied: charset-normalizer~=2.0.0 in /home/ec2-user/anaconda3/envs/python3/lib/python3.6/site-packages (from requests<3,>=2.21.0->tensorboard~=2.5->tensorflow>=2.3.0->tensorflow-recommenders==0.5.2) (2.0.6)\n",
      "Requirement already satisfied: urllib3<1.27,>=1.21.1 in /home/ec2-user/anaconda3/envs/python3/lib/python3.6/site-packages (from requests<3,>=2.21.0->tensorboard~=2.5->tensorflow>=2.3.0->tensorflow-recommenders==0.5.2) (1.26.6)\n",
      "Requirement already satisfied: certifi>=2017.4.17 in /home/ec2-user/anaconda3/envs/python3/lib/python3.6/site-packages (from requests<3,>=2.21.0->tensorboard~=2.5->tensorflow>=2.3.0->tensorflow-recommenders==0.5.2) (2021.5.30)\n",
      "Requirement already satisfied: idna<4,>=2.5 in /home/ec2-user/anaconda3/envs/python3/lib/python3.6/site-packages (from requests<3,>=2.21.0->tensorboard~=2.5->tensorflow>=2.3.0->tensorflow-recommenders==0.5.2) (3.1)\n",
      "Requirement already satisfied: oauthlib>=3.0.0 in /home/ec2-user/anaconda3/envs/python3/lib/python3.6/site-packages (from requests-oauthlib>=0.7.0->google-auth-oauthlib<0.5,>=0.4.1->tensorboard~=2.5->tensorflow>=2.3.0->tensorflow-recommenders==0.5.2) (3.1.1)\n",
      "Requirement already satisfied: zipp>=0.5 in /home/ec2-user/anaconda3/envs/python3/lib/python3.6/site-packages (from importlib-metadata->markdown>=2.6.8->tensorboard~=2.5->tensorflow>=2.3.0->tensorflow-recommenders==0.5.2) (3.4.0)\n"
     ]
    }
   ],
   "source": [
    "!pip install tensorflow-recommenders==0.5.2"
   ]
  },
  {
   "cell_type": "code",
   "execution_count": 4,
   "id": "18c7cad6",
   "metadata": {},
   "outputs": [],
   "source": [
    "role = get_execution_role()\n",
    "bucket = \"ling-cold-start-data\"\n",
    "prefix = \"2021-10-05\"\n",
    "data_key = \"2021-10-05.csv\"\n",
    "data_location = \"s3://{}/{}/{}\".format(bucket, prefix, data_key)"
   ]
  },
  {
   "cell_type": "code",
   "execution_count": 5,
   "id": "4956f82a",
   "metadata": {},
   "outputs": [],
   "source": [
    "import os\n",
    "import tempfile\n",
    "from typing import Dict, Text\n",
    "import pprint "
   ]
  },
  {
   "cell_type": "code",
   "execution_count": 6,
   "id": "90cefc59",
   "metadata": {},
   "outputs": [],
   "source": [
    "import numpy as np\n",
    "import pandas as pd\n",
    "import tensorflow as tf\n",
    "import tensorflow_recommenders as tfrs"
   ]
  },
  {
   "cell_type": "markdown",
   "id": "e556f554",
   "metadata": {},
   "source": [
    "### Model definition"
   ]
  },
  {
   "cell_type": "code",
   "execution_count": 7,
   "id": "cb47e209",
   "metadata": {},
   "outputs": [],
   "source": [
    "class UserModel(tf.keras.Model) :\n",
    "\n",
    "    def __init__(self, unique_genders, unique_langs, unique_countries, viewer_age, unique_networks, unique_clusters) :\n",
    "        super().__init__()\n",
    "\n",
    "        self.gender_embedding = tf.keras.Sequential([\n",
    "            tf.keras.layers.experimental.preprocessing.StringLookup(\n",
    "                vocabulary=unique_genders, mask_token=None),\n",
    "            tf.keras.layers.Embedding(len(unique_genders) + 1, 4),\n",
    "        ])\n",
    "\n",
    "        self.lang_embedding = tf.keras.Sequential([\n",
    "            tf.keras.layers.experimental.preprocessing.StringLookup(\n",
    "                vocabulary=unique_langs, mask_token=None),\n",
    "            tf.keras.layers.Embedding(len(unique_langs) + 1, 10),\n",
    "        ])\n",
    "\n",
    "        self.country_embedding = tf.keras.Sequential([\n",
    "            tf.keras.layers.experimental.preprocessing.StringLookup(\n",
    "                vocabulary=unique_countries, mask_token=None),\n",
    "            tf.keras.layers.Embedding(len(unique_countries) + 1, 10),\n",
    "        ])\n",
    "\n",
    "        self.network_embedding = tf.keras.Sequential([\n",
    "            tf.keras.layers.experimental.preprocessing.StringLookup(\n",
    "                vocabulary=unique_networks, mask_token=None),\n",
    "            tf.keras.layers.Embedding(len(unique_networks) + 1, 4),\n",
    "        ])\n",
    "\n",
    "        age_boundaries = np.array([18, 25, 30, 35, 40, 45, 50, 55, 60, 65, float(\"inf\")])\n",
    "        self.viewer_age_embedding = tf.keras.Sequential([\n",
    "            tf.keras.layers.experimental.preprocessing.Discretization(age_boundaries.tolist()),\n",
    "            tf.keras.layers.Embedding(len(age_boundaries), 2)\n",
    "        ])\n",
    "        \n",
    "        self.viewer_lat_long_embedding = tf.keras.Sequential([\n",
    "            tf.keras.layers.experimental.preprocessing.StringLookup(\n",
    "                vocabulary=unique_clusters, mask_token=None),\n",
    "            tf.keras.layers.Embedding(len(unique_clusters) + 1, 2),\n",
    "        ])\n",
    "\n",
    "\n",
    "    def call(self, inputs) :\n",
    "        return tf.concat([\n",
    "            self.gender_embedding(inputs[\"viewer_gender\"]),\n",
    "            self.lang_embedding(inputs[\"viewer_lang\"]),\n",
    "            self.country_embedding(inputs[\"viewer_country\"]),\n",
    "            self.network_embedding(inputs[\"viewer_network\"]),\n",
    "            self.viewer_age_embedding(inputs[\"viewer_age\"]),\n",
    "            self.viewer_lat_long_embedding(inputs[\"viewer_lat_long_cluster\"]),\n",
    "        ], axis = 1)"
   ]
  },
  {
   "cell_type": "code",
   "execution_count": 8,
   "id": "b11fedf3",
   "metadata": {},
   "outputs": [],
   "source": [
    "class BroadcasterModel(tf.keras.Model):\n",
    "\n",
    "    def __init__(self, unique_movie_titles, dims):\n",
    "        super().__init__()\n",
    "\n",
    "        self.broadcaster_embedding = tf.keras.Sequential([\n",
    "            tf.keras.layers.experimental.preprocessing.StringLookup(\n",
    "                vocabulary=unique_movie_titles, mask_token=None),\n",
    "            tf.keras.layers.Embedding(len(unique_movie_titles) + 1, dims)\n",
    "        ])\n",
    "\n",
    "    def call(self, broadcaster):\n",
    "        return tf.concat([\n",
    "            self.broadcaster_embedding(broadcaster),\n",
    "        ], axis=1)"
   ]
  },
  {
   "cell_type": "markdown",
   "id": "24deb1c3",
   "metadata": {},
   "source": [
    "### Load data"
   ]
  },
  {
   "cell_type": "code",
   "execution_count": 9,
   "id": "727d3d62",
   "metadata": {},
   "outputs": [],
   "source": [
    "def load_data_file_cold(file, stats):\n",
    "    print('loading file:' + file)\n",
    "    training_df = pd.read_csv(\n",
    "        file,\n",
    "        skiprows=[0],\n",
    "        names=[\"viewer\",\n",
    "               \"broadcaster\",\n",
    "               \"viewer_age\",\n",
    "               \"viewer_gender\",\n",
    "               \"viewer_longitude\",\n",
    "               \"viewer_latitude\",\n",
    "               \"viewer_lang\",\n",
    "               \"viewer_country\",\n",
    "               \"broadcaster_age\",\n",
    "               \"broadcaster_gender\",\n",
    "               \"broadcaster_longitude\",\n",
    "               \"broadcaster_latitude\",\n",
    "               \"broadcaster_lang\",\n",
    "               \"broadcaster_country\",\n",
    "               \"duration\", \n",
    "               \"viewer_network\", \n",
    "               \"broadcaster_network\", \n",
    "               \"viewer_lat_long_cluster\",\n",
    "               \"rank\"], \n",
    "        dtype={\n",
    "            'viewer': np.unicode,\n",
    "            'broadcaster': np.unicode,\n",
    "            'viewer_age': np.single,\n",
    "            'viewer_gender': np.unicode,\n",
    "            'viewer_longitude': np.single,\n",
    "            'viewer_latitude': np.single,\n",
    "            'viewer_lang': np.unicode,\n",
    "            'viewer_country': np.unicode,\n",
    "            'broadcaster_age': np.single,\n",
    "            'broadcaster_longitude': np.single,\n",
    "            'broadcaster_latitude': np.single,\n",
    "            'broadcaster_lang': np.unicode,\n",
    "            'broadcaster_country': np.unicode,\n",
    "            'viewer_network': np.unicode,\n",
    "            'broadcaster_network': np.unicode,\n",
    "            'viewer_lat_long_cluster': np.unicode,\n",
    "            'rank': np.int\n",
    "        })\n",
    "\n",
    "    values = {\n",
    "        'viewer': 'unknown',\n",
    "        'broadcaster': 'unknown',\n",
    "        'viewer_age': 30,\n",
    "        'viewer_gender': 'unknown',\n",
    "        'viewer_longitude': 0,\n",
    "        'viewer_latitude': 0,\n",
    "        'viewer_lang': 'unknown',\n",
    "        'viewer_country': 'unknown',\n",
    "        'broadcaster_age': 30,\n",
    "        'broadcaster_longitude': 0,\n",
    "        'broadcaster_latitude': 0,\n",
    "        'broadcaster_lang': 'unknown',\n",
    "        'broadcaster_country': 'unknown',\n",
    "        'duration': 0,\n",
    "        'viewer_network': 'unknown',\n",
    "        'broadcaster_network': 'unknown',\n",
    "        'viewer_lat_long_cluster': '0',\n",
    "        'rank': 1\n",
    "    }\n",
    "    training_df.fillna(value=values, inplace=True)\n",
    "    print(training_df.head(10))\n",
    "    print(training_df.iloc[-10:])\n",
    "    # stats.send_stats('data-size', len(training_df.index))\n",
    "#     samples = training_df.sample(frac=.1)\n",
    "    return training_df\n",
    "\n",
    "\n",
    "def load_training_data_cold(file, stats):\n",
    "    ratings_df = load_data_file_cold(file, stats)\n",
    "    print('creating data set')\n",
    "    training_ds = (\n",
    "        tf.data.Dataset.from_tensor_slices(\n",
    "            ({\n",
    "                \"viewer\": tf.cast(\n",
    "                    ratings_df['viewer'].values,\n",
    "                    tf.string),\n",
    "                \"viewer_gender\": tf.cast(\n",
    "                    ratings_df['viewer_gender'].values,\n",
    "                    tf.string),\n",
    "                \"viewer_lang\": tf.cast(\n",
    "                    ratings_df['viewer_lang'].values,\n",
    "                    tf.string),\n",
    "                \"viewer_country\": tf.cast(\n",
    "                    ratings_df['viewer_country'].values,\n",
    "                    tf.string),\n",
    "                \"viewer_age\": tf.cast(\n",
    "                    ratings_df['viewer_age'].values,\n",
    "                    tf.int32),\n",
    "                \"viewer_longitude\": tf.cast(\n",
    "                    ratings_df['viewer_longitude'].values,\n",
    "                    tf.float16),\n",
    "                \"viewer_latitude\": tf.cast(\n",
    "                    ratings_df['viewer_latitude'].values,\n",
    "                    tf.float16),\n",
    "                \"broadcaster\": tf.cast(\n",
    "                    ratings_df['broadcaster'].values,\n",
    "                    tf.string),\n",
    "                \"viewer_network\": tf.cast(\n",
    "                    ratings_df['viewer_network'].values,\n",
    "                    tf.string),\n",
    "                \"broadcaster_network\": tf.cast(\n",
    "                    ratings_df['broadcaster_network'].values,\n",
    "                    tf.string),\n",
    "                \"viewer_lat_long_cluster\": tf.cast(\n",
    "                    ratings_df['viewer_lat_long_cluster'].values,\n",
    "                    tf.string),\n",
    "            })))\n",
    "\n",
    "    return training_ds"
   ]
  },
  {
   "cell_type": "code",
   "execution_count": 10,
   "id": "c6f80558",
   "metadata": {},
   "outputs": [],
   "source": [
    "def prepare_training_data_cold(train_ds):\n",
    "    print('prepare_training_data')\n",
    "    training_ds = train_ds.cache().map(lambda x: {\n",
    "        \"broadcaster\": x[\"broadcaster\"],\n",
    "        \"viewer\": x[\"viewer\"],\n",
    "        \"viewer_gender\": x[\"viewer_gender\"],\n",
    "        \"viewer_lang\": x[\"viewer_lang\"],\n",
    "        \"viewer_country\": x[\"viewer_country\"],\n",
    "        \"viewer_age\": x[\"viewer_age\"],\n",
    "        \"viewer_longitude\": x[\"viewer_longitude\"],\n",
    "        \"viewer_latitude\": x[\"viewer_latitude\"],\n",
    "        \"viewer_network\": x[\"viewer_network\"],\n",
    "        \"broadcaster_network\": x[\"broadcaster_network\"],\n",
    "        \"viewer_lat_long_cluster\": x[\"viewer_lat_long_cluster\"],\n",
    "    }, num_parallel_calls=tf.data.AUTOTUNE,\n",
    "       deterministic=False)\n",
    "\n",
    "    print('done prepare_training_data')\n",
    "    return training_ds\n",
    "\n",
    "def get_broadcaster_data_set(train_ds):\n",
    "    broadcasters = train_ds.cache().map(lambda x: x[\"broadcaster\"], num_parallel_calls=tf.data.AUTOTUNE, deterministic=False)\n",
    "    broadcasters_ds = tf.data.Dataset.from_tensor_slices(\n",
    "        np.unique(list(broadcasters.as_numpy_iterator())))\n",
    "    return broadcasters_ds"
   ]
  },
  {
   "cell_type": "code",
   "execution_count": 11,
   "id": "029e0ba0",
   "metadata": {},
   "outputs": [
    {
     "name": "stdout",
     "output_type": "stream",
     "text": [
      "loading file:s3://ling-cold-start-data/2021-10-05/2021-10-05.csv\n",
      "                                            viewer  \\\n",
      "0  37 5e 49 40 70 ff b1 a1 51 e1 f0 d6 77 15 d2 32   \n",
      "1  dd 83 c6 59 b2 3c e3 3c a1 49 47 1c ef 5f 1d 53   \n",
      "2  d5 e3 54 3c be 21 ee 42 c5 db 19 60 3e 9e b7 72   \n",
      "3  dd 83 c6 59 b2 3c e3 3c a1 49 47 1c ef 5f 1d 53   \n",
      "4  08 c7 b8 62 05 d4 b9 80 5b 96 a2 93 0e 48 88 6b   \n",
      "5  dd 83 c6 59 b2 3c e3 3c a1 49 47 1c ef 5f 1d 53   \n",
      "6  37 5e 49 40 70 ff b1 a1 51 e1 f0 d6 77 15 d2 32   \n",
      "7  dd 83 c6 59 b2 3c e3 3c a1 49 47 1c ef 5f 1d 53   \n",
      "8  37 5e 49 40 70 ff b1 a1 51 e1 f0 d6 77 15 d2 32   \n",
      "9  dd 83 c6 59 b2 3c e3 3c a1 49 47 1c ef 5f 1d 53   \n",
      "\n",
      "                                       broadcaster  viewer_age viewer_gender  \\\n",
      "0  34 9a c3 50 0e cf a4 a8 b7 d0 a4 a1 b9 d1 bd f2        43.0        female   \n",
      "1  b6 cb 91 77 b1 7f 4e 70 be 4d bb 5e 88 3f c2 dd        50.0          male   \n",
      "2  7f 8c 21 c9 e4 6f a2 fe 01 fa 97 4f 5b 2a 82 3d        22.0        female   \n",
      "3  73 83 97 f7 28 69 1c 25 4a ca d4 f6 24 9a a6 32        50.0          male   \n",
      "4  21 df 41 b0 62 1c da 73 e4 a7 da 6e 97 f4 6d d4        56.0          male   \n",
      "5  d1 bc 15 78 09 c7 18 67 41 0f b7 8f 3c 56 7e a6        50.0          male   \n",
      "6  61 cf a9 39 0a 71 44 96 f2 82 75 57 ae 1a 67 91        43.0        female   \n",
      "7  b7 8a 75 bd 74 96 a1 3c de 2f a9 76 31 6d 17 f4        50.0          male   \n",
      "8  03 ae 58 c7 be 90 17 a2 21 1e f8 f5 4a 5e ad 8d        43.0        female   \n",
      "9  47 cd 3e cc 1b 58 20 de d8 7d ab 3e f4 ba 15 ae        50.0          male   \n",
      "\n",
      "   viewer_longitude  viewer_latitude viewer_lang viewer_country  \\\n",
      "0        -97.619301          39.8424          en             US   \n",
      "1        -96.619301          39.8424          en             US   \n",
      "2        -97.619301          38.8424          en             US   \n",
      "3        -96.619301          38.8424          en             US   \n",
      "4        -97.619301          38.8424          en             US   \n",
      "5        -96.619301          39.8424          en             US   \n",
      "6        -96.619301          38.8424          en             US   \n",
      "7        -96.619301          39.8424          en             US   \n",
      "8        -97.619301          39.8424          en             US   \n",
      "9        -96.619301          39.8424          en             US   \n",
      "\n",
      "   broadcaster_age broadcaster_gender  broadcaster_longitude  \\\n",
      "0             44.0               male             -94.456299   \n",
      "1             21.0             female             -87.638100   \n",
      "2             30.0               male            -117.112198   \n",
      "3             28.0             female             -86.816498   \n",
      "4             35.0             female             -78.300003   \n",
      "5             33.0             female            -122.724098   \n",
      "6             25.0             female             -80.588997   \n",
      "7             26.0             female             -91.366997   \n",
      "8             29.0               male             -97.076401   \n",
      "9             24.0             female            -105.668503   \n",
      "\n",
      "   broadcaster_latitude broadcaster_lang broadcaster_country  duration  \\\n",
      "0             40.564800               en                  US       206   \n",
      "1             39.712101               en                  US       110   \n",
      "2             33.583801               en                  US      4674   \n",
      "3             42.963699               en                  US       101   \n",
      "4             45.299999               en                  CA       161   \n",
      "5             46.410801               en                  US        65   \n",
      "6             28.830999               en                  US       739   \n",
      "7             39.528999               en                  US        55   \n",
      "8             37.108002               en                  US        68   \n",
      "9             36.238499               en                  US       188   \n",
      "\n",
      "  viewer_network broadcaster_network viewer_lat_long_cluster  rank  \n",
      "0         meetme              meetme                       0     1  \n",
      "1         meetme              meetme                       0     1  \n",
      "2         meetme              meetme                       0     1  \n",
      "3         meetme              meetme                       0     1  \n",
      "4         meetme                 pof                       0     1  \n",
      "5         meetme              meetme                       0     1  \n",
      "6         meetme               skout                       0     1  \n",
      "7         meetme               skout                       0     1  \n",
      "8         meetme              meetme                       0     1  \n",
      "9         meetme              meetme                       0     1  \n",
      "                                                  viewer  \\\n",
      "5207247  8e ce 9f 19 06 cb 13 99 88 30 15 2e 1a ac 79 67   \n",
      "5207248  70 c1 40 ae 90 89 e2 f5 96 60 23 7f 51 b0 e3 84   \n",
      "5207249  cf 1d 68 cc 40 3f 4a c8 10 f9 85 4e d1 01 a0 d0   \n",
      "5207250  40 b4 28 b6 c6 31 b9 fb c7 a6 0e 59 1a 76 46 fc   \n",
      "5207251  88 f9 61 93 86 ef 2e c5 94 3b 07 16 6e cd aa 12   \n",
      "5207252  29 aa 76 80 81 25 e4 9a e8 d5 f2 7e 92 5c fa 4e   \n",
      "5207253  cb d1 c2 10 a9 5e 5d f2 56 b8 a4 af ef 62 38 83   \n",
      "5207254  a3 4b 04 7c 26 77 ec fd 1b 4f c5 e3 29 d1 db 4f   \n",
      "5207255  f7 f1 1a 4f 68 b1 b8 8d 8a e5 33 90 61 04 b6 b7   \n",
      "5207256  ac 65 9a 22 60 e9 a0 fc 6e fe a4 89 7c af 7d f7   \n",
      "\n",
      "                                             broadcaster  viewer_age  \\\n",
      "5207247  2a 11 04 28 7a a1 3f a7 9b a0 6a 9e 1c 7e f3 b7        34.0   \n",
      "5207248  b7 03 e6 d8 de b9 51 b4 49 59 9f 94 63 69 22 d1        50.0   \n",
      "5207249  3b 1e 94 b0 21 84 a1 4c 9e e2 52 a1 61 78 28 82        35.0   \n",
      "5207250  a9 cd 4c a9 f9 ab 0e 53 1d 2b af 52 a3 e8 b5 a5        25.0   \n",
      "5207251  ad a7 e7 02 45 bb 48 c7 85 e3 8d d3 43 c7 74 1e        53.0   \n",
      "5207252  c5 13 62 6f 99 5c 15 d9 17 31 73 2b b3 bf b3 7e        40.0   \n",
      "5207253  ee 6c eb 9a f9 74 e4 1b 1f f7 7c 5c 3c 19 e1 23        25.0   \n",
      "5207254  29 21 61 09 01 74 53 78 59 82 e7 2a 17 dc 8f ec        19.0   \n",
      "5207255  73 e7 d5 d4 4e b7 e0 e7 cb 8e 36 6b a4 2d b8 87        44.0   \n",
      "5207256  e3 58 69 73 98 e2 ab ae 8e 1d 73 4c 7b d7 f5 49        42.0   \n",
      "\n",
      "        viewer_gender  viewer_longitude  viewer_latitude viewer_lang  \\\n",
      "5207247          male        107.782997        -6.365000          in   \n",
      "5207248          male        -70.128998        42.686001          es   \n",
      "5207249          male        -80.153000        32.984001          en   \n",
      "5207250          male        -73.001999        41.674000          en   \n",
      "5207251          male        -75.878998        41.991001          en   \n",
      "5207252          male        -73.958000         4.977000          en   \n",
      "5207253          male        -77.900002        36.200001          en   \n",
      "5207254        female        121.161003        15.545000          en   \n",
      "5207255          male         72.549004        34.903000          en   \n",
      "5207256          male        102.896004        15.936000          th   \n",
      "\n",
      "        viewer_country  broadcaster_age broadcaster_gender  \\\n",
      "5207247             ID             45.0             female   \n",
      "5207248             US             33.0               male   \n",
      "5207249             US             40.0             female   \n",
      "5207250             US             21.0             female   \n",
      "5207251             US             25.0             female   \n",
      "5207252             US             23.0               male   \n",
      "5207253             US             36.0             female   \n",
      "5207254             PH             27.0             female   \n",
      "5207255             US             27.0             female   \n",
      "5207256             TH             27.0             female   \n",
      "\n",
      "         broadcaster_longitude  broadcaster_latitude broadcaster_lang  \\\n",
      "5207247             107.830299             -6.154600               id   \n",
      "5207248             -71.699997             42.799999               en   \n",
      "5207249             -81.285400             32.874401               en   \n",
      "5207250             -72.858002             40.894001               es   \n",
      "5207251             -80.268898             26.721201               en   \n",
      "5207252             -73.343803              4.605800               es   \n",
      "5207253             -78.400002             36.599998               en   \n",
      "5207254             121.029602             15.606900               en   \n",
      "5207255             -73.989098             41.731602               en   \n",
      "5207256             100.720001             13.728000               th   \n",
      "\n",
      "        broadcaster_country  duration viewer_network broadcaster_network  \\\n",
      "5207247                  ID       128          skout              meetme   \n",
      "5207248                  US        64          skout                 pof   \n",
      "5207249                  US       652          skout              meetme   \n",
      "5207250                  US        53          skout               skout   \n",
      "5207251                  US       130          skout              meetme   \n",
      "5207252                  CO        73          skout              meetme   \n",
      "5207253                  US      4301            pof                 pof   \n",
      "5207254                  PH      1934          skout              meetme   \n",
      "5207255                  US       196          skout              meetme   \n",
      "5207256                  TH        75          skout               skout   \n",
      "\n",
      "        viewer_lat_long_cluster  rank  \n",
      "5207247                       6     1  \n",
      "5207248                       0     1  \n",
      "5207249                       0     1  \n",
      "5207250                       0     1  \n",
      "5207251                       0     1  \n",
      "5207252                       5     1  \n",
      "5207253                       0     1  \n",
      "5207254                       6     1  \n",
      "5207255                       1     1  \n",
      "5207256                       6     1  \n",
      "creating data set\n"
     ]
    }
   ],
   "source": [
    "training_dataset = load_training_data_cold(file=data_location, stats=\"\")"
   ]
  },
  {
   "cell_type": "code",
   "execution_count": 12,
   "id": "5d23b2ca",
   "metadata": {},
   "outputs": [
    {
     "name": "stdout",
     "output_type": "stream",
     "text": [
      "prepare_training_data\n",
      "done prepare_training_data\n"
     ]
    }
   ],
   "source": [
    "train = prepare_training_data_cold(training_dataset)"
   ]
  },
  {
   "cell_type": "code",
   "execution_count": 13,
   "id": "d2f641fc",
   "metadata": {},
   "outputs": [],
   "source": [
    "broadcasters_data_set = get_broadcaster_data_set(training_dataset)"
   ]
  },
  {
   "cell_type": "markdown",
   "id": "fae8b47e",
   "metadata": {},
   "source": [
    "### Prepare features"
   ]
  },
  {
   "cell_type": "code",
   "execution_count": 14,
   "id": "61179995",
   "metadata": {},
   "outputs": [],
   "source": [
    "def get_list(training_data, key):\n",
    "    return training_data.batch(1_000_000).map(lambda x: x[key], num_parallel_calls=tf.data.AUTOTUNE, deterministic=False)\n",
    "\n",
    "\n",
    "def get_unique_list(data):\n",
    "    return np.unique(np.concatenate(list(data)))"
   ]
  },
  {
   "cell_type": "code",
   "execution_count": 15,
   "id": "84c86f7a",
   "metadata": {},
   "outputs": [],
   "source": [
    "user_genders = get_list(train, 'viewer_gender')"
   ]
  },
  {
   "cell_type": "code",
   "execution_count": 16,
   "id": "84ffda75",
   "metadata": {},
   "outputs": [],
   "source": [
    "user_langs = get_list(train, 'viewer_lang')"
   ]
  },
  {
   "cell_type": "code",
   "execution_count": 17,
   "id": "2653d001",
   "metadata": {},
   "outputs": [],
   "source": [
    "user_countries = get_list(train, 'viewer_country')"
   ]
  },
  {
   "cell_type": "code",
   "execution_count": 18,
   "id": "c4ad825e",
   "metadata": {},
   "outputs": [],
   "source": [
    "viewer_age = get_list(train, 'viewer_age')"
   ]
  },
  {
   "cell_type": "code",
   "execution_count": 19,
   "id": "12843f61",
   "metadata": {},
   "outputs": [],
   "source": [
    "user_networks = get_list(train, 'viewer_network')"
   ]
  },
  {
   "cell_type": "code",
   "execution_count": 20,
   "id": "5a55bca0",
   "metadata": {},
   "outputs": [],
   "source": [
    "user_clusters = get_list(train, \"viewer_lat_long_cluster\")"
   ]
  },
  {
   "cell_type": "markdown",
   "id": "ceba3457",
   "metadata": {},
   "source": [
    "### derive input dims"
   ]
  },
  {
   "cell_type": "code",
   "execution_count": 21,
   "id": "40bafc0f",
   "metadata": {},
   "outputs": [],
   "source": [
    "unique_user_genders = get_unique_list(user_genders)"
   ]
  },
  {
   "cell_type": "code",
   "execution_count": 22,
   "id": "927821a6",
   "metadata": {},
   "outputs": [
    {
     "data": {
      "text/plain": [
       "2"
      ]
     },
     "execution_count": 22,
     "metadata": {},
     "output_type": "execute_result"
    }
   ],
   "source": [
    "len(unique_user_genders)"
   ]
  },
  {
   "cell_type": "code",
   "execution_count": 23,
   "id": "ac22cea2",
   "metadata": {},
   "outputs": [],
   "source": [
    "unique_user_langs = get_unique_list(user_langs)"
   ]
  },
  {
   "cell_type": "code",
   "execution_count": 24,
   "id": "e13dd998",
   "metadata": {},
   "outputs": [
    {
     "data": {
      "text/plain": [
       "67"
      ]
     },
     "execution_count": 24,
     "metadata": {},
     "output_type": "execute_result"
    }
   ],
   "source": [
    "len(unique_user_langs)"
   ]
  },
  {
   "cell_type": "code",
   "execution_count": 25,
   "id": "d8c81c30",
   "metadata": {},
   "outputs": [],
   "source": [
    "unique_user_countries = get_unique_list(user_countries)"
   ]
  },
  {
   "cell_type": "code",
   "execution_count": 26,
   "id": "651a5419",
   "metadata": {},
   "outputs": [
    {
     "data": {
      "text/plain": [
       "196"
      ]
     },
     "execution_count": 26,
     "metadata": {},
     "output_type": "execute_result"
    }
   ],
   "source": [
    "len(unique_user_countries)"
   ]
  },
  {
   "cell_type": "code",
   "execution_count": 27,
   "id": "da37a6e3",
   "metadata": {},
   "outputs": [],
   "source": [
    "unique_user_networks = get_unique_list(user_networks)"
   ]
  },
  {
   "cell_type": "code",
   "execution_count": 28,
   "id": "06ef3219",
   "metadata": {},
   "outputs": [
    {
     "data": {
      "text/plain": [
       "4"
      ]
     },
     "execution_count": 28,
     "metadata": {},
     "output_type": "execute_result"
    }
   ],
   "source": [
    "len(unique_user_networks)"
   ]
  },
  {
   "cell_type": "code",
   "execution_count": 29,
   "id": "72e491e1",
   "metadata": {},
   "outputs": [],
   "source": [
    "unique_user_clusters = get_unique_list(user_clusters)"
   ]
  },
  {
   "cell_type": "code",
   "execution_count": 30,
   "id": "97a97c68",
   "metadata": {},
   "outputs": [
    {
     "data": {
      "text/plain": [
       "8"
      ]
     },
     "execution_count": 30,
     "metadata": {},
     "output_type": "execute_result"
    }
   ],
   "source": [
    "len(unique_user_clusters)"
   ]
  },
  {
   "cell_type": "markdown",
   "id": "424435cf",
   "metadata": {},
   "source": [
    "### user model"
   ]
  },
  {
   "cell_type": "code",
   "execution_count": 31,
   "id": "9bebb05d",
   "metadata": {},
   "outputs": [],
   "source": [
    "age_boundaries = np.array([18, 25, 30, 35, 40, 45, 50, 55, 60, 65, float(\"inf\")])"
   ]
  },
  {
   "cell_type": "code",
   "execution_count": 32,
   "id": "5f92c251",
   "metadata": {},
   "outputs": [],
   "source": [
    "user_model = UserModel(unique_user_genders, unique_user_langs, unique_user_countries, viewer_age, unique_user_networks, unique_user_clusters)"
   ]
  },
  {
   "cell_type": "markdown",
   "id": "afe6b958",
   "metadata": {},
   "source": [
    "### broadcaster model"
   ]
  },
  {
   "cell_type": "code",
   "execution_count": 33,
   "id": "9c65755f",
   "metadata": {},
   "outputs": [],
   "source": [
    "broadcaster_ids = get_list(train, 'broadcaster')"
   ]
  },
  {
   "cell_type": "code",
   "execution_count": 34,
   "id": "c9c88cc5",
   "metadata": {},
   "outputs": [],
   "source": [
    "unique_broadcasters = get_unique_list(broadcaster_ids)"
   ]
  },
  {
   "cell_type": "code",
   "execution_count": 35,
   "id": "ea08d3bd",
   "metadata": {},
   "outputs": [
    {
     "data": {
      "text/plain": [
       "112919"
      ]
     },
     "execution_count": 35,
     "metadata": {},
     "output_type": "execute_result"
    }
   ],
   "source": [
    "len(unique_broadcasters)"
   ]
  },
  {
   "cell_type": "code",
   "execution_count": 36,
   "id": "5094bc80",
   "metadata": {},
   "outputs": [],
   "source": [
    "broadcaster_embedding_dimension = 32"
   ]
  },
  {
   "cell_type": "code",
   "execution_count": 37,
   "id": "23f87040",
   "metadata": {
    "scrolled": false
   },
   "outputs": [],
   "source": [
    "broadcaster_model = BroadcasterModel(unique_broadcasters, broadcaster_embedding_dimension)"
   ]
  },
  {
   "cell_type": "markdown",
   "id": "f9682630",
   "metadata": {},
   "source": [
    "### two tower model"
   ]
  },
  {
   "cell_type": "code",
   "execution_count": 38,
   "id": "33f897f5",
   "metadata": {},
   "outputs": [],
   "source": [
    "metrics = tfrs.metrics.FactorizedTopK(candidates=broadcasters_data_set.batch(128).map(broadcaster_model))"
   ]
  },
  {
   "cell_type": "code",
   "execution_count": 39,
   "id": "20c8357b",
   "metadata": {},
   "outputs": [],
   "source": [
    "task = tfrs.tasks.Retrieval(\n",
    "    metrics=metrics\n",
    ")"
   ]
  },
  {
   "cell_type": "code",
   "execution_count": 46,
   "id": "2cd59c0b",
   "metadata": {},
   "outputs": [],
   "source": [
    "class TwoTowers(tf.keras.Model):\n",
    "\n",
    "    def __init__(self, broadcaster_model, user_model, task):\n",
    "        super().__init__()\n",
    "        self.broadcaster_model: tf.keras.Model = broadcaster_model\n",
    "        self.embedding_model = user_model\n",
    "        self.task: tf.keras.layers.Layer = task\n",
    "\n",
    "    def train_step(self, features: Dict[Text, tf.Tensor]) -> tf.Tensor:\n",
    "\n",
    "        # Set up a gradient tape to record gradients.\n",
    "        with tf.GradientTape() as tape:\n",
    "\n",
    "            # Loss computation.\n",
    "\n",
    "            user_embeddings = self.embedding_model({\n",
    "                \"viewer_gender\": features[\"viewer_gender\"],\n",
    "                \"viewer_lang\": features[\"viewer_lang\"],\n",
    "                \"viewer_country\": features[\"viewer_country\"],\n",
    "                \"viewer_age\": features[\"viewer_age\"],\n",
    "                \"viewer_network\": features[\"viewer_network\"],\n",
    "                \"viewer_latitude\": features[\"viewer_latitude\"],\n",
    "                \"viewer_longitude\": features[\"viewer_longitude\"],\n",
    "                \"viewer_lat_long_cluster\": features[\"viewer_lat_long_cluster\"],\n",
    "            })\n",
    "            positive_broadcaster_embeddings = self.broadcaster_model(\n",
    "                features[\"broadcaster\"])\n",
    "            loss = self.task(user_embeddings, positive_broadcaster_embeddings)\n",
    "\n",
    "            # Handle regularization losses as well.\n",
    "            regularization_loss = sum(self.losses)\n",
    "\n",
    "            total_loss = loss + regularization_loss\n",
    "\n",
    "        gradients = tape.gradient(total_loss, self.trainable_variables)\n",
    "        self.optimizer.apply_gradients(\n",
    "            zip(gradients, self.trainable_variables))\n",
    "\n",
    "        metrics = {metric.name: metric.result() for metric in self.metrics}\n",
    "        metrics[\"loss\"] = loss\n",
    "        metrics[\"regularization_loss\"] = regularization_loss\n",
    "        metrics[\"total_loss\"] = total_loss\n",
    "\n",
    "        return metrics\n",
    "\n",
    "    def test_step(self, features: Dict[Text, tf.Tensor]) -> tf.Tensor:\n",
    "\n",
    "        # Loss computation.\n",
    "\n",
    "        user_embeddings = self.embedding_model({\n",
    "                \"viewer_gender\": features[\"viewer_gender\"],\n",
    "                \"viewer_lang\": features[\"viewer_lang\"],\n",
    "                \"viewer_country\": features[\"viewer_country\"],\n",
    "                \"viewer_age\": features[\"viewer_age\"],\n",
    "                \"viewer_network\": features[\"viewer_network\"],\n",
    "                \"viewer_latitude\": features[\"viewer_latitude\"],\n",
    "                \"viewer_longitude\": features[\"viewer_longitude\"],\n",
    "                \"viewer_lat_long_cluster\": features[\"viewer_lat_long_cluster\"],\n",
    "        })\n",
    "        positive_broadcaster_embeddings = self.broadcaster_model(\n",
    "            features[\"broadcaster\"])\n",
    "        loss = self.task(user_embeddings, positive_broadcaster_embeddings)\n",
    "\n",
    "        # Handle regularization losses as well.\n",
    "        regularization_loss = sum(self.losses)\n",
    "\n",
    "        total_loss = loss + regularization_loss\n",
    "\n",
    "        metrics = {metric.name: metric.result() for metric in self.metrics}\n",
    "        metrics[\"loss\"] = loss\n",
    "        metrics[\"regularization_loss\"] = regularization_loss\n",
    "        metrics[\"total_loss\"] = total_loss\n",
    "        return metrics"
   ]
  },
  {
   "cell_type": "code",
   "execution_count": 47,
   "id": "c27348eb",
   "metadata": {},
   "outputs": [],
   "source": [
    "model = TwoTowers(broadcaster_model, user_model, task)"
   ]
  },
  {
   "cell_type": "code",
   "execution_count": 48,
   "id": "346fb7ed",
   "metadata": {},
   "outputs": [],
   "source": [
    "learning_rate = 0.05\n",
    "batch_size = 16384\n",
    "# batch_size = 250\n",
    "epochs = 2\n",
    "top_k = 1999"
   ]
  },
  {
   "cell_type": "code",
   "execution_count": 49,
   "id": "b8ec52e0",
   "metadata": {},
   "outputs": [],
   "source": [
    "model.compile(optimizer=tf.keras.optimizers.Adagrad(learning_rate=learning_rate))"
   ]
  },
  {
   "cell_type": "code",
   "execution_count": 50,
   "id": "8caf2b7b",
   "metadata": {},
   "outputs": [],
   "source": [
    "train_ds = train.batch(batch_size).cache()\n",
    "# train_ds = train_ds.prefetch(tf.data.experimental.AUTOTUNE)"
   ]
  },
  {
   "cell_type": "code",
   "execution_count": null,
   "id": "d6f42875",
   "metadata": {
    "scrolled": false
   },
   "outputs": [
    {
     "name": "stdout",
     "output_type": "stream",
     "text": [
      "WARNING:tensorflow:Using a while_loop for converting BoostedTreesBucketize\n",
      "WARNING:tensorflow:Using a while_loop for converting BoostedTreesBucketize\n",
      "318/318 [==============================] - 23778s 75s/step - factorized_top_k/top_1_categorical_accuracy: 0.0013 - factorized_top_k/top_5_categorical_accuracy: 0.0062 - factorized_top_k/top_10_categorical_accuracy: 0.0111 - factorized_top_k/top_50_categorical_accuracy: 0.0391 - factorized_top_k/top_100_categorical_accuracy: 0.0650 - loss: 146237.2119 - regularization_loss: 0.0000e+00 - total_loss: 146237.2119\n"
     ]
    },
    {
     "data": {
      "text/plain": [
       "<tensorflow.python.keras.callbacks.History at 0x7fee3ac57c18>"
      ]
     },
     "execution_count": 51,
     "metadata": {},
     "output_type": "execute_result"
    }
   ],
   "source": [
    "model.fit(train_ds, epochs=1)"
   ]
  },
  {
   "cell_type": "code",
   "execution_count": null,
   "id": "523b7708",
   "metadata": {},
   "outputs": [
    {
     "data": {
      "text/plain": [
       "'s3://ling-cold-start-data/2021-10-05/2021-10-05.csv'"
      ]
     },
     "execution_count": 52,
     "metadata": {},
     "output_type": "execute_result"
    }
   ],
   "source": [
    "data_location"
   ]
  },
  {
   "cell_type": "code",
   "execution_count": null,
   "id": "d32e4632",
   "metadata": {},
   "outputs": [],
   "source": [
    "from datetime import date"
   ]
  },
  {
   "cell_type": "code",
   "execution_count": null,
   "id": "2b5e22b4",
   "metadata": {},
   "outputs": [],
   "source": [
    "model_location = \"s3://{}/{}/{}\".format(bucket, prefix, date.today())"
   ]
  },
  {
   "cell_type": "code",
   "execution_count": null,
   "id": "5c186be1",
   "metadata": {},
   "outputs": [
    {
     "data": {
      "text/plain": [
       "'s3://ling-cold-start-data/2021-10-05/2021-10-06'"
      ]
     },
     "execution_count": 55,
     "metadata": {},
     "output_type": "execute_result"
    }
   ],
   "source": [
    "model_location"
   ]
  },
  {
   "cell_type": "code",
   "execution_count": 57,
   "id": "aeb0de2e",
   "metadata": {},
   "outputs": [
    {
     "name": "stdout",
     "output_type": "stream",
     "text": [
      "create index\n",
      "Recommendations for user lam: [[b'61 4d 78 09 b1 0a 4a 3d d1 06 f0 6b 70 ed 19 7a'\n",
      "  b'e1 24 ec d4 81 50 19 b8 2f 37 e0 80 03 f9 4d d7'\n",
      "  b'88 86 0f fb 4e ca 72 e3 ba c9 fe 88 a1 f2 d0 ed' ...\n",
      "  b'35 b3 eb d4 84 c0 fd af 1f 3b 5b b7 40 1a 67 fc'\n",
      "  b'bc e1 bf 5e 26 f3 1a 6f 6b 71 89 c2 a6 ec 89 9b'\n",
      "  b'da 29 12 06 6f 8b 8a c4 ee 4b 75 76 40 11 18 34']]\n",
      "Recommendations for user cal: [[b'e2 09 08 09 a0 12 dc b2 b7 d6 66 6d 69 1c 85 b1'\n",
      "  b'99 5a e2 9e 4b 46 78 87 b8 50 90 f1 e6 4f 0d aa'\n",
      "  b'58 24 9e 18 c8 d1 eb c2 3d f4 2b e7 43 81 a8 ec' ...\n",
      "  b'5c 54 ce ef fa f0 eb 89 cc 74 39 33 37 aa 03 1b'\n",
      "  b'9c 86 e8 b3 15 de 6e 3c cf aa e7 cc 1d 1a 01 d5'\n",
      "  b'ac 4c 75 13 90 1e 21 d3 3a 8e c2 78 f0 85 43 ca']]\n",
      "Recommendations for user 32: [[b'a7 2a a0 61 8f 9e 26 e5 7b 10 50 17 20 52 b9 7f'\n",
      "  b'c8 29 47 f8 24 f1 10 72 d1 78 70 94 7e 80 9f 94'\n",
      "  b'5f 77 25 ea a2 50 7a 5a 20 6c 10 44 78 56 fc 1d' ...\n",
      "  b'eb 4d 38 53 88 17 0e 7c 35 12 76 d8 d4 4d 15 b0'\n",
      "  b'be f8 93 1f ae 7d d4 69 7c 85 a0 6d 7d 7a 34 45'\n",
      "  b'19 2f 6f 57 13 de 04 81 d8 34 3d 49 74 cb 97 3e']]\n",
      "WARNING:tensorflow:Using a while_loop for converting BoostedTreesBucketize\n",
      "WARNING:tensorflow:Using a while_loop for converting BoostedTreesBucketize\n",
      "WARNING:tensorflow:Using a while_loop for converting BoostedTreesBucketize\n",
      "WARNING:tensorflow:Using a while_loop for converting BoostedTreesBucketize\n",
      "WARNING:tensorflow:Using a while_loop for converting BoostedTreesBucketize\n",
      "WARNING:tensorflow:Using a while_loop for converting BoostedTreesBucketize\n",
      "WARNING:tensorflow:Using a while_loop for converting BoostedTreesBucketize\n",
      "WARNING:tensorflow:Using a while_loop for converting BoostedTreesBucketize\n",
      "WARNING:tensorflow:Using a while_loop for converting BoostedTreesBucketize\n",
      "WARNING:tensorflow:Using a while_loop for converting BoostedTreesBucketize\n",
      "WARNING:tensorflow:Using a while_loop for converting BoostedTreesBucketize\n",
      "WARNING:tensorflow:Using a while_loop for converting BoostedTreesBucketize\n",
      "WARNING:tensorflow:Using a while_loop for converting BoostedTreesBucketize\n"
     ]
    },
    {
     "name": "stderr",
     "output_type": "stream",
     "text": [
      "WARNING:absl:Found untraced functions such as query_with_exclusions while saving (showing 1 of 1). These functions will not be directly callable after loading.\n"
     ]
    },
    {
     "name": "stdout",
     "output_type": "stream",
     "text": [
      "INFO:tensorflow:Assets written to: s3://ling-cold-start-data/2021-10-05/2021-10-06/assets\n"
     ]
    },
    {
     "name": "stderr",
     "output_type": "stream",
     "text": [
      "INFO:tensorflow:Assets written to: s3://ling-cold-start-data/2021-10-05/2021-10-06/assets\n"
     ]
    }
   ],
   "source": [
    "print(\"create index\")\n",
    "index = tfrs.layers.factorized_top_k.BruteForce(\n",
    "    query_model=user_model,\n",
    "    k=top_k,\n",
    ")\n",
    "\n",
    "index.index(\n",
    "    broadcasters_data_set.batch(10000).map(\n",
    "        model.broadcaster_model),\n",
    "    broadcasters_data_set)\n",
    "\n",
    "_, titles = index(\n",
    "    {\n",
    "        \"viewer_gender\": tf.constant([\"male\"]),\n",
    "        \"viewer_lang\": tf.constant([\"en\"]),\n",
    "        \"viewer_country\": tf.constant([\"US\"]),\n",
    "        \"viewer_age\": tf.constant([38]),\n",
    "        \"viewer_longitude\": tf.constant([-74.89611]),\n",
    "        \"viewer_latitude\": tf.constant([40.36393]),\n",
    "        \"viewer_network\": tf.constant([\"meetme\"]),\n",
    "        \"viewer_lat_long_cluster\": tf.constant([\"7\"]),\n",
    "    }\n",
    ")\n",
    "\n",
    "print(f\"Recommendations for user lam: {titles}\")\n",
    "\n",
    "_, titles = index(\n",
    "    {\n",
    "        \"viewer_gender\": tf.constant([\"male\"]),\n",
    "        \"viewer_lang\": tf.constant([\"en\"]),\n",
    "        \"viewer_country\": tf.constant([\"US\"]),\n",
    "        \"viewer_age\": tf.constant([28]),\n",
    "        \"viewer_longitude\": tf.constant([-118.41625]),\n",
    "        \"viewer_latitude\": tf.constant([34.10313]),\n",
    "        \"viewer_network\": tf.constant([\"pof\"]),\n",
    "        \"viewer_lat_long_cluster\": tf.constant([\"5\"]),\n",
    "    }\n",
    ")\n",
    "\n",
    "print(f\"Recommendations for user cal: {titles}\")\n",
    "\n",
    "_, titles = index(\n",
    "    {\n",
    "        \"viewer_gender\": tf.constant([\"female\"]),\n",
    "        \"viewer_lang\": tf.constant([\"en\"]),\n",
    "        \"viewer_country\": tf.constant([\"US\"]),\n",
    "        \"viewer_age\": tf.constant([32]),\n",
    "        \"viewer_longitude\": tf.constant([-74.89611]),\n",
    "        \"viewer_latitude\": tf.constant([40.36393]),\n",
    "        \"viewer_network\": tf.constant([\"skout\"]),\n",
    "        \"viewer_lat_long_cluster\": tf.constant([\"7\"]),\n",
    "    }\n",
    ")\n",
    "\n",
    "print(f\"Recommendations for user 32: {titles}\")\n",
    "\n",
    "index.save(model_location)\n"
   ]
  },
  {
   "cell_type": "code",
   "execution_count": null,
   "id": "7bac2514",
   "metadata": {},
   "outputs": [],
   "source": []
  }
 ],
 "metadata": {
  "kernelspec": {
   "display_name": "Python 3 (ipykernel)",
   "language": "python",
   "name": "python3"
  },
  "language_info": {
   "codemirror_mode": {
    "name": "ipython",
    "version": 3
   },
   "file_extension": ".py",
   "mimetype": "text/x-python",
   "name": "python",
   "nbconvert_exporter": "python",
   "pygments_lexer": "ipython3",
   "version": "3.7.7"
  }
 },
 "nbformat": 4,
 "nbformat_minor": 5
}
