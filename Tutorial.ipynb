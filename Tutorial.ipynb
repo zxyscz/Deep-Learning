{
  "nbformat": 4,
  "nbformat_minor": 0,
  "metadata": {
    "colab": {
      "name": "Tutorial.ipynb",
      "provenance": [],
      "collapsed_sections": [],
      "mount_file_id": "1I-ST94-rHnVN0A3bQSaotSZzM6jfRfnC",
      "authorship_tag": "ABX9TyPbxnkpbtoHjcXsGTaqmQAk",
      "include_colab_link": true
    },
    "kernelspec": {
      "name": "python3",
      "display_name": "Python 3"
    }
  },
  "cells": [
    {
      "cell_type": "markdown",
      "metadata": {
        "id": "view-in-github",
        "colab_type": "text"
      },
      "source": [
        "<a href=\"https://colab.research.google.com/github/linghduoduo/Deep-Learning/blob/master/Tutorial.ipynb\" target=\"_parent\"><img src=\"https://colab.research.google.com/assets/colab-badge.svg\" alt=\"Open In Colab\"/></a>"
      ]
    },
    {
      "cell_type": "code",
      "metadata": {
        "id": "OXsXPu5aWpHL",
        "outputId": "9abbd0a8-4ff8-471d-a77c-ecae879164f1",
        "colab": {
          "base_uri": "https://localhost:8080/",
          "height": 34
        }
      },
      "source": [
        "!ls"
      ],
      "execution_count": 2,
      "outputs": [
        {
          "output_type": "stream",
          "text": [
            "sample_data\n"
          ],
          "name": "stdout"
        }
      ]
    },
    {
      "cell_type": "code",
      "metadata": {
        "id": "LDaIc1l5Ws_4",
        "outputId": "5f339ae0-0f82-4945-add4-2e7022ccc48d",
        "colab": {
          "base_uri": "https://localhost:8080/",
          "height": 34
        }
      },
      "source": [
        "import cv2\n",
        "# import Google Drive 套件\n",
        "from google.colab import drive\n",
        "# 將自己的雲端硬碟掛載上去\n",
        "drive.mount('/content/gdrive')\n",
        "# 透過 gdrive/My Drive/... 來存取檔案\n",
        "img = cv2.imread('gdrive/My Drive/Duo/duo_1.jpg')"
      ],
      "execution_count": 4,
      "outputs": [
        {
          "output_type": "stream",
          "text": [
            "Mounted at /content/gdrive\n"
          ],
          "name": "stdout"
        }
      ]
    },
    {
      "cell_type": "code",
      "metadata": {
        "id": "57vnYZRTXunB",
        "outputId": "fe14eef2-25f3-4ed9-e133-ee4c17d36426",
        "colab": {
          "base_uri": "https://localhost:8080/",
          "height": 102
        }
      },
      "source": [
        "!gdown --id '1duQU7xqXRsOSPYeOR0zLiSA8g_LCFzoV' --output Minori.jpg\n",
        "# 列出目前目錄下所有的檔案\n",
        "!ls"
      ],
      "execution_count": 5,
      "outputs": [
        {
          "output_type": "stream",
          "text": [
            "Downloading...\n",
            "From: https://drive.google.com/uc?id=1duQU7xqXRsOSPYeOR0zLiSA8g_LCFzoV\n",
            "To: /content/Minori.jpg\n",
            "\r  0% 0.00/219k [00:00<?, ?B/s]\r100% 219k/219k [00:00<00:00, 33.3MB/s]\n",
            "drive  gdrive  Minori.jpg  sample_data\n"
          ],
          "name": "stdout"
        }
      ]
    },
    {
      "cell_type": "code",
      "metadata": {
        "id": "WHbQvaNsYuDD"
      },
      "source": [
        ""
      ],
      "execution_count": null,
      "outputs": []
    }
  ]
}