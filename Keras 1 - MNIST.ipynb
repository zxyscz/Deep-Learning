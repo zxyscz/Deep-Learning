{
 "cells": [
  {
   "cell_type": "markdown",
   "metadata": {},
   "source": [
    "## Feed Forward Network ( 1-Layer)"
   ]
  },
  {
   "cell_type": "code",
   "execution_count": 1,
   "metadata": {},
   "outputs": [
    {
     "name": "stderr",
     "output_type": "stream",
     "text": [
      "Using TensorFlow backend.\n"
     ]
    }
   ],
   "source": [
    "from __future__ import print_function\n",
    "import numpy as np\n",
    "from keras.datasets import mnist\n",
    "from keras.models import Sequential\n",
    "from keras.layers.core import Dense, Activation\n",
    "from keras.optimizers import SGD\n",
    "from keras.utils import np_utils"
   ]
  },
  {
   "cell_type": "code",
   "execution_count": 2,
   "metadata": {
    "collapsed": true
   },
   "outputs": [],
   "source": [
    "np.random.seed(1671)  # for reproducibility"
   ]
  },
  {
   "cell_type": "code",
   "execution_count": 3,
   "metadata": {
    "collapsed": true
   },
   "outputs": [],
   "source": [
    "NB_EPOCH = 200\n",
    "BATCH_SIZE = 128\n",
    "VERBOSE = 1\n",
    "NB_CLASSES = 10   # number of outputs = number of digits\n",
    "OPTIMIZER = SGD() # SGD optimizer, explained later in this chapter\n",
    "N_HIDDEN = 128\n",
    "VALIDATION_SPLIT=0.2 # how much TRAIN is reserved for VALIDATION"
   ]
  },
  {
   "cell_type": "code",
   "execution_count": 4,
   "metadata": {
    "collapsed": true
   },
   "outputs": [],
   "source": [
    "# data: shuffled and split between train and test sets\n",
    "#\n",
    "(X_train, y_train), (X_test, y_test) = mnist.load_data()"
   ]
  },
  {
   "cell_type": "code",
   "execution_count": 5,
   "metadata": {
    "collapsed": true
   },
   "outputs": [],
   "source": [
    "#X_train is 60000 rows of 28x28 values --> reshaped in 60000 x 784\n",
    "RESHAPED = 784\n",
    "#\n",
    "X_train = X_train.reshape(60000, RESHAPED)\n",
    "X_test = X_test.reshape(10000, RESHAPED)\n",
    "X_train = X_train.astype('float32')\n",
    "X_test = X_test.astype('float32')"
   ]
  },
  {
   "cell_type": "code",
   "execution_count": 6,
   "metadata": {},
   "outputs": [
    {
     "name": "stdout",
     "output_type": "stream",
     "text": [
      "60000 train samples\n",
      "10000 test samples\n"
     ]
    }
   ],
   "source": [
    "# normalize \n",
    "#\n",
    "X_train /= 255\n",
    "X_test /= 255\n",
    "print(X_train.shape[0], 'train samples')\n",
    "print(X_test.shape[0], 'test samples')"
   ]
  },
  {
   "cell_type": "code",
   "execution_count": 11,
   "metadata": {
    "collapsed": true
   },
   "outputs": [],
   "source": [
    "# convert class vectors to binary class matrices\n",
    "Y_train = np_utils.to_categorical(y_train, NB_CLASSES)\n",
    "Y_test = np_utils.to_categorical(y_test, NB_CLASSES)"
   ]
  },
  {
   "cell_type": "code",
   "execution_count": 7,
   "metadata": {
    "collapsed": true
   },
   "outputs": [],
   "source": [
    "# 10 outputs\n",
    "# final stage is softmax\n",
    "\n",
    "model = Sequential()\n",
    "model.add(Dense(NB_CLASSES, input_shape=(RESHAPED,)))\n",
    "model.add(Activation('softmax'))"
   ]
  },
  {
   "cell_type": "code",
   "execution_count": 8,
   "metadata": {},
   "outputs": [
    {
     "name": "stdout",
     "output_type": "stream",
     "text": [
      "_________________________________________________________________\n",
      "Layer (type)                 Output Shape              Param #   \n",
      "=================================================================\n",
      "dense_1 (Dense)              (None, 10)                7850      \n",
      "_________________________________________________________________\n",
      "activation_1 (Activation)    (None, 10)                0         \n",
      "=================================================================\n",
      "Total params: 7,850\n",
      "Trainable params: 7,850\n",
      "Non-trainable params: 0\n",
      "_________________________________________________________________\n"
     ]
    }
   ],
   "source": [
    "model.summary()"
   ]
  },
  {
   "cell_type": "code",
   "execution_count": 9,
   "metadata": {
    "collapsed": true
   },
   "outputs": [],
   "source": [
    "model.compile(loss='categorical_crossentropy',\n",
    "              optimizer=OPTIMIZER,\n",
    "              metrics=['accuracy'])"
   ]
  },
  {
   "cell_type": "code",
   "execution_count": 12,
   "metadata": {},
   "outputs": [
    {
     "name": "stdout",
     "output_type": "stream",
     "text": [
      "Train on 48000 samples, validate on 12000 samples\n",
      "Epoch 1/200\n",
      "48000/48000 [==============================] - 1s - loss: 1.3633 - acc: 0.6796 - val_loss: 0.8904 - val_acc: 0.8246\n",
      "Epoch 2/200\n",
      "48000/48000 [==============================] - 0s - loss: 0.7913 - acc: 0.8272 - val_loss: 0.6572 - val_acc: 0.8546\n",
      "Epoch 3/200\n",
      "48000/48000 [==============================] - 0s - loss: 0.6436 - acc: 0.8497 - val_loss: 0.5625 - val_acc: 0.8681\n",
      "Epoch 4/200\n",
      "48000/48000 [==============================] - 0s - loss: 0.5717 - acc: 0.8602 - val_loss: 0.5098 - val_acc: 0.8765\n",
      "Epoch 5/200\n",
      "48000/48000 [==============================] - 0s - loss: 0.5276 - acc: 0.8678 - val_loss: 0.4758 - val_acc: 0.8826\n",
      "Epoch 6/200\n",
      "48000/48000 [==============================] - 0s - loss: 0.4973 - acc: 0.8726 - val_loss: 0.4515 - val_acc: 0.8866\n",
      "Epoch 7/200\n",
      "48000/48000 [==============================] - 1s - loss: 0.4748 - acc: 0.8775 - val_loss: 0.4333 - val_acc: 0.8882\n",
      "Epoch 8/200\n",
      "48000/48000 [==============================] - 0s - loss: 0.4574 - acc: 0.8803 - val_loss: 0.4189 - val_acc: 0.8920\n",
      "Epoch 9/200\n",
      "48000/48000 [==============================] - 0s - loss: 0.4433 - acc: 0.8834 - val_loss: 0.4075 - val_acc: 0.8939\n",
      "Epoch 10/200\n",
      "48000/48000 [==============================] - 0s - loss: 0.4317 - acc: 0.8850 - val_loss: 0.3977 - val_acc: 0.8966\n",
      "Epoch 11/200\n",
      "48000/48000 [==============================] - 1s - loss: 0.4218 - acc: 0.8873 - val_loss: 0.3896 - val_acc: 0.8984\n",
      "Epoch 12/200\n",
      "48000/48000 [==============================] - 0s - loss: 0.4134 - acc: 0.8888 - val_loss: 0.3827 - val_acc: 0.8995\n",
      "Epoch 13/200\n",
      "48000/48000 [==============================] - 0s - loss: 0.4060 - acc: 0.8902 - val_loss: 0.3766 - val_acc: 0.9003\n",
      "Epoch 14/200\n",
      "48000/48000 [==============================] - 0s - loss: 0.3995 - acc: 0.8918 - val_loss: 0.3712 - val_acc: 0.9013\n",
      "Epoch 15/200\n",
      "48000/48000 [==============================] - 0s - loss: 0.3936 - acc: 0.8928 - val_loss: 0.3664 - val_acc: 0.9016\n",
      "Epoch 16/200\n",
      "48000/48000 [==============================] - 0s - loss: 0.3884 - acc: 0.8945 - val_loss: 0.3621 - val_acc: 0.9031\n",
      "Epoch 17/200\n",
      "48000/48000 [==============================] - 1s - loss: 0.3837 - acc: 0.8950 - val_loss: 0.3582 - val_acc: 0.9033\n",
      "Epoch 18/200\n",
      "48000/48000 [==============================] - 1s - loss: 0.3794 - acc: 0.8962 - val_loss: 0.3546 - val_acc: 0.9039\n",
      "Epoch 19/200\n",
      "48000/48000 [==============================] - 0s - loss: 0.3755 - acc: 0.8970 - val_loss: 0.3514 - val_acc: 0.9048\n",
      "Epoch 20/200\n",
      "48000/48000 [==============================] - 1s - loss: 0.3718 - acc: 0.8979 - val_loss: 0.3485 - val_acc: 0.9053\n",
      "Epoch 21/200\n",
      "48000/48000 [==============================] - 1s - loss: 0.3685 - acc: 0.8985 - val_loss: 0.3457 - val_acc: 0.9058\n",
      "Epoch 22/200\n",
      "48000/48000 [==============================] - 0s - loss: 0.3653 - acc: 0.8995 - val_loss: 0.3431 - val_acc: 0.9058\n",
      "Epoch 23/200\n",
      "48000/48000 [==============================] - 1s - loss: 0.3625 - acc: 0.8999 - val_loss: 0.3407 - val_acc: 0.9063\n",
      "Epoch 24/200\n",
      "48000/48000 [==============================] - 1s - loss: 0.3598 - acc: 0.9008 - val_loss: 0.3385 - val_acc: 0.9070\n",
      "Epoch 25/200\n",
      "48000/48000 [==============================] - 1s - loss: 0.3572 - acc: 0.9012 - val_loss: 0.3364 - val_acc: 0.9074\n",
      "Epoch 26/200\n",
      "48000/48000 [==============================] - 1s - loss: 0.3548 - acc: 0.9019 - val_loss: 0.3345 - val_acc: 0.9084\n",
      "Epoch 27/200\n",
      "48000/48000 [==============================] - 0s - loss: 0.3525 - acc: 0.9022 - val_loss: 0.3326 - val_acc: 0.9082\n",
      "Epoch 28/200\n",
      "48000/48000 [==============================] - 0s - loss: 0.3504 - acc: 0.9032 - val_loss: 0.3311 - val_acc: 0.9090\n",
      "Epoch 29/200\n",
      "48000/48000 [==============================] - 0s - loss: 0.3484 - acc: 0.9031 - val_loss: 0.3293 - val_acc: 0.9094\n",
      "Epoch 30/200\n",
      "48000/48000 [==============================] - 1s - loss: 0.3465 - acc: 0.9041 - val_loss: 0.3277 - val_acc: 0.9097\n",
      "Epoch 31/200\n",
      "48000/48000 [==============================] - 0s - loss: 0.3447 - acc: 0.9044 - val_loss: 0.3264 - val_acc: 0.9097\n",
      "Epoch 32/200\n",
      "48000/48000 [==============================] - 0s - loss: 0.3430 - acc: 0.9047 - val_loss: 0.3249 - val_acc: 0.9097\n",
      "Epoch 33/200\n",
      "48000/48000 [==============================] - 1s - loss: 0.3413 - acc: 0.9051 - val_loss: 0.3235 - val_acc: 0.9103\n",
      "Epoch 34/200\n",
      "48000/48000 [==============================] - 1s - loss: 0.3397 - acc: 0.9056 - val_loss: 0.3222 - val_acc: 0.9104\n",
      "Epoch 35/200\n",
      "48000/48000 [==============================] - 0s - loss: 0.3382 - acc: 0.9058 - val_loss: 0.3211 - val_acc: 0.9110\n",
      "Epoch 36/200\n",
      "48000/48000 [==============================] - 0s - loss: 0.3368 - acc: 0.9062 - val_loss: 0.3198 - val_acc: 0.9110\n",
      "Epoch 37/200\n",
      "48000/48000 [==============================] - 0s - loss: 0.3353 - acc: 0.9069 - val_loss: 0.3187 - val_acc: 0.9117\n",
      "Epoch 38/200\n",
      "48000/48000 [==============================] - 0s - loss: 0.3340 - acc: 0.9075 - val_loss: 0.3177 - val_acc: 0.9120\n",
      "Epoch 39/200\n",
      "48000/48000 [==============================] - 1s - loss: 0.3327 - acc: 0.9075 - val_loss: 0.3166 - val_acc: 0.9122\n",
      "Epoch 40/200\n",
      "48000/48000 [==============================] - 1s - loss: 0.3314 - acc: 0.9078 - val_loss: 0.3159 - val_acc: 0.9118\n",
      "Epoch 41/200\n",
      "48000/48000 [==============================] - 0s - loss: 0.3303 - acc: 0.9080 - val_loss: 0.3147 - val_acc: 0.9127\n",
      "Epoch 42/200\n",
      "48000/48000 [==============================] - 0s - loss: 0.3291 - acc: 0.9084 - val_loss: 0.3138 - val_acc: 0.9132\n",
      "Epoch 43/200\n",
      "48000/48000 [==============================] - 0s - loss: 0.3280 - acc: 0.9089 - val_loss: 0.3130 - val_acc: 0.9132\n",
      "Epoch 44/200\n",
      "48000/48000 [==============================] - 1s - loss: 0.3270 - acc: 0.9091 - val_loss: 0.3121 - val_acc: 0.9132\n",
      "Epoch 45/200\n",
      "48000/48000 [==============================] - 1s - loss: 0.3259 - acc: 0.9093 - val_loss: 0.3113 - val_acc: 0.9135\n",
      "Epoch 46/200\n",
      "48000/48000 [==============================] - 0s - loss: 0.3249 - acc: 0.9095 - val_loss: 0.3105 - val_acc: 0.9137\n",
      "Epoch 47/200\n",
      "48000/48000 [==============================] - 0s - loss: 0.3239 - acc: 0.9105 - val_loss: 0.3098 - val_acc: 0.9141\n",
      "Epoch 48/200\n",
      "48000/48000 [==============================] - 1s - loss: 0.3230 - acc: 0.9105 - val_loss: 0.3090 - val_acc: 0.9146\n",
      "Epoch 49/200\n",
      "48000/48000 [==============================] - 1s - loss: 0.3221 - acc: 0.9102 - val_loss: 0.3083 - val_acc: 0.9151\n",
      "Epoch 50/200\n",
      "48000/48000 [==============================] - 0s - loss: 0.3212 - acc: 0.9109 - val_loss: 0.3075 - val_acc: 0.9150\n",
      "Epoch 51/200\n",
      "48000/48000 [==============================] - 0s - loss: 0.3204 - acc: 0.9109 - val_loss: 0.3070 - val_acc: 0.9150\n",
      "Epoch 52/200\n",
      "48000/48000 [==============================] - 0s - loss: 0.3195 - acc: 0.9112 - val_loss: 0.3063 - val_acc: 0.9148\n",
      "Epoch 53/200\n",
      "48000/48000 [==============================] - 0s - loss: 0.3187 - acc: 0.9114 - val_loss: 0.3057 - val_acc: 0.9153\n",
      "Epoch 54/200\n",
      "48000/48000 [==============================] - 0s - loss: 0.3180 - acc: 0.9117 - val_loss: 0.3050 - val_acc: 0.9148\n",
      "Epoch 55/200\n",
      "48000/48000 [==============================] - 0s - loss: 0.3171 - acc: 0.9121 - val_loss: 0.3044 - val_acc: 0.9149\n",
      "Epoch 56/200\n",
      "48000/48000 [==============================] - 0s - loss: 0.3164 - acc: 0.9121 - val_loss: 0.3037 - val_acc: 0.9156\n",
      "Epoch 57/200\n",
      "48000/48000 [==============================] - 0s - loss: 0.3157 - acc: 0.9128 - val_loss: 0.3034 - val_acc: 0.9152\n",
      "Epoch 58/200\n",
      "48000/48000 [==============================] - 0s - loss: 0.3149 - acc: 0.9121 - val_loss: 0.3029 - val_acc: 0.9148\n",
      "Epoch 59/200\n",
      "48000/48000 [==============================] - 1s - loss: 0.3143 - acc: 0.9128 - val_loss: 0.3022 - val_acc: 0.9151\n",
      "Epoch 60/200\n",
      "48000/48000 [==============================] - 1s - loss: 0.3136 - acc: 0.9129 - val_loss: 0.3016 - val_acc: 0.9161\n",
      "Epoch 61/200\n",
      "48000/48000 [==============================] - 1s - loss: 0.3130 - acc: 0.9133 - val_loss: 0.3011 - val_acc: 0.9158\n",
      "Epoch 62/200\n",
      "48000/48000 [==============================] - 1s - loss: 0.3123 - acc: 0.9131 - val_loss: 0.3007 - val_acc: 0.9151\n",
      "Epoch 63/200\n",
      "48000/48000 [==============================] - 1s - loss: 0.3117 - acc: 0.9136 - val_loss: 0.3003 - val_acc: 0.9156\n",
      "Epoch 64/200\n",
      "48000/48000 [==============================] - 1s - loss: 0.3110 - acc: 0.9137 - val_loss: 0.2997 - val_acc: 0.9158\n",
      "Epoch 65/200\n",
      "48000/48000 [==============================] - 1s - loss: 0.3105 - acc: 0.9137 - val_loss: 0.2992 - val_acc: 0.9159\n",
      "Epoch 66/200\n",
      "48000/48000 [==============================] - 0s - loss: 0.3098 - acc: 0.9138 - val_loss: 0.2988 - val_acc: 0.9161\n",
      "Epoch 67/200\n",
      "48000/48000 [==============================] - 1s - loss: 0.3093 - acc: 0.9141 - val_loss: 0.2983 - val_acc: 0.9165\n",
      "Epoch 68/200\n",
      "48000/48000 [==============================] - 1s - loss: 0.3087 - acc: 0.9139 - val_loss: 0.2979 - val_acc: 0.9166\n",
      "Epoch 69/200\n",
      "48000/48000 [==============================] - 1s - loss: 0.3082 - acc: 0.9144 - val_loss: 0.2976 - val_acc: 0.9164\n",
      "Epoch 70/200\n",
      "48000/48000 [==============================] - 1s - loss: 0.3077 - acc: 0.9145 - val_loss: 0.2971 - val_acc: 0.9166\n",
      "Epoch 71/200\n",
      "48000/48000 [==============================] - 1s - loss: 0.3071 - acc: 0.9146 - val_loss: 0.2967 - val_acc: 0.9172\n",
      "Epoch 72/200\n",
      "48000/48000 [==============================] - 0s - loss: 0.3066 - acc: 0.9147 - val_loss: 0.2964 - val_acc: 0.9167\n",
      "Epoch 73/200\n",
      "48000/48000 [==============================] - 0s - loss: 0.3061 - acc: 0.9151 - val_loss: 0.2960 - val_acc: 0.9169\n",
      "Epoch 74/200\n",
      "48000/48000 [==============================] - 1s - loss: 0.3056 - acc: 0.9150 - val_loss: 0.2956 - val_acc: 0.9173\n",
      "Epoch 75/200\n",
      "48000/48000 [==============================] - 0s - loss: 0.3051 - acc: 0.9151 - val_loss: 0.2952 - val_acc: 0.9177\n",
      "Epoch 76/200\n",
      "48000/48000 [==============================] - 0s - loss: 0.3046 - acc: 0.9152 - val_loss: 0.2950 - val_acc: 0.9173\n",
      "Epoch 77/200\n",
      "48000/48000 [==============================] - 0s - loss: 0.3042 - acc: 0.9154 - val_loss: 0.2945 - val_acc: 0.9172\n",
      "Epoch 78/200\n",
      "48000/48000 [==============================] - 0s - loss: 0.3037 - acc: 0.9154 - val_loss: 0.2942 - val_acc: 0.9176\n",
      "Epoch 79/200\n",
      "48000/48000 [==============================] - 0s - loss: 0.3032 - acc: 0.9157 - val_loss: 0.2939 - val_acc: 0.9179\n",
      "Epoch 80/200\n",
      "48000/48000 [==============================] - 0s - loss: 0.3028 - acc: 0.9156 - val_loss: 0.2936 - val_acc: 0.9177\n",
      "Epoch 81/200\n",
      "48000/48000 [==============================] - 0s - loss: 0.3024 - acc: 0.9157 - val_loss: 0.2933 - val_acc: 0.9179\n",
      "Epoch 82/200\n",
      "48000/48000 [==============================] - 0s - loss: 0.3019 - acc: 0.9157 - val_loss: 0.2930 - val_acc: 0.9178\n",
      "Epoch 83/200\n",
      "48000/48000 [==============================] - 0s - loss: 0.3015 - acc: 0.9160 - val_loss: 0.2926 - val_acc: 0.9182\n",
      "Epoch 84/200\n",
      "48000/48000 [==============================] - 0s - loss: 0.3011 - acc: 0.9161 - val_loss: 0.2924 - val_acc: 0.9179\n",
      "Epoch 85/200\n",
      "48000/48000 [==============================] - 0s - loss: 0.3007 - acc: 0.9165 - val_loss: 0.2920 - val_acc: 0.9184\n",
      "Epoch 86/200\n",
      "48000/48000 [==============================] - 1s - loss: 0.3003 - acc: 0.9164 - val_loss: 0.2918 - val_acc: 0.9185\n",
      "Epoch 87/200\n",
      "48000/48000 [==============================] - 1s - loss: 0.2999 - acc: 0.9165 - val_loss: 0.2914 - val_acc: 0.9185\n",
      "Epoch 88/200\n",
      "48000/48000 [==============================] - 1s - loss: 0.2995 - acc: 0.9166 - val_loss: 0.2911 - val_acc: 0.9188\n",
      "Epoch 89/200\n",
      "48000/48000 [==============================] - 0s - loss: 0.2991 - acc: 0.9167 - val_loss: 0.2909 - val_acc: 0.9191\n",
      "Epoch 90/200\n",
      "48000/48000 [==============================] - 0s - loss: 0.2988 - acc: 0.9169 - val_loss: 0.2906 - val_acc: 0.9191\n",
      "Epoch 91/200\n",
      "48000/48000 [==============================] - 1s - loss: 0.2984 - acc: 0.9168 - val_loss: 0.2903 - val_acc: 0.9192\n",
      "Epoch 92/200\n",
      "48000/48000 [==============================] - 0s - loss: 0.2981 - acc: 0.9170 - val_loss: 0.2901 - val_acc: 0.9196\n",
      "Epoch 93/200\n",
      "48000/48000 [==============================] - 1s - loss: 0.2977 - acc: 0.9171 - val_loss: 0.2898 - val_acc: 0.9195\n",
      "Epoch 94/200\n",
      "48000/48000 [==============================] - 1s - loss: 0.2973 - acc: 0.9172 - val_loss: 0.2895 - val_acc: 0.9196\n",
      "Epoch 95/200\n",
      "48000/48000 [==============================] - 1s - loss: 0.2970 - acc: 0.9174 - val_loss: 0.2894 - val_acc: 0.9196\n",
      "Epoch 96/200\n",
      "48000/48000 [==============================] - 1s - loss: 0.2967 - acc: 0.9174 - val_loss: 0.2891 - val_acc: 0.9198\n",
      "Epoch 97/200\n",
      "48000/48000 [==============================] - 0s - loss: 0.2963 - acc: 0.9176 - val_loss: 0.2889 - val_acc: 0.9197\n",
      "Epoch 98/200\n",
      "48000/48000 [==============================] - 1s - loss: 0.2960 - acc: 0.9174 - val_loss: 0.2886 - val_acc: 0.9202\n",
      "Epoch 99/200\n",
      "48000/48000 [==============================] - 0s - loss: 0.2957 - acc: 0.9176 - val_loss: 0.2884 - val_acc: 0.9202\n",
      "Epoch 100/200\n",
      "48000/48000 [==============================] - 1s - loss: 0.2953 - acc: 0.9178 - val_loss: 0.2882 - val_acc: 0.9200\n",
      "Epoch 101/200\n",
      "48000/48000 [==============================] - 0s - loss: 0.2950 - acc: 0.9179 - val_loss: 0.2879 - val_acc: 0.9201\n",
      "Epoch 102/200\n",
      "48000/48000 [==============================] - 1s - loss: 0.2947 - acc: 0.9180 - val_loss: 0.2877 - val_acc: 0.9204\n",
      "Epoch 103/200\n",
      "48000/48000 [==============================] - 1s - loss: 0.2944 - acc: 0.9180 - val_loss: 0.2875 - val_acc: 0.9202\n",
      "Epoch 104/200\n",
      "48000/48000 [==============================] - 1s - loss: 0.2941 - acc: 0.9184 - val_loss: 0.2873 - val_acc: 0.9202\n",
      "Epoch 105/200\n",
      "48000/48000 [==============================] - 1s - loss: 0.2938 - acc: 0.9183 - val_loss: 0.2871 - val_acc: 0.9206\n",
      "Epoch 106/200\n",
      "48000/48000 [==============================] - 1s - loss: 0.2935 - acc: 0.9183 - val_loss: 0.2868 - val_acc: 0.9202\n",
      "Epoch 107/200\n",
      "48000/48000 [==============================] - 1s - loss: 0.2932 - acc: 0.9186 - val_loss: 0.2867 - val_acc: 0.9206\n",
      "Epoch 108/200\n",
      "48000/48000 [==============================] - 1s - loss: 0.2929 - acc: 0.9185 - val_loss: 0.2864 - val_acc: 0.9208\n",
      "Epoch 109/200\n",
      "48000/48000 [==============================] - 1s - loss: 0.2927 - acc: 0.9185 - val_loss: 0.2863 - val_acc: 0.9206\n",
      "Epoch 110/200\n",
      "48000/48000 [==============================] - 0s - loss: 0.2923 - acc: 0.9187 - val_loss: 0.2860 - val_acc: 0.9204\n",
      "Epoch 111/200\n",
      "48000/48000 [==============================] - 1s - loss: 0.2921 - acc: 0.9184 - val_loss: 0.2858 - val_acc: 0.9210\n",
      "Epoch 112/200\n",
      "48000/48000 [==============================] - 1s - loss: 0.2918 - acc: 0.9187 - val_loss: 0.2857 - val_acc: 0.9207\n",
      "Epoch 113/200\n",
      "48000/48000 [==============================] - 1s - loss: 0.2915 - acc: 0.9189 - val_loss: 0.2854 - val_acc: 0.9210\n",
      "Epoch 114/200\n",
      "48000/48000 [==============================] - 1s - loss: 0.2913 - acc: 0.9188 - val_loss: 0.2853 - val_acc: 0.9211\n",
      "Epoch 115/200\n",
      "48000/48000 [==============================] - 1s - loss: 0.2910 - acc: 0.9189 - val_loss: 0.2852 - val_acc: 0.9205\n",
      "Epoch 116/200\n",
      "48000/48000 [==============================] - 1s - loss: 0.2908 - acc: 0.9189 - val_loss: 0.2849 - val_acc: 0.9213\n",
      "Epoch 117/200\n",
      "48000/48000 [==============================] - 1s - loss: 0.2905 - acc: 0.9193 - val_loss: 0.2847 - val_acc: 0.9213\n",
      "Epoch 118/200\n",
      "48000/48000 [==============================] - 1s - loss: 0.2902 - acc: 0.9192 - val_loss: 0.2846 - val_acc: 0.9212\n",
      "Epoch 119/200\n",
      "48000/48000 [==============================] - 1s - loss: 0.2900 - acc: 0.9191 - val_loss: 0.2844 - val_acc: 0.9212\n",
      "Epoch 120/200\n",
      "48000/48000 [==============================] - 1s - loss: 0.2898 - acc: 0.9192 - val_loss: 0.2842 - val_acc: 0.9212\n",
      "Epoch 121/200\n",
      "48000/48000 [==============================] - 1s - loss: 0.2895 - acc: 0.9191 - val_loss: 0.2841 - val_acc: 0.9212\n",
      "Epoch 122/200\n",
      "48000/48000 [==============================] - 1s - loss: 0.2892 - acc: 0.9192 - val_loss: 0.2840 - val_acc: 0.9212\n",
      "Epoch 123/200\n",
      "48000/48000 [==============================] - 1s - loss: 0.2890 - acc: 0.9194 - val_loss: 0.2838 - val_acc: 0.9211\n",
      "Epoch 124/200\n",
      "48000/48000 [==============================] - 1s - loss: 0.2888 - acc: 0.9197 - val_loss: 0.2837 - val_acc: 0.9210\n",
      "Epoch 125/200\n",
      "48000/48000 [==============================] - 0s - loss: 0.2885 - acc: 0.9193 - val_loss: 0.2835 - val_acc: 0.9207\n",
      "Epoch 126/200\n",
      "48000/48000 [==============================] - 1s - loss: 0.2883 - acc: 0.9197 - val_loss: 0.2834 - val_acc: 0.9217\n",
      "Epoch 127/200\n"
     ]
    },
    {
     "name": "stdout",
     "output_type": "stream",
     "text": [
      "48000/48000 [==============================] - 0s - loss: 0.2881 - acc: 0.9194 - val_loss: 0.2832 - val_acc: 0.9212\n",
      "Epoch 128/200\n",
      "48000/48000 [==============================] - 0s - loss: 0.2879 - acc: 0.9194 - val_loss: 0.2830 - val_acc: 0.9210\n",
      "Epoch 129/200\n",
      "48000/48000 [==============================] - 0s - loss: 0.2876 - acc: 0.9196 - val_loss: 0.2828 - val_acc: 0.9217\n",
      "Epoch 130/200\n",
      "48000/48000 [==============================] - 0s - loss: 0.2874 - acc: 0.9197 - val_loss: 0.2826 - val_acc: 0.9216\n",
      "Epoch 131/200\n",
      "48000/48000 [==============================] - 0s - loss: 0.2871 - acc: 0.9200 - val_loss: 0.2827 - val_acc: 0.9211\n",
      "Epoch 132/200\n",
      "48000/48000 [==============================] - 0s - loss: 0.2870 - acc: 0.9197 - val_loss: 0.2824 - val_acc: 0.9213\n",
      "Epoch 133/200\n",
      "48000/48000 [==============================] - 0s - loss: 0.2868 - acc: 0.9198 - val_loss: 0.2823 - val_acc: 0.9216\n",
      "Epoch 134/200\n",
      "48000/48000 [==============================] - 1s - loss: 0.2866 - acc: 0.9199 - val_loss: 0.2822 - val_acc: 0.9214\n",
      "Epoch 135/200\n",
      "48000/48000 [==============================] - 0s - loss: 0.2863 - acc: 0.9203 - val_loss: 0.2820 - val_acc: 0.9213\n",
      "Epoch 136/200\n",
      "48000/48000 [==============================] - 0s - loss: 0.2861 - acc: 0.9196 - val_loss: 0.2818 - val_acc: 0.9215\n",
      "Epoch 137/200\n",
      "48000/48000 [==============================] - 0s - loss: 0.2859 - acc: 0.9198 - val_loss: 0.2818 - val_acc: 0.9217\n",
      "Epoch 138/200\n",
      "48000/48000 [==============================] - 0s - loss: 0.2857 - acc: 0.9203 - val_loss: 0.2815 - val_acc: 0.9218\n",
      "Epoch 139/200\n",
      "48000/48000 [==============================] - 0s - loss: 0.2855 - acc: 0.9203 - val_loss: 0.2814 - val_acc: 0.9215\n",
      "Epoch 140/200\n",
      "48000/48000 [==============================] - 0s - loss: 0.2853 - acc: 0.9201 - val_loss: 0.2812 - val_acc: 0.9216\n",
      "Epoch 141/200\n",
      "48000/48000 [==============================] - 0s - loss: 0.2852 - acc: 0.9204 - val_loss: 0.2811 - val_acc: 0.9217\n",
      "Epoch 142/200\n",
      "48000/48000 [==============================] - 0s - loss: 0.2849 - acc: 0.9201 - val_loss: 0.2810 - val_acc: 0.9217\n",
      "Epoch 143/200\n",
      "48000/48000 [==============================] - 0s - loss: 0.2848 - acc: 0.9205 - val_loss: 0.2809 - val_acc: 0.9219\n",
      "Epoch 144/200\n",
      "48000/48000 [==============================] - 1s - loss: 0.2846 - acc: 0.9208 - val_loss: 0.2808 - val_acc: 0.9217\n",
      "Epoch 145/200\n",
      "48000/48000 [==============================] - 0s - loss: 0.2844 - acc: 0.9207 - val_loss: 0.2806 - val_acc: 0.9221\n",
      "Epoch 146/200\n",
      "48000/48000 [==============================] - 0s - loss: 0.2841 - acc: 0.9206 - val_loss: 0.2806 - val_acc: 0.9220\n",
      "Epoch 147/200\n",
      "48000/48000 [==============================] - 0s - loss: 0.2840 - acc: 0.9207 - val_loss: 0.2804 - val_acc: 0.9217\n",
      "Epoch 148/200\n",
      "48000/48000 [==============================] - 0s - loss: 0.2838 - acc: 0.9209 - val_loss: 0.2803 - val_acc: 0.9218\n",
      "Epoch 149/200\n",
      "48000/48000 [==============================] - 0s - loss: 0.2836 - acc: 0.9208 - val_loss: 0.2802 - val_acc: 0.9216\n",
      "Epoch 150/200\n",
      "48000/48000 [==============================] - 0s - loss: 0.2835 - acc: 0.9210 - val_loss: 0.2800 - val_acc: 0.9225\n",
      "Epoch 151/200\n",
      "48000/48000 [==============================] - 0s - loss: 0.2833 - acc: 0.9210 - val_loss: 0.2799 - val_acc: 0.9226\n",
      "Epoch 152/200\n",
      "48000/48000 [==============================] - 0s - loss: 0.2831 - acc: 0.9211 - val_loss: 0.2798 - val_acc: 0.9222\n",
      "Epoch 153/200\n",
      "48000/48000 [==============================] - 0s - loss: 0.2829 - acc: 0.9207 - val_loss: 0.2797 - val_acc: 0.9224\n",
      "Epoch 154/200\n",
      "48000/48000 [==============================] - 0s - loss: 0.2827 - acc: 0.9209 - val_loss: 0.2796 - val_acc: 0.9222\n",
      "Epoch 155/200\n",
      "48000/48000 [==============================] - 1s - loss: 0.2826 - acc: 0.9208 - val_loss: 0.2795 - val_acc: 0.9225\n",
      "Epoch 156/200\n",
      "48000/48000 [==============================] - 0s - loss: 0.2824 - acc: 0.9210 - val_loss: 0.2794 - val_acc: 0.9224\n",
      "Epoch 157/200\n",
      "48000/48000 [==============================] - 0s - loss: 0.2822 - acc: 0.9210 - val_loss: 0.2793 - val_acc: 0.9224\n",
      "Epoch 158/200\n",
      "48000/48000 [==============================] - 0s - loss: 0.2821 - acc: 0.9214 - val_loss: 0.2792 - val_acc: 0.9226\n",
      "Epoch 159/200\n",
      "48000/48000 [==============================] - 0s - loss: 0.2819 - acc: 0.9214 - val_loss: 0.2791 - val_acc: 0.9226\n",
      "Epoch 160/200\n",
      "48000/48000 [==============================] - 0s - loss: 0.2817 - acc: 0.9213 - val_loss: 0.2790 - val_acc: 0.9225\n",
      "Epoch 161/200\n",
      "48000/48000 [==============================] - 0s - loss: 0.2816 - acc: 0.9214 - val_loss: 0.2789 - val_acc: 0.9222\n",
      "Epoch 162/200\n",
      "48000/48000 [==============================] - 0s - loss: 0.2814 - acc: 0.9215 - val_loss: 0.2788 - val_acc: 0.9227\n",
      "Epoch 163/200\n",
      "48000/48000 [==============================] - 0s - loss: 0.2812 - acc: 0.9213 - val_loss: 0.2787 - val_acc: 0.9225\n",
      "Epoch 164/200\n",
      "48000/48000 [==============================] - 0s - loss: 0.2811 - acc: 0.9216 - val_loss: 0.2786 - val_acc: 0.9225\n",
      "Epoch 165/200\n",
      "48000/48000 [==============================] - 0s - loss: 0.2809 - acc: 0.9215 - val_loss: 0.2785 - val_acc: 0.9227\n",
      "Epoch 166/200\n",
      "48000/48000 [==============================] - 0s - loss: 0.2807 - acc: 0.9216 - val_loss: 0.2784 - val_acc: 0.9225\n",
      "Epoch 167/200\n",
      "48000/48000 [==============================] - 0s - loss: 0.2806 - acc: 0.9217 - val_loss: 0.2784 - val_acc: 0.9227\n",
      "Epoch 168/200\n",
      "48000/48000 [==============================] - 0s - loss: 0.2804 - acc: 0.9219 - val_loss: 0.2782 - val_acc: 0.9228\n",
      "Epoch 169/200\n",
      "48000/48000 [==============================] - 0s - loss: 0.2803 - acc: 0.9216 - val_loss: 0.2782 - val_acc: 0.9227\n",
      "Epoch 170/200\n",
      "48000/48000 [==============================] - 0s - loss: 0.2801 - acc: 0.9216 - val_loss: 0.2781 - val_acc: 0.9227\n",
      "Epoch 171/200\n",
      "48000/48000 [==============================] - 0s - loss: 0.2800 - acc: 0.9220 - val_loss: 0.2780 - val_acc: 0.9226\n",
      "Epoch 172/200\n",
      "48000/48000 [==============================] - 1s - loss: 0.2798 - acc: 0.9218 - val_loss: 0.2778 - val_acc: 0.9231\n",
      "Epoch 173/200\n",
      "48000/48000 [==============================] - 1s - loss: 0.2797 - acc: 0.9217 - val_loss: 0.2778 - val_acc: 0.9229\n",
      "Epoch 174/200\n",
      "48000/48000 [==============================] - 1s - loss: 0.2796 - acc: 0.9217 - val_loss: 0.2777 - val_acc: 0.9227\n",
      "Epoch 175/200\n",
      "48000/48000 [==============================] - 1s - loss: 0.2794 - acc: 0.9218 - val_loss: 0.2776 - val_acc: 0.9232\n",
      "Epoch 176/200\n",
      "48000/48000 [==============================] - 0s - loss: 0.2793 - acc: 0.9220 - val_loss: 0.2775 - val_acc: 0.9232\n",
      "Epoch 177/200\n",
      "48000/48000 [==============================] - 1s - loss: 0.2791 - acc: 0.9219 - val_loss: 0.2774 - val_acc: 0.9234\n",
      "Epoch 178/200\n",
      "48000/48000 [==============================] - 1s - loss: 0.2790 - acc: 0.9221 - val_loss: 0.2774 - val_acc: 0.9228\n",
      "Epoch 179/200\n",
      "48000/48000 [==============================] - 1s - loss: 0.2788 - acc: 0.9221 - val_loss: 0.2773 - val_acc: 0.9232\n",
      "Epoch 180/200\n",
      "48000/48000 [==============================] - 1s - loss: 0.2787 - acc: 0.9221 - val_loss: 0.2771 - val_acc: 0.9235\n",
      "Epoch 181/200\n",
      "48000/48000 [==============================] - 1s - loss: 0.2785 - acc: 0.9223 - val_loss: 0.2770 - val_acc: 0.9232\n",
      "Epoch 182/200\n",
      "48000/48000 [==============================] - 1s - loss: 0.2784 - acc: 0.9220 - val_loss: 0.2769 - val_acc: 0.9231\n",
      "Epoch 183/200\n",
      "48000/48000 [==============================] - 1s - loss: 0.2783 - acc: 0.9223 - val_loss: 0.2769 - val_acc: 0.9231\n",
      "Epoch 184/200\n",
      "48000/48000 [==============================] - 1s - loss: 0.2781 - acc: 0.9223 - val_loss: 0.2768 - val_acc: 0.9230\n",
      "Epoch 185/200\n",
      "48000/48000 [==============================] - 1s - loss: 0.2780 - acc: 0.9224 - val_loss: 0.2767 - val_acc: 0.9233\n",
      "Epoch 186/200\n",
      "48000/48000 [==============================] - 1s - loss: 0.2779 - acc: 0.9223 - val_loss: 0.2766 - val_acc: 0.9236\n",
      "Epoch 187/200\n",
      "48000/48000 [==============================] - 1s - loss: 0.2777 - acc: 0.9224 - val_loss: 0.2766 - val_acc: 0.9233\n",
      "Epoch 188/200\n",
      "48000/48000 [==============================] - 1s - loss: 0.2776 - acc: 0.9226 - val_loss: 0.2765 - val_acc: 0.9236\n",
      "Epoch 189/200\n",
      "48000/48000 [==============================] - 1s - loss: 0.2775 - acc: 0.9225 - val_loss: 0.2764 - val_acc: 0.9235\n",
      "Epoch 190/200\n",
      "48000/48000 [==============================] - 0s - loss: 0.2773 - acc: 0.9225 - val_loss: 0.2764 - val_acc: 0.9235\n",
      "Epoch 191/200\n",
      "48000/48000 [==============================] - 0s - loss: 0.2772 - acc: 0.9225 - val_loss: 0.2763 - val_acc: 0.9237\n",
      "Epoch 192/200\n",
      "48000/48000 [==============================] - 0s - loss: 0.2770 - acc: 0.9226 - val_loss: 0.2762 - val_acc: 0.9238\n",
      "Epoch 193/200\n",
      "48000/48000 [==============================] - 0s - loss: 0.2770 - acc: 0.9226 - val_loss: 0.2761 - val_acc: 0.9237\n",
      "Epoch 194/200\n",
      "48000/48000 [==============================] - 1s - loss: 0.2768 - acc: 0.9226 - val_loss: 0.2761 - val_acc: 0.9236\n",
      "Epoch 195/200\n",
      "48000/48000 [==============================] - 1s - loss: 0.2767 - acc: 0.9231 - val_loss: 0.2760 - val_acc: 0.9239\n",
      "Epoch 196/200\n",
      "48000/48000 [==============================] - 0s - loss: 0.2766 - acc: 0.9226 - val_loss: 0.2758 - val_acc: 0.9241\n",
      "Epoch 197/200\n",
      "48000/48000 [==============================] - 1s - loss: 0.2765 - acc: 0.9229 - val_loss: 0.2758 - val_acc: 0.9242\n",
      "Epoch 198/200\n",
      "48000/48000 [==============================] - 0s - loss: 0.2763 - acc: 0.9231 - val_loss: 0.2758 - val_acc: 0.9236\n",
      "Epoch 199/200\n",
      "48000/48000 [==============================] - 0s - loss: 0.2762 - acc: 0.9229 - val_loss: 0.2757 - val_acc: 0.9241\n",
      "Epoch 200/200\n",
      "48000/48000 [==============================] - 1s - loss: 0.2761 - acc: 0.9230 - val_loss: 0.2756 - val_acc: 0.9241\n",
      " 8256/10000 [=======================>......] - ETA: 0s\n",
      "Test score: 0.27738585037\n",
      "Test accuracy: 0.9227\n"
     ]
    }
   ],
   "source": [
    "history = model.fit(X_train, Y_train,\n",
    "                    batch_size=BATCH_SIZE, epochs=NB_EPOCH,\n",
    "                    verbose=VERBOSE, validation_split=VALIDATION_SPLIT)\n",
    "score = model.evaluate(X_test, Y_test, verbose=VERBOSE)\n",
    "print(\"\\nTest score:\", score[0])\n",
    "print('Test accuracy:', score[1])"
   ]
  },
  {
   "cell_type": "markdown",
   "metadata": {},
   "source": [
    "## Add Hidden Layer"
   ]
  },
  {
   "cell_type": "code",
   "execution_count": 13,
   "metadata": {
    "collapsed": true
   },
   "outputs": [],
   "source": [
    "from __future__ import print_function\n",
    "import numpy as np\n",
    "from keras.datasets import mnist\n",
    "from keras.models import Sequential\n",
    "from keras.layers.core import Dense, Activation\n",
    "from keras.optimizers import SGD\n",
    "from keras.utils import np_utils"
   ]
  },
  {
   "cell_type": "code",
   "execution_count": 14,
   "metadata": {
    "collapsed": true
   },
   "outputs": [],
   "source": [
    "np.random.seed(1671) # for reproducibility"
   ]
  },
  {
   "cell_type": "code",
   "execution_count": 15,
   "metadata": {
    "collapsed": true
   },
   "outputs": [],
   "source": [
    "# network and training\n",
    "NB_EPOCH = 20\n",
    "BATCH_SIZE = 128\n",
    "VERBOSE = 1\n",
    "NB_CLASSES = 10 # number of outputs = number of digits\n",
    "OPTIMIZER = SGD() # optimizer, explained later in this chapter\n",
    "N_HIDDEN = 128\n",
    "VALIDATION_SPLIT=0.2 # how much TRAIN is reserved for VALIDATION"
   ]
  },
  {
   "cell_type": "code",
   "execution_count": 16,
   "metadata": {
    "collapsed": true
   },
   "outputs": [],
   "source": [
    "# data: shuffled and split between train and test sets\n",
    "(X_train, y_train), (X_test, y_test) = mnist.load_data()"
   ]
  },
  {
   "cell_type": "code",
   "execution_count": 18,
   "metadata": {
    "collapsed": true
   },
   "outputs": [],
   "source": [
    "#X_train is 60000 rows of 28x28 values --> reshaped in 60000 x 784\n",
    "RESHAPED = 784\n",
    "\n",
    "X_train = X_train.reshape(60000, RESHAPED)\n",
    "X_test = X_test.reshape(10000, RESHAPED)\n",
    "X_train = X_train.astype('float32')\n",
    "X_test = X_test.astype('float32')"
   ]
  },
  {
   "cell_type": "code",
   "execution_count": 19,
   "metadata": {},
   "outputs": [
    {
     "name": "stdout",
     "output_type": "stream",
     "text": [
      "60000 train samples\n",
      "10000 test samples\n"
     ]
    }
   ],
   "source": [
    "# normalize\n",
    "X_train /= 255\n",
    "X_test /= 255\n",
    "print(X_train.shape[0], 'train samples')\n",
    "print(X_test.shape[0], 'test samples')"
   ]
  },
  {
   "cell_type": "code",
   "execution_count": 20,
   "metadata": {
    "collapsed": true
   },
   "outputs": [],
   "source": [
    "# convert class vectors to binary class matrices\n",
    "Y_train = np_utils.to_categorical(y_train, NB_CLASSES)\n",
    "Y_test = np_utils.to_categorical(y_test, NB_CLASSES)"
   ]
  },
  {
   "cell_type": "code",
   "execution_count": 21,
   "metadata": {
    "collapsed": true
   },
   "outputs": [],
   "source": [
    "# M_HIDDEN hidden layers\n",
    "# 10 outputs\n",
    "# final stage is softmax\n",
    "model = Sequential()"
   ]
  },
  {
   "cell_type": "code",
   "execution_count": 22,
   "metadata": {
    "collapsed": true
   },
   "outputs": [],
   "source": [
    "model.add(Dense(N_HIDDEN, input_shape=(RESHAPED,)))\n",
    "model.add(Activation('relu'))"
   ]
  },
  {
   "cell_type": "code",
   "execution_count": 23,
   "metadata": {
    "collapsed": true
   },
   "outputs": [],
   "source": [
    "model.add(Dense(N_HIDDEN))\n",
    "model.add(Activation('relu'))"
   ]
  },
  {
   "cell_type": "code",
   "execution_count": 24,
   "metadata": {
    "collapsed": true
   },
   "outputs": [],
   "source": [
    "model.add(Dense(NB_CLASSES))\n",
    "model.add(Activation('softmax'))"
   ]
  },
  {
   "cell_type": "code",
   "execution_count": 25,
   "metadata": {},
   "outputs": [
    {
     "name": "stdout",
     "output_type": "stream",
     "text": [
      "_________________________________________________________________\n",
      "Layer (type)                 Output Shape              Param #   \n",
      "=================================================================\n",
      "dense_2 (Dense)              (None, 128)               100480    \n",
      "_________________________________________________________________\n",
      "activation_2 (Activation)    (None, 128)               0         \n",
      "_________________________________________________________________\n",
      "dense_3 (Dense)              (None, 128)               16512     \n",
      "_________________________________________________________________\n",
      "activation_3 (Activation)    (None, 128)               0         \n",
      "_________________________________________________________________\n",
      "dense_4 (Dense)              (None, 10)                1290      \n",
      "_________________________________________________________________\n",
      "activation_4 (Activation)    (None, 10)                0         \n",
      "=================================================================\n",
      "Total params: 118,282\n",
      "Trainable params: 118,282\n",
      "Non-trainable params: 0\n",
      "_________________________________________________________________\n"
     ]
    }
   ],
   "source": [
    "model.summary()"
   ]
  },
  {
   "cell_type": "code",
   "execution_count": 26,
   "metadata": {
    "collapsed": true
   },
   "outputs": [],
   "source": [
    "model.compile(loss='categorical_crossentropy',\n",
    "optimizer=OPTIMIZER,\n",
    "metrics=['accuracy'])"
   ]
  },
  {
   "cell_type": "code",
   "execution_count": 27,
   "metadata": {},
   "outputs": [
    {
     "name": "stdout",
     "output_type": "stream",
     "text": [
      "Train on 48000 samples, validate on 12000 samples\n",
      "Epoch 1/20\n",
      "48000/48000 [==============================] - 2s - loss: 1.4829 - acc: 0.6229 - val_loss: 0.7584 - val_acc: 0.8286\n",
      "Epoch 2/20\n",
      "48000/48000 [==============================] - 1s - loss: 0.6050 - acc: 0.8462 - val_loss: 0.4550 - val_acc: 0.8851\n",
      "Epoch 3/20\n",
      "48000/48000 [==============================] - 3s - loss: 0.4398 - acc: 0.8802 - val_loss: 0.3709 - val_acc: 0.9020\n",
      "Epoch 4/20\n",
      "48000/48000 [==============================] - 2s - loss: 0.3767 - acc: 0.8953 - val_loss: 0.3321 - val_acc: 0.9083\n",
      "Epoch 5/20\n",
      "48000/48000 [==============================] - 3s - loss: 0.3415 - acc: 0.9026 - val_loss: 0.3055 - val_acc: 0.9147\n",
      "Epoch 6/20\n",
      "48000/48000 [==============================] - 2s - loss: 0.3175 - acc: 0.9086 - val_loss: 0.2880 - val_acc: 0.9183\n",
      "Epoch 7/20\n",
      "48000/48000 [==============================] - 2s - loss: 0.2989 - acc: 0.9136 - val_loss: 0.2727 - val_acc: 0.9224\n",
      "Epoch 8/20\n",
      "48000/48000 [==============================] - 3s - loss: 0.2839 - acc: 0.9180 - val_loss: 0.2607 - val_acc: 0.9267\n",
      "Epoch 9/20\n",
      "48000/48000 [==============================] - 1s - loss: 0.2714 - acc: 0.9216 - val_loss: 0.2504 - val_acc: 0.9297\n",
      "Epoch 10/20\n",
      "48000/48000 [==============================] - 2s - loss: 0.2602 - acc: 0.9253 - val_loss: 0.2430 - val_acc: 0.9309\n",
      "Epoch 11/20\n",
      "48000/48000 [==============================] - 2s - loss: 0.2501 - acc: 0.9285 - val_loss: 0.2341 - val_acc: 0.9332\n",
      "Epoch 12/20\n",
      "48000/48000 [==============================] - 1s - loss: 0.2409 - acc: 0.9302 - val_loss: 0.2271 - val_acc: 0.9353\n",
      "Epoch 13/20\n",
      "48000/48000 [==============================] - 1s - loss: 0.2325 - acc: 0.9334 - val_loss: 0.2227 - val_acc: 0.9368\n",
      "Epoch 14/20\n",
      "48000/48000 [==============================] - 1s - loss: 0.2253 - acc: 0.9354 - val_loss: 0.2147 - val_acc: 0.9394\n",
      "Epoch 15/20\n",
      "48000/48000 [==============================] - 2s - loss: 0.2182 - acc: 0.9375 - val_loss: 0.2082 - val_acc: 0.9413\n",
      "Epoch 16/20\n",
      "48000/48000 [==============================] - 2s - loss: 0.2116 - acc: 0.9393 - val_loss: 0.2030 - val_acc: 0.9431\n",
      "Epoch 17/20\n",
      "48000/48000 [==============================] - 2s - loss: 0.2055 - acc: 0.9412 - val_loss: 0.1981 - val_acc: 0.9446\n",
      "Epoch 18/20\n",
      "48000/48000 [==============================] - 2s - loss: 0.1996 - acc: 0.9429 - val_loss: 0.1932 - val_acc: 0.9459\n",
      "Epoch 19/20\n",
      "48000/48000 [==============================] - 2s - loss: 0.1942 - acc: 0.9432 - val_loss: 0.1894 - val_acc: 0.9468\n",
      "Epoch 20/20\n",
      "48000/48000 [==============================] - 2s - loss: 0.1891 - acc: 0.9455 - val_loss: 0.1850 - val_acc: 0.9497\n",
      " 9696/10000 [============================>.] - ETA: 0sTest score: 0.186001326606\n",
      "Test accuracy: 0.946\n"
     ]
    }
   ],
   "source": [
    "history = model.fit(X_train, Y_train,\n",
    "batch_size=BATCH_SIZE, epochs=NB_EPOCH,\n",
    "verbose=VERBOSE, validation_split=VALIDATION_SPLIT)\n",
    "score = model.evaluate(X_test, Y_test, verbose=VERBOSE)\n",
    "print(\"Test score:\", score[0])\n",
    "print('Test accuracy:', score[1])"
   ]
  },
  {
   "cell_type": "markdown",
   "metadata": {},
   "source": [
    "## Add dropout"
   ]
  },
  {
   "cell_type": "code",
   "execution_count": 28,
   "metadata": {
    "collapsed": true
   },
   "outputs": [],
   "source": [
    "from __future__ import print_function\n",
    "import numpy as np\n",
    "from keras.datasets import mnist\n",
    "from keras.models import Sequential\n",
    "from keras.layers.core import Dense, Dropout, Activation\n",
    "from keras.optimizers import SGD\n",
    "from keras.utils import np_utils\n",
    "np.random.seed(1671) # for reproducibility"
   ]
  },
  {
   "cell_type": "code",
   "execution_count": 29,
   "metadata": {
    "collapsed": true
   },
   "outputs": [],
   "source": [
    "# network and training\n",
    "NB_EPOCH = 250\n",
    "BATCH_SIZE = 128\n",
    "VERBOSE = 1\n",
    "NB_CLASSES = 10 # number of outputs = number of digits\n",
    "OPTIMIZER = SGD() # optimizer, explained later in this chapter\n",
    "N_HIDDEN = 128\n",
    "VALIDATION_SPLIT=0.2 # how much TRAIN is reserved for VALIDATION\n",
    "DROPOUT = 0.3"
   ]
  },
  {
   "cell_type": "code",
   "execution_count": 30,
   "metadata": {
    "collapsed": true
   },
   "outputs": [],
   "source": [
    "# data: shuffled and split between train and test sets\n",
    "(X_train, y_train), (X_test, y_test) = mnist.load_data()\n",
    "#X_train is 60000 rows of 28x28 values --> reshaped in 60000 x 784\n",
    "RESHAPED = 784"
   ]
  },
  {
   "cell_type": "code",
   "execution_count": 31,
   "metadata": {
    "collapsed": true
   },
   "outputs": [],
   "source": [
    "#\n",
    "X_train = X_train.reshape(60000, RESHAPED)\n",
    "X_test = X_test.reshape(10000, RESHAPED)\n",
    "X_train = X_train.astype('float32')\n",
    "X_test = X_test.astype('float32')"
   ]
  },
  {
   "cell_type": "code",
   "execution_count": 32,
   "metadata": {
    "collapsed": true
   },
   "outputs": [],
   "source": [
    "# normalize\n",
    "X_train /= 255\n",
    "X_test /= 255\n",
    "# convert class vectors to binary class matrices\n",
    "Y_train = np_utils.to_categorical(y_train, NB_CLASSES)\n",
    "Y_test = np_utils.to_categorical(y_test, NB_CLASSES)"
   ]
  },
  {
   "cell_type": "code",
   "execution_count": 33,
   "metadata": {
    "collapsed": true
   },
   "outputs": [],
   "source": [
    "# M_HIDDEN hidden layers 10 outputs\n",
    "model = Sequential()"
   ]
  },
  {
   "cell_type": "code",
   "execution_count": 34,
   "metadata": {
    "collapsed": true
   },
   "outputs": [],
   "source": [
    "model.add(Dense(N_HIDDEN, input_shape=(RESHAPED,)))\n",
    "model.add(Activation('relu'))\n",
    "model.add(Dropout(DROPOUT))"
   ]
  },
  {
   "cell_type": "code",
   "execution_count": 35,
   "metadata": {
    "collapsed": true
   },
   "outputs": [],
   "source": [
    "model.add(Dense(N_HIDDEN))\n",
    "model.add(Activation('relu'))\n",
    "model.add(Dropout(DROPOUT))"
   ]
  },
  {
   "cell_type": "code",
   "execution_count": 36,
   "metadata": {
    "collapsed": true
   },
   "outputs": [],
   "source": [
    "model.add(Dense(NB_CLASSES))\n",
    "model.add(Activation('softmax'))"
   ]
  },
  {
   "cell_type": "code",
   "execution_count": 37,
   "metadata": {},
   "outputs": [
    {
     "name": "stdout",
     "output_type": "stream",
     "text": [
      "_________________________________________________________________\n",
      "Layer (type)                 Output Shape              Param #   \n",
      "=================================================================\n",
      "dense_5 (Dense)              (None, 128)               100480    \n",
      "_________________________________________________________________\n",
      "activation_5 (Activation)    (None, 128)               0         \n",
      "_________________________________________________________________\n",
      "dropout_1 (Dropout)          (None, 128)               0         \n",
      "_________________________________________________________________\n",
      "dense_6 (Dense)              (None, 128)               16512     \n",
      "_________________________________________________________________\n",
      "activation_6 (Activation)    (None, 128)               0         \n",
      "_________________________________________________________________\n",
      "dropout_2 (Dropout)          (None, 128)               0         \n",
      "_________________________________________________________________\n",
      "dense_7 (Dense)              (None, 10)                1290      \n",
      "_________________________________________________________________\n",
      "activation_7 (Activation)    (None, 10)                0         \n",
      "=================================================================\n",
      "Total params: 118,282\n",
      "Trainable params: 118,282\n",
      "Non-trainable params: 0\n",
      "_________________________________________________________________\n"
     ]
    }
   ],
   "source": [
    "model.summary()"
   ]
  },
  {
   "cell_type": "code",
   "execution_count": 38,
   "metadata": {
    "collapsed": true
   },
   "outputs": [],
   "source": [
    "model.compile(loss='categorical_crossentropy',\n",
    "optimizer=OPTIMIZER,\n",
    "metrics=['accuracy'])"
   ]
  },
  {
   "cell_type": "code",
   "execution_count": 39,
   "metadata": {},
   "outputs": [
    {
     "name": "stdout",
     "output_type": "stream",
     "text": [
      "Train on 48000 samples, validate on 12000 samples\n",
      "Epoch 1/250\n",
      "48000/48000 [==============================] - 2s - loss: 1.7403 - acc: 0.4539 - val_loss: 0.9291 - val_acc: 0.8123\n",
      "Epoch 2/250\n",
      "48000/48000 [==============================] - 2s - loss: 0.9231 - acc: 0.7232 - val_loss: 0.5400 - val_acc: 0.8653\n",
      "Epoch 3/250\n",
      "48000/48000 [==============================] - 2s - loss: 0.6935 - acc: 0.7882 - val_loss: 0.4297 - val_acc: 0.8884\n",
      "Epoch 4/250\n",
      "48000/48000 [==============================] - 2s - loss: 0.5947 - acc: 0.8209 - val_loss: 0.3790 - val_acc: 0.8979\n",
      "Epoch 5/250\n",
      "48000/48000 [==============================] - 2s - loss: 0.5347 - acc: 0.8394 - val_loss: 0.3455 - val_acc: 0.9037\n",
      "Epoch 6/250\n",
      "48000/48000 [==============================] - 2s - loss: 0.4976 - acc: 0.8525 - val_loss: 0.3231 - val_acc: 0.9107\n",
      "Epoch 7/250\n",
      "48000/48000 [==============================] - 2s - loss: 0.4616 - acc: 0.8629 - val_loss: 0.3048 - val_acc: 0.9130\n",
      "Epoch 8/250\n",
      "48000/48000 [==============================] - 2s - loss: 0.4385 - acc: 0.8688 - val_loss: 0.2896 - val_acc: 0.9172\n",
      "Epoch 9/250\n",
      "48000/48000 [==============================] - 2s - loss: 0.4181 - acc: 0.8761 - val_loss: 0.2776 - val_acc: 0.9199\n",
      "Epoch 10/250\n",
      "48000/48000 [==============================] - 2s - loss: 0.3990 - acc: 0.8837 - val_loss: 0.2656 - val_acc: 0.9233\n",
      "Epoch 11/250\n",
      "48000/48000 [==============================] - 2s - loss: 0.3819 - acc: 0.8876 - val_loss: 0.2551 - val_acc: 0.9259\n",
      "Epoch 12/250\n",
      "48000/48000 [==============================] - 2s - loss: 0.3688 - acc: 0.8921 - val_loss: 0.2465 - val_acc: 0.9283\n",
      "Epoch 13/250\n",
      "48000/48000 [==============================] - 2s - loss: 0.3570 - acc: 0.8944 - val_loss: 0.2388 - val_acc: 0.9300\n",
      "Epoch 14/250\n",
      "48000/48000 [==============================] - 2s - loss: 0.3465 - acc: 0.8992 - val_loss: 0.2319 - val_acc: 0.9324\n",
      "Epoch 15/250\n",
      "48000/48000 [==============================] - 2s - loss: 0.3358 - acc: 0.9016 - val_loss: 0.2261 - val_acc: 0.9339\n",
      "Epoch 16/250\n",
      "48000/48000 [==============================] - 2s - loss: 0.3244 - acc: 0.9056 - val_loss: 0.2180 - val_acc: 0.9352\n",
      "Epoch 17/250\n",
      "48000/48000 [==============================] - 2s - loss: 0.3141 - acc: 0.9087 - val_loss: 0.2121 - val_acc: 0.9377\n",
      "Epoch 18/250\n",
      "48000/48000 [==============================] - 2s - loss: 0.3102 - acc: 0.9094 - val_loss: 0.2075 - val_acc: 0.9392\n",
      "Epoch 19/250\n",
      "48000/48000 [==============================] - 2s - loss: 0.3018 - acc: 0.9117 - val_loss: 0.2018 - val_acc: 0.9410\n",
      "Epoch 20/250\n",
      "48000/48000 [==============================] - 2s - loss: 0.2931 - acc: 0.9131 - val_loss: 0.1973 - val_acc: 0.9419\n",
      "Epoch 21/250\n",
      "48000/48000 [==============================] - 2s - loss: 0.2866 - acc: 0.9170 - val_loss: 0.1920 - val_acc: 0.9437\n",
      "Epoch 22/250\n",
      "48000/48000 [==============================] - 2s - loss: 0.2789 - acc: 0.9172 - val_loss: 0.1879 - val_acc: 0.9447\n",
      "Epoch 23/250\n",
      "48000/48000 [==============================] - 2s - loss: 0.2730 - acc: 0.9199 - val_loss: 0.1841 - val_acc: 0.9463\n",
      "Epoch 24/250\n",
      "48000/48000 [==============================] - 2s - loss: 0.2686 - acc: 0.9211 - val_loss: 0.1810 - val_acc: 0.9466\n",
      "Epoch 25/250\n",
      "48000/48000 [==============================] - 3s - loss: 0.2618 - acc: 0.9235 - val_loss: 0.1770 - val_acc: 0.9479\n",
      "Epoch 26/250\n",
      "48000/48000 [==============================] - 2s - loss: 0.2584 - acc: 0.9248 - val_loss: 0.1735 - val_acc: 0.9489\n",
      "Epoch 27/250\n",
      "48000/48000 [==============================] - 2s - loss: 0.2539 - acc: 0.9255 - val_loss: 0.1706 - val_acc: 0.9497\n",
      "Epoch 28/250\n",
      "48000/48000 [==============================] - 2s - loss: 0.2453 - acc: 0.9277 - val_loss: 0.1676 - val_acc: 0.9503\n",
      "Epoch 29/250\n",
      "48000/48000 [==============================] - 2s - loss: 0.2427 - acc: 0.9275 - val_loss: 0.1641 - val_acc: 0.9516\n",
      "Epoch 30/250\n",
      "48000/48000 [==============================] - 3s - loss: 0.2396 - acc: 0.9297 - val_loss: 0.1615 - val_acc: 0.9523\n",
      "Epoch 31/250\n",
      "48000/48000 [==============================] - 2s - loss: 0.2360 - acc: 0.9304 - val_loss: 0.1589 - val_acc: 0.9533\n",
      "Epoch 32/250\n",
      "48000/48000 [==============================] - 2s - loss: 0.2320 - acc: 0.9306 - val_loss: 0.1568 - val_acc: 0.9543\n",
      "Epoch 33/250\n",
      "48000/48000 [==============================] - 2s - loss: 0.2284 - acc: 0.9326 - val_loss: 0.1534 - val_acc: 0.9551\n",
      "Epoch 34/250\n",
      "48000/48000 [==============================] - 2s - loss: 0.2257 - acc: 0.9326 - val_loss: 0.1519 - val_acc: 0.9552\n",
      "Epoch 35/250\n",
      "48000/48000 [==============================] - 2s - loss: 0.2214 - acc: 0.9353 - val_loss: 0.1501 - val_acc: 0.9554\n",
      "Epoch 36/250\n",
      "48000/48000 [==============================] - 2s - loss: 0.2169 - acc: 0.9353 - val_loss: 0.1484 - val_acc: 0.9563\n",
      "Epoch 37/250\n",
      "48000/48000 [==============================] - 2s - loss: 0.2124 - acc: 0.9375 - val_loss: 0.1458 - val_acc: 0.9570\n",
      "Epoch 38/250\n",
      "48000/48000 [==============================] - 2s - loss: 0.2122 - acc: 0.9371 - val_loss: 0.1432 - val_acc: 0.9577\n",
      "Epoch 39/250\n",
      "48000/48000 [==============================] - 2s - loss: 0.2091 - acc: 0.9387 - val_loss: 0.1422 - val_acc: 0.9576\n",
      "Epoch 40/250\n",
      "48000/48000 [==============================] - 2s - loss: 0.2042 - acc: 0.9392 - val_loss: 0.1410 - val_acc: 0.9582\n",
      "Epoch 41/250\n",
      "48000/48000 [==============================] - 2s - loss: 0.2027 - acc: 0.9398 - val_loss: 0.1396 - val_acc: 0.9583\n",
      "Epoch 42/250\n",
      "48000/48000 [==============================] - 2s - loss: 0.1985 - acc: 0.9417 - val_loss: 0.1367 - val_acc: 0.9594\n",
      "Epoch 43/250\n",
      "48000/48000 [==============================] - 2s - loss: 0.2002 - acc: 0.9408 - val_loss: 0.1349 - val_acc: 0.9606\n",
      "Epoch 44/250\n",
      "48000/48000 [==============================] - 2s - loss: 0.1953 - acc: 0.9421 - val_loss: 0.1337 - val_acc: 0.9604\n",
      "Epoch 45/250\n",
      "48000/48000 [==============================] - 2s - loss: 0.1920 - acc: 0.9432 - val_loss: 0.1332 - val_acc: 0.9601\n",
      "Epoch 46/250\n",
      "48000/48000 [==============================] - 2s - loss: 0.1901 - acc: 0.9444 - val_loss: 0.1316 - val_acc: 0.9617\n",
      "Epoch 47/250\n",
      "48000/48000 [==============================] - 2s - loss: 0.1876 - acc: 0.9448 - val_loss: 0.1299 - val_acc: 0.9613\n",
      "Epoch 48/250\n",
      "48000/48000 [==============================] - 2s - loss: 0.1867 - acc: 0.9444 - val_loss: 0.1300 - val_acc: 0.9620\n",
      "Epoch 49/250\n",
      "48000/48000 [==============================] - 2s - loss: 0.1865 - acc: 0.9451 - val_loss: 0.1282 - val_acc: 0.9614\n",
      "Epoch 50/250\n",
      "48000/48000 [==============================] - 2s - loss: 0.1803 - acc: 0.9462 - val_loss: 0.1267 - val_acc: 0.9623\n",
      "Epoch 51/250\n",
      "48000/48000 [==============================] - 2s - loss: 0.1822 - acc: 0.9466 - val_loss: 0.1254 - val_acc: 0.9633\n",
      "Epoch 52/250\n",
      "48000/48000 [==============================] - 2s - loss: 0.1794 - acc: 0.9459 - val_loss: 0.1244 - val_acc: 0.9634\n",
      "Epoch 53/250\n",
      "48000/48000 [==============================] - 2s - loss: 0.1752 - acc: 0.9480 - val_loss: 0.1233 - val_acc: 0.9634\n",
      "Epoch 54/250\n",
      "48000/48000 [==============================] - 2s - loss: 0.1738 - acc: 0.9478 - val_loss: 0.1220 - val_acc: 0.9637\n",
      "Epoch 55/250\n",
      "48000/48000 [==============================] - 2s - loss: 0.1736 - acc: 0.9491 - val_loss: 0.1208 - val_acc: 0.9647\n",
      "Epoch 56/250\n",
      "48000/48000 [==============================] - 2s - loss: 0.1719 - acc: 0.9484 - val_loss: 0.1208 - val_acc: 0.9638\n",
      "Epoch 57/250\n",
      "48000/48000 [==============================] - 2s - loss: 0.1692 - acc: 0.9503 - val_loss: 0.1188 - val_acc: 0.9650\n",
      "Epoch 58/250\n",
      "48000/48000 [==============================] - 2s - loss: 0.1663 - acc: 0.9509 - val_loss: 0.1187 - val_acc: 0.9651\n",
      "Epoch 59/250\n",
      "48000/48000 [==============================] - 2s - loss: 0.1682 - acc: 0.9500 - val_loss: 0.1172 - val_acc: 0.9653\n",
      "Epoch 60/250\n",
      "48000/48000 [==============================] - 2s - loss: 0.1647 - acc: 0.9515 - val_loss: 0.1166 - val_acc: 0.9652\n",
      "Epoch 61/250\n",
      "48000/48000 [==============================] - 3s - loss: 0.1614 - acc: 0.9523 - val_loss: 0.1156 - val_acc: 0.9657\n",
      "Epoch 62/250\n",
      "48000/48000 [==============================] - 2s - loss: 0.1592 - acc: 0.9525 - val_loss: 0.1149 - val_acc: 0.9657\n",
      "Epoch 63/250\n",
      "48000/48000 [==============================] - 2s - loss: 0.1587 - acc: 0.9532 - val_loss: 0.1142 - val_acc: 0.9657\n",
      "Epoch 64/250\n",
      "48000/48000 [==============================] - 2s - loss: 0.1564 - acc: 0.9529 - val_loss: 0.1125 - val_acc: 0.9667\n",
      "Epoch 65/250\n",
      "48000/48000 [==============================] - 2s - loss: 0.1560 - acc: 0.9541 - val_loss: 0.1128 - val_acc: 0.9668\n",
      "Epoch 66/250\n",
      "48000/48000 [==============================] - 2s - loss: 0.1572 - acc: 0.9534 - val_loss: 0.1119 - val_acc: 0.9662\n",
      "Epoch 67/250\n",
      "48000/48000 [==============================] - 2s - loss: 0.1554 - acc: 0.9547 - val_loss: 0.1105 - val_acc: 0.9668\n",
      "Epoch 68/250\n",
      "48000/48000 [==============================] - 2s - loss: 0.1525 - acc: 0.9542 - val_loss: 0.1102 - val_acc: 0.9671\n",
      "Epoch 69/250\n",
      "48000/48000 [==============================] - 2s - loss: 0.1523 - acc: 0.9552 - val_loss: 0.1088 - val_acc: 0.9675\n",
      "Epoch 70/250\n",
      "48000/48000 [==============================] - 2s - loss: 0.1502 - acc: 0.9552 - val_loss: 0.1086 - val_acc: 0.9677\n",
      "Epoch 71/250\n",
      "48000/48000 [==============================] - 2s - loss: 0.1478 - acc: 0.9565 - val_loss: 0.1082 - val_acc: 0.9679\n",
      "Epoch 72/250\n",
      "48000/48000 [==============================] - 2s - loss: 0.1450 - acc: 0.9565 - val_loss: 0.1072 - val_acc: 0.9687\n",
      "Epoch 73/250\n",
      "48000/48000 [==============================] - 2s - loss: 0.1462 - acc: 0.9568 - val_loss: 0.1068 - val_acc: 0.9678\n",
      "Epoch 74/250\n",
      "48000/48000 [==============================] - 2s - loss: 0.1439 - acc: 0.9582 - val_loss: 0.1067 - val_acc: 0.9682\n",
      "Epoch 75/250\n",
      "48000/48000 [==============================] - 2s - loss: 0.1447 - acc: 0.9566 - val_loss: 0.1059 - val_acc: 0.9682\n",
      "Epoch 76/250\n",
      "48000/48000 [==============================] - 2s - loss: 0.1414 - acc: 0.9579 - val_loss: 0.1059 - val_acc: 0.9684\n",
      "Epoch 77/250\n",
      "48000/48000 [==============================] - 2s - loss: 0.1421 - acc: 0.9580 - val_loss: 0.1055 - val_acc: 0.9682\n",
      "Epoch 78/250\n",
      "48000/48000 [==============================] - 2s - loss: 0.1398 - acc: 0.9589 - val_loss: 0.1044 - val_acc: 0.9692\n",
      "Epoch 79/250\n",
      "48000/48000 [==============================] - 2s - loss: 0.1415 - acc: 0.9572 - val_loss: 0.1041 - val_acc: 0.9687\n",
      "Epoch 80/250\n",
      "48000/48000 [==============================] - 2s - loss: 0.1393 - acc: 0.9596 - val_loss: 0.1033 - val_acc: 0.9687\n",
      "Epoch 81/250\n",
      "48000/48000 [==============================] - 2s - loss: 0.1370 - acc: 0.9591 - val_loss: 0.1035 - val_acc: 0.9688\n",
      "Epoch 82/250\n",
      "48000/48000 [==============================] - 2s - loss: 0.1365 - acc: 0.9579 - val_loss: 0.1031 - val_acc: 0.9690\n",
      "Epoch 83/250\n",
      "48000/48000 [==============================] - 2s - loss: 0.1344 - acc: 0.9596 - val_loss: 0.1020 - val_acc: 0.9695\n",
      "Epoch 84/250\n",
      "48000/48000 [==============================] - 2s - loss: 0.1338 - acc: 0.9602 - val_loss: 0.1014 - val_acc: 0.9694\n",
      "Epoch 85/250\n",
      "48000/48000 [==============================] - 2s - loss: 0.1337 - acc: 0.9602 - val_loss: 0.1015 - val_acc: 0.9697\n",
      "Epoch 86/250\n",
      "48000/48000 [==============================] - 2s - loss: 0.1346 - acc: 0.9601 - val_loss: 0.1005 - val_acc: 0.9697\n",
      "Epoch 87/250\n",
      "48000/48000 [==============================] - 2s - loss: 0.1305 - acc: 0.9607 - val_loss: 0.1003 - val_acc: 0.9705\n",
      "Epoch 88/250\n",
      "48000/48000 [==============================] - 2s - loss: 0.1321 - acc: 0.9595 - val_loss: 0.1000 - val_acc: 0.9696\n",
      "Epoch 89/250\n",
      "48000/48000 [==============================] - 2s - loss: 0.1304 - acc: 0.9608 - val_loss: 0.0991 - val_acc: 0.9701\n",
      "Epoch 90/250\n",
      "48000/48000 [==============================] - 2s - loss: 0.1321 - acc: 0.9603 - val_loss: 0.0987 - val_acc: 0.9704\n",
      "Epoch 91/250\n",
      "48000/48000 [==============================] - 2s - loss: 0.1286 - acc: 0.9621 - val_loss: 0.0982 - val_acc: 0.9707\n",
      "Epoch 92/250\n",
      "48000/48000 [==============================] - 2s - loss: 0.1318 - acc: 0.9599 - val_loss: 0.0986 - val_acc: 0.9715\n",
      "Epoch 93/250\n",
      "48000/48000 [==============================] - 2s - loss: 0.1285 - acc: 0.9614 - val_loss: 0.0977 - val_acc: 0.9709\n",
      "Epoch 94/250\n",
      "48000/48000 [==============================] - 2s - loss: 0.1249 - acc: 0.9622 - val_loss: 0.0974 - val_acc: 0.9711\n",
      "Epoch 95/250\n",
      "48000/48000 [==============================] - 2s - loss: 0.1265 - acc: 0.9625 - val_loss: 0.0974 - val_acc: 0.9713\n",
      "Epoch 96/250\n",
      "48000/48000 [==============================] - 2s - loss: 0.1239 - acc: 0.9624 - val_loss: 0.0969 - val_acc: 0.9716\n",
      "Epoch 97/250\n",
      "48000/48000 [==============================] - 2s - loss: 0.1240 - acc: 0.9622 - val_loss: 0.0960 - val_acc: 0.9711\n",
      "Epoch 98/250\n",
      "48000/48000 [==============================] - 2s - loss: 0.1235 - acc: 0.9631 - val_loss: 0.0965 - val_acc: 0.9718\n",
      "Epoch 99/250\n",
      "48000/48000 [==============================] - 2s - loss: 0.1217 - acc: 0.9642 - val_loss: 0.0957 - val_acc: 0.9720\n",
      "Epoch 100/250\n",
      "48000/48000 [==============================] - 2s - loss: 0.1211 - acc: 0.9634 - val_loss: 0.0956 - val_acc: 0.9722\n",
      "Epoch 101/250\n",
      "48000/48000 [==============================] - 2s - loss: 0.1227 - acc: 0.9632 - val_loss: 0.0960 - val_acc: 0.9722\n",
      "Epoch 102/250\n",
      "48000/48000 [==============================] - 2s - loss: 0.1215 - acc: 0.9641 - val_loss: 0.0947 - val_acc: 0.9722\n",
      "Epoch 103/250\n",
      "48000/48000 [==============================] - 2s - loss: 0.1193 - acc: 0.9646 - val_loss: 0.0950 - val_acc: 0.9721\n",
      "Epoch 104/250\n",
      "48000/48000 [==============================] - 2s - loss: 0.1177 - acc: 0.9647 - val_loss: 0.0942 - val_acc: 0.9720\n",
      "Epoch 105/250\n",
      "48000/48000 [==============================] - 2s - loss: 0.1164 - acc: 0.9655 - val_loss: 0.0942 - val_acc: 0.9727\n",
      "Epoch 106/250\n",
      "48000/48000 [==============================] - 2s - loss: 0.1170 - acc: 0.9651 - val_loss: 0.0939 - val_acc: 0.9725\n",
      "Epoch 107/250\n",
      "48000/48000 [==============================] - 2s - loss: 0.1169 - acc: 0.9648 - val_loss: 0.0940 - val_acc: 0.9730\n",
      "Epoch 108/250\n",
      "48000/48000 [==============================] - 2s - loss: 0.1139 - acc: 0.9664 - val_loss: 0.0933 - val_acc: 0.9725\n",
      "Epoch 109/250\n",
      "48000/48000 [==============================] - 2s - loss: 0.1146 - acc: 0.9658 - val_loss: 0.0933 - val_acc: 0.9732\n",
      "Epoch 110/250\n",
      "48000/48000 [==============================] - 2s - loss: 0.1141 - acc: 0.9658 - val_loss: 0.0927 - val_acc: 0.9728\n",
      "Epoch 111/250\n",
      "48000/48000 [==============================] - 2s - loss: 0.1147 - acc: 0.9658 - val_loss: 0.0927 - val_acc: 0.9723\n",
      "Epoch 112/250\n",
      "48000/48000 [==============================] - 2s - loss: 0.1116 - acc: 0.9661 - val_loss: 0.0917 - val_acc: 0.9737\n",
      "Epoch 113/250\n",
      "48000/48000 [==============================] - 2s - loss: 0.1126 - acc: 0.9658 - val_loss: 0.0921 - val_acc: 0.9730\n",
      "Epoch 114/250\n",
      "48000/48000 [==============================] - 2s - loss: 0.1145 - acc: 0.9655 - val_loss: 0.0914 - val_acc: 0.9736\n",
      "Epoch 115/250\n",
      "48000/48000 [==============================] - 2s - loss: 0.1113 - acc: 0.9662 - val_loss: 0.0913 - val_acc: 0.9742\n",
      "Epoch 116/250\n",
      "48000/48000 [==============================] - 2s - loss: 0.1087 - acc: 0.9674 - val_loss: 0.0911 - val_acc: 0.9738\n",
      "Epoch 117/250\n",
      "48000/48000 [==============================] - 2s - loss: 0.1116 - acc: 0.9663 - val_loss: 0.0912 - val_acc: 0.9736\n",
      "Epoch 118/250\n",
      "48000/48000 [==============================] - 2s - loss: 0.1087 - acc: 0.9672 - val_loss: 0.0907 - val_acc: 0.9739\n",
      "Epoch 119/250\n",
      "48000/48000 [==============================] - 2s - loss: 0.1117 - acc: 0.9660 - val_loss: 0.0910 - val_acc: 0.9741\n",
      "Epoch 120/250\n",
      "48000/48000 [==============================] - 2s - loss: 0.1071 - acc: 0.9677 - val_loss: 0.0901 - val_acc: 0.9743\n",
      "Epoch 121/250\n",
      "48000/48000 [==============================] - 2s - loss: 0.1084 - acc: 0.9670 - val_loss: 0.0904 - val_acc: 0.9742\n",
      "Epoch 122/250\n",
      "48000/48000 [==============================] - 2s - loss: 0.1074 - acc: 0.9673 - val_loss: 0.0895 - val_acc: 0.9747\n",
      "Epoch 123/250\n",
      "48000/48000 [==============================] - 2s - loss: 0.1043 - acc: 0.9680 - val_loss: 0.0891 - val_acc: 0.9747\n",
      "Epoch 124/250\n",
      "48000/48000 [==============================] - 2s - loss: 0.1047 - acc: 0.9684 - val_loss: 0.0894 - val_acc: 0.9746\n",
      "Epoch 125/250\n",
      "48000/48000 [==============================] - 2s - loss: 0.1043 - acc: 0.9690 - val_loss: 0.0892 - val_acc: 0.9745\n",
      "Epoch 126/250\n",
      "48000/48000 [==============================] - 2s - loss: 0.1035 - acc: 0.9687 - val_loss: 0.0888 - val_acc: 0.9745\n",
      "Epoch 127/250\n"
     ]
    },
    {
     "name": "stdout",
     "output_type": "stream",
     "text": [
      "48000/48000 [==============================] - 2s - loss: 0.1033 - acc: 0.9685 - val_loss: 0.0889 - val_acc: 0.9748\n",
      "Epoch 128/250\n",
      "48000/48000 [==============================] - 2s - loss: 0.1043 - acc: 0.9687 - val_loss: 0.0884 - val_acc: 0.9750\n",
      "Epoch 129/250\n",
      "48000/48000 [==============================] - 2s - loss: 0.1050 - acc: 0.9676 - val_loss: 0.0883 - val_acc: 0.9752\n",
      "Epoch 130/250\n",
      "48000/48000 [==============================] - 2s - loss: 0.1039 - acc: 0.9690 - val_loss: 0.0882 - val_acc: 0.9752\n",
      "Epoch 131/250\n",
      "48000/48000 [==============================] - 2s - loss: 0.1025 - acc: 0.9691 - val_loss: 0.0876 - val_acc: 0.9752\n",
      "Epoch 132/250\n",
      "48000/48000 [==============================] - 2s - loss: 0.0999 - acc: 0.9703 - val_loss: 0.0879 - val_acc: 0.9750\n",
      "Epoch 133/250\n",
      "48000/48000 [==============================] - 2s - loss: 0.1009 - acc: 0.9686 - val_loss: 0.0877 - val_acc: 0.9753\n",
      "Epoch 134/250\n",
      "48000/48000 [==============================] - 2s - loss: 0.0989 - acc: 0.9688 - val_loss: 0.0877 - val_acc: 0.9750\n",
      "Epoch 135/250\n",
      "48000/48000 [==============================] - 2s - loss: 0.1008 - acc: 0.9693 - val_loss: 0.0879 - val_acc: 0.9748\n",
      "Epoch 136/250\n",
      "48000/48000 [==============================] - 2s - loss: 0.1001 - acc: 0.9704 - val_loss: 0.0875 - val_acc: 0.9752\n",
      "Epoch 137/250\n",
      "48000/48000 [==============================] - 2s - loss: 0.0996 - acc: 0.9694 - val_loss: 0.0878 - val_acc: 0.9757\n",
      "Epoch 138/250\n",
      "48000/48000 [==============================] - 2s - loss: 0.1003 - acc: 0.9690 - val_loss: 0.0874 - val_acc: 0.9754\n",
      "Epoch 139/250\n",
      "48000/48000 [==============================] - 2s - loss: 0.0975 - acc: 0.9704 - val_loss: 0.0873 - val_acc: 0.9753\n",
      "Epoch 140/250\n",
      "48000/48000 [==============================] - 2s - loss: 0.0965 - acc: 0.9707 - val_loss: 0.0869 - val_acc: 0.9759\n",
      "Epoch 141/250\n",
      "48000/48000 [==============================] - 2s - loss: 0.0971 - acc: 0.9699 - val_loss: 0.0867 - val_acc: 0.9761\n",
      "Epoch 142/250\n",
      "48000/48000 [==============================] - 2s - loss: 0.0952 - acc: 0.9707 - val_loss: 0.0864 - val_acc: 0.9762\n",
      "Epoch 143/250\n",
      "48000/48000 [==============================] - 2s - loss: 0.0969 - acc: 0.9703 - val_loss: 0.0867 - val_acc: 0.9759\n",
      "Epoch 144/250\n",
      "48000/48000 [==============================] - 2s - loss: 0.0945 - acc: 0.9713 - val_loss: 0.0864 - val_acc: 0.9759\n",
      "Epoch 145/250\n",
      "48000/48000 [==============================] - 2s - loss: 0.0961 - acc: 0.9708 - val_loss: 0.0858 - val_acc: 0.9757\n",
      "Epoch 146/250\n",
      "48000/48000 [==============================] - 2s - loss: 0.0939 - acc: 0.9720 - val_loss: 0.0863 - val_acc: 0.9755\n",
      "Epoch 147/250\n",
      "48000/48000 [==============================] - 2s - loss: 0.0936 - acc: 0.9714 - val_loss: 0.0865 - val_acc: 0.9761\n",
      "Epoch 148/250\n",
      "48000/48000 [==============================] - 2s - loss: 0.0949 - acc: 0.9710 - val_loss: 0.0860 - val_acc: 0.9757\n",
      "Epoch 149/250\n",
      "48000/48000 [==============================] - 2s - loss: 0.0925 - acc: 0.9719 - val_loss: 0.0855 - val_acc: 0.9757\n",
      "Epoch 150/250\n",
      "48000/48000 [==============================] - 2s - loss: 0.0917 - acc: 0.9720 - val_loss: 0.0861 - val_acc: 0.9757\n",
      "Epoch 151/250\n",
      "48000/48000 [==============================] - 2s - loss: 0.0942 - acc: 0.9717 - val_loss: 0.0856 - val_acc: 0.9760\n",
      "Epoch 152/250\n",
      "48000/48000 [==============================] - 2s - loss: 0.0923 - acc: 0.9723 - val_loss: 0.0852 - val_acc: 0.9764\n",
      "Epoch 153/250\n",
      "48000/48000 [==============================] - 2s - loss: 0.0892 - acc: 0.9723 - val_loss: 0.0852 - val_acc: 0.9763\n",
      "Epoch 154/250\n",
      "48000/48000 [==============================] - 2s - loss: 0.0916 - acc: 0.9722 - val_loss: 0.0854 - val_acc: 0.9761\n",
      "Epoch 155/250\n",
      "48000/48000 [==============================] - 2s - loss: 0.0909 - acc: 0.9727 - val_loss: 0.0850 - val_acc: 0.9760\n",
      "Epoch 156/250\n",
      "48000/48000 [==============================] - 2s - loss: 0.0911 - acc: 0.9726 - val_loss: 0.0848 - val_acc: 0.9757\n",
      "Epoch 157/250\n",
      "48000/48000 [==============================] - 2s - loss: 0.0901 - acc: 0.9731 - val_loss: 0.0849 - val_acc: 0.9760\n",
      "Epoch 158/250\n",
      "48000/48000 [==============================] - 2s - loss: 0.0886 - acc: 0.9729 - val_loss: 0.0854 - val_acc: 0.9761\n",
      "Epoch 159/250\n",
      "48000/48000 [==============================] - 2s - loss: 0.0877 - acc: 0.9728 - val_loss: 0.0845 - val_acc: 0.9765\n",
      "Epoch 160/250\n",
      "48000/48000 [==============================] - 2s - loss: 0.0894 - acc: 0.9728 - val_loss: 0.0848 - val_acc: 0.9765\n",
      "Epoch 161/250\n",
      "48000/48000 [==============================] - 2s - loss: 0.0888 - acc: 0.9728 - val_loss: 0.0841 - val_acc: 0.9767\n",
      "Epoch 162/250\n",
      "48000/48000 [==============================] - 2s - loss: 0.0885 - acc: 0.9734 - val_loss: 0.0842 - val_acc: 0.9764\n",
      "Epoch 163/250\n",
      "48000/48000 [==============================] - 2s - loss: 0.0870 - acc: 0.9733 - val_loss: 0.0846 - val_acc: 0.9763\n",
      "Epoch 164/250\n",
      "48000/48000 [==============================] - 2s - loss: 0.0878 - acc: 0.9731 - val_loss: 0.0841 - val_acc: 0.9766\n",
      "Epoch 165/250\n",
      "48000/48000 [==============================] - 2s - loss: 0.0860 - acc: 0.9734 - val_loss: 0.0839 - val_acc: 0.9763\n",
      "Epoch 166/250\n",
      "48000/48000 [==============================] - 2s - loss: 0.0862 - acc: 0.9730 - val_loss: 0.0847 - val_acc: 0.9763\n",
      "Epoch 167/250\n",
      "48000/48000 [==============================] - 2s - loss: 0.0857 - acc: 0.9738 - val_loss: 0.0845 - val_acc: 0.9762\n",
      "Epoch 168/250\n",
      "48000/48000 [==============================] - 2s - loss: 0.0838 - acc: 0.9747 - val_loss: 0.0842 - val_acc: 0.9759\n",
      "Epoch 169/250\n",
      "48000/48000 [==============================] - 2s - loss: 0.0853 - acc: 0.9741 - val_loss: 0.0838 - val_acc: 0.9762\n",
      "Epoch 170/250\n",
      "48000/48000 [==============================] - 2s - loss: 0.0872 - acc: 0.9735 - val_loss: 0.0833 - val_acc: 0.9766\n",
      "Epoch 171/250\n",
      "48000/48000 [==============================] - 2s - loss: 0.0854 - acc: 0.9738 - val_loss: 0.0831 - val_acc: 0.9765\n",
      "Epoch 172/250\n",
      "48000/48000 [==============================] - 2s - loss: 0.0845 - acc: 0.9738 - val_loss: 0.0832 - val_acc: 0.9763\n",
      "Epoch 173/250\n",
      "48000/48000 [==============================] - 2s - loss: 0.0858 - acc: 0.9740 - val_loss: 0.0839 - val_acc: 0.9762\n",
      "Epoch 174/250\n",
      "48000/48000 [==============================] - 2s - loss: 0.0826 - acc: 0.9748 - val_loss: 0.0832 - val_acc: 0.9763\n",
      "Epoch 175/250\n",
      "48000/48000 [==============================] - 2s - loss: 0.0857 - acc: 0.9733 - val_loss: 0.0836 - val_acc: 0.9765\n",
      "Epoch 176/250\n",
      "48000/48000 [==============================] - 2s - loss: 0.0807 - acc: 0.9752 - val_loss: 0.0837 - val_acc: 0.9765\n",
      "Epoch 177/250\n",
      "48000/48000 [==============================] - 2s - loss: 0.0823 - acc: 0.9751 - val_loss: 0.0828 - val_acc: 0.9769\n",
      "Epoch 178/250\n",
      "48000/48000 [==============================] - 2s - loss: 0.0825 - acc: 0.9747 - val_loss: 0.0827 - val_acc: 0.9769\n",
      "Epoch 179/250\n",
      "48000/48000 [==============================] - 2s - loss: 0.0812 - acc: 0.9751 - val_loss: 0.0822 - val_acc: 0.9765\n",
      "Epoch 180/250\n",
      "48000/48000 [==============================] - 2s - loss: 0.0835 - acc: 0.9739 - val_loss: 0.0830 - val_acc: 0.9768\n",
      "Epoch 181/250\n",
      "48000/48000 [==============================] - 2s - loss: 0.0812 - acc: 0.9749 - val_loss: 0.0818 - val_acc: 0.9769\n",
      "Epoch 182/250\n",
      "48000/48000 [==============================] - 2s - loss: 0.0784 - acc: 0.9757 - val_loss: 0.0825 - val_acc: 0.9769\n",
      "Epoch 183/250\n",
      "48000/48000 [==============================] - 2s - loss: 0.0803 - acc: 0.9759 - val_loss: 0.0824 - val_acc: 0.9769\n",
      "Epoch 184/250\n",
      "48000/48000 [==============================] - 2s - loss: 0.0808 - acc: 0.9750 - val_loss: 0.0818 - val_acc: 0.9767\n",
      "Epoch 185/250\n",
      "48000/48000 [==============================] - 2s - loss: 0.0792 - acc: 0.9755 - val_loss: 0.0821 - val_acc: 0.9764\n",
      "Epoch 186/250\n",
      "48000/48000 [==============================] - 2s - loss: 0.0807 - acc: 0.9757 - val_loss: 0.0824 - val_acc: 0.9769\n",
      "Epoch 187/250\n",
      "48000/48000 [==============================] - 2s - loss: 0.0785 - acc: 0.9756 - val_loss: 0.0820 - val_acc: 0.9764\n",
      "Epoch 188/250\n",
      "48000/48000 [==============================] - 2s - loss: 0.0796 - acc: 0.9753 - val_loss: 0.0813 - val_acc: 0.9769\n",
      "Epoch 189/250\n",
      "48000/48000 [==============================] - 2s - loss: 0.0774 - acc: 0.9757 - val_loss: 0.0820 - val_acc: 0.9767\n",
      "Epoch 190/250\n",
      "48000/48000 [==============================] - 2s - loss: 0.0776 - acc: 0.9760 - val_loss: 0.0821 - val_acc: 0.9767\n",
      "Epoch 191/250\n",
      "48000/48000 [==============================] - 2s - loss: 0.0781 - acc: 0.9767 - val_loss: 0.0821 - val_acc: 0.9767\n",
      "Epoch 192/250\n",
      "48000/48000 [==============================] - 2s - loss: 0.0797 - acc: 0.9758 - val_loss: 0.0821 - val_acc: 0.9771\n",
      "Epoch 193/250\n",
      "48000/48000 [==============================] - 2s - loss: 0.0775 - acc: 0.9761 - val_loss: 0.0817 - val_acc: 0.9770\n",
      "Epoch 194/250\n",
      "48000/48000 [==============================] - 2s - loss: 0.0781 - acc: 0.9761 - val_loss: 0.0818 - val_acc: 0.9771\n",
      "Epoch 195/250\n",
      "48000/48000 [==============================] - 2s - loss: 0.0768 - acc: 0.9762 - val_loss: 0.0820 - val_acc: 0.9764\n",
      "Epoch 196/250\n",
      "48000/48000 [==============================] - 2s - loss: 0.0742 - acc: 0.9770 - val_loss: 0.0818 - val_acc: 0.9765\n",
      "Epoch 197/250\n",
      "48000/48000 [==============================] - 2s - loss: 0.0770 - acc: 0.9757 - val_loss: 0.0816 - val_acc: 0.9766\n",
      "Epoch 198/250\n",
      "48000/48000 [==============================] - 2s - loss: 0.0749 - acc: 0.9767 - val_loss: 0.0814 - val_acc: 0.9770\n",
      "Epoch 199/250\n",
      "48000/48000 [==============================] - 2s - loss: 0.0750 - acc: 0.9771 - val_loss: 0.0810 - val_acc: 0.9770\n",
      "Epoch 200/250\n",
      "48000/48000 [==============================] - 2s - loss: 0.0743 - acc: 0.9767 - val_loss: 0.0809 - val_acc: 0.9767\n",
      "Epoch 201/250\n",
      "48000/48000 [==============================] - 2s - loss: 0.0746 - acc: 0.9765 - val_loss: 0.0814 - val_acc: 0.9768\n",
      "Epoch 202/250\n",
      "48000/48000 [==============================] - 2s - loss: 0.0781 - acc: 0.9762 - val_loss: 0.0811 - val_acc: 0.9775\n",
      "Epoch 203/250\n",
      "48000/48000 [==============================] - 2s - loss: 0.0748 - acc: 0.9772 - val_loss: 0.0810 - val_acc: 0.9770\n",
      "Epoch 204/250\n",
      "48000/48000 [==============================] - 2s - loss: 0.0719 - acc: 0.9774 - val_loss: 0.0810 - val_acc: 0.9769\n",
      "Epoch 205/250\n",
      "48000/48000 [==============================] - 2s - loss: 0.0753 - acc: 0.9768 - val_loss: 0.0813 - val_acc: 0.9774\n",
      "Epoch 206/250\n",
      "48000/48000 [==============================] - 2s - loss: 0.0731 - acc: 0.9773 - val_loss: 0.0812 - val_acc: 0.9772\n",
      "Epoch 207/250\n",
      "48000/48000 [==============================] - 2s - loss: 0.0724 - acc: 0.9773 - val_loss: 0.0811 - val_acc: 0.9766\n",
      "Epoch 208/250\n",
      "48000/48000 [==============================] - 2s - loss: 0.0726 - acc: 0.9770 - val_loss: 0.0813 - val_acc: 0.9771\n",
      "Epoch 209/250\n",
      "48000/48000 [==============================] - 2s - loss: 0.0732 - acc: 0.9776 - val_loss: 0.0813 - val_acc: 0.9767\n",
      "Epoch 210/250\n",
      "48000/48000 [==============================] - 2s - loss: 0.0710 - acc: 0.9779 - val_loss: 0.0815 - val_acc: 0.9766\n",
      "Epoch 211/250\n",
      "48000/48000 [==============================] - 2s - loss: 0.0734 - acc: 0.9766 - val_loss: 0.0819 - val_acc: 0.9771\n",
      "Epoch 212/250\n",
      "48000/48000 [==============================] - 2s - loss: 0.0739 - acc: 0.9772 - val_loss: 0.0815 - val_acc: 0.9770\n",
      "Epoch 213/250\n",
      "48000/48000 [==============================] - 2s - loss: 0.0724 - acc: 0.9779 - val_loss: 0.0808 - val_acc: 0.9777\n",
      "Epoch 214/250\n",
      "48000/48000 [==============================] - 2s - loss: 0.0722 - acc: 0.9780 - val_loss: 0.0810 - val_acc: 0.9777\n",
      "Epoch 215/250\n",
      "48000/48000 [==============================] - 2s - loss: 0.0706 - acc: 0.9784 - val_loss: 0.0808 - val_acc: 0.9773\n",
      "Epoch 216/250\n",
      "48000/48000 [==============================] - 2s - loss: 0.0707 - acc: 0.9776 - val_loss: 0.0809 - val_acc: 0.9771\n",
      "Epoch 217/250\n",
      "48000/48000 [==============================] - 2s - loss: 0.0708 - acc: 0.9783 - val_loss: 0.0806 - val_acc: 0.9772\n",
      "Epoch 218/250\n",
      "48000/48000 [==============================] - 2s - loss: 0.0686 - acc: 0.9786 - val_loss: 0.0809 - val_acc: 0.9771\n",
      "Epoch 219/250\n",
      "48000/48000 [==============================] - 2s - loss: 0.0707 - acc: 0.9780 - val_loss: 0.0801 - val_acc: 0.9771\n",
      "Epoch 220/250\n",
      "48000/48000 [==============================] - 2s - loss: 0.0690 - acc: 0.9790 - val_loss: 0.0803 - val_acc: 0.9772\n",
      "Epoch 221/250\n",
      "48000/48000 [==============================] - 2s - loss: 0.0706 - acc: 0.9778 - val_loss: 0.0811 - val_acc: 0.9770\n",
      "Epoch 222/250\n",
      "48000/48000 [==============================] - 2s - loss: 0.0687 - acc: 0.9786 - val_loss: 0.0808 - val_acc: 0.9769\n",
      "Epoch 223/250\n",
      "48000/48000 [==============================] - 2s - loss: 0.0707 - acc: 0.9775 - val_loss: 0.0806 - val_acc: 0.9772\n",
      "Epoch 224/250\n",
      "48000/48000 [==============================] - 2s - loss: 0.0699 - acc: 0.9790 - val_loss: 0.0803 - val_acc: 0.9776\n",
      "Epoch 225/250\n",
      "48000/48000 [==============================] - 2s - loss: 0.0674 - acc: 0.9790 - val_loss: 0.0806 - val_acc: 0.9777\n",
      "Epoch 226/250\n",
      "48000/48000 [==============================] - 2s - loss: 0.0684 - acc: 0.9788 - val_loss: 0.0804 - val_acc: 0.9772\n",
      "Epoch 227/250\n",
      "48000/48000 [==============================] - 2s - loss: 0.0668 - acc: 0.9790 - val_loss: 0.0807 - val_acc: 0.9771\n",
      "Epoch 228/250\n",
      "48000/48000 [==============================] - 2s - loss: 0.0693 - acc: 0.9787 - val_loss: 0.0806 - val_acc: 0.9770\n",
      "Epoch 229/250\n",
      "48000/48000 [==============================] - 2s - loss: 0.0687 - acc: 0.9783 - val_loss: 0.0805 - val_acc: 0.9773\n",
      "Epoch 230/250\n",
      "48000/48000 [==============================] - 2s - loss: 0.0684 - acc: 0.9786 - val_loss: 0.0801 - val_acc: 0.9768\n",
      "Epoch 231/250\n",
      "48000/48000 [==============================] - 2s - loss: 0.0672 - acc: 0.9795 - val_loss: 0.0799 - val_acc: 0.9773\n",
      "Epoch 232/250\n",
      "48000/48000 [==============================] - 2s - loss: 0.0681 - acc: 0.9787 - val_loss: 0.0801 - val_acc: 0.9772\n",
      "Epoch 233/250\n",
      "48000/48000 [==============================] - 2s - loss: 0.0648 - acc: 0.9796 - val_loss: 0.0804 - val_acc: 0.9773\n",
      "Epoch 234/250\n",
      "48000/48000 [==============================] - 2s - loss: 0.0679 - acc: 0.9783 - val_loss: 0.0801 - val_acc: 0.9777\n",
      "Epoch 235/250\n",
      "48000/48000 [==============================] - 2s - loss: 0.0664 - acc: 0.9792 - val_loss: 0.0794 - val_acc: 0.9775\n",
      "Epoch 236/250\n",
      "48000/48000 [==============================] - 2s - loss: 0.0686 - acc: 0.9785 - val_loss: 0.0794 - val_acc: 0.9774\n",
      "Epoch 237/250\n",
      "48000/48000 [==============================] - 2s - loss: 0.0650 - acc: 0.9796 - val_loss: 0.0800 - val_acc: 0.9776\n",
      "Epoch 238/250\n",
      "48000/48000 [==============================] - 2s - loss: 0.0666 - acc: 0.9794 - val_loss: 0.0804 - val_acc: 0.9776\n",
      "Epoch 239/250\n",
      "48000/48000 [==============================] - 2s - loss: 0.0669 - acc: 0.9792 - val_loss: 0.0807 - val_acc: 0.9778\n",
      "Epoch 240/250\n",
      "48000/48000 [==============================] - 2s - loss: 0.0688 - acc: 0.9787 - val_loss: 0.0803 - val_acc: 0.9775\n",
      "Epoch 241/250\n",
      "48000/48000 [==============================] - 2s - loss: 0.0648 - acc: 0.9799 - val_loss: 0.0805 - val_acc: 0.9773\n",
      "Epoch 242/250\n",
      "48000/48000 [==============================] - 3s - loss: 0.0656 - acc: 0.9790 - val_loss: 0.0797 - val_acc: 0.9777\n",
      "Epoch 243/250\n",
      "48000/48000 [==============================] - 2s - loss: 0.0658 - acc: 0.9791 - val_loss: 0.0795 - val_acc: 0.9778\n",
      "Epoch 244/250\n",
      "48000/48000 [==============================] - 2s - loss: 0.0656 - acc: 0.9796 - val_loss: 0.0797 - val_acc: 0.9778\n",
      "Epoch 245/250\n",
      "48000/48000 [==============================] - 2s - loss: 0.0635 - acc: 0.9803 - val_loss: 0.0798 - val_acc: 0.9776\n",
      "Epoch 246/250\n",
      "48000/48000 [==============================] - 2s - loss: 0.0629 - acc: 0.9803 - val_loss: 0.0809 - val_acc: 0.9770\n",
      "Epoch 247/250\n",
      "48000/48000 [==============================] - 2s - loss: 0.0621 - acc: 0.9803 - val_loss: 0.0800 - val_acc: 0.9776\n",
      "Epoch 248/250\n",
      "48000/48000 [==============================] - 2s - loss: 0.0632 - acc: 0.9804 - val_loss: 0.0801 - val_acc: 0.9772\n",
      "Epoch 249/250\n",
      "48000/48000 [==============================] - 2s - loss: 0.0636 - acc: 0.9800 - val_loss: 0.0804 - val_acc: 0.9777\n",
      "Epoch 250/250\n",
      "48000/48000 [==============================] - 2s - loss: 0.0617 - acc: 0.9807 - val_loss: 0.0801 - val_acc: 0.9778\n",
      " 9440/10000 [===========================>..] - ETA: 0sTest score: 0.0773145987333\n",
      "Test accuracy: 0.9778\n"
     ]
    }
   ],
   "source": [
    "history = model.fit(X_train, Y_train,\n",
    "batch_size=BATCH_SIZE, epochs=NB_EPOCH,\n",
    "verbose=VERBOSE, validation_split=VALIDATION_SPLIT)\n",
    "score = model.evaluate(X_test, Y_test, verbose=VERBOSE)\n",
    "print(\"Test score:\", score[0])\n",
    "print('Test accuracy:', score[1])"
   ]
  },
  {
   "cell_type": "code",
   "execution_count": 41,
   "metadata": {},
   "outputs": [
    {
     "name": "stdout",
     "output_type": "stream",
     "text": [
      "dict_keys(['val_loss', 'val_acc', 'loss', 'acc'])\n"
     ]
    },
    {
     "data": {
      "image/png": "[encoded data removed]",
      "text/plain": [
       "<matplotlib.figure.Figure at 0x1491acef0>"
      ]
     },
     "metadata": {},
     "output_type": "display_data"
    },
    {
     "data": {
      "image/png": "[encoded data removed]",
      "text/plain": [
       "<matplotlib.figure.Figure at 0x1263f3b38>"
      ]
     },
     "metadata": {},
     "output_type": "display_data"
    }
   ],
   "source": [
    "import matplotlib.pyplot as plt\n",
    "# list all data in history\n",
    "print(history.history.keys())\n",
    "# summarize history for accuracy\n",
    "plt.plot(history.history['acc'])\n",
    "plt.plot(history.history['val_acc'])\n",
    "plt.title('model accuracy')\n",
    "plt.ylabel('accuracy')\n",
    "plt.xlabel('epoch')\n",
    "plt.legend(['train', 'test'], loc='upper left')\n",
    "plt.show()\n",
    "# summarize history for loss\n",
    "plt.plot(history.history['loss'])\n",
    "plt.plot(history.history['val_loss'])\n",
    "plt.title('model loss')\n",
    "plt.ylabel('loss')\n",
    "plt.xlabel('epoch')\n",
    "plt.legend(['train', 'test'], loc='upper left')\n",
    "plt.show()"
   ]
  },
  {
   "cell_type": "markdown",
   "metadata": {},
   "source": [
    "## Different Optimizers"
   ]
  },
  {
   "cell_type": "code",
   "execution_count": 42,
   "metadata": {
    "collapsed": true
   },
   "outputs": [],
   "source": [
    "from __future__ import print_function\n",
    "import numpy as np\n",
    "from keras.datasets import mnist\n",
    "from keras.models import Sequential\n",
    "from keras.layers.core import Dense, Dropout, Activation\n",
    "from keras.optimizers import RMSprop\n",
    "from keras.utils import np_utils"
   ]
  },
  {
   "cell_type": "code",
   "execution_count": 43,
   "metadata": {
    "collapsed": true
   },
   "outputs": [],
   "source": [
    "np.random.seed(1671)  # for reproducibility"
   ]
  },
  {
   "cell_type": "code",
   "execution_count": 44,
   "metadata": {
    "collapsed": true
   },
   "outputs": [],
   "source": [
    "# network and training\n",
    "NB_EPOCH = 20\n",
    "BATCH_SIZE = 128\n",
    "VERBOSE = 1\n",
    "NB_CLASSES = 10   # number of outputs = number of digits\n",
    "OPTIMIZER = RMSprop() # optimizer, explainedin this chapter\n",
    "N_HIDDEN = 128\n",
    "VALIDATION_SPLIT=0.2 # how much TRAIN is reserved for VALIDATION\n",
    "DROPOUT = 0.3"
   ]
  },
  {
   "cell_type": "code",
   "execution_count": 45,
   "metadata": {
    "collapsed": true
   },
   "outputs": [],
   "source": [
    "# data: shuffled and split between train and test sets\n",
    "(X_train, y_train), (X_test, y_test) = mnist.load_data()"
   ]
  },
  {
   "cell_type": "code",
   "execution_count": 46,
   "metadata": {
    "collapsed": true
   },
   "outputs": [],
   "source": [
    "#X_train is 60000 rows of 28x28 values --> reshaped in 60000 x 784\n",
    "RESHAPED = 784\n",
    "#\n",
    "X_train = X_train.reshape(60000, RESHAPED)\n",
    "X_test = X_test.reshape(10000, RESHAPED)\n",
    "X_train = X_train.astype('float32')\n",
    "X_test = X_test.astype('float32')"
   ]
  },
  {
   "cell_type": "code",
   "execution_count": 47,
   "metadata": {},
   "outputs": [
    {
     "name": "stdout",
     "output_type": "stream",
     "text": [
      "60000 train samples\n",
      "10000 test samples\n"
     ]
    }
   ],
   "source": [
    "# normalize \n",
    "X_train /= 255\n",
    "X_test /= 255\n",
    "print(X_train.shape[0], 'train samples')\n",
    "print(X_test.shape[0], 'test samples')"
   ]
  },
  {
   "cell_type": "code",
   "execution_count": 48,
   "metadata": {
    "collapsed": true
   },
   "outputs": [],
   "source": [
    "# convert class vectors to binary class matrices\n",
    "Y_train = np_utils.to_categorical(y_train, NB_CLASSES)\n",
    "Y_test = np_utils.to_categorical(y_test, NB_CLASSES)"
   ]
  },
  {
   "cell_type": "code",
   "execution_count": 49,
   "metadata": {
    "collapsed": true
   },
   "outputs": [],
   "source": [
    "# M_HIDDEN hidden layers\n",
    "# 10 outputs\n",
    "# final stage is softmax\n",
    "\n",
    "model = Sequential()"
   ]
  },
  {
   "cell_type": "code",
   "execution_count": 50,
   "metadata": {
    "collapsed": true
   },
   "outputs": [],
   "source": [
    "model.add(Dense(N_HIDDEN, input_shape=(RESHAPED,)))\n",
    "model.add(Activation('relu'))\n",
    "model.add(Dropout(DROPOUT))"
   ]
  },
  {
   "cell_type": "code",
   "execution_count": 51,
   "metadata": {
    "collapsed": true
   },
   "outputs": [],
   "source": [
    "model.add(Dense(N_HIDDEN))\n",
    "model.add(Activation('relu'))\n",
    "model.add(Dropout(DROPOUT))"
   ]
  },
  {
   "cell_type": "code",
   "execution_count": 52,
   "metadata": {
    "collapsed": true
   },
   "outputs": [],
   "source": [
    "model.add(Dense(NB_CLASSES))\n",
    "model.add(Activation('softmax'))"
   ]
  },
  {
   "cell_type": "code",
   "execution_count": 53,
   "metadata": {},
   "outputs": [
    {
     "name": "stdout",
     "output_type": "stream",
     "text": [
      "_________________________________________________________________\n",
      "Layer (type)                 Output Shape              Param #   \n",
      "=================================================================\n",
      "dense_8 (Dense)              (None, 128)               100480    \n",
      "_________________________________________________________________\n",
      "activation_8 (Activation)    (None, 128)               0         \n",
      "_________________________________________________________________\n",
      "dropout_3 (Dropout)          (None, 128)               0         \n",
      "_________________________________________________________________\n",
      "dense_9 (Dense)              (None, 128)               16512     \n",
      "_________________________________________________________________\n",
      "activation_9 (Activation)    (None, 128)               0         \n",
      "_________________________________________________________________\n",
      "dropout_4 (Dropout)          (None, 128)               0         \n",
      "_________________________________________________________________\n",
      "dense_10 (Dense)             (None, 10)                1290      \n",
      "_________________________________________________________________\n",
      "activation_10 (Activation)   (None, 10)                0         \n",
      "=================================================================\n",
      "Total params: 118,282\n",
      "Trainable params: 118,282\n",
      "Non-trainable params: 0\n",
      "_________________________________________________________________\n"
     ]
    }
   ],
   "source": [
    "model.summary()"
   ]
  },
  {
   "cell_type": "code",
   "execution_count": 54,
   "metadata": {
    "collapsed": true
   },
   "outputs": [],
   "source": [
    "model.compile(loss='categorical_crossentropy',\n",
    "              optimizer=OPTIMIZER,\n",
    "              metrics=['accuracy'])"
   ]
  },
  {
   "cell_type": "code",
   "execution_count": 55,
   "metadata": {},
   "outputs": [
    {
     "name": "stdout",
     "output_type": "stream",
     "text": [
      "Train on 48000 samples, validate on 12000 samples\n",
      "Epoch 1/20\n",
      "48000/48000 [==============================] - 2s - loss: 0.4770 - acc: 0.8576 - val_loss: 0.1848 - val_acc: 0.9454\n",
      "Epoch 2/20\n",
      "48000/48000 [==============================] - 2s - loss: 0.2258 - acc: 0.9332 - val_loss: 0.1399 - val_acc: 0.9580\n",
      "Epoch 3/20\n",
      "48000/48000 [==============================] - 2s - loss: 0.1756 - acc: 0.9474 - val_loss: 0.1173 - val_acc: 0.9665\n",
      "Epoch 4/20\n",
      "48000/48000 [==============================] - 2s - loss: 0.1508 - acc: 0.9555 - val_loss: 0.1159 - val_acc: 0.9667\n",
      "Epoch 5/20\n",
      "48000/48000 [==============================] - 2s - loss: 0.1334 - acc: 0.9602 - val_loss: 0.1005 - val_acc: 0.9702\n",
      "Epoch 6/20\n",
      "48000/48000 [==============================] - 2s - loss: 0.1218 - acc: 0.9629 - val_loss: 0.0993 - val_acc: 0.9718\n",
      "Epoch 7/20\n",
      "48000/48000 [==============================] - 2s - loss: 0.1129 - acc: 0.9666 - val_loss: 0.0963 - val_acc: 0.9722\n",
      "Epoch 8/20\n",
      "48000/48000 [==============================] - 2s - loss: 0.1057 - acc: 0.9694 - val_loss: 0.0995 - val_acc: 0.9737\n",
      "Epoch 9/20\n",
      "48000/48000 [==============================] - 2s - loss: 0.0978 - acc: 0.9701 - val_loss: 0.1010 - val_acc: 0.9746\n",
      "Epoch 10/20\n",
      "48000/48000 [==============================] - 2s - loss: 0.0952 - acc: 0.9714 - val_loss: 0.0978 - val_acc: 0.9742\n",
      "Epoch 11/20\n",
      "48000/48000 [==============================] - 2s - loss: 0.0880 - acc: 0.9734 - val_loss: 0.0965 - val_acc: 0.9766\n",
      "Epoch 12/20\n",
      "48000/48000 [==============================] - 2s - loss: 0.0875 - acc: 0.9740 - val_loss: 0.0929 - val_acc: 0.9763\n",
      "Epoch 13/20\n",
      "48000/48000 [==============================] - 2s - loss: 0.0839 - acc: 0.9752 - val_loss: 0.0943 - val_acc: 0.9763\n",
      "Epoch 14/20\n",
      "48000/48000 [==============================] - 2s - loss: 0.0790 - acc: 0.9764 - val_loss: 0.1016 - val_acc: 0.9760\n",
      "Epoch 15/20\n",
      "48000/48000 [==============================] - 2s - loss: 0.0779 - acc: 0.9770 - val_loss: 0.0973 - val_acc: 0.9777\n",
      "Epoch 16/20\n",
      "48000/48000 [==============================] - 2s - loss: 0.0760 - acc: 0.9770 - val_loss: 0.1026 - val_acc: 0.9760\n",
      "Epoch 17/20\n",
      "48000/48000 [==============================] - 2s - loss: 0.0750 - acc: 0.9776 - val_loss: 0.1078 - val_acc: 0.9757\n",
      "Epoch 18/20\n",
      "48000/48000 [==============================] - 2s - loss: 0.0749 - acc: 0.9782 - val_loss: 0.1028 - val_acc: 0.9762\n",
      "Epoch 19/20\n",
      "48000/48000 [==============================] - 2s - loss: 0.0700 - acc: 0.9790 - val_loss: 0.1049 - val_acc: 0.9771\n",
      "Epoch 20/20\n",
      "48000/48000 [==============================] - 2s - loss: 0.0710 - acc: 0.9794 - val_loss: 0.1071 - val_acc: 0.9763\n"
     ]
    }
   ],
   "source": [
    "history = model.fit(X_train, Y_train,\n",
    "                    batch_size=BATCH_SIZE, epochs=NB_EPOCH,\n",
    "                    verbose=VERBOSE, validation_split=VALIDATION_SPLIT)"
   ]
  },
  {
   "cell_type": "code",
   "execution_count": 56,
   "metadata": {},
   "outputs": [
    {
     "name": "stdout",
     "output_type": "stream",
     "text": [
      " 9376/10000 [===========================>..] - ETA: 0s\n",
      "Test score: 0.101696636269\n",
      "Test accuracy: 0.978\n"
     ]
    }
   ],
   "source": [
    "score = model.evaluate(X_test, Y_test, verbose=VERBOSE)\n",
    "print(\"\\nTest score:\", score[0])\n",
    "print('Test accuracy:', score[1])"
   ]
  },
  {
   "cell_type": "markdown",
   "metadata": {},
   "source": [
    "## Checkpointing"
   ]
  },
  {
   "cell_type": "code",
   "execution_count": 1,
   "metadata": {},
   "outputs": [
    {
     "name": "stderr",
     "output_type": "stream",
     "text": [
      "Using TensorFlow backend.\n"
     ]
    }
   ],
   "source": [
    "from __future__ import division, print_function \n",
    "from keras.callbacks import ModelCheckpoint \n",
    "from keras.datasets import mnist \n",
    "from keras.models import Sequential \n",
    "from keras.layers.core import Dense, Dropout \n",
    "from keras.utils import np_utils \n",
    "import numpy as np \n",
    "import os "
   ]
  },
  {
   "cell_type": "code",
   "execution_count": 2,
   "metadata": {
    "collapsed": true
   },
   "outputs": [],
   "source": [
    "BATCH_SIZE = 128 \n",
    "NUM_EPOCHS = 20 \n",
    "MODEL_DIR = \"/tmp\" "
   ]
  },
  {
   "cell_type": "code",
   "execution_count": 3,
   "metadata": {},
   "outputs": [
    {
     "name": "stdout",
     "output_type": "stream",
     "text": [
      "(60000, 784) (10000, 784) (60000, 10) (10000, 10)\n"
     ]
    }
   ],
   "source": [
    "(Xtrain, ytrain), (Xtest, ytest) = mnist.load_data() \n",
    "Xtrain = Xtrain.reshape(60000, 784).astype(\"float32\") / 255 \n",
    "Xtest = Xtest.reshape(10000, 784).astype(\"float32\") / 255 \n",
    "Ytrain = np_utils.to_categorical(ytrain, 10) \n",
    "Ytest = np_utils.to_categorical(ytest, 10) \n",
    "print(Xtrain.shape, Xtest.shape, Ytrain.shape, Ytest.shape) "
   ]
  },
  {
   "cell_type": "code",
   "execution_count": 4,
   "metadata": {
    "collapsed": true
   },
   "outputs": [],
   "source": [
    "model = Sequential() "
   ]
  },
  {
   "cell_type": "code",
   "execution_count": 5,
   "metadata": {
    "collapsed": true
   },
   "outputs": [],
   "source": [
    "model.add(Dense(512, input_shape=(784,), activation=\"relu\")) \n",
    "model.add(Dropout(0.2))"
   ]
  },
  {
   "cell_type": "code",
   "execution_count": 6,
   "metadata": {
    "collapsed": true
   },
   "outputs": [],
   "source": [
    "model.add(Dense(512, activation=\"relu\")) \n",
    "model.add(Dropout(0.2)) "
   ]
  },
  {
   "cell_type": "code",
   "execution_count": 7,
   "metadata": {
    "collapsed": true
   },
   "outputs": [],
   "source": [
    "model.add(Dense(10, activation=\"softmax\")) "
   ]
  },
  {
   "cell_type": "code",
   "execution_count": 8,
   "metadata": {
    "collapsed": true
   },
   "outputs": [],
   "source": [
    "model.compile(optimizer=\"rmsprop\", loss=\"categorical_crossentropy\", \n",
    "              metrics=[\"accuracy\"]) "
   ]
  },
  {
   "cell_type": "code",
   "execution_count": 9,
   "metadata": {
    "collapsed": true
   },
   "outputs": [],
   "source": [
    "# save best model \n",
    "checkpoint = ModelCheckpoint( \n",
    "    filepath=os.path.join(MODEL_DIR, \"model-{epoch:02d}.h5\")) "
   ]
  },
  {
   "cell_type": "code",
   "execution_count": 10,
   "metadata": {},
   "outputs": [
    {
     "name": "stderr",
     "output_type": "stream",
     "text": [
      "/Users/ling/anaconda3/envs/tensorflow/lib/python3.6/site-packages/keras/models.py:837: UserWarning: The `nb_epoch` argument in `fit` has been renamed `epochs`.\n",
      "  warnings.warn('The `nb_epoch` argument in `fit` '\n"
     ]
    },
    {
     "name": "stdout",
     "output_type": "stream",
     "text": [
      "Train on 54000 samples, validate on 6000 samples\n",
      "Epoch 1/20\n",
      "54000/54000 [==============================] - 8s - loss: 0.2639 - acc: 0.9193 - val_loss: 0.0987 - val_acc: 0.9698\n",
      "Epoch 2/20\n",
      "54000/54000 [==============================] - 10s - loss: 0.1065 - acc: 0.9670 - val_loss: 0.0738 - val_acc: 0.9762\n",
      "Epoch 3/20\n",
      "54000/54000 [==============================] - 9s - loss: 0.0768 - acc: 0.9762 - val_loss: 0.0662 - val_acc: 0.9798\n",
      "Epoch 4/20\n",
      "54000/54000 [==============================] - 8s - loss: 0.0604 - acc: 0.9815 - val_loss: 0.0769 - val_acc: 0.9793\n",
      "Epoch 5/20\n",
      "54000/54000 [==============================] - 8s - loss: 0.0506 - acc: 0.9844 - val_loss: 0.0747 - val_acc: 0.9803\n",
      "Epoch 6/20\n",
      "54000/54000 [==============================] - 9s - loss: 0.0428 - acc: 0.9873 - val_loss: 0.0775 - val_acc: 0.9823\n",
      "Epoch 7/20\n",
      "54000/54000 [==============================] - 9s - loss: 0.0388 - acc: 0.9883 - val_loss: 0.0756 - val_acc: 0.9840\n",
      "Epoch 8/20\n",
      "54000/54000 [==============================] - 9s - loss: 0.0335 - acc: 0.9902 - val_loss: 0.0941 - val_acc: 0.9808\n",
      "Epoch 9/20\n",
      "54000/54000 [==============================] - 8s - loss: 0.0304 - acc: 0.9913 - val_loss: 0.0880 - val_acc: 0.9820\n",
      "Epoch 10/20\n",
      "54000/54000 [==============================] - 9s - loss: 0.0296 - acc: 0.9909 - val_loss: 0.0850 - val_acc: 0.9827\n",
      "Epoch 11/20\n",
      "54000/54000 [==============================] - 10s - loss: 0.0240 - acc: 0.9927 - val_loss: 0.0881 - val_acc: 0.9825\n",
      "Epoch 12/20\n",
      "54000/54000 [==============================] - 10s - loss: 0.0234 - acc: 0.9926 - val_loss: 0.0815 - val_acc: 0.9843\n",
      "Epoch 13/20\n",
      "54000/54000 [==============================] - 9s - loss: 0.0211 - acc: 0.9940 - val_loss: 0.0984 - val_acc: 0.9828\n",
      "Epoch 14/20\n",
      "54000/54000 [==============================] - 9s - loss: 0.0222 - acc: 0.9935 - val_loss: 0.0914 - val_acc: 0.9837\n",
      "Epoch 15/20\n",
      "54000/54000 [==============================] - 9s - loss: 0.0208 - acc: 0.9944 - val_loss: 0.1002 - val_acc: 0.9827\n",
      "Epoch 16/20\n",
      "54000/54000 [==============================] - 9s - loss: 0.0202 - acc: 0.9942 - val_loss: 0.0859 - val_acc: 0.9852\n",
      "Epoch 17/20\n",
      "54000/54000 [==============================] - 9s - loss: 0.0192 - acc: 0.9947 - val_loss: 0.0933 - val_acc: 0.9843\n",
      "Epoch 18/20\n",
      "54000/54000 [==============================] - 9s - loss: 0.0168 - acc: 0.9955 - val_loss: 0.0988 - val_acc: 0.9855\n",
      "Epoch 19/20\n",
      "54000/54000 [==============================] - 8s - loss: 0.0171 - acc: 0.9957 - val_loss: 0.1007 - val_acc: 0.9845\n",
      "Epoch 20/20\n",
      "54000/54000 [==============================] - 9s - loss: 0.0151 - acc: 0.9962 - val_loss: 0.0985 - val_acc: 0.9860\n"
     ]
    },
    {
     "data": {
      "text/plain": [
       "<keras.callbacks.History at 0x11a6bd908>"
      ]
     },
     "execution_count": 10,
     "metadata": {},
     "output_type": "execute_result"
    }
   ],
   "source": [
    "model.fit(Xtrain, Ytrain, batch_size=BATCH_SIZE, nb_epoch=NUM_EPOCHS, \n",
    "          validation_split=0.1, callbacks=[checkpoint])"
   ]
  },
  {
   "cell_type": "code",
   "execution_count": null,
   "metadata": {
    "collapsed": true
   },
   "outputs": [],
   "source": []
  }
 ],
 "metadata": {
  "kernelspec": {
   "display_name": "Python 3",
   "language": "python",
   "name": "python3"
  },
  "language_info": {
   "codemirror_mode": {
    "name": "ipython",
    "version": 3
   },
   "file_extension": ".py",
   "mimetype": "text/x-python",
   "name": "python",
   "nbconvert_exporter": "python",
   "pygments_lexer": "ipython3",
   "version": "3.6.1"
  }
 },
 "nbformat": 4,
 "nbformat_minor": 2
}
