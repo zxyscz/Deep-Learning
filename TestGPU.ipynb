{
  "nbformat": 4,
  "nbformat_minor": 0,
  "metadata": {
    "colab": {
      "name": "TestGPU.ipynb",
      "provenance": [],
      "machine_shape": "hm"
    },
    "kernelspec": {
      "name": "python3",
      "display_name": "Python 3"
    },
    "accelerator": "GPU"
  },
  "cells": [
    {
      "cell_type": "code",
      "metadata": {
        "id": "9tIvRg-Jr-3P"
      },
      "source": [
        "import numpy"
      ],
      "execution_count": 1,
      "outputs": []
    },
    {
      "cell_type": "code",
      "metadata": {
        "colab": {
          "base_uri": "https://localhost:8080/"
        },
        "id": "MZ_SHQB4sAxI",
        "outputId": "f091ce86-8870-49ce-b151-e8da82d20688"
      },
      "source": [
        "!ls"
      ],
      "execution_count": 2,
      "outputs": [
        {
          "output_type": "stream",
          "text": [
            "sample_data\n"
          ],
          "name": "stdout"
        }
      ]
    },
    {
      "cell_type": "code",
      "metadata": {
        "id": "eLS2rZ6nsw0W",
        "colab": {
          "base_uri": "https://localhost:8080/"
        },
        "outputId": "3d907632-abda-4e4e-f17b-c709283f9b54"
      },
      "source": [
        "# Download the official CUDA 10.1 package (a .deb Debian-based file) for Ubuntu 18.04 with the wget tool:\n",
        "!wget https://developer.nvidia.com/compute/cuda/10.1/Prod/local_installers/cuda-repo-ubuntu1804-10-1-local-10.1.105-418.39_1.0-1_amd64.deb"
      ],
      "execution_count": 3,
      "outputs": [
        {
          "output_type": "stream",
          "text": [
            "--2021-02-14 03:59:15--  https://developer.nvidia.com/compute/cuda/10.1/Prod/local_installers/cuda-repo-ubuntu1804-10-1-local-10.1.105-418.39_1.0-1_amd64.deb\n",
            "Resolving developer.nvidia.com (developer.nvidia.com)... 152.199.16.29\n",
            "Connecting to developer.nvidia.com (developer.nvidia.com)|152.199.16.29|:443... connected.\n",
            "HTTP request sent, awaiting response... 301 Moved Permanently\n",
            "Location: https://developer.nvidia.com/compute/cuda/10.1/prod/local_installers/cuda-repo-ubuntu1804-10-1-local-10.1.105-418.39_1.0-1_amd64.deb [following]\n",
            "--2021-02-14 03:59:15--  https://developer.nvidia.com/compute/cuda/10.1/prod/local_installers/cuda-repo-ubuntu1804-10-1-local-10.1.105-418.39_1.0-1_amd64.deb\n",
            "Reusing existing connection to developer.nvidia.com:443.\n",
            "HTTP request sent, awaiting response... 302 Found\n",
            "Location: https://developer.download.nvidia.com/compute/cuda/10.1/secure/Prod/local_installers/cuda-repo-ubuntu1804-10-1-local-10.1.105-418.39_1.0-1_amd64.deb?pBYm4is-vgDuqnLPD2iSLxjI7AkPLsBi1Epuz3ijLwmb0hAvmL8Qk3oity73EmO7o8Mx2n90OekMI7llgKI6d3kDteH_gf9XKqp1YRogew4uIGPNHsVGct4COUztUkxDCT7cmzRhcu3WNPz00yNhVUyFRGtUktqjLTK1fCs_jjSraVeAOXCoh0sX7NcLXa2XKHlEYOPr57-077fP4mZwwS4vs68r0EqqamvUT9o [following]\n",
            "--2021-02-14 03:59:16--  https://developer.download.nvidia.com/compute/cuda/10.1/secure/Prod/local_installers/cuda-repo-ubuntu1804-10-1-local-10.1.105-418.39_1.0-1_amd64.deb?pBYm4is-vgDuqnLPD2iSLxjI7AkPLsBi1Epuz3ijLwmb0hAvmL8Qk3oity73EmO7o8Mx2n90OekMI7llgKI6d3kDteH_gf9XKqp1YRogew4uIGPNHsVGct4COUztUkxDCT7cmzRhcu3WNPz00yNhVUyFRGtUktqjLTK1fCs_jjSraVeAOXCoh0sX7NcLXa2XKHlEYOPr57-077fP4mZwwS4vs68r0EqqamvUT9o\n",
            "Resolving developer.download.nvidia.com (developer.download.nvidia.com)... 152.199.20.126\n",
            "Connecting to developer.download.nvidia.com (developer.download.nvidia.com)|152.199.20.126|:443... connected.\n",
            "HTTP request sent, awaiting response... 200 OK\n",
            "Length: 1639693656 (1.5G) [application/x-deb]\n",
            "Saving to: ‘cuda-repo-ubuntu1804-10-1-local-10.1.105-418.39_1.0-1_amd64.deb’\n",
            "\n",
            "cuda-repo-ubuntu180 100%[===================>]   1.53G   277MB/s    in 5.4s    \n",
            "\n",
            "2021-02-14 03:59:21 (290 MB/s) - ‘cuda-repo-ubuntu1804-10-1-local-10.1.105-418.39_1.0-1_amd64.deb’ saved [1639693656/1639693656]\n",
            "\n"
          ],
          "name": "stdout"
        }
      ]
    },
    {
      "cell_type": "code",
      "metadata": {
        "colab": {
          "base_uri": "https://localhost:8080/"
        },
        "id": "Oj0HktllsUrV",
        "outputId": "fc45c3b9-6cbe-402f-9e27-4fb7c809727c"
      },
      "source": [
        "# dpkg prepares the installation (-i):\n",
        "!dpkg -i cuda-repo-ubuntu1804-10-1-local-10.1.105-418.39_1.0-1_amd64.deb"
      ],
      "execution_count": 4,
      "outputs": [
        {
          "output_type": "stream",
          "text": [
            "Selecting previously unselected package cuda-repo-ubuntu1804-10-1-local-10.1.105-418.39.\n",
            "(Reading database ... 146425 files and directories currently installed.)\n",
            "Preparing to unpack cuda-repo-ubuntu1804-10-1-local-10.1.105-418.39_1.0-1_amd64.deb ...\n",
            "Unpacking cuda-repo-ubuntu1804-10-1-local-10.1.105-418.39 (1.0-1) ...\n",
            "Setting up cuda-repo-ubuntu1804-10-1-local-10.1.105-418.39 (1.0-1) ...\n"
          ],
          "name": "stdout"
        }
      ]
    },
    {
      "cell_type": "code",
      "metadata": {
        "colab": {
          "base_uri": "https://localhost:8080/"
        },
        "id": "6f31eyDBsXyj",
        "outputId": "63c69b12-3ed9-4a4f-9240-9b4a4d201aa6"
      },
      "source": [
        "# Add the apt-key to configure your local repository\n",
        "!apt-key add /var/cuda-repo-10-1-local-10.1.105-418.39/7fa2af80.pub"
      ],
      "execution_count": 5,
      "outputs": [
        {
          "output_type": "stream",
          "text": [
            "OK\n"
          ],
          "name": "stdout"
        }
      ]
    },
    {
      "cell_type": "code",
      "metadata": {
        "colab": {
          "base_uri": "https://localhost:8080/"
        },
        "id": "ASDZjOYvsZ-v",
        "outputId": "c56b1e55-436e-4705-eb60-559b691ec966"
      },
      "source": [
        "# Update your Colab's Ubuntu Linux system\n",
        "!apt-get update"
      ],
      "execution_count": 6,
      "outputs": [
        {
          "output_type": "stream",
          "text": [
            "\r0% [Working]\r            \rGet:1 file:/var/cuda-repo-10-1-local-10.1.105-418.39  InRelease\n",
            "\r0% [1 InRelease 0 B]\r                    \rIgn:1 file:/var/cuda-repo-10-1-local-10.1.105-418.39  InRelease\n",
            "\r                    \r0% [Working]\r            \rGet:2 file:/var/cuda-repo-10-1-local-10.1.105-418.39  Release [574 B]\n",
            "\r0% [Working]\r            \rGet:2 file:/var/cuda-repo-10-1-local-10.1.105-418.39  Release [574 B]\n",
            "\r0% [2 Release 0 B/574 B 0%] [Connecting to archive.ubuntu.com] [Connecting to s\r0% [Connecting to archive.ubuntu.com] [Connecting to security.ubuntu.com] [Conn\r                                                                               \rGet:3 file:/var/cuda-repo-10-1-local-10.1.105-418.39  Release.gpg [833 B]\n",
            "\r0% [Connecting to archive.ubuntu.com] [Connecting to security.ubuntu.com] [Conn\r                                                                               \rGet:3 file:/var/cuda-repo-10-1-local-10.1.105-418.39  Release.gpg [833 B]\n",
            "\r0% [3 Release.gpg 0 B/833 B 0%] [Connecting to archive.ubuntu.com] [Connecting \r0% [Connecting to archive.ubuntu.com] [Connecting to security.ubuntu.com] [Conn\r0% [3 Release.gpg gpgv 574 B] [Connecting to archive.ubuntu.com (91.189.88.142)\r                                                                               \rGet:4 http://ppa.launchpad.net/c2d4u.team/c2d4u4.0+/ubuntu bionic InRelease [15.9 kB]\n",
            "\r0% [3 Release.gpg gpgv 574 B] [Waiting for headers] [Connecting to security.ubu\r                                                                               \rHit:5 http://archive.ubuntu.com/ubuntu bionic InRelease\n",
            "\r0% [3 Release.gpg gpgv 574 B] [Connecting to security.ubuntu.com (91.189.91.39)\r0% [3 Release.gpg gpgv 574 B] [Waiting for headers] [Connecting to security.ubu\r                                                                               \rGet:6 https://cloud.r-project.org/bin/linux/ubuntu bionic-cran40/ InRelease [3,626 B]\n",
            "\r0% [3 Release.gpg gpgv 574 B] [Waiting for headers] [Connecting to security.ubu\r0% [3 Release.gpg gpgv 574 B] [Waiting for headers] [Connecting to security.ubu\r                                                                               \rGet:7 http://archive.ubuntu.com/ubuntu bionic-updates InRelease [88.7 kB]\n",
            "\r0% [3 Release.gpg gpgv 574 B] [7 InRelease 14.2 kB/88.7 kB 16%] [Connecting to \r                                                                               \rHit:8 http://ppa.launchpad.net/cran/libgit2/ubuntu bionic InRelease\n",
            "\r0% [3 Release.gpg gpgv 574 B] [7 InRelease 47.5 kB/88.7 kB 54%] [Connecting to \r0% [3 Release.gpg gpgv 574 B] [Connecting to security.ubuntu.com (91.189.91.39)\r                                                                               \rGet:9 http://archive.ubuntu.com/ubuntu bionic-backports InRelease [74.6 kB]\n",
            "Hit:10 http://ppa.launchpad.net/graphics-drivers/ppa/ubuntu bionic InRelease\n",
            "Get:11 http://security.ubuntu.com/ubuntu bionic-security InRelease [88.7 kB]\n",
            "Get:12 file:/var/cuda-repo-10-1-local-10.1.105-418.39  Packages [24.0 kB]\n",
            "Ign:13 https://developer.download.nvidia.com/compute/cuda/repos/ubuntu1804/x86_64  InRelease\n",
            "Ign:14 https://developer.download.nvidia.com/compute/machine-learning/repos/ubuntu1804/x86_64  InRelease\n",
            "Hit:15 https://developer.download.nvidia.com/compute/cuda/repos/ubuntu1804/x86_64  Release\n",
            "Hit:16 https://developer.download.nvidia.com/compute/machine-learning/repos/ubuntu1804/x86_64  Release\n",
            "Get:17 http://ppa.launchpad.net/c2d4u.team/c2d4u4.0+/ubuntu bionic/main Sources [1,731 kB]\n",
            "Get:18 http://ppa.launchpad.net/c2d4u.team/c2d4u4.0+/ubuntu bionic/main amd64 Packages [886 kB]\n",
            "Get:19 http://archive.ubuntu.com/ubuntu bionic-updates/main amd64 Packages [2,360 kB]\n",
            "Get:20 http://archive.ubuntu.com/ubuntu bionic-updates/universe amd64 Packages [2,162 kB]\n",
            "Get:23 http://security.ubuntu.com/ubuntu bionic-security/main amd64 Packages [1,929 kB]\n",
            "Get:24 http://security.ubuntu.com/ubuntu bionic-security/universe amd64 Packages [1,391 kB]\n",
            "Fetched 10.7 MB in 3s (4,268 kB/s)\n",
            "Reading package lists... Done\n"
          ],
          "name": "stdout"
        }
      ]
    },
    {
      "cell_type": "code",
      "metadata": {
        "colab": {
          "base_uri": "https://localhost:8080/"
        },
        "id": "yoSJGQYPszcb",
        "outputId": "9b1512c9-278e-43b6-de2b-e077831a8dba"
      },
      "source": [
        "# Finally, we install the cuda meta-package\n",
        "!apt-get install cuda"
      ],
      "execution_count": 7,
      "outputs": [
        {
          "output_type": "stream",
          "text": [
            "Reading package lists... Done\n",
            "Building dependency tree       \n",
            "Reading state information... Done\n",
            "The following additional packages will be installed:\n",
            "  cuda-11-2 cuda-command-line-tools-11-2 cuda-compiler-11-2 cuda-cudart-11-2\n",
            "  cuda-cudart-dev-11-2 cuda-cuobjdump-11-2 cuda-cupti-11-2 cuda-cupti-dev-11-2\n",
            "  cuda-cuxxfilt-11-2 cuda-demo-suite-11-2 cuda-documentation-11-2\n",
            "  cuda-driver-dev-11-2 cuda-gdb-11-2 cuda-libraries-11-2\n",
            "  cuda-libraries-dev-11-2 cuda-memcheck-11-2 cuda-nsight-11-2\n",
            "  cuda-nsight-compute-11-2 cuda-nsight-systems-11-2 cuda-nvcc-11-2\n",
            "  cuda-nvdisasm-11-2 cuda-nvml-dev-11-2 cuda-nvprof-11-2 cuda-nvprune-11-2\n",
            "  cuda-nvrtc-11-2 cuda-nvrtc-dev-11-2 cuda-nvtx-11-2 cuda-nvvp-11-2\n",
            "  cuda-runtime-11-2 cuda-samples-11-2 cuda-sanitizer-11-2 cuda-toolkit-11-2\n",
            "  cuda-tools-11-2 cuda-visual-tools-11-2 libcublas-11-2 libcublas-dev-11-2\n",
            "  libcufft-11-2 libcufft-dev-11-2 libcurand-11-2 libcurand-dev-11-2\n",
            "  libcusolver-11-2 libcusolver-dev-11-2 libcusparse-11-2 libcusparse-dev-11-2\n",
            "  libnpp-11-2 libnpp-dev-11-2 libnvjpeg-11-2 libnvjpeg-dev-11-2\n",
            "The following NEW packages will be installed:\n",
            "  cuda cuda-11-2 cuda-command-line-tools-11-2 cuda-compiler-11-2\n",
            "  cuda-cudart-11-2 cuda-cudart-dev-11-2 cuda-cuobjdump-11-2 cuda-cupti-11-2\n",
            "  cuda-cupti-dev-11-2 cuda-cuxxfilt-11-2 cuda-demo-suite-11-2\n",
            "  cuda-documentation-11-2 cuda-driver-dev-11-2 cuda-gdb-11-2\n",
            "  cuda-libraries-11-2 cuda-libraries-dev-11-2 cuda-memcheck-11-2\n",
            "  cuda-nsight-11-2 cuda-nsight-compute-11-2 cuda-nsight-systems-11-2\n",
            "  cuda-nvcc-11-2 cuda-nvdisasm-11-2 cuda-nvml-dev-11-2 cuda-nvprof-11-2\n",
            "  cuda-nvprune-11-2 cuda-nvrtc-11-2 cuda-nvrtc-dev-11-2 cuda-nvtx-11-2\n",
            "  cuda-nvvp-11-2 cuda-runtime-11-2 cuda-samples-11-2 cuda-sanitizer-11-2\n",
            "  cuda-toolkit-11-2 cuda-tools-11-2 cuda-visual-tools-11-2 libcublas-11-2\n",
            "  libcublas-dev-11-2 libcufft-11-2 libcufft-dev-11-2 libcurand-11-2\n",
            "  libcurand-dev-11-2 libcusolver-11-2 libcusolver-dev-11-2 libcusparse-11-2\n",
            "  libcusparse-dev-11-2 libnpp-11-2 libnpp-dev-11-2 libnvjpeg-11-2\n",
            "  libnvjpeg-dev-11-2\n",
            "0 upgraded, 49 newly installed, 0 to remove and 25 not upgraded.\n",
            "Need to get 1,608 MB of archives.\n",
            "After this operation, 4,051 MB of additional disk space will be used.\n",
            "Get:1 https://developer.download.nvidia.com/compute/cuda/repos/ubuntu1804/x86_64  cuda-cudart-11-2 11.2.146-1 [141 kB]\n",
            "Get:2 https://developer.download.nvidia.com/compute/cuda/repos/ubuntu1804/x86_64  cuda-nvrtc-11-2 11.2.142-1 [25.6 MB]\n",
            "Get:3 https://developer.download.nvidia.com/compute/cuda/repos/ubuntu1804/x86_64  libcublas-11-2 11.4.1.1026-1 [134 MB]\n",
            "Get:4 https://developer.download.nvidia.com/compute/cuda/repos/ubuntu1804/x86_64  libcufft-11-2 10.4.0.135-1 [107 MB]\n",
            "Get:5 https://developer.download.nvidia.com/compute/cuda/repos/ubuntu1804/x86_64  libcurand-11-2 10.2.3.135-1 [39.9 MB]\n",
            "Get:6 https://developer.download.nvidia.com/compute/cuda/repos/ubuntu1804/x86_64  libcusolver-11-2 11.1.0.135-1 [153 MB]\n",
            "Get:7 https://developer.download.nvidia.com/compute/cuda/repos/ubuntu1804/x86_64  libcusparse-11-2 11.4.0.135-1 [96.1 MB]\n",
            "Get:8 https://developer.download.nvidia.com/compute/cuda/repos/ubuntu1804/x86_64  libnpp-11-2 11.3.2.139-1 [70.8 MB]\n",
            "Get:9 https://developer.download.nvidia.com/compute/cuda/repos/ubuntu1804/x86_64  libnvjpeg-11-2 11.4.0.135-1 [1,498 kB]\n",
            "Get:10 https://developer.download.nvidia.com/compute/cuda/repos/ubuntu1804/x86_64  cuda-libraries-11-2 11.2.1-1 [2,502 B]\n",
            "Get:11 https://developer.download.nvidia.com/compute/cuda/repos/ubuntu1804/x86_64  cuda-runtime-11-2 11.2.1-1 [2,424 B]\n",
            "Get:12 https://developer.download.nvidia.com/compute/cuda/repos/ubuntu1804/x86_64  cuda-cuobjdump-11-2 11.2.135-1 [111 kB]\n",
            "Get:13 https://developer.download.nvidia.com/compute/cuda/repos/ubuntu1804/x86_64  cuda-cuxxfilt-11-2 11.2.135-1 [44.2 kB]\n",
            "Get:14 https://developer.download.nvidia.com/compute/cuda/repos/ubuntu1804/x86_64  cuda-driver-dev-11-2 11.2.146-1 [25.9 kB]\n",
            "Get:15 https://developer.download.nvidia.com/compute/cuda/repos/ubuntu1804/x86_64  cuda-cudart-dev-11-2 11.2.146-1 [1,647 kB]\n",
            "Get:16 https://developer.download.nvidia.com/compute/cuda/repos/ubuntu1804/x86_64  cuda-nvcc-11-2 11.2.142-1 [45.9 MB]\n",
            "Get:17 https://developer.download.nvidia.com/compute/cuda/repos/ubuntu1804/x86_64  cuda-nvprune-11-2 11.2.135-1 [54.6 kB]\n",
            "Get:18 https://developer.download.nvidia.com/compute/cuda/repos/ubuntu1804/x86_64  cuda-compiler-11-2 11.2.1-1 [2,428 B]\n",
            "Get:19 https://developer.download.nvidia.com/compute/cuda/repos/ubuntu1804/x86_64  cuda-nvrtc-dev-11-2 11.2.142-1 [25.6 MB]\n",
            "Get:20 https://developer.download.nvidia.com/compute/cuda/repos/ubuntu1804/x86_64  libcublas-dev-11-2 11.4.1.1026-1 [142 MB]\n",
            "Get:21 https://developer.download.nvidia.com/compute/cuda/repos/ubuntu1804/x86_64  libcufft-dev-11-2 10.4.0.135-1 [179 MB]\n",
            "Get:22 https://developer.download.nvidia.com/compute/cuda/repos/ubuntu1804/x86_64  libcurand-dev-11-2 10.2.3.135-1 [40.3 MB]\n",
            "Get:23 https://developer.download.nvidia.com/compute/cuda/repos/ubuntu1804/x86_64  libcusolver-dev-11-2 11.1.0.135-1 [20.5 MB]\n",
            "Get:24 https://developer.download.nvidia.com/compute/cuda/repos/ubuntu1804/x86_64  libcusparse-dev-11-2 11.4.0.135-1 [96.6 MB]\n",
            "Get:25 https://developer.download.nvidia.com/compute/cuda/repos/ubuntu1804/x86_64  libnpp-dev-11-2 11.3.2.139-1 [71.3 MB]\n",
            "Get:26 https://developer.download.nvidia.com/compute/cuda/repos/ubuntu1804/x86_64  libnvjpeg-dev-11-2 11.4.0.135-1 [1,420 kB]\n",
            "Get:27 https://developer.download.nvidia.com/compute/cuda/repos/ubuntu1804/x86_64  cuda-libraries-dev-11-2 11.2.1-1 [2,518 B]\n",
            "Get:28 https://developer.download.nvidia.com/compute/cuda/repos/ubuntu1804/x86_64  cuda-cupti-11-2 11.2.135-1 [11.3 MB]\n",
            "Get:29 https://developer.download.nvidia.com/compute/cuda/repos/ubuntu1804/x86_64  cuda-cupti-dev-11-2 11.2.135-1 [2,313 kB]\n",
            "Get:30 https://developer.download.nvidia.com/compute/cuda/repos/ubuntu1804/x86_64  cuda-nvdisasm-11-2 11.2.135-1 [32.9 MB]\n",
            "Get:31 https://developer.download.nvidia.com/compute/cuda/repos/ubuntu1804/x86_64  cuda-gdb-11-2 11.2.135-1 [3,622 kB]\n",
            "Get:32 https://developer.download.nvidia.com/compute/cuda/repos/ubuntu1804/x86_64  cuda-memcheck-11-2 11.2.135-1 [145 kB]\n",
            "Get:33 https://developer.download.nvidia.com/compute/cuda/repos/ubuntu1804/x86_64  cuda-nvprof-11-2 11.2.135-1 [1,915 kB]\n",
            "Get:34 https://developer.download.nvidia.com/compute/cuda/repos/ubuntu1804/x86_64  cuda-nvtx-11-2 11.2.67-1 [50.9 kB]\n",
            "Get:35 https://developer.download.nvidia.com/compute/cuda/repos/ubuntu1804/x86_64  cuda-sanitizer-11-2 11.2.135-1 [7,642 kB]\n",
            "Get:36 https://developer.download.nvidia.com/compute/cuda/repos/ubuntu1804/x86_64  cuda-command-line-tools-11-2 11.2.1-1 [2,470 B]\n",
            "Get:37 https://developer.download.nvidia.com/compute/cuda/repos/ubuntu1804/x86_64  cuda-nsight-compute-11-2 11.2.1-1 [3,700 B]\n",
            "Get:38 https://developer.download.nvidia.com/compute/cuda/repos/ubuntu1804/x86_64  cuda-nsight-systems-11-2 11.2.1-1 [3,306 B]\n",
            "Get:39 https://developer.download.nvidia.com/compute/cuda/repos/ubuntu1804/x86_64  cuda-nsight-11-2 11.2.135-1 [119 MB]\n",
            "Get:40 https://developer.download.nvidia.com/compute/cuda/repos/ubuntu1804/x86_64  cuda-nvml-dev-11-2 11.2.67-1 [73.5 kB]\n",
            "Get:41 https://developer.download.nvidia.com/compute/cuda/repos/ubuntu1804/x86_64  cuda-nvvp-11-2 11.2.135-1 [115 MB]\n",
            "Get:42 https://developer.download.nvidia.com/compute/cuda/repos/ubuntu1804/x86_64  cuda-visual-tools-11-2 11.2.1-1 [2,948 B]\n",
            "Get:43 https://developer.download.nvidia.com/compute/cuda/repos/ubuntu1804/x86_64  cuda-tools-11-2 11.2.1-1 [2,380 B]\n",
            "Get:44 https://developer.download.nvidia.com/compute/cuda/repos/ubuntu1804/x86_64  cuda-samples-11-2 11.2.135-1 [57.0 MB]\n",
            "Get:45 https://developer.download.nvidia.com/compute/cuda/repos/ubuntu1804/x86_64  cuda-documentation-11-2 11.2.146-1 [48.8 kB]\n",
            "Get:46 https://developer.download.nvidia.com/compute/cuda/repos/ubuntu1804/x86_64  cuda-toolkit-11-2 11.2.1-1 [3,288 B]\n",
            "Get:47 https://developer.download.nvidia.com/compute/cuda/repos/ubuntu1804/x86_64  cuda-demo-suite-11-2 11.2.67-1 [3,928 kB]\n",
            "Get:48 https://developer.download.nvidia.com/compute/cuda/repos/ubuntu1804/x86_64  cuda-11-2 11.2.1-1 [2,448 B]\n",
            "Get:49 https://developer.download.nvidia.com/compute/cuda/repos/ubuntu1804/x86_64  cuda 11.2.1-1 [2,394 B]\n",
            "Fetched 1,608 MB in 25s (63.4 MB/s)\n",
            "Extracting templates from packages: 100%\n",
            "Selecting previously unselected package cuda-cudart-11-2.\n",
            "(Reading database ... 146516 files and directories currently installed.)\n",
            "Preparing to unpack .../00-cuda-cudart-11-2_11.2.146-1_amd64.deb ...\n",
            "Unpacking cuda-cudart-11-2 (11.2.146-1) ...\n",
            "Selecting previously unselected package cuda-nvrtc-11-2.\n",
            "Preparing to unpack .../01-cuda-nvrtc-11-2_11.2.142-1_amd64.deb ...\n",
            "Unpacking cuda-nvrtc-11-2 (11.2.142-1) ...\n",
            "Selecting previously unselected package libcublas-11-2.\n",
            "Preparing to unpack .../02-libcublas-11-2_11.4.1.1026-1_amd64.deb ...\n",
            "Unpacking libcublas-11-2 (11.4.1.1026-1) ...\n",
            "Selecting previously unselected package libcufft-11-2.\n",
            "Preparing to unpack .../03-libcufft-11-2_10.4.0.135-1_amd64.deb ...\n",
            "Unpacking libcufft-11-2 (10.4.0.135-1) ...\n",
            "Selecting previously unselected package libcurand-11-2.\n",
            "Preparing to unpack .../04-libcurand-11-2_10.2.3.135-1_amd64.deb ...\n",
            "Unpacking libcurand-11-2 (10.2.3.135-1) ...\n",
            "Selecting previously unselected package libcusolver-11-2.\n",
            "Preparing to unpack .../05-libcusolver-11-2_11.1.0.135-1_amd64.deb ...\n",
            "Unpacking libcusolver-11-2 (11.1.0.135-1) ...\n",
            "Selecting previously unselected package libcusparse-11-2.\n",
            "Preparing to unpack .../06-libcusparse-11-2_11.4.0.135-1_amd64.deb ...\n",
            "Unpacking libcusparse-11-2 (11.4.0.135-1) ...\n",
            "Selecting previously unselected package libnpp-11-2.\n",
            "Preparing to unpack .../07-libnpp-11-2_11.3.2.139-1_amd64.deb ...\n",
            "Unpacking libnpp-11-2 (11.3.2.139-1) ...\n",
            "Selecting previously unselected package libnvjpeg-11-2.\n",
            "Preparing to unpack .../08-libnvjpeg-11-2_11.4.0.135-1_amd64.deb ...\n",
            "Unpacking libnvjpeg-11-2 (11.4.0.135-1) ...\n",
            "Selecting previously unselected package cuda-libraries-11-2.\n",
            "Preparing to unpack .../09-cuda-libraries-11-2_11.2.1-1_amd64.deb ...\n",
            "Unpacking cuda-libraries-11-2 (11.2.1-1) ...\n",
            "Selecting previously unselected package cuda-runtime-11-2.\n",
            "Preparing to unpack .../10-cuda-runtime-11-2_11.2.1-1_amd64.deb ...\n",
            "Unpacking cuda-runtime-11-2 (11.2.1-1) ...\n",
            "Selecting previously unselected package cuda-cuobjdump-11-2.\n",
            "Preparing to unpack .../11-cuda-cuobjdump-11-2_11.2.135-1_amd64.deb ...\n",
            "Unpacking cuda-cuobjdump-11-2 (11.2.135-1) ...\n",
            "Selecting previously unselected package cuda-cuxxfilt-11-2.\n",
            "Preparing to unpack .../12-cuda-cuxxfilt-11-2_11.2.135-1_amd64.deb ...\n",
            "Unpacking cuda-cuxxfilt-11-2 (11.2.135-1) ...\n",
            "Selecting previously unselected package cuda-driver-dev-11-2.\n",
            "Preparing to unpack .../13-cuda-driver-dev-11-2_11.2.146-1_amd64.deb ...\n",
            "Unpacking cuda-driver-dev-11-2 (11.2.146-1) ...\n",
            "Selecting previously unselected package cuda-cudart-dev-11-2.\n",
            "Preparing to unpack .../14-cuda-cudart-dev-11-2_11.2.146-1_amd64.deb ...\n",
            "Unpacking cuda-cudart-dev-11-2 (11.2.146-1) ...\n",
            "Selecting previously unselected package cuda-nvcc-11-2.\n",
            "Preparing to unpack .../15-cuda-nvcc-11-2_11.2.142-1_amd64.deb ...\n",
            "Unpacking cuda-nvcc-11-2 (11.2.142-1) ...\n",
            "Selecting previously unselected package cuda-nvprune-11-2.\n",
            "Preparing to unpack .../16-cuda-nvprune-11-2_11.2.135-1_amd64.deb ...\n",
            "Unpacking cuda-nvprune-11-2 (11.2.135-1) ...\n",
            "Selecting previously unselected package cuda-compiler-11-2.\n",
            "Preparing to unpack .../17-cuda-compiler-11-2_11.2.1-1_amd64.deb ...\n",
            "Unpacking cuda-compiler-11-2 (11.2.1-1) ...\n",
            "Selecting previously unselected package cuda-nvrtc-dev-11-2.\n",
            "Preparing to unpack .../18-cuda-nvrtc-dev-11-2_11.2.142-1_amd64.deb ...\n",
            "Unpacking cuda-nvrtc-dev-11-2 (11.2.142-1) ...\n",
            "Selecting previously unselected package libcublas-dev-11-2.\n",
            "Preparing to unpack .../19-libcublas-dev-11-2_11.4.1.1026-1_amd64.deb ...\n",
            "Unpacking libcublas-dev-11-2 (11.4.1.1026-1) ...\n",
            "Selecting previously unselected package libcufft-dev-11-2.\n",
            "Preparing to unpack .../20-libcufft-dev-11-2_10.4.0.135-1_amd64.deb ...\n",
            "Unpacking libcufft-dev-11-2 (10.4.0.135-1) ...\n",
            "Selecting previously unselected package libcurand-dev-11-2.\n",
            "Preparing to unpack .../21-libcurand-dev-11-2_10.2.3.135-1_amd64.deb ...\n",
            "Unpacking libcurand-dev-11-2 (10.2.3.135-1) ...\n",
            "Selecting previously unselected package libcusolver-dev-11-2.\n",
            "Preparing to unpack .../22-libcusolver-dev-11-2_11.1.0.135-1_amd64.deb ...\n",
            "Unpacking libcusolver-dev-11-2 (11.1.0.135-1) ...\n",
            "Selecting previously unselected package libcusparse-dev-11-2.\n",
            "Preparing to unpack .../23-libcusparse-dev-11-2_11.4.0.135-1_amd64.deb ...\n",
            "Unpacking libcusparse-dev-11-2 (11.4.0.135-1) ...\n",
            "Selecting previously unselected package libnpp-dev-11-2.\n",
            "Preparing to unpack .../24-libnpp-dev-11-2_11.3.2.139-1_amd64.deb ...\n",
            "Unpacking libnpp-dev-11-2 (11.3.2.139-1) ...\n",
            "Selecting previously unselected package libnvjpeg-dev-11-2.\n",
            "Preparing to unpack .../25-libnvjpeg-dev-11-2_11.4.0.135-1_amd64.deb ...\n",
            "Unpacking libnvjpeg-dev-11-2 (11.4.0.135-1) ...\n",
            "Selecting previously unselected package cuda-libraries-dev-11-2.\n",
            "Preparing to unpack .../26-cuda-libraries-dev-11-2_11.2.1-1_amd64.deb ...\n",
            "Unpacking cuda-libraries-dev-11-2 (11.2.1-1) ...\n",
            "Selecting previously unselected package cuda-cupti-11-2.\n",
            "Preparing to unpack .../27-cuda-cupti-11-2_11.2.135-1_amd64.deb ...\n",
            "Unpacking cuda-cupti-11-2 (11.2.135-1) ...\n",
            "Selecting previously unselected package cuda-cupti-dev-11-2.\n",
            "Preparing to unpack .../28-cuda-cupti-dev-11-2_11.2.135-1_amd64.deb ...\n",
            "Unpacking cuda-cupti-dev-11-2 (11.2.135-1) ...\n",
            "Selecting previously unselected package cuda-nvdisasm-11-2.\n",
            "Preparing to unpack .../29-cuda-nvdisasm-11-2_11.2.135-1_amd64.deb ...\n",
            "Unpacking cuda-nvdisasm-11-2 (11.2.135-1) ...\n",
            "Selecting previously unselected package cuda-gdb-11-2.\n",
            "Preparing to unpack .../30-cuda-gdb-11-2_11.2.135-1_amd64.deb ...\n",
            "Unpacking cuda-gdb-11-2 (11.2.135-1) ...\n",
            "Selecting previously unselected package cuda-memcheck-11-2.\n",
            "Preparing to unpack .../31-cuda-memcheck-11-2_11.2.135-1_amd64.deb ...\n",
            "Unpacking cuda-memcheck-11-2 (11.2.135-1) ...\n",
            "Selecting previously unselected package cuda-nvprof-11-2.\n",
            "Preparing to unpack .../32-cuda-nvprof-11-2_11.2.135-1_amd64.deb ...\n",
            "Unpacking cuda-nvprof-11-2 (11.2.135-1) ...\n",
            "Selecting previously unselected package cuda-nvtx-11-2.\n",
            "Preparing to unpack .../33-cuda-nvtx-11-2_11.2.67-1_amd64.deb ...\n",
            "Unpacking cuda-nvtx-11-2 (11.2.67-1) ...\n",
            "Selecting previously unselected package cuda-sanitizer-11-2.\n",
            "Preparing to unpack .../34-cuda-sanitizer-11-2_11.2.135-1_amd64.deb ...\n",
            "Unpacking cuda-sanitizer-11-2 (11.2.135-1) ...\n",
            "Selecting previously unselected package cuda-command-line-tools-11-2.\n",
            "Preparing to unpack .../35-cuda-command-line-tools-11-2_11.2.1-1_amd64.deb ...\n",
            "Unpacking cuda-command-line-tools-11-2 (11.2.1-1) ...\n",
            "Selecting previously unselected package cuda-nsight-compute-11-2.\n",
            "Preparing to unpack .../36-cuda-nsight-compute-11-2_11.2.1-1_amd64.deb ...\n",
            "Unpacking cuda-nsight-compute-11-2 (11.2.1-1) ...\n",
            "Selecting previously unselected package cuda-nsight-systems-11-2.\n",
            "Preparing to unpack .../37-cuda-nsight-systems-11-2_11.2.1-1_amd64.deb ...\n",
            "Unpacking cuda-nsight-systems-11-2 (11.2.1-1) ...\n",
            "Selecting previously unselected package cuda-nsight-11-2.\n",
            "Preparing to unpack .../38-cuda-nsight-11-2_11.2.135-1_amd64.deb ...\n",
            "Unpacking cuda-nsight-11-2 (11.2.135-1) ...\n",
            "Selecting previously unselected package cuda-nvml-dev-11-2.\n",
            "Preparing to unpack .../39-cuda-nvml-dev-11-2_11.2.67-1_amd64.deb ...\n",
            "Unpacking cuda-nvml-dev-11-2 (11.2.67-1) ...\n",
            "Selecting previously unselected package cuda-nvvp-11-2.\n",
            "Preparing to unpack .../40-cuda-nvvp-11-2_11.2.135-1_amd64.deb ...\n",
            "Unpacking cuda-nvvp-11-2 (11.2.135-1) ...\n",
            "Selecting previously unselected package cuda-visual-tools-11-2.\n",
            "Preparing to unpack .../41-cuda-visual-tools-11-2_11.2.1-1_amd64.deb ...\n",
            "Unpacking cuda-visual-tools-11-2 (11.2.1-1) ...\n",
            "Selecting previously unselected package cuda-tools-11-2.\n",
            "Preparing to unpack .../42-cuda-tools-11-2_11.2.1-1_amd64.deb ...\n",
            "Unpacking cuda-tools-11-2 (11.2.1-1) ...\n",
            "Selecting previously unselected package cuda-samples-11-2.\n",
            "Preparing to unpack .../43-cuda-samples-11-2_11.2.135-1_amd64.deb ...\n",
            "Unpacking cuda-samples-11-2 (11.2.135-1) ...\n",
            "Selecting previously unselected package cuda-documentation-11-2.\n",
            "Preparing to unpack .../44-cuda-documentation-11-2_11.2.146-1_amd64.deb ...\n",
            "Unpacking cuda-documentation-11-2 (11.2.146-1) ...\n",
            "Selecting previously unselected package cuda-toolkit-11-2.\n",
            "Preparing to unpack .../45-cuda-toolkit-11-2_11.2.1-1_amd64.deb ...\n",
            "Unpacking cuda-toolkit-11-2 (11.2.1-1) ...\n",
            "Selecting previously unselected package cuda-demo-suite-11-2.\n",
            "Preparing to unpack .../46-cuda-demo-suite-11-2_11.2.67-1_amd64.deb ...\n",
            "Unpacking cuda-demo-suite-11-2 (11.2.67-1) ...\n",
            "Selecting previously unselected package cuda-11-2.\n",
            "Preparing to unpack .../47-cuda-11-2_11.2.1-1_amd64.deb ...\n",
            "Unpacking cuda-11-2 (11.2.1-1) ...\n",
            "Selecting previously unselected package cuda.\n",
            "Preparing to unpack .../48-cuda_11.2.1-1_amd64.deb ...\n",
            "Unpacking cuda (11.2.1-1) ...\n",
            "Setting up libcufft-11-2 (10.4.0.135-1) ...\n",
            "Setting up libcusparse-11-2 (11.4.0.135-1) ...\n",
            "Setting up libnpp-11-2 (11.3.2.139-1) ...\n",
            "Setting up cuda-nvrtc-11-2 (11.2.142-1) ...\n",
            "Setting up libcurand-11-2 (10.2.3.135-1) ...\n",
            "Setting up cuda-nvvp-11-2 (11.2.135-1) ...\n",
            "Setting up cuda-nvtx-11-2 (11.2.67-1) ...\n",
            "Setting up cuda-nvml-dev-11-2 (11.2.67-1) ...\n",
            "Setting up libnvjpeg-11-2 (11.4.0.135-1) ...\n",
            "Setting up cuda-nsight-compute-11-2 (11.2.1-1) ...\n",
            "Setting up libcufft-dev-11-2 (10.4.0.135-1) ...\n",
            "Setting up libcusparse-dev-11-2 (11.4.0.135-1) ...\n",
            "Setting up cuda-cuobjdump-11-2 (11.2.135-1) ...\n",
            "Setting up libcurand-dev-11-2 (10.2.3.135-1) ...\n",
            "Setting up libnpp-dev-11-2 (11.3.2.139-1) ...\n",
            "Setting up cuda-driver-dev-11-2 (11.2.146-1) ...\n",
            "Setting up cuda-cudart-11-2 (11.2.146-1) ...\n",
            "Setting up cuda-cuxxfilt-11-2 (11.2.135-1) ...\n",
            "Setting up libnvjpeg-dev-11-2 (11.4.0.135-1) ...\n",
            "Setting up cuda-memcheck-11-2 (11.2.135-1) ...\n",
            "Setting up cuda-cudart-dev-11-2 (11.2.146-1) ...\n",
            "Setting up cuda-nvprune-11-2 (11.2.135-1) ...\n",
            "Setting up cuda-nvrtc-dev-11-2 (11.2.142-1) ...\n",
            "Setting up cuda-nsight-11-2 (11.2.135-1) ...\n",
            "Setting up libcublas-11-2 (11.4.1.1026-1) ...\n",
            "Setting up cuda-sanitizer-11-2 (11.2.135-1) ...\n",
            "Setting up cuda-nvdisasm-11-2 (11.2.135-1) ...\n",
            "Setting up cuda-nsight-systems-11-2 (11.2.1-1) ...\n",
            "Setting up libcusolver-11-2 (11.1.0.135-1) ...\n",
            "Setting up cuda-nvprof-11-2 (11.2.135-1) ...\n",
            "Setting up cuda-libraries-11-2 (11.2.1-1) ...\n",
            "Setting up libcusolver-dev-11-2 (11.1.0.135-1) ...\n",
            "Setting up libcublas-dev-11-2 (11.4.1.1026-1) ...\n",
            "Setting up cuda-libraries-dev-11-2 (11.2.1-1) ...\n",
            "Setting up cuda-nvcc-11-2 (11.2.142-1) ...\n",
            "Setting up cuda-gdb-11-2 (11.2.135-1) ...\n",
            "Setting up cuda-runtime-11-2 (11.2.1-1) ...\n",
            "Setting up cuda-demo-suite-11-2 (11.2.67-1) ...\n",
            "Setting up cuda-samples-11-2 (11.2.135-1) ...\n",
            "Setting up cuda-compiler-11-2 (11.2.1-1) ...\n",
            "Setting up cuda-visual-tools-11-2 (11.2.1-1) ...\n",
            "Setting up cuda-documentation-11-2 (11.2.146-1) ...\n",
            "Setting up cuda-cupti-11-2 (11.2.135-1) ...\n",
            "Setting up cuda-cupti-dev-11-2 (11.2.135-1) ...\n",
            "Setting up cuda-command-line-tools-11-2 (11.2.1-1) ...\n",
            "Setting up cuda-tools-11-2 (11.2.1-1) ...\n",
            "Setting up cuda-toolkit-11-2 (11.2.1-1) ...\n",
            "Setting alternatives\n",
            "update-alternatives: using /usr/local/cuda-11.2 to provide /usr/local/cuda (cuda) in auto mode\n",
            "update-alternatives: using /usr/local/cuda-11.2 to provide /usr/local/cuda-11 (cuda-11) in auto mode\n",
            "Setting up cuda-11-2 (11.2.1-1) ...\n",
            "Setting up cuda (11.2.1-1) ...\n"
          ],
          "name": "stdout"
        }
      ]
    },
    {
      "cell_type": "code",
      "metadata": {
        "colab": {
          "base_uri": "https://localhost:8080/"
        },
        "id": "jGPQDRg7s5Uh",
        "outputId": "287632fe-44d2-4348-8b67-37dc9dcc97b6"
      },
      "source": [
        "# Verify your new CUDA installation on the cloud\n",
        "!nvcc -V"
      ],
      "execution_count": 10,
      "outputs": [
        {
          "output_type": "stream",
          "text": [
            "nvcc: NVIDIA (R) Cuda compiler driver\n",
            "Copyright (c) 2005-2021 NVIDIA Corporation\n",
            "Built on Thu_Jan_28_19:32:09_PST_2021\n",
            "Cuda compilation tools, release 11.2, V11.2.142\n",
            "Build cuda_11.2.r11.2/compiler.29558016_0\n"
          ],
          "name": "stdout"
        }
      ]
    }
  ]
}