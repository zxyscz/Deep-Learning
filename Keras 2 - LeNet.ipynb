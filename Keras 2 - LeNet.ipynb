{
 "cells": [
  {
   "cell_type": "code",
   "execution_count": 1,
   "metadata": {},
   "outputs": [
    {
     "name": "stderr",
     "output_type": "stream",
     "text": [
      "Using TensorFlow backend.\n"
     ]
    }
   ],
   "source": [
    "# import the necessary packages\n",
    "from keras import backend as K\n",
    "from keras.models import Sequential\n",
    "from keras.layers.convolutional import Conv2D\n",
    "from keras.layers.convolutional import MaxPooling2D\n",
    "from keras.layers.core import Activation\n",
    "from keras.layers.core import Flatten\n",
    "from keras.layers.core import Dense\n",
    "from keras.datasets import mnist\n",
    "from keras.utils import np_utils\n",
    "from keras.optimizers import SGD, RMSprop, Adam\n",
    "import numpy as np\n",
    "\n",
    "import matplotlib.pyplot as plt"
   ]
  },
  {
   "cell_type": "code",
   "execution_count": 2,
   "metadata": {
    "collapsed": true
   },
   "outputs": [],
   "source": [
    "np.random.seed(1671)  # for reproducibility"
   ]
  },
  {
   "cell_type": "code",
   "execution_count": 3,
   "metadata": {
    "collapsed": true
   },
   "outputs": [],
   "source": [
    "#define the convnet \n",
    "class LeNet:\n",
    "\t@staticmethod\n",
    "\tdef build(input_shape, classes):\n",
    "\t\tmodel = Sequential()\n",
    "        \n",
    "\t\t# CONV => RELU => POOL\n",
    "\t\tmodel.add(Conv2D(20, kernel_size=5, padding=\"same\",input_shape=input_shape))\n",
    "\t\tmodel.add(Activation(\"relu\"))\n",
    "\t\tmodel.add(MaxPooling2D(pool_size=(2, 2), strides=(2, 2)))\n",
    "        \n",
    "\t\t# CONV => RELU => POOL\n",
    "\t\tmodel.add(Conv2D(50, kernel_size=5, padding=\"same\"))\n",
    "\t\tmodel.add(Activation(\"relu\"))\n",
    "\t\tmodel.add(MaxPooling2D(pool_size=(2, 2), strides=(2, 2)))\n",
    "        \n",
    "\t\t# Flatten => RELU layers\n",
    "\t\tmodel.add(Flatten())\n",
    "\t\tmodel.add(Dense(500))\n",
    "\t\tmodel.add(Activation(\"relu\"))\n",
    " \n",
    "\t\t# a softmax classifier\n",
    "\t\tmodel.add(Dense(classes))\n",
    "\t\tmodel.add(Activation(\"softmax\"))\n",
    "\n",
    "\t\treturn model"
   ]
  },
  {
   "cell_type": "code",
   "execution_count": 4,
   "metadata": {
    "collapsed": true
   },
   "outputs": [],
   "source": [
    "# network and training\n",
    "NB_EPOCH = 20\n",
    "BATCH_SIZE = 128\n",
    "VERBOSE = 1\n",
    "OPTIMIZER = Adam()\n",
    "VALIDATION_SPLIT=0.2\n",
    "\n",
    "IMG_ROWS, IMG_COLS = 28, 28 # input image dimensions\n",
    "NB_CLASSES = 10  # number of outputs = number of digits\n",
    "INPUT_SHAPE = (1, IMG_ROWS, IMG_COLS)"
   ]
  },
  {
   "cell_type": "code",
   "execution_count": 5,
   "metadata": {
    "collapsed": true
   },
   "outputs": [],
   "source": [
    "# data: shuffled and split between train and test sets\n",
    "(X_train, y_train), (X_test, y_test) = mnist.load_data()\n",
    "K.set_image_dim_ordering(\"th\")"
   ]
  },
  {
   "cell_type": "code",
   "execution_count": 6,
   "metadata": {
    "collapsed": true
   },
   "outputs": [],
   "source": [
    "# consider them as float and normalize\n",
    "X_train = X_train.astype('float32')\n",
    "X_test = X_test.astype('float32')\n",
    "X_train /= 255 \n",
    "X_test /= 255  "
   ]
  },
  {
   "cell_type": "code",
   "execution_count": 7,
   "metadata": {},
   "outputs": [
    {
     "name": "stdout",
     "output_type": "stream",
     "text": [
      "60000 train samples\n",
      "10000 test samples\n"
     ]
    }
   ],
   "source": [
    "# we need a 60K x [1 x 28 x 28] shape as input to the CONVNET\n",
    "X_train = X_train[:, np.newaxis, :, :]\n",
    "X_test = X_test[:, np.newaxis, :, :]\n",
    "\n",
    "print(X_train.shape[0], 'train samples')\n",
    "print(X_test.shape[0], 'test samples')"
   ]
  },
  {
   "cell_type": "code",
   "execution_count": 8,
   "metadata": {
    "collapsed": true
   },
   "outputs": [],
   "source": [
    "# convert class vectors to binary class matrices\n",
    "y_train = np_utils.to_categorical(y_train, NB_CLASSES)\n",
    "y_test = np_utils.to_categorical(y_test, NB_CLASSES)"
   ]
  },
  {
   "cell_type": "code",
   "execution_count": 9,
   "metadata": {},
   "outputs": [
    {
     "name": "stdout",
     "output_type": "stream",
     "text": [
      "Train on 48000 samples, validate on 12000 samples\n",
      "Epoch 1/20\n",
      "48000/48000 [==============================] - 210s - loss: 0.1853 - acc: 0.9439 - val_loss: 0.0624 - val_acc: 0.9802\n",
      "Epoch 2/20\n",
      "48000/48000 [==============================] - 220s - loss: 0.0521 - acc: 0.9838 - val_loss: 0.0458 - val_acc: 0.9858\n",
      "Epoch 3/20\n",
      "48000/48000 [==============================] - 234s - loss: 0.0343 - acc: 0.9894 - val_loss: 0.0386 - val_acc: 0.9881\n",
      "Epoch 4/20\n",
      "48000/48000 [==============================] - 209s - loss: 0.0237 - acc: 0.9925 - val_loss: 0.0452 - val_acc: 0.9865\n",
      "Epoch 5/20\n",
      "48000/48000 [==============================] - 201s - loss: 0.0193 - acc: 0.9938 - val_loss: 0.0371 - val_acc: 0.9888\n",
      "Epoch 6/20\n",
      "48000/48000 [==============================] - 201s - loss: 0.0128 - acc: 0.9959 - val_loss: 0.0398 - val_acc: 0.9883\n",
      "Epoch 7/20\n",
      "48000/48000 [==============================] - 200s - loss: 0.0114 - acc: 0.9962 - val_loss: 0.0428 - val_acc: 0.9872\n",
      "Epoch 8/20\n",
      "48000/48000 [==============================] - 203s - loss: 0.0098 - acc: 0.9969 - val_loss: 0.0431 - val_acc: 0.9892\n",
      "Epoch 9/20\n",
      "48000/48000 [==============================] - 201s - loss: 0.0092 - acc: 0.9967 - val_loss: 0.0367 - val_acc: 0.9899\n",
      "Epoch 10/20\n",
      "48000/48000 [==============================] - 199s - loss: 0.0070 - acc: 0.9976 - val_loss: 0.0363 - val_acc: 0.9898\n",
      "Epoch 11/20\n",
      "48000/48000 [==============================] - 199s - loss: 0.0066 - acc: 0.9980 - val_loss: 0.0395 - val_acc: 0.9903\n",
      "Epoch 12/20\n",
      "48000/48000 [==============================] - 678s - loss: 0.0045 - acc: 0.9985 - val_loss: 0.0533 - val_acc: 0.9880\n",
      "Epoch 13/20\n",
      "48000/48000 [==============================] - 199s - loss: 0.0071 - acc: 0.9979 - val_loss: 0.0447 - val_acc: 0.9899\n",
      "Epoch 14/20\n",
      "48000/48000 [==============================] - 198s - loss: 0.0070 - acc: 0.9978 - val_loss: 0.0609 - val_acc: 0.9866\n",
      "Epoch 15/20\n",
      "48000/48000 [==============================] - 206s - loss: 0.0054 - acc: 0.9980 - val_loss: 0.0526 - val_acc: 0.9897\n",
      "Epoch 16/20\n",
      "48000/48000 [==============================] - 211s - loss: 0.0043 - acc: 0.9986 - val_loss: 0.0465 - val_acc: 0.9901\n",
      "Epoch 17/20\n",
      "48000/48000 [==============================] - 208s - loss: 0.0054 - acc: 0.9980 - val_loss: 0.0413 - val_acc: 0.9909\n",
      "Epoch 18/20\n",
      "48000/48000 [==============================] - 214s - loss: 0.0028 - acc: 0.9993 - val_loss: 0.0450 - val_acc: 0.9903\n",
      "Epoch 19/20\n",
      "48000/48000 [==============================] - 545s - loss: 0.0032 - acc: 0.9991 - val_loss: 0.0413 - val_acc: 0.9911\n",
      "Epoch 20/20\n",
      "48000/48000 [==============================] - 212s - loss: 0.0049 - acc: 0.9983 - val_loss: 0.0450 - val_acc: 0.9903\n",
      " 9984/10000 [============================>.] - ETA: 0s\n",
      "Test score: 0.0378379275934\n",
      "Test accuracy: 0.9907\n"
     ]
    }
   ],
   "source": [
    "# initialize the optimizer and model\n",
    "model = LeNet.build(input_shape=INPUT_SHAPE, classes=NB_CLASSES)\n",
    "model.compile(loss=\"categorical_crossentropy\", optimizer=OPTIMIZER,\n",
    "\tmetrics=[\"accuracy\"])\n",
    "\n",
    "history = model.fit(X_train, y_train, \n",
    "\t\tbatch_size=BATCH_SIZE, epochs=NB_EPOCH, \n",
    "\t\tverbose=VERBOSE, validation_split=VALIDATION_SPLIT)\n",
    "\n",
    "score = model.evaluate(X_test, y_test, verbose=VERBOSE)\n",
    "print(\"\\nTest score:\", score[0])\n",
    "print('Test accuracy:', score[1])"
   ]
  },
  {
   "cell_type": "code",
   "execution_count": 10,
   "metadata": {},
   "outputs": [
    {
     "name": "stdout",
     "output_type": "stream",
     "text": [
      "dict_keys(['val_loss', 'val_acc', 'loss', 'acc'])\n"
     ]
    },
    {
     "data": {
      "image/png": "[encoded data removed]",
      "text/plain": [
       "<matplotlib.figure.Figure at 0x10362b6d8>"
      ]
     },
     "metadata": {},
     "output_type": "display_data"
    },
    {
     "data": {
      "image/png": "[encoded data removed]",
      "text/plain": [
       "<matplotlib.figure.Figure at 0x125258470>"
      ]
     },
     "metadata": {},
     "output_type": "display_data"
    }
   ],
   "source": [
    "# list all data in history\n",
    "print(history.history.keys())\n",
    "# summarize history for accuracy\n",
    "plt.plot(history.history['acc'])\n",
    "plt.plot(history.history['val_acc'])\n",
    "plt.title('model accuracy')\n",
    "plt.ylabel('accuracy')\n",
    "plt.xlabel('epoch')\n",
    "plt.legend(['train', 'test'], loc='upper left')\n",
    "plt.show()\n",
    "# summarize history for loss\n",
    "plt.plot(history.history['loss'])\n",
    "plt.plot(history.history['val_loss'])\n",
    "plt.title('model loss')\n",
    "plt.ylabel('loss')\n",
    "plt.xlabel('epoch')\n",
    "plt.legend(['train', 'test'], loc='upper left')\n",
    "plt.show()"
   ]
  },
  {
   "cell_type": "code",
   "execution_count": null,
   "metadata": {
    "collapsed": true
   },
   "outputs": [],
   "source": []
  }
 ],
 "metadata": {
  "kernelspec": {
   "display_name": "Python 3",
   "language": "python",
   "name": "python3"
  },
  "language_info": {
   "codemirror_mode": {
    "name": "ipython",
    "version": 3
   },
   "file_extension": ".py",
   "mimetype": "text/x-python",
   "name": "python",
   "nbconvert_exporter": "python",
   "pygments_lexer": "ipython3",
   "version": "3.6.0"
  }
 },
 "nbformat": 4,
 "nbformat_minor": 2
}
