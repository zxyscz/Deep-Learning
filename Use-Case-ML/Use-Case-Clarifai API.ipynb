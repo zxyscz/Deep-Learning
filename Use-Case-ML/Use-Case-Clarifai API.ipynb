{
 "cells": [
  {
   "cell_type": "code",
   "execution_count": 1,
   "metadata": {
    "collapsed": true
   },
   "outputs": [],
   "source": [
    "from clarifai.rest import ClarifaiApp"
   ]
  },
  {
   "cell_type": "code",
   "execution_count": 2,
   "metadata": {},
   "outputs": [
    {
     "name": "stderr",
     "output_type": "stream",
     "text": [
      "Hey! Clarifai Python Client v2.0.28 upgrade available.\n"
     ]
    }
   ],
   "source": [
    "app =  ClarifaiApp(app_id = 'zC_PXO1fqZsdJPcxubSG9R6f-pttJmntIncmToES', app_secret = 'QujCgxBW4_Mc_gk69tti62wr7KwsDX-n8WRYIfWi')"
   ]
  },
  {
   "cell_type": "code",
   "execution_count": 3,
   "metadata": {},
   "outputs": [
    {
     "data": {
      "text/plain": [
       "{'outputs': [{'created_at': '2017-06-23T14:21:30.615969872Z',\n",
       "   'data': {'concepts': [{'app_id': 'main',\n",
       "      'id': 'ai_RQccV41p',\n",
       "      'name': 'woman',\n",
       "      'value': 0.99339616},\n",
       "     {'app_id': 'main',\n",
       "      'id': 'ai_LsV8BTbr',\n",
       "      'name': 'pretty',\n",
       "      'value': 0.98956394},\n",
       "     {'app_id': 'main',\n",
       "      'id': 'ai_4CRlSvbV',\n",
       "      'name': 'cute',\n",
       "      'value': 0.9891565},\n",
       "     {'app_id': 'main',\n",
       "      'id': 'ai_rxcHpHks',\n",
       "      'name': 'isolated',\n",
       "      'value': 0.98679304},\n",
       "     {'app_id': 'main',\n",
       "      'id': 'ai_kRSBxV6q',\n",
       "      'name': 'casual',\n",
       "      'value': 0.9852389},\n",
       "     {'app_id': 'main',\n",
       "      'id': 'ai_dngMN46t',\n",
       "      'name': 'fashion',\n",
       "      'value': 0.9750127},\n",
       "     {'app_id': 'main',\n",
       "      'id': 'ai_BpnQsTtg',\n",
       "      'name': 'young',\n",
       "      'value': 0.96743774},\n",
       "     {'app_id': 'main',\n",
       "      'id': 'ai_lPcW4tSX',\n",
       "      'name': 'adolescent',\n",
       "      'value': 0.9673058},\n",
       "     {'app_id': 'main',\n",
       "      'id': 'ai_9fQBzNBM',\n",
       "      'name': 'looking',\n",
       "      'value': 0.9655409},\n",
       "     {'app_id': 'main',\n",
       "      'id': 'ai_FfmbCV0T',\n",
       "      'name': 'friendly',\n",
       "      'value': 0.9618295},\n",
       "     {'app_id': 'main',\n",
       "      'id': 'ai_SVshtN54',\n",
       "      'name': 'one',\n",
       "      'value': 0.9570815},\n",
       "     {'app_id': 'main',\n",
       "      'id': 'ai_TJ9wFfK5',\n",
       "      'name': 'portrait',\n",
       "      'value': 0.949414},\n",
       "     {'app_id': 'main',\n",
       "      'id': 'ai_5B7J7fdF',\n",
       "      'name': 'model',\n",
       "      'value': 0.9440278},\n",
       "     {'app_id': 'main',\n",
       "      'id': 'ai_Q4tsR9mS',\n",
       "      'name': 'studio',\n",
       "      'value': 0.9352007},\n",
       "     {'app_id': 'main',\n",
       "      'id': 'ai_rpx8H4Mn',\n",
       "      'name': 'sexy',\n",
       "      'value': 0.934812},\n",
       "     {'app_id': 'main',\n",
       "      'id': 'ai_RwbC1xvD',\n",
       "      'name': 'attractive',\n",
       "      'value': 0.9314594},\n",
       "     {'app_id': 'main',\n",
       "      'id': 'ai_xQbBc1zb',\n",
       "      'name': 'girl',\n",
       "      'value': 0.9247463},\n",
       "     {'app_id': 'main',\n",
       "      'id': 'ai_vz98nDK9',\n",
       "      'name': 'beautiful',\n",
       "      'value': 0.9211956},\n",
       "     {'app_id': 'main',\n",
       "      'id': 'ai_5Nh58JzD',\n",
       "      'name': 'joy',\n",
       "      'value': 0.89838207},\n",
       "     {'app_id': 'main',\n",
       "      'id': 'ai_FBq4rrC1',\n",
       "      'name': 'charming',\n",
       "      'value': 0.8982897}]},\n",
       "   'id': 'c262e7729a214c2baf7bf47761b7104a',\n",
       "   'input': {'data': {'image': {'base64': 'true',\n",
       "      'url': 'https://s3.amazonaws.com/clarifai-api/img2/prod/small/a3ef2b9c179845e5a47a9c4c926e4ac7/a8dc5964649c4a8f994e68912abf031e.jpeg'}},\n",
       "    'id': 'ea8ea43eb7f347fa940aab58575eef94'},\n",
       "   'model': {'app_id': 'main',\n",
       "    'created_at': '2016-03-09T17:11:39.608845Z',\n",
       "    'id': 'aaa03c23b3724a16a56b629203edc62c',\n",
       "    'model_version': {'created_at': '2016-07-13T01:19:12.147644Z',\n",
       "     'id': 'aa9ca48295b37401f8af92ad1af0d91d',\n",
       "     'status': {'code': 21100, 'description': 'Model trained successfully'}},\n",
       "    'name': 'general-v1.3',\n",
       "    'output_info': {'message': 'Show output_info with: GET /models/{model_id}/output_info',\n",
       "     'type': 'concept',\n",
       "     'type_ext': 'concept'}},\n",
       "   'status': {'code': 10000, 'description': 'Ok'}}],\n",
       " 'status': {'code': 10000, 'description': 'Ok'}}"
      ]
     },
     "execution_count": 3,
     "metadata": {},
     "output_type": "execute_result"
    }
   ],
   "source": [
    "model = app.models.get(\"general-v1.3\")\n",
    "#model.predict_by_url(url='https://samples.clarifai.com/metro-north.jpg')\n",
    "model.predict_by_filename(\"./test_jpg/img1.jpg\")"
   ]
  },
  {
   "cell_type": "code",
   "execution_count": null,
   "metadata": {
    "collapsed": true
   },
   "outputs": [],
   "source": []
  }
 ],
 "metadata": {
  "kernelspec": {
   "display_name": "Python 3",
   "language": "python",
   "name": "python3"
  },
  "language_info": {
   "codemirror_mode": {
    "name": "ipython",
    "version": 3
   },
   "file_extension": ".py",
   "mimetype": "text/x-python",
   "name": "python",
   "nbconvert_exporter": "python",
   "pygments_lexer": "ipython3",
   "version": "3.6.2"
  }
 },
 "nbformat": 4,
 "nbformat_minor": 2
}
